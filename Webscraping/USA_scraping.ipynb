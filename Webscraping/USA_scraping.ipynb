{
 "cells": [
  {
   "cell_type": "markdown",
   "id": "9254bdfe-b05d-421c-aefe-bcdaa9d82a71",
   "metadata": {},
   "source": [
    "# SCRAPING - USA "
   ]
  },
  {
   "cell_type": "markdown",
   "id": "1065fc92-29c9-412b-a8fc-5ec45cc7da69",
   "metadata": {},
   "source": [
    "## PREPROCESSING"
   ]
  },
  {
   "cell_type": "code",
   "execution_count": 2,
   "id": "ef848246-50c5-41e6-b41d-b080a89c989e",
   "metadata": {},
   "outputs": [],
   "source": [
    "import requests\n",
    "import time\n",
    "import tqdm\n",
    "import pandas as pd\n",
    "import os\n",
    "import jsonc\n",
    "from selenium.webdriver.common.by import By\n",
    "from selenium.webdriver.support.ui import WebDriverWait\n",
    "from selenium.webdriver.support import expected_conditions as EC\n",
    "import time\n",
    "from tqdm import tqdm\n",
    "from selenium import webdriver\n",
    "from selenium.webdriver.chrome.service import Service\n",
    "from webdriver_manager.chrome import ChromeDriverManager\n",
    "from selenium.webdriver.chrome.options import Options\n",
    "from bs4 import BeautifulSoup\n",
    "import pandas as pd"
   ]
  },
  {
   "cell_type": "code",
   "execution_count": null,
   "id": "d277afb8-03d8-451c-8784-0a0f507b99fa",
   "metadata": {},
   "outputs": [],
   "source": []
  },
  {
   "cell_type": "code",
   "execution_count": 74,
   "id": "f593eaa2-5d4b-40c9-a1b7-7c496d6ad58a",
   "metadata": {},
   "outputs": [],
   "source": [
    "links = []\n",
    "for page in range(1, 420):\n",
    "    url = f'https://abcnews.go.com/search?searchtext=stock%2520index%2520500&type=Story&section=Business&sort=date&page={page}'\n",
    "    links.append(url)"
   ]
  },
  {
   "cell_type": "code",
   "execution_count": 81,
   "id": "5ee3acb0-df2f-4a91-868b-35d6f766044a",
   "metadata": {},
   "outputs": [],
   "source": [
    "# Define the log function to gather the log information\n",
    "def log(response,logfile,output_path=os.getcwd()):\n",
    "  # Open or create the csv file\n",
    "    if os.path.isfile(logfile): #If the log file exists, open it and allow for changes     \n",
    "        log = open(logfile,'a')\n",
    "    else: #If the log file does not exist, create it and make headers for the log variables\n",
    "        log = open(logfile,'w')\n",
    "        header = ['timestamp','status_code','length','output_file']\n",
    "        log.write(';'.join(header) + \"\\n\") #Make the headers and jump to new line\n",
    "        \n",
    "    # Gather log information\n",
    "    status_code = response.status_code #Status code from the request result\n",
    "    timestamp = time.strftime('%Y-%m-%d %H:%M:%S', time.localtime(time.time())) #Local time\n",
    "    length = len(response.text) #Length of the HTML-string\n",
    "    \n",
    "    # Open the log file and append the gathered log information\n",
    "    with open(logfile,'a') as log:\n",
    "        log.write(f'{timestamp};{status_code};{length};{output_path}' + \"\\n\") #Append the information and jump to new line"
   ]
  },
  {
   "cell_type": "markdown",
   "id": "bdfc3c99-816e-4b0d-8579-4e0c9f1e3137",
   "metadata": {},
   "source": [
    "# ABC NEWS"
   ]
  },
  {
   "cell_type": "markdown",
   "id": "e232d22e-e144-4e4c-8c5e-5774c223b41d",
   "metadata": {},
   "source": [
    "## 1. Getting article urls"
   ]
  },
  {
   "cell_type": "markdown",
   "id": "637e62dc-e59a-47f1-b182-83a8f126bcce",
   "metadata": {},
   "source": [
    "### Using Selenium\n",
    "Because the website i was trying to scrape was JavaScript-Rendered (meaning loaded dynamically via JavaScript) after the initial page load. In these cases, requests alone won't be able to retrieve the HTML, because it only fetches the raw HTML before any JavaScript has executed.\n",
    "\n",
    "Therefore we use use Selenium which can simulate a full browser environment and execute JavaScript, allowing , us to scrape the rendered HTML - after JavaScript."
   ]
  },
  {
   "cell_type": "markdown",
   "id": "7c6dcd29-48c9-440d-8a58-a02e3d409194",
   "metadata": {},
   "source": [
    "### Part 1: Scraping the Pages\n",
    "This code handles scraping using Selenium to retrieve the raw HTML from multiple URLs."
   ]
  },
  {
   "cell_type": "code",
   "execution_count": null,
   "id": "b624db1d-b5ef-4c6f-b086-04e93a4f85f2",
   "metadata": {},
   "outputs": [],
   "source": [
    "# Set up Chrome options (headless mode)\n",
    "chrome_options = Options()\n",
    "chrome_options.add_argument(\"--headless\")\n",
    "\n",
    "# Set up the WebDriver\n",
    "service = Service(ChromeDriverManager().install())\n",
    "driver = webdriver.Chrome(service=service, options=chrome_options)\n",
    "\n",
    "# List of URLs to scrape\n",
    "links = []\n",
    "\n",
    "for page in range(1, 420):\n",
    "    url = f'https://abcnews.go.com/search?searchtext=stock%2520index%2520500&type=Story&section=Business&sort=date&page={page}'\n",
    "    links.append(url)\n",
    "\n",
    "# Empty list to store the raw HTML pages\n",
    "raw_html_list = []\n",
    "\n",
    "# Loop through each URL to scrape with a progress bar and sleep\n",
    "for url in tqdm(links, desc=\"Scraping Progress\", unit=\"page\"):\n",
    "    driver.get(url)\n",
    "    \n",
    "    # Explicit wait for the content to load fully by waiting for the articles to be present\n",
    "    try:\n",
    "        WebDriverWait(driver, 15).until(\n",
    "            EC.presence_of_element_located((By.CSS_SELECTOR, 'section.ContentRoll__Item'))\n",
    "        )\n",
    "    except Exception as e:\n",
    "        print(f\"Error loading content for {url}: {str(e)}\")\n",
    "        continue\n",
    "    \n",
    "    # After waiting, capture the page source (rendered HTML)\n",
    "    html = driver.page_source\n",
    "    raw_html_list.append(html)\n",
    "    \n",
    "    # Sleep for 5 seconds between each request to avoid overwhelming the server\n",
    "    time.sleep(5)\n",
    "\n",
    "# Close the WebDriver\n",
    "driver.quit()"
   ]
  },
  {
   "cell_type": "markdown",
   "id": "361ac186-cea6-4591-8334-e954b038fda8",
   "metadata": {},
   "source": [
    "### Part 2: Parsing and Extraction\n",
    "This code takes the list of raw HTML pages, parses them, and extracts the necessary data (title, URL, and date)."
   ]
  },
  {
   "cell_type": "code",
   "execution_count": null,
   "id": "5af77d9c-6fc0-4f62-9408-7a1c19c204ee",
   "metadata": {
    "scrolled": true
   },
   "outputs": [],
   "source": [
    "# Parsing and Extraction Part\n",
    "# List to store the extracted data\n",
    "extracted_data = []\n",
    "\n",
    "# Loop through the raw HTML pages and extract information\n",
    "for idx, html in enumerate(raw_html_list):\n",
    "    soup = BeautifulSoup(html, 'html.parser')\n",
    "    \n",
    "    # Debugging: Check if each HTML page is being processed\n",
    "    print(f\"Processing page {idx + 1}/{len(raw_html_list)}\")\n",
    "\n",
    "    # Select the article sections based on the correct CSS selector\n",
    "    articles = soup.select('section.ContentRoll__Item')\n",
    "    \n",
    "    if not articles:\n",
    "        # Debugging: If no articles are found, log it\n",
    "        print(f\"No articles found on page {idx + 1}\")\n",
    "    \n",
    "    # Loop through each article found in the current page's HTML\n",
    "    for article in articles:\n",
    "        # Extract the title and url element\n",
    "        title_element = article.select_one('div.ContentRoll__Headline h2 a.AnchorLink')\n",
    "        date_element = article.select_one('div.ContentRoll__TimeStamp')\n",
    "        \n",
    "        # Safely extract the text and href if elements exist\n",
    "        title = title_element.get_text() if title_element else None\n",
    "        url = title_element.get('href') if title_element else None\n",
    "        date = date_element.get_text() if date_element else None\n",
    "        \n",
    "        # Append extracted data to the list if all elements are present\n",
    "        if title and url and date:  # Ensure we have valid data\n",
    "            extracted_data.append({\n",
    "                'Title': title,\n",
    "                'URL': url,\n",
    "                'Date': date\n",
    "            })"
   ]
  },
  {
   "cell_type": "markdown",
   "id": "1eaff72c-086d-4f6b-bb18-eef5ab134833",
   "metadata": {},
   "source": [
    "### Part 3: DataFrame convertion\n",
    "This code takes the extracted data and converts it into a Pandas DataFrame."
   ]
  },
  {
   "cell_type": "code",
   "execution_count": 90,
   "id": "ef12d59c-0e92-433a-a943-8d9eac10074c",
   "metadata": {},
   "outputs": [],
   "source": [
    "import pandas as pd\n",
    "\n",
    "# Create a DataFrame from the extracted data\n",
    "df = pd.DataFrame(extracted_data)\n",
    "df\n",
    "\n",
    "# Save to a CSV or Excel file\n",
    "df.to_csv('abc_scraped_articles_urls.csv', index=False)"
   ]
  },
  {
   "cell_type": "code",
   "execution_count": null,
   "id": "69299731-86b4-4054-bee0-9edee2b17ae3",
   "metadata": {},
   "outputs": [],
   "source": []
  },
  {
   "cell_type": "markdown",
   "id": "6a76a671-677e-4c58-ac4c-b71bd51936b8",
   "metadata": {},
   "source": [
    "## 2. Text extraction"
   ]
  },
  {
   "cell_type": "code",
   "execution_count": null,
   "id": "51ddf1eb-187c-48a8-a0ec-558d44216eb4",
   "metadata": {
    "scrolled": true
   },
   "outputs": [],
   "source": [
    "# Assuming article_urls is your list containing the URLs\n",
    "article_texts = []\n",
    "\n",
    "# Loop through each URL in the list\n",
    "for index, url in tqdm(enumerate(article_urls), total=len(article_urls), desc=\"Scraping articles\"):\n",
    "    try:\n",
    "        # Sleep for a while to avoid overwhelming the server\n",
    "        time.sleep(2)  # Sleep for 2 seconds, adjust if needed\n",
    "\n",
    "  c      # Send a GET request to the URL\n",
    "        response = requests.get(url)\n",
    "        response.raise_for_status()  # Ensure the request was successful\n",
    "\n",
    "        # Parse the HTML content\n",
    "        soup = BeautifulSoup(response.text, 'html.parser')\n",
    "\n",
    "        # Extracting the content within the article__content-container div\n",
    "        article_text = \"\"\n",
    "\n",
    "        # Find the div TEXT'\n",
    "        content_div = soup.find('div', {'data-testid': 'prism-article-body'})\n",
    "\n",
    "        if content_div:\n",
    "            # Iterate through all paragraphs or other elements within the content container\n",
    "            paragraphs = content_div.find_all('p')\n",
    "            for paragraph in paragraphs:\n",
    "                article_text += paragraph.get_text(separator=\" \", strip=True) + \" \"\n",
    "\n",
    "        # Append the extracted article text to the list\n",
    "        article_texts.append(article_text.strip())\n",
    "\n",
    "    except requests.RequestException as e:\n",
    "        print(f\"Failed to retrieve {url}: {e}\")\n",
    "        article_texts.append(None)\n",
    "\n",
    "\n",
    "# Display the article texts: \n",
    "print(article_texts)"
   ]
  },
  {
   "cell_type": "markdown",
   "id": "da94467f-3479-48de-b349-606d5f9c92f0",
   "metadata": {},
   "source": [
    "### Creating a dataframe with the urls and corresponding article texts: "
   ]
  },
  {
   "cell_type": "code",
   "execution_count": null,
   "id": "ffb34006-1253-4d90-b91e-7a9f49826c39",
   "metadata": {},
   "outputs": [],
   "source": [
    "# Create a DataFrame with the URLs and corresponding article texts\n",
    "df2 = pd.DataFrame({\n",
    "    'URL': article_urls,\n",
    "    'article_text': article_texts\n",
    "})\n",
    "\n",
    "# Display the DataFrame with article texts\n",
    "df2.iloc[609,1]"
   ]
  },
  {
   "cell_type": "markdown",
   "id": "421e2a5a-0455-4f47-b440-059c2da3d501",
   "metadata": {},
   "source": [
    "### Merging and saving"
   ]
  },
  {
   "cell_type": "code",
   "execution_count": 89,
   "id": "b5e6c066-6b42-4232-81cb-4633ba084219",
   "metadata": {},
   "outputs": [],
   "source": [
    "full_df = pd.merge(df1, df2, on='URL', how='inner')  # Use 'inner' for inner join, can be changed to 'left', 'right', or 'outer'\n",
    "\n",
    "# Making a source variable indicating the ource of the articles: \n",
    "full_df['source'] = 'ABCNews'\n",
    "\n",
    "full_df.to_csv('ABC_full_data.csv', index=False)  # Set index=False to prevent saving the index as a column"
   ]
  },
  {
   "cell_type": "markdown",
   "id": "e8d4287f-5503-437f-896b-42e7ea412ee7",
   "metadata": {},
   "source": [
    "# CNN News"
   ]
  },
  {
   "cell_type": "markdown",
   "id": "e3ad60a2-06fe-405d-ba34-34ac1afcdaf7",
   "metadata": {
    "jp-MarkdownHeadingCollapsed": true
   },
   "source": [
    "## 1. Getting article urls"
   ]
  },
  {
   "cell_type": "code",
   "execution_count": 3,
   "id": "cd7558c0-cdf7-415d-b6ea-0c220f02cef6",
   "metadata": {},
   "outputs": [],
   "source": [
    "url1 = f'https://search.prod.di.api.cnn.io/content?q=stock%20index%20500&size=10&from=0&page=1&sort=newest&request_id=pdx-search-fd6e2feb-363d-4f38-b1c1-da546343d15e'\n",
    "headers = {'name':'Asta Thit Kettel', 'from':'ucph','email':'dnp@ku.dk'}\n",
    "response1 = requests.get(url1, headers)\n",
    "results1 = response1.json()\n",
    "result_articles1 = results1['result']\n",
    "data1 = pd.DataFrame(result_articles1)"
   ]
  },
  {
   "cell_type": "code",
   "execution_count": 5,
   "id": "b7c5fe97-9e30-4e71-872c-887df6d2e4a3",
   "metadata": {},
   "outputs": [],
   "source": [
    "url2 = f'https://search.prod.di.api.cnn.io/content?q=stock%20index%20500&size=10&from=10&page=2&sort=newest&request_id=pdx-search-24d769df-ebb4-490e-8188-1f7843a4af8d'\n",
    "headers = {'name':'Asta Thit Kettel', 'from':'ucph','email':'dnp@ku.dk'}\n",
    "response2 = requests.get(url2, headers)\n",
    "results2 = response2.json()\n",
    "result_articles2 = results2['result']\n",
    "data2 = pd.DataFrame(result_articles2)"
   ]
  },
  {
   "cell_type": "code",
   "execution_count": 7,
   "id": "dcf83a49-03f8-4d3c-bbd5-44ae107b6b0f",
   "metadata": {},
   "outputs": [],
   "source": [
    "url3 = f'https://search.prod.di.api.cnn.io/content?q=stock%20index%20500&size=10&from=20&page=3&sort=newest&request_id=pdx-search-ca36c098-83aa-406f-a218-72c72389cc7e'\n",
    "headers = {'name':'Asta Thit Kettel', 'from':'ucph','email':'dnp@ku.dk'}\n",
    "response3 = requests.get(url3, headers)\n",
    "results3 = response3.json()\n",
    "result_articles3 = results3['result']\n",
    "data3 = pd.DataFrame(result_articles3)"
   ]
  },
  {
   "cell_type": "code",
   "execution_count": 12,
   "id": "07690b2f-4728-4065-b3f1-7b90de7eaefb",
   "metadata": {},
   "outputs": [],
   "source": [
    "url4 = f'https://search.prod.di.api.cnn.io/content?q=stock%20index%20500&size=10&from=30&page=4&sort=newest&request_id=pdx-search-72845089-f92c-4ccc-bd10-ae0e3f9c0a90'\n",
    "headers = {'name':'Asta Thit Kettel', 'from':'ucph','email':'dnp@ku.dk'}\n",
    "response4 = requests.get(url4, headers)\n",
    "results4 = response4.json()\n",
    "result_articles4 = results4['result']\n",
    "data4 = pd.DataFrame(result_articles4)"
   ]
  },
  {
   "cell_type": "code",
   "execution_count": 15,
   "id": "b2fcc5a8-96e2-4741-9d24-c2b4d82150b0",
   "metadata": {},
   "outputs": [],
   "source": [
    "url5 = f'https://search.prod.di.api.cnn.io/content?q=stock%20index%20500&size=10&from=40&page=5&sort=newest&request_id=pdx-search-d6a8e780-c28b-4029-94a8-6ee6b7c48d63'\n",
    "headers = {'name':'Asta Thit Kettel', 'from':'ucph','email':'dnp@ku.dk'}\n",
    "response5 = requests.get(url5, headers)\n",
    "results5 = response5.json()\n",
    "result_articles5 = results5['result']\n",
    "data5 = pd.DataFrame(result_articles5)"
   ]
  },
  {
   "cell_type": "code",
   "execution_count": 18,
   "id": "5e45943d-dc67-40c1-96d7-65916c894de1",
   "metadata": {},
   "outputs": [],
   "source": [
    "url6 = f'https://search.prod.di.api.cnn.io/content?q=stock%20index%20500&size=10&from=50&page=6&sort=newest&request_id=pdx-search-f618416b-6c65-41be-8924-e95928b64e64'\n",
    "headers = {'name':'Asta Thit Kettel', 'from':'ucph','email':'dnp@ku.dk'}\n",
    "response6 = requests.get(url6, headers)\n",
    "results6 = response6.json()\n",
    "result_articles6 = results6['result']\n",
    "data6 = pd.DataFrame(result_articles6)"
   ]
  },
  {
   "cell_type": "code",
   "execution_count": 20,
   "id": "6085148c-6a35-4cc2-a0b1-5e52e2c2437c",
   "metadata": {},
   "outputs": [],
   "source": [
    "url7 = f'https://search.prod.di.api.cnn.io/content?q=stock%20index%20500&size=10&from=60&page=7&sort=newest&request_id=pdx-search-10118d6e-881f-4271-8b64-7ed16a621461'\n",
    "headers = {'name':'Asta Thit Kettel', 'from':'ucph','email':'dnp@ku.dk'}\n",
    "response7 = requests.get(url7, headers)\n",
    "results7 = response7.json()\n",
    "result_articles7 = results7['result']\n",
    "data7 = pd.DataFrame(result_articles7)"
   ]
  },
  {
   "cell_type": "code",
   "execution_count": 21,
   "id": "2d9120f3-3fb0-4918-9895-87744bca182f",
   "metadata": {},
   "outputs": [],
   "source": [
    "url8 = f'https://search.prod.di.api.cnn.io/content?q=stock%20index%20500&size=10&from=70&page=8&sort=newest&request_id=pdx-search-13b6467c-7987-4066-9905-a6cace09ddc5'\n",
    "headers = {'name':'Asta Thit Kettel', 'from':'ucph','email':'dnp@ku.dk'}\n",
    "response8 = requests.get(url8, headers)\n",
    "results8 = response8.json()\n",
    "result_articles8 = results8['result']\n",
    "data8 = pd.DataFrame(result_articles8)"
   ]
  },
  {
   "cell_type": "code",
   "execution_count": 22,
   "id": "f19ff08b-7b36-448c-86f0-3f70cfc35e99",
   "metadata": {},
   "outputs": [],
   "source": [
    "url9 = f'https://search.prod.di.api.cnn.io/content?q=stock%20index%20500&size=10&from=80&page=9&sort=newest&request_id=pdx-search-b0a544e8-35c8-4527-847d-5935ca2936d'\n",
    "headers = {'name':'Asta Thit Kettel', 'from':'ucph','email':'dnp@ku.dk'}\n",
    "response9 = requests.get(url9, headers)\n",
    "results9 = response9.json()\n",
    "result_articles9 = results9['result']\n",
    "data9 = pd.DataFrame(result_articles9)"
   ]
  },
  {
   "cell_type": "code",
   "execution_count": 23,
   "id": "581c24ee-4267-4e73-904b-5826496de9f2",
   "metadata": {},
   "outputs": [],
   "source": [
    "url10 = f'https://search.prod.di.api.cnn.io/content?q=stock%20index%20500&size=10&from=90&page=10&sort=newest&request_id=pdx-search-8c919001-c1d0-42fa-b2a5-36159f4b0ae6'\n",
    "headers = {'name':'Asta Thit Kettel', 'from':'ucph','email':'dnp@ku.dk'}\n",
    "response10 = requests.get(url10, headers)\n",
    "results10 = response10.json()\n",
    "result_articles10 = results10['result']\n",
    "data10 = pd.DataFrame(result_articles10)"
   ]
  },
  {
   "cell_type": "code",
   "execution_count": 25,
   "id": "f98f6a19-ee23-42ef-aa5d-238823d91913",
   "metadata": {},
   "outputs": [],
   "source": [
    "url11 = f'https://search.prod.di.api.cnn.io/content?q=stock%20index%20500&size=10&from=100&page=11&sort=newest&request_id=pdx-search-cb02078c-3289-44fd-bff2-90667e47f2'\n",
    "headers = {'name':'Asta Thit Kettel', 'from':'ucph','email':'dnp@ku.dk'}\n",
    "response11 = requests.get(url11, headers)\n",
    "results11 = response11.json()\n",
    "result_articles11 = results11['result']\n",
    "data11 = pd.DataFrame(result_articles11)"
   ]
  },
  {
   "cell_type": "code",
   "execution_count": 26,
   "id": "e6fdcab3-63ad-426a-9d22-fbf7cd67330c",
   "metadata": {},
   "outputs": [],
   "source": [
    "url12 = f'https://search.prod.di.api.cnn.io/content?q=stock%20index%20500&size=10&from=110&page=12&sort=newest&request_id=pdx-search-3990b7c0-9d5d-4b92-b708-f80b3959db'\n",
    "headers = {'name':'Asta Thit Kettel', 'from':'ucph','email':'dnp@ku.dk'}\n",
    "response12 = requests.get(url12, headers)\n",
    "results12 = response12.json()\n",
    "result_articles12 = results12['result']\n",
    "data12 = pd.DataFrame(result_articles12)"
   ]
  },
  {
   "cell_type": "code",
   "execution_count": 27,
   "id": "47eae4da-80ea-4e1b-b3fe-9823ecb94904",
   "metadata": {},
   "outputs": [],
   "source": [
    "url13 = f'https://search.prod.di.api.cnn.io/content?q=stock%20index%20500&size=10&from=120&page=13&sort=newest&request_id=pdx-search-86db07a0-cb96-4d71-ad86-085221783'\n",
    "headers = {'name':'Asta Thit Kettel', 'from':'ucph','email':'dnp@ku.dk'}\n",
    "response13 = requests.get(url13, headers)\n",
    "results13 = response13.json()\n",
    "result_articles13 = results13['result']\n",
    "data13 = pd.DataFrame(result_articles13)"
   ]
  },
  {
   "cell_type": "code",
   "execution_count": 29,
   "id": "02c1bf75-d4f9-44e5-ada2-8969ceb89238",
   "metadata": {},
   "outputs": [],
   "source": [
    "url14 = f'https://search.prod.di.api.cnn.io/content?q=stock%20index%20500&size=10&from=130&page=14&sort=newest&request_id=pdx-search-37799d8b-0713-41c6-9fac-546393b8b'\n",
    "headers = {'name':'Asta Thit Kettel', 'from':'ucph','email':'dnp@ku.dk'}\n",
    "response14 = requests.get(url14, headers)\n",
    "results14 = response14.json()\n",
    "result_articles14 = results14['result']\n",
    "data14 = pd.DataFrame(result_articles14)"
   ]
  },
  {
   "cell_type": "code",
   "execution_count": 31,
   "id": "f4496ff8-17ad-4b2b-9d64-ba3f33ac2fd8",
   "metadata": {},
   "outputs": [],
   "source": [
    "url15 = f'https://search.prod.di.api.cnn.io/content?q=stock%20index%20500&size=10&from=140&page=15&sort=newest&request_id=pdx-search-a65322f6-7260-4985-9dcb-05dfa4e5b6'\n",
    "headers = {'name':'Asta Thit Kettel', 'from':'ucph','email':'dnp@ku.dk'}\n",
    "response15 = requests.get(url15, headers)\n",
    "results15 = response15.json()\n",
    "result_articles15 = results15['result']\n",
    "data15 = pd.DataFrame(result_articles15)"
   ]
  },
  {
   "cell_type": "code",
   "execution_count": 32,
   "id": "9639a975-4f06-4aee-9dc8-0b64fe0a3bf2",
   "metadata": {},
   "outputs": [],
   "source": [
    "url16 = f'https://search.prod.di.api.cnn.io/content?q=stock%20index%20500&size=10&from=150&page=16&sort=newest&request_id=pdx-search-2470db95-125b-4701-9aeb-114ea3f0bf6'\n",
    "headers = {'name':'Asta Thit Kettel', 'from':'ucph','email':'dnp@ku.dk'}\n",
    "response16 = requests.get(url16, headers)\n",
    "results16 = response16.json()\n",
    "result_articles16 = results16['result']\n",
    "data16 = pd.DataFrame(result_articles16)"
   ]
  },
  {
   "cell_type": "code",
   "execution_count": 33,
   "id": "1e4434f1-e2e4-4ca2-bfad-d660abf38aea",
   "metadata": {},
   "outputs": [],
   "source": [
    "url17 = f'https://search.prod.di.api.cnn.io/content?q=stock%20index%20500&size=10&from=160&page=17&sort=newest&request_id=pdx-search-f6cf2005-5a9d-4a4b-9475-34977d34dc'\n",
    "headers = {'name':'Asta Thit Kettel', 'from':'ucph','email':'dnp@ku.dk'}\n",
    "response17 = requests.get(url17, headers)\n",
    "results17 = response17.json()\n",
    "result_articles17 = results17['result']\n",
    "data17 = pd.DataFrame(result_articles17)"
   ]
  },
  {
   "cell_type": "code",
   "execution_count": 35,
   "id": "dc7fef88-bd27-4dac-a33f-878226d550a7",
   "metadata": {},
   "outputs": [],
   "source": [
    "url18 = f'https://search.prod.di.api.cnn.io/content?q=stock%20index%20500&size=10&from=170&page=18&sort=newest&request_id=pdx-search-4065e52c-9aaa-42e1-b5ae-4309c5e0b4'\n",
    "headers = {'name':'Asta Thit Kettel', 'from':'ucph','email':'dnp@ku.dk'}\n",
    "response18 = requests.get(url18, headers)\n",
    "results18 = response18.json()\n",
    "result_articles18 = results18['result']\n",
    "data18 = pd.DataFrame(result_articles18)"
   ]
  },
  {
   "cell_type": "code",
   "execution_count": 36,
   "id": "9ca8b1e4-5e4a-4f49-b0b4-734b935a4688",
   "metadata": {},
   "outputs": [],
   "source": [
    "url19 = f'https://search.prod.di.api.cnn.io/content?q=stock%20index%20500&size=10&from=180&page=19&sort=newest&request_id=pdx-search-a72ec66e-820a-4fb9-8667-ac6d0ce894b5'\n",
    "headers = {'name':'Asta Thit Kettel', 'from':'ucph','email':'dnp@ku.dk'}\n",
    "response19 = requests.get(url19, headers)\n",
    "results19 = response19.json()\n",
    "result_articles19 = results19['result']\n",
    "data19 = pd.DataFrame(result_articles19)"
   ]
  },
  {
   "cell_type": "code",
   "execution_count": 37,
   "id": "7ee120c9-927f-4b32-8f97-eee226809efb",
   "metadata": {},
   "outputs": [],
   "source": [
    "url20 = f'https://search.prod.di.api.cnn.io/content?q=stock%20index%20500&size=10&from=190&page=20&sort=newest&request_id=pdx-search-7a621b9b-7b65-4e9b-b7b7-488c5472659c'\n",
    "headers = {'name':'Asta Thit Kettel', 'from':'ucph','email':'dnp@ku.dk'}\n",
    "response20 = requests.get(url20, headers)\n",
    "results20 = response20.json()\n",
    "result_articles20 = results20['result']\n",
    "data20 = pd.DataFrame(result_articles20)"
   ]
  },
  {
   "cell_type": "code",
   "execution_count": 38,
   "id": "b31ef89c-5838-4e5b-9ed4-8bd6673e4b37",
   "metadata": {},
   "outputs": [],
   "source": [
    "url21 = f'https://search.prod.di.api.cnn.io/content?q=stock%20index%20500&size=10&from=200&page=21&sort=newest&request_id=pdx-search-cc5f3efd-c416-49f4-862f-bb216e88836e'\n",
    "headers = {'name':'Asta Thit Kettel', 'from':'ucph','email':'dnp@ku.dk'}\n",
    "response21 = requests.get(url21, headers)\n",
    "results21 = response21.json()\n",
    "result_articles21 = results21['result']\n",
    "data21 = pd.DataFrame(result_articles21)"
   ]
  },
  {
   "cell_type": "code",
   "execution_count": 39,
   "id": "7078060f-2e2e-4b9f-b9cc-e9425a22c085",
   "metadata": {},
   "outputs": [],
   "source": [
    "url22 = f'https://search.prod.di.api.cnn.io/content?q=stock%20index%20500&size=10&from=210&page=22&sort=newest&request_id=pdx-search-c97cd8c4-993b-48d9-bfaf-ce05cf8e710'\n",
    "headers = {'name':'Asta Thit Kettel', 'from':'ucph','email':'dnp@ku.dk'}\n",
    "response22 = requests.get(url22, headers)\n",
    "results22 = response22.json()\n",
    "result_articles22 = results22['result']\n",
    "data22 = pd.DataFrame(result_articles22)"
   ]
  },
  {
   "cell_type": "code",
   "execution_count": 40,
   "id": "f2b6569d-5ed0-40b4-bb5c-3a42dc90d137",
   "metadata": {},
   "outputs": [],
   "source": [
    "url23 = f'https://search.prod.di.api.cnn.io/content?q=stock%20index%20500&size=10&from=220&page=23&sort=newest&request_id=pdx-search-0838fbfc-d194-430f-b254-b091bf485c45'\n",
    "headers = {'name':'Asta Thit Kettel', 'from':'ucph','email':'dnp@ku.dk'}\n",
    "response23 = requests.get(url23, headers)\n",
    "results23 = response23.json()\n",
    "result_articles23 = results23['result']\n",
    "data23 = pd.DataFrame(result_articles23)"
   ]
  },
  {
   "cell_type": "code",
   "execution_count": 42,
   "id": "8c1b6774-0d8d-42c5-a362-61c459208236",
   "metadata": {},
   "outputs": [],
   "source": [
    "url24 = f'https://search.prod.di.api.cnn.io/content?q=stock%20index%20500&size=10&from=230&page=24&sort=newest&request_id=pdx-search-d948a461-08f5-4f8c-ba64-616dc4257df0'\n",
    "headers = {'name':'Asta Thit Kettel', 'from':'ucph','email':'dnp@ku.dk'}\n",
    "response24 = requests.get(url24, headers)\n",
    "results24 = response24.json()\n",
    "result_articles24 = results24['result']\n",
    "data24 = pd.DataFrame(result_articles24)"
   ]
  },
  {
   "cell_type": "code",
   "execution_count": 44,
   "id": "433635d2-b9d8-44de-a0db-a553bf1a93b6",
   "metadata": {},
   "outputs": [],
   "source": [
    "url25 = f'https://search.prod.di.api.cnn.io/content?q=stock%20index%20500&size=10&from=240&page=25&sort=newest&request_id=pdx-search-8bee3214-41e4-4126-9b2e-269874290b12'\n",
    "headers = {'name':'Asta Thit Kettel', 'from':'ucph','email':'dnp@ku.dk'}\n",
    "response25 = requests.get(url25, headers)\n",
    "results25 = response25.json()\n",
    "result_articles25 = results25['result']\n",
    "data25 = pd.DataFrame(result_articles25)"
   ]
  },
  {
   "cell_type": "code",
   "execution_count": 46,
   "id": "1dc42deb-8f5c-4a25-b60b-916fd32bca4a",
   "metadata": {},
   "outputs": [],
   "source": [
    "url26 = f'https://search.prod.di.api.cnn.io/content?q=stock%20index%20500&size=10&from=250&page=26&sort=newest&request_id=pdx-search-b235d5f1-5e70-4587-9fd5-1721c5e460b9'\n",
    "headers = {'name':'Asta Thit Kettel', 'from':'ucph','email':'dnp@ku.dk'}\n",
    "response26 = requests.get(url26, headers)\n",
    "results26 = response26.json()\n",
    "result_articles26 = results26['result']\n",
    "data26 = pd.DataFrame(result_articles26)"
   ]
  },
  {
   "cell_type": "code",
   "execution_count": 47,
   "id": "d442f9c3-e960-4ac2-a283-80645a45f987",
   "metadata": {},
   "outputs": [],
   "source": [
    "url27 = f'https://search.prod.di.api.cnn.io/content?q=stock%20index%20500&size=10&from=260&page=27&sort=newest&request_id=pdx-search-a78c4d50-1a29-4ef3-bac9-3b264379805a'\n",
    "headers = {'name':'Asta Thit Kettel', 'from':'ucph','email':'dnp@ku.dk'}\n",
    "response27 = requests.get(url27, headers)\n",
    "results27 = response27.json()\n",
    "result_articles27 = results27['result']\n",
    "data27 = pd.DataFrame(result_articles27)"
   ]
  },
  {
   "cell_type": "code",
   "execution_count": 48,
   "id": "1324463e-2d3f-4d68-9897-c452de7f7bae",
   "metadata": {},
   "outputs": [],
   "source": [
    "url28 = f'https://search.prod.di.api.cnn.io/content?q=stock%20index%20500&size=10&from=270&page=28&sort=newest&request_id=pdx-search-e4b74529-3750-4ee5-9231-9eb9608167b5'\n",
    "headers = {'name':'Asta Thit Kettel', 'from':'ucph','email':'dnp@ku.dk'}\n",
    "response28 = requests.get(url28, headers)\n",
    "results28 = response28.json()\n",
    "result_articles28 = results28['result']\n",
    "data28 = pd.DataFrame(result_articles28)"
   ]
  },
  {
   "cell_type": "code",
   "execution_count": 49,
   "id": "224ce0ec-6304-4550-b085-06ae30266069",
   "metadata": {},
   "outputs": [],
   "source": [
    "url29 = f'https://search.prod.di.api.cnn.io/content?q=stock%20index%20500&size=10&from=280&page=29&sort=newest&request_id=pdx-search-6cec56a1-ec1e-47f2-972b-16afb5d971f0'\n",
    "headers = {'name':'Asta Thit Kettel', 'from':'ucph','email':'dnp@ku.dk'}\n",
    "response29 = requests.get(url29, headers)\n",
    "results29 = response29.json()\n",
    "result_articles29 = results29['result']\n",
    "data29 = pd.DataFrame(result_articles29)"
   ]
  },
  {
   "cell_type": "code",
   "execution_count": 50,
   "id": "464c1bf2-d772-4f7c-8b19-7e6e9822e6d1",
   "metadata": {},
   "outputs": [],
   "source": [
    "url30 = f'https://search.prod.di.api.cnn.io/content?q=stock%20index%20500&size=10&from=290&page=30&sort=newest&request_id=pdx-search-a80a0c04-a900-4cbc-b071-84278ec2858b'\n",
    "headers = {'name':'Asta Thit Kettel', 'from':'ucph','email':'dnp@ku.dk'}\n",
    "response30 = requests.get(url30, headers)\n",
    "results30 = response30.json()\n",
    "result_articles30 = results30['result']\n",
    "data30 = pd.DataFrame(result_articles30)"
   ]
  },
  {
   "cell_type": "code",
   "execution_count": 52,
   "id": "2a01464c-3c34-4d69-a1b5-c7c3e1637ec1",
   "metadata": {},
   "outputs": [],
   "source": [
    "url31 = f'https://search.prod.di.api.cnn.io/content?q=stock%20index%20500&size=10&from=300&page=31&sort=newest&request_id=pdx-search-c1117b21-4cf6-4ade-af13-f2ee6cc4a5a7'\n",
    "headers = {'name':'Asta Thit Kettel', 'from':'ucph','email':'dnp@ku.dk'}\n",
    "response31 = requests.get(url31, headers)\n",
    "results31 = response31.json()\n",
    "result_articles31 = results31['result']\n",
    "data31 = pd.DataFrame(result_articles31)"
   ]
  },
  {
   "cell_type": "code",
   "execution_count": 53,
   "id": "94010454-4417-4339-9fcf-c5ec6445f7bb",
   "metadata": {},
   "outputs": [],
   "source": [
    "url32 = f'https://search.prod.di.api.cnn.io/content?q=stock%20index%20500&size=10&from=310&page=32&sort=newest&request_id=pdx-search-08392bea-31db-418c-b958-434ea75ff7bf'\n",
    "headers = {'name':'Asta Thit Kettel', 'from':'ucph','email':'dnp@ku.dk'}\n",
    "response32 = requests.get(url32, headers)\n",
    "results32 = response32.json()\n",
    "result_articles32 = results32['result']\n",
    "data32 = pd.DataFrame(result_articles32)"
   ]
  },
  {
   "cell_type": "code",
   "execution_count": 54,
   "id": "a27f868c-1df6-431e-91b8-ec112eba0fff",
   "metadata": {},
   "outputs": [],
   "source": [
    "url33 = f'https://search.prod.di.api.cnn.io/content?q=stock%20index%20500&size=10&from=320&page=33&sort=newest&request_id=pdx-search-dfd2302d-23a8-41f6-93ee-5b9d2217e59e'\n",
    "headers = {'name':'Asta Thit Kettel', 'from':'ucph','email':'dnp@ku.dk'}\n",
    "response33 = requests.get(url33, headers)\n",
    "results33 = response33.json()\n",
    "result_articles33 = results33['result']\n",
    "data33 = pd.DataFrame(result_articles33)"
   ]
  },
  {
   "cell_type": "code",
   "execution_count": 55,
   "id": "7b16dd64-c458-4840-a071-c15112b72b1c",
   "metadata": {},
   "outputs": [],
   "source": [
    "url34 = f'https://search.prod.di.api.cnn.io/content?q=stock%20index%20500&size=10&from=330&page=34&sort=newest&request_id=pdx-search-94c4cb60-0933-4846-b839-924d26b107b1'\n",
    "headers = {'name':'Asta Thit Kettel', 'from':'ucph','email':'dnp@ku.dk'}\n",
    "response34 = requests.get(url34, headers)\n",
    "results34 = response34.json()\n",
    "result_articles34 = results34['result']\n",
    "data34 = pd.DataFrame(result_articles34)"
   ]
  },
  {
   "cell_type": "code",
   "execution_count": 56,
   "id": "d6e14bb0-834c-458a-8193-ebaa372e2d28",
   "metadata": {},
   "outputs": [],
   "source": [
    "url35 = f'https://search.prod.di.api.cnn.io/content?q=stock%20index%20500&size=10&from=340&page=35&sort=newest&request_id=pdx-search-53cba487-f301-4002-9838-88aeed9ad0c0'\n",
    "headers = {'name':'Asta Thit Kettel', 'from':'ucph','email':'dnp@ku.dk'}\n",
    "response35 = requests.get(url35, headers)\n",
    "results35 = response35.json()\n",
    "result_articles35 = results35['result']\n",
    "data35 = pd.DataFrame(result_articles35)"
   ]
  },
  {
   "cell_type": "code",
   "execution_count": 57,
   "id": "2e2c9d07-7256-4649-988e-6712781cc22c",
   "metadata": {},
   "outputs": [],
   "source": [
    "url36 = f'https://search.prod.di.api.cnn.io/content?q=stock%20index%20500&size=10&from=350&page=36&sort=newest&request_id=pdx-search-ca12262c-1a79-42e9-9a35-001ef3a741c9'\n",
    "headers = {'name':'Asta Thit Kettel', 'from':'ucph','email':'dnp@ku.dk'}\n",
    "response36 = requests.get(url36, headers)\n",
    "results36 = response36.json()\n",
    "result_articles36 = results36['result']\n",
    "data36 = pd.DataFrame(result_articles36)"
   ]
  },
  {
   "cell_type": "code",
   "execution_count": 59,
   "id": "abe084c2-016d-49d6-a1d7-1c08a1656026",
   "metadata": {},
   "outputs": [],
   "source": [
    "url37 = f'https://search.prod.di.api.cnn.io/content?q=stock%20index%20500&size=10&from=360&page=37&sort=newest&request_id=pdx-search-4d0bd46a-8a7a-4e4a-9721-5961100529a6'\n",
    "headers = {'name':'Asta Thit Kettel', 'from':'ucph','email':'dnp@ku.dk'}\n",
    "response37 = requests.get(url37, headers)\n",
    "results37 = response37.json()\n",
    "result_articles37 = results37['result']\n",
    "data37 = pd.DataFrame(result_articles37)"
   ]
  },
  {
   "cell_type": "code",
   "execution_count": 60,
   "id": "2b167336-75dc-4f4e-9f1f-6bef8c2af620",
   "metadata": {},
   "outputs": [],
   "source": [
    "url38 = f'https://search.prod.di.api.cnn.io/content?q=stock%20index%20500&size=10&from=370&page=38&sort=newest&request_id=pdx-search-af300b69-8386-4813-90e8-ba9e7b7416f3'\n",
    "headers = {'name':'Asta Thit Kettel', 'from':'ucph','email':'dnp@ku.dk'}\n",
    "response38 = requests.get(url38, headers)\n",
    "results38 = response38.json()\n",
    "result_articles38 = results38['result']\n",
    "data38 = pd.DataFrame(result_articles38)"
   ]
  },
  {
   "cell_type": "code",
   "execution_count": 61,
   "id": "4dbe458e-fd64-45fd-b095-08232d9420be",
   "metadata": {},
   "outputs": [],
   "source": [
    "url39 = f'https://search.prod.di.api.cnn.io/content?q=stock%20index%20500&size=10&from=380&page=39&sort=newest&request_id=pdx-search-33b84a9d-496b-4fd7-a3df-891835f7d049'\n",
    "headers = {'name':'Asta Thit Kettel', 'from':'ucph','email':'dnp@ku.dk'}\n",
    "response39 = requests.get(url39, headers)\n",
    "results39 = response39.json()\n",
    "result_articles39 = results39['result']\n",
    "data39 = pd.DataFrame(result_articles39)"
   ]
  },
  {
   "cell_type": "code",
   "execution_count": 62,
   "id": "69052a09-4990-45e3-bbd4-1975cd784d3d",
   "metadata": {},
   "outputs": [],
   "source": [
    "url40 = f'https://search.prod.di.api.cnn.io/content?q=stock%20index%20500&size=10&from=390&page=40&sort=newest&request_id=pdx-search-b72d60e1-cc8a-4907-b076-55cc0b1cbd35'\n",
    "headers = {'name':'Asta Thit Kettel', 'from':'ucph','email':'dnp@ku.dk'}\n",
    "response40 = requests.get(url40, headers)\n",
    "results40 = response40.json()\n",
    "result_articles40 = results40['result']\n",
    "data40 = pd.DataFrame(result_articles40)"
   ]
  },
  {
   "cell_type": "code",
   "execution_count": 63,
   "id": "4c2ba0df-edb4-438c-b41f-0885447336ce",
   "metadata": {},
   "outputs": [],
   "source": [
    "url41 = f'https://search.prod.di.api.cnn.io/content?q=stock%20index%20500&size=10&from=400&page=41&sort=newest&request_id=pdx-search-d76e4a65-d274-46e6-b670-fdf30d32647e'\n",
    "headers = {'name':'Asta Thit Kettel', 'from':'ucph','email':'dnp@ku.dk'}\n",
    "response41 = requests.get(url41, headers)\n",
    "results41 = response41.json()\n",
    "result_articles41 = results41['result']\n",
    "data41 = pd.DataFrame(result_articles41)"
   ]
  },
  {
   "cell_type": "code",
   "execution_count": 65,
   "id": "94bafe2e-6e05-4a91-ac57-7361fc402a31",
   "metadata": {},
   "outputs": [],
   "source": [
    "url42 = f'https://search.prod.di.api.cnn.io/content?q=stock%20index%20500&size=10&from=410&page=42&sort=newest&request_id=pdx-search-6691a7a9-2b11-42b6-bca0-e4f86dad5b6f'\n",
    "headers = {'name':'Asta Thit Kettel', 'from':'ucph','email':'dnp@ku.dk'}\n",
    "response42 = requests.get(url42, headers)\n",
    "results42 = response42.json()\n",
    "result_articles42 = results42['result']\n",
    "data42 = pd.DataFrame(result_articles42)"
   ]
  },
  {
   "cell_type": "code",
   "execution_count": 66,
   "id": "b7386985-e29f-4056-b1be-545e7044f46d",
   "metadata": {},
   "outputs": [],
   "source": [
    "url43 = f'https://search.prod.di.api.cnn.io/content?q=stock%20index%20500&size=10&from=420&page=43&sort=newest&request_id=pdx-search-cab80315-c96e-4a63-a280-18df55ee0bac'\n",
    "headers = {'name':'Asta Thit Kettel', 'from':'ucph','email':'dnp@ku.dk'}\n",
    "response43 = requests.get(url43, headers)\n",
    "results43 = response43.json()\n",
    "result_articles43 = results43['result']\n",
    "data43 = pd.DataFrame(result_articles43)"
   ]
  },
  {
   "cell_type": "code",
   "execution_count": 68,
   "id": "cc0523d0-a37c-4a8e-9f03-9379378f3831",
   "metadata": {},
   "outputs": [],
   "source": [
    "url44 = f'https://search.prod.di.api.cnn.io/content?q=stock%20index%20500&size=10&from=430&page=44&sort=newest&request_id=pdx-search-ce200886-6a33-47b9-823e-b73b0bf8607c'\n",
    "headers = {'name':'Asta Thit Kettel', 'from':'ucph','email':'dnp@ku.dk'}\n",
    "response44 = requests.get(url44, headers)\n",
    "results44 = response44.json()\n",
    "result_articles44 = results44['result']\n",
    "data44 = pd.DataFrame(result_articles44)"
   ]
  },
  {
   "cell_type": "code",
   "execution_count": 69,
   "id": "2978757c-b341-43b9-a712-9aacf8ea54c7",
   "metadata": {},
   "outputs": [],
   "source": [
    "url45 = f'https://search.prod.di.api.cnn.io/content?q=stock%20index%20500&size=10&from=440&page=45&sort=newest&request_id=pdx-search-107c2472-7152-4319-a58e-479ca1620e0d'\n",
    "headers = {'name':'Asta Thit Kettel', 'from':'ucph','email':'dnp@ku.dk'}\n",
    "response45 = requests.get(url45, headers)\n",
    "results45 = response45.json()\n",
    "result_articles45 = results45['result']\n",
    "data45 = pd.DataFrame(result_articles45)"
   ]
  },
  {
   "cell_type": "code",
   "execution_count": 71,
   "id": "1602ff01-d976-4b7f-b8de-259e6a81cc3c",
   "metadata": {},
   "outputs": [],
   "source": [
    "url46 = f'https://search.prod.di.api.cnn.io/content?q=stock%20index%20500&size=10&from=450&page=46&sort=newest&request_id=pdx-search-df401f9a-2b7d-4327-8e86-cdcf1812c3a4'\n",
    "headers = {'name':'Asta Thit Kettel', 'from':'ucph','email':'dnp@ku.dk'}\n",
    "response46 = requests.get(url46, headers)\n",
    "results46 = response46.json()\n",
    "result_articles46 = results46['result']\n",
    "data46 = pd.DataFrame(result_articles46)"
   ]
  },
  {
   "cell_type": "code",
   "execution_count": 73,
   "id": "93bd1535-0553-4ae6-b051-aeb0d0d778bb",
   "metadata": {},
   "outputs": [],
   "source": [
    "url47 = f'https://search.prod.di.api.cnn.io/content?q=stock%20index%20500&size=10&from=460&page=47&sort=newest&request_id=pdx-search-8fe5216a-d0f4-4b21-9be2-88d117a289f6'\n",
    "headers = {'name':'Asta Thit Kettel', 'from':'ucph','email':'dnp@ku.dk'}\n",
    "response47 = requests.get(url47, headers)\n",
    "results47 = response47.json()\n",
    "result_articles47 = results47['result']\n",
    "data47 = pd.DataFrame(result_articles47)"
   ]
  },
  {
   "cell_type": "code",
   "execution_count": 75,
   "id": "66da3980-d13d-419e-84d3-5ae1adbefe0d",
   "metadata": {},
   "outputs": [],
   "source": [
    "url48 = f'https://search.prod.di.api.cnn.io/content?q=stock%20index%20500&size=10&from=470&page=48&sort=newest&request_id=pdx-search-f57db0f2-300e-48df-814e-1c057efaa321'\n",
    "headers = {'name':'Asta Thit Kettel', 'from':'ucph','email':'dnp@ku.dk'}\n",
    "response48 = requests.get(url48, headers)\n",
    "results48 = response48.json()\n",
    "result_articles48 = results48['result']\n",
    "data48 = pd.DataFrame(result_articles48)"
   ]
  },
  {
   "cell_type": "code",
   "execution_count": 76,
   "id": "39f91e90-01fb-4a48-9bf8-01c101cad2a0",
   "metadata": {},
   "outputs": [],
   "source": [
    "url49 = f'https://search.prod.di.api.cnn.io/content?q=stock%20index%20500&size=10&from=480&page=49&sort=newest&request_id=pdx-search-623fc2a9-7c0a-4970-95c1-fa3913f1d85f'\n",
    "headers = {'name':'Asta Thit Kettel', 'from':'ucph','email':'dnp@ku.dk'}\n",
    "response49 = requests.get(url49, headers)\n",
    "results49 = response49.json()\n",
    "result_articles49 = results49['result']\n",
    "data49 = pd.DataFrame(result_articles49)"
   ]
  },
  {
   "cell_type": "code",
   "execution_count": 78,
   "id": "133948f7-f725-4461-98c4-dd0ced26644d",
   "metadata": {},
   "outputs": [],
   "source": [
    "url50 = f'https://search.prod.di.api.cnn.io/content?q=stock%20index%20500&size=10&from=490&page=50&sort=newest&request_id=pdx-search-c70d34e2-4b28-4db9-99f5-a5eb0f08f8c8'\n",
    "headers = {'name':'Asta Thit Kettel', 'from':'ucph','email':'dnp@ku.dk'}\n",
    "response50 = requests.get(url50, headers)\n",
    "results50 = response50.json()\n",
    "result_articles50 = results50['result']\n",
    "data50 = pd.DataFrame(result_articles50)"
   ]
  },
  {
   "cell_type": "code",
   "execution_count": 80,
   "id": "1ef79652-9931-4e75-9248-39b98787fbcb",
   "metadata": {},
   "outputs": [],
   "source": [
    "url51 = f'https://search.prod.di.api.cnn.io/content?q=stock%20index%20500&size=10&from=500&page=51&sort=newest&request_id=pdx-search-2deceacf-5187-4042-87d2-d841f32de0fb'\n",
    "headers = {'name':'Asta Thit Kettel', 'from':'ucph','email':'dnp@ku.dk'}\n",
    "response51 = requests.get(url51, headers)\n",
    "results51 = response51.json()\n",
    "result_articles51 = results51['result']\n",
    "data51 = pd.DataFrame(result_articles51)"
   ]
  },
  {
   "cell_type": "code",
   "execution_count": 81,
   "id": "19f7b66e-da46-4d06-9167-2841d384bad5",
   "metadata": {},
   "outputs": [],
   "source": [
    "url52 = f'https://search.prod.di.api.cnn.io/content?q=stock%20index%20500&size=10&from=510&page=52&sort=newest&request_id=pdx-search-441787f5-b002-437d-a905-032a1a351981'\n",
    "headers = {'name':'Asta Thit Kettel', 'from':'ucph','email':'dnp@ku.dk'}\n",
    "response52 = requests.get(url52, headers)\n",
    "results52 = response52.json()\n",
    "result_articles52 = results52['result']\n",
    "data52 = pd.DataFrame(result_articles52)"
   ]
  },
  {
   "cell_type": "code",
   "execution_count": 82,
   "id": "dedc733b-8bb4-43ec-bd57-5a3033388396",
   "metadata": {},
   "outputs": [],
   "source": [
    "url53 = f'https://search.prod.di.api.cnn.io/content?q=stock%20index%20500&size=10&from=520&page=53&sort=newest&request_id=pdx-search-65ca67bc-ac70-4200-9f09-05a58f0b57bf'\n",
    "headers = {'name':'Asta Thit Kettel', 'from':'ucph','email':'dnp@ku.dk'}\n",
    "response53 = requests.get(url53, headers)\n",
    "results53 = response53.json()\n",
    "result_articles53 = results53['result']\n",
    "data53 = pd.DataFrame(result_articles53)"
   ]
  },
  {
   "cell_type": "code",
   "execution_count": 84,
   "id": "5f241c2a-12f4-4cee-8e0d-cb1eeedf3ecc",
   "metadata": {},
   "outputs": [],
   "source": [
    "url54 = f'https://search.prod.di.api.cnn.io/content?q=stock%20index%20500&size=10&from=530&page=54&sort=newest&request_id=pdx-search-51a5a80d-d517-482f-bd34-baf97c285e38'\n",
    "headers = {'name':'Asta Thit Kettel', 'from':'ucph','email':'dnp@ku.dk'}\n",
    "response54 = requests.get(url54, headers)\n",
    "results54 = response54.json()\n",
    "result_articles54 = results54['result']\n",
    "data54 = pd.DataFrame(result_articles54)"
   ]
  },
  {
   "cell_type": "code",
   "execution_count": 85,
   "id": "cb110379-3140-4390-a0b6-5bb7e31facec",
   "metadata": {},
   "outputs": [],
   "source": [
    "url55 = f'https://search.prod.di.api.cnn.io/content?q=stock%20index%20500&size=10&from=540&page=55&sort=newest&request_id=pdx-search-a43bb1f5-9d10-4da3-aaea-23752790e4f7'\n",
    "headers = {'name':'Asta Thit Kettel', 'from':'ucph','email':'dnp@ku.dk'}\n",
    "response55 = requests.get(url55, headers)\n",
    "results55 = response55.json()\n",
    "result_articles55 = results55['result']\n",
    "data55 = pd.DataFrame(result_articles55)"
   ]
  },
  {
   "cell_type": "code",
   "execution_count": 86,
   "id": "dbb4d7e8-1743-4164-accd-7333c35507e5",
   "metadata": {},
   "outputs": [],
   "source": [
    "url56 = f'https://search.prod.di.api.cnn.io/content?q=stock%20index%20500&size=10&from=550&page=56&sort=newest&request_id=pdx-search-0416bcef-a022-4f5f-bc91-a99d9982290a'\n",
    "headers = {'name':'Asta Thit Kettel', 'from':'ucph','email':'dnp@ku.dk'}\n",
    "response56 = requests.get(url56, headers)\n",
    "results56 = response56.json()\n",
    "result_articles56 = results56['result']\n",
    "data56 = pd.DataFrame(result_articles56)"
   ]
  },
  {
   "cell_type": "code",
   "execution_count": 87,
   "id": "fd716058-1ac1-45db-b46b-7b1a60a10b74",
   "metadata": {},
   "outputs": [],
   "source": [
    "url57 = f'https://search.prod.di.api.cnn.io/content?q=stock%20index%20500&size=10&from=560&page=57&sort=newest&request_id=pdx-search-9e47a44a-44f3-485e-8573-6172e92cb84a'\n",
    "headers = {'name':'Asta Thit Kettel', 'from':'ucph','email':'dnp@ku.dk'}\n",
    "response57 = requests.get(url57, headers)\n",
    "results57 = response57.json()\n",
    "result_articles57 = results57['result']\n",
    "data57 = pd.DataFrame(result_articles57)"
   ]
  },
  {
   "cell_type": "code",
   "execution_count": 88,
   "id": "19a573b1-7791-4db7-8a29-9e78117542be",
   "metadata": {},
   "outputs": [],
   "source": [
    "url58 = f'https://search.prod.di.api.cnn.io/content?q=stock%20index%20500&size=10&from=570&page=58&sort=newest&request_id=pdx-search-2b68bf47-ca11-4f5f-9c8b-48c2389431f1'\n",
    "headers = {'name':'Asta Thit Kettel', 'from':'ucph','email':'dnp@ku.dk'}\n",
    "response58 = requests.get(url58, headers)\n",
    "results58 = response58.json()\n",
    "result_articles58 = results58['result']\n",
    "data58 = pd.DataFrame(result_articles58)"
   ]
  },
  {
   "cell_type": "code",
   "execution_count": 89,
   "id": "ab38bfc3-37ce-466e-917d-96965935b8bf",
   "metadata": {},
   "outputs": [],
   "source": [
    "url59 = f'https://search.prod.di.api.cnn.io/content?q=stock%20index%20500&size=10&from=580&page=59&sort=newest&request_id=pdx-search-dd9d57a4-a541-4c76-9ceb-ca07481c78c5'\n",
    "headers = {'name':'Asta Thit Kettel', 'from':'ucph','email':'dnp@ku.dk'}\n",
    "response59 = requests.get(url59, headers)\n",
    "results59 = response59.json()\n",
    "result_articles59 = results59['result']\n",
    "data59 = pd.DataFrame(result_articles59)"
   ]
  },
  {
   "cell_type": "code",
   "execution_count": 91,
   "id": "3ddb5eed-098b-4f48-9a36-a8ddee8aa220",
   "metadata": {},
   "outputs": [],
   "source": [
    "url60 = f'https://search.prod.di.api.cnn.io/content?q=stock%20index%20500&size=10&from=590&page=60&sort=newest&request_id=pdx-search-a4fb59b9-7e92-49e3-b242-fed5bd741c3e'\n",
    "headers = {'name':'Asta Thit Kettel', 'from':'ucph','email':'dnp@ku.dk'}\n",
    "response60 = requests.get(url60, headers)\n",
    "results60 = response60.json()\n",
    "result_articles60 = results60['result']\n",
    "data60 = pd.DataFrame(result_articles60)"
   ]
  },
  {
   "cell_type": "code",
   "execution_count": 93,
   "id": "4c26946e-53a4-4866-9140-22ad0a807e49",
   "metadata": {},
   "outputs": [],
   "source": [
    "url61 = f'https://search.prod.di.api.cnn.io/content?q=stock%20index%20500&size=10&from=600&page=61&sort=newest&request_id=pdx-search-72d1ccc4-14ab-4fbc-9c55-967b82a32e52'\n",
    "headers = {'name':'Asta Thit Kettel', 'from':'ucph','email':'dnp@ku.dk'}\n",
    "response61 = requests.get(url61, headers)\n",
    "results61 = response61.json()\n",
    "result_articles61 = results61['result']\n",
    "data61 = pd.DataFrame(result_articles61)"
   ]
  },
  {
   "cell_type": "code",
   "execution_count": 94,
   "id": "6f4b2757-41fc-4ee6-8e10-328e70dc0f4f",
   "metadata": {},
   "outputs": [],
   "source": [
    "url62 = f'https://search.prod.di.api.cnn.io/content?q=stock%20index%20500&size=10&from=610&page=62&sort=newest&request_id=pdx-search-5f0cc5f8-efee-4c0f-99af-7731c9edb50d'\n",
    "headers = {'name':'Asta Thit Kettel', 'from':'ucph','email':'dnp@ku.dk'}\n",
    "response62 = requests.get(url62, headers)\n",
    "results62 = response62.json()\n",
    "result_articles62 = results62['result']\n",
    "data62 = pd.DataFrame(result_articles62)"
   ]
  },
  {
   "cell_type": "code",
   "execution_count": 97,
   "id": "8ee7e554-41f6-4b89-9b5f-202866594cce",
   "metadata": {},
   "outputs": [],
   "source": [
    "url63 = f'https://search.prod.di.api.cnn.io/content?q=stock%20index%20500&size=10&from=620&page=63&sort=newest&request_id=pdx-search-7c967a34-415a-4db6-bd2f-16a219ba7ebd'\n",
    "headers = {'name':'Asta Thit Kettel', 'from':'ucph','email':'dnp@ku.dk'}\n",
    "response63 = requests.get(url63, headers)\n",
    "results63 = response63.json()\n",
    "result_articles63 = results63['result']\n",
    "data63 = pd.DataFrame(result_articles63)"
   ]
  },
  {
   "cell_type": "code",
   "execution_count": 99,
   "id": "4cba78a4-26c3-4868-9594-c976344340be",
   "metadata": {},
   "outputs": [],
   "source": [
    "url64 = f'https://search.prod.di.api.cnn.io/content?q=stock%20index%20500&size=10&from=630&page=64&sort=newest&request_id=pdx-search-491d082f-29d1-4039-b516-8d99ee698139'\n",
    "headers = {'name':'Asta Thit Kettel', 'from':'ucph','email':'dnp@ku.dk'}\n",
    "response64 = requests.get(url64, headers)\n",
    "results64 = response64.json()\n",
    "result_articles64 = results64['result']\n",
    "data64 = pd.DataFrame(result_articles64)"
   ]
  },
  {
   "cell_type": "code",
   "execution_count": 100,
   "id": "cc0e0adc-af15-4a58-ab8a-100263b66bf9",
   "metadata": {},
   "outputs": [],
   "source": [
    "url65 = f'https://search.prod.di.api.cnn.io/content?q=stock%20index%20500&size=10&from=640&page=65&sort=newest&request_id=pdx-search-f06cbaf8-6348-4984-965e-b442445bdf66'\n",
    "headers = {'name':'Asta Thit Kettel', 'from':'ucph','email':'dnp@ku.dk'}\n",
    "response65 = requests.get(url65, headers)\n",
    "results65 = response65.json()\n",
    "result_articles65 = results65['result']\n",
    "data65 = pd.DataFrame(result_articles65)"
   ]
  },
  {
   "cell_type": "code",
   "execution_count": 102,
   "id": "28b56f04-6954-4c8b-924a-f1b9fe62c9e1",
   "metadata": {},
   "outputs": [],
   "source": [
    "url66 = f'https://search.prod.di.api.cnn.io/content?q=stock%20index%20500&size=10&from=650&page=66&sort=newest&request_id=pdx-search-a373026c-0582-4f93-9dfb-95af9be42c70'\n",
    "headers = {'name':'Asta Thit Kettel', 'from':'ucph','email':'dnp@ku.dk'}\n",
    "response66 = requests.get(url66, headers)\n",
    "results66 = response66.json()\n",
    "result_articles66 = results66['result']\n",
    "data66 = pd.DataFrame(result_articles66)"
   ]
  },
  {
   "cell_type": "code",
   "execution_count": 104,
   "id": "55ee62f1-1bd5-4b6e-bf29-9cab302a13f4",
   "metadata": {},
   "outputs": [],
   "source": [
    "url67 = f'https://search.prod.di.api.cnn.io/content?q=stock%20index%20500&size=10&from=660&page=67&sort=newest&request_id=pdx-search-a6c1cacc-7de4-472a-a267-8408848ff91d'\n",
    "headers = {'name':'Asta Thit Kettel', 'from':'ucph','email':'dnp@ku.dk'}\n",
    "response67 = requests.get(url67, headers)\n",
    "results67 = response67.json()\n",
    "result_articles67 = results67['result']\n",
    "data67 = pd.DataFrame(result_articles67)"
   ]
  },
  {
   "cell_type": "code",
   "execution_count": 106,
   "id": "f8165c5e-8cbe-4a23-b78d-af0d807ee08f",
   "metadata": {},
   "outputs": [],
   "source": [
    "url68 = f'https://search.prod.di.api.cnn.io/content?q=stock%20index%20500&size=10&from=670&page=68&sort=newest&request_id=pdx-search-2ae041f7-dfb1-491a-87f6-3e55f607ac65'\n",
    "headers = {'name':'Asta Thit Kettel', 'from':'ucph','email':'dnp@ku.dk'}\n",
    "response68 = requests.get(url68, headers)\n",
    "results68 = response68.json()\n",
    "result_articles68 = results68['result']\n",
    "data68 = pd.DataFrame(result_articles68)"
   ]
  },
  {
   "cell_type": "code",
   "execution_count": 107,
   "id": "b6843481-3417-4b93-b7c2-e0d93745636d",
   "metadata": {},
   "outputs": [],
   "source": [
    "url69 = f'https://search.prod.di.api.cnn.io/content?q=stock%20index%20500&size=10&from=680&page=69&sort=newest&request_id=pdx-search-270755f7-b0cf-4904-9a1a-466941352f6f'\n",
    "headers = {'name':'Asta Thit Kettel', 'from':'ucph','email':'dnp@ku.dk'}\n",
    "response69 = requests.get(url69, headers)\n",
    "results69 = response69.json()\n",
    "result_articles69 = results69['result']\n",
    "data69 = pd.DataFrame(result_articles69)"
   ]
  },
  {
   "cell_type": "code",
   "execution_count": 108,
   "id": "333e06b0-1484-4bcc-91e5-9b7b994194b7",
   "metadata": {},
   "outputs": [],
   "source": [
    "url70 = f'https://search.prod.di.api.cnn.io/content?q=stock%20index%20500&size=10&from=690&page=70&sort=newest&request_id=pdx-search-ac5cd839-63f9-4fef-92de-73cdf732058a'\n",
    "headers = {'name':'Asta Thit Kettel', 'from':'ucph','email':'dnp@ku.dk'}\n",
    "response70 = requests.get(url70, headers)\n",
    "results70 = response70.json()\n",
    "result_articles70 = results70['result']\n",
    "data70 = pd.DataFrame(result_articles70)"
   ]
  },
  {
   "cell_type": "code",
   "execution_count": 109,
   "id": "826b1652-6508-4a6a-a2b9-76020577200a",
   "metadata": {},
   "outputs": [],
   "source": [
    "url71 = f'https://search.prod.di.api.cnn.io/content?q=stock%20index%20500&size=10&from=700&page=71&sort=newest&request_id=pdx-search-e1014d8d-ac58-4b75-89da-57eb75678fbe'\n",
    "headers = {'name':'Asta Thit Kettel', 'from':'ucph','email':'dnp@ku.dk'}\n",
    "response71 = requests.get(url71, headers)\n",
    "results71 = response71.json()\n",
    "result_articles71 = results71['result']\n",
    "data71 = pd.DataFrame(result_articles71)"
   ]
  },
  {
   "cell_type": "code",
   "execution_count": 111,
   "id": "eb1e26c8-1532-4d89-8a40-f8fc53cd15ea",
   "metadata": {},
   "outputs": [],
   "source": [
    "url72 = f'https://search.prod.di.api.cnn.io/content?q=stock%20index%20500&size=10&from=710&page=72&sort=newest&request_id=pdx-search-fa53c7c4-6358-45dd-a05a-abd872cbed9c'\n",
    "headers = {'name':'Asta Thit Kettel', 'from':'ucph','email':'dnp@ku.dk'}\n",
    "response72 = requests.get(url72, headers)\n",
    "results72 = response72.json()\n",
    "result_articles72 = results72['result']\n",
    "data72 = pd.DataFrame(result_articles72)"
   ]
  },
  {
   "cell_type": "code",
   "execution_count": 112,
   "id": "b5718998-66da-4a97-964c-c407e5579e9a",
   "metadata": {},
   "outputs": [],
   "source": [
    "url73 = f'https://search.prod.di.api.cnn.io/content?q=stock%20index%20500&size=10&from=720&page=73&sort=newest&request_id=pdx-search-8fcb3548-7cd5-4166-90f8-252de4782f55'\n",
    "headers = {'name':'Asta Thit Kettel', 'from':'ucph','email':'dnp@ku.dk'}\n",
    "response73 = requests.get(url73, headers)\n",
    "results73 = response73.json()\n",
    "result_articles73 = results73['result']\n",
    "data73 = pd.DataFrame(result_articles73)"
   ]
  },
  {
   "cell_type": "code",
   "execution_count": 114,
   "id": "9b556e2c-cd7b-4f9f-9511-0754b32efbb8",
   "metadata": {},
   "outputs": [],
   "source": [
    "url74 = f'https://search.prod.di.api.cnn.io/content?q=stock%20index%20500&size=10&from=730&page=74&sort=newest&request_id=pdx-search-a1881d13-db83-4e32-845b-8a16a6cffe21'\n",
    "headers = {'name':'Asta Thit Kettel', 'from':'ucph','email':'dnp@ku.dk'}\n",
    "response74 = requests.get(url74, headers)\n",
    "results74 = response74.json()\n",
    "result_articles74 = results74['result']\n",
    "data74 = pd.DataFrame(result_articles74)"
   ]
  },
  {
   "cell_type": "code",
   "execution_count": 115,
   "id": "9129249f-1e1a-4164-b867-ba78d012be6c",
   "metadata": {},
   "outputs": [],
   "source": [
    "url75 = f'https://search.prod.di.api.cnn.io/content?q=stock%20index%20500&size=10&from=740&page=75&sort=newest&request_id=pdx-search-6e48e7b7-43ff-40f9-9582-2b970bc74721'\n",
    "headers = {'name':'Asta Thit Kettel', 'from':'ucph','email':'dnp@ku.dk'}\n",
    "response75 = requests.get(url75, headers)\n",
    "results75 = response75.json()\n",
    "result_articles75 = results75['result']\n",
    "data75 = pd.DataFrame(result_articles75)"
   ]
  },
  {
   "cell_type": "code",
   "execution_count": 116,
   "id": "6065e4fd-db8f-4976-adf4-aa2becc68dd1",
   "metadata": {},
   "outputs": [],
   "source": [
    "url76 = f'https://search.prod.di.api.cnn.io/content?q=stock%20index%20500&size=10&from=750&page=76&sort=newest&request_id=pdx-search-e5863e79-b3f5-44e3-8e47-10f0b2c61959'\n",
    "headers = {'name':'Asta Thit Kettel', 'from':'ucph','email':'dnp@ku.dk'}\n",
    "response76 = requests.get(url76, headers)\n",
    "results76 = response76.json()\n",
    "result_articles76 = results76['result']\n",
    "data76 = pd.DataFrame(result_articles76)"
   ]
  },
  {
   "cell_type": "code",
   "execution_count": 117,
   "id": "d2fd126a-b09f-4aad-b0c0-4117c1a4b6c5",
   "metadata": {},
   "outputs": [],
   "source": [
    "url77 = f'https://search.prod.di.api.cnn.io/content?q=stock%20index%20500&size=10&from=760&page=77&sort=newest&request_id=pdx-search-dc2500be-473d-48f3-a38d-c617e912b8fc'\n",
    "headers = {'name':'Asta Thit Kettel', 'from':'ucph','email':'dnp@ku.dk'}\n",
    "response77 = requests.get(url77, headers)\n",
    "results77 = response77.json()\n",
    "result_articles77 = results77['result']\n",
    "data77 = pd.DataFrame(result_articles77)"
   ]
  },
  {
   "cell_type": "code",
   "execution_count": 118,
   "id": "8dd5eae0-6894-41b6-92ee-8d2d4e8ada86",
   "metadata": {},
   "outputs": [],
   "source": [
    "url78 = f'https://search.prod.di.api.cnn.io/content?q=stock%20index%20500&size=10&from=770&page=78&sort=newest&request_id=pdx-search-e9566b3c-e819-4dea-8ecc-8a1c93eb09f4'\n",
    "headers = {'name':'Asta Thit Kettel', 'from':'ucph','email':'dnp@ku.dk'}\n",
    "response78 = requests.get(url78, headers)\n",
    "results78 = response78.json()\n",
    "result_articles78 = results78['result']\n",
    "data78 = pd.DataFrame(result_articles78)"
   ]
  },
  {
   "cell_type": "code",
   "execution_count": 119,
   "id": "b59f7a2e-da0d-4d86-8c1b-185ae1d6437c",
   "metadata": {},
   "outputs": [],
   "source": [
    "url79 = f'https://search.prod.di.api.cnn.io/content?q=stock%20index%20500&size=10&from=780&page=79&sort=newest&request_id=pdx-search-986ada8f-de85-4f79-8f18-db656e1515f9'\n",
    "headers = {'name':'Asta Thit Kettel', 'from':'ucph','email':'dnp@ku.dk'}\n",
    "response79 = requests.get(url79, headers)\n",
    "results79 = response79.json()\n",
    "result_articles79 = results79['result']\n",
    "data79 = pd.DataFrame(result_articles79)"
   ]
  },
  {
   "cell_type": "code",
   "execution_count": 120,
   "id": "3775fcc3-aaa7-4bb0-9240-0d9e9dfdbcb6",
   "metadata": {},
   "outputs": [],
   "source": [
    "url80 = f'https://search.prod.di.api.cnn.io/content?q=stock%20index%20500&size=10&from=790&page=80&sort=newest&request_id=pdx-search-8096fcec-e21a-4847-b78f-3385240fcae5'\n",
    "headers = {'name':'Asta Thit Kettel', 'from':'ucph','email':'dnp@ku.dk'}\n",
    "response80 = requests.get(url80, headers)\n",
    "results80 = response80.json()\n",
    "result_articles80 = results80['result']\n",
    "data80 = pd.DataFrame(result_articles80)"
   ]
  },
  {
   "cell_type": "code",
   "execution_count": 124,
   "id": "1a331c16-500a-4b43-8f50-05b5bfac5bb4",
   "metadata": {},
   "outputs": [],
   "source": [
    "url81 = f'https://search.prod.di.api.cnn.io/content?q=stock%20index%20500&size=10&from=800&page=81&sort=newest&request_id=pdx-search-8c9efbf9-2970-49b6-b68c-f91669c65318'\n",
    "headers = {'name':'Asta Thit Kettel', 'from':'ucph','email':'dnp@ku.dk'}\n",
    "response81 = requests.get(url81, headers)\n",
    "results81 = response81.json()\n",
    "result_articles81 = results81['result']\n",
    "data81 = pd.DataFrame(result_articles81)"
   ]
  },
  {
   "cell_type": "code",
   "execution_count": 126,
   "id": "1381c173-386b-48b2-af88-8ecb7236b434",
   "metadata": {},
   "outputs": [],
   "source": [
    "url82 = f'https://search.prod.di.api.cnn.io/content?q=stock%20index%20500&size=10&from=810&page=82&sort=newest&request_id=pdx-search-f6a59302-ad1b-4ea1-89d2-eeb4a8229912'\n",
    "headers = {'name':'Asta Thit Kettel', 'from':'ucph','email':'dnp@ku.dk'}\n",
    "response82 = requests.get(url82, headers)\n",
    "results82 = response82.json()\n",
    "result_articles82 = results82['result']\n",
    "data82 = pd.DataFrame(result_articles82)"
   ]
  },
  {
   "cell_type": "code",
   "execution_count": 128,
   "id": "86a3001e-c456-467c-9bd9-dbc71c9d9143",
   "metadata": {},
   "outputs": [],
   "source": [
    "url83 = f'https://search.prod.di.api.cnn.io/content?q=stock%20index%20500&size=10&from=820&page=83&sort=newest&request_id=pdx-search-e4a00123-29b3-4007-9e08-09dfdeb3fbfa'\n",
    "headers = {'name':'Asta Thit Kettel', 'from':'ucph','email':'dnp@ku.dk'}\n",
    "response83 = requests.get(url83, headers)\n",
    "results83 = response83.json()\n",
    "result_articles83 = results83['result']\n",
    "data83 = pd.DataFrame(result_articles83)"
   ]
  },
  {
   "cell_type": "code",
   "execution_count": 129,
   "id": "b6dfa0b2-5058-4247-a45e-0fef6195d249",
   "metadata": {},
   "outputs": [],
   "source": [
    "url84 = f'https://search.prod.di.api.cnn.io/content?q=stock%20index%20500&size=10&from=830&page=84&sort=newest&request_id=pdx-search-58a0befe-cb88-4a5c-9520-b770d0ca7857'\n",
    "headers = {'name':'Asta Thit Kettel', 'from':'ucph','email':'dnp@ku.dk'}\n",
    "response84 = requests.get(url84, headers)\n",
    "results84 = response84.json()\n",
    "result_articles84 = results84['result']\n",
    "data84 = pd.DataFrame(result_articles84)"
   ]
  },
  {
   "cell_type": "code",
   "execution_count": 130,
   "id": "78d32b88-745e-498d-8f83-21740156b84c",
   "metadata": {},
   "outputs": [],
   "source": [
    "url85 = f'https://search.prod.di.api.cnn.io/content?q=stock%20index%20500&size=10&from=840&page=85&sort=newest&request_id=pdx-search-160ace10-1077-4ce3-b0a2-262870647f40'\n",
    "headers = {'name':'Asta Thit Kettel', 'from':'ucph','email':'dnp@ku.dk'}\n",
    "response85 = requests.get(url85, headers)\n",
    "results85 = response85.json()\n",
    "result_articles85 = results85['result']\n",
    "data85 = pd.DataFrame(result_articles85)"
   ]
  },
  {
   "cell_type": "code",
   "execution_count": 132,
   "id": "109c66a7-349b-4321-81d5-6cbd4a45cf5d",
   "metadata": {},
   "outputs": [],
   "source": [
    "url86 = f'https://search.prod.di.api.cnn.io/content?q=stock%20index%20500&size=10&from=850&page=86&sort=newest&request_id=pdx-search-5586f0a4-6b32-40d5-b0cb-f2ad1d036d2a'\n",
    "headers = {'name':'Asta Thit Kettel', 'from':'ucph','email':'dnp@ku.dk'}\n",
    "response86 = requests.get(url86, headers)\n",
    "results86 = response86.json()\n",
    "result_articles86 = results86['result']\n",
    "data86 = pd.DataFrame(result_articles86)"
   ]
  },
  {
   "cell_type": "code",
   "execution_count": 134,
   "id": "10dc3f8e-6288-43e8-82f3-81a625bf98a0",
   "metadata": {},
   "outputs": [],
   "source": [
    "url87 = f'https://search.prod.di.api.cnn.io/content?q=stock%20index%20500&size=10&from=860&page=87&sort=newest&request_id=pdx-search-803ec669-ae2c-4b48-b40e-84178a2f9b76'\n",
    "headers = {'name':'Asta Thit Kettel', 'from':'ucph','email':'dnp@ku.dk'}\n",
    "response87 = requests.get(url87, headers)\n",
    "results87 = response87.json()\n",
    "result_articles87 = results87['result']\n",
    "data87 = pd.DataFrame(result_articles87)"
   ]
  },
  {
   "cell_type": "code",
   "execution_count": 136,
   "id": "c40779ba-73f5-4628-931b-32afe4889bdf",
   "metadata": {},
   "outputs": [],
   "source": [
    "url88 = f'https://search.prod.di.api.cnn.io/content?q=stock%20index%20500&size=10&from=870&page=88&sort=newest&request_id=pdx-search-5c292369-a436-494d-b3b4-4ceb9260aa44'\n",
    "headers = {'name':'Asta Thit Kettel', 'from':'ucph','email':'dnp@ku.dk'}\n",
    "response88 = requests.get(url88, headers)\n",
    "results88 = response88.json()\n",
    "result_articles88 = results88['result']\n",
    "data88 = pd.DataFrame(result_articles88)"
   ]
  },
  {
   "cell_type": "code",
   "execution_count": 138,
   "id": "4a0ee43a-985b-47e6-afb5-203d6b61c52c",
   "metadata": {},
   "outputs": [],
   "source": [
    "url89 = f'https://search.prod.di.api.cnn.io/content?q=stock%20index%20500&size=10&from=880&page=89&sort=newest&request_id=pdx-search-b3de25ad-74fb-4070-b6cf-85399c5b95b9'\n",
    "headers = {'name':'Asta Thit Kettel', 'from':'ucph','email':'dnp@ku.dk'}\n",
    "response89 = requests.get(url89, headers)\n",
    "results89 = response89.json()\n",
    "result_articles89 = results89['result']\n",
    "data89 = pd.DataFrame(result_articles89)"
   ]
  },
  {
   "cell_type": "code",
   "execution_count": 140,
   "id": "d4ebed5d-2d48-47d0-b8d9-ee0e47bdd953",
   "metadata": {},
   "outputs": [],
   "source": [
    "url90 = f'https://search.prod.di.api.cnn.io/content?q=stock%20index%20500&size=10&from=890&page=90&sort=newest&request_id=pdx-search-caf86ab7-7e06-4ae5-a59c-c41262538d75'\n",
    "headers = {'name':'Asta Thit Kettel', 'from':'ucph','email':'dnp@ku.dk'}\n",
    "response90 = requests.get(url90, headers)\n",
    "results90 = response90.json()\n",
    "result_articles90 = results90['result']\n",
    "data90 = pd.DataFrame(result_articles90)"
   ]
  },
  {
   "cell_type": "code",
   "execution_count": 142,
   "id": "bdd8ffb0-7bbe-4138-9c6b-6e00fc9e41ee",
   "metadata": {},
   "outputs": [],
   "source": [
    "url91 = f'https://search.prod.di.api.cnn.io/content?q=stock%20index%20500&size=10&from=900&page=91&sort=newest&request_id=pdx-search-d7d31790-0e78-48ee-b6ec-996c8ff65dae'\n",
    "headers = {'name':'Asta Thit Kettel', 'from':'ucph','email':'dnp@ku.dk'}\n",
    "response91 = requests.get(url91, headers)\n",
    "results91 = response91.json()\n",
    "result_articles91 = results91['result']\n",
    "data91 = pd.DataFrame(result_articles91)"
   ]
  },
  {
   "cell_type": "code",
   "execution_count": 144,
   "id": "d34fc60a-a2d9-4d8c-961e-4fd7e93a4f78",
   "metadata": {},
   "outputs": [],
   "source": [
    "url92 = f'https://search.prod.di.api.cnn.io/content?q=stock%20index%20500&size=10&from=910&page=92&sort=newest&request_id=pdx-search-1282786d-9197-43da-8b67-e002d3e723ec'\n",
    "headers = {'name':'Asta Thit Kettel', 'from':'ucph','email':'dnp@ku.dk'}\n",
    "response92 = requests.get(url92, headers)\n",
    "results92 = response92.json()\n",
    "result_articles92 = results92['result']\n",
    "data92 = pd.DataFrame(result_articles92)"
   ]
  },
  {
   "cell_type": "code",
   "execution_count": 146,
   "id": "cc7a96a7-ae92-4ffc-bf51-8ffa0ee56162",
   "metadata": {},
   "outputs": [],
   "source": [
    "url93 = f'https://search.prod.di.api.cnn.io/content?q=stock%20index%20500&size=10&from=920&page=93&sort=newest&request_id=pdx-search-fe877d69-6d6a-4d43-b271-837eaad125b4'\n",
    "headers = {'name':'Asta Thit Kettel', 'from':'ucph','email':'dnp@ku.dk'}\n",
    "response93 = requests.get(url93, headers)\n",
    "results93 = response93.json()\n",
    "result_articles93 = results93['result']\n",
    "data93 = pd.DataFrame(result_articles93)"
   ]
  },
  {
   "cell_type": "code",
   "execution_count": 148,
   "id": "c0d4b284-38b4-407b-aa1d-6ef46c84ba93",
   "metadata": {},
   "outputs": [],
   "source": [
    "url94 = f'https://search.prod.di.api.cnn.io/content?q=stock%20index%20500&size=10&from=930&page=94&sort=newest&request_id=pdx-search-257d15a3-47bc-4c87-b57e-514f3b0f7eb1'\n",
    "headers = {'name':'Asta Thit Kettel', 'from':'ucph','email':'dnp@ku.dk'}\n",
    "response94 = requests.get(url94, headers)\n",
    "results94 = response94.json()\n",
    "result_articles94 = results94['result']\n",
    "data94 = pd.DataFrame(result_articles94)"
   ]
  },
  {
   "cell_type": "code",
   "execution_count": 150,
   "id": "4af7e14c-c173-4562-b4bc-03d452e58a7b",
   "metadata": {},
   "outputs": [],
   "source": [
    "url95 = f'https://search.prod.di.api.cnn.io/content?q=stock%20index%20500&size=10&from=940&page=95&sort=newest&request_id=pdx-search-a6d29236-6c47-4c8e-a231-1b82b1939521'\n",
    "headers = {'name':'Asta Thit Kettel', 'from':'ucph','email':'dnp@ku.dk'}\n",
    "response95 = requests.get(url95, headers)\n",
    "results95 = response95.json()\n",
    "result_articles95 = results95['result']\n",
    "data95 = pd.DataFrame(result_articles95)"
   ]
  },
  {
   "cell_type": "code",
   "execution_count": 151,
   "id": "e1268582-11d6-4c3f-be48-5dd223bc4542",
   "metadata": {},
   "outputs": [],
   "source": [
    "url96 = f'https://search.prod.di.api.cnn.io/content?q=stock%20index%20500&size=10&from=950&page=96&sort=newest&request_id=pdx-search-8ac2418e-95b6-41ed-ae0d-4e1f8877bdeb'\n",
    "headers = {'name':'Asta Thit Kettel', 'from':'ucph','email':'dnp@ku.dk'}\n",
    "response96 = requests.get(url96, headers)\n",
    "results96 = response96.json()\n",
    "result_articles96 = results96['result']\n",
    "data96 = pd.DataFrame(result_articles96)"
   ]
  },
  {
   "cell_type": "code",
   "execution_count": 153,
   "id": "252181ee-814c-4c3a-a8ff-3ace7783a35c",
   "metadata": {},
   "outputs": [],
   "source": [
    "url97 = f'https://search.prod.di.api.cnn.io/content?q=stock%20index%20500&size=10&from=960&page=97&sort=newest&request_id=pdx-search-d430ee89-7b3c-4c2f-b7d9-1c11790c4b40'\n",
    "headers = {'name':'Asta Thit Kettel', 'from':'ucph','email':'dnp@ku.dk'}\n",
    "response97 = requests.get(url97, headers)\n",
    "results97 = response97.json()\n",
    "result_articles97 = results97['result']\n",
    "data97 = pd.DataFrame(result_articles97)"
   ]
  },
  {
   "cell_type": "code",
   "execution_count": 155,
   "id": "7f76905b-9211-4411-8138-d9d2f7aa2dd9",
   "metadata": {},
   "outputs": [],
   "source": [
    "url98 = f'https://search.prod.di.api.cnn.io/content?q=stock%20index%20500&size=10&from=970&page=98&sort=newest&request_id=pdx-search-20e8dd02-879b-4e67-9270-5ac7daa759e1'\n",
    "headers = {'name':'Asta Thit Kettel', 'from':'ucph','email':'dnp@ku.dk'}\n",
    "response98 = requests.get(url98, headers)\n",
    "results98 = response98.json()\n",
    "result_articles98 = results98['result']\n",
    "data98 = pd.DataFrame(result_articles98)"
   ]
  },
  {
   "cell_type": "code",
   "execution_count": 156,
   "id": "9faa0014-d30b-4e5d-832f-f88670b62005",
   "metadata": {},
   "outputs": [],
   "source": [
    "url99 = f'https://search.prod.di.api.cnn.io/content?q=stock%20index%20500&size=10&from=980&page=99&sort=newest&request_id=pdx-search-bf297732-bbe0-4433-a69d-b3667007f03b'\n",
    "headers = {'name':'Asta Thit Kettel', 'from':'ucph','email':'dnp@ku.dk'}\n",
    "response99 = requests.get(url99, headers)\n",
    "results99 = response99.json()\n",
    "result_articles99 = results99['result']\n",
    "data99 = pd.DataFrame(result_articles99)"
   ]
  },
  {
   "cell_type": "code",
   "execution_count": 158,
   "id": "1675de83-c5bb-4c29-b078-8a5194a9abc2",
   "metadata": {},
   "outputs": [],
   "source": [
    "url100 = f'https://search.prod.di.api.cnn.io/content?q=stock%20index%20500&size=10&from=990&page=100&sort=newest&request_id=pdx-search-f2b5d221-f91c-457a-b9fe-96cab7c57a28'\n",
    "headers = {'name':'Asta Thit Kettel', 'from':'ucph','email':'dnp@ku.dk'}\n",
    "response100 = requests.get(url100, headers)\n",
    "results100 = response100.json()\n",
    "result_articles100 = results100['result']\n",
    "data100 = pd.DataFrame(result_articles100)"
   ]
  },
  {
   "cell_type": "code",
   "execution_count": 159,
   "id": "bb07cc92-3858-45d0-8c61-0f532674ff77",
   "metadata": {},
   "outputs": [],
   "source": [
    "url101 = f'https://search.prod.di.api.cnn.io/content?q=stock%20index%20500&size=10&from=1000&page=101&sort=newest&request_id=pdx-search-87a828f8-5407-4fe1-9c65-a1cb6fef013b'\n",
    "headers = {'name':'Asta Thit Kettel', 'from':'ucph','email':'dnp@ku.dk'}\n",
    "response101 = requests.get(url101, headers)\n",
    "results101 = response101.json()\n",
    "result_articles101 = results101['result']\n",
    "data101 = pd.DataFrame(result_articles101)"
   ]
  },
  {
   "cell_type": "code",
   "execution_count": 160,
   "id": "32855a95-5e4a-48a2-a667-3707163f78c0",
   "metadata": {},
   "outputs": [],
   "source": [
    "url102 = f'https://search.prod.di.api.cnn.io/content?q=stock%20index%20500&size=10&from=1010&page=102&sort=newest&request_id=pdx-search-7fd68571-9c92-4aaa-b12e-fb6d412f3c9f'\n",
    "headers = {'name':'Asta Thit Kettel', 'from':'ucph','email':'dnp@ku.dk'}\n",
    "response102 = requests.get(url102, headers)\n",
    "results102 = response102.json()\n",
    "result_articles102 = results102['result']\n",
    "data102 = pd.DataFrame(result_articles102)"
   ]
  },
  {
   "cell_type": "code",
   "execution_count": 161,
   "id": "e23a0199-85a6-42bf-b476-3a41601b8c29",
   "metadata": {},
   "outputs": [],
   "source": [
    "url103 = f'https://search.prod.di.api.cnn.io/content?q=stock%20index%20500&size=10&from=1020&page=103&sort=newest&request_id=pdx-search-c171b844-8e30-4a34-bc4b-2a3201fca0f2'\n",
    "headers = {'name':'Asta Thit Kettel', 'from':'ucph','email':'dnp@ku.dk'}\n",
    "response103 = requests.get(url103, headers)\n",
    "results103 = response103.json()\n",
    "result_articles103 = results103['result']\n",
    "data103 = pd.DataFrame(result_articles103)"
   ]
  },
  {
   "cell_type": "code",
   "execution_count": 162,
   "id": "b7480b99-df8a-44c8-b83a-19f69a9808d4",
   "metadata": {},
   "outputs": [],
   "source": [
    "url104 = f'https://search.prod.di.api.cnn.io/content?q=stock%20index%20500&size=10&from=1030&page=104&sort=newest&request_id=pdx-search-49b4b259-aad1-4aed-afae-365bbc5b0e32'\n",
    "headers = {'name':'Asta Thit Kettel', 'from':'ucph','email':'dnp@ku.dk'}\n",
    "response104 = requests.get(url104, headers)\n",
    "results104 = response104.json()\n",
    "result_articles104 = results104['result']\n",
    "data104 = pd.DataFrame(result_articles104)"
   ]
  },
  {
   "cell_type": "code",
   "execution_count": 163,
   "id": "28763acd-4bce-40b3-b9c9-d6879ce4d597",
   "metadata": {},
   "outputs": [],
   "source": [
    "url105 = f'https://search.prod.di.api.cnn.io/content?q=stock%20index%20500&size=10&from=1040&page=105&sort=newest&request_id=pdx-search-c75b1f50-6bc6-4a6d-953e-847b9ebb2fba'\n",
    "headers = {'name':'Asta Thit Kettel', 'from':'ucph','email':'dnp@ku.dk'}\n",
    "response105 = requests.get(url105, headers)\n",
    "results105 = response105.json()\n",
    "result_articles105 = results105['result']\n",
    "data105 = pd.DataFrame(result_articles105)"
   ]
  },
  {
   "cell_type": "code",
   "execution_count": 165,
   "id": "ec5c9299-7238-45e3-b24b-9b17fa21b7ae",
   "metadata": {},
   "outputs": [],
   "source": [
    "url106 = f'https://search.prod.di.api.cnn.io/content?q=stock%20index%20500&size=10&from=1050&page=106&sort=newest&request_id=pdx-search-7d6196fc-c4c7-4208-aafa-4f3b8e704074'\n",
    "headers = {'name':'Asta Thit Kettel', 'from':'ucph','email':'dnp@ku.dk'}\n",
    "response106 = requests.get(url106, headers)\n",
    "results106 = response106.json()\n",
    "result_articles106 = results106['result']\n",
    "data106 = pd.DataFrame(result_articles106)"
   ]
  },
  {
   "cell_type": "code",
   "execution_count": 166,
   "id": "d669bdf7-7739-4d8b-842f-f6662533a2db",
   "metadata": {},
   "outputs": [],
   "source": [
    "url107 = f'https://search.prod.di.api.cnn.io/content?q=stock%20index%20500&size=10&from=1060&page=107&sort=newest&request_id=pdx-search-5c0f38e4-cdc5-4ada-a236-24ba1426f83a'\n",
    "headers = {'name':'Asta Thit Kettel', 'from':'ucph','email':'dnp@ku.dk'}\n",
    "response107 = requests.get(url107, headers)\n",
    "results107 = response107.json()\n",
    "result_articles107 = results107['result']\n",
    "data107 = pd.DataFrame(result_articles107)"
   ]
  },
  {
   "cell_type": "code",
   "execution_count": 168,
   "id": "15e0131a-345a-4f48-9f3e-4eeec9d1a8fc",
   "metadata": {},
   "outputs": [],
   "source": [
    "url108 = f'https://search.prod.di.api.cnn.io/content?q=stock%20index%20500&size=10&from=1070&page=108&sort=newest&request_id=pdx-search-6ece1585-6d8e-4854-a868-f93b1a5ee123'\n",
    "headers = {'name':'Asta Thit Kettel', 'from':'ucph','email':'dnp@ku.dk'}\n",
    "response108 = requests.get(url108, headers)\n",
    "results108 = response108.json()\n",
    "result_articles108 = results108['result']\n",
    "data108 = pd.DataFrame(result_articles108)"
   ]
  },
  {
   "cell_type": "code",
   "execution_count": 173,
   "id": "90e6c34d-64da-4126-b8fc-eb4104137e59",
   "metadata": {},
   "outputs": [],
   "source": [
    "url109 = f'https://search.prod.di.api.cnn.io/content?q=stock%20index%20500&size=10&from=1080&page=109&sort=newest&request_id=pdx-search-785ac1ff-80dc-47f3-9d48-d8fe1986474c'\n",
    "headers = {'name':'Asta Thit Kettel', 'from':'ucph','email':'dnp@ku.dk'}\n",
    "response109 = requests.get(url109, headers)\n",
    "results109 = response109.json()\n",
    "result_articles109 = results109['result']\n",
    "data109 = pd.DataFrame(result_articles109)"
   ]
  },
  {
   "cell_type": "code",
   "execution_count": 175,
   "id": "26960807-5a6d-4269-9deb-6bb745c6636c",
   "metadata": {},
   "outputs": [],
   "source": [
    "url110 = f'https://search.prod.di.api.cnn.io/content?q=stock%20index%20500&size=10&from=1090&page=110&sort=newest&request_id=pdx-search-e1cc2fcb-92e1-4557-9a37-71e57b319efe'\n",
    "headers = {'name':'Asta Thit Kettel', 'from':'ucph','email':'dnp@ku.dk'}\n",
    "response110 = requests.get(url110, headers)\n",
    "results110 = response110.json()\n",
    "result_articles110 = results110['result']\n",
    "data110 = pd.DataFrame(result_articles110)"
   ]
  },
  {
   "cell_type": "code",
   "execution_count": 176,
   "id": "264bb41a-5e2d-4f57-a3f0-c712ea302df7",
   "metadata": {},
   "outputs": [],
   "source": [
    "url111 = f'https://search.prod.di.api.cnn.io/content?q=stock%20index%20500&size=10&from=1100&page=111&sort=newest&request_id=pdx-search-f51d7dc7-7141-4909-b8fe-8e4455d281eb'\n",
    "headers = {'name':'Asta Thit Kettel', 'from':'ucph','email':'dnp@ku.dk'}\n",
    "response111 = requests.get(url111, headers)\n",
    "results111 = response111.json()\n",
    "result_articles111 = results111['result']\n",
    "data111 = pd.DataFrame(result_articles111)"
   ]
  },
  {
   "cell_type": "code",
   "execution_count": 177,
   "id": "59b6d2c2-33b5-464d-a4cc-f7eddab5dd93",
   "metadata": {},
   "outputs": [],
   "source": [
    "url112 = f'https://search.prod.di.api.cnn.io/content?q=stock%20index%20500&size=10&from=1110&page=112&sort=newest&request_id=pdx-search-d4dcddd7-359e-4d2f-8934-3c4e45319e6b'\n",
    "headers = {'name':'Asta Thit Kettel', 'from':'ucph','email':'dnp@ku.dk'}\n",
    "response112 = requests.get(url112, headers)\n",
    "results112 = response112.json()\n",
    "result_articles112 = results112['result']\n",
    "data112 = pd.DataFrame(result_articles112)"
   ]
  },
  {
   "cell_type": "code",
   "execution_count": 178,
   "id": "2b475842-b894-4f51-a5e7-8de5e0bab691",
   "metadata": {},
   "outputs": [],
   "source": [
    "url113 = f'https://search.prod.di.api.cnn.io/content?q=stock%20index%20500&size=10&from=1120&page=113&sort=newest&request_id=pdx-search-dfb18efd-b6fa-485e-afe3-5e57ff2054e5'\n",
    "headers = {'name':'Asta Thit Kettel', 'from':'ucph','email':'dnp@ku.dk'}\n",
    "response113 = requests.get(url113, headers)\n",
    "results113 = response113.json()\n",
    "result_articles113 = results113['result']\n",
    "data113 = pd.DataFrame(result_articles113)"
   ]
  },
  {
   "cell_type": "code",
   "execution_count": 179,
   "id": "2ff06912-6d2e-4467-a768-6be32f0b0652",
   "metadata": {},
   "outputs": [],
   "source": [
    "url114 = f'https://search.prod.di.api.cnn.io/content?q=stock%20index%20500&size=10&from=1130&page=114&sort=newest&request_id=pdx-search-e884e1ef-eac9-496e-86ec-66b32135fa2d'\n",
    "headers = {'name':'Asta Thit Kettel', 'from':'ucph','email':'dnp@ku.dk'}\n",
    "response114 = requests.get(url114, headers)\n",
    "results114 = response114.json()\n",
    "result_articles114 = results114['result']\n",
    "data114 = pd.DataFrame(result_articles114)"
   ]
  },
  {
   "cell_type": "code",
   "execution_count": 180,
   "id": "894b6fa6-eec2-465d-96aa-fc0c488608aa",
   "metadata": {},
   "outputs": [],
   "source": [
    "url115 = f'https://search.prod.di.api.cnn.io/content?q=stock%20index%20500&size=10&from=1140&page=115&sort=newest&request_id=pdx-search-08319668-340e-4b6d-a120-b3fb3b5aec4c'\n",
    "headers = {'name':'Asta Thit Kettel', 'from':'ucph','email':'dnp@ku.dk'}\n",
    "response115 = requests.get(url115, headers)\n",
    "results115 = response115.json()\n",
    "result_articles115 = results115['result']\n",
    "data115 = pd.DataFrame(result_articles115)"
   ]
  },
  {
   "cell_type": "code",
   "execution_count": 182,
   "id": "8cae1bd6-3978-42cc-af49-70f783f12a9e",
   "metadata": {},
   "outputs": [],
   "source": [
    "url116 = f'https://search.prod.di.api.cnn.io/content?q=stock%20index%20500&size=10&from=1150&page=116&sort=newest&request_id=pdx-search-db4dbad2-c9d0-4ac7-9683-21abe5f587fb'\n",
    "headers = {'name':'Asta Thit Kettel', 'from':'ucph','email':'dnp@ku.dk'}\n",
    "response116 = requests.get(url116, headers)\n",
    "results116 = response116.json()\n",
    "result_articles116 = results116['result']\n",
    "data116 = pd.DataFrame(result_articles116)"
   ]
  },
  {
   "cell_type": "code",
   "execution_count": 184,
   "id": "781c59da-0d3e-485d-b69c-751d9fbebf98",
   "metadata": {},
   "outputs": [],
   "source": [
    "url117 = f'https://search.prod.di.api.cnn.io/content?q=stock%20index%20500&size=10&from=1160&page=117&sort=newest&request_id=pdx-search-5877b5ec-0412-453f-8fe6-01b94784da4a'\n",
    "headers = {'name':'Asta Thit Kettel', 'from':'ucph','email':'dnp@ku.dk'}\n",
    "response117 = requests.get(url117, headers)\n",
    "results117 = response117.json()\n",
    "result_articles117 = results117['result']\n",
    "data117 = pd.DataFrame(result_articles117)"
   ]
  },
  {
   "cell_type": "code",
   "execution_count": 186,
   "id": "3711d2e8-8566-4645-aceb-48cc86243dd0",
   "metadata": {},
   "outputs": [],
   "source": [
    "url118 = f'https://search.prod.di.api.cnn.io/content?q=stock%20index%20500&size=10&from=1170&page=118&sort=newest&request_id=pdx-search-3216b442-41f3-4671-9d88-c12a91022cc4'\n",
    "headers = {'name':'Asta Thit Kettel', 'from':'ucph','email':'dnp@ku.dk'}\n",
    "response118 = requests.get(url118, headers)\n",
    "results118 = response118.json()\n",
    "result_articles118 = results118['result']\n",
    "data118 = pd.DataFrame(result_articles118)"
   ]
  },
  {
   "cell_type": "code",
   "execution_count": 187,
   "id": "e9d2e485-84f0-4a68-a3b9-cd3d07dd5ec3",
   "metadata": {},
   "outputs": [],
   "source": [
    "url119 = f'https://search.prod.di.api.cnn.io/content?q=stock%20index%20500&size=10&from=1180&page=119&sort=newest&request_id=pdx-search-96213a11-5edc-41b9-8e3b-a8f8e9a795ac'\n",
    "headers = {'name':'Asta Thit Kettel', 'from':'ucph','email':'dnp@ku.dk'}\n",
    "response119 = requests.get(url119, headers)\n",
    "results119 = response119.json()\n",
    "result_articles119 = results119['result']\n",
    "data119 = pd.DataFrame(result_articles119)"
   ]
  },
  {
   "cell_type": "code",
   "execution_count": 189,
   "id": "8a70a8c9-9654-4b78-9c43-4bc77d74480f",
   "metadata": {},
   "outputs": [],
   "source": [
    "url120 = f'https://search.prod.di.api.cnn.io/content?q=stock%20index%20500&size=10&from=1190&page=120&sort=newest&request_id=pdx-search-8b579c57-0dd3-49d1-9fb9-8a2482342b53'\n",
    "headers = {'name':'Asta Thit Kettel', 'from':'ucph','email':'dnp@ku.dk'}\n",
    "response120 = requests.get(url120, headers)\n",
    "results120 = response120.json()\n",
    "result_articles120 = results120['result']\n",
    "data120 = pd.DataFrame(result_articles120)"
   ]
  },
  {
   "cell_type": "code",
   "execution_count": 190,
   "id": "52bc68da-f9af-4f03-9b71-02fdc9350afc",
   "metadata": {},
   "outputs": [],
   "source": [
    "url121 = f'https://search.prod.di.api.cnn.io/content?q=stock%20index%20500&size=10&from=1200&page=121&sort=newest&request_id=pdx-search-9095069f-d0ee-48b8-b6d4-407c1cce40e2'\n",
    "headers = {'name':'Asta Thit Kettel', 'from':'ucph','email':'dnp@ku.dk'}\n",
    "response121 = requests.get(url121, headers)\n",
    "results121 = response121.json()\n",
    "result_articles121 = results121['result']\n",
    "data121 = pd.DataFrame(result_articles121)"
   ]
  },
  {
   "cell_type": "code",
   "execution_count": 191,
   "id": "442d843c-e33d-4ea1-b28c-9fd9e8c0705e",
   "metadata": {},
   "outputs": [],
   "source": [
    "url122 = f'https://search.prod.di.api.cnn.io/content?q=stock%20index%20500&size=10&from=1210&page=122&sort=newest&request_id=pdx-search-8cdc5381-c33b-42f7-ac99-d688eb4cbc40'\n",
    "headers = {'name':'Asta Thit Kettel', 'from':'ucph','email':'dnp@ku.dk'}\n",
    "response122 = requests.get(url122, headers)\n",
    "results122 = response122.json()\n",
    "result_articles122 = results122['result']\n",
    "data122 = pd.DataFrame(result_articles122)"
   ]
  },
  {
   "cell_type": "code",
   "execution_count": 192,
   "id": "6aa07236-7268-4d78-b185-4ec60eae7446",
   "metadata": {},
   "outputs": [],
   "source": [
    "url123 = f'https://search.prod.di.api.cnn.io/content?q=stock%20index%20500&size=10&from=1220&page=123&sort=newest&request_id=pdx-search-e86f2383-806f-49f8-93b7-87a1c48880a1'\n",
    "headers = {'name':'Asta Thit Kettel', 'from':'ucph','email':'dnp@ku.dk'}\n",
    "response123 = requests.get(url123, headers)\n",
    "results123 = response123.json()\n",
    "result_articles123 = results123['result']\n",
    "data123 = pd.DataFrame(result_articles123)"
   ]
  },
  {
   "cell_type": "code",
   "execution_count": 193,
   "id": "86ae3a30-0f82-435c-afdc-c12ec73985a7",
   "metadata": {},
   "outputs": [],
   "source": [
    "url124 = f'https://search.prod.di.api.cnn.io/content?q=stock%20index%20500&size=10&from=1230&page=124&sort=newest&request_id=pdx-search-00569d4f-ab43-4c59-84eb-58b6ddd09589'\n",
    "headers = {'name':'Asta Thit Kettel', 'from':'ucph','email':'dnp@ku.dk'}\n",
    "response124 = requests.get(url124, headers)\n",
    "results124 = response124.json()\n",
    "result_articles124 = results124['result']\n",
    "data124 = pd.DataFrame(result_articles124)"
   ]
  },
  {
   "cell_type": "code",
   "execution_count": 194,
   "id": "d447cb17-250c-4ebc-8f82-1921fdf021a1",
   "metadata": {},
   "outputs": [],
   "source": [
    "url125 = f'https://search.prod.di.api.cnn.io/content?q=stock%20index%20500&size=10&from=1240&page=125&sort=newest&request_id=pdx-search-8ec0bb8e-0731-4e37-9215-1779a1001f92'\n",
    "headers = {'name':'Asta Thit Kettel', 'from':'ucph','email':'dnp@ku.dk'}\n",
    "response125 = requests.get(url125, headers)\n",
    "results125 = response125.json()\n",
    "result_articles125 = results125['result']\n",
    "data125 = pd.DataFrame(result_articles125)"
   ]
  },
  {
   "cell_type": "code",
   "execution_count": 195,
   "id": "decb4d88-01fa-42aa-be87-6bf015e60edb",
   "metadata": {},
   "outputs": [],
   "source": [
    "url126 = f'https://search.prod.di.api.cnn.io/content?q=stock%20index%20500&size=10&from=1250&page=126&sort=newest&request_id=pdx-search-428cea83-4635-415b-9041-a28ec6c24a60'\n",
    "headers = {'name':'Asta Thit Kettel', 'from':'ucph','email':'dnp@ku.dk'}\n",
    "response126 = requests.get(url126, headers)\n",
    "results126 = response126.json()\n",
    "result_articles126 = results126['result']\n",
    "data126 = pd.DataFrame(result_articles126)"
   ]
  },
  {
   "cell_type": "code",
   "execution_count": 196,
   "id": "07aa8a97-4f3c-4c81-87b1-214d07263a04",
   "metadata": {},
   "outputs": [],
   "source": [
    "url127 = f'https://search.prod.di.api.cnn.io/content?q=stock%20index%20500&size=10&from=1260&page=127&sort=newest&request_id=pdx-search-b19068a2-48cf-4f24-9b9a-37fc6f37304d'\n",
    "headers = {'name':'Asta Thit Kettel', 'from':'ucph','email':'dnp@ku.dk'}\n",
    "response127 = requests.get(url127, headers)\n",
    "results127 = response127.json()\n",
    "result_articles127 = results127['result']\n",
    "data127 = pd.DataFrame(result_articles127)"
   ]
  },
  {
   "cell_type": "code",
   "execution_count": 197,
   "id": "c1c83219-c7c9-4fff-8614-e97fd9cd8345",
   "metadata": {},
   "outputs": [],
   "source": [
    "url128 = f'https://search.prod.di.api.cnn.io/content?q=stock%20index%20500&size=10&from=1270&page=128&sort=newest&request_id=pdx-search-b4b8e24c-270a-4ec8-86c3-bf59c46edbc2'\n",
    "headers = {'name':'Asta Thit Kettel', 'from':'ucph','email':'dnp@ku.dk'}\n",
    "response128 = requests.get(url128, headers)\n",
    "results128 = response128.json()\n",
    "result_articles128 = results128['result']\n",
    "data128 = pd.DataFrame(result_articles128)"
   ]
  },
  {
   "cell_type": "code",
   "execution_count": 198,
   "id": "aa62ec77-86e3-4544-a27d-9f62839def75",
   "metadata": {},
   "outputs": [],
   "source": [
    "url129 = f'https://search.prod.di.api.cnn.io/content?q=stock%20index%20500&size=10&from=1280&page=129&sort=newest&request_id=pdx-search-bab5cfa7-16d1-4429-8841-5a1257d5f7e5'\n",
    "headers = {'name':'Asta Thit Kettel', 'from':'ucph','email':'dnp@ku.dk'}\n",
    "response129 = requests.get(url129, headers)\n",
    "results129 = response129.json()\n",
    "result_articles129 = results129['result']\n",
    "data129 = pd.DataFrame(result_articles129)"
   ]
  },
  {
   "cell_type": "code",
   "execution_count": 199,
   "id": "abbd118f-1279-40ca-bb23-69441d367894",
   "metadata": {},
   "outputs": [],
   "source": [
    "url130 = f'https://search.prod.di.api.cnn.io/content?q=stock%20index%20500&size=10&from=1290&page=130&sort=newest&request_id=pdx-search-ad9062da-5b8e-4966-ae41-faa5772d829f'\n",
    "headers = {'name':'Asta Thit Kettel', 'from':'ucph','email':'dnp@ku.dk'}\n",
    "response130 = requests.get(url130, headers)\n",
    "results130 = response130.json()\n",
    "result_articles130 = results130['result']\n",
    "data130 = pd.DataFrame(result_articles130)"
   ]
  },
  {
   "cell_type": "code",
   "execution_count": 201,
   "id": "be2d6694-722d-4b5a-a139-530c7c2ba28f",
   "metadata": {},
   "outputs": [],
   "source": [
    "url131 = f'https://search.prod.di.api.cnn.io/content?q=stock%20index%20500&size=10&from=1300&page=131&sort=newest&request_id=pdx-search-9e67711f-2880-4297-a297-5563968ea1eb'\n",
    "headers = {'name':'Asta Thit Kettel', 'from':'ucph','email':'dnp@ku.dk'}\n",
    "response131 = requests.get(url131, headers)\n",
    "results131 = response131.json()\n",
    "result_articles131 = results131['result']\n",
    "data131 = pd.DataFrame(result_articles131)"
   ]
  },
  {
   "cell_type": "code",
   "execution_count": 202,
   "id": "e5ed338b-3a6d-4854-ab4d-2584e388c4a3",
   "metadata": {},
   "outputs": [],
   "source": [
    "url132 = f'https://search.prod.di.api.cnn.io/content?q=stock%20index%20500&size=10&from=1310&page=132&sort=newest&request_id=pdx-search-0e7da620-1d0f-4836-9f3d-289b6cb33d33'\n",
    "headers = {'name':'Asta Thit Kettel', 'from':'ucph','email':'dnp@ku.dk'}\n",
    "response132 = requests.get(url132, headers)\n",
    "results132 = response132.json()\n",
    "result_articles132 = results132['result']\n",
    "data132 = pd.DataFrame(result_articles132)"
   ]
  },
  {
   "cell_type": "code",
   "execution_count": 203,
   "id": "9393e980-de90-46cb-a80d-7f71ce35f9a1",
   "metadata": {},
   "outputs": [],
   "source": [
    "url133 = f'https://search.prod.di.api.cnn.io/content?q=stock%20index%20500&size=10&from=1320&page=133&sort=newest&request_id=pdx-search-35fe9d42-cbe6-41bb-bf2b-50fdf0f4744e'\n",
    "headers = {'name':'Asta Thit Kettel', 'from':'ucph','email':'dnp@ku.dk'}\n",
    "response133 = requests.get(url133, headers)\n",
    "results133 = response133.json()\n",
    "result_articles133 = results133['result']\n",
    "data133 = pd.DataFrame(result_articles133)"
   ]
  },
  {
   "cell_type": "code",
   "execution_count": 204,
   "id": "dd522343-58a0-4f3e-baee-24e8c251510b",
   "metadata": {},
   "outputs": [],
   "source": [
    "url134 = f'https://search.prod.di.api.cnn.io/content?q=stock%20index%20500&size=10&from=1330&page=134&sort=newest&request_id=pdx-search-8664e08f-49a1-4a77-850a-efb591504a7d'\n",
    "headers = {'name':'Asta Thit Kettel', 'from':'ucph','email':'dnp@ku.dk'}\n",
    "response134 = requests.get(url134, headers)\n",
    "results134 = response134.json()\n",
    "result_articles134 = results134['result']\n",
    "data134 = pd.DataFrame(result_articles134)"
   ]
  },
  {
   "cell_type": "code",
   "execution_count": 206,
   "id": "df8bf965-a079-4d13-b2c1-70ce0980ffe2",
   "metadata": {},
   "outputs": [],
   "source": [
    "url135 = f'https://search.prod.di.api.cnn.io/content?q=stock%20index%20500&size=10&from=1340&page=135&sort=newest&request_id=pdx-search-280b7d76-e512-4979-83e5-cf068e27e723'\n",
    "headers = {'name':'Asta Thit Kettel', 'from':'ucph','email':'dnp@ku.dk'}\n",
    "response135 = requests.get(url135, headers)\n",
    "results135 = response135.json()\n",
    "result_articles135 = results135['result']\n",
    "data135 = pd.DataFrame(result_articles135)"
   ]
  },
  {
   "cell_type": "code",
   "execution_count": 208,
   "id": "cf2e11a8-2fb7-4939-a3a1-66eae32ff413",
   "metadata": {},
   "outputs": [],
   "source": [
    "url136 = f'https://search.prod.di.api.cnn.io/content?q=stock%20index%20500&size=10&from=1350&page=136&sort=newest&request_id=pdx-search-847ee4df-3a86-421d-9268-c2688da03707'\n",
    "headers = {'name':'Asta Thit Kettel', 'from':'ucph','email':'dnp@ku.dk'}\n",
    "response136 = requests.get(url136, headers)\n",
    "results136 = response136.json()\n",
    "result_articles136 = results136['result']\n",
    "data136 = pd.DataFrame(result_articles136)"
   ]
  },
  {
   "cell_type": "code",
   "execution_count": 209,
   "id": "1d7faa0e-dff3-4b2a-873e-522ad82a5186",
   "metadata": {},
   "outputs": [],
   "source": [
    "url137 = f'https://search.prod.di.api.cnn.io/content?q=stock%20index%20500&size=10&from=1360&page=137&sort=newest&request_id=pdx-search-ce2aa6cf-cb37-45fd-9c7e-2b2eb6429986'\n",
    "headers = {'name':'Asta Thit Kettel', 'from':'ucph','email':'dnp@ku.dk'}\n",
    "response137 = requests.get(url137, headers)\n",
    "results137 = response137.json()\n",
    "result_articles137 = results137['result']\n",
    "data137 = pd.DataFrame(result_articles137)"
   ]
  },
  {
   "cell_type": "code",
   "execution_count": 210,
   "id": "76681b5e-9e2e-499e-a82f-b394841df747",
   "metadata": {},
   "outputs": [],
   "source": [
    "url138 = f'https://search.prod.di.api.cnn.io/content?q=stock%20index%20500&size=10&from=1370&page=138&sort=newest&request_id=pdx-search-c178612e-e6b5-419d-b2ae-2a1131e96029'\n",
    "headers = {'name':'Asta Thit Kettel', 'from':'ucph','email':'dnp@ku.dk'}\n",
    "response138 = requests.get(url138, headers)\n",
    "results138 = response138.json()\n",
    "result_articles138 = results138['result']\n",
    "data138 = pd.DataFrame(result_articles138)"
   ]
  },
  {
   "cell_type": "code",
   "execution_count": 212,
   "id": "8fa65fad-2742-40cc-b8ba-779006c40031",
   "metadata": {},
   "outputs": [],
   "source": [
    "url139 = f'https://search.prod.di.api.cnn.io/content?q=stock%20index%20500&size=10&from=1380&page=139&sort=newest&request_id=pdx-search-6a2472d1-be5c-4acb-b6d1-aba781fa2519'\n",
    "headers = {'name':'Asta Thit Kettel', 'from':'ucph','email':'dnp@ku.dk'}\n",
    "response139 = requests.get(url139, headers)\n",
    "results139 = response139.json()\n",
    "result_articles139 = results139['result']\n",
    "data139 = pd.DataFrame(result_articles139)"
   ]
  },
  {
   "cell_type": "code",
   "execution_count": 214,
   "id": "42a377d8-5fe8-4373-b4ef-abba1f6bc230",
   "metadata": {},
   "outputs": [],
   "source": [
    "url140 = f'https://search.prod.di.api.cnn.io/content?q=stock%20index%20500&size=10&from=1390&page=140&sort=newest&request_id=pdx-search-db5e41fa-b1d5-4bee-bc1b-917bd5872553'\n",
    "headers = {'name':'Asta Thit Kettel', 'from':'ucph','email':'dnp@ku.dk'}\n",
    "response140 = requests.get(url140, headers)\n",
    "results140 = response140.json()\n",
    "result_articles140 = results140['result']\n",
    "data140 = pd.DataFrame(result_articles140)"
   ]
  },
  {
   "cell_type": "code",
   "execution_count": 216,
   "id": "26eb4ab6-1dba-4cd0-ad08-12fc8f9d8c5a",
   "metadata": {},
   "outputs": [],
   "source": [
    "url141 = f'https://search.prod.di.api.cnn.io/content?q=stock%20index%20500&size=10&from=1400&page=141&sort=newest&request_id=pdx-search-32bce54b-d00b-4cec-aa91-010f7895a0cf'\n",
    "headers = {'name':'Asta Thit Kettel', 'from':'ucph','email':'dnp@ku.dk'}\n",
    "response141 = requests.get(url141, headers)\n",
    "results141 = response141.json()\n",
    "result_articles141 = results141['result']\n",
    "data141 = pd.DataFrame(result_articles141)"
   ]
  },
  {
   "cell_type": "code",
   "execution_count": 217,
   "id": "4f955832-ec00-4fac-bb2e-4cd5f78f6747",
   "metadata": {},
   "outputs": [],
   "source": [
    "url142 = f'https://search.prod.di.api.cnn.io/content?q=stock%20index%20500&size=10&from=1410&page=142&sort=newest&request_id=pdx-search-a3821587-f009-4284-ba86-8d614f6b6f2e'\n",
    "headers = {'name':'Asta Thit Kettel', 'from':'ucph','email':'dnp@ku.dk'}\n",
    "response142 = requests.get(url142, headers)\n",
    "results142 = response142.json()\n",
    "result_articles142 = results142['result']\n",
    "data142 = pd.DataFrame(result_articles142)"
   ]
  },
  {
   "cell_type": "code",
   "execution_count": 219,
   "id": "909a97fb-3b3d-4a79-a07d-748d7f091333",
   "metadata": {},
   "outputs": [],
   "source": [
    "url143 = f'https://search.prod.di.api.cnn.io/content?q=stock%20index%20500&size=10&from=1420&page=143&sort=newest&request_id=pdx-search-085268bc-7b4e-4e34-8ccb-347436affb65'\n",
    "headers = {'name':'Asta Thit Kettel', 'from':'ucph','email':'dnp@ku.dk'}\n",
    "response143 = requests.get(url143, headers)\n",
    "results143 = response143.json()\n",
    "result_articles143 = results143['result']\n",
    "data143 = pd.DataFrame(result_articles143)"
   ]
  },
  {
   "cell_type": "code",
   "execution_count": 221,
   "id": "918701c6-9735-4c73-98c2-4631cf777657",
   "metadata": {},
   "outputs": [],
   "source": [
    "url144 = f'https://search.prod.di.api.cnn.io/content?q=stock%20index%20500&size=10&from=1430&page=144&sort=newest&request_id=pdx-search-d60584cc-630d-476f-8bb7-779cca97994e'\n",
    "headers = {'name':'Asta Thit Kettel', 'from':'ucph','email':'dnp@ku.dk'}\n",
    "response144 = requests.get(url144, headers)\n",
    "results144 = response144.json()\n",
    "result_articles144 = results144['result']\n",
    "data144 = pd.DataFrame(result_articles144)"
   ]
  },
  {
   "cell_type": "code",
   "execution_count": 222,
   "id": "86d49029-b958-4202-9423-abf565103190",
   "metadata": {},
   "outputs": [],
   "source": [
    "url145 = f'https://search.prod.di.api.cnn.io/content?q=stock%20index%20500&size=10&from=1440&page=145&sort=newest&request_id=pdx-search-22b6eaba-0172-43e3-9eed-d22cae365846'\n",
    "headers = {'name':'Asta Thit Kettel', 'from':'ucph','email':'dnp@ku.dk'}\n",
    "response145 = requests.get(url145, headers)\n",
    "results145 = response145.json()\n",
    "result_articles145 = results145['result']\n",
    "data145 = pd.DataFrame(result_articles145)"
   ]
  },
  {
   "cell_type": "code",
   "execution_count": 223,
   "id": "cb8a548a-3614-4b7f-ab69-300609a387ba",
   "metadata": {},
   "outputs": [],
   "source": [
    "url146 = f'https://search.prod.di.api.cnn.io/content?q=stock%20index%20500&size=10&from=1450&page=146&sort=newest&request_id=pdx-search-10d50345-c686-433d-8793-e46422d75a9b'\n",
    "headers = {'name':'Asta Thit Kettel', 'from':'ucph','email':'dnp@ku.dk'}\n",
    "response146 = requests.get(url146, headers)\n",
    "results146 = response146.json()\n",
    "result_articles146 = results146['result']\n",
    "data146 = pd.DataFrame(result_articles146)"
   ]
  },
  {
   "cell_type": "code",
   "execution_count": 224,
   "id": "3f71f622-d396-467f-adc1-b40e75e8e8d1",
   "metadata": {},
   "outputs": [],
   "source": [
    "url147 = f'https://search.prod.di.api.cnn.io/content?q=stock%20index%20500&size=10&from=1460&page=147&sort=newest&request_id=pdx-search-400e7e24-6546-40db-a902-1037529cb3dd'\n",
    "headers = {'name':'Asta Thit Kettel', 'from':'ucph','email':'dnp@ku.dk'}\n",
    "response147 = requests.get(url147, headers)\n",
    "results147 = response147.json()\n",
    "result_articles147 = results147['result']\n",
    "data147 = pd.DataFrame(result_articles147)"
   ]
  },
  {
   "cell_type": "code",
   "execution_count": 225,
   "id": "d5f263cc-72e5-40da-b388-310272826b07",
   "metadata": {},
   "outputs": [],
   "source": [
    "url148 = f'https://search.prod.di.api.cnn.io/content?q=stock%20index%20500&size=10&from=1470&page=148&sort=newest&request_id=pdx-search-efaa7a82-37a0-463f-8420-b0c69378ef7e'\n",
    "headers = {'name':'Asta Thit Kettel', 'from':'ucph','email':'dnp@ku.dk'}\n",
    "response148 = requests.get(url148, headers)\n",
    "results148 = response148.json()\n",
    "result_articles148 = results148['result']\n",
    "data148 = pd.DataFrame(result_articles148)"
   ]
  },
  {
   "cell_type": "code",
   "execution_count": 227,
   "id": "827f56d5-add7-4243-9f3e-b6e541b00430",
   "metadata": {},
   "outputs": [],
   "source": [
    "url149 = f'https://search.prod.di.api.cnn.io/content?q=stock%20index%20500&size=10&from=1480&page=149&sort=newest&request_id=pdx-search-6cc00add-04aa-4d2f-b1ac-6d1ac3119696'\n",
    "headers = {'name':'Asta Thit Kettel', 'from':'ucph','email':'dnp@ku.dk'}\n",
    "response149 = requests.get(url149, headers)\n",
    "results149 = response149.json()\n",
    "result_articles149 = results149['result']\n",
    "data149 = pd.DataFrame(result_articles149)"
   ]
  },
  {
   "cell_type": "code",
   "execution_count": 229,
   "id": "b20a39c8-6a50-4096-b155-265e817d198f",
   "metadata": {},
   "outputs": [],
   "source": [
    "url150 = f'https://search.prod.di.api.cnn.io/content?q=stock%20index%20500&size=10&from=1490&page=150&sort=newest&request_id=pdx-search-cc497f82-8fdc-4699-938f-030740d91383'\n",
    "headers = {'name':'Asta Thit Kettel', 'from':'ucph','email':'dnp@ku.dk'}\n",
    "response150 = requests.get(url150, headers)\n",
    "results150 = response150.json()\n",
    "result_articles150 = results150['result']\n",
    "data150 = pd.DataFrame(result_articles150)"
   ]
  },
  {
   "cell_type": "code",
   "execution_count": 230,
   "id": "2d8db290-0b96-491f-9d4a-ed3c7d12f81c",
   "metadata": {},
   "outputs": [],
   "source": [
    "url151 = f'https://search.prod.di.api.cnn.io/content?q=stock%20index%20500&size=10&from=1500&page=151&sort=newest&request_id=pdx-search-7e95d635-39cb-4669-87f3-d42a64c82990'\n",
    "headers = {'name':'Asta Thit Kettel', 'from':'ucph','email':'dnp@ku.dk'}\n",
    "response151 = requests.get(url151, headers)\n",
    "results151 = response151.json()\n",
    "result_articles151 = results151['result']\n",
    "data151 = pd.DataFrame(result_articles151)"
   ]
  },
  {
   "cell_type": "code",
   "execution_count": 231,
   "id": "02b69b12-4644-4b1b-aba6-e21ca4227b77",
   "metadata": {},
   "outputs": [],
   "source": [
    "url152 = f'https://search.prod.di.api.cnn.io/content?q=stock%20index%20500&size=10&from=1510&page=152&sort=newest&request_id=pdx-search-53271c46-c627-4833-82d6-7668319bb86d'\n",
    "headers = {'name':'Asta Thit Kettel', 'from':'ucph','email':'dnp@ku.dk'}\n",
    "response152 = requests.get(url152, headers)\n",
    "results152 = response152.json()\n",
    "result_articles152 = results152['result']\n",
    "data152 = pd.DataFrame(result_articles152)"
   ]
  },
  {
   "cell_type": "code",
   "execution_count": 232,
   "id": "320d2102-20c3-4349-b881-d7e6e9969994",
   "metadata": {},
   "outputs": [],
   "source": [
    "url153 = f'https://search.prod.di.api.cnn.io/content?q=stock%20index%20500&size=10&from=1520&page=153&sort=newest&request_id=pdx-search-9417cde2-44f8-4413-b9db-d7aa3be0363b'\n",
    "headers = {'name':'Asta Thit Kettel', 'from':'ucph','email':'dnp@ku.dk'}\n",
    "response153 = requests.get(url153, headers)\n",
    "results153 = response153.json()\n",
    "result_articles153 = results153['result']\n",
    "data153 = pd.DataFrame(result_articles153)"
   ]
  },
  {
   "cell_type": "code",
   "execution_count": 233,
   "id": "58a6e292-7f35-4d0a-bccb-03ef46784304",
   "metadata": {},
   "outputs": [],
   "source": [
    "url154 = f'https://search.prod.di.api.cnn.io/content?q=stock%20index%20500&size=10&from=1530&page=154&sort=newest&request_id=pdx-search-07f214f7-3192-49b4-a5f3-d2ba9a1141e8'\n",
    "headers = {'name':'Asta Thit Kettel', 'from':'ucph','email':'dnp@ku.dk'}\n",
    "response154 = requests.get(url154, headers)\n",
    "results154 = response154.json()\n",
    "result_articles154 = results154['result']\n",
    "data154 = pd.DataFrame(result_articles154)"
   ]
  },
  {
   "cell_type": "code",
   "execution_count": 234,
   "id": "9ca438dc-9cd4-405a-a586-c477884a3448",
   "metadata": {},
   "outputs": [],
   "source": [
    "url155 = f'https://search.prod.di.api.cnn.io/content?q=stock%20index%20500&size=10&from=1540&page=155&sort=newest&request_id=pdx-search-0817d6ab-4e58-452d-bcf9-1dbe3f09cfa6'\n",
    "headers = {'name':'Asta Thit Kettel', 'from':'ucph','email':'dnp@ku.dk'}\n",
    "response155 = requests.get(url155, headers)\n",
    "results155 = response155.json()\n",
    "result_articles155 = results155['result']\n",
    "data155 = pd.DataFrame(result_articles155)"
   ]
  },
  {
   "cell_type": "code",
   "execution_count": 235,
   "id": "10e01069-a32b-4c4c-8797-beec2e49b12c",
   "metadata": {},
   "outputs": [],
   "source": [
    "url156 = f'https://search.prod.di.api.cnn.io/content?q=stock%20index%20500&size=10&from=1550&page=156&sort=newest&request_id=pdx-search-a0a09c4c-c2d5-475b-933b-312ba03e4db5'\n",
    "headers = {'name':'Asta Thit Kettel', 'from':'ucph','email':'dnp@ku.dk'}\n",
    "response156 = requests.get(url156, headers)\n",
    "results156 = response156.json()\n",
    "result_articles156 = results156['result']\n",
    "data156 = pd.DataFrame(result_articles156)"
   ]
  },
  {
   "cell_type": "code",
   "execution_count": 237,
   "id": "2b243fff-010b-4304-a961-f2e1cb89c67a",
   "metadata": {},
   "outputs": [],
   "source": [
    "url157 = f'https://search.prod.di.api.cnn.io/content?q=stock%20index%20500&size=10&from=1560&page=157&sort=newest&request_id=pdx-search-3d564ccc-e06a-4cb5-90f4-a051e8076268'\n",
    "headers = {'name':'Asta Thit Kettel', 'from':'ucph','email':'dnp@ku.dk'}\n",
    "response157 = requests.get(url157, headers)\n",
    "results157 = response157.json()\n",
    "result_articles157 = results157['result']\n",
    "data157 = pd.DataFrame(result_articles157)"
   ]
  },
  {
   "cell_type": "code",
   "execution_count": 239,
   "id": "8ab94ba2-a41f-4b25-8119-33c5d653f04e",
   "metadata": {},
   "outputs": [],
   "source": [
    "url158 = f'https://search.prod.di.api.cnn.io/content?q=stock%20index%20500&size=10&from=1570&page=158&sort=newest&request_id=pdx-search-a0f67097-626a-496f-9f4f-02c3d193151e'\n",
    "headers = {'name':'Asta Thit Kettel', 'from':'ucph','email':'dnp@ku.dk'}\n",
    "response158 = requests.get(url158, headers)\n",
    "results158 = response158.json()\n",
    "result_articles158 = results158['result']\n",
    "data158 = pd.DataFrame(result_articles158)"
   ]
  },
  {
   "cell_type": "code",
   "execution_count": 240,
   "id": "558ab6ce-132e-4db3-87f4-1ea3b4ea2c2d",
   "metadata": {},
   "outputs": [],
   "source": [
    "url159 = f'https://search.prod.di.api.cnn.io/content?q=stock%20index%20500&size=10&from=1580&page=159&sort=newest&request_id=pdx-search-48da8eaf-ce45-4181-9296-f5aa0a62b481'\n",
    "headers = {'name':'Asta Thit Kettel', 'from':'ucph','email':'dnp@ku.dk'}\n",
    "response159 = requests.get(url159, headers)\n",
    "results159 = response159.json()\n",
    "result_articles159 = results159['result']\n",
    "data159 = pd.DataFrame(result_articles159)"
   ]
  },
  {
   "cell_type": "code",
   "execution_count": 242,
   "id": "b0b24048-1c4b-43d5-8a6c-7b939692b8a6",
   "metadata": {},
   "outputs": [],
   "source": [
    "url160 = f'https://search.prod.di.api.cnn.io/content?q=stock%20index%20500&size=10&from=1590&page=160&sort=newest&request_id=pdx-search-91955843-04f0-43e6-b3f2-a3207f777251'\n",
    "headers = {'name':'Asta Thit Kettel', 'from':'ucph','email':'dnp@ku.dk'}\n",
    "response160 = requests.get(url160, headers)\n",
    "results160 = response160.json()\n",
    "result_articles160 = results160['result']\n",
    "data160 = pd.DataFrame(result_articles160)"
   ]
  },
  {
   "cell_type": "code",
   "execution_count": 243,
   "id": "848a0569-87b3-4d9b-8ce6-ca0ce438ba1a",
   "metadata": {},
   "outputs": [],
   "source": [
    "url161 = f'https://search.prod.di.api.cnn.io/content?q=stock%20index%20500&size=10&from=1600&page=161&sort=newest&request_id=pdx-search-c3f41646-ae3e-44a0-8d84-5c0fc9121d02'\n",
    "headers = {'name':'Asta Thit Kettel', 'from':'ucph','email':'dnp@ku.dk'}\n",
    "response161 = requests.get(url161, headers)\n",
    "results161 = response161.json()\n",
    "result_articles161 = results161['result']\n",
    "data161 = pd.DataFrame(result_articles161)"
   ]
  },
  {
   "cell_type": "code",
   "execution_count": 244,
   "id": "8886522c-2272-4d26-a2c7-093859d1b2c8",
   "metadata": {},
   "outputs": [],
   "source": [
    "url162 = f'https://search.prod.di.api.cnn.io/content?q=stock%20index%20500&size=10&from=1610&page=162&sort=newest&request_id=pdx-search-b9b4872e-7e06-496b-8291-5254f9010bc7'\n",
    "headers = {'name':'Asta Thit Kettel', 'from':'ucph','email':'dnp@ku.dk'}\n",
    "response162 = requests.get(url162, headers)\n",
    "results162 = response162.json()\n",
    "result_articles162 = results162['result']\n",
    "data162 = pd.DataFrame(result_articles162)"
   ]
  },
  {
   "cell_type": "code",
   "execution_count": 245,
   "id": "d79caea2-947b-4849-b2c0-b21534ea052c",
   "metadata": {},
   "outputs": [],
   "source": [
    "url163 = f'https://search.prod.di.api.cnn.io/content?q=stock%20index%20500&size=10&from=1620&page=163&sort=newest&request_id=pdx-search-b56c3ac5-f983-4bd9-85a9-d098356e0174'\n",
    "headers = {'name':'Asta Thit Kettel', 'from':'ucph','email':'dnp@ku.dk'}\n",
    "response163 = requests.get(url163, headers)\n",
    "results163 = response163.json()\n",
    "result_articles163 = results163['result']\n",
    "data163 = pd.DataFrame(result_articles163)"
   ]
  },
  {
   "cell_type": "code",
   "execution_count": 246,
   "id": "d61a5a9e-202b-4055-8a71-ece327110e4d",
   "metadata": {},
   "outputs": [],
   "source": [
    "url164 = f'https://search.prod.di.api.cnn.io/content?q=stock%20index%20500&size=10&from=1630&page=164&sort=newest&request_id=pdx-search-a790322a-fcfe-4ca0-a142-5c1c9d8c660c'\n",
    "headers = {'name':'Asta Thit Kettel', 'from':'ucph','email':'dnp@ku.dk'}\n",
    "response164 = requests.get(url164, headers)\n",
    "results164 = response164.json()\n",
    "result_articles164 = results164['result']\n",
    "data164 = pd.DataFrame(result_articles164)"
   ]
  },
  {
   "cell_type": "code",
   "execution_count": 247,
   "id": "a006c836-2694-4b2f-a425-ffe13eb73859",
   "metadata": {},
   "outputs": [],
   "source": [
    "url165 = f'https://search.prod.di.api.cnn.io/content?q=stock%20index%20500&size=10&from=1640&page=165&sort=newest&request_id=pdx-search-82db73b6-9a46-4299-a962-3ac8f1e33167'\n",
    "headers = {'name':'Asta Thit Kettel', 'from':'ucph','email':'dnp@ku.dk'}\n",
    "response165 = requests.get(url165, headers)\n",
    "results165 = response165.json()\n",
    "result_articles165 = results165['result']\n",
    "data165 = pd.DataFrame(result_articles165)"
   ]
  },
  {
   "cell_type": "code",
   "execution_count": 249,
   "id": "40959f87-cf6f-4544-91d6-1582b3888f29",
   "metadata": {},
   "outputs": [],
   "source": [
    "url166 = f'https://search.prod.di.api.cnn.io/content?q=stock%20index%20500&size=10&from=1650&page=166&sort=newest&request_id=pdx-search-602d02f1-7294-4eb4-bce2-ef71a3f74969'\n",
    "headers = {'name':'Asta Thit Kettel', 'from':'ucph','email':'dnp@ku.dk'}\n",
    "response166 = requests.get(url166, headers)\n",
    "results166 = response166.json()\n",
    "result_articles166 = results166['result']\n",
    "data166 = pd.DataFrame(result_articles166)"
   ]
  },
  {
   "cell_type": "code",
   "execution_count": 250,
   "id": "3b1bda02-08b7-49b8-b879-1d62ea7900e6",
   "metadata": {},
   "outputs": [],
   "source": [
    "url167 = f'https://search.prod.di.api.cnn.io/content?q=stock%20index%20500&size=10&from=1660&page=167&sort=newest&request_id=pdx-search-6061b170-83b2-4eb8-a3fc-34ac4feab29d'\n",
    "headers = {'name':'Asta Thit Kettel', 'from':'ucph','email':'dnp@ku.dk'}\n",
    "response167 = requests.get(url167, headers)\n",
    "results167 = response167.json()\n",
    "result_articles167 = results167['result']\n",
    "data167 = pd.DataFrame(result_articles167)"
   ]
  },
  {
   "cell_type": "code",
   "execution_count": 252,
   "id": "9e2e518b-4b10-4698-ba65-7c2d5b541d58",
   "metadata": {},
   "outputs": [],
   "source": [
    "url168 = f'https://search.prod.di.api.cnn.io/content?q=stock%20index%20500&size=10&from=1670&page=168&sort=newest&request_id=pdx-search-f865f6de-5861-4c4b-86b1-c46e6eef5004'\n",
    "headers = {'name':'Asta Thit Kettel', 'from':'ucph','email':'dnp@ku.dk'}\n",
    "response168 = requests.get(url168, headers)\n",
    "results168 = response168.json()\n",
    "result_articles168 = results168['result']\n",
    "data168 = pd.DataFrame(result_articles168)"
   ]
  },
  {
   "cell_type": "code",
   "execution_count": 253,
   "id": "7bd40614-b914-4edc-abe2-ca74f17ca5cc",
   "metadata": {},
   "outputs": [],
   "source": [
    "url169 = f'https://search.prod.di.api.cnn.io/content?q=stock%20index%20500&size=10&from=1680&page=169&sort=newest&request_id=pdx-search-94085849-2292-4a2c-88ed-02eedf550b2'\n",
    "headers = {'name':'Asta Thit Kettel', 'from':'ucph','email':'dnp@ku.dk'}\n",
    "response169 = requests.get(url169, headers)\n",
    "results169 = response169.json()\n",
    "result_articles169 = results169['result']\n",
    "data169 = pd.DataFrame(result_articles169)"
   ]
  },
  {
   "cell_type": "code",
   "execution_count": 254,
   "id": "f69e37ac-ca1c-4d5e-9756-cff28b111bc1",
   "metadata": {},
   "outputs": [],
   "source": [
    "url170 = f'https://search.prod.di.api.cnn.io/content?q=stock%20index%20500&size=10&from=1690&page=170&sort=newest&request_id=pdx-search-b879e481-cc3e-46e9-b569-1ce80dc6cc2e'\n",
    "headers = {'name':'Asta Thit Kettel', 'from':'ucph','email':'dnp@ku.dk'}\n",
    "response170 = requests.get(url170, headers)\n",
    "results170 = response170.json()\n",
    "result_articles170 = results170['result']\n",
    "data170 = pd.DataFrame(result_articles170)"
   ]
  },
  {
   "cell_type": "code",
   "execution_count": 256,
   "id": "8c68a0c2-0533-4dd4-80be-86fecaa57d24",
   "metadata": {},
   "outputs": [],
   "source": [
    "url171 = f'https://search.prod.di.api.cnn.io/content?q=stock%20index%20500&size=10&from=1700&page=171&sort=newest&request_id=pdx-search-ff6d9da4-137d-4130-b44c-7128a5eaf4d4'\n",
    "headers = {'name':'Asta Thit Kettel', 'from':'ucph','email':'dnp@ku.dk'}\n",
    "response171 = requests.get(url171, headers)\n",
    "results171 = response171.json()\n",
    "result_articles171 = results171['result']\n",
    "data171 = pd.DataFrame(result_articles171)"
   ]
  },
  {
   "cell_type": "code",
   "execution_count": 257,
   "id": "19ebe048-1a15-485a-84c3-038998e25703",
   "metadata": {},
   "outputs": [],
   "source": [
    "url172 = f'https://search.prod.di.api.cnn.io/content?q=stock%20index%20500&size=10&from=1710&page=172&sort=newest&request_id=pdx-search-ed32bbb1-55c5-434b-a720-5836d6ad375a'\n",
    "headers = {'name':'Asta Thit Kettel', 'from':'ucph','email':'dnp@ku.dk'}\n",
    "response172 = requests.get(url172, headers)\n",
    "results172 = response172.json()\n",
    "result_articles172 = results172['result']\n",
    "data172 = pd.DataFrame(result_articles172)"
   ]
  },
  {
   "cell_type": "code",
   "execution_count": 258,
   "id": "9d7f397a-9c28-4780-b4f6-26d3d1fecdf8",
   "metadata": {},
   "outputs": [],
   "source": [
    "url173 = f'https://search.prod.di.api.cnn.io/content?q=stock%20index%20500&size=10&from=1720&page=173&sort=newest&request_id=pdx-search-1753c4f1-2d23-428f-a056-9b377ba17165'\n",
    "headers = {'name':'Asta Thit Kettel', 'from':'ucph','email':'dnp@ku.dk'}\n",
    "response173 = requests.get(url173, headers)\n",
    "results173 = response173.json()\n",
    "result_articles173 = results173['result']\n",
    "data173 = pd.DataFrame(result_articles173)"
   ]
  },
  {
   "cell_type": "code",
   "execution_count": 259,
   "id": "16035ceb-725c-4955-9d2f-17a392182cd2",
   "metadata": {},
   "outputs": [],
   "source": [
    "url174 = f'https://search.prod.di.api.cnn.io/content?q=stock%20index%20500&size=10&from=1730&page=174&sort=newest&request_id=pdx-search-53d1e258-c9b2-4f73-a6ab-ab451f4b430f'\n",
    "headers = {'name':'Asta Thit Kettel', 'from':'ucph','email':'dnp@ku.dk'}\n",
    "response174 = requests.get(url174, headers)\n",
    "results174 = response174.json()\n",
    "result_articles174 = results174['result']\n",
    "data174 = pd.DataFrame(result_articles174)"
   ]
  },
  {
   "cell_type": "code",
   "execution_count": 260,
   "id": "9116d87f-5f27-43b1-a42f-e8a97530457e",
   "metadata": {},
   "outputs": [],
   "source": [
    "url175 = f'https://search.prod.di.api.cnn.io/content?q=stock%20index%20500&size=10&from=1740&page=175&sort=newest&request_id=pdx-search-27562948-2d51-440b-a6dc-501f6e91da03'\n",
    "headers = {'name':'Asta Thit Kettel', 'from':'ucph','email':'dnp@ku.dk'}\n",
    "response175 = requests.get(url175, headers)\n",
    "results175 = response175.json()\n",
    "result_articles175 = results175['result']\n",
    "data175 = pd.DataFrame(result_articles175)"
   ]
  },
  {
   "cell_type": "code",
   "execution_count": 261,
   "id": "63f99ed6-092f-4783-9edf-0ca48d55ba31",
   "metadata": {},
   "outputs": [],
   "source": [
    "url176 = f'https://search.prod.di.api.cnn.io/content?q=stock%20index%20500&size=10&from=1750&page=176&sort=newest&request_id=pdx-search-c58cb8ac-f5a8-4685-aa9d-08ea08c84710'\n",
    "headers = {'name':'Asta Thit Kettel', 'from':'ucph','email':'dnp@ku.dk'}\n",
    "response176 = requests.get(url176, headers)\n",
    "results176 = response176.json()\n",
    "result_articles176 = results176['result']\n",
    "data176 = pd.DataFrame(result_articles176)"
   ]
  },
  {
   "cell_type": "code",
   "execution_count": 262,
   "id": "99b6b381-92d2-41c0-963f-2a18eb0e8cf4",
   "metadata": {},
   "outputs": [],
   "source": [
    "url177 = f'https://search.prod.di.api.cnn.io/content?q=stock%20index%20500&size=10&from=1760&page=177&sort=newest&request_id=pdx-search-a8dcc165-53b2-453d-abd2-6914d63e19a7'\n",
    "headers = {'name':'Asta Thit Kettel', 'from':'ucph','email':'dnp@ku.dk'}\n",
    "response177 = requests.get(url177, headers)\n",
    "results177 = response177.json()\n",
    "result_articles177 = results177['result']\n",
    "data177 = pd.DataFrame(result_articles177)"
   ]
  },
  {
   "cell_type": "code",
   "execution_count": 263,
   "id": "75d03afa-8816-4673-8aa1-4238a84a5e83",
   "metadata": {},
   "outputs": [],
   "source": [
    "url178 = f'https://search.prod.di.api.cnn.io/content?q=stock%20index%20500&size=10&from=1770&page=178&sort=newest&request_id=pdx-search-a0261d94-8188-4b05-b082-6c2bbf63da3b'\n",
    "headers = {'name':'Asta Thit Kettel', 'from':'ucph','email':'dnp@ku.dk'}\n",
    "response178 = requests.get(url178, headers)\n",
    "results178 = response178.json()\n",
    "result_articles178 = results178['result']\n",
    "data178 = pd.DataFrame(result_articles178)"
   ]
  },
  {
   "cell_type": "code",
   "execution_count": 264,
   "id": "296cbbc5-a8d9-410c-9823-8fd806f89984",
   "metadata": {},
   "outputs": [],
   "source": [
    "url179 = f'https://search.prod.di.api.cnn.io/content?q=stock%20index%20500&size=10&from=1780&page=179&sort=newest&request_id=pdx-search-95068236-2038-40f3-b087-597354229f9c'\n",
    "headers = {'name':'Asta Thit Kettel', 'from':'ucph','email':'dnp@ku.dk'}\n",
    "response179 = requests.get(url179, headers)\n",
    "results179 = response179.json()\n",
    "result_articles179 = results179['result']\n",
    "data179 = pd.DataFrame(result_articles179)"
   ]
  },
  {
   "cell_type": "code",
   "execution_count": 266,
   "id": "03db80a5-8579-47cd-bf06-ae2a041e1598",
   "metadata": {},
   "outputs": [],
   "source": [
    "url180 = f'https://search.prod.di.api.cnn.io/content?q=stock%20index%20500&size=10&from=1790&page=180&sort=newest&request_id=pdx-search-9612c1b0-9757-49ed-a5b9-c90443f957cd'\n",
    "headers = {'name':'Asta Thit Kettel', 'from':'ucph','email':'dnp@ku.dk'}\n",
    "response180 = requests.get(url180, headers)\n",
    "results180 = response180.json()\n",
    "result_articles180 = results180['result']\n",
    "data180 = pd.DataFrame(result_articles180)"
   ]
  },
  {
   "cell_type": "code",
   "execution_count": 268,
   "id": "a9102460-bf33-4ff2-bac3-db5c7f39e6b0",
   "metadata": {},
   "outputs": [],
   "source": [
    "url181 = f'https://search.prod.di.api.cnn.io/content?q=stock%20index%20500&size=10&from=1800&page=181&sort=newest&request_id=pdx-search-eb7996f4-538a-4368-bccc-037b5da40c35'\n",
    "headers = {'name':'Asta Thit Kettel', 'from':'ucph','email':'dnp@ku.dk'}\n",
    "response181 = requests.get(url181, headers)\n",
    "results181 = response181.json()\n",
    "result_articles181 = results181['result']\n",
    "data181 = pd.DataFrame(result_articles181)"
   ]
  },
  {
   "cell_type": "code",
   "execution_count": 270,
   "id": "ba6897a7-774f-4499-9220-b85712bfd291",
   "metadata": {},
   "outputs": [],
   "source": [
    "url182 = f'https://search.prod.di.api.cnn.io/content?q=stock%20index%20500&size=10&from=1810&page=182&sort=newest&request_id=pdx-search-a04e54a1-86eb-4a4f-a7a7-0508a596fbfa'\n",
    "headers = {'name':'Asta Thit Kettel', 'from':'ucph','email':'dnp@ku.dk'}\n",
    "response182 = requests.get(url182, headers)\n",
    "results182 = response182.json()\n",
    "result_articles182 = results182['result']\n",
    "data182 = pd.DataFrame(result_articles182)"
   ]
  },
  {
   "cell_type": "code",
   "execution_count": 272,
   "id": "8d938f77-285d-41e3-abe4-6e0da1587761",
   "metadata": {},
   "outputs": [],
   "source": [
    "url183 = f'https://search.prod.di.api.cnn.io/content?q=stock%20index%20500&size=10&from=1820&page=183&sort=newest&request_id=pdx-search-f237a2e1-291b-4047-9d2b-8fc58c3d746c'\n",
    "headers = {'name':'Asta Thit Kettel', 'from':'ucph','email':'dnp@ku.dk'}\n",
    "response183 = requests.get(url183, headers)\n",
    "results183 = response183.json()\n",
    "result_articles183 = results183['result']\n",
    "data183 = pd.DataFrame(result_articles183)"
   ]
  },
  {
   "cell_type": "code",
   "execution_count": 273,
   "id": "77597114-629f-4ea3-9de7-dafc16614734",
   "metadata": {},
   "outputs": [],
   "source": [
    "url184 = f'https://search.prod.di.api.cnn.io/content?q=stock%20index%20500&size=10&from=1830&page=184&sort=newest&request_id=pdx-search-fc85cc4a-bae8-4f79-8c9e-d7db6a9410b4'\n",
    "headers = {'name':'Asta Thit Kettel', 'from':'ucph','email':'dnp@ku.dk'}\n",
    "response184 = requests.get(url184, headers)\n",
    "results184 = response184.json()\n",
    "result_articles184 = results184['result']\n",
    "data184 = pd.DataFrame(result_articles184)"
   ]
  },
  {
   "cell_type": "code",
   "execution_count": 274,
   "id": "24e16cd2-4e47-4328-b254-9052c293862e",
   "metadata": {},
   "outputs": [],
   "source": [
    "url185 = f'https://search.prod.di.api.cnn.io/content?q=stock%20index%20500&size=10&from=1840&page=185&sort=newest&request_id=pdx-search-d2f7e23e-da53-4998-bf70-f48fef45d05f'\n",
    "headers = {'name':'Asta Thit Kettel', 'from':'ucph','email':'dnp@ku.dk'}\n",
    "response185 = requests.get(url185, headers)\n",
    "results185 = response185.json()\n",
    "result_articles185 = results185['result']\n",
    "data185 = pd.DataFrame(result_articles185)"
   ]
  },
  {
   "cell_type": "code",
   "execution_count": 275,
   "id": "5821c06e-9ae1-4cc7-9e2d-c9106de484c6",
   "metadata": {},
   "outputs": [],
   "source": [
    "url186 = f'https://search.prod.di.api.cnn.io/content?q=stock%20index%20500&size=10&from=1850&page=186&sort=newest&request_id=pdx-search-b2590360-9a53-4ee0-9fa1-e575219f0b26'\n",
    "headers = {'name':'Asta Thit Kettel', 'from':'ucph','email':'dnp@ku.dk'}\n",
    "response186 = requests.get(url186, headers)\n",
    "results186 = response186.json()\n",
    "result_articles186 = results186['result']\n",
    "data186 = pd.DataFrame(result_articles186)"
   ]
  },
  {
   "cell_type": "code",
   "execution_count": 276,
   "id": "96b826b6-f6b9-4bf1-83a7-4c78da915f4c",
   "metadata": {},
   "outputs": [],
   "source": [
    "url187 = f'https://search.prod.di.api.cnn.io/content?q=stock%20index%20500&size=10&from=1860&page=187&sort=newest&request_id=pdx-search-7fd20981-ac28-434f-88bb-82c159f21095'\n",
    "headers = {'name':'Asta Thit Kettel', 'from':'ucph','email':'dnp@ku.dk'}\n",
    "response187 = requests.get(url187, headers)\n",
    "results187 = response187.json()\n",
    "result_articles187 = results187['result']\n",
    "data187 = pd.DataFrame(result_articles187)"
   ]
  },
  {
   "cell_type": "code",
   "execution_count": 278,
   "id": "df6bc87d-ee1a-470b-ab4f-44ea0538dce8",
   "metadata": {},
   "outputs": [],
   "source": [
    "url188 = f'https://search.prod.di.api.cnn.io/content?q=stock%20index%20500&size=10&from=1870&page=188&sort=newest&request_id=pdx-search-ed03a667-020f-4da8-a0ef-6c2f93bbc7fc'\n",
    "headers = {'name':'Asta Thit Kettel', 'from':'ucph','email':'dnp@ku.dk'}\n",
    "response188 = requests.get(url188, headers)\n",
    "results188 = response188.json()\n",
    "result_articles188 = results188['result']\n",
    "data188 = pd.DataFrame(result_articles188)"
   ]
  },
  {
   "cell_type": "code",
   "execution_count": 279,
   "id": "7d65b904-9855-43f6-8c88-19e184b51e63",
   "metadata": {},
   "outputs": [],
   "source": [
    "url189 = f'https://search.prod.di.api.cnn.io/content?q=stock%20index%20500&size=10&from=1880&page=189&sort=newest&request_id=pdx-search-7ee3dd9c-9f0e-4dc9-8583-21dcee4c0e15'\n",
    "headers = {'name':'Asta Thit Kettel', 'from':'ucph','email':'dnp@ku.dk'}\n",
    "response189 = requests.get(url189, headers)\n",
    "results189 = response189.json()\n",
    "result_articles189 = results189['result']\n",
    "data189 = pd.DataFrame(result_articles189)"
   ]
  },
  {
   "cell_type": "code",
   "execution_count": 281,
   "id": "7cd63ddd-9024-47ac-a981-336e7d93f841",
   "metadata": {},
   "outputs": [],
   "source": [
    "url190 = f'https://search.prod.di.api.cnn.io/content?q=stock%20index%20500&size=10&from=1890&page=190&sort=newest&request_id=pdx-search-92bdf309-8672-475a-8414-f8e26811732c'\n",
    "headers = {'name':'Asta Thit Kettel', 'from':'ucph','email':'dnp@ku.dk'}\n",
    "response190 = requests.get(url190, headers)\n",
    "results190 = response190.json()\n",
    "result_articles190 = results190['result']\n",
    "data190 = pd.DataFrame(result_articles190)"
   ]
  },
  {
   "cell_type": "code",
   "execution_count": 282,
   "id": "f8596d3f-8686-44ea-bac0-4860f749646f",
   "metadata": {},
   "outputs": [],
   "source": [
    "url191 = f'https://search.prod.di.api.cnn.io/content?q=stock%20index%20500&size=10&from=1900&page=191&sort=newest&request_id=pdx-search-76b5a0a8-8700-440d-a211-ef97732c553f'\n",
    "headers = {'name':'Asta Thit Kettel', 'from':'ucph','email':'dnp@ku.dk'}\n",
    "response191 = requests.get(url191, headers)\n",
    "results191 = response191.json()\n",
    "result_articles191 = results191['result']\n",
    "data191 = pd.DataFrame(result_articles191)"
   ]
  },
  {
   "cell_type": "code",
   "execution_count": 284,
   "id": "82c93584-3b79-4408-9471-738a0b4ca0b1",
   "metadata": {},
   "outputs": [],
   "source": [
    "url192 = f'https://search.prod.di.api.cnn.io/content?q=stock%20index%20500&size=10&from=1910&page=192&sort=newest&request_id=pdx-search-c2d262ca-3f03-418d-81f9-e195fe315e2e'\n",
    "headers = {'name':'Asta Thit Kettel', 'from':'ucph','email':'dnp@ku.dk'}\n",
    "response192 = requests.get(url192, headers)\n",
    "results192 = response192.json()\n",
    "result_articles192 = results192['result']\n",
    "data192 = pd.DataFrame(result_articles192)"
   ]
  },
  {
   "cell_type": "code",
   "execution_count": 285,
   "id": "22574a3d-9d20-402d-94cd-fa2a72efdcc8",
   "metadata": {},
   "outputs": [],
   "source": [
    "url193 = f'https://search.prod.di.api.cnn.io/content?q=stock%20index%20500&size=10&from=1920&page=193&sort=newest&request_id=pdx-search-cd64fa73-82ea-401b-a06d-374aed688e16'\n",
    "headers = {'name':'Asta Thit Kettel', 'from':'ucph','email':'dnp@ku.dk'}\n",
    "response193 = requests.get(url193, headers)\n",
    "results193 = response193.json()\n",
    "result_articles193 = results193['result']\n",
    "data193 = pd.DataFrame(result_articles193)"
   ]
  },
  {
   "cell_type": "code",
   "execution_count": 289,
   "id": "a4b84c41-d363-474e-9a6c-6b79bbba15f7",
   "metadata": {},
   "outputs": [],
   "source": [
    "url194 = f'https://search.prod.di.api.cnn.io/content?q=stock%20index%20500&size=10&from=1930&page=194&sort=newest&request_id=pdx-search-6aa24aee-e60e-458e-90fd-53d42a53bac7'\n",
    "headers = {'name':'Asta Thit Kettel', 'from':'ucph','email':'dnp@ku.dk'}\n",
    "response194 = requests.get(url194, headers)\n",
    "results194 = response194.json()\n",
    "result_articles194 = results194['result']\n",
    "data194 = pd.DataFrame(result_articles194)"
   ]
  },
  {
   "cell_type": "code",
   "execution_count": 290,
   "id": "73e7843f-e84b-4da6-8097-14985bfa289c",
   "metadata": {},
   "outputs": [],
   "source": [
    "url195 = f'https://search.prod.di.api.cnn.io/content?q=stock%20index%20500&size=10&from=1940&page=195&sort=newest&request_id=pdx-search-d79a217c-daff-4a41-89bd-08994cb62331'\n",
    "headers = {'name':'Asta Thit Kettel', 'from':'ucph','email':'dnp@ku.dk'}\n",
    "response195 = requests.get(url195, headers)\n",
    "results195 = response195.json()\n",
    "result_articles195 = results195['result']\n",
    "data195 = pd.DataFrame(result_articles195)"
   ]
  },
  {
   "cell_type": "code",
   "execution_count": 291,
   "id": "82508651-7b41-4ab4-81ec-e2d8f3e81074",
   "metadata": {},
   "outputs": [],
   "source": [
    "url196 = f'https://search.prod.di.api.cnn.io/content?q=stock%20index%20500&size=10&from=1950&page=196&sort=newest&request_id=pdx-search-aa7c625b-2dac-4ed4-b3a3-d0aeecc8e11d'\n",
    "headers = {'name':'Asta Thit Kettel', 'from':'ucph','email':'dnp@ku.dk'}\n",
    "response196 = requests.get(url196, headers)\n",
    "results196 = response196.json()\n",
    "result_articles196 = results196['result']\n",
    "data196 = pd.DataFrame(result_articles196)"
   ]
  },
  {
   "cell_type": "code",
   "execution_count": 293,
   "id": "6f389a89-4fb7-41e8-813b-14c9d1c07681",
   "metadata": {},
   "outputs": [],
   "source": [
    "url197 = f'https://search.prod.di.api.cnn.io/content?q=stock%20index%20500&size=10&from=1960&page=197&sort=newest&request_id=pdx-search-89c42c8c-23ae-4348-b11d-e85a0dd34a61'\n",
    "headers = {'name':'Asta Thit Kettel', 'from':'ucph','email':'dnp@ku.dk'}\n",
    "response197 = requests.get(url197, headers)\n",
    "results197 = response197.json()\n",
    "result_articles197 = results197['result']\n",
    "data197 = pd.DataFrame(result_articles197)"
   ]
  },
  {
   "cell_type": "code",
   "execution_count": 294,
   "id": "f587daeb-76bf-477b-8447-8586df23ca0a",
   "metadata": {},
   "outputs": [],
   "source": [
    "url198 = f'https://search.prod.di.api.cnn.io/content?q=stock%20index%20500&size=10&from=1970&page=198&sort=newest&request_id=pdx-search-b58a42ac-7cab-486b-889a-f589e0b7d24e'\n",
    "headers = {'name':'Asta Thit Kettel', 'from':'ucph','email':'dnp@ku.dk'}\n",
    "response198 = requests.get(url198, headers)\n",
    "results198 = response198.json()\n",
    "result_articles198 = results198['result']\n",
    "data198 = pd.DataFrame(result_articles198)"
   ]
  },
  {
   "cell_type": "code",
   "execution_count": 295,
   "id": "aa7df9eb-b8d1-4d4f-b5ed-bfbc4ba1cb44",
   "metadata": {},
   "outputs": [],
   "source": [
    "url199 = f'https://search.prod.di.api.cnn.io/content?q=stock%20index%20500&size=10&from=1980&page=199&sort=newest&request_id=pdx-search-c61e66a0-6792-4a16-bf63-35650457afe0'\n",
    "headers = {'name':'Asta Thit Kettel', 'from':'ucph','email':'dnp@ku.dk'}\n",
    "response199 = requests.get(url199, headers)\n",
    "results199 = response199.json()\n",
    "result_articles199 = results199['result']\n",
    "data199 = pd.DataFrame(result_articles199)"
   ]
  },
  {
   "cell_type": "code",
   "execution_count": 296,
   "id": "c310f2b9-29ac-45c5-948e-4d99d9b599bb",
   "metadata": {},
   "outputs": [],
   "source": [
    "url200 = f'https://search.prod.di.api.cnn.io/content?q=stock%20index%20500&size=10&from=1990&page=200&sort=newest&request_id=pdx-search-8f0a0b98-f9ff-481a-bd62-771440c5ffe7'\n",
    "headers = {'name':'Asta Thit Kettel', 'from':'ucph','email':'dnp@ku.dk'}\n",
    "response200 = requests.get(url200, headers)\n",
    "results200 = response200.json()\n",
    "result_articles200 = results200['result']\n",
    "data200 = pd.DataFrame(result_articles200)"
   ]
  },
  {
   "cell_type": "code",
   "execution_count": 297,
   "id": "e3265412-e422-4202-8ec1-53da11c0120a",
   "metadata": {},
   "outputs": [],
   "source": [
    "url201 = f'https://search.prod.di.api.cnn.io/content?q=stock%20index%20500&size=10&from=2000&page=201&sort=newest&request_id=pdx-search-1d182fd8-4e3c-4f0e-b5ff-c8a423cc6414'\n",
    "headers = {'name':'Asta Thit Kettel', 'from':'ucph','email':'dnp@ku.dk'}\n",
    "response201 = requests.get(url201, headers)\n",
    "results201 = response201.json()\n",
    "result_articles201 = results201['result']\n",
    "data201 = pd.DataFrame(result_articles201)"
   ]
  },
  {
   "cell_type": "code",
   "execution_count": 298,
   "id": "a0af2be4-b5e9-42d6-a6b2-cb6dce0cf435",
   "metadata": {},
   "outputs": [],
   "source": [
    "url202 = f'https://search.prod.di.api.cnn.io/content?q=stock%20index%20500&size=10&from=2010&page=202&sort=newest&request_id=pdx-search-8c3feff6-7f91-41aa-a629-b5630c94c5af'\n",
    "headers = {'name':'Asta Thit Kettel', 'from':'ucph','email':'dnp@ku.dk'}\n",
    "response202 = requests.get(url202, headers)\n",
    "results202 = response202.json()\n",
    "result_articles202 = results202['result']\n",
    "data202 = pd.DataFrame(result_articles202)"
   ]
  },
  {
   "cell_type": "code",
   "execution_count": 299,
   "id": "8aa31c6d-9deb-47d8-be58-3a7352cdebfe",
   "metadata": {},
   "outputs": [],
   "source": [
    "url203 = f'https://search.prod.di.api.cnn.io/content?q=stock%20index%20500&size=10&from=2020&page=203&sort=newest&request_id=pdx-search-ecd005a1-255a-4b1b-be52-a86c88244a95'\n",
    "headers = {'name':'Asta Thit Kettel', 'from':'ucph','email':'dnp@ku.dk'}\n",
    "response203 = requests.get(url203, headers)\n",
    "results203 = response203.json()\n",
    "result_articles203 = results203['result']\n",
    "data203 = pd.DataFrame(result_articles203)"
   ]
  },
  {
   "cell_type": "code",
   "execution_count": 300,
   "id": "f86ce5be-9803-4b60-8567-b2399c67fc88",
   "metadata": {},
   "outputs": [],
   "source": [
    "url204 = f'https://search.prod.di.api.cnn.io/content?q=stock%20index%20500&size=10&from=2030&page=204&sort=newest&request_id=pdx-search-ac36d540-7c44-4dd7-9a51-ade28bf352bd'\n",
    "headers = {'name':'Asta Thit Kettel', 'from':'ucph','email':'dnp@ku.dk'}\n",
    "response204 = requests.get(url204, headers)\n",
    "results204 = response204.json()\n",
    "result_articles204 = results204['result']\n",
    "data204 = pd.DataFrame(result_articles204)"
   ]
  },
  {
   "cell_type": "code",
   "execution_count": 303,
   "id": "a039255f-e61c-49c9-b53c-c29936028d8d",
   "metadata": {},
   "outputs": [],
   "source": [
    "url205 = f'https://search.prod.di.api.cnn.io/content?q=stock%20index%20500&size=10&from=2040&page=205&sort=newest&request_id=pdx-search-1a2efcfa-e13a-41f8-b4be-d835b0d65d9e'\n",
    "headers = {'name':'Asta Thit Kettel', 'from':'ucph','email':'dnp@ku.dk'}\n",
    "response205 = requests.get(url205, headers)\n",
    "results205 = response205.json()\n",
    "result_articles205 = results205['result']\n",
    "data205 = pd.DataFrame(result_articles205)"
   ]
  },
  {
   "cell_type": "code",
   "execution_count": 305,
   "id": "5e150bf7-fedb-450b-ac0e-eeceb3641d76",
   "metadata": {},
   "outputs": [],
   "source": [
    "url206 = f'https://search.prod.di.api.cnn.io/content?q=stock%20index%20500&size=10&from=2050&page=206&sort=newest&request_id=pdx-search-345e8574-bee8-494e-87bb-e6ce5b65362e'\n",
    "headers = {'name':'Asta Thit Kettel', 'from':'ucph','email':'dnp@ku.dk'}\n",
    "response206 = requests.get(url206, headers)\n",
    "results206 = response206.json()\n",
    "result_articles206 = results206['result']\n",
    "data206 = pd.DataFrame(result_articles206)"
   ]
  },
  {
   "cell_type": "code",
   "execution_count": 306,
   "id": "15860ebb-e611-4566-a9bf-98dcfc801b58",
   "metadata": {},
   "outputs": [],
   "source": [
    "url207 = f'https://search.prod.di.api.cnn.io/content?q=stock%20index%20500&size=10&from=2060&page=207&sort=newest&request_id=pdx-search-2ff18b41-2e33-41f9-acd2-63bbebc59e21'\n",
    "headers = {'name':'Asta Thit Kettel', 'from':'ucph','email':'dnp@ku.dk'}\n",
    "response207 = requests.get(url207, headers)\n",
    "results207 = response207.json()\n",
    "result_articles207 = results207['result']\n",
    "data207 = pd.DataFrame(result_articles207)"
   ]
  },
  {
   "cell_type": "code",
   "execution_count": 307,
   "id": "8a8e7522-045a-4e8b-a279-b546d22f6017",
   "metadata": {},
   "outputs": [],
   "source": [
    "url208 = f'https://search.prod.di.api.cnn.io/content?q=stock%20index%20500&size=10&from=2070&page=208&sort=newest&request_id=pdx-search-9b7a2580-60af-4557-a89f-72e0ab45a533'\n",
    "headers = {'name':'Asta Thit Kettel', 'from':'ucph','email':'dnp@ku.dk'}\n",
    "response208 = requests.get(url208, headers)\n",
    "results208 = response208.json()\n",
    "result_articles208 = results208['result']\n",
    "data208 = pd.DataFrame(result_articles208)"
   ]
  },
  {
   "cell_type": "code",
   "execution_count": 309,
   "id": "88c0d9d9-23e1-48c1-992b-d13504b8b573",
   "metadata": {},
   "outputs": [],
   "source": [
    "url209 = f'https://search.prod.di.api.cnn.io/content?q=stock%20index%20500&size=10&from=2080&page=209&sort=newest&request_id=pdx-search-bb2c3602-7999-4088-a6c8-5f9ee81c1d11'\n",
    "headers = {'name':'Asta Thit Kettel', 'from':'ucph','email':'dnp@ku.dk'}\n",
    "response209 = requests.get(url209, headers)\n",
    "results209 = response209.json()\n",
    "result_articles209 = results209['result']\n",
    "data209 = pd.DataFrame(result_articles209)"
   ]
  },
  {
   "cell_type": "code",
   "execution_count": 310,
   "id": "57a5a144-5c47-4f77-a280-0e5c17b4603d",
   "metadata": {},
   "outputs": [],
   "source": [
    "url210 = f'https://search.prod.di.api.cnn.io/content?q=stock%20index%20500&size=10&from=2090&page=210&sort=newest&request_id=pdx-search-239868d5-5d01-4448-b109-582c3803c91d'\n",
    "headers = {'name':'Asta Thit Kettel', 'from':'ucph','email':'dnp@ku.dk'}\n",
    "response210 = requests.get(url210, headers)\n",
    "results210 = response210.json()\n",
    "result_articles210 = results210['result']\n",
    "data210 = pd.DataFrame(result_articles210)"
   ]
  },
  {
   "cell_type": "code",
   "execution_count": 311,
   "id": "f7461062-b4b2-4029-8d48-03ae4169721b",
   "metadata": {},
   "outputs": [],
   "source": [
    "url211 = f'https://search.prod.di.api.cnn.io/content?q=stock%20index%20500&size=10&from=2100&page=211&sort=newest&request_id=pdx-search-db11740a-0d24-4f86-9c41-cb2a61a8e6bb'\n",
    "headers = {'name':'Asta Thit Kettel', 'from':'ucph','email':'dnp@ku.dk'}\n",
    "response211 = requests.get(url211, headers)\n",
    "results211 = response211.json()\n",
    "result_articles211 = results211['result']\n",
    "data211 = pd.DataFrame(result_articles211)"
   ]
  },
  {
   "cell_type": "code",
   "execution_count": 312,
   "id": "d0de4262-b22a-4f1a-8487-318c4fa12fd0",
   "metadata": {},
   "outputs": [],
   "source": [
    "url212 = f'https://search.prod.di.api.cnn.io/content?q=stock%20index%20500&size=10&from=2110&page=212&sort=newest&request_id=pdx-search-a4272e4c-de2b-4f3e-af8c-54995a36cc61'\n",
    "headers = {'name':'Asta Thit Kettel', 'from':'ucph','email':'dnp@ku.dk'}\n",
    "response212 = requests.get(url212, headers)\n",
    "results212 = response212.json()\n",
    "result_articles212 = results212['result']\n",
    "data212 = pd.DataFrame(result_articles212)"
   ]
  },
  {
   "cell_type": "code",
   "execution_count": 313,
   "id": "984a9095-a1e6-41cd-9bfd-6bc73d3a8a2d",
   "metadata": {},
   "outputs": [],
   "source": [
    "url213 = f'https://search.prod.di.api.cnn.io/content?q=stock%20index%20500&size=10&from=2120&page=213&sort=newest&request_id=pdx-search-8a44b32c-f7d0-4594-86ad-142376b59699'\n",
    "headers = {'name':'Asta Thit Kettel', 'from':'ucph','email':'dnp@ku.dk'}\n",
    "response213 = requests.get(url213, headers)\n",
    "results213 = response213.json()\n",
    "result_articles213 = results213['result']\n",
    "data213 = pd.DataFrame(result_articles213)"
   ]
  },
  {
   "cell_type": "code",
   "execution_count": 314,
   "id": "2500831d-142a-4c0e-af3b-c1eeb348ab3c",
   "metadata": {},
   "outputs": [],
   "source": [
    "url214 = f'https://search.prod.di.api.cnn.io/content?q=stock%20index%20500&size=10&from=2130&page=214&sort=newest&request_id=pdx-search-680cabb2-b453-454e-92d3-1d00f13d87d2'\n",
    "headers = {'name':'Asta Thit Kettel', 'from':'ucph','email':'dnp@ku.dk'}\n",
    "response214 = requests.get(url214, headers)\n",
    "results214 = response214.json()\n",
    "result_articles214 = results214['result']\n",
    "data214 = pd.DataFrame(result_articles214)"
   ]
  },
  {
   "cell_type": "code",
   "execution_count": 315,
   "id": "1b447608-02ae-49da-9f05-89e004bd52cf",
   "metadata": {},
   "outputs": [],
   "source": [
    "url215 = f'https://search.prod.di.api.cnn.io/content?q=stock%20index%20500&size=10&from=2140&page=215&sort=newest&request_id=pdx-search-3ece0879-a720-469a-be78-17c543322bc0'\n",
    "headers = {'name':'Asta Thit Kettel', 'from':'ucph','email':'dnp@ku.dk'}\n",
    "response215 = requests.get(url215, headers)\n",
    "results215 = response215.json()\n",
    "result_articles215 = results215['result']\n",
    "data215 = pd.DataFrame(result_articles215)"
   ]
  },
  {
   "cell_type": "code",
   "execution_count": 316,
   "id": "288c8b3a-5c3b-4cea-8b7b-004336a2d276",
   "metadata": {},
   "outputs": [],
   "source": [
    "url216 = f'https://search.prod.di.api.cnn.io/content?q=stock%20index%20500&size=10&from=2150&page=216&sort=newest&request_id=pdx-search-4208f8e5-0f01-41e2-aa40-bb91f09eb8ac'\n",
    "headers = {'name':'Asta Thit Kettel', 'from':'ucph','email':'dnp@ku.dk'}\n",
    "response216 = requests.get(url216, headers)\n",
    "results216 = response216.json()\n",
    "result_articles216 = results216['result']\n",
    "data216 = pd.DataFrame(result_articles216)"
   ]
  },
  {
   "cell_type": "code",
   "execution_count": 317,
   "id": "7e252a43-05d1-4308-9678-8715f2339ca6",
   "metadata": {},
   "outputs": [],
   "source": [
    "url217 = f'https://search.prod.di.api.cnn.io/content?q=stock%20index%20500&size=10&from=2160&page=217&sort=newest&request_id=pdx-search-47d57371-23bb-4ce5-9720-6bb3bdd3d465'\n",
    "headers = {'name':'Asta Thit Kettel', 'from':'ucph','email':'dnp@ku.dk'}\n",
    "response217 = requests.get(url217, headers)\n",
    "results217 = response217.json()\n",
    "result_articles217 = results217['result']\n",
    "data217 = pd.DataFrame(result_articles217)"
   ]
  },
  {
   "cell_type": "code",
   "execution_count": 318,
   "id": "0aa0b056-b445-409b-acec-adc87c8ef09c",
   "metadata": {},
   "outputs": [],
   "source": [
    "url218 = f'https://search.prod.di.api.cnn.io/content?q=stock%20index%20500&size=10&from=2170&page=218&sort=newest&request_id=pdx-search-263e29fc-1889-49be-a955-725efe999ec1'\n",
    "headers = {'name':'Asta Thit Kettel', 'from':'ucph','email':'dnp@ku.dk'}\n",
    "response218 = requests.get(url218, headers)\n",
    "results218 = response218.json()\n",
    "result_articles218 = results218['result']\n",
    "data218 = pd.DataFrame(result_articles218)"
   ]
  },
  {
   "cell_type": "code",
   "execution_count": 319,
   "id": "e6115179-46b5-458f-98ae-5716bac8773b",
   "metadata": {},
   "outputs": [],
   "source": [
    "url219 = f'https://search.prod.di.api.cnn.io/content?q=stock%20index%20500&size=10&from=2180&page=219&sort=newest&request_id=pdx-search-9f5c21e7-9b15-448c-b365-c996a8c4749f'\n",
    "headers = {'name':'Asta Thit Kettel', 'from':'ucph','email':'dnp@ku.dk'}\n",
    "response219 = requests.get(url219, headers)\n",
    "results219 = response219.json()\n",
    "result_articles219 = results219['result']\n",
    "data219 = pd.DataFrame(result_articles219)"
   ]
  },
  {
   "cell_type": "code",
   "execution_count": 320,
   "id": "f7aca128-9423-48d2-a564-58e0508c637f",
   "metadata": {},
   "outputs": [],
   "source": [
    "url220 = f'https://search.prod.di.api.cnn.io/content?q=stock%20index%20500&size=10&from=2190&page=220&sort=newest&request_id=pdx-search-8903bdba-8362-4a48-a93c-0319e933f7a9'\n",
    "headers = {'name':'Asta Thit Kettel', 'from':'ucph','email':'dnp@ku.dk'}\n",
    "response220 = requests.get(url220, headers)\n",
    "results220 = response220.json()\n",
    "result_articles220 = results220['result']\n",
    "data220 = pd.DataFrame(result_articles220)"
   ]
  },
  {
   "cell_type": "code",
   "execution_count": 321,
   "id": "ee0d99e4-f84c-4304-a81f-d7d7e6c951f7",
   "metadata": {},
   "outputs": [],
   "source": [
    "url221 = f'https://search.prod.di.api.cnn.io/content?q=stock%20index%20500&size=10&from=2200&page=221&sort=newest&request_id=pdx-search-9124b82d-fbb0-4c77-b665-f8e10b0e2fb2'\n",
    "headers = {'name':'Asta Thit Kettel', 'from':'ucph','email':'dnp@ku.dk'}\n",
    "response221 = requests.get(url221, headers)\n",
    "results221 = response221.json()\n",
    "result_articles221 = results221['result']\n",
    "data221 = pd.DataFrame(result_articles221)"
   ]
  },
  {
   "cell_type": "code",
   "execution_count": 322,
   "id": "6e834963-1909-4574-a364-79fa286da808",
   "metadata": {},
   "outputs": [],
   "source": [
    "url222 = f'https://search.prod.di.api.cnn.io/content?q=stock%20index%20500&size=10&from=2210&page=222&sort=newest&request_id=pdx-search-2ae05c5a-a568-4b47-b2fb-da7a4d4b1c65'\n",
    "headers = {'name':'Asta Thit Kettel', 'from':'ucph','email':'dnp@ku.dk'}\n",
    "response222 = requests.get(url222, headers)\n",
    "results222 = response222.json()\n",
    "result_articles222 = results222['result']\n",
    "data222 = pd.DataFrame(result_articles222)"
   ]
  },
  {
   "cell_type": "code",
   "execution_count": 323,
   "id": "713d3564-4560-48bf-beb6-44dd0d77030a",
   "metadata": {},
   "outputs": [],
   "source": [
    "url223 = f'https://search.prod.di.api.cnn.io/content?q=stock%20index%20500&size=10&from=2220&page=223&sort=newest&request_id=pdx-search-3b32fed9-b3f1-4dfd-97be-69c91ed634b5'\n",
    "headers = {'name':'Asta Thit Kettel', 'from':'ucph','email':'dnp@ku.dk'}\n",
    "response223 = requests.get(url223, headers)\n",
    "results223 = response223.json()\n",
    "result_articles223 = results223['result']\n",
    "data223 = pd.DataFrame(result_articles223)"
   ]
  },
  {
   "cell_type": "code",
   "execution_count": 324,
   "id": "14646ced-ed94-4a55-8524-9faa50f2ee7b",
   "metadata": {},
   "outputs": [],
   "source": [
    "url224 = f'https://search.prod.di.api.cnn.io/content?q=stock%20index%20500&size=10&from=2230&page=224&sort=newest&request_id=pdx-search-3675bddf-4e35-4b54-894d-db56290bb9a'\n",
    "headers = {'name':'Asta Thit Kettel', 'from':'ucph','email':'dnp@ku.dk'}\n",
    "response224 = requests.get(url224, headers)\n",
    "results224 = response224.json()\n",
    "result_articles224 = results224['result']\n",
    "data224 = pd.DataFrame(result_articles224)"
   ]
  },
  {
   "cell_type": "code",
   "execution_count": 325,
   "id": "04a74055-ac0f-4e32-b073-280b727c933d",
   "metadata": {},
   "outputs": [],
   "source": [
    "url225 = f'https://search.prod.di.api.cnn.io/content?q=stock%20index%20500&size=10&from=2240&page=225&sort=newest&request_id=pdx-search-c06fdd9c-f148-44e3-b068-b28025fc5b3e'\n",
    "headers = {'name':'Asta Thit Kettel', 'from':'ucph','email':'dnp@ku.dk'}\n",
    "response225 = requests.get(url225, headers)\n",
    "results225 = response225.json()\n",
    "result_articles225 = results225['result']\n",
    "data225 = pd.DataFrame(result_articles225)"
   ]
  },
  {
   "cell_type": "code",
   "execution_count": 326,
   "id": "ed5ccbb5-8ed8-404a-b207-9b81bdb769ed",
   "metadata": {},
   "outputs": [],
   "source": [
    "url226 = f'https://search.prod.di.api.cnn.io/content?q=stock%20index%20500&size=10&from=2250&page=226&sort=newest&request_id=pdx-search-45183f75-feb0-44e2-842d-e2bf2e5477b7'\n",
    "headers = {'name':'Asta Thit Kettel', 'from':'ucph','email':'dnp@ku.dk'}\n",
    "response226 = requests.get(url226, headers)\n",
    "results226 = response226.json()\n",
    "result_articles226 = results226['result']\n",
    "data226 = pd.DataFrame(result_articles226)"
   ]
  },
  {
   "cell_type": "code",
   "execution_count": 327,
   "id": "bd20d941-8e1a-4bd3-81ef-f41b14df6b7a",
   "metadata": {},
   "outputs": [],
   "source": [
    "url227 = f'https://search.prod.di.api.cnn.io/content?q=stock%20index%20500&size=10&from=2260&page=227&sort=newest&request_id=pdx-search-60069fcb-79ff-461d-9c9e-3506ebe29c5b'\n",
    "headers = {'name':'Asta Thit Kettel', 'from':'ucph','email':'dnp@ku.dk'}\n",
    "response227 = requests.get(url227, headers)\n",
    "results227 = response227.json()\n",
    "result_articles227 = results227['result']\n",
    "data227 = pd.DataFrame(result_articles227)"
   ]
  },
  {
   "cell_type": "code",
   "execution_count": 329,
   "id": "53257c79-ce31-48d3-b61c-7dcad29c2811",
   "metadata": {},
   "outputs": [],
   "source": [
    "url228 = f'https://search.prod.di.api.cnn.io/content?q=stock%20index%20500&size=10&from=2270&page=228&sort=newest&request_id=pdx-search-e4e47c75-8b03-4350-887a-a8f7aad65e8b'\n",
    "headers = {'name':'Asta Thit Kettel', 'from':'ucph','email':'dnp@ku.dk'}\n",
    "response228 = requests.get(url228, headers)\n",
    "results228 = response228.json()\n",
    "result_articles228 = results228['result']\n",
    "data228 = pd.DataFrame(result_articles228)"
   ]
  },
  {
   "cell_type": "code",
   "execution_count": 331,
   "id": "6ff061cb-3c06-4625-97a8-800bd0116f7c",
   "metadata": {},
   "outputs": [],
   "source": [
    "url229 = f'https://search.prod.di.api.cnn.io/content?q=stock%20index%20500&size=10&from=2280&page=229&sort=newest&request_id=pdx-search-d5b9431c-8eef-447b-9e49-3614a1a90142'\n",
    "headers = {'name':'Asta Thit Kettel', 'from':'ucph','email':'dnp@ku.dk'}\n",
    "response229 = requests.get(url229, headers)\n",
    "results229 = response229.json()\n",
    "result_articles229 = results229['result']\n",
    "data229 = pd.DataFrame(result_articles229)"
   ]
  },
  {
   "cell_type": "code",
   "execution_count": 332,
   "id": "e9501a6a-35e3-4914-a2ce-a0b2eea4bf95",
   "metadata": {},
   "outputs": [],
   "source": [
    "url230 = f'https://search.prod.di.api.cnn.io/content?q=stock%20index%20500&size=10&from=2290&page=230&sort=newest&request_id=pdx-search-c4ad9c5a-d49c-42e8-addd-c2c4419ccd7c'\n",
    "headers = {'name':'Asta Thit Kettel', 'from':'ucph','email':'dnp@ku.dk'}\n",
    "response230 = requests.get(url230, headers)\n",
    "results230 = response230.json()\n",
    "result_articles230 = results230['result']\n",
    "data230 = pd.DataFrame(result_articles230)"
   ]
  },
  {
   "cell_type": "code",
   "execution_count": 333,
   "id": "7a58bf43-5b25-4bbb-b7e6-da3ce49f0998",
   "metadata": {},
   "outputs": [],
   "source": [
    "url231 = f'https://search.prod.di.api.cnn.io/content?q=stock%20index%20500&size=10&from=2300&page=231&sort=newest&request_id=pdx-search-546d7783-8387-4049-9554-e0a15b0c701f'\n",
    "headers = {'name':'Asta Thit Kettel', 'from':'ucph','email':'dnp@ku.dk'}\n",
    "response231 = requests.get(url231, headers)\n",
    "results231 = response231.json()\n",
    "result_articles231 = results231['result']\n",
    "data231 = pd.DataFrame(result_articles231)"
   ]
  },
  {
   "cell_type": "code",
   "execution_count": 334,
   "id": "9ef185d2-a735-4f83-aeb4-a8c6d6c04acf",
   "metadata": {},
   "outputs": [],
   "source": [
    "url232 = f'https://search.prod.di.api.cnn.io/content?q=stock%20index%20500&size=10&from=2310&page=232&sort=newest&request_id=pdx-search-0bb507c9-69d6-4ec4-8251-c6ecd1dd2015'\n",
    "headers = {'name':'Asta Thit Kettel', 'from':'ucph','email':'dnp@ku.dk'}\n",
    "response232 = requests.get(url232, headers)\n",
    "results232 = response232.json()\n",
    "result_articles232 = results232['result']\n",
    "data232 = pd.DataFrame(result_articles232)"
   ]
  },
  {
   "cell_type": "code",
   "execution_count": 335,
   "id": "e3b763f5-d9c4-40c7-97b5-4501a92999c5",
   "metadata": {},
   "outputs": [],
   "source": [
    "url233 = f'https://search.prod.di.api.cnn.io/content?q=stock%20index%20500&size=10&from=2320&page=233&sort=newest&request_id=pdx-search-4bdfe3e8-c9df-402f-b858-798628583c49'\n",
    "headers = {'name':'Asta Thit Kettel', 'from':'ucph','email':'dnp@ku.dk'}\n",
    "response233 = requests.get(url233, headers)\n",
    "results233 = response233.json()\n",
    "result_articles233 = results233['result']\n",
    "data233 = pd.DataFrame(result_articles233)"
   ]
  },
  {
   "cell_type": "code",
   "execution_count": 336,
   "id": "707b818c-2373-4739-8c82-8dbaf885542b",
   "metadata": {},
   "outputs": [],
   "source": [
    "url234 = f'https://search.prod.di.api.cnn.io/content?q=stock%20index%20500&size=10&from=2330&page=234&sort=newest&request_id=pdx-search-2b09708a-26b3-4b33-8478-55f291149d58'\n",
    "headers = {'name':'Asta Thit Kettel', 'from':'ucph','email':'dnp@ku.dk'}\n",
    "response234 = requests.get(url234, headers)\n",
    "results234 = response234.json()\n",
    "result_articles234 = results234['result']\n",
    "data234 = pd.DataFrame(result_articles234)"
   ]
  },
  {
   "cell_type": "code",
   "execution_count": 337,
   "id": "7af31298-ad3f-48dd-9607-2c476d895452",
   "metadata": {},
   "outputs": [],
   "source": [
    "url235 = f'https://search.prod.di.api.cnn.io/content?q=stock%20index%20500&size=10&from=2340&page=235&sort=newest&request_id=pdx-search-44db9054-28c0-43b6-af02-aad2921e24b2'\n",
    "headers = {'name':'Asta Thit Kettel', 'from':'ucph','email':'dnp@ku.dk'}\n",
    "response235 = requests.get(url235, headers)\n",
    "results235 = response235.json()\n",
    "result_articles235 = results235['result']\n",
    "data235 = pd.DataFrame(result_articles235)"
   ]
  },
  {
   "cell_type": "code",
   "execution_count": 338,
   "id": "9020abf7-f3dd-45ec-83a7-271abba036cc",
   "metadata": {},
   "outputs": [],
   "source": [
    "url236 = f'https://search.prod.di.api.cnn.io/content?q=stock%20index%20500&size=10&from=2350&page=236&sort=newest&request_id=pdx-search-02b30129-c210-421d-881c-7c6210eab7bc'\n",
    "headers = {'name':'Asta Thit Kettel', 'from':'ucph','email':'dnp@ku.dk'}\n",
    "response236 = requests.get(url236, headers)\n",
    "results236 = response236.json()\n",
    "result_articles236 = results236['result']\n",
    "data236 = pd.DataFrame(result_articles236)"
   ]
  },
  {
   "cell_type": "code",
   "execution_count": 339,
   "id": "0e0fb879-4270-4bd3-a159-0fb4ebfa3343",
   "metadata": {},
   "outputs": [],
   "source": [
    "url237 = f'https://search.prod.di.api.cnn.io/content?q=stock%20index%20500&size=10&from=2360&page=237&sort=newest&request_id=pdx-search-e04b4aa9-46e0-4640-902c-73b08a8d16f6'\n",
    "headers = {'name':'Asta Thit Kettel', 'from':'ucph','email':'dnp@ku.dk'}\n",
    "response237 = requests.get(url237, headers)\n",
    "results237 = response237.json()\n",
    "result_articles237 = results237['result']\n",
    "data237 = pd.DataFrame(result_articles237)"
   ]
  },
  {
   "cell_type": "code",
   "execution_count": 341,
   "id": "b0d8ef88-bb49-4764-9b85-b8c5d0ab649d",
   "metadata": {},
   "outputs": [],
   "source": [
    "url238 = f'https://search.prod.di.api.cnn.io/content?q=stock%20index%20500&size=10&from=2370&page=238&sort=newest&request_id=pdx-search-5b16f379-02e9-46d3-bb5a-4f8a86103f3b'\n",
    "headers = {'name':'Asta Thit Kettel', 'from':'ucph','email':'dnp@ku.dk'}\n",
    "response238 = requests.get(url238, headers)\n",
    "results238 = response238.json()\n",
    "result_articles238 = results238['result']\n",
    "data238 = pd.DataFrame(result_articles238)"
   ]
  },
  {
   "cell_type": "code",
   "execution_count": 342,
   "id": "d47d7675-f614-437d-8828-db4ef80d5808",
   "metadata": {},
   "outputs": [],
   "source": [
    "url239 = f'https://search.prod.di.api.cnn.io/content?q=stock%20index%20500&size=10&from=2380&page=239&sort=newest&request_id=pdx-search-95a8281e-6e25-4256-8561-a4c393ba8955'\n",
    "headers = {'name':'Asta Thit Kettel', 'from':'ucph','email':'dnp@ku.dk'}\n",
    "response239 = requests.get(url239, headers)\n",
    "results239 = response239.json()\n",
    "result_articles239 = results239['result']\n",
    "data239 = pd.DataFrame(result_articles239)"
   ]
  },
  {
   "cell_type": "code",
   "execution_count": 343,
   "id": "8091c543-162d-4783-9d0c-35bef696fc97",
   "metadata": {},
   "outputs": [],
   "source": [
    "url240 = f'https://search.prod.di.api.cnn.io/content?q=stock%20index%20500&size=10&from=2390&page=240&sort=newest&request_id=pdx-search-a0f9907a-83ed-4c17-869d-b520ec16dc51'\n",
    "headers = {'name':'Asta Thit Kettel', 'from':'ucph','email':'dnp@ku.dk'}\n",
    "response240 = requests.get(url240, headers)\n",
    "results240 = response240.json()\n",
    "result_articles240 = results240['result']\n",
    "data240 = pd.DataFrame(result_articles240)"
   ]
  },
  {
   "cell_type": "code",
   "execution_count": 344,
   "id": "5e489a70-7462-4bff-8bf1-1dd0fb870616",
   "metadata": {},
   "outputs": [],
   "source": [
    "url241 = f'https://search.prod.di.api.cnn.io/content?q=stock%20index%20500&size=10&from=2400&page=241&sort=newest&request_id=pdx-search-1ff7e5d3-7dfd-4b03-827e-33d7aebe970a'\n",
    "headers = {'name':'Asta Thit Kettel', 'from':'ucph','email':'dnp@ku.dk'}\n",
    "response241 = requests.get(url241, headers)\n",
    "results241 = response241.json()\n",
    "result_articles241 = results241['result']\n",
    "data241 = pd.DataFrame(result_articles241)"
   ]
  },
  {
   "cell_type": "code",
   "execution_count": 345,
   "id": "0efba4c0-9ba3-48f5-bd9a-9b540415d550",
   "metadata": {},
   "outputs": [],
   "source": [
    "url242 = f'https://search.prod.di.api.cnn.io/content?q=stock%20index%20500&size=10&from=2410&page=242&sort=newest&request_id=pdx-search-b5733ab0-4084-40d9-822d-0e81f92b021c'\n",
    "headers = {'name':'Asta Thit Kettel', 'from':'ucph','email':'dnp@ku.dk'}\n",
    "response242 = requests.get(url242, headers)\n",
    "results242 = response242.json()\n",
    "result_articles242 = results242['result']\n",
    "data242 = pd.DataFrame(result_articles242)"
   ]
  },
  {
   "cell_type": "code",
   "execution_count": 346,
   "id": "f24b5290-c425-453f-8bfc-a4efbe45709a",
   "metadata": {},
   "outputs": [],
   "source": [
    "url243 = f'https://search.prod.di.api.cnn.io/content?q=stock%20index%20500&size=10&from=2420&page=243&sort=newest&request_id=pdx-search-f22f4de1-3639-4daa-903e-806030ff04d2'\n",
    "headers = {'name':'Asta Thit Kettel', 'from':'ucph','email':'dnp@ku.dk'}\n",
    "response243 = requests.get(url243, headers)\n",
    "results243 = response243.json()\n",
    "result_articles243 = results243['result']\n",
    "data243 = pd.DataFrame(result_articles243)"
   ]
  },
  {
   "cell_type": "code",
   "execution_count": 347,
   "id": "a3bd17ae-fdb3-4976-b531-7c2f17995f0c",
   "metadata": {},
   "outputs": [],
   "source": [
    "url244 = f'https://search.prod.di.api.cnn.io/content?q=stock%20index%20500&size=10&from=2430&page=244&sort=newest&request_id=pdx-search-6bb6e5c8-fc7f-4f8b-a8ea-7a27aae7e741'\n",
    "headers = {'name':'Asta Thit Kettel', 'from':'ucph','email':'dnp@ku.dk'}\n",
    "response244 = requests.get(url244, headers)\n",
    "results244 = response244.json()\n",
    "result_articles244 = results244['result']\n",
    "data244 = pd.DataFrame(result_articles244)"
   ]
  },
  {
   "cell_type": "code",
   "execution_count": 348,
   "id": "bcbb36b4-7b64-49dd-82fe-5cba10719887",
   "metadata": {},
   "outputs": [],
   "source": [
    "url245 = f'https://search.prod.di.api.cnn.io/content?q=stock%20index%20500&size=10&from=2440&page=245&sort=newest&request_id=pdx-search-21680404-19c4-431d-8c04-c14caf575d5f'\n",
    "headers = {'name':'Asta Thit Kettel', 'from':'ucph','email':'dnp@ku.dk'}\n",
    "response245 = requests.get(url245, headers)\n",
    "results245 = response245.json()\n",
    "result_articles245 = results245['result']\n",
    "data245 = pd.DataFrame(result_articles245)"
   ]
  },
  {
   "cell_type": "code",
   "execution_count": 349,
   "id": "ed806ae5-a1c5-43a5-b2e2-86bd02e94659",
   "metadata": {},
   "outputs": [],
   "source": [
    "url246 = f'https://search.prod.di.api.cnn.io/content?q=stock%20index%20500&size=10&from=2450&page=246&sort=newest&request_id=pdx-search-c2ecdbce-4b2d-462e-b0bd-bfc0db68d41d'\n",
    "headers = {'name':'Asta Thit Kettel', 'from':'ucph','email':'dnp@ku.dk'}\n",
    "response246 = requests.get(url246, headers)\n",
    "results246 = response246.json()\n",
    "result_articles246 = results246['result']\n",
    "data246 = pd.DataFrame(result_articles246)"
   ]
  },
  {
   "cell_type": "code",
   "execution_count": 350,
   "id": "bbc8b99e-0544-48a8-8654-84acb451edc8",
   "metadata": {},
   "outputs": [],
   "source": [
    "url247 = f'https://search.prod.di.api.cnn.io/content?q=stock%20index%20500&size=10&from=2460&page=247&sort=newest&request_id=pdx-search-bfdb2aaf-9a85-4f55-a001-c7323ac3a257'\n",
    "headers = {'name':'Asta Thit Kettel', 'from':'ucph','email':'dnp@ku.dk'}\n",
    "response247 = requests.get(url247, headers)\n",
    "results247 = response247.json()\n",
    "result_articles247 = results247['result']\n",
    "data247 = pd.DataFrame(result_articles247)"
   ]
  },
  {
   "cell_type": "code",
   "execution_count": 351,
   "id": "6c883468-8929-4b13-9876-d83c137d1681",
   "metadata": {},
   "outputs": [],
   "source": [
    "url248 = f'https://search.prod.di.api.cnn.io/content?q=stock%20index%20500&size=10&from=2470&page=248&sort=newest&request_id=pdx-search-f377d70d-cdcd-4ef5-8560-62c40f9b349b'\n",
    "headers = {'name':'Asta Thit Kettel', 'from':'ucph','email':'dnp@ku.dk'}\n",
    "response248 = requests.get(url248, headers)\n",
    "results248 = response248.json()\n",
    "result_articles248 = results248['result']\n",
    "data248 = pd.DataFrame(result_articles248)"
   ]
  },
  {
   "cell_type": "code",
   "execution_count": 352,
   "id": "33a00320-dd81-4664-bd38-89dab7db8fc9",
   "metadata": {},
   "outputs": [],
   "source": [
    "url249 = f'https://search.prod.di.api.cnn.io/content?q=stock%20index%20500&size=10&from=2480&page=249&sort=newest&request_id=pdx-search-afd61e51-0a4f-4b64-8770-e26aca0075fe'\n",
    "headers = {'name':'Asta Thit Kettel', 'from':'ucph','email':'dnp@ku.dk'}\n",
    "response249 = requests.get(url249, headers)\n",
    "results249 = response249.json()\n",
    "result_articles249 = results249['result']\n",
    "data249 = pd.DataFrame(result_articles249)"
   ]
  },
  {
   "cell_type": "code",
   "execution_count": 353,
   "id": "4a2f1786-1658-4657-9936-ee2db1406cf3",
   "metadata": {},
   "outputs": [],
   "source": [
    "url250 = f'https://search.prod.di.api.cnn.io/content?q=stock%20index%20500&size=10&from=2490&page=250&sort=newest&request_id=pdx-search-22d17e5b-aa90-47c4-b4cd-826f99fbfd3b'\n",
    "headers = {'name':'Asta Thit Kettel', 'from':'ucph','email':'dnp@ku.dk'}\n",
    "response250 = requests.get(url250, headers)\n",
    "results250 = response250.json()\n",
    "result_articles250 = results250['result']\n",
    "data250 = pd.DataFrame(result_articles250)"
   ]
  },
  {
   "cell_type": "code",
   "execution_count": 354,
   "id": "9fa4db12-01db-4722-b6ad-cc21c9bbd6c3",
   "metadata": {},
   "outputs": [],
   "source": [
    "url251 = f'https://search.prod.di.api.cnn.io/content?q=stock%20index%20500&size=10&from=2500&page=251&sort=newest&request_id=pdx-search-b75bc6a6-a7a1-408e-b96c-3e2a3ba1adb4'\n",
    "headers = {'name':'Asta Thit Kettel', 'from':'ucph','email':'dnp@ku.dk'}\n",
    "response251 = requests.get(url251, headers)\n",
    "results251 = response251.json()\n",
    "result_articles251 = results251['result']\n",
    "data251 = pd.DataFrame(result_articles251)"
   ]
  },
  {
   "cell_type": "code",
   "execution_count": 355,
   "id": "2d0ac096-cf05-4594-a564-6fd8b465e162",
   "metadata": {},
   "outputs": [],
   "source": [
    "url252 = f'https://search.prod.di.api.cnn.io/content?q=stock%20index%20500&size=10&from=2510&page=252&sort=newest&request_id=pdx-search-c5aa741a-e8c4-4b34-8acc-16ac15804e3b'\n",
    "headers = {'name':'Asta Thit Kettel', 'from':'ucph','email':'dnp@ku.dk'}\n",
    "response252 = requests.get(url252, headers)\n",
    "results252 = response252.json()\n",
    "result_articles252 = results252['result']\n",
    "data252 = pd.DataFrame(result_articles252)"
   ]
  },
  {
   "cell_type": "code",
   "execution_count": 356,
   "id": "2fbe9a1f-9467-4a39-8809-b34bb94b89fc",
   "metadata": {},
   "outputs": [],
   "source": [
    "url253 = f'https://search.prod.di.api.cnn.io/content?q=stock%20index%20500&size=10&from=2520&page=253&sort=newest&request_id=pdx-search-660a9785-1847-479b-9c08-e7fcc826bb43'\n",
    "headers = {'name':'Asta Thit Kettel', 'from':'ucph','email':'dnp@ku.dk'}\n",
    "response253 = requests.get(url253, headers)\n",
    "results253 = response253.json()\n",
    "result_articles253 = results253['result']\n",
    "data253 = pd.DataFrame(result_articles253)"
   ]
  },
  {
   "cell_type": "code",
   "execution_count": 358,
   "id": "ee18816d-f5c5-4976-b7d7-3cd6ab3a9f7c",
   "metadata": {},
   "outputs": [],
   "source": [
    "url254 = f'https://search.prod.di.api.cnn.io/content?q=stock%20index%20500&size=10&from=2530&page=254&sort=newest&request_id=pdx-search-d72cabbe-1e7c-45ce-a927-666484e86765'\n",
    "headers = {'name':'Asta Thit Kettel', 'from':'ucph','email':'dnp@ku.dk'}\n",
    "response254 = requests.get(url254, headers)\n",
    "results254 = response254.json()\n",
    "result_articles254 = results254['result']\n",
    "data254 = pd.DataFrame(result_articles254)"
   ]
  },
  {
   "cell_type": "code",
   "execution_count": 414,
   "id": "f27107a7-143b-4e5a-8042-4866ea7bd831",
   "metadata": {},
   "outputs": [],
   "source": [
    "url255 = f'https://search.prod.di.api.cnn.io/content?q=stock%20index%20500&size=10&from=2540&page=255&sort=newest&request_id=pdx-search-ec05b8f1-fae1-4d8a-b850-992109ea670b'\n",
    "headers = {'name':'Asta Thit Kettel', 'from':'ucph','email':'dnp@ku.dk'}\n",
    "response255 = requests.get(url255, headers)\n",
    "results255 = response255.json()\n",
    "result_articles255 = results255['result']\n",
    "data255 = pd.DataFrame(result_articles255)"
   ]
  },
  {
   "cell_type": "code",
   "execution_count": 415,
   "id": "c52e30da-78ab-4e2e-9acd-49d2b5f5ba32",
   "metadata": {},
   "outputs": [],
   "source": [
    "url256 = f'https://search.prod.di.api.cnn.io/content?q=stock%20index%20500&size=10&from=2550&page=256&sort=newest&request_id=pdx-search-id-256'\n",
    "headers = {'name':'Asta Thit Kettel', 'from':'ucph','email':'dnp@ku.dk'}\n",
    "response256 = requests.get(url256, headers)\n",
    "results256 = response256.json()\n",
    "result_articles256 = results256['result']\n",
    "data256 = pd.DataFrame(result_articles256)"
   ]
  },
  {
   "cell_type": "code",
   "execution_count": 361,
   "id": "b6eaa630-ba43-4ed1-ae0e-16e202eb3774",
   "metadata": {},
   "outputs": [],
   "source": [
    "url257 = f'https://search.prod.di.api.cnn.io/content?q=stock%20index%20500&size=10&from=2560&page=257&sort=newest&request_id=pdx-search-07ec8add-de40-4fab-a9de-ac33e8202a9b'\n",
    "headers = {'name':'Asta Thit Kettel', 'from':'ucph','email':'dnp@ku.dk'}\n",
    "response257 = requests.get(url257, headers)\n",
    "results257 = response257.json()\n",
    "result_articles257 = results257['result']\n",
    "data257 = pd.DataFrame(result_articles257)"
   ]
  },
  {
   "cell_type": "code",
   "execution_count": 362,
   "id": "ee6e69c3-a381-467c-99dc-16ac3ff0b37a",
   "metadata": {},
   "outputs": [],
   "source": [
    "url258 = f'https://search.prod.di.api.cnn.io/content?q=stock%20index%20500&size=10&from=2570&page=258&sort=newest&request_id=pdx-search-6de6a2c6-1624-4cf5-93e9-e7cc5fcf2482'\n",
    "headers = {'name':'Asta Thit Kettel', 'from':'ucph','email':'dnp@ku.dk'}\n",
    "response258 = requests.get(url258, headers)\n",
    "results258 = response258.json()\n",
    "result_articles258 = results258['result']\n",
    "data258 = pd.DataFrame(result_articles258)"
   ]
  },
  {
   "cell_type": "code",
   "execution_count": 363,
   "id": "27208728-acda-4fe9-a9b2-8ba9f6b75082",
   "metadata": {},
   "outputs": [],
   "source": [
    "url259 = f'https://search.prod.di.api.cnn.io/content?q=stock%20index%20500&size=10&from=2580&page=259&sort=newest&request_id=pdx-search-7d0727da-1529-466f-a79d-e73c2966328f'\n",
    "headers = {'name':'Asta Thit Kettel', 'from':'ucph','email':'dnp@ku.dk'}\n",
    "response259 = requests.get(url259, headers)\n",
    "results259 = response259.json()\n",
    "result_articles259 = results259['result']\n",
    "data259 = pd.DataFrame(result_articles259)"
   ]
  },
  {
   "cell_type": "code",
   "execution_count": 364,
   "id": "526ef555-f536-4b9e-b024-c5c1518d99b6",
   "metadata": {},
   "outputs": [],
   "source": [
    "url260 = f'https://search.prod.di.api.cnn.io/content?q=stock%20index%20500&size=10&from=2590&page=260&sort=newest&request_id=pdx-search-28f5758c-5a78-40ba-a36b-df8e2fdc5d7f'\n",
    "headers = {'name':'Asta Thit Kettel', 'from':'ucph','email':'dnp@ku.dk'}\n",
    "response260 = requests.get(url260, headers)\n",
    "results260 = response260.json()\n",
    "result_articles260 = results260['result']\n",
    "data260 = pd.DataFrame(result_articles260)"
   ]
  },
  {
   "cell_type": "code",
   "execution_count": 365,
   "id": "feb0e250-f5e8-4867-a105-9375c51ecbf3",
   "metadata": {},
   "outputs": [],
   "source": [
    "url261 = f'https://search.prod.di.api.cnn.io/content?q=stock%20index%20500&size=10&from=2600&page=261&sort=newest&request_id=pdx-search-69dd4907-e762-485f-ae15-98b7ad7d187a'\n",
    "headers = {'name':'Asta Thit Kettel', 'from':'ucph','email':'dnp@ku.dk'}\n",
    "response261 = requests.get(url261, headers)\n",
    "results261 = response261.json()\n",
    "result_articles261 = results261['result']\n",
    "data261 = pd.DataFrame(result_articles261)"
   ]
  },
  {
   "cell_type": "code",
   "execution_count": 366,
   "id": "faef0da8-1a93-4363-866e-50b88ed9bdc1",
   "metadata": {},
   "outputs": [],
   "source": [
    "url262 = f'https://search.prod.di.api.cnn.io/content?q=stock%20index%20500&size=10&from=2610&page=262&sort=newest&request_id=pdx-search-0b79dbdd-8e39-453c-8a48-4d4f8e95c9de'\n",
    "headers = {'name':'Asta Thit Kettel', 'from':'ucph','email':'dnp@ku.dk'}\n",
    "response262 = requests.get(url262, headers)\n",
    "results262 = response262.json()\n",
    "result_articles262 = results262['result']\n",
    "data262 = pd.DataFrame(result_articles262)"
   ]
  },
  {
   "cell_type": "code",
   "execution_count": 367,
   "id": "6ef093e3-0da3-4590-95eb-f32e7406dbe6",
   "metadata": {},
   "outputs": [],
   "source": [
    "url263 = f'https://search.prod.di.api.cnn.io/content?q=stock%20index%20500&size=10&from=2620&page=263&sort=newest&request_id=pdx-search-a3f01265-3b42-4599-b389-81911c2b2493'\n",
    "headers = {'name':'Asta Thit Kettel', 'from':'ucph','email':'dnp@ku.dk'}\n",
    "response263 = requests.get(url263, headers)\n",
    "results263 = response263.json()\n",
    "result_articles263 = results263['result']\n",
    "data263 = pd.DataFrame(result_articles263)"
   ]
  },
  {
   "cell_type": "code",
   "execution_count": 368,
   "id": "960c26b6-7d58-4e3f-ae0b-2e90ebcc36df",
   "metadata": {},
   "outputs": [],
   "source": [
    "url264 = f'https://search.prod.di.api.cnn.io/content?q=stock%20index%20500&size=10&from=2630&page=264&sort=newest&request_id=pdx-search-80bf732c-8515-4666-a003-e31d83177094'\n",
    "headers = {'name':'Asta Thit Kettel', 'from':'ucph','email':'dnp@ku.dk'}\n",
    "response264 = requests.get(url264, headers)\n",
    "results264 = response264.json()\n",
    "result_articles264 = results264['result']\n",
    "data264 = pd.DataFrame(result_articles264)"
   ]
  },
  {
   "cell_type": "code",
   "execution_count": 369,
   "id": "cea65f1b-ca28-414e-a3a9-8d0852f4da98",
   "metadata": {},
   "outputs": [],
   "source": [
    "url265 = f'https://search.prod.di.api.cnn.io/content?q=stock%20index%20500&size=10&from=2640&page=265&sort=newest&request_id=pdx-search-1604064a-f7f8-488b-8e17-8c0f61fa8c5d'\n",
    "headers = {'name':'Asta Thit Kettel', 'from':'ucph','email':'dnp@ku.dk'}\n",
    "response265 = requests.get(url265, headers)\n",
    "results265 = response265.json()\n",
    "result_articles265 = results265['result']\n",
    "data265 = pd.DataFrame(result_articles265)"
   ]
  },
  {
   "cell_type": "code",
   "execution_count": 371,
   "id": "bd888346-2b6e-452a-9ff6-3012ba95b519",
   "metadata": {},
   "outputs": [],
   "source": [
    "url266 = f'https://search.prod.di.api.cnn.io/content?q=stock%20index%20500&size=10&from=2650&page=266&sort=newest&request_id=pdx-search-5d4720e8-2f8b-4288-9f9e-d26f8638008e'\n",
    "headers = {'name':'Asta Thit Kettel', 'from':'ucph','email':'dnp@ku.dk'}\n",
    "response266 = requests.get(url266, headers)\n",
    "results266 = response266.json()\n",
    "result_articles266 = results266['result']\n",
    "data266 = pd.DataFrame(result_articles266)"
   ]
  },
  {
   "cell_type": "code",
   "execution_count": 372,
   "id": "44576e23-d41e-41e3-8139-f9a573b71277",
   "metadata": {},
   "outputs": [],
   "source": [
    "url267 = f'https://search.prod.di.api.cnn.io/content?q=stock%20index%20500&size=10&from=2660&page=267&sort=newest&request_id=pdx-search-729327fe-8261-44e8-b41f-78d9e54ecc8b'\n",
    "headers = {'name':'Asta Thit Kettel', 'from':'ucph','email':'dnp@ku.dk'}\n",
    "response267 = requests.get(url267, headers)\n",
    "results267 = response267.json()\n",
    "result_articles267 = results267['result']\n",
    "data267 = pd.DataFrame(result_articles267)"
   ]
  },
  {
   "cell_type": "code",
   "execution_count": 373,
   "id": "55a31e04-05b7-4394-a6f7-0ee60d45bf55",
   "metadata": {},
   "outputs": [],
   "source": [
    "url268 = f'https://search.prod.di.api.cnn.io/content?q=stock%20index%20500&size=10&from=2670&page=268&sort=newest&request_id=pdx-search-141ab49b-9471-41be-bc2e-9e5fe90723b4'\n",
    "headers = {'name':'Asta Thit Kettel', 'from':'ucph','email':'dnp@ku.dk'}\n",
    "response268 = requests.get(url268, headers)\n",
    "results268 = response268.json()\n",
    "result_articles268 = results268['result']\n",
    "data268 = pd.DataFrame(result_articles268)"
   ]
  },
  {
   "cell_type": "code",
   "execution_count": 374,
   "id": "ca634835-5bcb-4608-8e47-46abd91e5e5c",
   "metadata": {},
   "outputs": [],
   "source": [
    "url269 = f'https://search.prod.di.api.cnn.io/content?q=stock%20index%20500&size=10&from=2680&page=269&sort=newest&request_id=pdx-search-893192b1-ee67-4f21-8129-2d5d7e7567d7'\n",
    "headers = {'name':'Asta Thit Kettel', 'from':'ucph','email':'dnp@ku.dk'}\n",
    "response269 = requests.get(url269, headers)\n",
    "results269 = response269.json()\n",
    "result_articles269 = results269['result']\n",
    "data269 = pd.DataFrame(result_articles269)"
   ]
  },
  {
   "cell_type": "code",
   "execution_count": 375,
   "id": "ff43d1f9-ae56-4bc3-8627-12ed4fa036ab",
   "metadata": {},
   "outputs": [],
   "source": [
    "url270 = f'https://search.prod.di.api.cnn.io/content?q=stock%20index%20500&size=10&from=2690&page=270&sort=newest&request_id=pdx-search-661071b5-0587-403f-a57f-5fc98c48a351'\n",
    "headers = {'name':'Asta Thit Kettel', 'from':'ucph','email':'dnp@ku.dk'}\n",
    "response270 = requests.get(url270, headers)\n",
    "results270 = response270.json()\n",
    "result_articles270 = results270['result']\n",
    "data270 = pd.DataFrame(result_articles270)"
   ]
  },
  {
   "cell_type": "code",
   "execution_count": 376,
   "id": "00b21584-b624-4b76-881a-7be1e737940f",
   "metadata": {},
   "outputs": [],
   "source": [
    "url271 = f'https://search.prod.di.api.cnn.io/content?q=stock%20index%20500&size=10&from=2700&page=271&sort=newest&request_id=pdx-search-311c5fa8-53f0-4925-94a5-fe1a70e0cca9'\n",
    "headers = {'name':'Asta Thit Kettel', 'from':'ucph','email':'dnp@ku.dk'}\n",
    "response271 = requests.get(url271, headers)\n",
    "results271 = response271.json()\n",
    "result_articles271 = results271['result']\n",
    "data271 = pd.DataFrame(result_articles271)"
   ]
  },
  {
   "cell_type": "code",
   "execution_count": 378,
   "id": "c013e374-4137-4e47-85f6-d4d6eab134ac",
   "metadata": {},
   "outputs": [],
   "source": [
    "url272 = f'https://search.prod.di.api.cnn.io/content?q=stock%20index%20500&size=10&from=2710&page=272&sort=newest&request_id=pdx-search-863b3eed-ee59-413f-9085-f5d6b3fb5fa2'\n",
    "headers = {'name':'Asta Thit Kettel', 'from':'ucph','email':'dnp@ku.dk'}\n",
    "response272 = requests.get(url272, headers)\n",
    "results272 = response272.json()\n",
    "result_articles272 = results272['result']\n",
    "data272 = pd.DataFrame(result_articles272)"
   ]
  },
  {
   "cell_type": "code",
   "execution_count": 379,
   "id": "de0b9560-c5cc-4f85-919c-adbb1a62b7b6",
   "metadata": {},
   "outputs": [],
   "source": [
    "url273 = f'https://search.prod.di.api.cnn.io/content?q=stock%20index%20500&size=10&from=2720&page=273&sort=newest&request_id=pdx-search-fc70ba2d-94dd-4997-a9cf-3fe20d6b220d'\n",
    "headers = {'name':'Asta Thit Kettel', 'from':'ucph','email':'dnp@ku.dk'}\n",
    "response273 = requests.get(url273, headers)\n",
    "results273 = response273.json()\n",
    "result_articles273 = results273['result']\n",
    "data273 = pd.DataFrame(result_articles273)"
   ]
  },
  {
   "cell_type": "code",
   "execution_count": 380,
   "id": "46d295ba-bd7c-4843-a015-02980462fe4a",
   "metadata": {},
   "outputs": [],
   "source": [
    "url274 = f'https://search.prod.di.api.cnn.io/content?q=stock%20index%20500&size=10&from=2730&page=274&sort=newest&request_id=pdx-search-fc5d7d58-a00c-40f6-b9e2-9ada6d6a40b8'\n",
    "headers = {'name':'Asta Thit Kettel', 'from':'ucph','email':'dnp@ku.dk'}\n",
    "response274 = requests.get(url274, headers)\n",
    "results274 = response274.json()\n",
    "result_articles274 = results274['result']\n",
    "data274 = pd.DataFrame(result_articles274)"
   ]
  },
  {
   "cell_type": "code",
   "execution_count": 381,
   "id": "9af6bef0-60c4-40f1-b1b9-7c1aee60bdd7",
   "metadata": {},
   "outputs": [],
   "source": [
    "url275 = f'https://search.prod.di.api.cnn.io/content?q=stock%20index%20500&size=10&from=2740&page=275&sort=newest&request_id=pdx-search-415a0060-fd10-43b0-a2e9-23c4bdb46cd6'\n",
    "headers = {'name':'Asta Thit Kettel', 'from':'ucph','email':'dnp@ku.dk'}\n",
    "response275 = requests.get(url275, headers)\n",
    "results275 = response275.json()\n",
    "result_articles275 = results275['result']\n",
    "data275 = pd.DataFrame(result_articles275)"
   ]
  },
  {
   "cell_type": "code",
   "execution_count": 382,
   "id": "c4ddf483-ace6-4200-a146-9eaf8a1ed274",
   "metadata": {},
   "outputs": [],
   "source": [
    "url276 = f'https://search.prod.di.api.cnn.io/content?q=stock%20index%20500&size=10&from=2750&page=276&sort=newest&request_id=pdx-search-fb547c7e-0ae4-4be3-b112-156efe5da180'\n",
    "headers = {'name':'Asta Thit Kettel', 'from':'ucph','email':'dnp@ku.dk'}\n",
    "response276 = requests.get(url276, headers)\n",
    "results276 = response276.json()\n",
    "result_articles276 = results276['result']\n",
    "data276 = pd.DataFrame(result_articles276)"
   ]
  },
  {
   "cell_type": "code",
   "execution_count": 383,
   "id": "422ae854-37b9-4841-b3ef-7b1eb877d85c",
   "metadata": {},
   "outputs": [],
   "source": [
    "url277 = f'https://search.prod.di.api.cnn.io/content?q=stock%20index%20500&size=10&from=2760&page=277&sort=newest&request_id=pdx-search-23923088-776d-425f-a3ac-671d8d471877'\n",
    "headers = {'name':'Asta Thit Kettel', 'from':'ucph','email':'dnp@ku.dk'}\n",
    "response277 = requests.get(url277, headers)\n",
    "results277 = response277.json()\n",
    "result_articles277 = results277['result']\n",
    "data277 = pd.DataFrame(result_articles277)"
   ]
  },
  {
   "cell_type": "code",
   "execution_count": 384,
   "id": "9e88ae86-5527-4a00-89d1-9a2ffad81a94",
   "metadata": {},
   "outputs": [],
   "source": [
    "url278 = f'https://search.prod.di.api.cnn.io/content?q=stock%20index%20500&size=10&from=2770&page=278&sort=newest&request_id=pdx-search-f303fcd9-350e-4709-8ce7-19badf3a2209'\n",
    "headers = {'name':'Asta Thit Kettel', 'from':'ucph','email':'dnp@ku.dk'}\n",
    "response278 = requests.get(url278, headers)\n",
    "results278 = response278.json()\n",
    "result_articles278 = results278['result']\n",
    "data278 = pd.DataFrame(result_articles278)"
   ]
  },
  {
   "cell_type": "code",
   "execution_count": 385,
   "id": "8b3d2d5f-fd2a-413e-829b-84823c9f558f",
   "metadata": {},
   "outputs": [],
   "source": [
    "url279 = f'https://search.prod.di.api.cnn.io/content?q=stock%20index%20500&size=10&from=2780&page=279&sort=newest&request_id=pdx-search-0234931d-16cf-42d7-bffb-e8da79dd0ba3'\n",
    "headers = {'name':'Asta Thit Kettel', 'from':'ucph','email':'dnp@ku.dk'}\n",
    "response279 = requests.get(url279, headers)\n",
    "results279 = response279.json()\n",
    "result_articles279 = results279['result']\n",
    "data279 = pd.DataFrame(result_articles279)"
   ]
  },
  {
   "cell_type": "code",
   "execution_count": 387,
   "id": "de248668-5c72-4b86-90b9-bb51632d75ff",
   "metadata": {},
   "outputs": [],
   "source": [
    "url280 = f'https://search.prod.di.api.cnn.io/content?q=stock%20index%20500&size=10&from=2790&page=280&sort=newest&request_id=pdx-search-e148e6f9-b3d9-432c-b4af-b7692d0707cd'\n",
    "headers = {'name':'Asta Thit Kettel', 'from':'ucph','email':'dnp@ku.dk'}\n",
    "response280 = requests.get(url280, headers)\n",
    "results280 = response280.json()\n",
    "result_articles280 = results280['result']\n",
    "data280 = pd.DataFrame(result_articles280)"
   ]
  },
  {
   "cell_type": "code",
   "execution_count": 388,
   "id": "6ec1d01e-2967-4a17-9d52-921ee658674a",
   "metadata": {},
   "outputs": [],
   "source": [
    "url281 = f'https://search.prod.di.api.cnn.io/content?q=stock%20index%20500&size=10&from=2800&page=281&sort=newest&request_id=pdx-search-e2634a9c-abaf-4d63-94d1-1cb2f845d356'\n",
    "headers = {'name':'Asta Thit Kettel', 'from':'ucph','email':'dnp@ku.dk'}\n",
    "response281 = requests.get(url281, headers)\n",
    "results281 = response281.json()\n",
    "result_articles281 = results281['result']\n",
    "data281 = pd.DataFrame(result_articles281)"
   ]
  },
  {
   "cell_type": "code",
   "execution_count": 389,
   "id": "783ed21e-d912-4202-bae1-49d4f31268de",
   "metadata": {},
   "outputs": [],
   "source": [
    "url282 = f'https://search.prod.di.api.cnn.io/content?q=stock%20index%20500&size=10&from=2810&page=282&sort=newest&request_id=pdx-search-e8187e78-01a1-4925-a22b-ecd57dd939c7'\n",
    "headers = {'name':'Asta Thit Kettel', 'from':'ucph','email':'dnp@ku.dk'}\n",
    "response282 = requests.get(url282, headers)\n",
    "results282 = response282.json()\n",
    "result_articles282 = results282['result']\n",
    "data282 = pd.DataFrame(result_articles282)"
   ]
  },
  {
   "cell_type": "code",
   "execution_count": 390,
   "id": "1b940050-846a-4503-be8f-168840417a70",
   "metadata": {},
   "outputs": [],
   "source": [
    "url283 = f'https://search.prod.di.api.cnn.io/content?q=stock%20index%20500&size=10&from=2820&page=283&sort=newest&request_id=pdx-search-86567d51-a58f-4288-8df8-2aa8aaef72bc'\n",
    "headers = {'name':'Asta Thit Kettel', 'from':'ucph','email':'dnp@ku.dk'}\n",
    "response283 = requests.get(url283, headers)\n",
    "results283 = response283.json()\n",
    "result_articles283 = results283['result']\n",
    "data283 = pd.DataFrame(result_articles283)"
   ]
  },
  {
   "cell_type": "code",
   "execution_count": 391,
   "id": "700e4183-bcca-4d34-b947-af8175bf3735",
   "metadata": {},
   "outputs": [],
   "source": [
    "url284 = f'https://search.prod.di.api.cnn.io/content?q=stock%20index%20500&size=10&from=2830&page=284&sort=newest&request_id=pdx-search-e5a2edfc-0cfd-43d7-b496-45498496704'\n",
    "headers = {'name':'Asta Thit Kettel', 'from':'ucph','email':'dnp@ku.dk'}\n",
    "response284 = requests.get(url284, headers)\n",
    "results284 = response284.json()\n",
    "result_articles284 = results284['result']\n",
    "data284 = pd.DataFrame(result_articles284)"
   ]
  },
  {
   "cell_type": "code",
   "execution_count": 392,
   "id": "16a79563-d908-49c3-8b61-995b5c04fb56",
   "metadata": {},
   "outputs": [],
   "source": [
    "url285 = f'https://search.prod.di.api.cnn.io/content?q=stock%20index%20500&size=10&from=2840&page=285&sort=newest&request_id=pdx-search-d5f88210-b820-4eaf-9bb6-ea96afcb418c'\n",
    "headers = {'name':'Asta Thit Kettel', 'from':'ucph','email':'dnp@ku.dk'}\n",
    "response285 = requests.get(url285, headers)\n",
    "results285 = response285.json()\n",
    "result_articles285 = results285['result']\n",
    "data285 = pd.DataFrame(result_articles285)"
   ]
  },
  {
   "cell_type": "code",
   "execution_count": 393,
   "id": "b7ffbda3-b988-46fa-89f6-b8cea7b8ad48",
   "metadata": {},
   "outputs": [],
   "source": [
    "url286 = f'https://search.prod.di.api.cnn.io/content?q=stock%20index%20500&size=10&from=2850&page=286&sort=newest&request_id=pdx-search-8dcc9c68-22e3-473a-821c-0206057594b8'\n",
    "headers = {'name':'Asta Thit Kettel', 'from':'ucph','email':'dnp@ku.dk'}\n",
    "response286 = requests.get(url286, headers)\n",
    "results286 = response286.json()\n",
    "result_articles286 = results286['result']\n",
    "data286 = pd.DataFrame(result_articles286)"
   ]
  },
  {
   "cell_type": "code",
   "execution_count": 394,
   "id": "69b2787c-b25e-4ea9-9e44-3c3103924df2",
   "metadata": {},
   "outputs": [],
   "source": [
    "url287 = f'https://search.prod.di.api.cnn.io/content?q=stock%20index%20500&size=10&from=2860&page=287&sort=newest&request_id=pdx-search-10c0d4c8-0f53-4599-91e2-39b4f8acc5ef'\n",
    "headers = {'name':'Asta Thit Kettel', 'from':'ucph','email':'dnp@ku.dk'}\n",
    "response287 = requests.get(url287, headers)\n",
    "results287 = response287.json()\n",
    "result_articles287 = results287['result']\n",
    "data287 = pd.DataFrame(result_articles287)"
   ]
  },
  {
   "cell_type": "code",
   "execution_count": 395,
   "id": "e7744bfc-bff7-45b3-bd93-1f3e7b3035fd",
   "metadata": {},
   "outputs": [],
   "source": [
    "url288 = f'https://search.prod.di.api.cnn.io/content?q=stock%20index%20500&size=10&from=2870&page=288&sort=newest&request_id=pdx-search-0b6e5f0e-16d7-46a3-9900-aa73f8af6cd1'\n",
    "headers = {'name':'Asta Thit Kettel', 'from':'ucph','email':'dnp@ku.dk'}\n",
    "response288 = requests.get(url288, headers)\n",
    "results288 = response288.json()\n",
    "result_articles288 = results288['result']\n",
    "data288 = pd.DataFrame(result_articles288)"
   ]
  },
  {
   "cell_type": "code",
   "execution_count": 396,
   "id": "049270f2-a791-40c5-aafd-78eeeaa4d59e",
   "metadata": {},
   "outputs": [],
   "source": [
    "url289 = f'https://search.prod.di.api.cnn.io/content?q=stock%20index%20500&size=10&from=2880&page=289&sort=newest&request_id=pdx-search-7151961f-c109-4770-99dc-efe053281ae9'\n",
    "headers = {'name':'Asta Thit Kettel', 'from':'ucph','email':'dnp@ku.dk'}\n",
    "response289 = requests.get(url289, headers)\n",
    "results289 = response289.json()\n",
    "result_articles289 = results289['result']\n",
    "data289 = pd.DataFrame(result_articles289)"
   ]
  },
  {
   "cell_type": "code",
   "execution_count": 397,
   "id": "b29f4a02-9924-495f-9caa-f525818159b0",
   "metadata": {},
   "outputs": [],
   "source": [
    "url290 = f'https://search.prod.di.api.cnn.io/content?q=stock%20index%20500&size=10&from=2890&page=290&sort=newest&request_id=pdx-search-5a51786f-346d-48bb-ac9d-eb8fe8e35c42'\n",
    "headers = {'name':'Asta Thit Kettel', 'from':'ucph','email':'dnp@ku.dk'}\n",
    "response290 = requests.get(url290, headers)\n",
    "results290 = response290.json()\n",
    "result_articles290 = results290['result']\n",
    "data290 = pd.DataFrame(result_articles290)"
   ]
  },
  {
   "cell_type": "code",
   "execution_count": 399,
   "id": "2c814a4c-682b-42b1-80bb-d6c9fdee7d66",
   "metadata": {},
   "outputs": [],
   "source": [
    "url291 = f'https://search.prod.di.api.cnn.io/content?q=stock%20index%20500&size=10&from=2900&page=291&sort=newest&request_id=pdx-search-f5e1ab13-0b36-47ce-b27c-f09811748856'\n",
    "headers = {'name':'Asta Thit Kettel', 'from':'ucph','email':'dnp@ku.dk'}\n",
    "response291 = requests.get(url291, headers)\n",
    "results291 = response291.json()\n",
    "result_articles291 = results291['result']\n",
    "data291 = pd.DataFrame(result_articles291)"
   ]
  },
  {
   "cell_type": "code",
   "execution_count": 400,
   "id": "a68f604a-797e-4031-9562-3f631fd06dad",
   "metadata": {},
   "outputs": [],
   "source": [
    "url292 = f'https://search.prod.di.api.cnn.io/content?q=stock%20index%20500&size=10&from=2910&page=292&sort=newest&request_id=pdx-search-d85e62e0-57ca-4398-a20b-d92bba067629'\n",
    "headers = {'name':'Asta Thit Kettel', 'from':'ucph','email':'dnp@ku.dk'}\n",
    "response292 = requests.get(url292, headers)\n",
    "results292 = response292.json()\n",
    "result_articles292 = results292['result']\n",
    "data292 = pd.DataFrame(result_articles292)"
   ]
  },
  {
   "cell_type": "code",
   "execution_count": 401,
   "id": "868359e4-a07a-4384-b367-5c19a9e5f037",
   "metadata": {},
   "outputs": [],
   "source": [
    "url293 = f'https://search.prod.di.api.cnn.io/content?q=stock%20index%20500&size=10&from=2920&page=293&sort=newest&request_id=pdx-search-b4dd9a0f-598f-408d-907b-274b29c15b4d'\n",
    "headers = {'name':'Asta Thit Kettel', 'from':'ucph','email':'dnp@ku.dk'}\n",
    "response293 = requests.get(url293, headers)\n",
    "results293 = response293.json()\n",
    "result_articles293 = results293['result']\n",
    "data293 = pd.DataFrame(result_articles293)"
   ]
  },
  {
   "cell_type": "code",
   "execution_count": 403,
   "id": "0d522277-df1b-4263-a1b2-6a01ac80ad9f",
   "metadata": {},
   "outputs": [],
   "source": [
    "url294 = f'https://search.prod.di.api.cnn.io/content?q=stock%20index%20500&size=10&from=2930&page=294&sort=newest&request_id=pdx-search-faa27647-5041-4804-8ea6-375849c6dc22'\n",
    "headers = {'name':'Asta Thit Kettel', 'from':'ucph','email':'dnp@ku.dk'}\n",
    "response294 = requests.get(url294, headers)\n",
    "results294 = response294.json()\n",
    "result_articles294 = results294['result']\n",
    "data294 = pd.DataFrame(result_articles294)"
   ]
  },
  {
   "cell_type": "code",
   "execution_count": 404,
   "id": "41c51c98-dae7-41b7-a300-1a48e6c4c658",
   "metadata": {},
   "outputs": [],
   "source": [
    "url295 = f'https://search.prod.di.api.cnn.io/content?q=stock%20index%20500&size=10&from=2940&page=295&sort=newest&request_id=pdx-search-8cc1a768-9015-42d0-b1d3-324d7de0315e'\n",
    "headers = {'name':'Asta Thit Kettel', 'from':'ucph','email':'dnp@ku.dk'}\n",
    "response295 = requests.get(url295, headers)\n",
    "results295 = response295.json()\n",
    "result_articles295 = results295['result']\n",
    "data295 = pd.DataFrame(result_articles295)"
   ]
  },
  {
   "cell_type": "code",
   "execution_count": 405,
   "id": "f5b12004-b5da-4474-8323-2cdf72a4f238",
   "metadata": {},
   "outputs": [],
   "source": [
    "url296 = f'https://search.prod.di.api.cnn.io/content?q=stock%20index%20500&size=10&from=2950&page=296&sort=newest&request_id=pdx-search-369bc92b-142b-440c-a8c8-9c260f00ad6a'\n",
    "headers = {'name':'Asta Thit Kettel', 'from':'ucph','email':'dnp@ku.dk'}\n",
    "response296 = requests.get(url296, headers)\n",
    "results296 = response296.json()\n",
    "result_articles296 = results296['result']\n",
    "data296 = pd.DataFrame(result_articles296)"
   ]
  },
  {
   "cell_type": "markdown",
   "id": "0eb30631-85c8-4c19-bbd9-e6640cbe543e",
   "metadata": {},
   "source": [
    "## 2. Text extraction"
   ]
  },
  {
   "cell_type": "code",
   "execution_count": 76,
   "id": "f9b92b07-27e2-4ab2-befd-7567e27329ad",
   "metadata": {},
   "outputs": [],
   "source": [
    "df1 = pd.read_csv('CNN_articles_urls.csv')"
   ]
  },
  {
   "cell_type": "code",
   "execution_count": 19,
   "id": "a396edd1-5d73-44ba-9019-348b7c82b048",
   "metadata": {},
   "outputs": [],
   "source": [
    "all_urls = df1['url']"
   ]
  },
  {
   "cell_type": "code",
   "execution_count": null,
   "id": "68ab2caa-5c6e-43de-bef2-8a1f8b5b9e2c",
   "metadata": {},
   "outputs": [],
   "source": [
    "# Assuming all_urls is your list containing the URLs\n",
    "article_texts = []\n",
    "\n",
    "# Loop through each URL in the list\n",
    "for index, url in tqdm(enumerate(all_urls), total=len(all_urls), desc=\"Scraping articles\"):\n",
    "    try:\n",
    "        # Sleep for a while to avoid overwhelming the server\n",
    "        time.sleep(5)  # Sleep for 2 seconds, adjust if needed\n",
    "\n",
    "        # Send a GET request to the URL\n",
    "        response = requests.get(url)\n",
    "        response.raise_for_status()  # Ensure the request was successful\n",
    "\n",
    "        # Parse the HTML content\n",
    "        soup = BeautifulSoup(response.text, 'html.parser')\n",
    "\n",
    "        # Extracting the content within the article__content-container div\n",
    "        article_text = \"\"\n",
    "\n",
    "        # Find the div with class 'article__content-container'\n",
    "        content_div = soup.find('div', class_='article__content-container')\n",
    "\n",
    "        if content_div:\n",
    "            # Iterate through all paragraphs or other elements within the content container\n",
    "            paragraphs = content_div.find_all('p')\n",
    "            for paragraph in paragraphs:\n",
    "                article_text += paragraph.get_text(separator=\" \", strip=True) + \" \"\n",
    "\n",
    "        # Append the extracted article text to the list\n",
    "        article_texts.append(article_text.strip())\n",
    "\n",
    "    except requests.RequestException as e:\n",
    "5        article_texts.append(None)\n",
    "\n",
    "# Add the extracted article texts to a new column in the DataFrame\n",
    "all_urls['article_text'] = article_texts"
   ]
  },
  {
   "cell_type": "code",
   "execution_count": null,
   "id": "0d174497-75e5-4848-8dcf-9282c6d40716",
   "metadata": {},
   "outputs": [],
   "source": []
  },
  {
   "cell_type": "markdown",
   "id": "107c6037-00b1-42a7-85a7-8abd78841719",
   "metadata": {},
   "source": [
    "### Creating a dataframe with the urls and corresponding article texts: "
   ]
  },
  {
   "cell_type": "code",
   "execution_count": null,
   "id": "b626eee1-d250-4a6a-85c0-b7d3048e5223",
   "metadata": {},
   "outputs": [],
   "source": [
    "# Create a DataFrame with the URLs and corresponding article texts\n",
    "df2 = pd.DataFrame({\n",
    "    'url': all_urls,\n",
    "    'article_text': article_texts\n",
    "})\n",
    "\n",
    "# Display the DataFrame with article texts\n",
    "df2"
   ]
  },
  {
   "cell_type": "markdown",
   "id": "6cb6bc9f-3c5a-4998-8e09-3a60bf4ecc77",
   "metadata": {},
   "source": [
    "### Merging and saving"
   ]
  },
  {
   "cell_type": "code",
   "execution_count": null,
   "id": "54d079f8-db95-4b12-b97d-bbbfc6326c7e",
   "metadata": {},
   "outputs": [],
   "source": [
    "full_df = pd.merge(df1, df2, on='url', how='inner')  # Use 'inner' for inner join, can be changed to 'left', 'right', or 'outer'\n",
    "full_df['source'] = 'CNN'\n",
    "full_df.to_csv('CNN_full_data.csv', index=False)  # Set index=False to prevent saving the index as a column"
   ]
  }
 ],
 "metadata": {
  "kernelspec": {
   "display_name": "Python 3 (ipykernel)",
   "language": "python",
   "name": "python3"
  },
  "language_info": {
   "codemirror_mode": {
    "name": "ipython",
    "version": 3
   },
   "file_extension": ".py",
   "mimetype": "text/x-python",
   "name": "python",
   "nbconvert_exporter": "python",
   "pygments_lexer": "ipython3",
   "version": "3.12.4"
  }
 },
 "nbformat": 4,
 "nbformat_minor": 5
}
