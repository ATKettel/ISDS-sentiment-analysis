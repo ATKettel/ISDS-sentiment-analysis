{
 "cells": [
  {
   "cell_type": "markdown",
   "id": "a1224522-e8cb-4064-ac3c-48165e711a86",
   "metadata": {},
   "source": [
    "# DK sentiment analysis"
   ]
  },
  {
   "cell_type": "code",
   "execution_count": null,
   "id": "a94471df-56c0-468e-93d6-a36938efe7fd",
   "metadata": {},
   "outputs": [],
   "source": []
  },
  {
   "cell_type": "code",
   "execution_count": 2,
   "id": "d3e667e3-fe0c-4264-82ee-002945aea49d",
   "metadata": {},
   "outputs": [],
   "source": [
    "import time\n",
    "import pandas as pd\n",
    "import os\n",
    "import json\n",
    "from tqdm import tqdm\n",
    "import pandas as pd\n",
    "import re\n",
    "import nltk\n",
    "import numpy as np"
   ]
  },
  {
   "cell_type": "markdown",
   "id": "9fb92398-5a39-4878-9919-7e1d052ccd5d",
   "metadata": {},
   "source": [
    "# Sentiment analysis - descriptives"
   ]
  },
  {
   "cell_type": "code",
   "execution_count": 3,
   "id": "6be71de0-9d24-46e2-b5aa-86c4133545f6",
   "metadata": {},
   "outputs": [],
   "source": [
    "data_sent_DK = pd.read_csv('/Users/astakettel/Desktop/ISDS/GitHub/ISDS-sentiment-analysis/Webscraping/DK_clean_sent.csv')"
   ]
  },
  {
   "cell_type": "markdown",
   "id": "00d67a93-f93e-4f9d-9301-ef9ccbf569bd",
   "metadata": {},
   "source": [
    "### Summary statistics - DK"
   ]
  },
  {
   "cell_type": "code",
   "execution_count": 5,
   "id": "480f03b1-9614-4c32-a708-bb720af6e31d",
   "metadata": {},
   "outputs": [
    {
     "data": {
      "text/plain": [
       "count    12819.00\n",
       "mean         0.84\n",
       "std          0.45\n",
       "min         -1.00\n",
       "25%          0.97\n",
       "50%          0.99\n",
       "75%          1.00\n",
       "max          1.00\n",
       "Name: sentiment, dtype: float64"
      ]
     },
     "execution_count": 5,
     "metadata": {},
     "output_type": "execute_result"
    }
   ],
   "source": [
    "# Descriptive statistics for sentiments for the whole periode:\n",
    "data_sent_DK['sentiment'].describe().round(2)"
   ]
  },
  {
   "cell_type": "markdown",
   "id": "92c35874-6b72-47f7-9a15-45aaa1a780d3",
   "metadata": {},
   "source": [
    "### Descriptive statistics for sentiments each election period:"
   ]
  },
  {
   "cell_type": "code",
   "execution_count": 12,
   "id": "59760249-0283-4bc9-b3fd-f9431f3357f6",
   "metadata": {},
   "outputs": [
    {
     "name": "stdout",
     "output_type": "stream",
     "text": [
      "Descriptive statistics for period 2007-08-13 to 2007-11-13:\n",
      "count    7.00\n",
      "mean     0.28\n",
      "std      0.89\n",
      "min     -0.90\n",
      "25%     -0.52\n",
      "50%      0.93\n",
      "75%      0.98\n",
      "max      0.99\n",
      "Name: sentiment, dtype: float64\n",
      "\n",
      "\n",
      "Descriptive statistics for period 2011-06-15 to 2011-09-15:\n",
      "count    16.00\n",
      "mean     -0.13\n",
      "std       0.91\n",
      "min      -1.00\n",
      "25%      -0.91\n",
      "50%      -0.79\n",
      "75%       0.89\n",
      "max       0.96\n",
      "Name: sentiment, dtype: float64\n",
      "\n",
      "\n",
      "Descriptive statistics for period 2015-03-18 to 2015-06-18:\n",
      "count    444.00\n",
      "mean       0.95\n",
      "std        0.20\n",
      "min       -1.00\n",
      "25%        0.99\n",
      "50%        0.99\n",
      "75%        1.00\n",
      "max        1.00\n",
      "Name: sentiment, dtype: float64\n",
      "\n",
      "\n",
      "Descriptive statistics for period 2019-03-05 to 2019-06-05:\n",
      "count    129.00\n",
      "mean       0.71\n",
      "std        0.63\n",
      "min       -0.99\n",
      "25%        0.92\n",
      "50%        0.99\n",
      "75%        0.99\n",
      "max        1.00\n",
      "Name: sentiment, dtype: float64\n",
      "\n",
      "\n",
      "Descriptive statistics for period 2022-09-01 to 2022-11-01:\n",
      "count    46.00\n",
      "mean      0.38\n",
      "std       0.80\n",
      "min      -0.98\n",
      "25%      -0.45\n",
      "50%       0.97\n",
      "75%       0.99\n",
      "max       1.00\n",
      "Name: sentiment, dtype: float64\n",
      "\n",
      "\n"
     ]
    }
   ],
   "source": [
    "# Ensure the 'date' column is in datetime format\n",
    "data_sent_DK['date'] = pd.to_datetime(data_sent_DK['date'])\n",
    "\n",
    "# List of time periods\n",
    "time_periods = [('2007-08-13', '2007-11-13'),\n",
    "                ('2011-06-15', '2011-09-15'),\n",
    "                ('2015-03-18', '2015-06-18'),\n",
    "                ('2019-03-05', '2019-06-05'),\n",
    "                ('2022-09-01', '2022-11-01')]\n",
    "\n",
    "# Loop through each time period and compute descriptive statistics for 'sentiment'\n",
    "for start_date, end_date in time_periods:\n",
    "    # Filter the DataFrame for the given time period\n",
    "    filtered_data = data_sent_DK[(data_sent_DK['date'] >= start_date) & (data_sent_DK['date'] <= end_date)]\n",
    "    \n",
    "    # Compute descriptive statistics for the 'sentiment' column\n",
    "    sentiment_stats = filtered_data['sentiment'].describe().round(2)\n",
    "    \n",
    "    # Print the results\n",
    "    print(f\"Descriptive statistics for period {start_date} to {end_date}:\")\n",
    "    print(sentiment_stats)\n",
    "    print(\"\\n\")"
   ]
  },
  {
   "cell_type": "code",
   "execution_count": null,
   "id": "e94fbfa2-971e-4b8a-aa67-46bdb190a537",
   "metadata": {},
   "outputs": [],
   "source": []
  },
  {
   "cell_type": "markdown",
   "id": "b047dcc4-a219-43b6-b0af-4a1795a8d6ce",
   "metadata": {},
   "source": [
    "### Scatterplot - DK"
   ]
  },
  {
   "cell_type": "code",
   "execution_count": 14,
   "id": "48e5944c-4bd4-45c0-9756-bcc7e2d7d00a",
   "metadata": {},
   "outputs": [
    {
     "data": {
      "image/png": "[encoded data removed]",
      "text/plain": [
       "<Figure size 1000x600 with 1 Axes>"
      ]
     },
     "metadata": {},
     "output_type": "display_data"
    }
   ],
   "source": [
    "# Scatterplot \n",
    "import matplotlib.pyplot as plt\n",
    "import pandas as pd\n",
    "\n",
    "# Ensure 'date' is in datetime format\n",
    "data_sent_DK['date'] = pd.to_datetime(data_sent_DK['date'])\n",
    "\n",
    "# Group by month and calculate the average sentiment for each month\n",
    "average_sentiment_by_month = data_sent_DK.groupby(pd.Grouper(key='date', freq='ME'))['sentiment'].mean().reset_index()\n",
    "\n",
    "# Create scatter plot for the average sentiment per month\n",
    "plt.figure(figsize=(10, 6))\n",
    "\n",
    "plt.scatter(average_sentiment_by_month['date'], average_sentiment_by_month['sentiment'], alpha=0.6)\n",
    "plt.title('Average Sentiment Scores Per Month')\n",
    "plt.xlabel('Date')\n",
    "plt.ylabel('Average Sentiment Score')\n",
    "\n",
    "plt.grid(True)\n",
    "plt.show()"
   ]
  },
  {
   "cell_type": "markdown",
   "id": "35f66baa-65e2-43e9-8357-8a1e26453bad",
   "metadata": {},
   "source": [
    "#  Correlation and Regression"
   ]
  },
  {
   "cell_type": "markdown",
   "id": "f814fa83-730c-4fbc-941c-b7ebcbeb33a7",
   "metadata": {},
   "source": [
    "\n",
    "### Defining election data"
   ]
  },
  {
   "cell_type": "code",
   "execution_count": 15,
   "id": "a25701ac-894e-4b4b-8284-f2008a523dd5",
   "metadata": {},
   "outputs": [],
   "source": [
    "# initializing dataframe with election data\n",
    "time_periods = [('2007-08-13', '2007-11-13'),\n",
    "                ('2011-06-15', '2011-09-15'),\n",
    "                ('2015-03-18', '2015-06-18'),\n",
    "                ('2019-03-05', '2019-06-05'),\n",
    "                ('2022-09-01', '2022-11-01')]\n",
    "data_elec = {\n",
    "    'election_dates': ['1990-12-12','1994-09-21',\n",
    "                       '1998-03-11','2001-11-20', \n",
    "                       '2005-02-08', '2007-11-13',\n",
    "                       '2011-09-15', '2015-06-18',\n",
    "                       '2019-06-05', '2022-11-01'],\n",
    "    'change_in_government': [1,1,0,1,0,0,1,1,1,0]}\n",
    "\n",
    "OLS_data_DK = pd.DataFrame(data_elec)\n"
   ]
  },
  {
   "cell_type": "markdown",
   "id": "b1ff8375-61fc-46be-b43a-17e98f5a2f4a",
   "metadata": {},
   "source": [
    "### Average sentiment scores (3 month interval)\n",
    "Computing average sentiment scores for the 3 months leading up to the election date: "
   ]
  },
  {
   "cell_type": "code",
   "execution_count": 16,
   "id": "c278a043-9d45-490d-991f-d3f90ae81dde",
   "metadata": {},
   "outputs": [],
   "source": [
    "data_sent_DK = pd.read_csv('/Users/astakettel/Desktop/ISDS/GitHub/ISDS-sentiment-analysis/Webscraping/DK_clean_sent.csv')"
   ]
  },
  {
   "cell_type": "code",
   "execution_count": 17,
   "id": "f28fe821-6c87-4037-8cfa-aa4156c8c2b0",
   "metadata": {},
   "outputs": [],
   "source": [
    "# Ensure the 'date' column in your DataFrame is in datetime format\n",
    "data_sent_DK['date'] = pd.to_datetime(data_sent_DK['date'])"
   ]
  },
  {
   "cell_type": "code",
   "execution_count": 21,
   "id": "d2713791-12a9-442a-85d8-0001b58d15d7",
   "metadata": {},
   "outputs": [],
   "source": [
    "#1. I start by defining the time periods i want to compute the average sentiments of\n",
    "\n",
    "# List of time periods (start_date, end_date)\n",
    "time_periods = [('1990-09-12', '1990-12-12'),\n",
    "                ('1994-06-21', '1994-09-21'),\n",
    "                ('1997-12-11', '1998-03-11'),\n",
    "                ('2001-08-20', '2001-11-20'),\n",
    "                ('2004-11-08', '2005-02-08'),\n",
    "                ('2007-08-13', '2007-11-13'),\n",
    "                ('2011-06-15', '2011-09-15'),\n",
    "                ('2015-03-18', '2015-06-18'),\n",
    "                ('2019-03-05', '2019-06-05'),\n",
    "                ('2022-09-01', '2022-11-01')]\n",
    "\n",
    "# 2. Then i define a function to compute the average sentiment scores \n",
    "    # found in the articles written within a defined interval: \n",
    "\n",
    "def compute_average_sentiment(df, start_date, end_date):\n",
    "    # Convert string dates to datetime if necessary\n",
    "    start_date = pd.to_datetime(start_date)\n",
    "    end_date = pd.to_datetime(end_date)\n",
    "    \n",
    "    # Filter DataFrame for the specific time period\n",
    "    filtered_df = df[(df['date'] >= start_date) & (df['date'] <= end_date)]\n",
    "    \n",
    "    # Calculate the average sentiment\n",
    "    average_sentiment = filtered_df['sentiment'].mean()\n",
    "    \n",
    "    return average_sentiment\n",
    "\n",
    "# 3. Then i loop through each interval to get the average sentiment for each interval: \n",
    "\n",
    "# Dictionary to store the results for each time period\n",
    "average_sentiments_DK = {}\n",
    "\n",
    "for start_date, end_date in time_periods:\n",
    "    avg_sentiment = compute_average_sentiment(data_sent_DK, start_date, end_date)\n",
    "    average_sentiments_DK[(start_date, end_date)] = avg_sentiment"
   ]
  },
  {
   "cell_type": "code",
   "execution_count": 22,
   "id": "0fc2604b-d37e-45a4-8612-61252e26ba15",
   "metadata": {},
   "outputs": [],
   "source": [
    "# Now i store the average sentiment scores in a list: \n",
    "sent_3M = list(list(average_sentiments_DK.values()))\n",
    "\n",
    "# And append the list as a column in the dataframe OLS_data:\n",
    "OLS_data_DK['sent_3M'] = sent_3M"
   ]
  },
  {
   "cell_type": "markdown",
   "id": "ce378033-7ff0-45ed-ab6c-bb75a80d0a51",
   "metadata": {},
   "source": [
    "### Return 3 months"
   ]
  },
  {
   "cell_type": "code",
   "execution_count": 25,
   "id": "82abcd2a-75bd-4180-9327-56a869d44722",
   "metadata": {},
   "outputs": [],
   "source": [
    "# Making a list with return_3M from Theis research and storing it in the dataframe:\n",
    "return_3M = [-10.048876, -2.870091,\n",
    "            10.948177, -10.812704,\n",
    "            7.717629, 0.225937, \n",
    "            -19.138613, 3.45083,\n",
    "            -2.1435, -8.759347]\n",
    "OLS_data_DK['return_3M'] = return_3M"
   ]
  },
  {
   "cell_type": "code",
   "execution_count": 14,
   "id": "6a00b97e-7c28-46ce-ad89-2b876d40ffb8",
   "metadata": {},
   "outputs": [
    {
     "data": {
      "text/html": [
       "<div>\n",
       "<style scoped>\n",
       "    .dataframe tbody tr th:only-of-type {\n",
       "        vertical-align: middle;\n",
       "    }\n",
       "\n",
       "    .dataframe tbody tr th {\n",
       "        vertical-align: top;\n",
       "    }\n",
       "\n",
       "    .dataframe thead th {\n",
       "        text-align: right;\n",
       "    }\n",
       "</style>\n",
       "<table border=\"1\" class=\"dataframe\">\n",
       "  <thead>\n",
       "    <tr style=\"text-align: right;\">\n",
       "      <th></th>\n",
       "      <th>election_dates</th>\n",
       "      <th>change_in_government</th>\n",
       "      <th>sent_3M</th>\n",
       "      <th>return_3M</th>\n",
       "    </tr>\n",
       "  </thead>\n",
       "  <tbody>\n",
       "    <tr>\n",
       "      <th>0</th>\n",
       "      <td>2020-11-03</td>\n",
       "      <td>1</td>\n",
       "      <td>0.518694</td>\n",
       "      <td>2.262787</td>\n",
       "    </tr>\n",
       "    <tr>\n",
       "      <th>1</th>\n",
       "      <td>2016-11-08</td>\n",
       "      <td>1</td>\n",
       "      <td>0.407191</td>\n",
       "      <td>-1.895098</td>\n",
       "    </tr>\n",
       "    <tr>\n",
       "      <th>2</th>\n",
       "      <td>2012-11-06</td>\n",
       "      <td>0</td>\n",
       "      <td>0.546422</td>\n",
       "      <td>-2.450098</td>\n",
       "    </tr>\n",
       "    <tr>\n",
       "      <th>3</th>\n",
       "      <td>2008-11-04</td>\n",
       "      <td>1</td>\n",
       "      <td>0.041382</td>\n",
       "      <td>-19.476870</td>\n",
       "    </tr>\n",
       "    <tr>\n",
       "      <th>4</th>\n",
       "      <td>2004-11-02</td>\n",
       "      <td>0</td>\n",
       "      <td>NaN</td>\n",
       "      <td>2.162441</td>\n",
       "    </tr>\n",
       "    <tr>\n",
       "      <th>5</th>\n",
       "      <td>2000-11-07</td>\n",
       "      <td>1</td>\n",
       "      <td>NaN</td>\n",
       "      <td>-3.207555</td>\n",
       "    </tr>\n",
       "    <tr>\n",
       "      <th>6</th>\n",
       "      <td>1996-11-05</td>\n",
       "      <td>0</td>\n",
       "      <td>NaN</td>\n",
       "      <td>8.165336</td>\n",
       "    </tr>\n",
       "    <tr>\n",
       "      <th>7</th>\n",
       "      <td>1992-11-03</td>\n",
       "      <td>0</td>\n",
       "      <td>NaN</td>\n",
       "      <td>-1.216213</td>\n",
       "    </tr>\n",
       "  </tbody>\n",
       "</table>\n",
       "</div>"
      ],
      "text/plain": [
       "  election_dates  change_in_government   sent_3M  return_3M\n",
       "0     2020-11-03                     1  0.518694   2.262787\n",
       "1    2016-11-08                      1  0.407191  -1.895098\n",
       "2     2012-11-06                     0  0.546422  -2.450098\n",
       "3     2008-11-04                     1  0.041382 -19.476870\n",
       "4     2004-11-02                     0       NaN   2.162441\n",
       "5     2000-11-07                     1       NaN  -3.207555\n",
       "6     1996-11-05                     0       NaN   8.165336\n",
       "7     1992-11-03                     0       NaN  -1.216213"
      ]
     },
     "execution_count": 14,
     "metadata": {},
     "output_type": "execute_result"
    }
   ],
   "source": [
    "OLS_data"
   ]
  },
  {
   "cell_type": "markdown",
   "id": "89578ca3-8938-4c46-8022-f465c60ece70",
   "metadata": {},
   "source": [
    "# Correlation analysis"
   ]
  },
  {
   "cell_type": "code",
   "execution_count": 27,
   "id": "fd8b7d74-e956-47b9-8ec1-058dac6bcb35",
   "metadata": {},
   "outputs": [
    {
     "name": "stdout",
     "output_type": "stream",
     "text": [
      "                      return_3M  sent_3M  change_in_government\n",
      "return_3M                  1.00     0.84                 -0.53\n",
      "sent_3M                    0.84     1.00                  0.24\n",
      "change_in_government      -0.53     0.24                  1.00\n"
     ]
    }
   ],
   "source": [
    "# pearson: \n",
    "corr_matri_p = OLS_data_DK[['return_3M', 'sent_3M', 'change_in_government']].corr(method='pearson').round(2)\n",
    "\n",
    "print(corr_matri_p)\n"
   ]
  },
  {
   "cell_type": "markdown",
   "id": "4c4bf81a-57dc-4639-9d81-2e1f93478cb2",
   "metadata": {},
   "source": [
    "# Example code for OLS regression"
   ]
  },
  {
   "cell_type": "code",
   "execution_count": 28,
   "id": "70d787ad-9d00-41b8-93eb-29cf6fc2f2ee",
   "metadata": {},
   "outputs": [],
   "source": [
    "# As we dont have articles from all time periods we remove the rows that contain missing information: \n",
    "OLS_data_sub = OLS_data_DK.dropna()\n"
   ]
  },
  {
   "cell_type": "code",
   "execution_count": 31,
   "id": "7bc95f1f-fc8e-4730-8505-92914eb56663",
   "metadata": {},
   "outputs": [
    {
     "name": "stdout",
     "output_type": "stream",
     "text": [
      "                             OLS Regression Results                             \n",
      "================================================================================\n",
      "Dep. Variable:     change_in_government   R-squared:                       0.373\n",
      "Model:                              OLS   Adj. R-squared:                 -0.255\n",
      "Method:                   Least Squares   F-statistic:                    0.5940\n",
      "Date:                  Thu, 22 Aug 2024   Prob (F-statistic):              0.627\n",
      "Time:                          12:37:53   Log-Likelihood:                -2.3613\n",
      "No. Observations:                     5   AIC:                             10.72\n",
      "Df Residuals:                         2   BIC:                             9.551\n",
      "Df Model:                             2                                         \n",
      "Covariance Type:              nonrobust                                         \n",
      "==============================================================================\n",
      "                 coef    std err          t      P>|t|      [0.025      0.975]\n",
      "------------------------------------------------------------------------------\n",
      "const         -0.3810      0.941     -0.405      0.725      -4.432       3.670\n",
      "return_3M     -0.0637      0.063     -1.003      0.421      -0.337       0.209\n",
      "sent_3M        1.4721      1.370      1.074      0.395      -4.423       7.367\n",
      "==============================================================================\n",
      "Omnibus:                          nan   Durbin-Watson:                   1.394\n",
      "Prob(Omnibus):                    nan   Jarque-Bera (JB):                1.181\n",
      "Skew:                          -1.187   Prob(JB):                        0.554\n",
      "Kurtosis:                       2.818   Cond. No.                         57.4\n",
      "==============================================================================\n",
      "\n",
      "Notes:\n",
      "[1] Standard Errors assume that the covariance matrix of the errors is correctly specified.\n"
     ]
    },
    {
     "name": "stderr",
     "output_type": "stream",
     "text": [
      "/opt/anaconda3/lib/python3.12/site-packages/statsmodels/stats/stattools.py:74: ValueWarning: omni_normtest is not valid with less than 8 observations; 5 samples were given.\n",
      "  warn(\"omni_normtest is not valid with less than 8 observations; %i \"\n"
     ]
    }
   ],
   "source": [
    "import pandas as pd\n",
    "import statsmodels.api as sm\n",
    "# Define the dependent and independent variables\n",
    "X = OLS_data_sub[['return_3M','sent_3M']]  # Independent variables (X1, X2)\n",
    "Y = OLS_data_sub['change_in_government']           # Dependent variable (Y)\n",
    "\n",
    "# Add a constant to the independent variables (this adds the intercept term)\n",
    "X = sm.add_constant(X)\n",
    "\n",
    "# Perform the OLS regression\n",
    "model = sm.OLS(Y, X).fit()\n",
    "\n",
    "# Print the OLS regression results\n",
    "print(model.summary())"
   ]
  }
 ],
 "metadata": {
  "kernelspec": {
   "display_name": "Python 3 (ipykernel)",
   "language": "python",
   "name": "python3"
  },
  "language_info": {
   "codemirror_mode": {
    "name": "ipython",
    "version": 3
   },
   "file_extension": ".py",
   "mimetype": "text/x-python",
   "name": "python",
   "nbconvert_exporter": "python",
   "pygments_lexer": "ipython3",
   "version": "3.12.4"
  }
 },
 "nbformat": 4,
 "nbformat_minor": 5
}
