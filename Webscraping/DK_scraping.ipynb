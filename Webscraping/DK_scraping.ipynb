{
 "cells": [
  {
   "cell_type": "markdown",
   "id": "01f951b7-8db2-47bb-9fa0-c648f729d388",
   "metadata": {},
   "source": [
    "# SCRAPING - DK"
   ]
  },
  {
   "cell_type": "code",
   "execution_count": 2,
   "id": "23fad13d-5662-4d37-8d28-6fb742dd02df",
   "metadata": {},
   "outputs": [],
   "source": [
    "import requests\n",
    "import time\n",
    "import tqdm\n",
    "import pandas as pd\n",
    "import os\n",
    "import json\n",
    "from selenium.webdriver.common.by import By\n",
    "from selenium.webdriver.support.ui import WebDriverWait\n",
    "from selenium.webdriver.support import expected_conditions as EC\n",
    "import time\n",
    "from tqdm import tqdm\n",
    "from selenium import webdriver\n",
    "from selenium.webdriver.chrome.service import Service\n",
    "from webdriver_manager.chrome import ChromeDriverManager\n",
    "from selenium.webdriver.chrome.options import Options\n",
    "from bs4 import BeautifulSoup\n",
    "import pandas as pd\n",
    "import pprint"
   ]
  },
  {
   "cell_type": "markdown",
   "id": "787ceaec-3a8d-4d41-b56c-396cee8dcada",
   "metadata": {},
   "source": [
    "# DR.DK "
   ]
  },
  {
   "cell_type": "markdown",
   "id": "b2731a02-bd54-4a16-90fd-a39421ea7f9b",
   "metadata": {
    "jp-MarkdownHeadingCollapsed": true
   },
   "source": [
    "## 1. Getting urls - C25"
   ]
  },
  {
   "cell_type": "code",
   "execution_count": 53,
   "id": "fe3a08e5-3232-42d4-9975-cedc5444db26",
   "metadata": {},
   "outputs": [],
   "source": [
    "url1 = f'https://www.dr.dk/tjenester/steffi/graphql?query=fragment%20ArticleResultFields%20on%20Article%20%7B%20type%3A%20__typename%20urn%20urlPathId%20title%20format%20publications%20%7B%20...on%20ArticlePublication%20%7B%20breaking%20live%20serviceChannel%20%7B%20urn%20%7D%20%7D%20%7D%20summary%20startDate%20teaserImage%20%7B%20default%20%7B%20url%20%7D%20%7D%20head%20%7B%20type%3A%20__typename%20...%20on%20MediaComponent%20%7B%20resource%20%7B%20type%3A%20__typename%20...%20on%20LiveMedia%20%7B%20urn%20mediaType%20%7D%20...%20on%20Clip%20%7B%20urn%20mediaType%20durationInMilliseconds%20%7D%20...%20on%20ClipBundle%20%7B%20items(limit%3A%201)%20%7B%20__typename%20urn%20durationInMilliseconds%20%7D%20%7D%20%7D%20%7D%20...%20on%20ImageCollectionComponent%20%7B%20images%20%7B%20default%3A%20image(key%3A%20%22default%22)%20%7B%20type%3A%20__typename%20%7D%20%7D%20%7D%20...%20on%20RatingComponent%20%7B%20rating%20%7D%20%7D%20contributions(limit%3A%201)%20%7B%20agent%20%7B%20...%20on%20Person%20%7B%20name%20%7D%20%7D%20role%20%7D%20site%20%7B%20url%20urn%20title%20presentation%20%7B%20colors%20teaserImage%20%7B%20default%3A%20image(key%3A%20%22default%22)%20%7B%20url%20%7D%20%7D%20%7D%20%7D%20%7D%20fragment%20RecipeResultFields%20on%20Recipe%20%7B%20title%20url%20image%20%7B%20url%20%7D%20startDate%20%7D%20fragment%20UnknownSearchResultFields%20on%20UnknownSearchResult%20%7B%20title%20url%20label%20image%20%7B%20url%20width%20height%20%7D%20%7D%20fragment%20MusicArtistResultFields%20on%20MusicArtist%20%7B%20url%20name%20image%20%7B%20url%20width%20height%20%7D%20%7D%20query%20SearchPageDRDK(%24query%3A%20String!%20%24limit%3A%20Int!%20%24offset%3A%20Int!%20%24sort%3A%20SearchSort)%20%7B%20drdk%3A%20search(query%3A%20%24query%20logQuery%3A%20%24query%20limit%3A%20%24limit%20offset%3A%20%24offset%20products%3A%20%5B%22drdk%22%5D%20sort%3A%20%24sort)%20%7B%20totalCount%20results%3A%20nodes%20%7B%20type%3A%20__typename%20...%20on%20Article%20%7B%20...ArticleResultFields%20%7D%20...%20on%20Recipe%20%7B%20...RecipeResultFields%20%7D%20...%20on%20MusicArtist%20%7B%20...MusicArtistResultFields%20%7D%20...%20on%20UnknownSearchResult%20%7B%20...UnknownSearchResultFields%20%7D%20%7D%20spellCheck%20%7D%20%7D&variables=%7B%22query%22%3A%22C25%22%2C%22sort%22%3A%22Relevance%22%2C%22limit%22%3A20%2C%22offset%22%3A0%7D'\n",
    "headers = {'name':'Asta Thit Kettel', 'from':'ucph','email':'dnp@ku.dk'}\n",
    "response1 = requests.get(url1, headers)\n",
    "results1 = response1.json()\n",
    "result_articles1 = [{'urlPathId': article['urlPathId'], 'title': article['title']} for article in results1['data']['drdk']['results']]\n",
    "data1 = pd.DataFrame(result_articles1)"
   ]
  },
  {
   "cell_type": "code",
   "execution_count": 54,
   "id": "a236ac2e-ed70-4dd4-bcc5-917b40d62f15",
   "metadata": {},
   "outputs": [],
   "source": [
    "url2 = f'https://www.dr.dk/tjenester/steffi/graphql?query=fragment%20ArticleResultFields%20on%20Article%20%7B%20type%3A%20__typename%20urn%20urlPathId%20title%20format%20publications%20%7B%20...on%20ArticlePublication%20%7B%20breaking%20live%20serviceChannel%20%7B%20urn%20%7D%20%7D%20%7D%20summary%20startDate%20teaserImage%20%7B%20default%20%7B%20url%20%7D%20%7D%20head%20%7B%20type%3A%20__typename%20...%20on%20MediaComponent%20%7B%20resource%20%7B%20type%3A%20__typename%20...%20on%20LiveMedia%20%7B%20urn%20mediaType%20%7D%20...%20on%20Clip%20%7B%20urn%20mediaType%20durationInMilliseconds%20%7D%20...%20on%20ClipBundle%20%7B%20items(limit%3A%201)%20%7B%20__typename%20urn%20durationInMilliseconds%20%7D%20%7D%20%7D%20%7D%20...%20on%20ImageCollectionComponent%20%7B%20images%20%7B%20default%3A%20image(key%3A%20%22default%22)%20%7B%20type%3A%20__typename%20%7D%20%7D%20%7D%20...%20on%20RatingComponent%20%7B%20rating%20%7D%20%7D%20contributions(limit%3A%201)%20%7B%20agent%20%7B%20...%20on%20Person%20%7B%20name%20%7D%20%7D%20role%20%7D%20site%20%7B%20url%20urn%20title%20presentation%20%7B%20colors%20teaserImage%20%7B%20default%3A%20image(key%3A%20%22default%22)%20%7B%20url%20%7D%20%7D%20%7D%20%7D%20%7D%20fragment%20RecipeResultFields%20on%20Recipe%20%7B%20title%20url%20image%20%7B%20url%20%7D%20startDate%20%7D%20fragment%20UnknownSearchResultFields%20on%20UnknownSearchResult%20%7B%20title%20url%20label%20image%20%7B%20url%20width%20height%20%7D%20%7D%20fragment%20MusicArtistResultFields%20on%20MusicArtist%20%7B%20url%20name%20image%20%7B%20url%20width%20height%20%7D%20%7D%20query%20SearchPageDRDK(%24query%3A%20String!%20%24limit%3A%20Int!%20%24offset%3A%20Int!%20%24sort%3A%20SearchSort)%20%7B%20drdk%3A%20search(query%3A%20%24query%20logQuery%3A%20%24query%20limit%3A%20%24limit%20offset%3A%20%24offset%20products%3A%20%5B%22drdk%22%5D%20sort%3A%20%24sort)%20%7B%20totalCount%20results%3A%20nodes%20%7B%20type%3A%20__typename%20...%20on%20Article%20%7B%20...ArticleResultFields%20%7D%20...%20on%20Recipe%20%7B%20...RecipeResultFields%20%7D%20...%20on%20MusicArtist%20%7B%20...MusicArtistResultFields%20%7D%20...%20on%20UnknownSearchResult%20%7B%20...UnknownSearchResultFields%20%7D%20%7D%20spellCheck%20%7D%20%7D&variables=%7B%22query%22%3A%22C25%22%2C%22sort%22%3A%22Relevance%22%2C%22limit%22%3A10%2C%22offset%22%3A20%7D'\n",
    "headers = {'name':'Asta Thit Kettel', 'from':'ucph','email':'dnp@ku.dk'}\n",
    "response2 = requests.get(url2, headers)\n",
    "results2 = response2.json()\n",
    "result_articles2 = [{'urlPathId': article['urlPathId'], 'title': article['title']} for article in results2['data']['drdk']['results']]\n",
    "data2 = pd.DataFrame(result_articles2)"
   ]
  },
  {
   "cell_type": "code",
   "execution_count": null,
   "id": "75073930-f919-4b18-bdba-e73fee605d4f",
   "metadata": {},
   "outputs": [],
   "source": [
    "import requests\n",
    "import pandas as pd\n",
    "\n",
    "url3 = 'https://www.dr.dk/tjenester/steffi/graphql?query=fragment%20ArticleResultFields%20on%20Article%20%7B%20type%3A%20__typename%20urn%20urlPathId%20title%20format%20publications%20%7B%20...on%20ArticlePublication%20%7B%20breaking%20live%20serviceChannel%20%7B%20urn%20%7D%20%7D%20%7D%20summary%20startDate%20teaserImage%20%7B%20default%20%7B%20url%20%7D%20%7D%20head%20%7B%20type%3A%20__typename%20...%20on%20MediaComponent%20%7B%20resource%20%7B%20type%3A%20__typename%20...%20on%20LiveMedia%20%7B%20urn%20mediaType%20%7D%20...%20on%20Clip%20%7B%20urn%20mediaType%20durationInMilliseconds%20%7D%20...%20on%20ClipBundle%20%7B%20items(limit%3A%201)%20%7B%20__typename%20urn%20durationInMilliseconds%20%7D%20%7D%20%7D%20%7D%20...%20on%20ImageCollectionComponent%20%7B%20images%20%7B%20default%3A%20image(key%3A%20%22default%22)%20%7B%20type%3A%20__typename%20%7D%20%7D%20%7D%20...%20on%20RatingComponent%20%7B%20rating%20%7D%20%7D%20contributions(limit%3A%201)%20%7B%20agent%20%7B%20...%20on%20Person%20%7B%20name%20%7D%20%7D%20role%20%7D%20site%20%7B%20url%20urn%20title%20presentation%20%7B%20colors%20teaserImage%20%7B%20default%3A%20image(key%3A%20%22default%22)%20%7B%20url%20%7D%20%7D%20%7D%20%7D%20%7D%20fragment%20RecipeResultFields%20on%20Recipe%20%7B%20title%20url%20image%20%7B%20url%20%7D%20startDate%20%7D%20fragment%20UnknownSearchResultFields%20on%20UnknownSearchResult%20%7B%20title%20url%20label%20image%20%7B%20url%20width%20height%20%7D%20%7D%20fragment%20MusicArtistResultFields%20on%20MusicArtist%20%7B%20url%20name%20image%20%7B%20url%20width%20height%20%7D%20%7D%20query%20SearchPageDRDK(%24query%3A%20String!%20%24limit%3A%20Int!%20%24offset%3A%20Int!%20%24sort%3A%20SearchSort)%20%7B%20drdk%3A%20search(query%3A%20%24query%20logQuery%3A%20%24query%20limit%3A%20%24limit%20offset%3A%20%24offset%20products%3A%20%5B%22drdk%22%5D%20sort%3A%20%24sort)%20%7B%20totalCount%20results%3A%20nodes%20%7B%20type%3A%20__typename%20...%20on%20Article%20%7B%20...ArticleResultFields%20%7D%20...%20on%20Recipe%20%7B%20...RecipeResultFields%20%7D%20...%20on%20MusicArtist%20%7B%20...MusicArtistResultFields%20%7D%20...%20on%20UnknownSearchResult%20%7B%20...UnknownSearchResultFields%20%7D%20%7D%20spellCheck%20%7D%20%7D&variables=%7B%22query%22%3A%22C25%22%2C%22sort%22%3A%22Relevance%22%2C%22limit%22%3A10%2C%22offset%22%3A40%7D'\n",
    "headers = {'name': 'Asta Thit Kettel', 'from': 'ucph', 'email': 'dnp@ku.dk'}\n",
    "\n",
    "# Make the request\n",
    "response3 = requests.get(url3, headers=headers)\n",
    "\n",
    "# Check the response status\n",
    "if response3.status_code != 200:\n",
    "    print(f\"Error: Received status code {response3.status_code}\")\n",
    "else:\n",
    "    # Print raw response text\n",
    "    print(response3.text)\n",
    "    \n",
    "    # Try to parse the response as JSON\n",
    "    try:\n",
    "        results3 = response3.json()\n",
    "        result_articles3 = [{'urlPathId': article['urlPathId'], 'title': article['title']} for article in results3['data']['drdk']['results']]\n",
    "        data3 = pd.DataFrame(result_articles3)\n",
    "        print(data3)\n",
    "    except ValueError as e:\n",
    "        print(f\"Failed to parse JSON: {e}\")\n"
   ]
  },
  {
   "cell_type": "code",
   "execution_count": null,
   "id": "467f5feb-a4be-429d-950a-187fc351eede",
   "metadata": {},
   "outputs": [],
   "source": [
    "import requests\n",
    "import pandas as pd\n",
    "\n",
    "url4 = 'https://www.dr.dk/tjenester/steffi/graphql?query=fragment%20ArticleResultFields%20on%20Article%20%7B%20type%3A%20__typename%20urn%20urlPathId%20title%20format%20publications%20%7B%20...on%20ArticlePublication%20%7B%20breaking%20live%20serviceChannel%20%7B%20urn%20%7D%20%7D%20%7D%20summary%20startDate%20teaserImage%20%7B%20default%20%7B%20url%20%7D%20%7D%20head%20%7B%20type%3A%20__typename%20...%20on%20MediaComponent%20%7B%20resource%20%7B%20type%3A%20__typename%20...%20on%20LiveMedia%20%7B%20urn%20mediaType%20%7D%20...%20on%20Clip%20%7B%20urn%20mediaType%20durationInMilliseconds%20%7D%20...%20on%20ClipBundle%20%7B%20items(limit%3A%201)%20%7B%20__typename%20urn%20durationInMilliseconds%20%7D%20%7D%20%7D%20%7D%20...%20on%20ImageCollectionComponent%20%7B%20images%20%7B%20default%3A%20image(key%3A%20%22default%22)%20%7B%20type%3A%20__typename%20%7D%20%7D%20%7D%20...%20on%20RatingComponent%20%7B%20rating%20%7D%20%7D%20contributions(limit%3A%201)%20%7B%20agent%20%7B%20...%20on%20Person%20%7B%20name%20%7D%20%7D%20role%20%7D%20site%20%7B%20url%20urn%20title%20presentation%20%7B%20colors%20teaserImage%20%7B%20default%3A%20image(key%3A%20%22default%22)%20%7B%20url%20%7D%20%7D%20%7D%20%7D%20%7D%20fragment%20RecipeResultFields%20on%20Recipe%20%7B%20title%20url%20image%20%7B%20url%20%7D%20startDate%20%7D%20fragment%20UnknownSearchResultFields%20on%20UnknownSearchResult%20%7B%20title%20url%20label%20image%20%7B%20url%20width%20height%20%7D%20%7D%20fragment%20MusicArtistResultFields%20on%20MusicArtist%20%7B%20url%20name%20image%20%7B%20url%20width%20height%20%7D%20%7D%20query%20SearchPageDRDK(%24query%3A%20String!%20%24limit%3A%20Int!%20%24offset%3A%20Int!%20%24sort%3A%20SearchSort)%20%7B%20drdk%3A%20search(query%3A%20%24query%20logQuery%3A%20%24query%20limit%3A%20%24limit%20offset%3A%20%24offset%20products%3A%20%5B%22drdk%22%5D%20sort%3A%20%24sort)%20%7B%20totalCount%20results%3A%20nodes%20%7B%20type%3A%20__typename%20...%20on%20Article%20%7B%20...ArticleResultFields%20%7D%20...%20on%20Recipe%20%7B%20...RecipeResultFields%20%7D%20...%20on%20MusicArtist%20%7B%20...MusicArtistResultFields%20%7D%20...%20on%20UnknownSearchResult%20%7B%20...UnknownSearchResultFields%20%7D%20%7D%20spellCheck%20%7D%20%7D&variables=%7B%22query%22%3A%22C25%22%2C%22sort%22%3A%22Relevance%22%2C%22limit%22%3A10%2C%22offset%22%3A40%7D'\n",
    "headers = {'name': 'Asta Thit Kettel', 'from': 'ucph', 'email': 'dnp@ku.dk'}\n",
    "\n",
    "# Make the request\n",
    "response4 = requests.get(url4, headers=headers)\n",
    "\n",
    "# Check the response status\n",
    "if response4.status_code != 200:\n",
    "    print(f\"Error: Received status code {response4.status_code}\")\n",
    "else:\n",
    "    # Print raw response text\n",
    "    print(response4.text)\n",
    "    \n",
    "    # Try to parse the response as JSON\n",
    "    try:\n",
    "        results4 = response4.json()\n",
    "        result_articles4 = [{'urlPathId': article['urlPathId'], 'title': article['title']} for article in results4['data']['drdk']['results']]\n",
    "        data4 = pd.DataFrame(result_articles4)\n",
    "        print(data4)\n",
    "    except ValueError as e:\n",
    "        print(f\"Failed to parse JSON: {e}\")"
   ]
  },
  {
   "cell_type": "code",
   "execution_count": null,
   "id": "72078312-cfae-41c5-9a75-55ab64ff36be",
   "metadata": {},
   "outputs": [],
   "source": [
    "url5 = f''\n",
    "headers = {'name':'Asta Thit Kettel', 'from':'ucph','email':'dnp@ku.dk'}\n",
    "response5 = requests.get(url, headers)\n",
    "results5 = respons5.json()\n",
    "result_articles5 = [{'urlPathId': article['urlPathId'], 'title': article['title']} for article in results5['data']['drdk']['results']]\n",
    "data5 = pd.DataFrame(result_articles)"
   ]
  },
  {
   "cell_type": "code",
   "execution_count": null,
   "id": "0a6a132d-11e3-4f68-ae03-f77f7a18889b",
   "metadata": {},
   "outputs": [],
   "source": [
    "import requests\n",
    "import pandas as pd\n",
    "\n",
    "url5 = 'https://www.dr.dk/tjenester/steffi/graphql?query=fragment%20ArticleResultFields%20on%20Article%20%7B%20type%3A%20__typename%20urn%20urlPathId%20title%20format%20publications%20%7B%20...on%20ArticlePublication%20%7B%20breaking%20live%20serviceChannel%20%7B%20urn%20%7D%20%7D%20%7D%20summary%20startDate%20teaserImage%20%7B%20default%20%7B%20url%20%7D%20%7D%20head%20%7B%20type%3A%20__typename%20...%20on%20MediaComponent%20%7B%20resource%20%7B%20type%3A%20__typename%20...%20on%20LiveMedia%20%7B%20urn%20mediaType%20%7D%20...%20on%20Clip%20%7B%20urn%20mediaType%20durationInMilliseconds%20%7D%20...%20on%20ClipBundle%20%7B%20items(limit%3A%201)%20%7B%20__typename%20urn%20durationInMilliseconds%20%7D%20%7D%20%7D%20%7D%20...%20on%20ImageCollectionComponent%20%7B%20images%20%7B%20default%3A%20image(key%3A%20%22default%22)%20%7B%20type%3A%20__typename%20%7D%20%7D%20%7D%20...%20on%20RatingComponent%20%7B%20rating%20%7D%20%7D%20contributions(limit%3A%201)%20%7B%20agent%20%7B%20...%20on%20Person%20%7B%20name%20%7D%20%7D%20role%20%7D%20site%20%7B%20url%20urn%20title%20presentation%20%7B%20colors%20teaserImage%20%7B%20default%3A%20image(key%3A%20%22default%22)%20%7B%20url%20%7D%20%7D%20%7D%20%7D%20%7D%20fragment%20RecipeResultFields%20on%20Recipe%20%7B%20title%20url%20image%20%7B%20url%20%7D%20startDate%20%7D%20fragment%20UnknownSearchResultFields%20on%20UnknownSearchResult%20%7B%20title%20url%20label%20image%20%7B%20url%20width%20height%20%7D%20%7D%20fragment%20MusicArtistResultFields%20on%20MusicArtist%20%7B%20url%20name%20image%20%7B%20url%20width%20height%20%7D%20%7D%20query%20SearchPageDRDK(%24query%3A%20String!%20%24limit%3A%20Int!%20%24offset%3A%20Int!%20%24sort%3A%20SearchSort)%20%7B%20drdk%3A%20search(query%3A%20%24query%20logQuery%3A%20%24query%20limit%3A%20%24limit%20offset%3A%20%24offset%20products%3A%20%5B%22drdk%22%5D%20sort%3A%20%24sort)%20%7B%20totalCount%20results%3A%20nodes%20%7B%20type%3A%20__typename%20...%20on%20Article%20%7B%20...ArticleResultFields%20%7D%20...%20on%20Recipe%20%7B%20...RecipeResultFields%20%7D%20...%20on%20MusicArtist%20%7B%20...MusicArtistResultFields%20%7D%20...%20on%20UnknownSearchResult%20%7B%20...UnknownSearchResultFields%20%7D%20%7D%20spellCheck%20%7D%20%7D&variables=%7B%22query%22%3A%22C25%22%2C%22sort%22%3A%22Relevance%22%2C%22limit%22%3A10%2C%22offset%22%3A50%7D'\n",
    "headers = {'name': 'Asta Thit Kettel', 'from': 'ucph', 'email': 'dnp@ku.dk'}\n",
    "\n",
    "# Make the request\n",
    "response5 = requests.get(url5, headers=headers)\n",
    "\n",
    "# Check the response status\n",
    "if response5.status_code != 200:\n",
    "    print(f\"Error: Received status code {response5.status_code}\")\n",
    "else:\n",
    "    # Print raw response text\n",
    "    print(response5.text)\n",
    "    \n",
    "    # Try to parse the response as JSON\n",
    "    try:\n",
    "        results5 = response5.json()\n",
    "        result_articles5 = [{'urlPathId': article['urlPathId'], 'title': article['title']} for article in results5['data']['drdk']['results']]\n",
    "        data5 = pd.DataFrame(result_articles5)\n",
    "        print(data5)\n",
    "    except ValueError as e:\n",
    "        print(f\"Failed to parse JSON: {e}\")"
   ]
  },
  {
   "cell_type": "code",
   "execution_count": null,
   "id": "2a0240a0-60ac-4101-a1cc-06a71e359941",
   "metadata": {},
   "outputs": [],
   "source": []
  },
  {
   "cell_type": "markdown",
   "id": "fb5f5cf4-b1c2-4480-9ecc-42ca7d5d8db9",
   "metadata": {},
   "source": []
  },
  {
   "cell_type": "markdown",
   "id": "ba48b1d1-1755-48db-842a-6b7923c75305",
   "metadata": {},
   "source": [
    "## 2. Text extraction - C25"
   ]
  },
  {
   "cell_type": "code",
   "execution_count": 3,
   "id": "90cce691-0e30-4beb-b2ec-cf06f649d308",
   "metadata": {},
   "outputs": [],
   "source": [
    "data1 = pd.read_csv('DR_article_urls.csv')"
   ]
  },
  {
   "cell_type": "code",
   "execution_count": 4,
   "id": "1a01bd09-6b95-4120-8692-ccbfb28fff91",
   "metadata": {},
   "outputs": [],
   "source": [
    "all_urls = 'https://www.dr.dk' + data1['urlPathId']"
   ]
  },
  {
   "cell_type": "markdown",
   "id": "6a7f16f5-3ed5-49b2-84ef-e2bb0480b2cf",
   "metadata": {},
   "source": [
    "Der er nogen af artiklerne som er i en anden format en en \"almindelig\" artikel. Det er dem som hedder noget med /seneste/. Derfor deler jeg nu datasættet op i to da de kræver to forskellige tilgange:"
   ]
  },
  {
   "cell_type": "code",
   "execution_count": 5,
   "id": "98362081-dee1-4c9b-a950-37387c1ecf16",
   "metadata": {},
   "outputs": [],
   "source": [
    "# Separate the URLs into two lists\n",
    "urls_seneste = [url for url in all_urls \n",
    "                if '/seneste/' in url]\n",
    "\n",
    "urls_other = [url for url in all_urls \n",
    "              if '/seneste/' not in url]"
   ]
  },
  {
   "cell_type": "markdown",
   "id": "29f8b22f-d2f9-4fe9-abe7-fd71e9848a12",
   "metadata": {},
   "source": [
    "### urls_other"
   ]
  },
  {
   "cell_type": "code",
   "execution_count": 8,
   "id": "c3309766-6282-4d7b-b1d1-4957bcab7da2",
   "metadata": {},
   "outputs": [
    {
     "name": "stderr",
     "output_type": "stream",
     "text": [
      "Scraping articles: 100%|████████████████████████| 38/38 [03:57<00:00,  6.24s/it]\n"
     ]
    }
   ],
   "source": [
    "# Assuming urls_other is your list containing the URLs\n",
    "article_texts = []\n",
    "urls_processed = []\n",
    "article_dates = []  # List to store article dates\n",
    "\n",
    "# Loop through each URL in the list\n",
    "for index, url in tqdm(enumerate(urls_other), total=len(urls_other), desc=\"Scraping articles\"):\n",
    "    try:\n",
    "        # Sleep for a while to avoid overwhelming the server\n",
    "        time.sleep(5)  # Sleep for 5 seconds, adjust if needed\n",
    "\n",
    "        # Send a GET request to the URL\n",
    "        response = requests.get(url)\n",
    "        response.raise_for_status()  # Ensure the request was successful\n",
    "\n",
    "        # Parse the HTML content\n",
    "        soup = BeautifulSoup(response.text, 'html.parser')\n",
    "\n",
    "        # Extracting the content within the article__content-container div\n",
    "        article_text = \"\"\n",
    "\n",
    "        # Find the div with class 'dre-article-body'\n",
    "        content_div = soup.find('div', class_='dre-article-body')\n",
    "\n",
    "        if content_div:\n",
    "            # Iterate through all paragraphs or other elements within the content container\n",
    "            paragraphs = content_div.find_all('div', class_='dre-speech')\n",
    "            for paragraph in paragraphs:\n",
    "                article_text += paragraph.get_text(separator=\" \", strip=True) + \" \"\n",
    "\n",
    "        # Find the time tag with class 'dre-byline__date' and get the datetime attribute\n",
    "        date_tag = soup.find('time', class_='dre-byline__date')\n",
    "        article_date = None\n",
    "        if date_tag and date_tag.has_attr('datetime'):\n",
    "            article_date = date_tag['datetime']\n",
    "\n",
    "        # Append the extracted article text and date to their respective lists\n",
    "        article_texts.append(article_text.strip())\n",
    "        article_dates.append(article_date)\n",
    "        urls_processed.append(url)\n",
    "\n",
    "    except requests.RequestException as e:\n",
    "        # Append None to article_texts, article_dates, and the current URL to urls_processed for consistency\n",
    "        article_texts.append(None)\n",
    "        article_dates.append(None)\n",
    "        urls_processed.append(url)"
   ]
  },
  {
   "cell_type": "code",
   "execution_count": null,
   "id": "ef14ec4e-f886-47be-a0d4-040f6e932b05",
   "metadata": {},
   "outputs": [],
   "source": [
    "# Create a DataFrame with the URLs and corresponding article texts\n",
    "df1 = pd.DataFrame({\n",
    "    'url': urls_processed,\n",
    "    'article_text': article_texts,\n",
    "    'date': article_dates\n",
    "})\n",
    "\n",
    "# Display the DataFrame with article texts\n",
    "df1"
   ]
  },
  {
   "cell_type": "markdown",
   "id": "0254c312-d093-428f-8aed-81e30be8c452",
   "metadata": {},
   "source": [
    "### urls_seneste"
   ]
  },
  {
   "cell_type": "code",
   "execution_count": 15,
   "id": "33bacdbc-b9f2-4b8c-8045-1985dd1e4a17",
   "metadata": {},
   "outputs": [
    {
     "name": "stderr",
     "output_type": "stream",
     "text": [
      "Scraping articles: 100%|████████████████████████| 17/17 [01:58<00:00,  6.96s/it]\n"
     ]
    }
   ],
   "source": [
    "# Assuming urls_seneste is your list containing the URLs\n",
    "article_texts_sen = []\n",
    "urls_processed_sen = []\n",
    "article_dates_sen = []  # List to store article dates\n",
    "\n",
    "# Loop through each URL in the list\n",
    "for index, url in tqdm(enumerate(urls_seneste), total=len(urls_seneste), desc=\"Scraping articles\"):\n",
    "    try:\n",
    "        # Sleep for a while to avoid overwhelming the server\n",
    "        time.sleep(5)  # Sleep for 5 seconds, adjust if needed\n",
    "\n",
    "        # Send a GET request to the URL\n",
    "        response = requests.get(url)\n",
    "        response.raise_for_status()  # Ensure the request was successful\n",
    "\n",
    "        # Parse the HTML content\n",
    "        soup = BeautifulSoup(response.text, 'html.parser')\n",
    "\n",
    "        # Extracting the content within the article\n",
    "        article_text_sen = \"\"\n",
    "        article_date_sen = None\n",
    "\n",
    "        # Find the article tag with class 'hydra-latest-news-page-short-news-article'\n",
    "        article_tag = soup.find('article', class_='hydra-latest-news-page-short-news-article')\n",
    "\n",
    "        if article_tag:\n",
    "            # Find all paragraph tags within the article body\n",
    "            paragraphs_sen = article_tag.find_all('p', class_='hydra-latest-news-page-short-news-article__paragraph')\n",
    "\n",
    "            for paragraph in paragraphs_sen:\n",
    "                # Accumulate the text from each paragraph\n",
    "                article_text_sen += paragraph.get_text(separator=\" \", strip=True) + \" \"\n",
    "\n",
    "            # Extract the date/time from the meta tag with itemprop='datePublished'\n",
    "            meta_tag = article_tag.find('meta', itemprop='datePublished')\n",
    "            if meta_tag and meta_tag.has_attr('content'):\n",
    "                article_date_sen = meta_tag['content']  # Get the date from the content attribute\n",
    "\n",
    "        # Append the extracted article text and date to their respective lists if found\n",
    "        article_texts_sen.append(article_text_sen.strip())\n",
    "        article_dates_sen.append(article_date_sen)\n",
    "        urls_processed_sen.append(url)\n",
    "\n",
    "    except requests.RequestException as e:\n",
    "        # Append None to article_texts, article_dates, and the current URL to urls_processed for consistency\n",
    "        article_texts_sen.append(None)\n",
    "        article_dates_sen.append(None)\n",
    "        urls_processed_sen.append(url)\n"
   ]
  },
  {
   "cell_type": "code",
   "execution_count": null,
   "id": "62fafca3-9aa1-4aca-b6ca-37962759af11",
   "metadata": {},
   "outputs": [],
   "source": [
    "# Create a DataFrame with the URLs and corresponding article texts\n",
    "df2 = pd.DataFrame({\n",
    "    'url': urls_processed_sen,\n",
    "    'article_text': article_texts_sen,\n",
    "    'date': article_dates_sen\n",
    "})\n",
    "\n",
    "# Display the DataFrame with article texts\n",
    "df2"
   ]
  },
  {
   "cell_type": "markdown",
   "id": "ef15d197-11ff-4110-816d-0f04bc24e55b",
   "metadata": {},
   "source": [
    "### Merging urls_other and urls_seneste"
   ]
  },
  {
   "cell_type": "code",
   "execution_count": 3,
   "id": "6ac5852f-51ed-4710-8466-dc4eb5d7468a",
   "metadata": {},
   "outputs": [
    {
     "ename": "NameError",
     "evalue": "name 'df1' is not defined",
     "output_type": "error",
     "traceback": [
      "\u001b[0;31m---------------------------------------------------------------------------\u001b[0m",
      "\u001b[0;31mNameError\u001b[0m                                 Traceback (most recent call last)",
      "Cell \u001b[0;32mIn[3], line 1\u001b[0m\n\u001b[0;32m----> 1\u001b[0m df_combined \u001b[38;5;241m=\u001b[39m pd\u001b[38;5;241m.\u001b[39mconcat([df1, df2], axis\u001b[38;5;241m=\u001b[39m\u001b[38;5;241m0\u001b[39m, ignore_index\u001b[38;5;241m=\u001b[39m\u001b[38;5;28;01mTrue\u001b[39;00m)\n\u001b[1;32m      3\u001b[0m \u001b[38;5;66;03m# Saving as csv: \u001b[39;00m\n\u001b[1;32m      4\u001b[0m df_combined\u001b[38;5;241m.\u001b[39mto_csv(\u001b[38;5;124m'\u001b[39m\u001b[38;5;124mDR_C25_full_data.csv\u001b[39m\u001b[38;5;124m'\u001b[39m, index\u001b[38;5;241m=\u001b[39m\u001b[38;5;28;01mFalse\u001b[39;00m)\n",
      "\u001b[0;31mNameError\u001b[0m: name 'df1' is not defined"
     ]
    }
   ],
   "source": [
    "df_combined = pd.concat([df1, df2], axis=0, ignore_index=True)\n",
    "\n",
    "# Saving as csv: \n",
    "df_combined.to_csv('DR_C25_full_data.csv', index=False)"
   ]
  },
  {
   "cell_type": "markdown",
   "id": "a87d72d3-0bbf-4786-bdb6-60cd99fbf810",
   "metadata": {
    "jp-MarkdownHeadingCollapsed": true
   },
   "source": [
    "## 1. Getting urls - C20"
   ]
  },
  {
   "cell_type": "code",
   "execution_count": 95,
   "id": "d36dc876-8746-433a-a108-48efb5881cea",
   "metadata": {},
   "outputs": [],
   "source": [
    "url1 = f'https://www.dr.dk/tjenester/steffi/graphql?query=fragment%20ArticleResultFields%20on%20Article%20%7B%20type%3A%20__typename%20urn%20urlPathId%20title%20format%20publications%20%7B%20...on%20ArticlePublication%20%7B%20breaking%20live%20serviceChannel%20%7B%20urn%20%7D%20%7D%20%7D%20summary%20startDate%20teaserImage%20%7B%20default%20%7B%20url%20%7D%20%7D%20head%20%7B%20type%3A%20__typename%20...%20on%20MediaComponent%20%7B%20resource%20%7B%20type%3A%20__typename%20...%20on%20LiveMedia%20%7B%20urn%20mediaType%20%7D%20...%20on%20Clip%20%7B%20urn%20mediaType%20durationInMilliseconds%20%7D%20...%20on%20ClipBundle%20%7B%20items(limit%3A%201)%20%7B%20__typename%20urn%20durationInMilliseconds%20%7D%20%7D%20%7D%20%7D%20...%20on%20ImageCollectionComponent%20%7B%20images%20%7B%20default%3A%20image(key%3A%20%22default%22)%20%7B%20type%3A%20__typename%20%7D%20%7D%20%7D%20...%20on%20RatingComponent%20%7B%20rating%20%7D%20%7D%20contributions(limit%3A%201)%20%7B%20agent%20%7B%20...%20on%20Person%20%7B%20name%20%7D%20%7D%20role%20%7D%20site%20%7B%20url%20urn%20title%20presentation%20%7B%20colors%20teaserImage%20%7B%20default%3A%20image(key%3A%20%22default%22)%20%7B%20url%20%7D%20%7D%20%7D%20%7D%20%7D%20fragment%20RecipeResultFields%20on%20Recipe%20%7B%20title%20url%20image%20%7B%20url%20%7D%20startDate%20%7D%20fragment%20UnknownSearchResultFields%20on%20UnknownSearchResult%20%7B%20title%20url%20label%20image%20%7B%20url%20width%20height%20%7D%20%7D%20fragment%20MusicArtistResultFields%20on%20MusicArtist%20%7B%20url%20name%20image%20%7B%20url%20width%20height%20%7D%20%7D%20query%20SearchPageDRDK(%24query%3A%20String!%20%24limit%3A%20Int!%20%24offset%3A%20Int!%20%24sort%3A%20SearchSort)%20%7B%20drdk%3A%20search(query%3A%20%24query%20logQuery%3A%20%24query%20limit%3A%20%24limit%20offset%3A%20%24offset%20products%3A%20%5B%22drdk%22%5D%20sort%3A%20%24sort)%20%7B%20totalCount%20results%3A%20nodes%20%7B%20type%3A%20__typename%20...%20on%20Article%20%7B%20...ArticleResultFields%20%7D%20...%20on%20Recipe%20%7B%20...RecipeResultFields%20%7D%20...%20on%20MusicArtist%20%7B%20...MusicArtistResultFields%20%7D%20...%20on%20UnknownSearchResult%20%7B%20...UnknownSearchResultFields%20%7D%20%7D%20spellCheck%20%7D%20%7D&variables=%7B%22query%22%3A%22c20%22%2C%22sort%22%3A%22Relevance%22%2C%22limit%22%3A20%2C%22offset%22%3A0%7D'\n",
    "headers = {'name':'Asta Thit Kettel', 'from':'ucph','email':'dnp@ku.dk'}\n",
    "response1 = requests.get(url1, headers)\n",
    "results1 = response1.json()\n",
    "result_articles1 = [{'urlPathId': article['urlPathId'], 'title': article['title']} for article in results1['data']['drdk']['results']]\n",
    "data1 = pd.DataFrame(result_articles1)"
   ]
  },
  {
   "cell_type": "code",
   "execution_count": 97,
   "id": "e7768947-ee73-40bb-8672-1ee64cbd416e",
   "metadata": {},
   "outputs": [],
   "source": [
    "url2 = f'https://www.dr.dk/tjenester/steffi/graphql?query=fragment%20ArticleResultFields%20on%20Article%20%7B%20type%3A%20__typename%20urn%20urlPathId%20title%20format%20publications%20%7B%20...on%20ArticlePublication%20%7B%20breaking%20live%20serviceChannel%20%7B%20urn%20%7D%20%7D%20%7D%20summary%20startDate%20teaserImage%20%7B%20default%20%7B%20url%20%7D%20%7D%20head%20%7B%20type%3A%20__typename%20...%20on%20MediaComponent%20%7B%20resource%20%7B%20type%3A%20__typename%20...%20on%20LiveMedia%20%7B%20urn%20mediaType%20%7D%20...%20on%20Clip%20%7B%20urn%20mediaType%20durationInMilliseconds%20%7D%20...%20on%20ClipBundle%20%7B%20items(limit%3A%201)%20%7B%20__typename%20urn%20durationInMilliseconds%20%7D%20%7D%20%7D%20%7D%20...%20on%20ImageCollectionComponent%20%7B%20images%20%7B%20default%3A%20image(key%3A%20%22default%22)%20%7B%20type%3A%20__typename%20%7D%20%7D%20%7D%20...%20on%20RatingComponent%20%7B%20rating%20%7D%20%7D%20contributions(limit%3A%201)%20%7B%20agent%20%7B%20...%20on%20Person%20%7B%20name%20%7D%20%7D%20role%20%7D%20site%20%7B%20url%20urn%20title%20presentation%20%7B%20colors%20teaserImage%20%7B%20default%3A%20image(key%3A%20%22default%22)%20%7B%20url%20%7D%20%7D%20%7D%20%7D%20%7D%20fragment%20RecipeResultFields%20on%20Recipe%20%7B%20title%20url%20image%20%7B%20url%20%7D%20startDate%20%7D%20fragment%20UnknownSearchResultFields%20on%20UnknownSearchResult%20%7B%20title%20url%20label%20image%20%7B%20url%20width%20height%20%7D%20%7D%20fragment%20MusicArtistResultFields%20on%20MusicArtist%20%7B%20url%20name%20image%20%7B%20url%20width%20height%20%7D%20%7D%20query%20SearchPageDRDK(%24query%3A%20String!%20%24limit%3A%20Int!%20%24offset%3A%20Int!%20%24sort%3A%20SearchSort)%20%7B%20drdk%3A%20search(query%3A%20%24query%20logQuery%3A%20%24query%20limit%3A%20%24limit%20offset%3A%20%24offset%20products%3A%20%5B%22drdk%22%5D%20sort%3A%20%24sort)%20%7B%20totalCount%20results%3A%20nodes%20%7B%20type%3A%20__typename%20...%20on%20Article%20%7B%20...ArticleResultFields%20%7D%20...%20on%20Recipe%20%7B%20...RecipeResultFields%20%7D%20...%20on%20MusicArtist%20%7B%20...MusicArtistResultFields%20%7D%20...%20on%20UnknownSearchResult%20%7B%20...UnknownSearchResultFields%20%7D%20%7D%20spellCheck%20%7D%20%7D&variables=%7B%22query%22%3A%22c20%22%2C%22sort%22%3A%22Relevance%22%2C%22limit%22%3A10%2C%22offset%22%3A20%7D'\n",
    "headers = {'name':'Asta Thit Kettel', 'from':'ucph','email':'dnp@ku.dk'}\n",
    "response2 = requests.get(url2, headers)\n",
    "results2 = response2.json()\n",
    "result_articles2 = [{'urlPathId': article['urlPathId'], 'title': article['title']} for article in results2['data']['drdk']['results']]\n",
    "data2 = pd.DataFrame(result_articles2)"
   ]
  },
  {
   "cell_type": "code",
   "execution_count": 98,
   "id": "53a5aa5a-edb1-40ac-a28e-3c87de187507",
   "metadata": {},
   "outputs": [],
   "source": [
    "url3 = f'https://www.dr.dk/tjenester/steffi/graphql?query=fragment%20ArticleResultFields%20on%20Article%20%7B%20type%3A%20__typename%20urn%20urlPathId%20title%20format%20publications%20%7B%20...on%20ArticlePublication%20%7B%20breaking%20live%20serviceChannel%20%7B%20urn%20%7D%20%7D%20%7D%20summary%20startDate%20teaserImage%20%7B%20default%20%7B%20url%20%7D%20%7D%20head%20%7B%20type%3A%20__typename%20...%20on%20MediaComponent%20%7B%20resource%20%7B%20type%3A%20__typename%20...%20on%20LiveMedia%20%7B%20urn%20mediaType%20%7D%20...%20on%20Clip%20%7B%20urn%20mediaType%20durationInMilliseconds%20%7D%20...%20on%20ClipBundle%20%7B%20items(limit%3A%201)%20%7B%20__typename%20urn%20durationInMilliseconds%20%7D%20%7D%20%7D%20%7D%20...%20on%20ImageCollectionComponent%20%7B%20images%20%7B%20default%3A%20image(key%3A%20%22default%22)%20%7B%20type%3A%20__typename%20%7D%20%7D%20%7D%20...%20on%20RatingComponent%20%7B%20rating%20%7D%20%7D%20contributions(limit%3A%201)%20%7B%20agent%20%7B%20...%20on%20Person%20%7B%20name%20%7D%20%7D%20role%20%7D%20site%20%7B%20url%20urn%20title%20presentation%20%7B%20colors%20teaserImage%20%7B%20default%3A%20image(key%3A%20%22default%22)%20%7B%20url%20%7D%20%7D%20%7D%20%7D%20%7D%20fragment%20RecipeResultFields%20on%20Recipe%20%7B%20title%20url%20image%20%7B%20url%20%7D%20startDate%20%7D%20fragment%20UnknownSearchResultFields%20on%20UnknownSearchResult%20%7B%20title%20url%20label%20image%20%7B%20url%20width%20height%20%7D%20%7D%20fragment%20MusicArtistResultFields%20on%20MusicArtist%20%7B%20url%20name%20image%20%7B%20url%20width%20height%20%7D%20%7D%20query%20SearchPageDRDK(%24query%3A%20String!%20%24limit%3A%20Int!%20%24offset%3A%20Int!%20%24sort%3A%20SearchSort)%20%7B%20drdk%3A%20search(query%3A%20%24query%20logQuery%3A%20%24query%20limit%3A%20%24limit%20offset%3A%20%24offset%20products%3A%20%5B%22drdk%22%5D%20sort%3A%20%24sort)%20%7B%20totalCount%20results%3A%20nodes%20%7B%20type%3A%20__typename%20...%20on%20Article%20%7B%20...ArticleResultFields%20%7D%20...%20on%20Recipe%20%7B%20...RecipeResultFields%20%7D%20...%20on%20MusicArtist%20%7B%20...MusicArtistResultFields%20%7D%20...%20on%20UnknownSearchResult%20%7B%20...UnknownSearchResultFields%20%7D%20%7D%20spellCheck%20%7D%20%7D&variables=%7B%22query%22%3A%22c20%22%2C%22sort%22%3A%22Relevance%22%2C%22limit%22%3A10%2C%22offset%22%3A30%7D'\n",
    "headers = {'name':'Asta Thit Kettel', 'from':'ucph','email':'dnp@ku.dk'}\n",
    "response3 = requests.get(url3, headers)\n",
    "results3 = response3.json()\n",
    "result_articles3 = [{'urlPathId': article['urlPathId'], 'title': article['title']} for article in results3['data']['drdk']['results']]\n",
    "data3 = pd.DataFrame(result_articles3)"
   ]
  },
  {
   "cell_type": "code",
   "execution_count": 99,
   "id": "e3f18dd1-c5a4-44c6-b694-fabdceb56b07",
   "metadata": {},
   "outputs": [],
   "source": [
    "url4 = f'https://www.dr.dk/tjenester/steffi/graphql?query=fragment%20ArticleResultFields%20on%20Article%20%7B%20type%3A%20__typename%20urn%20urlPathId%20title%20format%20publications%20%7B%20...on%20ArticlePublication%20%7B%20breaking%20live%20serviceChannel%20%7B%20urn%20%7D%20%7D%20%7D%20summary%20startDate%20teaserImage%20%7B%20default%20%7B%20url%20%7D%20%7D%20head%20%7B%20type%3A%20__typename%20...%20on%20MediaComponent%20%7B%20resource%20%7B%20type%3A%20__typename%20...%20on%20LiveMedia%20%7B%20urn%20mediaType%20%7D%20...%20on%20Clip%20%7B%20urn%20mediaType%20durationInMilliseconds%20%7D%20...%20on%20ClipBundle%20%7B%20items(limit%3A%201)%20%7B%20__typename%20urn%20durationInMilliseconds%20%7D%20%7D%20%7D%20%7D%20...%20on%20ImageCollectionComponent%20%7B%20images%20%7B%20default%3A%20image(key%3A%20%22default%22)%20%7B%20type%3A%20__typename%20%7D%20%7D%20%7D%20...%20on%20RatingComponent%20%7B%20rating%20%7D%20%7D%20contributions(limit%3A%201)%20%7B%20agent%20%7B%20...%20on%20Person%20%7B%20name%20%7D%20%7D%20role%20%7D%20site%20%7B%20url%20urn%20title%20presentation%20%7B%20colors%20teaserImage%20%7B%20default%3A%20image(key%3A%20%22default%22)%20%7B%20url%20%7D%20%7D%20%7D%20%7D%20%7D%20fragment%20RecipeResultFields%20on%20Recipe%20%7B%20title%20url%20image%20%7B%20url%20%7D%20startDate%20%7D%20fragment%20UnknownSearchResultFields%20on%20UnknownSearchResult%20%7B%20title%20url%20label%20image%20%7B%20url%20width%20height%20%7D%20%7D%20fragment%20MusicArtistResultFields%20on%20MusicArtist%20%7B%20url%20name%20image%20%7B%20url%20width%20height%20%7D%20%7D%20query%20SearchPageDRDK(%24query%3A%20String!%20%24limit%3A%20Int!%20%24offset%3A%20Int!%20%24sort%3A%20SearchSort)%20%7B%20drdk%3A%20search(query%3A%20%24query%20logQuery%3A%20%24query%20limit%3A%20%24limit%20offset%3A%20%24offset%20products%3A%20%5B%22drdk%22%5D%20sort%3A%20%24sort)%20%7B%20totalCount%20results%3A%20nodes%20%7B%20type%3A%20__typename%20...%20on%20Article%20%7B%20...ArticleResultFields%20%7D%20...%20on%20Recipe%20%7B%20...RecipeResultFields%20%7D%20...%20on%20MusicArtist%20%7B%20...MusicArtistResultFields%20%7D%20...%20on%20UnknownSearchResult%20%7B%20...UnknownSearchResultFields%20%7D%20%7D%20spellCheck%20%7D%20%7D&variables=%7B%22query%22%3A%22c20%22%2C%22sort%22%3A%22Relevance%22%2C%22limit%22%3A10%2C%22offset%22%3A40%7D'\n",
    "headers = {'name':'Asta Thit Kettel', 'from':'ucph','email':'dnp@ku.dk'}\n",
    "response4 = requests.get(url4, headers)\n",
    "results4 = response1.json()\n",
    "result_articles4 = [{'urlPathId': article['urlPathId'], 'title': article['title']} for article in results4['data']['drdk']['results']]\n",
    "data4 = pd.DataFrame(result_articles4)"
   ]
  },
  {
   "cell_type": "code",
   "execution_count": 100,
   "id": "27eae213-a824-4ec7-8d58-c0b7be5e9894",
   "metadata": {},
   "outputs": [],
   "source": [
    "url5 = f'https://www.dr.dk/tjenester/steffi/graphql?query=fragment%20ArticleResultFields%20on%20Article%20%7B%20type%3A%20__typename%20urn%20urlPathId%20title%20format%20publications%20%7B%20...on%20ArticlePublication%20%7B%20breaking%20live%20serviceChannel%20%7B%20urn%20%7D%20%7D%20%7D%20summary%20startDate%20teaserImage%20%7B%20default%20%7B%20url%20%7D%20%7D%20head%20%7B%20type%3A%20__typename%20...%20on%20MediaComponent%20%7B%20resource%20%7B%20type%3A%20__typename%20...%20on%20LiveMedia%20%7B%20urn%20mediaType%20%7D%20...%20on%20Clip%20%7B%20urn%20mediaType%20durationInMilliseconds%20%7D%20...%20on%20ClipBundle%20%7B%20items(limit%3A%201)%20%7B%20__typename%20urn%20durationInMilliseconds%20%7D%20%7D%20%7D%20%7D%20...%20on%20ImageCollectionComponent%20%7B%20images%20%7B%20default%3A%20image(key%3A%20%22default%22)%20%7B%20type%3A%20__typename%20%7D%20%7D%20%7D%20...%20on%20RatingComponent%20%7B%20rating%20%7D%20%7D%20contributions(limit%3A%201)%20%7B%20agent%20%7B%20...%20on%20Person%20%7B%20name%20%7D%20%7D%20role%20%7D%20site%20%7B%20url%20urn%20title%20presentation%20%7B%20colors%20teaserImage%20%7B%20default%3A%20image(key%3A%20%22default%22)%20%7B%20url%20%7D%20%7D%20%7D%20%7D%20%7D%20fragment%20RecipeResultFields%20on%20Recipe%20%7B%20title%20url%20image%20%7B%20url%20%7D%20startDate%20%7D%20fragment%20UnknownSearchResultFields%20on%20UnknownSearchResult%20%7B%20title%20url%20label%20image%20%7B%20url%20width%20height%20%7D%20%7D%20fragment%20MusicArtistResultFields%20on%20MusicArtist%20%7B%20url%20name%20image%20%7B%20url%20width%20height%20%7D%20%7D%20query%20SearchPageDRDK(%24query%3A%20String!%20%24limit%3A%20Int!%20%24offset%3A%20Int!%20%24sort%3A%20SearchSort)%20%7B%20drdk%3A%20search(query%3A%20%24query%20logQuery%3A%20%24query%20limit%3A%20%24limit%20offset%3A%20%24offset%20products%3A%20%5B%22drdk%22%5D%20sort%3A%20%24sort)%20%7B%20totalCount%20results%3A%20nodes%20%7B%20type%3A%20__typename%20...%20on%20Article%20%7B%20...ArticleResultFields%20%7D%20...%20on%20Recipe%20%7B%20...RecipeResultFields%20%7D%20...%20on%20MusicArtist%20%7B%20...MusicArtistResultFields%20%7D%20...%20on%20UnknownSearchResult%20%7B%20...UnknownSearchResultFields%20%7D%20%7D%20spellCheck%20%7D%20%7D&variables=%7B%22query%22%3A%22c20%22%2C%22sort%22%3A%22Relevance%22%2C%22limit%22%3A10%2C%22offset%22%3A50%7D'\n",
    "headers = {'name':'Asta Thit Kettel', 'from':'ucph','email':'dnp@ku.dk'}\n",
    "response5 = requests.get(url5, headers)\n",
    "results5 = response1.json()\n",
    "result_articles5 = [{'urlPathId': article['urlPathId'], 'title': article['title']} for article in results5['data']['drdk']['results']]\n",
    "data5 = pd.DataFrame(result_articles1)"
   ]
  },
  {
   "cell_type": "code",
   "execution_count": 101,
   "id": "59a8d7ad-38bf-47e8-8915-964ae5dee243",
   "metadata": {},
   "outputs": [],
   "source": [
    "url6 = f'https://www.dr.dk/tjenester/steffi/graphql?query=fragment%20ArticleResultFields%20on%20Article%20%7B%20type%3A%20__typename%20urn%20urlPathId%20title%20format%20publications%20%7B%20...on%20ArticlePublication%20%7B%20breaking%20live%20serviceChannel%20%7B%20urn%20%7D%20%7D%20%7D%20summary%20startDate%20teaserImage%20%7B%20default%20%7B%20url%20%7D%20%7D%20head%20%7B%20type%3A%20__typename%20...%20on%20MediaComponent%20%7B%20resource%20%7B%20type%3A%20__typename%20...%20on%20LiveMedia%20%7B%20urn%20mediaType%20%7D%20...%20on%20Clip%20%7B%20urn%20mediaType%20durationInMilliseconds%20%7D%20...%20on%20ClipBundle%20%7B%20items(limit%3A%201)%20%7B%20__typename%20urn%20durationInMilliseconds%20%7D%20%7D%20%7D%20%7D%20...%20on%20ImageCollectionComponent%20%7B%20images%20%7B%20default%3A%20image(key%3A%20%22default%22)%20%7B%20type%3A%20__typename%20%7D%20%7D%20%7D%20...%20on%20RatingComponent%20%7B%20rating%20%7D%20%7D%20contributions(limit%3A%201)%20%7B%20agent%20%7B%20...%20on%20Person%20%7B%20name%20%7D%20%7D%20role%20%7D%20site%20%7B%20url%20urn%20title%20presentation%20%7B%20colors%20teaserImage%20%7B%20default%3A%20image(key%3A%20%22default%22)%20%7B%20url%20%7D%20%7D%20%7D%20%7D%20%7D%20fragment%20RecipeResultFields%20on%20Recipe%20%7B%20title%20url%20image%20%7B%20url%20%7D%20startDate%20%7D%20fragment%20UnknownSearchResultFields%20on%20UnknownSearchResult%20%7B%20title%20url%20label%20image%20%7B%20url%20width%20height%20%7D%20%7D%20fragment%20MusicArtistResultFields%20on%20MusicArtist%20%7B%20url%20name%20image%20%7B%20url%20width%20height%20%7D%20%7D%20query%20SearchPageDRDK(%24query%3A%20String!%20%24limit%3A%20Int!%20%24offset%3A%20Int!%20%24sort%3A%20SearchSort)%20%7B%20drdk%3A%20search(query%3A%20%24query%20logQuery%3A%20%24query%20limit%3A%20%24limit%20offset%3A%20%24offset%20products%3A%20%5B%22drdk%22%5D%20sort%3A%20%24sort)%20%7B%20totalCount%20results%3A%20nodes%20%7B%20type%3A%20__typename%20...%20on%20Article%20%7B%20...ArticleResultFields%20%7D%20...%20on%20Recipe%20%7B%20...RecipeResultFields%20%7D%20...%20on%20MusicArtist%20%7B%20...MusicArtistResultFields%20%7D%20...%20on%20UnknownSearchResult%20%7B%20...UnknownSearchResultFields%20%7D%20%7D%20spellCheck%20%7D%20%7D&variables=%7B%22query%22%3A%22c20%22%2C%22sort%22%3A%22Relevance%22%2C%22limit%22%3A10%2C%22offset%22%3A60%7D'\n",
    "headers = {'name':'Asta Thit Kettel', 'from':'ucph','email':'dnp@ku.dk'}\n",
    "response6 = requests.get(url6, headers)\n",
    "results6 = response1.json()\n",
    "result_articles6 = [{'urlPathId': article['urlPathId'], 'title': article['title']} for article in results6['data']['drdk']['results']]\n",
    "data6 = pd.DataFrame(result_articles6)"
   ]
  },
  {
   "cell_type": "code",
   "execution_count": 102,
   "id": "efc85936-d1a8-454d-b996-d7553c827b63",
   "metadata": {},
   "outputs": [],
   "source": [
    "url7 = f'https://www.dr.dk/tjenester/steffi/graphql?query=fragment%20ArticleResultFields%20on%20Article%20%7B%20type%3A%20__typename%20urn%20urlPathId%20title%20format%20publications%20%7B%20...on%20ArticlePublication%20%7B%20breaking%20live%20serviceChannel%20%7B%20urn%20%7D%20%7D%20%7D%20summary%20startDate%20teaserImage%20%7B%20default%20%7B%20url%20%7D%20%7D%20head%20%7B%20type%3A%20__typename%20...%20on%20MediaComponent%20%7B%20resource%20%7B%20type%3A%20__typename%20...%20on%20LiveMedia%20%7B%20urn%20mediaType%20%7D%20...%20on%20Clip%20%7B%20urn%20mediaType%20durationInMilliseconds%20%7D%20...%20on%20ClipBundle%20%7B%20items(limit%3A%201)%20%7B%20__typename%20urn%20durationInMilliseconds%20%7D%20%7D%20%7D%20%7D%20...%20on%20ImageCollectionComponent%20%7B%20images%20%7B%20default%3A%20image(key%3A%20%22default%22)%20%7B%20type%3A%20__typename%20%7D%20%7D%20%7D%20...%20on%20RatingComponent%20%7B%20rating%20%7D%20%7D%20contributions(limit%3A%201)%20%7B%20agent%20%7B%20...%20on%20Person%20%7B%20name%20%7D%20%7D%20role%20%7D%20site%20%7B%20url%20urn%20title%20presentation%20%7B%20colors%20teaserImage%20%7B%20default%3A%20image(key%3A%20%22default%22)%20%7B%20url%20%7D%20%7D%20%7D%20%7D%20%7D%20fragment%20RecipeResultFields%20on%20Recipe%20%7B%20title%20url%20image%20%7B%20url%20%7D%20startDate%20%7D%20fragment%20UnknownSearchResultFields%20on%20UnknownSearchResult%20%7B%20title%20url%20label%20image%20%7B%20url%20width%20height%20%7D%20%7D%20fragment%20MusicArtistResultFields%20on%20MusicArtist%20%7B%20url%20name%20image%20%7B%20url%20width%20height%20%7D%20%7D%20query%20SearchPageDRDK(%24query%3A%20String!%20%24limit%3A%20Int!%20%24offset%3A%20Int!%20%24sort%3A%20SearchSort)%20%7B%20drdk%3A%20search(query%3A%20%24query%20logQuery%3A%20%24query%20limit%3A%20%24limit%20offset%3A%20%24offset%20products%3A%20%5B%22drdk%22%5D%20sort%3A%20%24sort)%20%7B%20totalCount%20results%3A%20nodes%20%7B%20type%3A%20__typename%20...%20on%20Article%20%7B%20...ArticleResultFields%20%7D%20...%20on%20Recipe%20%7B%20...RecipeResultFields%20%7D%20...%20on%20MusicArtist%20%7B%20...MusicArtistResultFields%20%7D%20...%20on%20UnknownSearchResult%20%7B%20...UnknownSearchResultFields%20%7D%20%7D%20spellCheck%20%7D%20%7D&variables=%7B%22query%22%3A%22c20%22%2C%22sort%22%3A%22Relevance%22%2C%22limit%22%3A10%2C%22offset%22%3A70%7D'\n",
    "headers = {'name':'Asta Thit Kettel', 'from':'ucph','email':'dnp@ku.dk'}\n",
    "response7 = requests.get(url7, headers)\n",
    "results7 = response7.json()\n",
    "result_articles7 = [{'urlPathId': article['urlPathId'], 'title': article['title']} for article in results7['data']['drdk']['results']]\n",
    "data7 = pd.DataFrame(result_articles7)"
   ]
  },
  {
   "cell_type": "code",
   "execution_count": 103,
   "id": "af7726e2-2299-40ce-a32d-e2aaf3be6967",
   "metadata": {},
   "outputs": [],
   "source": [
    "url8 = f'https://www.dr.dk/tjenester/steffi/graphql?query=fragment%20ArticleResultFields%20on%20Article%20%7B%20type%3A%20__typename%20urn%20urlPathId%20title%20format%20publications%20%7B%20...on%20ArticlePublication%20%7B%20breaking%20live%20serviceChannel%20%7B%20urn%20%7D%20%7D%20%7D%20summary%20startDate%20teaserImage%20%7B%20default%20%7B%20url%20%7D%20%7D%20head%20%7B%20type%3A%20__typename%20...%20on%20MediaComponent%20%7B%20resource%20%7B%20type%3A%20__typename%20...%20on%20LiveMedia%20%7B%20urn%20mediaType%20%7D%20...%20on%20Clip%20%7B%20urn%20mediaType%20durationInMilliseconds%20%7D%20...%20on%20ClipBundle%20%7B%20items(limit%3A%201)%20%7B%20__typename%20urn%20durationInMilliseconds%20%7D%20%7D%20%7D%20%7D%20...%20on%20ImageCollectionComponent%20%7B%20images%20%7B%20default%3A%20image(key%3A%20%22default%22)%20%7B%20type%3A%20__typename%20%7D%20%7D%20%7D%20...%20on%20RatingComponent%20%7B%20rating%20%7D%20%7D%20contributions(limit%3A%201)%20%7B%20agent%20%7B%20...%20on%20Person%20%7B%20name%20%7D%20%7D%20role%20%7D%20site%20%7B%20url%20urn%20title%20presentation%20%7B%20colors%20teaserImage%20%7B%20default%3A%20image(key%3A%20%22default%22)%20%7B%20url%20%7D%20%7D%20%7D%20%7D%20%7D%20fragment%20RecipeResultFields%20on%20Recipe%20%7B%20title%20url%20image%20%7B%20url%20%7D%20startDate%20%7D%20fragment%20UnknownSearchResultFields%20on%20UnknownSearchResult%20%7B%20title%20url%20label%20image%20%7B%20url%20width%20height%20%7D%20%7D%20fragment%20MusicArtistResultFields%20on%20MusicArtist%20%7B%20url%20name%20image%20%7B%20url%20width%20height%20%7D%20%7D%20query%20SearchPageDRDK(%24query%3A%20String!%20%24limit%3A%20Int!%20%24offset%3A%20Int!%20%24sort%3A%20SearchSort)%20%7B%20drdk%3A%20search(query%3A%20%24query%20logQuery%3A%20%24query%20limit%3A%20%24limit%20offset%3A%20%24offset%20products%3A%20%5B%22drdk%22%5D%20sort%3A%20%24sort)%20%7B%20totalCount%20results%3A%20nodes%20%7B%20type%3A%20__typename%20...%20on%20Article%20%7B%20...ArticleResultFields%20%7D%20...%20on%20Recipe%20%7B%20...RecipeResultFields%20%7D%20...%20on%20MusicArtist%20%7B%20...MusicArtistResultFields%20%7D%20...%20on%20UnknownSearchResult%20%7B%20...UnknownSearchResultFields%20%7D%20%7D%20spellCheck%20%7D%20%7D&variables=%7B%22query%22%3A%22c20%22%2C%22sort%22%3A%22Relevance%22%2C%22limit%22%3A10%2C%22offset%22%3A80%7D'\n",
    "headers = {'name':'Asta Thit Kettel', 'from':'ucph','email':'dnp@ku.dk'}\n",
    "response8 = requests.get(url8, headers)\n",
    "results8 = response8.json()\n",
    "result_articles8 = [{'urlPathId': article['urlPathId'], 'title': article['title']} for article in results8['data']['drdk']['results']]\n",
    "data8 = pd.DataFrame(result_articles8)"
   ]
  },
  {
   "cell_type": "code",
   "execution_count": 104,
   "id": "4a78b1e8-2129-4329-8f73-5e731397c2f3",
   "metadata": {},
   "outputs": [],
   "source": [
    "url9 = f'https://www.dr.dk/tjenester/steffi/graphql?query=fragment%20ArticleResultFields%20on%20Article%20%7B%20type%3A%20__typename%20urn%20urlPathId%20title%20format%20publications%20%7B%20...on%20ArticlePublication%20%7B%20breaking%20live%20serviceChannel%20%7B%20urn%20%7D%20%7D%20%7D%20summary%20startDate%20teaserImage%20%7B%20default%20%7B%20url%20%7D%20%7D%20head%20%7B%20type%3A%20__typename%20...%20on%20MediaComponent%20%7B%20resource%20%7B%20type%3A%20__typename%20...%20on%20LiveMedia%20%7B%20urn%20mediaType%20%7D%20...%20on%20Clip%20%7B%20urn%20mediaType%20durationInMilliseconds%20%7D%20...%20on%20ClipBundle%20%7B%20items(limit%3A%201)%20%7B%20__typename%20urn%20durationInMilliseconds%20%7D%20%7D%20%7D%20%7D%20...%20on%20ImageCollectionComponent%20%7B%20images%20%7B%20default%3A%20image(key%3A%20%22default%22)%20%7B%20type%3A%20__typename%20%7D%20%7D%20%7D%20...%20on%20RatingComponent%20%7B%20rating%20%7D%20%7D%20contributions(limit%3A%201)%20%7B%20agent%20%7B%20...%20on%20Person%20%7B%20name%20%7D%20%7D%20role%20%7D%20site%20%7B%20url%20urn%20title%20presentation%20%7B%20colors%20teaserImage%20%7B%20default%3A%20image(key%3A%20%22default%22)%20%7B%20url%20%7D%20%7D%20%7D%20%7D%20%7D%20fragment%20RecipeResultFields%20on%20Recipe%20%7B%20title%20url%20image%20%7B%20url%20%7D%20startDate%20%7D%20fragment%20UnknownSearchResultFields%20on%20UnknownSearchResult%20%7B%20title%20url%20label%20image%20%7B%20url%20width%20height%20%7D%20%7D%20fragment%20MusicArtistResultFields%20on%20MusicArtist%20%7B%20url%20name%20image%20%7B%20url%20width%20height%20%7D%20%7D%20query%20SearchPageDRDK(%24query%3A%20String!%20%24limit%3A%20Int!%20%24offset%3A%20Int!%20%24sort%3A%20SearchSort)%20%7B%20drdk%3A%20search(query%3A%20%24query%20logQuery%3A%20%24query%20limit%3A%20%24limit%20offset%3A%20%24offset%20products%3A%20%5B%22drdk%22%5D%20sort%3A%20%24sort)%20%7B%20totalCount%20results%3A%20nodes%20%7B%20type%3A%20__typename%20...%20on%20Article%20%7B%20...ArticleResultFields%20%7D%20...%20on%20Recipe%20%7B%20...RecipeResultFields%20%7D%20...%20on%20MusicArtist%20%7B%20...MusicArtistResultFields%20%7D%20...%20on%20UnknownSearchResult%20%7B%20...UnknownSearchResultFields%20%7D%20%7D%20spellCheck%20%7D%20%7D&variables=%7B%22query%22%3A%22c20%22%2C%22sort%22%3A%22Relevance%22%2C%22limit%22%3A10%2C%22offset%22%3A90%7D'\n",
    "headers = {'name':'Asta Thit Kettel', 'from':'ucph','email':'dnp@ku.dk'}\n",
    "response9 = requests.get(url9, headers)\n",
    "results9 = response9.json()\n",
    "result_articles9 = [{'urlPathId': article['urlPathId'], 'title': article['title']} for article in results9['data']['drdk']['results']]\n",
    "data9 = pd.DataFrame(result_articles9)"
   ]
  },
  {
   "cell_type": "code",
   "execution_count": 105,
   "id": "30965ba8-0092-440b-97e6-8672cd551933",
   "metadata": {},
   "outputs": [],
   "source": [
    "url10 = f'https://www.dr.dk/tjenester/steffi/graphql?query=fragment%20ArticleResultFields%20on%20Article%20%7B%20type%3A%20__typename%20urn%20urlPathId%20title%20format%20publications%20%7B%20...on%20ArticlePublication%20%7B%20breaking%20live%20serviceChannel%20%7B%20urn%20%7D%20%7D%20%7D%20summary%20startDate%20teaserImage%20%7B%20default%20%7B%20url%20%7D%20%7D%20head%20%7B%20type%3A%20__typename%20...%20on%20MediaComponent%20%7B%20resource%20%7B%20type%3A%20__typename%20...%20on%20LiveMedia%20%7B%20urn%20mediaType%20%7D%20...%20on%20Clip%20%7B%20urn%20mediaType%20durationInMilliseconds%20%7D%20...%20on%20ClipBundle%20%7B%20items(limit%3A%201)%20%7B%20__typename%20urn%20durationInMilliseconds%20%7D%20%7D%20%7D%20%7D%20...%20on%20ImageCollectionComponent%20%7B%20images%20%7B%20default%3A%20image(key%3A%20%22default%22)%20%7B%20type%3A%20__typename%20%7D%20%7D%20%7D%20...%20on%20RatingComponent%20%7B%20rating%20%7D%20%7D%20contributions(limit%3A%201)%20%7B%20agent%20%7B%20...%20on%20Person%20%7B%20name%20%7D%20%7D%20role%20%7D%20site%20%7B%20url%20urn%20title%20presentation%20%7B%20colors%20teaserImage%20%7B%20default%3A%20image(key%3A%20%22default%22)%20%7B%20url%20%7D%20%7D%20%7D%20%7D%20%7D%20fragment%20RecipeResultFields%20on%20Recipe%20%7B%20title%20url%20image%20%7B%20url%20%7D%20startDate%20%7D%20fragment%20UnknownSearchResultFields%20on%20UnknownSearchResult%20%7B%20title%20url%20label%20image%20%7B%20url%20width%20height%20%7D%20%7D%20fragment%20MusicArtistResultFields%20on%20MusicArtist%20%7B%20url%20name%20image%20%7B%20url%20width%20height%20%7D%20%7D%20query%20SearchPageDRDK(%24query%3A%20String!%20%24limit%3A%20Int!%20%24offset%3A%20Int!%20%24sort%3A%20SearchSort)%20%7B%20drdk%3A%20search(query%3A%20%24query%20logQuery%3A%20%24query%20limit%3A%20%24limit%20offset%3A%20%24offset%20products%3A%20%5B%22drdk%22%5D%20sort%3A%20%24sort)%20%7B%20totalCount%20results%3A%20nodes%20%7B%20type%3A%20__typename%20...%20on%20Article%20%7B%20...ArticleResultFields%20%7D%20...%20on%20Recipe%20%7B%20...RecipeResultFields%20%7D%20...%20on%20MusicArtist%20%7B%20...MusicArtistResultFields%20%7D%20...%20on%20UnknownSearchResult%20%7B%20...UnknownSearchResultFields%20%7D%20%7D%20spellCheck%20%7D%20%7D&variables=%7B%22query%22%3A%22c20%22%2C%22sort%22%3A%22Relevance%22%2C%22limit%22%3A10%2C%22offset%22%3A100%7D'\n",
    "headers = {'name':'Asta Thit Kettel', 'from':'ucph','email':'dnp@ku.dk'}\n",
    "response10 = requests.get(url10, headers)\n",
    "results10 = response10.json()\n",
    "result_articles10 = [{'urlPathId': article['urlPathId'], 'title': article['title']} for article in results10['data']['drdk']['results']]\n",
    "data10 = pd.DataFrame(result_articles10)"
   ]
  },
  {
   "cell_type": "code",
   "execution_count": 106,
   "id": "d907a428-37b7-4881-98fd-4318aca014e9",
   "metadata": {},
   "outputs": [],
   "source": [
    "url11 = f'https://www.dr.dk/tjenester/steffi/graphql?query=fragment%20ArticleResultFields%20on%20Article%20%7B%20type%3A%20__typename%20urn%20urlPathId%20title%20format%20publications%20%7B%20...on%20ArticlePublication%20%7B%20breaking%20live%20serviceChannel%20%7B%20urn%20%7D%20%7D%20%7D%20summary%20startDate%20teaserImage%20%7B%20default%20%7B%20url%20%7D%20%7D%20head%20%7B%20type%3A%20__typename%20...%20on%20MediaComponent%20%7B%20resource%20%7B%20type%3A%20__typename%20...%20on%20LiveMedia%20%7B%20urn%20mediaType%20%7D%20...%20on%20Clip%20%7B%20urn%20mediaType%20durationInMilliseconds%20%7D%20...%20on%20ClipBundle%20%7B%20items(limit%3A%201)%20%7B%20__typename%20urn%20durationInMilliseconds%20%7D%20%7D%20%7D%20%7D%20...%20on%20ImageCollectionComponent%20%7B%20images%20%7B%20default%3A%20image(key%3A%20%22default%22)%20%7B%20type%3A%20__typename%20%7D%20%7D%20%7D%20...%20on%20RatingComponent%20%7B%20rating%20%7D%20%7D%20contributions(limit%3A%201)%20%7B%20agent%20%7B%20...%20on%20Person%20%7B%20name%20%7D%20%7D%20role%20%7D%20site%20%7B%20url%20urn%20title%20presentation%20%7B%20colors%20teaserImage%20%7B%20default%3A%20image(key%3A%20%22default%22)%20%7B%20url%20%7D%20%7D%20%7D%20%7D%20%7D%20fragment%20RecipeResultFields%20on%20Recipe%20%7B%20title%20url%20image%20%7B%20url%20%7D%20startDate%20%7D%20fragment%20UnknownSearchResultFields%20on%20UnknownSearchResult%20%7B%20title%20url%20label%20image%20%7B%20url%20width%20height%20%7D%20%7D%20fragment%20MusicArtistResultFields%20on%20MusicArtist%20%7B%20url%20name%20image%20%7B%20url%20width%20height%20%7D%20%7D%20query%20SearchPageDRDK(%24query%3A%20String!%20%24limit%3A%20Int!%20%24offset%3A%20Int!%20%24sort%3A%20SearchSort)%20%7B%20drdk%3A%20search(query%3A%20%24query%20logQuery%3A%20%24query%20limit%3A%20%24limit%20offset%3A%20%24offset%20products%3A%20%5B%22drdk%22%5D%20sort%3A%20%24sort)%20%7B%20totalCount%20results%3A%20nodes%20%7B%20type%3A%20__typename%20...%20on%20Article%20%7B%20...ArticleResultFields%20%7D%20...%20on%20Recipe%20%7B%20...RecipeResultFields%20%7D%20...%20on%20MusicArtist%20%7B%20...MusicArtistResultFields%20%7D%20...%20on%20UnknownSearchResult%20%7B%20...UnknownSearchResultFields%20%7D%20%7D%20spellCheck%20%7D%20%7D&variables=%7B%22query%22%3A%22c20%22%2C%22sort%22%3A%22Relevance%22%2C%22limit%22%3A10%2C%22offset%22%3A110%7D'\n",
    "headers = {'name':'Asta Thit Kettel', 'from':'ucph','email':'dnp@ku.dk'}\n",
    "response11 = requests.get(url11, headers)\n",
    "results11 = response11.json()\n",
    "result_articles11 = [{'urlPathId': article['urlPathId'], 'title': article['title']} for article in results11['data']['drdk']['results']]\n",
    "data11 = pd.DataFrame(result_articles11)"
   ]
  },
  {
   "cell_type": "code",
   "execution_count": 107,
   "id": "06a58368-60f9-4718-9662-6976411eef45",
   "metadata": {},
   "outputs": [],
   "source": [
    "url12 = f'https://www.dr.dk/tjenester/steffi/graphql?query=fragment%20ArticleResultFields%20on%20Article%20%7B%20type%3A%20__typename%20urn%20urlPathId%20title%20format%20publications%20%7B%20...on%20ArticlePublication%20%7B%20breaking%20live%20serviceChannel%20%7B%20urn%20%7D%20%7D%20%7D%20summary%20startDate%20teaserImage%20%7B%20default%20%7B%20url%20%7D%20%7D%20head%20%7B%20type%3A%20__typename%20...%20on%20MediaComponent%20%7B%20resource%20%7B%20type%3A%20__typename%20...%20on%20LiveMedia%20%7B%20urn%20mediaType%20%7D%20...%20on%20Clip%20%7B%20urn%20mediaType%20durationInMilliseconds%20%7D%20...%20on%20ClipBundle%20%7B%20items(limit%3A%201)%20%7B%20__typename%20urn%20durationInMilliseconds%20%7D%20%7D%20%7D%20%7D%20...%20on%20ImageCollectionComponent%20%7B%20images%20%7B%20default%3A%20image(key%3A%20%22default%22)%20%7B%20type%3A%20__typename%20%7D%20%7D%20%7D%20...%20on%20RatingComponent%20%7B%20rating%20%7D%20%7D%20contributions(limit%3A%201)%20%7B%20agent%20%7B%20...%20on%20Person%20%7B%20name%20%7D%20%7D%20role%20%7D%20site%20%7B%20url%20urn%20title%20presentation%20%7B%20colors%20teaserImage%20%7B%20default%3A%20image(key%3A%20%22default%22)%20%7B%20url%20%7D%20%7D%20%7D%20%7D%20%7D%20fragment%20RecipeResultFields%20on%20Recipe%20%7B%20title%20url%20image%20%7B%20url%20%7D%20startDate%20%7D%20fragment%20UnknownSearchResultFields%20on%20UnknownSearchResult%20%7B%20title%20url%20label%20image%20%7B%20url%20width%20height%20%7D%20%7D%20fragment%20MusicArtistResultFields%20on%20MusicArtist%20%7B%20url%20name%20image%20%7B%20url%20width%20height%20%7D%20%7D%20query%20SearchPageDRDK(%24query%3A%20String!%20%24limit%3A%20Int!%20%24offset%3A%20Int!%20%24sort%3A%20SearchSort)%20%7B%20drdk%3A%20search(query%3A%20%24query%20logQuery%3A%20%24query%20limit%3A%20%24limit%20offset%3A%20%24offset%20products%3A%20%5B%22drdk%22%5D%20sort%3A%20%24sort)%20%7B%20totalCount%20results%3A%20nodes%20%7B%20type%3A%20__typename%20...%20on%20Article%20%7B%20...ArticleResultFields%20%7D%20...%20on%20Recipe%20%7B%20...RecipeResultFields%20%7D%20...%20on%20MusicArtist%20%7B%20...MusicArtistResultFields%20%7D%20...%20on%20UnknownSearchResult%20%7B%20...UnknownSearchResultFields%20%7D%20%7D%20spellCheck%20%7D%20%7D&variables=%7B%22query%22%3A%22c20%22%2C%22sort%22%3A%22Relevance%22%2C%22limit%22%3A10%2C%22offset%22%3A120%7D'\n",
    "headers = {'name':'Asta Thit Kettel', 'from':'ucph','email':'dnp@ku.dk'}\n",
    "response12 = requests.get(url12, headers)\n",
    "results12 = response12.json()\n",
    "result_articles12 = [{'urlPathId': article['urlPathId'], 'title': article['title']} for article in results12['data']['drdk']['results']]\n",
    "data12 = pd.DataFrame(result_articles12)"
   ]
  },
  {
   "cell_type": "code",
   "execution_count": 108,
   "id": "32c2ba90-d960-4f05-a645-e67bc5b77272",
   "metadata": {},
   "outputs": [],
   "source": [
    "url13 = f'https://www.dr.dk/tjenester/steffi/graphql?query=fragment%20ArticleResultFields%20on%20Article%20%7B%20type%3A%20__typename%20urn%20urlPathId%20title%20format%20publications%20%7B%20...on%20ArticlePublication%20%7B%20breaking%20live%20serviceChannel%20%7B%20urn%20%7D%20%7D%20%7D%20summary%20startDate%20teaserImage%20%7B%20default%20%7B%20url%20%7D%20%7D%20head%20%7B%20type%3A%20__typename%20...%20on%20MediaComponent%20%7B%20resource%20%7B%20type%3A%20__typename%20...%20on%20LiveMedia%20%7B%20urn%20mediaType%20%7D%20...%20on%20Clip%20%7B%20urn%20mediaType%20durationInMilliseconds%20%7D%20...%20on%20ClipBundle%20%7B%20items(limit%3A%201)%20%7B%20__typename%20urn%20durationInMilliseconds%20%7D%20%7D%20%7D%20%7D%20...%20on%20ImageCollectionComponent%20%7B%20images%20%7B%20default%3A%20image(key%3A%20%22default%22)%20%7B%20type%3A%20__typename%20%7D%20%7D%20%7D%20...%20on%20RatingComponent%20%7B%20rating%20%7D%20%7D%20contributions(limit%3A%201)%20%7B%20agent%20%7B%20...%20on%20Person%20%7B%20name%20%7D%20%7D%20role%20%7D%20site%20%7B%20url%20urn%20title%20presentation%20%7B%20colors%20teaserImage%20%7B%20default%3A%20image(key%3A%20%22default%22)%20%7B%20url%20%7D%20%7D%20%7D%20%7D%20%7D%20fragment%20RecipeResultFields%20on%20Recipe%20%7B%20title%20url%20image%20%7B%20url%20%7D%20startDate%20%7D%20fragment%20UnknownSearchResultFields%20on%20UnknownSearchResult%20%7B%20title%20url%20label%20image%20%7B%20url%20width%20height%20%7D%20%7D%20fragment%20MusicArtistResultFields%20on%20MusicArtist%20%7B%20url%20name%20image%20%7B%20url%20width%20height%20%7D%20%7D%20query%20SearchPageDRDK(%24query%3A%20String!%20%24limit%3A%20Int!%20%24offset%3A%20Int!%20%24sort%3A%20SearchSort)%20%7B%20drdk%3A%20search(query%3A%20%24query%20logQuery%3A%20%24query%20limit%3A%20%24limit%20offset%3A%20%24offset%20products%3A%20%5B%22drdk%22%5D%20sort%3A%20%24sort)%20%7B%20totalCount%20results%3A%20nodes%20%7B%20type%3A%20__typename%20...%20on%20Article%20%7B%20...ArticleResultFields%20%7D%20...%20on%20Recipe%20%7B%20...RecipeResultFields%20%7D%20...%20on%20MusicArtist%20%7B%20...MusicArtistResultFields%20%7D%20...%20on%20UnknownSearchResult%20%7B%20...UnknownSearchResultFields%20%7D%20%7D%20spellCheck%20%7D%20%7D&variables=%7B%22query%22%3A%22c20%22%2C%22sort%22%3A%22Relevance%22%2C%22limit%22%3A10%2C%22offset%22%3A130%7D'\n",
    "headers = {'name':'Asta Thit Kettel', 'from':'ucph','email':'dnp@ku.dk'}\n",
    "response13 = requests.get(url13, headers)\n",
    "results13 = response13.json()\n",
    "result_articles13 = [{'urlPathId': article['urlPathId'], 'title': article['title']} for article in results13['data']['drdk']['results']]\n",
    "data13 = pd.DataFrame(result_articles13)"
   ]
  },
  {
   "cell_type": "code",
   "execution_count": 111,
   "id": "5de988ab-4652-4be8-a368-13307d1f182f",
   "metadata": {},
   "outputs": [],
   "source": [
    "url14 = f'https://www.dr.dk/tjenester/steffi/graphql?query=fragment%20ArticleResultFields%20on%20Article%20%7B%20type%3A%20__typename%20urn%20urlPathId%20title%20format%20publications%20%7B%20...on%20ArticlePublication%20%7B%20breaking%20live%20serviceChannel%20%7B%20urn%20%7D%20%7D%20%7D%20summary%20startDate%20teaserImage%20%7B%20default%20%7B%20url%20%7D%20%7D%20head%20%7B%20type%3A%20__typename%20...%20on%20MediaComponent%20%7B%20resource%20%7B%20type%3A%20__typename%20...%20on%20LiveMedia%20%7B%20urn%20mediaType%20%7D%20...%20on%20Clip%20%7B%20urn%20mediaType%20durationInMilliseconds%20%7D%20...%20on%20ClipBundle%20%7B%20items(limit%3A%201)%20%7B%20__typename%20urn%20durationInMilliseconds%20%7D%20%7D%20%7D%20%7D%20...%20on%20ImageCollectionComponent%20%7B%20images%20%7B%20default%3A%20image(key%3A%20%22default%22)%20%7B%20type%3A%20__typename%20%7D%20%7D%20%7D%20...%20on%20RatingComponent%20%7B%20rating%20%7D%20%7D%20contributions(limit%3A%201)%20%7B%20agent%20%7B%20...%20on%20Person%20%7B%20name%20%7D%20%7D%20role%20%7D%20site%20%7B%20url%20urn%20title%20presentation%20%7B%20colors%20teaserImage%20%7B%20default%3A%20image(key%3A%20%22default%22)%20%7B%20url%20%7D%20%7D%20%7D%20%7D%20%7D%20fragment%20RecipeResultFields%20on%20Recipe%20%7B%20title%20url%20image%20%7B%20url%20%7D%20startDate%20%7D%20fragment%20UnknownSearchResultFields%20on%20UnknownSearchResult%20%7B%20title%20url%20label%20image%20%7B%20url%20width%20height%20%7D%20%7D%20fragment%20MusicArtistResultFields%20on%20MusicArtist%20%7B%20url%20name%20image%20%7B%20url%20width%20height%20%7D%20%7D%20query%20SearchPageDRDK(%24query%3A%20String!%20%24limit%3A%20Int!%20%24offset%3A%20Int!%20%24sort%3A%20SearchSort)%20%7B%20drdk%3A%20search(query%3A%20%24query%20logQuery%3A%20%24query%20limit%3A%20%24limit%20offset%3A%20%24offset%20products%3A%20%5B%22drdk%22%5D%20sort%3A%20%24sort)%20%7B%20totalCount%20results%3A%20nodes%20%7B%20type%3A%20__typename%20...%20on%20Article%20%7B%20...ArticleResultFields%20%7D%20...%20on%20Recipe%20%7B%20...RecipeResultFields%20%7D%20...%20on%20MusicArtist%20%7B%20...MusicArtistResultFields%20%7D%20...%20on%20UnknownSearchResult%20%7B%20...UnknownSearchResultFields%20%7D%20%7D%20spellCheck%20%7D%20%7D&variables=%7B%22query%22%3A%22c20%22%2C%22sort%22%3A%22Relevance%22%2C%22limit%22%3A10%2C%22offset%22%3A140%7D'\n",
    "headers = {'name':'Asta Thit Kettel', 'from':'ucph','email':'dnp@ku.dk'}\n",
    "response14 = requests.get(url14, headers)\n",
    "results14 = response14.json()\n",
    "result_articles14 = [{'urlPathId': article['urlPathId'], 'title': article['title']} for article in results14['data']['drdk']['results']]\n",
    "data14 = pd.DataFrame(result_articles14)"
   ]
  },
  {
   "cell_type": "code",
   "execution_count": 112,
   "id": "47dd6d6a-f511-4b10-bc20-036eb04169b2",
   "metadata": {},
   "outputs": [],
   "source": [
    "url15 = f'https://www.dr.dk/tjenester/steffi/graphql?query=fragment%20ArticleResultFields%20on%20Article%20%7B%20type%3A%20__typename%20urn%20urlPathId%20title%20format%20publications%20%7B%20...on%20ArticlePublication%20%7B%20breaking%20live%20serviceChannel%20%7B%20urn%20%7D%20%7D%20%7D%20summary%20startDate%20teaserImage%20%7B%20default%20%7B%20url%20%7D%20%7D%20head%20%7B%20type%3A%20__typename%20...%20on%20MediaComponent%20%7B%20resource%20%7B%20type%3A%20__typename%20...%20on%20LiveMedia%20%7B%20urn%20mediaType%20%7D%20...%20on%20Clip%20%7B%20urn%20mediaType%20durationInMilliseconds%20%7D%20...%20on%20ClipBundle%20%7B%20items(limit%3A%201)%20%7B%20__typename%20urn%20durationInMilliseconds%20%7D%20%7D%20%7D%20%7D%20...%20on%20ImageCollectionComponent%20%7B%20images%20%7B%20default%3A%20image(key%3A%20%22default%22)%20%7B%20type%3A%20__typename%20%7D%20%7D%20%7D%20...%20on%20RatingComponent%20%7B%20rating%20%7D%20%7D%20contributions(limit%3A%201)%20%7B%20agent%20%7B%20...%20on%20Person%20%7B%20name%20%7D%20%7D%20role%20%7D%20site%20%7B%20url%20urn%20title%20presentation%20%7B%20colors%20teaserImage%20%7B%20default%3A%20image(key%3A%20%22default%22)%20%7B%20url%20%7D%20%7D%20%7D%20%7D%20%7D%20fragment%20RecipeResultFields%20on%20Recipe%20%7B%20title%20url%20image%20%7B%20url%20%7D%20startDate%20%7D%20fragment%20UnknownSearchResultFields%20on%20UnknownSearchResult%20%7B%20title%20url%20label%20image%20%7B%20url%20width%20height%20%7D%20%7D%20fragment%20MusicArtistResultFields%20on%20MusicArtist%20%7B%20url%20name%20image%20%7B%20url%20width%20height%20%7D%20%7D%20query%20SearchPageDRDK(%24query%3A%20String!%20%24limit%3A%20Int!%20%24offset%3A%20Int!%20%24sort%3A%20SearchSort)%20%7B%20drdk%3A%20search(query%3A%20%24query%20logQuery%3A%20%24query%20limit%3A%20%24limit%20offset%3A%20%24offset%20products%3A%20%5B%22drdk%22%5D%20sort%3A%20%24sort)%20%7B%20totalCount%20results%3A%20nodes%20%7B%20type%3A%20__typename%20...%20on%20Article%20%7B%20...ArticleResultFields%20%7D%20...%20on%20Recipe%20%7B%20...RecipeResultFields%20%7D%20...%20on%20MusicArtist%20%7B%20...MusicArtistResultFields%20%7D%20...%20on%20UnknownSearchResult%20%7B%20...UnknownSearchResultFields%20%7D%20%7D%20spellCheck%20%7D%20%7D&variables=%7B%22query%22%3A%22c20%22%2C%22sort%22%3A%22Relevance%22%2C%22limit%22%3A10%2C%22offset%22%3A150%7D'\n",
    "headers = {'name':'Asta Thit Kettel', 'from':'ucph','email':'dnp@ku.dk'}\n",
    "response15 = requests.get(url15, headers)\n",
    "results15 = response15.json()\n",
    "result_articles15 = [{'urlPathId': article['urlPathId'], 'title': article['title']} for article in results15['data']['drdk']['results']]\n",
    "data15 = pd.DataFrame(result_articles15)"
   ]
  },
  {
   "cell_type": "code",
   "execution_count": 113,
   "id": "3d44d5d9-fe46-414f-84bc-681b0c9c84ca",
   "metadata": {},
   "outputs": [],
   "source": [
    "url16 = f'https://www.dr.dk/tjenester/steffi/graphql?query=fragment%20ArticleResultFields%20on%20Article%20%7B%20type%3A%20__typename%20urn%20urlPathId%20title%20format%20publications%20%7B%20...on%20ArticlePublication%20%7B%20breaking%20live%20serviceChannel%20%7B%20urn%20%7D%20%7D%20%7D%20summary%20startDate%20teaserImage%20%7B%20default%20%7B%20url%20%7D%20%7D%20head%20%7B%20type%3A%20__typename%20...%20on%20MediaComponent%20%7B%20resource%20%7B%20type%3A%20__typename%20...%20on%20LiveMedia%20%7B%20urn%20mediaType%20%7D%20...%20on%20Clip%20%7B%20urn%20mediaType%20durationInMilliseconds%20%7D%20...%20on%20ClipBundle%20%7B%20items(limit%3A%201)%20%7B%20__typename%20urn%20durationInMilliseconds%20%7D%20%7D%20%7D%20%7D%20...%20on%20ImageCollectionComponent%20%7B%20images%20%7B%20default%3A%20image(key%3A%20%22default%22)%20%7B%20type%3A%20__typename%20%7D%20%7D%20%7D%20...%20on%20RatingComponent%20%7B%20rating%20%7D%20%7D%20contributions(limit%3A%201)%20%7B%20agent%20%7B%20...%20on%20Person%20%7B%20name%20%7D%20%7D%20role%20%7D%20site%20%7B%20url%20urn%20title%20presentation%20%7B%20colors%20teaserImage%20%7B%20default%3A%20image(key%3A%20%22default%22)%20%7B%20url%20%7D%20%7D%20%7D%20%7D%20%7D%20fragment%20RecipeResultFields%20on%20Recipe%20%7B%20title%20url%20image%20%7B%20url%20%7D%20startDate%20%7D%20fragment%20UnknownSearchResultFields%20on%20UnknownSearchResult%20%7B%20title%20url%20label%20image%20%7B%20url%20width%20height%20%7D%20%7D%20fragment%20MusicArtistResultFields%20on%20MusicArtist%20%7B%20url%20name%20image%20%7B%20url%20width%20height%20%7D%20%7D%20query%20SearchPageDRDK(%24query%3A%20String!%20%24limit%3A%20Int!%20%24offset%3A%20Int!%20%24sort%3A%20SearchSort)%20%7B%20drdk%3A%20search(query%3A%20%24query%20logQuery%3A%20%24query%20limit%3A%20%24limit%20offset%3A%20%24offset%20products%3A%20%5B%22drdk%22%5D%20sort%3A%20%24sort)%20%7B%20totalCount%20results%3A%20nodes%20%7B%20type%3A%20__typename%20...%20on%20Article%20%7B%20...ArticleResultFields%20%7D%20...%20on%20Recipe%20%7B%20...RecipeResultFields%20%7D%20...%20on%20MusicArtist%20%7B%20...MusicArtistResultFields%20%7D%20...%20on%20UnknownSearchResult%20%7B%20...UnknownSearchResultFields%20%7D%20%7D%20spellCheck%20%7D%20%7D&variables=%7B%22query%22%3A%22c20%22%2C%22sort%22%3A%22Relevance%22%2C%22limit%22%3A10%2C%22offset%22%3A160%7D'\n",
    "headers = {'name':'Asta Thit Kettel', 'from':'ucph','email':'dnp@ku.dk'}\n",
    "response16 = requests.get(url16, headers)\n",
    "results16 = response16.json()\n",
    "result_articles16 = [{'urlPathId': article['urlPathId'], 'title': article['title']} for article in results16['data']['drdk']['results']]\n",
    "data16 = pd.DataFrame(result_articles16)"
   ]
  },
  {
   "cell_type": "code",
   "execution_count": 114,
   "id": "1247449b-b49e-45a2-955c-cdb2b729d633",
   "metadata": {},
   "outputs": [],
   "source": [
    "url17 = f'https://www.dr.dk/tjenester/steffi/graphql?query=fragment%20ArticleResultFields%20on%20Article%20%7B%20type%3A%20__typename%20urn%20urlPathId%20title%20format%20publications%20%7B%20...on%20ArticlePublication%20%7B%20breaking%20live%20serviceChannel%20%7B%20urn%20%7D%20%7D%20%7D%20summary%20startDate%20teaserImage%20%7B%20default%20%7B%20url%20%7D%20%7D%20head%20%7B%20type%3A%20__typename%20...%20on%20MediaComponent%20%7B%20resource%20%7B%20type%3A%20__typename%20...%20on%20LiveMedia%20%7B%20urn%20mediaType%20%7D%20...%20on%20Clip%20%7B%20urn%20mediaType%20durationInMilliseconds%20%7D%20...%20on%20ClipBundle%20%7B%20items(limit%3A%201)%20%7B%20__typename%20urn%20durationInMilliseconds%20%7D%20%7D%20%7D%20%7D%20...%20on%20ImageCollectionComponent%20%7B%20images%20%7B%20default%3A%20image(key%3A%20%22default%22)%20%7B%20type%3A%20__typename%20%7D%20%7D%20%7D%20...%20on%20RatingComponent%20%7B%20rating%20%7D%20%7D%20contributions(limit%3A%201)%20%7B%20agent%20%7B%20...%20on%20Person%20%7B%20name%20%7D%20%7D%20role%20%7D%20site%20%7B%20url%20urn%20title%20presentation%20%7B%20colors%20teaserImage%20%7B%20default%3A%20image(key%3A%20%22default%22)%20%7B%20url%20%7D%20%7D%20%7D%20%7D%20%7D%20fragment%20RecipeResultFields%20on%20Recipe%20%7B%20title%20url%20image%20%7B%20url%20%7D%20startDate%20%7D%20fragment%20UnknownSearchResultFields%20on%20UnknownSearchResult%20%7B%20title%20url%20label%20image%20%7B%20url%20width%20height%20%7D%20%7D%20fragment%20MusicArtistResultFields%20on%20MusicArtist%20%7B%20url%20name%20image%20%7B%20url%20width%20height%20%7D%20%7D%20query%20SearchPageDRDK(%24query%3A%20String!%20%24limit%3A%20Int!%20%24offset%3A%20Int!%20%24sort%3A%20SearchSort)%20%7B%20drdk%3A%20search(query%3A%20%24query%20logQuery%3A%20%24query%20limit%3A%20%24limit%20offset%3A%20%24offset%20products%3A%20%5B%22drdk%22%5D%20sort%3A%20%24sort)%20%7B%20totalCount%20results%3A%20nodes%20%7B%20type%3A%20__typename%20...%20on%20Article%20%7B%20...ArticleResultFields%20%7D%20...%20on%20Recipe%20%7B%20...RecipeResultFields%20%7D%20...%20on%20MusicArtist%20%7B%20...MusicArtistResultFields%20%7D%20...%20on%20UnknownSearchResult%20%7B%20...UnknownSearchResultFields%20%7D%20%7D%20spellCheck%20%7D%20%7D&variables=%7B%22query%22%3A%22c20%22%2C%22sort%22%3A%22Relevance%22%2C%22limit%22%3A10%2C%22offset%22%3A170%7D'\n",
    "headers = {'name':'Asta Thit Kettel', 'from':'ucph','email':'dnp@ku.dk'}\n",
    "response17 = requests.get(url17, headers)\n",
    "results17 = response17.json()\n",
    "result_articles17 = [{'urlPathId': article['urlPathId'], 'title': article['title']} for article in results17['data']['drdk']['results']]\n",
    "data17 = pd.DataFrame(result_articles17)"
   ]
  },
  {
   "cell_type": "code",
   "execution_count": 115,
   "id": "3ce5a5bd-9ea6-46d1-975b-5bb97cee187b",
   "metadata": {},
   "outputs": [],
   "source": [
    "url18 = f'https://www.dr.dk/tjenester/steffi/graphql?query=fragment%20ArticleResultFields%20on%20Article%20%7B%20type%3A%20__typename%20urn%20urlPathId%20title%20format%20publications%20%7B%20...on%20ArticlePublication%20%7B%20breaking%20live%20serviceChannel%20%7B%20urn%20%7D%20%7D%20%7D%20summary%20startDate%20teaserImage%20%7B%20default%20%7B%20url%20%7D%20%7D%20head%20%7B%20type%3A%20__typename%20...%20on%20MediaComponent%20%7B%20resource%20%7B%20type%3A%20__typename%20...%20on%20LiveMedia%20%7B%20urn%20mediaType%20%7D%20...%20on%20Clip%20%7B%20urn%20mediaType%20durationInMilliseconds%20%7D%20...%20on%20ClipBundle%20%7B%20items(limit%3A%201)%20%7B%20__typename%20urn%20durationInMilliseconds%20%7D%20%7D%20%7D%20%7D%20...%20on%20ImageCollectionComponent%20%7B%20images%20%7B%20default%3A%20image(key%3A%20%22default%22)%20%7B%20type%3A%20__typename%20%7D%20%7D%20%7D%20...%20on%20RatingComponent%20%7B%20rating%20%7D%20%7D%20contributions(limit%3A%201)%20%7B%20agent%20%7B%20...%20on%20Person%20%7B%20name%20%7D%20%7D%20role%20%7D%20site%20%7B%20url%20urn%20title%20presentation%20%7B%20colors%20teaserImage%20%7B%20default%3A%20image(key%3A%20%22default%22)%20%7B%20url%20%7D%20%7D%20%7D%20%7D%20%7D%20fragment%20RecipeResultFields%20on%20Recipe%20%7B%20title%20url%20image%20%7B%20url%20%7D%20startDate%20%7D%20fragment%20UnknownSearchResultFields%20on%20UnknownSearchResult%20%7B%20title%20url%20label%20image%20%7B%20url%20width%20height%20%7D%20%7D%20fragment%20MusicArtistResultFields%20on%20MusicArtist%20%7B%20url%20name%20image%20%7B%20url%20width%20height%20%7D%20%7D%20query%20SearchPageDRDK(%24query%3A%20String!%20%24limit%3A%20Int!%20%24offset%3A%20Int!%20%24sort%3A%20SearchSort)%20%7B%20drdk%3A%20search(query%3A%20%24query%20logQuery%3A%20%24query%20limit%3A%20%24limit%20offset%3A%20%24offset%20products%3A%20%5B%22drdk%22%5D%20sort%3A%20%24sort)%20%7B%20totalCount%20results%3A%20nodes%20%7B%20type%3A%20__typename%20...%20on%20Article%20%7B%20...ArticleResultFields%20%7D%20...%20on%20Recipe%20%7B%20...RecipeResultFields%20%7D%20...%20on%20MusicArtist%20%7B%20...MusicArtistResultFields%20%7D%20...%20on%20UnknownSearchResult%20%7B%20...UnknownSearchResultFields%20%7D%20%7D%20spellCheck%20%7D%20%7D&variables=%7B%22query%22%3A%22c20%22%2C%22sort%22%3A%22Relevance%22%2C%22limit%22%3A10%2C%22offset%22%3A180%7D'\n",
    "headers = {'name':'Asta Thit Kettel', 'from':'ucph','email':'dnp@ku.dk'}\n",
    "response18 = requests.get(url18, headers)\n",
    "results18 = response18.json()\n",
    "result_articles18 = [{'urlPathId': article['urlPathId'], 'title': article['title']} for article in results18['data']['drdk']['results']]\n",
    "data18 = pd.DataFrame(result_articles18)"
   ]
  },
  {
   "cell_type": "code",
   "execution_count": 116,
   "id": "0eba6fa8-57f6-4508-a263-bdb1dc80c4e8",
   "metadata": {},
   "outputs": [],
   "source": [
    "url19 = f'https://www.dr.dk/tjenester/steffi/graphql?query=fragment%20ArticleResultFields%20on%20Article%20%7B%20type%3A%20__typename%20urn%20urlPathId%20title%20format%20publications%20%7B%20...on%20ArticlePublication%20%7B%20breaking%20live%20serviceChannel%20%7B%20urn%20%7D%20%7D%20%7D%20summary%20startDate%20teaserImage%20%7B%20default%20%7B%20url%20%7D%20%7D%20head%20%7B%20type%3A%20__typename%20...%20on%20MediaComponent%20%7B%20resource%20%7B%20type%3A%20__typename%20...%20on%20LiveMedia%20%7B%20urn%20mediaType%20%7D%20...%20on%20Clip%20%7B%20urn%20mediaType%20durationInMilliseconds%20%7D%20...%20on%20ClipBundle%20%7B%20items(limit%3A%201)%20%7B%20__typename%20urn%20durationInMilliseconds%20%7D%20%7D%20%7D%20%7D%20...%20on%20ImageCollectionComponent%20%7B%20images%20%7B%20default%3A%20image(key%3A%20%22default%22)%20%7B%20type%3A%20__typename%20%7D%20%7D%20%7D%20...%20on%20RatingComponent%20%7B%20rating%20%7D%20%7D%20contributions(limit%3A%201)%20%7B%20agent%20%7B%20...%20on%20Person%20%7B%20name%20%7D%20%7D%20role%20%7D%20site%20%7B%20url%20urn%20title%20presentation%20%7B%20colors%20teaserImage%20%7B%20default%3A%20image(key%3A%20%22default%22)%20%7B%20url%20%7D%20%7D%20%7D%20%7D%20%7D%20fragment%20RecipeResultFields%20on%20Recipe%20%7B%20title%20url%20image%20%7B%20url%20%7D%20startDate%20%7D%20fragment%20UnknownSearchResultFields%20on%20UnknownSearchResult%20%7B%20title%20url%20label%20image%20%7B%20url%20width%20height%20%7D%20%7D%20fragment%20MusicArtistResultFields%20on%20MusicArtist%20%7B%20url%20name%20image%20%7B%20url%20width%20height%20%7D%20%7D%20query%20SearchPageDRDK(%24query%3A%20String!%20%24limit%3A%20Int!%20%24offset%3A%20Int!%20%24sort%3A%20SearchSort)%20%7B%20drdk%3A%20search(query%3A%20%24query%20logQuery%3A%20%24query%20limit%3A%20%24limit%20offset%3A%20%24offset%20products%3A%20%5B%22drdk%22%5D%20sort%3A%20%24sort)%20%7B%20totalCount%20results%3A%20nodes%20%7B%20type%3A%20__typename%20...%20on%20Article%20%7B%20...ArticleResultFields%20%7D%20...%20on%20Recipe%20%7B%20...RecipeResultFields%20%7D%20...%20on%20MusicArtist%20%7B%20...MusicArtistResultFields%20%7D%20...%20on%20UnknownSearchResult%20%7B%20...UnknownSearchResultFields%20%7D%20%7D%20spellCheck%20%7D%20%7D&variables=%7B%22query%22%3A%22c20%22%2C%22sort%22%3A%22Relevance%22%2C%22limit%22%3A10%2C%22offset%22%3A190%7D'\n",
    "headers = {'name':'Asta Thit Kettel', 'from':'ucph','email':'dnp@ku.dk'}\n",
    "response19 = requests.get(url19, headers)\n",
    "results19 = response19.json()\n",
    "result_articles19 = [{'urlPathId': article['urlPathId'], 'title': article['title']} for article in results19['data']['drdk']['results']]\n",
    "data19 = pd.DataFrame(result_articles19)"
   ]
  },
  {
   "cell_type": "code",
   "execution_count": 117,
   "id": "f3513f8b-a96f-4d7d-9f56-c96f21269b3b",
   "metadata": {},
   "outputs": [],
   "source": [
    "url20 = f'https://www.dr.dk/tjenester/steffi/graphql?query=fragment%20ArticleResultFields%20on%20Article%20%7B%20type%3A%20__typename%20urn%20urlPathId%20title%20format%20publications%20%7B%20...on%20ArticlePublication%20%7B%20breaking%20live%20serviceChannel%20%7B%20urn%20%7D%20%7D%20%7D%20summary%20startDate%20teaserImage%20%7B%20default%20%7B%20url%20%7D%20%7D%20head%20%7B%20type%3A%20__typename%20...%20on%20MediaComponent%20%7B%20resource%20%7B%20type%3A%20__typename%20...%20on%20LiveMedia%20%7B%20urn%20mediaType%20%7D%20...%20on%20Clip%20%7B%20urn%20mediaType%20durationInMilliseconds%20%7D%20...%20on%20ClipBundle%20%7B%20items(limit%3A%201)%20%7B%20__typename%20urn%20durationInMilliseconds%20%7D%20%7D%20%7D%20%7D%20...%20on%20ImageCollectionComponent%20%7B%20images%20%7B%20default%3A%20image(key%3A%20%22default%22)%20%7B%20type%3A%20__typename%20%7D%20%7D%20%7D%20...%20on%20RatingComponent%20%7B%20rating%20%7D%20%7D%20contributions(limit%3A%201)%20%7B%20agent%20%7B%20...%20on%20Person%20%7B%20name%20%7D%20%7D%20role%20%7D%20site%20%7B%20url%20urn%20title%20presentation%20%7B%20colors%20teaserImage%20%7B%20default%3A%20image(key%3A%20%22default%22)%20%7B%20url%20%7D%20%7D%20%7D%20%7D%20%7D%20fragment%20RecipeResultFields%20on%20Recipe%20%7B%20title%20url%20image%20%7B%20url%20%7D%20startDate%20%7D%20fragment%20UnknownSearchResultFields%20on%20UnknownSearchResult%20%7B%20title%20url%20label%20image%20%7B%20url%20width%20height%20%7D%20%7D%20fragment%20MusicArtistResultFields%20on%20MusicArtist%20%7B%20url%20name%20image%20%7B%20url%20width%20height%20%7D%20%7D%20query%20SearchPageDRDK(%24query%3A%20String!%20%24limit%3A%20Int!%20%24offset%3A%20Int!%20%24sort%3A%20SearchSort)%20%7B%20drdk%3A%20search(query%3A%20%24query%20logQuery%3A%20%24query%20limit%3A%20%24limit%20offset%3A%20%24offset%20products%3A%20%5B%22drdk%22%5D%20sort%3A%20%24sort)%20%7B%20totalCount%20results%3A%20nodes%20%7B%20type%3A%20__typename%20...%20on%20Article%20%7B%20...ArticleResultFields%20%7D%20...%20on%20Recipe%20%7B%20...RecipeResultFields%20%7D%20...%20on%20MusicArtist%20%7B%20...MusicArtistResultFields%20%7D%20...%20on%20UnknownSearchResult%20%7B%20...UnknownSearchResultFields%20%7D%20%7D%20spellCheck%20%7D%20%7D&variables=%7B%22query%22%3A%22c20%22%2C%22sort%22%3A%22Relevance%22%2C%22limit%22%3A10%2C%22offset%22%3A200%7D'\n",
    "headers = {'name':'Asta Thit Kettel', 'from':'ucph','email':'dnp@ku.dk'}\n",
    "response20 = requests.get(url20, headers)\n",
    "results20 = response20.json()\n",
    "result_articles20 = [{'urlPathId': article['urlPathId'], 'title': article['title']} for article in results20['data']['drdk']['results']]\n",
    "data20 = pd.DataFrame(result_articles20)"
   ]
  },
  {
   "cell_type": "code",
   "execution_count": 118,
   "id": "5b0468f2-d5c4-4f33-93d4-a1ee08881a99",
   "metadata": {},
   "outputs": [],
   "source": [
    "url21 = f'https://www.dr.dk/tjenester/steffi/graphql?query=fragment%20ArticleResultFields%20on%20Article%20%7B%20type%3A%20__typename%20urn%20urlPathId%20title%20format%20publications%20%7B%20...on%20ArticlePublication%20%7B%20breaking%20live%20serviceChannel%20%7B%20urn%20%7D%20%7D%20%7D%20summary%20startDate%20teaserImage%20%7B%20default%20%7B%20url%20%7D%20%7D%20head%20%7B%20type%3A%20__typename%20...%20on%20MediaComponent%20%7B%20resource%20%7B%20type%3A%20__typename%20...%20on%20LiveMedia%20%7B%20urn%20mediaType%20%7D%20...%20on%20Clip%20%7B%20urn%20mediaType%20durationInMilliseconds%20%7D%20...%20on%20ClipBundle%20%7B%20items(limit%3A%201)%20%7B%20__typename%20urn%20durationInMilliseconds%20%7D%20%7D%20%7D%20%7D%20...%20on%20ImageCollectionComponent%20%7B%20images%20%7B%20default%3A%20image(key%3A%20%22default%22)%20%7B%20type%3A%20__typename%20%7D%20%7D%20%7D%20...%20on%20RatingComponent%20%7B%20rating%20%7D%20%7D%20contributions(limit%3A%201)%20%7B%20agent%20%7B%20...%20on%20Person%20%7B%20name%20%7D%20%7D%20role%20%7D%20site%20%7B%20url%20urn%20title%20presentation%20%7B%20colors%20teaserImage%20%7B%20default%3A%20image(key%3A%20%22default%22)%20%7B%20url%20%7D%20%7D%20%7D%20%7D%20%7D%20fragment%20RecipeResultFields%20on%20Recipe%20%7B%20title%20url%20image%20%7B%20url%20%7D%20startDate%20%7D%20fragment%20UnknownSearchResultFields%20on%20UnknownSearchResult%20%7B%20title%20url%20label%20image%20%7B%20url%20width%20height%20%7D%20%7D%20fragment%20MusicArtistResultFields%20on%20MusicArtist%20%7B%20url%20name%20image%20%7B%20url%20width%20height%20%7D%20%7D%20query%20SearchPageDRDK(%24query%3A%20String!%20%24limit%3A%20Int!%20%24offset%3A%20Int!%20%24sort%3A%20SearchSort)%20%7B%20drdk%3A%20search(query%3A%20%24query%20logQuery%3A%20%24query%20limit%3A%20%24limit%20offset%3A%20%24offset%20products%3A%20%5B%22drdk%22%5D%20sort%3A%20%24sort)%20%7B%20totalCount%20results%3A%20nodes%20%7B%20type%3A%20__typename%20...%20on%20Article%20%7B%20...ArticleResultFields%20%7D%20...%20on%20Recipe%20%7B%20...RecipeResultFields%20%7D%20...%20on%20MusicArtist%20%7B%20...MusicArtistResultFields%20%7D%20...%20on%20UnknownSearchResult%20%7B%20...UnknownSearchResultFields%20%7D%20%7D%20spellCheck%20%7D%20%7D&variables=%7B%22query%22%3A%22c20%22%2C%22sort%22%3A%22Relevance%22%2C%22limit%22%3A10%2C%22offset%22%3A210%7D'\n",
    "headers = {'name':'Asta Thit Kettel', 'from':'ucph','email':'dnp@ku.dk'}\n",
    "response21 = requests.get(url21, headers)\n",
    "results21 = response21.json()\n",
    "result_articles21 = [{'urlPathId': article['urlPathId'], 'title': article['title']} for article in results21['data']['drdk']['results']]\n",
    "data21 = pd.DataFrame(result_articles21)"
   ]
  },
  {
   "cell_type": "code",
   "execution_count": 119,
   "id": "15b555ca-1903-4ab4-96bd-e0f19a0498e1",
   "metadata": {},
   "outputs": [],
   "source": [
    "url22 = f'https://www.dr.dk/tjenester/steffi/graphql?query=fragment%20ArticleResultFields%20on%20Article%20%7B%20type%3A%20__typename%20urn%20urlPathId%20title%20format%20publications%20%7B%20...on%20ArticlePublication%20%7B%20breaking%20live%20serviceChannel%20%7B%20urn%20%7D%20%7D%20%7D%20summary%20startDate%20teaserImage%20%7B%20default%20%7B%20url%20%7D%20%7D%20head%20%7B%20type%3A%20__typename%20...%20on%20MediaComponent%20%7B%20resource%20%7B%20type%3A%20__typename%20...%20on%20LiveMedia%20%7B%20urn%20mediaType%20%7D%20...%20on%20Clip%20%7B%20urn%20mediaType%20durationInMilliseconds%20%7D%20...%20on%20ClipBundle%20%7B%20items(limit%3A%201)%20%7B%20__typename%20urn%20durationInMilliseconds%20%7D%20%7D%20%7D%20%7D%20...%20on%20ImageCollectionComponent%20%7B%20images%20%7B%20default%3A%20image(key%3A%20%22default%22)%20%7B%20type%3A%20__typename%20%7D%20%7D%20%7D%20...%20on%20RatingComponent%20%7B%20rating%20%7D%20%7D%20contributions(limit%3A%201)%20%7B%20agent%20%7B%20...%20on%20Person%20%7B%20name%20%7D%20%7D%20role%20%7D%20site%20%7B%20url%20urn%20title%20presentation%20%7B%20colors%20teaserImage%20%7B%20default%3A%20image(key%3A%20%22default%22)%20%7B%20url%20%7D%20%7D%20%7D%20%7D%20%7D%20fragment%20RecipeResultFields%20on%20Recipe%20%7B%20title%20url%20image%20%7B%20url%20%7D%20startDate%20%7D%20fragment%20UnknownSearchResultFields%20on%20UnknownSearchResult%20%7B%20title%20url%20label%20image%20%7B%20url%20width%20height%20%7D%20%7D%20fragment%20MusicArtistResultFields%20on%20MusicArtist%20%7B%20url%20name%20image%20%7B%20url%20width%20height%20%7D%20%7D%20query%20SearchPageDRDK(%24query%3A%20String!%20%24limit%3A%20Int!%20%24offset%3A%20Int!%20%24sort%3A%20SearchSort)%20%7B%20drdk%3A%20search(query%3A%20%24query%20logQuery%3A%20%24query%20limit%3A%20%24limit%20offset%3A%20%24offset%20products%3A%20%5B%22drdk%22%5D%20sort%3A%20%24sort)%20%7B%20totalCount%20results%3A%20nodes%20%7B%20type%3A%20__typename%20...%20on%20Article%20%7B%20...ArticleResultFields%20%7D%20...%20on%20Recipe%20%7B%20...RecipeResultFields%20%7D%20...%20on%20MusicArtist%20%7B%20...MusicArtistResultFields%20%7D%20...%20on%20UnknownSearchResult%20%7B%20...UnknownSearchResultFields%20%7D%20%7D%20spellCheck%20%7D%20%7D&variables=%7B%22query%22%3A%22c20%22%2C%22sort%22%3A%22Relevance%22%2C%22limit%22%3A10%2C%22offset%22%3A220%7D'\n",
    "headers = {'name':'Asta Thit Kettel', 'from':'ucph','email':'dnp@ku.dk'}\n",
    "response22 = requests.get(url22, headers)\n",
    "results22 = response22.json()\n",
    "result_articles22 = [{'urlPathId': article['urlPathId'], 'title': article['title']} for article in results22['data']['drdk']['results']]\n",
    "data22 = pd.DataFrame(result_articles22)"
   ]
  },
  {
   "cell_type": "code",
   "execution_count": 120,
   "id": "bfe4f805-4eb2-4bb9-9339-78e12373d284",
   "metadata": {},
   "outputs": [],
   "source": [
    "url23 = f'https://www.dr.dk/tjenester/steffi/graphql?query=fragment%20ArticleResultFields%20on%20Article%20%7B%20type%3A%20__typename%20urn%20urlPathId%20title%20format%20publications%20%7B%20...on%20ArticlePublication%20%7B%20breaking%20live%20serviceChannel%20%7B%20urn%20%7D%20%7D%20%7D%20summary%20startDate%20teaserImage%20%7B%20default%20%7B%20url%20%7D%20%7D%20head%20%7B%20type%3A%20__typename%20...%20on%20MediaComponent%20%7B%20resource%20%7B%20type%3A%20__typename%20...%20on%20LiveMedia%20%7B%20urn%20mediaType%20%7D%20...%20on%20Clip%20%7B%20urn%20mediaType%20durationInMilliseconds%20%7D%20...%20on%20ClipBundle%20%7B%20items(limit%3A%201)%20%7B%20__typename%20urn%20durationInMilliseconds%20%7D%20%7D%20%7D%20%7D%20...%20on%20ImageCollectionComponent%20%7B%20images%20%7B%20default%3A%20image(key%3A%20%22default%22)%20%7B%20type%3A%20__typename%20%7D%20%7D%20%7D%20...%20on%20RatingComponent%20%7B%20rating%20%7D%20%7D%20contributions(limit%3A%201)%20%7B%20agent%20%7B%20...%20on%20Person%20%7B%20name%20%7D%20%7D%20role%20%7D%20site%20%7B%20url%20urn%20title%20presentation%20%7B%20colors%20teaserImage%20%7B%20default%3A%20image(key%3A%20%22default%22)%20%7B%20url%20%7D%20%7D%20%7D%20%7D%20%7D%20fragment%20RecipeResultFields%20on%20Recipe%20%7B%20title%20url%20image%20%7B%20url%20%7D%20startDate%20%7D%20fragment%20UnknownSearchResultFields%20on%20UnknownSearchResult%20%7B%20title%20url%20label%20image%20%7B%20url%20width%20height%20%7D%20%7D%20fragment%20MusicArtistResultFields%20on%20MusicArtist%20%7B%20url%20name%20image%20%7B%20url%20width%20height%20%7D%20%7D%20query%20SearchPageDRDK(%24query%3A%20String!%20%24limit%3A%20Int!%20%24offset%3A%20Int!%20%24sort%3A%20SearchSort)%20%7B%20drdk%3A%20search(query%3A%20%24query%20logQuery%3A%20%24query%20limit%3A%20%24limit%20offset%3A%20%24offset%20products%3A%20%5B%22drdk%22%5D%20sort%3A%20%24sort)%20%7B%20totalCount%20results%3A%20nodes%20%7B%20type%3A%20__typename%20...%20on%20Article%20%7B%20...ArticleResultFields%20%7D%20...%20on%20Recipe%20%7B%20...RecipeResultFields%20%7D%20...%20on%20MusicArtist%20%7B%20...MusicArtistResultFields%20%7D%20...%20on%20UnknownSearchResult%20%7B%20...UnknownSearchResultFields%20%7D%20%7D%20spellCheck%20%7D%20%7D&variables=%7B%22query%22%3A%22c20%22%2C%22sort%22%3A%22Relevance%22%2C%22limit%22%3A10%2C%22offset%22%3A230%7D'\n",
    "headers = {'name':'Asta Thit Kettel', 'from':'ucph','email':'dnp@ku.dk'}\n",
    "response23 = requests.get(url23, headers)\n",
    "results23 = response23.json()\n",
    "result_articles23 = [{'urlPathId': article['urlPathId'], 'title': article['title']} for article in results23['data']['drdk']['results']]\n",
    "data23 = pd.DataFrame(result_articles23)"
   ]
  },
  {
   "cell_type": "code",
   "execution_count": 121,
   "id": "f75b898b-1d1f-4263-8017-7b5f7a554af6",
   "metadata": {},
   "outputs": [],
   "source": [
    "url24 = f'https://www.dr.dk/tjenester/steffi/graphql?query=fragment%20ArticleResultFields%20on%20Article%20%7B%20type%3A%20__typename%20urn%20urlPathId%20title%20format%20publications%20%7B%20...on%20ArticlePublication%20%7B%20breaking%20live%20serviceChannel%20%7B%20urn%20%7D%20%7D%20%7D%20summary%20startDate%20teaserImage%20%7B%20default%20%7B%20url%20%7D%20%7D%20head%20%7B%20type%3A%20__typename%20...%20on%20MediaComponent%20%7B%20resource%20%7B%20type%3A%20__typename%20...%20on%20LiveMedia%20%7B%20urn%20mediaType%20%7D%20...%20on%20Clip%20%7B%20urn%20mediaType%20durationInMilliseconds%20%7D%20...%20on%20ClipBundle%20%7B%20items(limit%3A%201)%20%7B%20__typename%20urn%20durationInMilliseconds%20%7D%20%7D%20%7D%20%7D%20...%20on%20ImageCollectionComponent%20%7B%20images%20%7B%20default%3A%20image(key%3A%20%22default%22)%20%7B%20type%3A%20__typename%20%7D%20%7D%20%7D%20...%20on%20RatingComponent%20%7B%20rating%20%7D%20%7D%20contributions(limit%3A%201)%20%7B%20agent%20%7B%20...%20on%20Person%20%7B%20name%20%7D%20%7D%20role%20%7D%20site%20%7B%20url%20urn%20title%20presentation%20%7B%20colors%20teaserImage%20%7B%20default%3A%20image(key%3A%20%22default%22)%20%7B%20url%20%7D%20%7D%20%7D%20%7D%20%7D%20fragment%20RecipeResultFields%20on%20Recipe%20%7B%20title%20url%20image%20%7B%20url%20%7D%20startDate%20%7D%20fragment%20UnknownSearchResultFields%20on%20UnknownSearchResult%20%7B%20title%20url%20label%20image%20%7B%20url%20width%20height%20%7D%20%7D%20fragment%20MusicArtistResultFields%20on%20MusicArtist%20%7B%20url%20name%20image%20%7B%20url%20width%20height%20%7D%20%7D%20query%20SearchPageDRDK(%24query%3A%20String!%20%24limit%3A%20Int!%20%24offset%3A%20Int!%20%24sort%3A%20SearchSort)%20%7B%20drdk%3A%20search(query%3A%20%24query%20logQuery%3A%20%24query%20limit%3A%20%24limit%20offset%3A%20%24offset%20products%3A%20%5B%22drdk%22%5D%20sort%3A%20%24sort)%20%7B%20totalCount%20results%3A%20nodes%20%7B%20type%3A%20__typename%20...%20on%20Article%20%7B%20...ArticleResultFields%20%7D%20...%20on%20Recipe%20%7B%20...RecipeResultFields%20%7D%20...%20on%20MusicArtist%20%7B%20...MusicArtistResultFields%20%7D%20...%20on%20UnknownSearchResult%20%7B%20...UnknownSearchResultFields%20%7D%20%7D%20spellCheck%20%7D%20%7D&variables=%7B%22query%22%3A%22c20%22%2C%22sort%22%3A%22Relevance%22%2C%22limit%22%3A10%2C%22offset%22%3A240%7D'\n",
    "headers = {'name':'Asta Thit Kettel', 'from':'ucph','email':'dnp@ku.dk'}\n",
    "response24 = requests.get(url24, headers)\n",
    "results24 = response24.json()\n",
    "result_articles24 = [{'urlPathId': article['urlPathId'], 'title': article['title']} for article in results24['data']['drdk']['results']]\n",
    "data24 = pd.DataFrame(result_articles24)"
   ]
  },
  {
   "cell_type": "code",
   "execution_count": 122,
   "id": "aa467184-d289-4191-affd-e369282bd73e",
   "metadata": {},
   "outputs": [],
   "source": [
    "url25 = f'https://www.dr.dk/tjenester/steffi/graphql?query=fragment%20ArticleResultFields%20on%20Article%20%7B%20type%3A%20__typename%20urn%20urlPathId%20title%20format%20publications%20%7B%20...on%20ArticlePublication%20%7B%20breaking%20live%20serviceChannel%20%7B%20urn%20%7D%20%7D%20%7D%20summary%20startDate%20teaserImage%20%7B%20default%20%7B%20url%20%7D%20%7D%20head%20%7B%20type%3A%20__typename%20...%20on%20MediaComponent%20%7B%20resource%20%7B%20type%3A%20__typename%20...%20on%20LiveMedia%20%7B%20urn%20mediaType%20%7D%20...%20on%20Clip%20%7B%20urn%20mediaType%20durationInMilliseconds%20%7D%20...%20on%20ClipBundle%20%7B%20items(limit%3A%201)%20%7B%20__typename%20urn%20durationInMilliseconds%20%7D%20%7D%20%7D%20%7D%20...%20on%20ImageCollectionComponent%20%7B%20images%20%7B%20default%3A%20image(key%3A%20%22default%22)%20%7B%20type%3A%20__typename%20%7D%20%7D%20%7D%20...%20on%20RatingComponent%20%7B%20rating%20%7D%20%7D%20contributions(limit%3A%201)%20%7B%20agent%20%7B%20...%20on%20Person%20%7B%20name%20%7D%20%7D%20role%20%7D%20site%20%7B%20url%20urn%20title%20presentation%20%7B%20colors%20teaserImage%20%7B%20default%3A%20image(key%3A%20%22default%22)%20%7B%20url%20%7D%20%7D%20%7D%20%7D%20%7D%20fragment%20RecipeResultFields%20on%20Recipe%20%7B%20title%20url%20image%20%7B%20url%20%7D%20startDate%20%7D%20fragment%20UnknownSearchResultFields%20on%20UnknownSearchResult%20%7B%20title%20url%20label%20image%20%7B%20url%20width%20height%20%7D%20%7D%20fragment%20MusicArtistResultFields%20on%20MusicArtist%20%7B%20url%20name%20image%20%7B%20url%20width%20height%20%7D%20%7D%20query%20SearchPageDRDK(%24query%3A%20String!%20%24limit%3A%20Int!%20%24offset%3A%20Int!%20%24sort%3A%20SearchSort)%20%7B%20drdk%3A%20search(query%3A%20%24query%20logQuery%3A%20%24query%20limit%3A%20%24limit%20offset%3A%20%24offset%20products%3A%20%5B%22drdk%22%5D%20sort%3A%20%24sort)%20%7B%20totalCount%20results%3A%20nodes%20%7B%20type%3A%20__typename%20...%20on%20Article%20%7B%20...ArticleResultFields%20%7D%20...%20on%20Recipe%20%7B%20...RecipeResultFields%20%7D%20...%20on%20MusicArtist%20%7B%20...MusicArtistResultFields%20%7D%20...%20on%20UnknownSearchResult%20%7B%20...UnknownSearchResultFields%20%7D%20%7D%20spellCheck%20%7D%20%7D&variables=%7B%22query%22%3A%22c20%22%2C%22sort%22%3A%22Relevance%22%2C%22limit%22%3A10%2C%22offset%22%3A250%7D'\n",
    "headers = {'name':'Asta Thit Kettel', 'from':'ucph','email':'dnp@ku.dk'}\n",
    "response25 = requests.get(url25, headers)\n",
    "results25 = response25.json()\n",
    "result_articles25 = [{'urlPathId': article['urlPathId'], 'title': article['title']} for article in results25['data']['drdk']['results']]\n",
    "data25 = pd.DataFrame(result_articles25)"
   ]
  },
  {
   "cell_type": "code",
   "execution_count": 123,
   "id": "679a1572-aff7-4536-854e-b36c4ca5a5ec",
   "metadata": {},
   "outputs": [],
   "source": [
    "url26 = f'https://www.dr.dk/tjenester/steffi/graphql?query=fragment%20ArticleResultFields%20on%20Article%20%7B%20type%3A%20__typename%20urn%20urlPathId%20title%20format%20publications%20%7B%20...on%20ArticlePublication%20%7B%20breaking%20live%20serviceChannel%20%7B%20urn%20%7D%20%7D%20%7D%20summary%20startDate%20teaserImage%20%7B%20default%20%7B%20url%20%7D%20%7D%20head%20%7B%20type%3A%20__typename%20...%20on%20MediaComponent%20%7B%20resource%20%7B%20type%3A%20__typename%20...%20on%20LiveMedia%20%7B%20urn%20mediaType%20%7D%20...%20on%20Clip%20%7B%20urn%20mediaType%20durationInMilliseconds%20%7D%20...%20on%20ClipBundle%20%7B%20items(limit%3A%201)%20%7B%20__typename%20urn%20durationInMilliseconds%20%7D%20%7D%20%7D%20%7D%20...%20on%20ImageCollectionComponent%20%7B%20images%20%7B%20default%3A%20image(key%3A%20%22default%22)%20%7B%20type%3A%20__typename%20%7D%20%7D%20%7D%20...%20on%20RatingComponent%20%7B%20rating%20%7D%20%7D%20contributions(limit%3A%201)%20%7B%20agent%20%7B%20...%20on%20Person%20%7B%20name%20%7D%20%7D%20role%20%7D%20site%20%7B%20url%20urn%20title%20presentation%20%7B%20colors%20teaserImage%20%7B%20default%3A%20image(key%3A%20%22default%22)%20%7B%20url%20%7D%20%7D%20%7D%20%7D%20%7D%20fragment%20RecipeResultFields%20on%20Recipe%20%7B%20title%20url%20image%20%7B%20url%20%7D%20startDate%20%7D%20fragment%20UnknownSearchResultFields%20on%20UnknownSearchResult%20%7B%20title%20url%20label%20image%20%7B%20url%20width%20height%20%7D%20%7D%20fragment%20MusicArtistResultFields%20on%20MusicArtist%20%7B%20url%20name%20image%20%7B%20url%20width%20height%20%7D%20%7D%20query%20SearchPageDRDK(%24query%3A%20String!%20%24limit%3A%20Int!%20%24offset%3A%20Int!%20%24sort%3A%20SearchSort)%20%7B%20drdk%3A%20search(query%3A%20%24query%20logQuery%3A%20%24query%20limit%3A%20%24limit%20offset%3A%20%24offset%20products%3A%20%5B%22drdk%22%5D%20sort%3A%20%24sort)%20%7B%20totalCount%20results%3A%20nodes%20%7B%20type%3A%20__typename%20...%20on%20Article%20%7B%20...ArticleResultFields%20%7D%20...%20on%20Recipe%20%7B%20...RecipeResultFields%20%7D%20...%20on%20MusicArtist%20%7B%20...MusicArtistResultFields%20%7D%20...%20on%20UnknownSearchResult%20%7B%20...UnknownSearchResultFields%20%7D%20%7D%20spellCheck%20%7D%20%7D&variables=%7B%22query%22%3A%22c20%22%2C%22sort%22%3A%22Relevance%22%2C%22limit%22%3A10%2C%22offset%22%3A260%7D'\n",
    "headers = {'name':'Asta Thit Kettel', 'from':'ucph','email':'dnp@ku.dk'}\n",
    "response26 = requests.get(url26, headers)\n",
    "results26 = response26.json()\n",
    "result_articles26 = [{'urlPathId': article['urlPathId'], 'title': article['title']} for article in results26['data']['drdk']['results']]\n",
    "data26 = pd.DataFrame(result_articles26)"
   ]
  },
  {
   "cell_type": "code",
   "execution_count": 124,
   "id": "08aac8cd-3c93-43b6-8305-be48f730d53e",
   "metadata": {},
   "outputs": [],
   "source": [
    "url27 = f'https://www.dr.dk/tjenester/steffi/graphql?query=fragment%20ArticleResultFields%20on%20Article%20%7B%20type%3A%20__typename%20urn%20urlPathId%20title%20format%20publications%20%7B%20...on%20ArticlePublication%20%7B%20breaking%20live%20serviceChannel%20%7B%20urn%20%7D%20%7D%20%7D%20summary%20startDate%20teaserImage%20%7B%20default%20%7B%20url%20%7D%20%7D%20head%20%7B%20type%3A%20__typename%20...%20on%20MediaComponent%20%7B%20resource%20%7B%20type%3A%20__typename%20...%20on%20LiveMedia%20%7B%20urn%20mediaType%20%7D%20...%20on%20Clip%20%7B%20urn%20mediaType%20durationInMilliseconds%20%7D%20...%20on%20ClipBundle%20%7B%20items(limit%3A%201)%20%7B%20__typename%20urn%20durationInMilliseconds%20%7D%20%7D%20%7D%20%7D%20...%20on%20ImageCollectionComponent%20%7B%20images%20%7B%20default%3A%20image(key%3A%20%22default%22)%20%7B%20type%3A%20__typename%20%7D%20%7D%20%7D%20...%20on%20RatingComponent%20%7B%20rating%20%7D%20%7D%20contributions(limit%3A%201)%20%7B%20agent%20%7B%20...%20on%20Person%20%7B%20name%20%7D%20%7D%20role%20%7D%20site%20%7B%20url%20urn%20title%20presentation%20%7B%20colors%20teaserImage%20%7B%20default%3A%20image(key%3A%20%22default%22)%20%7B%20url%20%7D%20%7D%20%7D%20%7D%20%7D%20fragment%20RecipeResultFields%20on%20Recipe%20%7B%20title%20url%20image%20%7B%20url%20%7D%20startDate%20%7D%20fragment%20UnknownSearchResultFields%20on%20UnknownSearchResult%20%7B%20title%20url%20label%20image%20%7B%20url%20width%20height%20%7D%20%7D%20fragment%20MusicArtistResultFields%20on%20MusicArtist%20%7B%20url%20name%20image%20%7B%20url%20width%20height%20%7D%20%7D%20query%20SearchPageDRDK(%24query%3A%20String!%20%24limit%3A%20Int!%20%24offset%3A%20Int!%20%24sort%3A%20SearchSort)%20%7B%20drdk%3A%20search(query%3A%20%24query%20logQuery%3A%20%24query%20limit%3A%20%24limit%20offset%3A%20%24offset%20products%3A%20%5B%22drdk%22%5D%20sort%3A%20%24sort)%20%7B%20totalCount%20results%3A%20nodes%20%7B%20type%3A%20__typename%20...%20on%20Article%20%7B%20...ArticleResultFields%20%7D%20...%20on%20Recipe%20%7B%20...RecipeResultFields%20%7D%20...%20on%20MusicArtist%20%7B%20...MusicArtistResultFields%20%7D%20...%20on%20UnknownSearchResult%20%7B%20...UnknownSearchResultFields%20%7D%20%7D%20spellCheck%20%7D%20%7D&variables=%7B%22query%22%3A%22c20%22%2C%22sort%22%3A%22Relevance%22%2C%22limit%22%3A10%2C%22offset%22%3A270%7D'\n",
    "headers = {'name':'Asta Thit Kettel', 'from':'ucph','email':'dnp@ku.dk'}\n",
    "response27 = requests.get(url27, headers)\n",
    "results27 = response27.json()\n",
    "result_articles27 = [{'urlPathId': article['urlPathId'], 'title': article['title']} for article in results27['data']['drdk']['results']]\n",
    "data27 = pd.DataFrame(result_articles27)"
   ]
  },
  {
   "cell_type": "code",
   "execution_count": 125,
   "id": "b377a177-657d-4640-8218-b5ccc04737c9",
   "metadata": {},
   "outputs": [],
   "source": [
    "url28 = f'https://www.dr.dk/tjenester/steffi/graphql?query=fragment%20ArticleResultFields%20on%20Article%20%7B%20type%3A%20__typename%20urn%20urlPathId%20title%20format%20publications%20%7B%20...on%20ArticlePublication%20%7B%20breaking%20live%20serviceChannel%20%7B%20urn%20%7D%20%7D%20%7D%20summary%20startDate%20teaserImage%20%7B%20default%20%7B%20url%20%7D%20%7D%20head%20%7B%20type%3A%20__typename%20...%20on%20MediaComponent%20%7B%20resource%20%7B%20type%3A%20__typename%20...%20on%20LiveMedia%20%7B%20urn%20mediaType%20%7D%20...%20on%20Clip%20%7B%20urn%20mediaType%20durationInMilliseconds%20%7D%20...%20on%20ClipBundle%20%7B%20items(limit%3A%201)%20%7B%20__typename%20urn%20durationInMilliseconds%20%7D%20%7D%20%7D%20%7D%20...%20on%20ImageCollectionComponent%20%7B%20images%20%7B%20default%3A%20image(key%3A%20%22default%22)%20%7B%20type%3A%20__typename%20%7D%20%7D%20%7D%20...%20on%20RatingComponent%20%7B%20rating%20%7D%20%7D%20contributions(limit%3A%201)%20%7B%20agent%20%7B%20...%20on%20Person%20%7B%20name%20%7D%20%7D%20role%20%7D%20site%20%7B%20url%20urn%20title%20presentation%20%7B%20colors%20teaserImage%20%7B%20default%3A%20image(key%3A%20%22default%22)%20%7B%20url%20%7D%20%7D%20%7D%20%7D%20%7D%20fragment%20RecipeResultFields%20on%20Recipe%20%7B%20title%20url%20image%20%7B%20url%20%7D%20startDate%20%7D%20fragment%20UnknownSearchResultFields%20on%20UnknownSearchResult%20%7B%20title%20url%20label%20image%20%7B%20url%20width%20height%20%7D%20%7D%20fragment%20MusicArtistResultFields%20on%20MusicArtist%20%7B%20url%20name%20image%20%7B%20url%20width%20height%20%7D%20%7D%20query%20SearchPageDRDK(%24query%3A%20String!%20%24limit%3A%20Int!%20%24offset%3A%20Int!%20%24sort%3A%20SearchSort)%20%7B%20drdk%3A%20search(query%3A%20%24query%20logQuery%3A%20%24query%20limit%3A%20%24limit%20offset%3A%20%24offset%20products%3A%20%5B%22drdk%22%5D%20sort%3A%20%24sort)%20%7B%20totalCount%20results%3A%20nodes%20%7B%20type%3A%20__typename%20...%20on%20Article%20%7B%20...ArticleResultFields%20%7D%20...%20on%20Recipe%20%7B%20...RecipeResultFields%20%7D%20...%20on%20MusicArtist%20%7B%20...MusicArtistResultFields%20%7D%20...%20on%20UnknownSearchResult%20%7B%20...UnknownSearchResultFields%20%7D%20%7D%20spellCheck%20%7D%20%7D&variables=%7B%22query%22%3A%22c20%22%2C%22sort%22%3A%22Relevance%22%2C%22limit%22%3A10%2C%22offset%22%3A280%7D'\n",
    "headers = {'name':'Asta Thit Kettel', 'from':'ucph','email':'dnp@ku.dk'}\n",
    "response28 = requests.get(url28, headers)\n",
    "results28 = response28.json()\n",
    "result_articles28 = [{'urlPathId': article['urlPathId'], 'title': article['title']} for article in results28['data']['drdk']['results']]\n",
    "data28 = pd.DataFrame(result_articles28)"
   ]
  },
  {
   "cell_type": "code",
   "execution_count": 126,
   "id": "74542f5d-94f5-4b0b-9a63-7fddd850145f",
   "metadata": {},
   "outputs": [],
   "source": [
    "url29 = f'https://www.dr.dk/tjenester/steffi/graphql?query=fragment%20ArticleResultFields%20on%20Article%20%7B%20type%3A%20__typename%20urn%20urlPathId%20title%20format%20publications%20%7B%20...on%20ArticlePublication%20%7B%20breaking%20live%20serviceChannel%20%7B%20urn%20%7D%20%7D%20%7D%20summary%20startDate%20teaserImage%20%7B%20default%20%7B%20url%20%7D%20%7D%20head%20%7B%20type%3A%20__typename%20...%20on%20MediaComponent%20%7B%20resource%20%7B%20type%3A%20__typename%20...%20on%20LiveMedia%20%7B%20urn%20mediaType%20%7D%20...%20on%20Clip%20%7B%20urn%20mediaType%20durationInMilliseconds%20%7D%20...%20on%20ClipBundle%20%7B%20items(limit%3A%201)%20%7B%20__typename%20urn%20durationInMilliseconds%20%7D%20%7D%20%7D%20%7D%20...%20on%20ImageCollectionComponent%20%7B%20images%20%7B%20default%3A%20image(key%3A%20%22default%22)%20%7B%20type%3A%20__typename%20%7D%20%7D%20%7D%20...%20on%20RatingComponent%20%7B%20rating%20%7D%20%7D%20contributions(limit%3A%201)%20%7B%20agent%20%7B%20...%20on%20Person%20%7B%20name%20%7D%20%7D%20role%20%7D%20site%20%7B%20url%20urn%20title%20presentation%20%7B%20colors%20teaserImage%20%7B%20default%3A%20image(key%3A%20%22default%22)%20%7B%20url%20%7D%20%7D%20%7D%20%7D%20%7D%20fragment%20RecipeResultFields%20on%20Recipe%20%7B%20title%20url%20image%20%7B%20url%20%7D%20startDate%20%7D%20fragment%20UnknownSearchResultFields%20on%20UnknownSearchResult%20%7B%20title%20url%20label%20image%20%7B%20url%20width%20height%20%7D%20%7D%20fragment%20MusicArtistResultFields%20on%20MusicArtist%20%7B%20url%20name%20image%20%7B%20url%20width%20height%20%7D%20%7D%20query%20SearchPageDRDK(%24query%3A%20String!%20%24limit%3A%20Int!%20%24offset%3A%20Int!%20%24sort%3A%20SearchSort)%20%7B%20drdk%3A%20search(query%3A%20%24query%20logQuery%3A%20%24query%20limit%3A%20%24limit%20offset%3A%20%24offset%20products%3A%20%5B%22drdk%22%5D%20sort%3A%20%24sort)%20%7B%20totalCount%20results%3A%20nodes%20%7B%20type%3A%20__typename%20...%20on%20Article%20%7B%20...ArticleResultFields%20%7D%20...%20on%20Recipe%20%7B%20...RecipeResultFields%20%7D%20...%20on%20MusicArtist%20%7B%20...MusicArtistResultFields%20%7D%20...%20on%20UnknownSearchResult%20%7B%20...UnknownSearchResultFields%20%7D%20%7D%20spellCheck%20%7D%20%7D&variables=%7B%22query%22%3A%22c20%22%2C%22sort%22%3A%22Relevance%22%2C%22limit%22%3A10%2C%22offset%22%3A290%7D'\n",
    "headers = {'name':'Asta Thit Kettel', 'from':'ucph','email':'dnp@ku.dk'}\n",
    "response29 = requests.get(url29, headers)\n",
    "results29 = response29.json()\n",
    "result_articles29 = [{'urlPathId': article['urlPathId'], 'title': article['title']} for article in results29['data']['drdk']['results']]\n",
    "data29 = pd.DataFrame(result_articles29)"
   ]
  },
  {
   "cell_type": "code",
   "execution_count": 127,
   "id": "18aeae35-f1d7-4425-bde5-14c46c49e2e6",
   "metadata": {},
   "outputs": [],
   "source": [
    "url30 = f'https://www.dr.dk/tjenester/steffi/graphql?query=fragment%20ArticleResultFields%20on%20Article%20%7B%20type%3A%20__typename%20urn%20urlPathId%20title%20format%20publications%20%7B%20...on%20ArticlePublication%20%7B%20breaking%20live%20serviceChannel%20%7B%20urn%20%7D%20%7D%20%7D%20summary%20startDate%20teaserImage%20%7B%20default%20%7B%20url%20%7D%20%7D%20head%20%7B%20type%3A%20__typename%20...%20on%20MediaComponent%20%7B%20resource%20%7B%20type%3A%20__typename%20...%20on%20LiveMedia%20%7B%20urn%20mediaType%20%7D%20...%20on%20Clip%20%7B%20urn%20mediaType%20durationInMilliseconds%20%7D%20...%20on%20ClipBundle%20%7B%20items(limit%3A%201)%20%7B%20__typename%20urn%20durationInMilliseconds%20%7D%20%7D%20%7D%20%7D%20...%20on%20ImageCollectionComponent%20%7B%20images%20%7B%20default%3A%20image(key%3A%20%22default%22)%20%7B%20type%3A%20__typename%20%7D%20%7D%20%7D%20...%20on%20RatingComponent%20%7B%20rating%20%7D%20%7D%20contributions(limit%3A%201)%20%7B%20agent%20%7B%20...%20on%20Person%20%7B%20name%20%7D%20%7D%20role%20%7D%20site%20%7B%20url%20urn%20title%20presentation%20%7B%20colors%20teaserImage%20%7B%20default%3A%20image(key%3A%20%22default%22)%20%7B%20url%20%7D%20%7D%20%7D%20%7D%20%7D%20fragment%20RecipeResultFields%20on%20Recipe%20%7B%20title%20url%20image%20%7B%20url%20%7D%20startDate%20%7D%20fragment%20UnknownSearchResultFields%20on%20UnknownSearchResult%20%7B%20title%20url%20label%20image%20%7B%20url%20width%20height%20%7D%20%7D%20fragment%20MusicArtistResultFields%20on%20MusicArtist%20%7B%20url%20name%20image%20%7B%20url%20width%20height%20%7D%20%7D%20query%20SearchPageDRDK(%24query%3A%20String!%20%24limit%3A%20Int!%20%24offset%3A%20Int!%20%24sort%3A%20SearchSort)%20%7B%20drdk%3A%20search(query%3A%20%24query%20logQuery%3A%20%24query%20limit%3A%20%24limit%20offset%3A%20%24offset%20products%3A%20%5B%22drdk%22%5D%20sort%3A%20%24sort)%20%7B%20totalCount%20results%3A%20nodes%20%7B%20type%3A%20__typename%20...%20on%20Article%20%7B%20...ArticleResultFields%20%7D%20...%20on%20Recipe%20%7B%20...RecipeResultFields%20%7D%20...%20on%20MusicArtist%20%7B%20...MusicArtistResultFields%20%7D%20...%20on%20UnknownSearchResult%20%7B%20...UnknownSearchResultFields%20%7D%20%7D%20spellCheck%20%7D%20%7D&variables=%7B%22query%22%3A%22c20%22%2C%22sort%22%3A%22Relevance%22%2C%22limit%22%3A10%2C%22offset%22%3A300%7D'\n",
    "headers = {'name':'Asta Thit Kettel', 'from':'ucph','email':'dnp@ku.dk'}\n",
    "response30 = requests.get(url30, headers)\n",
    "results30 = response30.json()\n",
    "result_articles30 = [{'urlPathId': article['urlPathId'], 'title': article['title']} for article in results30['data']['drdk']['results']]\n",
    "data30 = pd.DataFrame(result_articles30)\n"
   ]
  },
  {
   "cell_type": "code",
   "execution_count": 128,
   "id": "356156b7-f53a-40d7-8590-4ef86da73319",
   "metadata": {},
   "outputs": [],
   "source": [
    "url31 = f'https://www.dr.dk/tjenester/steffi/graphql?query=fragment%20ArticleResultFields%20on%20Article%20%7B%20type%3A%20__typename%20urn%20urlPathId%20title%20format%20publications%20%7B%20...on%20ArticlePublication%20%7B%20breaking%20live%20serviceChannel%20%7B%20urn%20%7D%20%7D%20%7D%20summary%20startDate%20teaserImage%20%7B%20default%20%7B%20url%20%7D%20%7D%20head%20%7B%20type%3A%20__typename%20...%20on%20MediaComponent%20%7B%20resource%20%7B%20type%3A%20__typename%20...%20on%20LiveMedia%20%7B%20urn%20mediaType%20%7D%20...%20on%20Clip%20%7B%20urn%20mediaType%20durationInMilliseconds%20%7D%20...%20on%20ClipBundle%20%7B%20items(limit%3A%201)%20%7B%20__typename%20urn%20durationInMilliseconds%20%7D%20%7D%20%7D%20%7D%20...%20on%20ImageCollectionComponent%20%7B%20images%20%7B%20default%3A%20image(key%3A%20%22default%22)%20%7B%20type%3A%20__typename%20%7D%20%7D%20%7D%20...%20on%20RatingComponent%20%7B%20rating%20%7D%20%7D%20contributions(limit%3A%201)%20%7B%20agent%20%7B%20...%20on%20Person%20%7B%20name%20%7D%20%7D%20role%20%7D%20site%20%7B%20url%20urn%20title%20presentation%20%7B%20colors%20teaserImage%20%7B%20default%3A%20image(key%3A%20%22default%22)%20%7B%20url%20%7D%20%7D%20%7D%20%7D%20%7D%20fragment%20RecipeResultFields%20on%20Recipe%20%7B%20title%20url%20image%20%7B%20url%20%7D%20startDate%20%7D%20fragment%20UnknownSearchResultFields%20on%20UnknownSearchResult%20%7B%20title%20url%20label%20image%20%7B%20url%20width%20height%20%7D%20%7D%20fragment%20MusicArtistResultFields%20on%20MusicArtist%20%7B%20url%20name%20image%20%7B%20url%20width%20height%20%7D%20%7D%20query%20SearchPageDRDK(%24query%3A%20String!%20%24limit%3A%20Int!%20%24offset%3A%20Int!%20%24sort%3A%20SearchSort)%20%7B%20drdk%3A%20search(query%3A%20%24query%20logQuery%3A%20%24query%20limit%3A%20%24limit%20offset%3A%20%24offset%20products%3A%20%5B%22drdk%22%5D%20sort%3A%20%24sort)%20%7B%20totalCount%20results%3A%20nodes%20%7B%20type%3A%20__typename%20...%20on%20Article%20%7B%20...ArticleResultFields%20%7D%20...%20on%20Recipe%20%7B%20...RecipeResultFields%20%7D%20...%20on%20MusicArtist%20%7B%20...MusicArtistResultFields%20%7D%20...%20on%20UnknownSearchResult%20%7B%20...UnknownSearchResultFields%20%7D%20%7D%20spellCheck%20%7D%20%7D&variables=%7B%22query%22%3A%22c20%22%2C%22sort%22%3A%22Relevance%22%2C%22limit%22%3A10%2C%22offset%22%3A310%7D'\n",
    "headers = {'name':'Asta Thit Kettel', 'from':'ucph','email':'dnp@ku.dk'}\n",
    "response31 = requests.get(url31, headers)\n",
    "results31 = response31.json()\n",
    "result_articles31 = [{'urlPathId': article['urlPathId'], 'title': article['title']} for article in results31['data']['drdk']['results']]\n",
    "data31 = pd.DataFrame(result_articles31)\n"
   ]
  },
  {
   "cell_type": "code",
   "execution_count": 129,
   "id": "f7d4afdd-8258-4586-ad9d-ed035d5cbe6d",
   "metadata": {},
   "outputs": [],
   "source": [
    "url32 = f'https://www.dr.dk/tjenester/steffi/graphql?query=fragment%20ArticleResultFields%20on%20Article%20%7B%20type%3A%20__typename%20urn%20urlPathId%20title%20format%20publications%20%7B%20...on%20ArticlePublication%20%7B%20breaking%20live%20serviceChannel%20%7B%20urn%20%7D%20%7D%20%7D%20summary%20startDate%20teaserImage%20%7B%20default%20%7B%20url%20%7D%20%7D%20head%20%7B%20type%3A%20__typename%20...%20on%20MediaComponent%20%7B%20resource%20%7B%20type%3A%20__typename%20...%20on%20LiveMedia%20%7B%20urn%20mediaType%20%7D%20...%20on%20Clip%20%7B%20urn%20mediaType%20durationInMilliseconds%20%7D%20...%20on%20ClipBundle%20%7B%20items(limit%3A%201)%20%7B%20__typename%20urn%20durationInMilliseconds%20%7D%20%7D%20%7D%20%7D%20...%20on%20ImageCollectionComponent%20%7B%20images%20%7B%20default%3A%20image(key%3A%20%22default%22)%20%7B%20type%3A%20__typename%20%7D%20%7D%20%7D%20...%20on%20RatingComponent%20%7B%20rating%20%7D%20%7D%20contributions(limit%3A%201)%20%7B%20agent%20%7B%20...%20on%20Person%20%7B%20name%20%7D%20%7D%20role%20%7D%20site%20%7B%20url%20urn%20title%20presentation%20%7B%20colors%20teaserImage%20%7B%20default%3A%20image(key%3A%20%22default%22)%20%7B%20url%20%7D%20%7D%20%7D%20%7D%20%7D%20fragment%20RecipeResultFields%20on%20Recipe%20%7B%20title%20url%20image%20%7B%20url%20%7D%20startDate%20%7D%20fragment%20UnknownSearchResultFields%20on%20UnknownSearchResult%20%7B%20title%20url%20label%20image%20%7B%20url%20width%20height%20%7D%20%7D%20fragment%20MusicArtistResultFields%20on%20MusicArtist%20%7B%20url%20name%20image%20%7B%20url%20width%20height%20%7D%20%7D%20query%20SearchPageDRDK(%24query%3A%20String!%20%24limit%3A%20Int!%20%24offset%3A%20Int!%20%24sort%3A%20SearchSort)%20%7B%20drdk%3A%20search(query%3A%20%24query%20logQuery%3A%20%24query%20limit%3A%20%24limit%20offset%3A%20%24offset%20products%3A%20%5B%22drdk%22%5D%20sort%3A%20%24sort)%20%7B%20totalCount%20results%3A%20nodes%20%7B%20type%3A%20__typename%20...%20on%20Article%20%7B%20...ArticleResultFields%20%7D%20...%20on%20Recipe%20%7B%20...RecipeResultFields%20%7D%20...%20on%20MusicArtist%20%7B%20...MusicArtistResultFields%20%7D%20...%20on%20UnknownSearchResult%20%7B%20...UnknownSearchResultFields%20%7D%20%7D%20spellCheck%20%7D%20%7D&variables=%7B%22query%22%3A%22c20%22%2C%22sort%22%3A%22Relevance%22%2C%22limit%22%3A10%2C%22offset%22%3A320%7D'\n",
    "headers = {'name':'Asta Thit Kettel', 'from':'ucph','email':'dnp@ku.dk'}\n",
    "response32 = requests.get(url32, headers)\n",
    "results32 = response32.json()\n",
    "result_articles32 = [{'urlPathId': article['urlPathId'], 'title': article['title']} for article in results32['data']['drdk']['results']]\n",
    "data32 = pd.DataFrame(result_articles32)"
   ]
  },
  {
   "cell_type": "code",
   "execution_count": 130,
   "id": "639ddbed-87c0-42d0-ab04-ca43f5f22979",
   "metadata": {},
   "outputs": [],
   "source": [
    "url33 = f'https://www.dr.dk/tjenester/steffi/graphql?query=fragment%20ArticleResultFields%20on%20Article%20%7B%20type%3A%20__typename%20urn%20urlPathId%20title%20format%20publications%20%7B%20...on%20ArticlePublication%20%7B%20breaking%20live%20serviceChannel%20%7B%20urn%20%7D%20%7D%20%7D%20summary%20startDate%20teaserImage%20%7B%20default%20%7B%20url%20%7D%20%7D%20head%20%7B%20type%3A%20__typename%20...%20on%20MediaComponent%20%7B%20resource%20%7B%20type%3A%20__typename%20...%20on%20LiveMedia%20%7B%20urn%20mediaType%20%7D%20...%20on%20Clip%20%7B%20urn%20mediaType%20durationInMilliseconds%20%7D%20...%20on%20ClipBundle%20%7B%20items(limit%3A%201)%20%7B%20__typename%20urn%20durationInMilliseconds%20%7D%20%7D%20%7D%20%7D%20...%20on%20ImageCollectionComponent%20%7B%20images%20%7B%20default%3A%20image(key%3A%20%22default%22)%20%7B%20type%3A%20__typename%20%7D%20%7D%20%7D%20...%20on%20RatingComponent%20%7B%20rating%20%7D%20%7D%20contributions(limit%3A%201)%20%7B%20agent%20%7B%20...%20on%20Person%20%7B%20name%20%7D%20%7D%20role%20%7D%20site%20%7B%20url%20urn%20title%20presentation%20%7B%20colors%20teaserImage%20%7B%20default%3A%20image(key%3A%20%22default%22)%20%7B%20url%20%7D%20%7D%20%7D%20%7D%20%7D%20fragment%20RecipeResultFields%20on%20Recipe%20%7B%20title%20url%20image%20%7B%20url%20%7D%20startDate%20%7D%20fragment%20UnknownSearchResultFields%20on%20UnknownSearchResult%20%7B%20title%20url%20label%20image%20%7B%20url%20width%20height%20%7D%20%7D%20fragment%20MusicArtistResultFields%20on%20MusicArtist%20%7B%20url%20name%20image%20%7B%20url%20width%20height%20%7D%20%7D%20query%20SearchPageDRDK(%24query%3A%20String!%20%24limit%3A%20Int!%20%24offset%3A%20Int!%20%24sort%3A%20SearchSort)%20%7B%20drdk%3A%20search(query%3A%20%24query%20logQuery%3A%20%24query%20limit%3A%20%24limit%20offset%3A%20%24offset%20products%3A%20%5B%22drdk%22%5D%20sort%3A%20%24sort)%20%7B%20totalCount%20results%3A%20nodes%20%7B%20type%3A%20__typename%20...%20on%20Article%20%7B%20...ArticleResultFields%20%7D%20...%20on%20Recipe%20%7B%20...RecipeResultFields%20%7D%20...%20on%20MusicArtist%20%7B%20...MusicArtistResultFields%20%7D%20...%20on%20UnknownSearchResult%20%7B%20...UnknownSearchResultFields%20%7D%20%7D%20spellCheck%20%7D%20%7D&variables=%7B%22query%22%3A%22c20%22%2C%22sort%22%3A%22Relevance%22%2C%22limit%22%3A10%2C%22offset%22%3A330%7D'\n",
    "headers = {'name':'Asta Thit Kettel', 'from':'ucph','email':'dnp@ku.dk'}\n",
    "response33 = requests.get(url33, headers)\n",
    "results33 = response33.json()\n",
    "result_articles33 = [{'urlPathId': article['urlPathId'], 'title': article['title']} for article in results33['data']['drdk']['results']]\n",
    "data33 = pd.DataFrame(result_articles33)"
   ]
  },
  {
   "cell_type": "code",
   "execution_count": 131,
   "id": "5474d356-2d4c-43ff-ab43-460f44d36577",
   "metadata": {},
   "outputs": [],
   "source": [
    "url34 = f'https://www.dr.dk/tjenester/steffi/graphql?query=fragment%20ArticleResultFields%20on%20Article%20%7B%20type%3A%20__typename%20urn%20urlPathId%20title%20format%20publications%20%7B%20...on%20ArticlePublication%20%7B%20breaking%20live%20serviceChannel%20%7B%20urn%20%7D%20%7D%20%7D%20summary%20startDate%20teaserImage%20%7B%20default%20%7B%20url%20%7D%20%7D%20head%20%7B%20type%3A%20__typename%20...%20on%20MediaComponent%20%7B%20resource%20%7B%20type%3A%20__typename%20...%20on%20LiveMedia%20%7B%20urn%20mediaType%20%7D%20...%20on%20Clip%20%7B%20urn%20mediaType%20durationInMilliseconds%20%7D%20...%20on%20ClipBundle%20%7B%20items(limit%3A%201)%20%7B%20__typename%20urn%20durationInMilliseconds%20%7D%20%7D%20%7D%20%7D%20...%20on%20ImageCollectionComponent%20%7B%20images%20%7B%20default%3A%20image(key%3A%20%22default%22)%20%7B%20type%3A%20__typename%20%7D%20%7D%20%7D%20...%20on%20RatingComponent%20%7B%20rating%20%7D%20%7D%20contributions(limit%3A%201)%20%7B%20agent%20%7B%20...%20on%20Person%20%7B%20name%20%7D%20%7D%20role%20%7D%20site%20%7B%20url%20urn%20title%20presentation%20%7B%20colors%20teaserImage%20%7B%20default%3A%20image(key%3A%20%22default%22)%20%7B%20url%20%7D%20%7D%20%7D%20%7D%20%7D%20fragment%20RecipeResultFields%20on%20Recipe%20%7B%20title%20url%20image%20%7B%20url%20%7D%20startDate%20%7D%20fragment%20UnknownSearchResultFields%20on%20UnknownSearchResult%20%7B%20title%20url%20label%20image%20%7B%20url%20width%20height%20%7D%20%7D%20fragment%20MusicArtistResultFields%20on%20MusicArtist%20%7B%20url%20name%20image%20%7B%20url%20width%20height%20%7D%20%7D%20query%20SearchPageDRDK(%24query%3A%20String!%20%24limit%3A%20Int!%20%24offset%3A%20Int!%20%24sort%3A%20SearchSort)%20%7B%20drdk%3A%20search(query%3A%20%24query%20logQuery%3A%20%24query%20limit%3A%20%24limit%20offset%3A%20%24offset%20products%3A%20%5B%22drdk%22%5D%20sort%3A%20%24sort)%20%7B%20totalCount%20results%3A%20nodes%20%7B%20type%3A%20__typename%20...%20on%20Article%20%7B%20...ArticleResultFields%20%7D%20...%20on%20Recipe%20%7B%20...RecipeResultFields%20%7D%20...%20on%20MusicArtist%20%7B%20...MusicArtistResultFields%20%7D%20...%20on%20UnknownSearchResult%20%7B%20...UnknownSearchResultFields%20%7D%20%7D%20spellCheck%20%7D%20%7D&variables=%7B%22query%22%3A%22c20%22%2C%22sort%22%3A%22Relevance%22%2C%22limit%22%3A10%2C%22offset%22%3A340%7D'\n",
    "headers = {'name':'Asta Thit Kettel', 'from':'ucph','email':'dnp@ku.dk'}\n",
    "response34 = requests.get(url34, headers)\n",
    "results34 = response34.json()\n",
    "result_articles34 = [{'urlPathId': article['urlPathId'], 'title': article['title']} for article in results34['data']['drdk']['results']]\n",
    "data34 = pd.DataFrame(result_articles34)"
   ]
  },
  {
   "cell_type": "code",
   "execution_count": 132,
   "id": "4e8cf5b0-4b61-491d-a084-643bc50fd406",
   "metadata": {},
   "outputs": [],
   "source": [
    "url35 = f'https://www.dr.dk/tjenester/steffi/graphql?query=fragment%20ArticleResultFields%20on%20Article%20%7B%20type%3A%20__typename%20urn%20urlPathId%20title%20format%20publications%20%7B%20...on%20ArticlePublication%20%7B%20breaking%20live%20serviceChannel%20%7B%20urn%20%7D%20%7D%20%7D%20summary%20startDate%20teaserImage%20%7B%20default%20%7B%20url%20%7D%20%7D%20head%20%7B%20type%3A%20__typename%20...%20on%20MediaComponent%20%7B%20resource%20%7B%20type%3A%20__typename%20...%20on%20LiveMedia%20%7B%20urn%20mediaType%20%7D%20...%20on%20Clip%20%7B%20urn%20mediaType%20durationInMilliseconds%20%7D%20...%20on%20ClipBundle%20%7B%20items(limit%3A%201)%20%7B%20__typename%20urn%20durationInMilliseconds%20%7D%20%7D%20%7D%20%7D%20...%20on%20ImageCollectionComponent%20%7B%20images%20%7B%20default%3A%20image(key%3A%20%22default%22)%20%7B%20type%3A%20__typename%20%7D%20%7D%20%7D%20...%20on%20RatingComponent%20%7B%20rating%20%7D%20%7D%20contributions(limit%3A%201)%20%7B%20agent%20%7B%20...%20on%20Person%20%7B%20name%20%7D%20%7D%20role%20%7D%20site%20%7B%20url%20urn%20title%20presentation%20%7B%20colors%20teaserImage%20%7B%20default%3A%20image(key%3A%20%22default%22)%20%7B%20url%20%7D%20%7D%20%7D%20%7D%20%7D%20fragment%20RecipeResultFields%20on%20Recipe%20%7B%20title%20url%20image%20%7B%20url%20%7D%20startDate%20%7D%20fragment%20UnknownSearchResultFields%20on%20UnknownSearchResult%20%7B%20title%20url%20label%20image%20%7B%20url%20width%20height%20%7D%20%7D%20fragment%20MusicArtistResultFields%20on%20MusicArtist%20%7B%20url%20name%20image%20%7B%20url%20width%20height%20%7D%20%7D%20query%20SearchPageDRDK(%24query%3A%20String!%20%24limit%3A%20Int!%20%24offset%3A%20Int!%20%24sort%3A%20SearchSort)%20%7B%20drdk%3A%20search(query%3A%20%24query%20logQuery%3A%20%24query%20limit%3A%20%24limit%20offset%3A%20%24offset%20products%3A%20%5B%22drdk%22%5D%20sort%3A%20%24sort)%20%7B%20totalCount%20results%3A%20nodes%20%7B%20type%3A%20__typename%20...%20on%20Article%20%7B%20...ArticleResultFields%20%7D%20...%20on%20Recipe%20%7B%20...RecipeResultFields%20%7D%20...%20on%20MusicArtist%20%7B%20...MusicArtistResultFields%20%7D%20...%20on%20UnknownSearchResult%20%7B%20...UnknownSearchResultFields%20%7D%20%7D%20spellCheck%20%7D%20%7D&variables=%7B%22query%22%3A%22c20%22%2C%22sort%22%3A%22Relevance%22%2C%22limit%22%3A10%2C%22offset%22%3A350%7D'\n",
    "headers = {'name':'Asta Thit Kettel', 'from':'ucph','email':'dnp@ku.dk'}\n",
    "response35 = requests.get(url35, headers)\n",
    "results35 = response35.json()\n",
    "result_articles35 = [{'urlPathId': article['urlPathId'], 'title': article['title']} for article in results35['data']['drdk']['results']]\n",
    "data35 = pd.DataFrame(result_articles35)"
   ]
  },
  {
   "cell_type": "code",
   "execution_count": 133,
   "id": "387f8038-9cd2-429a-a392-a7912f35e147",
   "metadata": {},
   "outputs": [],
   "source": [
    "url36 = f'https://www.dr.dk/tjenester/steffi/graphql?query=fragment%20ArticleResultFields%20on%20Article%20%7B%20type%3A%20__typename%20urn%20urlPathId%20title%20format%20publications%20%7B%20...on%20ArticlePublication%20%7B%20breaking%20live%20serviceChannel%20%7B%20urn%20%7D%20%7D%20%7D%20summary%20startDate%20teaserImage%20%7B%20default%20%7B%20url%20%7D%20%7D%20head%20%7B%20type%3A%20__typename%20...%20on%20MediaComponent%20%7B%20resource%20%7B%20type%3A%20__typename%20...%20on%20LiveMedia%20%7B%20urn%20mediaType%20%7D%20...%20on%20Clip%20%7B%20urn%20mediaType%20durationInMilliseconds%20%7D%20...%20on%20ClipBundle%20%7B%20items(limit%3A%201)%20%7B%20__typename%20urn%20durationInMilliseconds%20%7D%20%7D%20%7D%20%7D%20...%20on%20ImageCollectionComponent%20%7B%20images%20%7B%20default%3A%20image(key%3A%20%22default%22)%20%7B%20type%3A%20__typename%20%7D%20%7D%20%7D%20...%20on%20RatingComponent%20%7B%20rating%20%7D%20%7D%20contributions(limit%3A%201)%20%7B%20agent%20%7B%20...%20on%20Person%20%7B%20name%20%7D%20%7D%20role%20%7D%20site%20%7B%20url%20urn%20title%20presentation%20%7B%20colors%20teaserImage%20%7B%20default%3A%20image(key%3A%20%22default%22)%20%7B%20url%20%7D%20%7D%20%7D%20%7D%20%7D%20fragment%20RecipeResultFields%20on%20Recipe%20%7B%20title%20url%20image%20%7B%20url%20%7D%20startDate%20%7D%20fragment%20UnknownSearchResultFields%20on%20UnknownSearchResult%20%7B%20title%20url%20label%20image%20%7B%20url%20width%20height%20%7D%20%7D%20fragment%20MusicArtistResultFields%20on%20MusicArtist%20%7B%20url%20name%20image%20%7B%20url%20width%20height%20%7D%20%7D%20query%20SearchPageDRDK(%24query%3A%20String!%20%24limit%3A%20Int!%20%24offset%3A%20Int!%20%24sort%3A%20SearchSort)%20%7B%20drdk%3A%20search(query%3A%20%24query%20logQuery%3A%20%24query%20limit%3A%20%24limit%20offset%3A%20%24offset%20products%3A%20%5B%22drdk%22%5D%20sort%3A%20%24sort)%20%7B%20totalCount%20results%3A%20nodes%20%7B%20type%3A%20__typename%20...%20on%20Article%20%7B%20...ArticleResultFields%20%7D%20...%20on%20Recipe%20%7B%20...RecipeResultFields%20%7D%20...%20on%20MusicArtist%20%7B%20...MusicArtistResultFields%20%7D%20...%20on%20UnknownSearchResult%20%7B%20...UnknownSearchResultFields%20%7D%20%7D%20spellCheck%20%7D%20%7D&variables=%7B%22query%22%3A%22c20%22%2C%22sort%22%3A%22Relevance%22%2C%22limit%22%3A10%2C%22offset%22%3A360%7D'\n",
    "headers = {'name':'Asta Thit Kettel', 'from':'ucph','email':'dnp@ku.dk'}\n",
    "response36 = requests.get(url36, headers)\n",
    "results36 = response36.json()\n",
    "result_articles36 = [{'urlPathId': article['urlPathId'], 'title': article['title']} for article in results36['data']['drdk']['results']]\n",
    "data36 = pd.DataFrame(result_articles36)"
   ]
  },
  {
   "cell_type": "code",
   "execution_count": 134,
   "id": "21f9d3b0-9d3b-4922-9e9b-9824e65617fd",
   "metadata": {},
   "outputs": [],
   "source": [
    "url37 = f'https://www.dr.dk/tjenester/steffi/graphql?query=fragment%20ArticleResultFields%20on%20Article%20%7B%20type%3A%20__typename%20urn%20urlPathId%20title%20format%20publications%20%7B%20...on%20ArticlePublication%20%7B%20breaking%20live%20serviceChannel%20%7B%20urn%20%7D%20%7D%20%7D%20summary%20startDate%20teaserImage%20%7B%20default%20%7B%20url%20%7D%20%7D%20head%20%7B%20type%3A%20__typename%20...%20on%20MediaComponent%20%7B%20resource%20%7B%20type%3A%20__typename%20...%20on%20LiveMedia%20%7B%20urn%20mediaType%20%7D%20...%20on%20Clip%20%7B%20urn%20mediaType%20durationInMilliseconds%20%7D%20...%20on%20ClipBundle%20%7B%20items(limit%3A%201)%20%7B%20__typename%20urn%20durationInMilliseconds%20%7D%20%7D%20%7D%20%7D%20...%20on%20ImageCollectionComponent%20%7B%20images%20%7B%20default%3A%20image(key%3A%20%22default%22)%20%7B%20type%3A%20__typename%20%7D%20%7D%20%7D%20...%20on%20RatingComponent%20%7B%20rating%20%7D%20%7D%20contributions(limit%3A%201)%20%7B%20agent%20%7B%20...%20on%20Person%20%7B%20name%20%7D%20%7D%20role%20%7D%20site%20%7B%20url%20urn%20title%20presentation%20%7B%20colors%20teaserImage%20%7B%20default%3A%20image(key%3A%20%22default%22)%20%7B%20url%20%7D%20%7D%20%7D%20%7D%20%7D%20fragment%20RecipeResultFields%20on%20Recipe%20%7B%20title%20url%20image%20%7B%20url%20%7D%20startDate%20%7D%20fragment%20UnknownSearchResultFields%20on%20UnknownSearchResult%20%7B%20title%20url%20label%20image%20%7B%20url%20width%20height%20%7D%20%7D%20fragment%20MusicArtistResultFields%20on%20MusicArtist%20%7B%20url%20name%20image%20%7B%20url%20width%20height%20%7D%20%7D%20query%20SearchPageDRDK(%24query%3A%20String!%20%24limit%3A%20Int!%20%24offset%3A%20Int!%20%24sort%3A%20SearchSort)%20%7B%20drdk%3A%20search(query%3A%20%24query%20logQuery%3A%20%24query%20limit%3A%20%24limit%20offset%3A%20%24offset%20products%3A%20%5B%22drdk%22%5D%20sort%3A%20%24sort)%20%7B%20totalCount%20results%3A%20nodes%20%7B%20type%3A%20__typename%20...%20on%20Article%20%7B%20...ArticleResultFields%20%7D%20...%20on%20Recipe%20%7B%20...RecipeResultFields%20%7D%20...%20on%20MusicArtist%20%7B%20...MusicArtistResultFields%20%7D%20...%20on%20UnknownSearchResult%20%7B%20...UnknownSearchResultFields%20%7D%20%7D%20spellCheck%20%7D%20%7D&variables=%7B%22query%22%3A%22c20%22%2C%22sort%22%3A%22Relevance%22%2C%22limit%22%3A10%2C%22offset%22%3A370%7D'\n",
    "headers = {'name':'Asta Thit Kettel', 'from':'ucph','email':'dnp@ku.dk'}\n",
    "response37 = requests.get(url37, headers)\n",
    "results37 = response37.json()\n",
    "result_articles37 = [{'urlPathId': article['urlPathId'], 'title': article['title']} for article in results37['data']['drdk']['results']]\n",
    "data37 = pd.DataFrame(result_articles37)"
   ]
  },
  {
   "cell_type": "code",
   "execution_count": 135,
   "id": "c422ae0f-74d9-4adb-ba40-32133027bd35",
   "metadata": {},
   "outputs": [],
   "source": [
    "url38 = f'https://www.dr.dk/tjenester/steffi/graphql?query=fragment%20ArticleResultFields%20on%20Article%20%7B%20type%3A%20__typename%20urn%20urlPathId%20title%20format%20publications%20%7B%20...on%20ArticlePublication%20%7B%20breaking%20live%20serviceChannel%20%7B%20urn%20%7D%20%7D%20%7D%20summary%20startDate%20teaserImage%20%7B%20default%20%7B%20url%20%7D%20%7D%20head%20%7B%20type%3A%20__typename%20...%20on%20MediaComponent%20%7B%20resource%20%7B%20type%3A%20__typename%20...%20on%20LiveMedia%20%7B%20urn%20mediaType%20%7D%20...%20on%20Clip%20%7B%20urn%20mediaType%20durationInMilliseconds%20%7D%20...%20on%20ClipBundle%20%7B%20items(limit%3A%201)%20%7B%20__typename%20urn%20durationInMilliseconds%20%7D%20%7D%20%7D%20%7D%20...%20on%20ImageCollectionComponent%20%7B%20images%20%7B%20default%3A%20image(key%3A%20%22default%22)%20%7B%20type%3A%20__typename%20%7D%20%7D%20%7D%20...%20on%20RatingComponent%20%7B%20rating%20%7D%20%7D%20contributions(limit%3A%201)%20%7B%20agent%20%7B%20...%20on%20Person%20%7B%20name%20%7D%20%7D%20role%20%7D%20site%20%7B%20url%20urn%20title%20presentation%20%7B%20colors%20teaserImage%20%7B%20default%3A%20image(key%3A%20%22default%22)%20%7B%20url%20%7D%20%7D%20%7D%20%7D%20%7D%20fragment%20RecipeResultFields%20on%20Recipe%20%7B%20title%20url%20image%20%7B%20url%20%7D%20startDate%20%7D%20fragment%20UnknownSearchResultFields%20on%20UnknownSearchResult%20%7B%20title%20url%20label%20image%20%7B%20url%20width%20height%20%7D%20%7D%20fragment%20MusicArtistResultFields%20on%20MusicArtist%20%7B%20url%20name%20image%20%7B%20url%20width%20height%20%7D%20%7D%20query%20SearchPageDRDK(%24query%3A%20String!%20%24limit%3A%20Int!%20%24offset%3A%20Int!%20%24sort%3A%20SearchSort)%20%7B%20drdk%3A%20search(query%3A%20%24query%20logQuery%3A%20%24query%20limit%3A%20%24limit%20offset%3A%20%24offset%20products%3A%20%5B%22drdk%22%5D%20sort%3A%20%24sort)%20%7B%20totalCount%20results%3A%20nodes%20%7B%20type%3A%20__typename%20...%20on%20Article%20%7B%20...ArticleResultFields%20%7D%20...%20on%20Recipe%20%7B%20...RecipeResultFields%20%7D%20...%20on%20MusicArtist%20%7B%20...MusicArtistResultFields%20%7D%20...%20on%20UnknownSearchResult%20%7B%20...UnknownSearchResultFields%20%7D%20%7D%20spellCheck%20%7D%20%7D&variables=%7B%22query%22%3A%22c20%22%2C%22sort%22%3A%22Relevance%22%2C%22limit%22%3A10%2C%22offset%22%3A380%7D'\n",
    "headers = {'name':'Asta Thit Kettel', 'from':'ucph','email':'dnp@ku.dk'}\n",
    "response38 = requests.get(url38, headers)\n",
    "results38 = response38.json()\n",
    "result_articles38 = [{'urlPathId': article['urlPathId'], 'title': article['title']} for article in results38['data']['drdk']['results']]\n",
    "data38 = pd.DataFrame(result_articles38)\n"
   ]
  },
  {
   "cell_type": "code",
   "execution_count": 136,
   "id": "9d2b0ae7-80e8-4435-bd4e-ee2e822f0081",
   "metadata": {},
   "outputs": [],
   "source": [
    "url39 = f'https://www.dr.dk/tjenester/steffi/graphql?query=fragment%20ArticleResultFields%20on%20Article%20%7B%20type%3A%20__typename%20urn%20urlPathId%20title%20format%20publications%20%7B%20...on%20ArticlePublication%20%7B%20breaking%20live%20serviceChannel%20%7B%20urn%20%7D%20%7D%20%7D%20summary%20startDate%20teaserImage%20%7B%20default%20%7B%20url%20%7D%20%7D%20head%20%7B%20type%3A%20__typename%20...%20on%20MediaComponent%20%7B%20resource%20%7B%20type%3A%20__typename%20...%20on%20LiveMedia%20%7B%20urn%20mediaType%20%7D%20...%20on%20Clip%20%7B%20urn%20mediaType%20durationInMilliseconds%20%7D%20...%20on%20ClipBundle%20%7B%20items(limit%3A%201)%20%7B%20__typename%20urn%20durationInMilliseconds%20%7D%20%7D%20%7D%20%7D%20...%20on%20ImageCollectionComponent%20%7B%20images%20%7B%20default%3A%20image(key%3A%20%22default%22)%20%7B%20type%3A%20__typename%20%7D%20%7D%20%7D%20...%20on%20RatingComponent%20%7B%20rating%20%7D%20%7D%20contributions(limit%3A%201)%20%7B%20agent%20%7B%20...%20on%20Person%20%7B%20name%20%7D%20%7D%20role%20%7D%20site%20%7B%20url%20urn%20title%20presentation%20%7B%20colors%20teaserImage%20%7B%20default%3A%20image(key%3A%20%22default%22)%20%7B%20url%20%7D%20%7D%20%7D%20%7D%20%7D%20fragment%20RecipeResultFields%20on%20Recipe%20%7B%20title%20url%20image%20%7B%20url%20%7D%20startDate%20%7D%20fragment%20UnknownSearchResultFields%20on%20UnknownSearchResult%20%7B%20title%20url%20label%20image%20%7B%20url%20width%20height%20%7D%20%7D%20fragment%20MusicArtistResultFields%20on%20MusicArtist%20%7B%20url%20name%20image%20%7B%20url%20width%20height%20%7D%20%7D%20query%20SearchPageDRDK(%24query%3A%20String!%20%24limit%3A%20Int!%20%24offset%3A%20Int!%20%24sort%3A%20SearchSort)%20%7B%20drdk%3A%20search(query%3A%20%24query%20logQuery%3A%20%24query%20limit%3A%20%24limit%20offset%3A%20%24offset%20products%3A%20%5B%22drdk%22%5D%20sort%3A%20%24sort)%20%7B%20totalCount%20results%3A%20nodes%20%7B%20type%3A%20__typename%20...%20on%20Article%20%7B%20...ArticleResultFields%20%7D%20...%20on%20Recipe%20%7B%20...RecipeResultFields%20%7D%20...%20on%20MusicArtist%20%7B%20...MusicArtistResultFields%20%7D%20...%20on%20UnknownSearchResult%20%7B%20...UnknownSearchResultFields%20%7D%20%7D%20spellCheck%20%7D%20%7D&variables=%7B%22query%22%3A%22c20%22%2C%22sort%22%3A%22Relevance%22%2C%22limit%22%3A10%2C%22offset%22%3A390%7D'\n",
    "headers = {'name':'Asta Thit Kettel', 'from':'ucph','email':'dnp@ku.dk'}\n",
    "response39 = requests.get(url39, headers)\n",
    "results39 = response39.json()\n",
    "result_articles39 = [{'urlPathId': article['urlPathId'], 'title': article['title']} for article in results39['data']['drdk']['results']]\n",
    "data39 = pd.DataFrame(result_articles39)"
   ]
  },
  {
   "cell_type": "code",
   "execution_count": 137,
   "id": "5c0814d2-62c7-4de4-b4a2-18b242b9a017",
   "metadata": {},
   "outputs": [],
   "source": [
    "url40 = f'https://www.dr.dk/tjenester/steffi/graphql?query=fragment%20ArticleResultFields%20on%20Article%20%7B%20type%3A%20__typename%20urn%20urlPathId%20title%20format%20publications%20%7B%20...on%20ArticlePublication%20%7B%20breaking%20live%20serviceChannel%20%7B%20urn%20%7D%20%7D%20%7D%20summary%20startDate%20teaserImage%20%7B%20default%20%7B%20url%20%7D%20%7D%20head%20%7B%20type%3A%20__typename%20...%20on%20MediaComponent%20%7B%20resource%20%7B%20type%3A%20__typename%20...%20on%20LiveMedia%20%7B%20urn%20mediaType%20%7D%20...%20on%20Clip%20%7B%20urn%20mediaType%20durationInMilliseconds%20%7D%20...%20on%20ClipBundle%20%7B%20items(limit%3A%201)%20%7B%20__typename%20urn%20durationInMilliseconds%20%7D%20%7D%20%7D%20%7D%20...%20on%20ImageCollectionComponent%20%7B%20images%20%7B%20default%3A%20image(key%3A%20%22default%22)%20%7B%20type%3A%20__typename%20%7D%20%7D%20%7D%20...%20on%20RatingComponent%20%7B%20rating%20%7D%20%7D%20contributions(limit%3A%201)%20%7B%20agent%20%7B%20...%20on%20Person%20%7B%20name%20%7D%20%7D%20role%20%7D%20site%20%7B%20url%20urn%20title%20presentation%20%7B%20colors%20teaserImage%20%7B%20default%3A%20image(key%3A%20%22default%22)%20%7B%20url%20%7D%20%7D%20%7D%20%7D%20%7D%20fragment%20RecipeResultFields%20on%20Recipe%20%7B%20title%20url%20image%20%7B%20url%20%7D%20startDate%20%7D%20fragment%20UnknownSearchResultFields%20on%20UnknownSearchResult%20%7B%20title%20url%20label%20image%20%7B%20url%20width%20height%20%7D%20%7D%20fragment%20MusicArtistResultFields%20on%20MusicArtist%20%7B%20url%20name%20image%20%7B%20url%20width%20height%20%7D%20%7D%20query%20SearchPageDRDK(%24query%3A%20String!%20%24limit%3A%20Int!%20%24offset%3A%20Int!%20%24sort%3A%20SearchSort)%20%7B%20drdk%3A%20search(query%3A%20%24query%20logQuery%3A%20%24query%20limit%3A%20%24limit%20offset%3A%20%24offset%20products%3A%20%5B%22drdk%22%5D%20sort%3A%20%24sort)%20%7B%20totalCount%20results%3A%20nodes%20%7B%20type%3A%20__typename%20...%20on%20Article%20%7B%20...ArticleResultFields%20%7D%20...%20on%20Recipe%20%7B%20...RecipeResultFields%20%7D%20...%20on%20MusicArtist%20%7B%20...MusicArtistResultFields%20%7D%20...%20on%20UnknownSearchResult%20%7B%20...UnknownSearchResultFields%20%7D%20%7D%20spellCheck%20%7D%20%7D&variables=%7B%22query%22%3A%22c20%22%2C%22sort%22%3A%22Relevance%22%2C%22limit%22%3A10%2C%22offset%22%3A400%7D'\n",
    "headers = {'name':'Asta Thit Kettel', 'from':'ucph','email':'dnp@ku.dk'}\n",
    "response40 = requests.get(url40, headers)\n",
    "results40 = response40.json()\n",
    "result_articles40 = [{'urlPathId': article['urlPathId'], 'title': article['title']} for article in results40['data']['drdk']['results']]\n",
    "data40 = pd.DataFrame(result_articles40)"
   ]
  },
  {
   "cell_type": "code",
   "execution_count": 174,
   "id": "2b43143d-af18-42f9-a024-5ad705c54516",
   "metadata": {},
   "outputs": [],
   "source": [
    "url41 = f'https://www.dr.dk/tjenester/steffi/graphql?query=fragment%20ArticleResultFields%20on%20Article%20%7B%20type%3A%20__typename%20urn%20urlPathId%20title%20format%20publications%20%7B%20...on%20ArticlePublication%20%7B%20breaking%20live%20serviceChannel%20%7B%20urn%20%7D%20%7D%20%7D%20summary%20startDate%20teaserImage%20%7B%20default%20%7B%20url%20%7D%20%7D%20head%20%7B%20type%3A%20__typename%20...%20on%20MediaComponent%20%7B%20resource%20%7B%20type%3A%20__typename%20...%20on%20LiveMedia%20%7B%20urn%20mediaType%20%7D%20...%20on%20Clip%20%7B%20urn%20mediaType%20durationInMilliseconds%20%7D%20...%20on%20ClipBundle%20%7B%20items(limit%3A%201)%20%7B%20__typename%20urn%20durationInMilliseconds%20%7D%20%7D%20%7D%20%7D%20...%20on%20ImageCollectionComponent%20%7B%20images%20%7B%20default%3A%20image(key%3A%20%22default%22)%20%7B%20type%3A%20__typename%20%7D%20%7D%20%7D%20...%20on%20RatingComponent%20%7B%20rating%20%7D%20%7D%20contributions(limit%3A%201)%20%7B%20agent%20%7B%20...%20on%20Person%20%7B%20name%20%7D%20%7D%20role%20%7D%20site%20%7B%20url%20urn%20title%20presentation%20%7B%20colors%20teaserImage%20%7B%20default%3A%20image(key%3A%20%22default%22)%20%7B%20url%20%7D%20%7D%20%7D%20%7D%20%7D%20fragment%20RecipeResultFields%20on%20Recipe%20%7B%20title%20url%20image%20%7B%20url%20%7D%20startDate%20%7D%20fragment%20UnknownSearchResultFields%20on%20UnknownSearchResult%20%7B%20title%20url%20label%20image%20%7B%20url%20width%20height%20%7D%20%7D%20fragment%20MusicArtistResultFields%20on%20MusicArtist%20%7B%20url%20name%20image%20%7B%20url%20width%20height%20%7D%20%7D%20query%20SearchPageDRDK(%24query%3A%20String!%20%24limit%3A%20Int!%20%24offset%3A%20Int!%20%24sort%3A%20SearchSort)%20%7B%20drdk%3A%20search(query%3A%20%24query%20logQuery%3A%20%24query%20limit%3A%20%24limit%20offset%3A%20%24offset%20products%3A%20%5B%22drdk%22%5D%20sort%3A%20%24sort)%20%7B%20totalCount%20results%3A%20nodes%20%7B%20type%3A%20__typename%20...%20on%20Article%20%7B%20...ArticleResultFields%20%7D%20...%20on%20Recipe%20%7B%20...RecipeResultFields%20%7D%20...%20on%20MusicArtist%20%7B%20...MusicArtistResultFields%20%7D%20...%20on%20UnknownSearchResult%20%7B%20...UnknownSearchResultFields%20%7D%20%7D%20spellCheck%20%7D%20%7D&variables=%7B%22query%22%3A%22c20%22%2C%22sort%22%3A%22Relevance%22%2C%22limit%22%3A10%2C%22offset%22%3A700%7D'\n",
    "headers = {'name':'Asta Thit Kettel', 'from':'ucph','email':'dnp@ku.dk'}\n",
    "response41 = requests.get(url41, headers)\n",
    "results41 = response41.json()\n",
    "result_articles41 = [{'urlPathId': article['urlPathId'], 'title': article['title']} for article in results41['data']['drdk']['results']]\n",
    "data41 = pd.DataFrame(result_articles41)\n"
   ]
  },
  {
   "cell_type": "code",
   "execution_count": 139,
   "id": "a4c0f52d-f047-4cdf-8c6a-f476f196c707",
   "metadata": {},
   "outputs": [],
   "source": [
    "url42 = f'https://www.dr.dk/tjenester/steffi/graphql?query=fragment%20ArticleResultFields%20on%20Article%20%7B%20type%3A%20__typename%20urn%20urlPathId%20title%20format%20publications%20%7B%20...on%20ArticlePublication%20%7B%20breaking%20live%20serviceChannel%20%7B%20urn%20%7D%20%7D%20%7D%20summary%20startDate%20teaserImage%20%7B%20default%20%7B%20url%20%7D%20%7D%20head%20%7B%20type%3A%20__typename%20...%20on%20MediaComponent%20%7B%20resource%20%7B%20type%3A%20__typename%20...%20on%20LiveMedia%20%7B%20urn%20mediaType%20%7D%20...%20on%20Clip%20%7B%20urn%20mediaType%20durationInMilliseconds%20%7D%20...%20on%20ClipBundle%20%7B%20items(limit%3A%201)%20%7B%20__typename%20urn%20durationInMilliseconds%20%7D%20%7D%20%7D%20%7D%20...%20on%20ImageCollectionComponent%20%7B%20images%20%7B%20default%3A%20image(key%3A%20%22default%22)%20%7B%20type%3A%20__typename%20%7D%20%7D%20%7D%20...%20on%20RatingComponent%20%7B%20rating%20%7D%20%7D%20contributions(limit%3A%201)%20%7B%20agent%20%7B%20...%20on%20Person%20%7B%20name%20%7D%20%7D%20role%20%7D%20site%20%7B%20url%20urn%20title%20presentation%20%7B%20colors%20teaserImage%20%7B%20default%3A%20image(key%3A%20%22default%22)%20%7B%20url%20%7D%20%7D%20%7D%20%7D%20%7D%20fragment%20RecipeResultFields%20on%20Recipe%20%7B%20title%20url%20image%20%7B%20url%20%7D%20startDate%20%7D%20fragment%20UnknownSearchResultFields%20on%20UnknownSearchResult%20%7B%20title%20url%20label%20image%20%7B%20url%20width%20height%20%7D%20%7D%20fragment%20MusicArtistResultFields%20on%20MusicArtist%20%7B%20url%20name%20image%20%7B%20url%20width%20height%20%7D%20%7D%20query%20SearchPageDRDK(%24query%3A%20String!%20%24limit%3A%20Int!%20%24offset%3A%20Int!%20%24sort%3A%20SearchSort)%20%7B%20drdk%3A%20search(query%3A%20%24query%20logQuery%3A%20%24query%20limit%3A%20%24limit%20offset%3A%20%24offset%20products%3A%20%5B%22drdk%22%5D%20sort%3A%20%24sort)%20%7B%20totalCount%20results%3A%20nodes%20%7B%20type%3A%20__typename%20...%20on%20Article%20%7B%20...ArticleResultFields%20%7D%20...%20on%20Recipe%20%7B%20...RecipeResultFields%20%7D%20...%20on%20MusicArtist%20%7B%20...MusicArtistResultFields%20%7D%20...%20on%20UnknownSearchResult%20%7B%20...UnknownSearchResultFields%20%7D%20%7D%20spellCheck%20%7D%20%7D&variables=%7B%22query%22%3A%22c20%22%2C%22sort%22%3A%22Relevance%22%2C%22limit%22%3A10%2C%22offset%22%3A410%7D'\n",
    "headers = {'name':'Asta Thit Kettel', 'from':'ucph','email':'dnp@ku.dk'}\n",
    "response42 = requests.get(url42, headers)\n",
    "results42 = response42.json()\n",
    "result_articles42 = [{'urlPathId': article['urlPathId'], 'title': article['title']} for article in results42['data']['drdk']['results']]\n",
    "data42 = pd.DataFrame(result_articles42)"
   ]
  },
  {
   "cell_type": "code",
   "execution_count": 140,
   "id": "cda94cf8-c5b6-49d2-8df3-a261f70d7e91",
   "metadata": {},
   "outputs": [],
   "source": [
    "url43 = f'https://www.dr.dk/tjenester/steffi/graphql?query=fragment%20ArticleResultFields%20on%20Article%20%7B%20type%3A%20__typename%20urn%20urlPathId%20title%20format%20publications%20%7B%20...on%20ArticlePublication%20%7B%20breaking%20live%20serviceChannel%20%7B%20urn%20%7D%20%7D%20%7D%20summary%20startDate%20teaserImage%20%7B%20default%20%7B%20url%20%7D%20%7D%20head%20%7B%20type%3A%20__typename%20...%20on%20MediaComponent%20%7B%20resource%20%7B%20type%3A%20__typename%20...%20on%20LiveMedia%20%7B%20urn%20mediaType%20%7D%20...%20on%20Clip%20%7B%20urn%20mediaType%20durationInMilliseconds%20%7D%20...%20on%20ClipBundle%20%7B%20items(limit%3A%201)%20%7B%20__typename%20urn%20durationInMilliseconds%20%7D%20%7D%20%7D%20%7D%20...%20on%20ImageCollectionComponent%20%7B%20images%20%7B%20default%3A%20image(key%3A%20%22default%22)%20%7B%20type%3A%20__typename%20%7D%20%7D%20%7D%20...%20on%20RatingComponent%20%7B%20rating%20%7D%20%7D%20contributions(limit%3A%201)%20%7B%20agent%20%7B%20...%20on%20Person%20%7B%20name%20%7D%20%7D%20role%20%7D%20site%20%7B%20url%20urn%20title%20presentation%20%7B%20colors%20teaserImage%20%7B%20default%3A%20image(key%3A%20%22default%22)%20%7B%20url%20%7D%20%7D%20%7D%20%7D%20%7D%20fragment%20RecipeResultFields%20on%20Recipe%20%7B%20title%20url%20image%20%7B%20url%20%7D%20startDate%20%7D%20fragment%20UnknownSearchResultFields%20on%20UnknownSearchResult%20%7B%20title%20url%20label%20image%20%7B%20url%20width%20height%20%7D%20%7D%20fragment%20MusicArtistResultFields%20on%20MusicArtist%20%7B%20url%20name%20image%20%7B%20url%20width%20height%20%7D%20%7D%20query%20SearchPageDRDK(%24query%3A%20String!%20%24limit%3A%20Int!%20%24offset%3A%20Int!%20%24sort%3A%20SearchSort)%20%7B%20drdk%3A%20search(query%3A%20%24query%20logQuery%3A%20%24query%20limit%3A%20%24limit%20offset%3A%20%24offset%20products%3A%20%5B%22drdk%22%5D%20sort%3A%20%24sort)%20%7B%20totalCount%20results%3A%20nodes%20%7B%20type%3A%20__typename%20...%20on%20Article%20%7B%20...ArticleResultFields%20%7D%20...%20on%20Recipe%20%7B%20...RecipeResultFields%20%7D%20...%20on%20MusicArtist%20%7B%20...MusicArtistResultFields%20%7D%20...%20on%20UnknownSearchResult%20%7B%20...UnknownSearchResultFields%20%7D%20%7D%20spellCheck%20%7D%20%7D&variables=%7B%22query%22%3A%22c20%22%2C%22sort%22%3A%22Relevance%22%2C%22limit%22%3A10%2C%22offset%22%3A420%7D'\n",
    "headers = {'name':'Asta Thit Kettel', 'from':'ucph','email':'dnp@ku.dk'}\n",
    "response43 = requests.get(url43, headers)\n",
    "results43 = response43.json()\n",
    "result_articles43 = [{'urlPathId': article['urlPathId'], 'title': article['title']} for article in results43['data']['drdk']['results']]\n",
    "data43 = pd.DataFrame(result_articles43)"
   ]
  },
  {
   "cell_type": "code",
   "execution_count": 141,
   "id": "1229cc18-8bc8-45dc-a578-b2e9ee74b8c2",
   "metadata": {},
   "outputs": [],
   "source": [
    "url44 = f'https://www.dr.dk/tjenester/steffi/graphql?query=fragment%20ArticleResultFields%20on%20Article%20%7B%20type%3A%20__typename%20urn%20urlPathId%20title%20format%20publications%20%7B%20...on%20ArticlePublication%20%7B%20breaking%20live%20serviceChannel%20%7B%20urn%20%7D%20%7D%20%7D%20summary%20startDate%20teaserImage%20%7B%20default%20%7B%20url%20%7D%20%7D%20head%20%7B%20type%3A%20__typename%20...%20on%20MediaComponent%20%7B%20resource%20%7B%20type%3A%20__typename%20...%20on%20LiveMedia%20%7B%20urn%20mediaType%20%7D%20...%20on%20Clip%20%7B%20urn%20mediaType%20durationInMilliseconds%20%7D%20...%20on%20ClipBundle%20%7B%20items(limit%3A%201)%20%7B%20__typename%20urn%20durationInMilliseconds%20%7D%20%7D%20%7D%20%7D%20...%20on%20ImageCollectionComponent%20%7B%20images%20%7B%20default%3A%20image(key%3A%20%22default%22)%20%7B%20type%3A%20__typename%20%7D%20%7D%20%7D%20...%20on%20RatingComponent%20%7B%20rating%20%7D%20%7D%20contributions(limit%3A%201)%20%7B%20agent%20%7B%20...%20on%20Person%20%7B%20name%20%7D%20%7D%20role%20%7D%20site%20%7B%20url%20urn%20title%20presentation%20%7B%20colors%20teaserImage%20%7B%20default%3A%20image(key%3A%20%22default%22)%20%7B%20url%20%7D%20%7D%20%7D%20%7D%20%7D%20fragment%20RecipeResultFields%20on%20Recipe%20%7B%20title%20url%20image%20%7B%20url%20%7D%20startDate%20%7D%20fragment%20UnknownSearchResultFields%20on%20UnknownSearchResult%20%7B%20title%20url%20label%20image%20%7B%20url%20width%20height%20%7D%20%7D%20fragment%20MusicArtistResultFields%20on%20MusicArtist%20%7B%20url%20name%20image%20%7B%20url%20width%20height%20%7D%20%7D%20query%20SearchPageDRDK(%24query%3A%20String!%20%24limit%3A%20Int!%20%24offset%3A%20Int!%20%24sort%3A%20SearchSort)%20%7B%20drdk%3A%20search(query%3A%20%24query%20logQuery%3A%20%24query%20limit%3A%20%24limit%20offset%3A%20%24offset%20products%3A%20%5B%22drdk%22%5D%20sort%3A%20%24sort)%20%7B%20totalCount%20results%3A%20nodes%20%7B%20type%3A%20__typename%20...%20on%20Article%20%7B%20...ArticleResultFields%20%7D%20...%20on%20Recipe%20%7B%20...RecipeResultFields%20%7D%20...%20on%20MusicArtist%20%7B%20...MusicArtistResultFields%20%7D%20...%20on%20UnknownSearchResult%20%7B%20...UnknownSearchResultFields%20%7D%20%7D%20spellCheck%20%7D%20%7D&variables=%7B%22query%22%3A%22c20%22%2C%22sort%22%3A%22Relevance%22%2C%22limit%22%3A10%2C%22offset%22%3A430%7D'\n",
    "headers = {'name':'Asta Thit Kettel', 'from':'ucph','email':'dnp@ku.dk'}\n",
    "response44 = requests.get(url44, headers)\n",
    "results44 = response44.json()\n",
    "result_articles44 = [{'urlPathId': article['urlPathId'], 'title': article['title']} for article in results44['data']['drdk']['results']]\n",
    "data44 = pd.DataFrame(result_articles44)"
   ]
  },
  {
   "cell_type": "code",
   "execution_count": 142,
   "id": "4767be38-3df1-46ab-840d-1f4344d79682",
   "metadata": {},
   "outputs": [],
   "source": [
    "url45 = f'https://www.dr.dk/tjenester/steffi/graphql?query=fragment%20ArticleResultFields%20on%20Article%20%7B%20type%3A%20__typename%20urn%20urlPathId%20title%20format%20publications%20%7B%20...on%20ArticlePublication%20%7B%20breaking%20live%20serviceChannel%20%7B%20urn%20%7D%20%7D%20%7D%20summary%20startDate%20teaserImage%20%7B%20default%20%7B%20url%20%7D%20%7D%20head%20%7B%20type%3A%20__typename%20...%20on%20MediaComponent%20%7B%20resource%20%7B%20type%3A%20__typename%20...%20on%20LiveMedia%20%7B%20urn%20mediaType%20%7D%20...%20on%20Clip%20%7B%20urn%20mediaType%20durationInMilliseconds%20%7D%20...%20on%20ClipBundle%20%7B%20items(limit%3A%201)%20%7B%20__typename%20urn%20durationInMilliseconds%20%7D%20%7D%20%7D%20%7D%20...%20on%20ImageCollectionComponent%20%7B%20images%20%7B%20default%3A%20image(key%3A%20%22default%22)%20%7B%20type%3A%20__typename%20%7D%20%7D%20%7D%20...%20on%20RatingComponent%20%7B%20rating%20%7D%20%7D%20contributions(limit%3A%201)%20%7B%20agent%20%7B%20...%20on%20Person%20%7B%20name%20%7D%20%7D%20role%20%7D%20site%20%7B%20url%20urn%20title%20presentation%20%7B%20colors%20teaserImage%20%7B%20default%3A%20image(key%3A%20%22default%22)%20%7B%20url%20%7D%20%7D%20%7D%20%7D%20%7D%20fragment%20RecipeResultFields%20on%20Recipe%20%7B%20title%20url%20image%20%7B%20url%20%7D%20startDate%20%7D%20fragment%20UnknownSearchResultFields%20on%20UnknownSearchResult%20%7B%20title%20url%20label%20image%20%7B%20url%20width%20height%20%7D%20%7D%20fragment%20MusicArtistResultFields%20on%20MusicArtist%20%7B%20url%20name%20image%20%7B%20url%20width%20height%20%7D%20%7D%20query%20SearchPageDRDK(%24query%3A%20String!%20%24limit%3A%20Int!%20%24offset%3A%20Int!%20%24sort%3A%20SearchSort)%20%7B%20drdk%3A%20search(query%3A%20%24query%20logQuery%3A%20%24query%20limit%3A%20%24limit%20offset%3A%20%24offset%20products%3A%20%5B%22drdk%22%5D%20sort%3A%20%24sort)%20%7B%20totalCount%20results%3A%20nodes%20%7B%20type%3A%20__typename%20...%20on%20Article%20%7B%20...ArticleResultFields%20%7D%20...%20on%20Recipe%20%7B%20...RecipeResultFields%20%7D%20...%20on%20MusicArtist%20%7B%20...MusicArtistResultFields%20%7D%20...%20on%20UnknownSearchResult%20%7B%20...UnknownSearchResultFields%20%7D%20%7D%20spellCheck%20%7D%20%7D&variables=%7B%22query%22%3A%22c20%22%2C%22sort%22%3A%22Relevance%22%2C%22limit%22%3A10%2C%22offset%22%3A440%7D'\n",
    "headers = {'name':'Asta Thit Kettel', 'from':'ucph','email':'dnp@ku.dk'}\n",
    "response45 = requests.get(url45, headers)\n",
    "results45 = response45.json()\n",
    "result_articles45 = [{'urlPathId': article['urlPathId'], 'title': article['title']} for article in results45['data']['drdk']['results']]\n",
    "data45 = pd.DataFrame(result_articles45)"
   ]
  },
  {
   "cell_type": "code",
   "execution_count": 144,
   "id": "385f4e3d-232e-4572-8073-6fbd59c7d6ea",
   "metadata": {},
   "outputs": [],
   "source": [
    "url46 = f'https://www.dr.dk/tjenester/steffi/graphql?query=fragment%20ArticleResultFields%20on%20Article%20%7B%20type%3A%20__typename%20urn%20urlPathId%20title%20format%20publications%20%7B%20...on%20ArticlePublication%20%7B%20breaking%20live%20serviceChannel%20%7B%20urn%20%7D%20%7D%20%7D%20summary%20startDate%20teaserImage%20%7B%20default%20%7B%20url%20%7D%20%7D%20head%20%7B%20type%3A%20__typename%20...%20on%20MediaComponent%20%7B%20resource%20%7B%20type%3A%20__typename%20...%20on%20LiveMedia%20%7B%20urn%20mediaType%20%7D%20...%20on%20Clip%20%7B%20urn%20mediaType%20durationInMilliseconds%20%7D%20...%20on%20ClipBundle%20%7B%20items(limit%3A%201)%20%7B%20__typename%20urn%20durationInMilliseconds%20%7D%20%7D%20%7D%20%7D%20...%20on%20ImageCollectionComponent%20%7B%20images%20%7B%20default%3A%20image(key%3A%20%22default%22)%20%7B%20type%3A%20__typename%20%7D%20%7D%20%7D%20...%20on%20RatingComponent%20%7B%20rating%20%7D%20%7D%20contributions(limit%3A%201)%20%7B%20agent%20%7B%20...%20on%20Person%20%7B%20name%20%7D%20%7D%20role%20%7D%20site%20%7B%20url%20urn%20title%20presentation%20%7B%20colors%20teaserImage%20%7B%20default%3A%20image(key%3A%20%22default%22)%20%7B%20url%20%7D%20%7D%20%7D%20%7D%20%7D%20fragment%20RecipeResultFields%20on%20Recipe%20%7B%20title%20url%20image%20%7B%20url%20%7D%20startDate%20%7D%20fragment%20UnknownSearchResultFields%20on%20UnknownSearchResult%20%7B%20title%20url%20label%20image%20%7B%20url%20width%20height%20%7D%20%7D%20fragment%20MusicArtistResultFields%20on%20MusicArtist%20%7B%20url%20name%20image%20%7B%20url%20width%20height%20%7D%20%7D%20query%20SearchPageDRDK(%24query%3A%20String!%20%24limit%3A%20Int!%20%24offset%3A%20Int!%20%24sort%3A%20SearchSort)%20%7B%20drdk%3A%20search(query%3A%20%24query%20logQuery%3A%20%24query%20limit%3A%20%24limit%20offset%3A%20%24offset%20products%3A%20%5B%22drdk%22%5D%20sort%3A%20%24sort)%20%7B%20totalCount%20results%3A%20nodes%20%7B%20type%3A%20__typename%20...%20on%20Article%20%7B%20...ArticleResultFields%20%7D%20...%20on%20Recipe%20%7B%20...RecipeResultFields%20%7D%20...%20on%20MusicArtist%20%7B%20...MusicArtistResultFields%20%7D%20...%20on%20UnknownSearchResult%20%7B%20...UnknownSearchResultFields%20%7D%20%7D%20spellCheck%20%7D%20%7D&variables=%7B%22query%22%3A%22c20%22%2C%22sort%22%3A%22Relevance%22%2C%22limit%22%3A10%2C%22offset%22%3A450%7D'\n",
    "headers = {'name':'Asta Thit Kettel', 'from':'ucph','email':'dnp@ku.dk'}\n",
    "response46 = requests.get(url46, headers)\n",
    "results46 = response46.json()\n",
    "result_articles46 = [{'urlPathId': article['urlPathId'], 'title': article['title']} for article in results46['data']['drdk']['results']]\n",
    "data46 = pd.DataFrame(result_articles46)"
   ]
  },
  {
   "cell_type": "code",
   "execution_count": 145,
   "id": "1248f3ba-557f-45b8-ba4b-5e9646d62cb4",
   "metadata": {},
   "outputs": [],
   "source": [
    "url47 = f'https://www.dr.dk/tjenester/steffi/graphql?query=fragment%20ArticleResultFields%20on%20Article%20%7B%20type%3A%20__typename%20urn%20urlPathId%20title%20format%20publications%20%7B%20...on%20ArticlePublication%20%7B%20breaking%20live%20serviceChannel%20%7B%20urn%20%7D%20%7D%20%7D%20summary%20startDate%20teaserImage%20%7B%20default%20%7B%20url%20%7D%20%7D%20head%20%7B%20type%3A%20__typename%20...%20on%20MediaComponent%20%7B%20resource%20%7B%20type%3A%20__typename%20...%20on%20LiveMedia%20%7B%20urn%20mediaType%20%7D%20...%20on%20Clip%20%7B%20urn%20mediaType%20durationInMilliseconds%20%7D%20...%20on%20ClipBundle%20%7B%20items(limit%3A%201)%20%7B%20__typename%20urn%20durationInMilliseconds%20%7D%20%7D%20%7D%20%7D%20...%20on%20ImageCollectionComponent%20%7B%20images%20%7B%20default%3A%20image(key%3A%20%22default%22)%20%7B%20type%3A%20__typename%20%7D%20%7D%20%7D%20...%20on%20RatingComponent%20%7B%20rating%20%7D%20%7D%20contributions(limit%3A%201)%20%7B%20agent%20%7B%20...%20on%20Person%20%7B%20name%20%7D%20%7D%20role%20%7D%20site%20%7B%20url%20urn%20title%20presentation%20%7B%20colors%20teaserImage%20%7B%20default%3A%20image(key%3A%20%22default%22)%20%7B%20url%20%7D%20%7D%20%7D%20%7D%20%7D%20fragment%20RecipeResultFields%20on%20Recipe%20%7B%20title%20url%20image%20%7B%20url%20%7D%20startDate%20%7D%20fragment%20UnknownSearchResultFields%20on%20UnknownSearchResult%20%7B%20title%20url%20label%20image%20%7B%20url%20width%20height%20%7D%20%7D%20fragment%20MusicArtistResultFields%20on%20MusicArtist%20%7B%20url%20name%20image%20%7B%20url%20width%20height%20%7D%20%7D%20query%20SearchPageDRDK(%24query%3A%20String!%20%24limit%3A%20Int!%20%24offset%3A%20Int!%20%24sort%3A%20SearchSort)%20%7B%20drdk%3A%20search(query%3A%20%24query%20logQuery%3A%20%24query%20limit%3A%20%24limit%20offset%3A%20%24offset%20products%3A%20%5B%22drdk%22%5D%20sort%3A%20%24sort)%20%7B%20totalCount%20results%3A%20nodes%20%7B%20type%3A%20__typename%20...%20on%20Article%20%7B%20...ArticleResultFields%20%7D%20...%20on%20Recipe%20%7B%20...RecipeResultFields%20%7D%20...%20on%20MusicArtist%20%7B%20...MusicArtistResultFields%20%7D%20...%20on%20UnknownSearchResult%20%7B%20...UnknownSearchResultFields%20%7D%20%7D%20spellCheck%20%7D%20%7D&variables=%7B%22query%22%3A%22c20%22%2C%22sort%22%3A%22Relevance%22%2C%22limit%22%3A10%2C%22offset%22%3A460%7D'\n",
    "headers = {'name':'Asta Thit Kettel', 'from':'ucph','email':'dnp@ku.dk'}\n",
    "response47 = requests.get(url47, headers)\n",
    "results47 = response47.json()\n",
    "result_articles47 = [{'urlPathId': article['urlPathId'], 'title': article['title']} for article in results47['data']['drdk']['results']]\n",
    "data47 = pd.DataFrame(result_articles47)"
   ]
  },
  {
   "cell_type": "code",
   "execution_count": 146,
   "id": "8882f261-25b7-42cd-ae38-d6efa8854f61",
   "metadata": {},
   "outputs": [],
   "source": [
    "url48 = f'https://www.dr.dk/tjenester/steffi/graphql?query=fragment%20ArticleResultFields%20on%20Article%20%7B%20type%3A%20__typename%20urn%20urlPathId%20title%20format%20publications%20%7B%20...on%20ArticlePublication%20%7B%20breaking%20live%20serviceChannel%20%7B%20urn%20%7D%20%7D%20%7D%20summary%20startDate%20teaserImage%20%7B%20default%20%7B%20url%20%7D%20%7D%20head%20%7B%20type%3A%20__typename%20...%20on%20MediaComponent%20%7B%20resource%20%7B%20type%3A%20__typename%20...%20on%20LiveMedia%20%7B%20urn%20mediaType%20%7D%20...%20on%20Clip%20%7B%20urn%20mediaType%20durationInMilliseconds%20%7D%20...%20on%20ClipBundle%20%7B%20items(limit%3A%201)%20%7B%20__typename%20urn%20durationInMilliseconds%20%7D%20%7D%20%7D%20%7D%20...%20on%20ImageCollectionComponent%20%7B%20images%20%7B%20default%3A%20image(key%3A%20%22default%22)%20%7B%20type%3A%20__typename%20%7D%20%7D%20%7D%20...%20on%20RatingComponent%20%7B%20rating%20%7D%20%7D%20contributions(limit%3A%201)%20%7B%20agent%20%7B%20...%20on%20Person%20%7B%20name%20%7D%20%7D%20role%20%7D%20site%20%7B%20url%20urn%20title%20presentation%20%7B%20colors%20teaserImage%20%7B%20default%3A%20image(key%3A%20%22default%22)%20%7B%20url%20%7D%20%7D%20%7D%20%7D%20%7D%20fragment%20RecipeResultFields%20on%20Recipe%20%7B%20title%20url%20image%20%7B%20url%20%7D%20startDate%20%7D%20fragment%20UnknownSearchResultFields%20on%20UnknownSearchResult%20%7B%20title%20url%20label%20image%20%7B%20url%20width%20height%20%7D%20%7D%20fragment%20MusicArtistResultFields%20on%20MusicArtist%20%7B%20url%20name%20image%20%7B%20url%20width%20height%20%7D%20%7D%20query%20SearchPageDRDK(%24query%3A%20String!%20%24limit%3A%20Int!%20%24offset%3A%20Int!%20%24sort%3A%20SearchSort)%20%7B%20drdk%3A%20search(query%3A%20%24query%20logQuery%3A%20%24query%20limit%3A%20%24limit%20offset%3A%20%24offset%20products%3A%20%5B%22drdk%22%5D%20sort%3A%20%24sort)%20%7B%20totalCount%20results%3A%20nodes%20%7B%20type%3A%20__typename%20...%20on%20Article%20%7B%20...ArticleResultFields%20%7D%20...%20on%20Recipe%20%7B%20...RecipeResultFields%20%7D%20...%20on%20MusicArtist%20%7B%20...MusicArtistResultFields%20%7D%20...%20on%20UnknownSearchResult%20%7B%20...UnknownSearchResultFields%20%7D%20%7D%20spellCheck%20%7D%20%7D&variables=%7B%22query%22%3A%22c20%22%2C%22sort%22%3A%22Relevance%22%2C%22limit%22%3A10%2C%22offset%22%3A470%7D'\n",
    "headers = {'name':'Asta Thit Kettel', 'from':'ucph','email':'dnp@ku.dk'}\n",
    "response48 = requests.get(url48, headers)\n",
    "results48 = response48.json()\n",
    "result_articles48 = [{'urlPathId': article['urlPathId'], 'title': article['title']} for article in results48['data']['drdk']['results']]\n",
    "data48 = pd.DataFrame(result_articles48)"
   ]
  },
  {
   "cell_type": "code",
   "execution_count": 147,
   "id": "c01e19c2-821a-4d50-a48f-6aea58ef9ba6",
   "metadata": {},
   "outputs": [],
   "source": [
    "url49 = f'https://www.dr.dk/tjenester/steffi/graphql?query=fragment%20ArticleResultFields%20on%20Article%20%7B%20type%3A%20__typename%20urn%20urlPathId%20title%20format%20publications%20%7B%20...on%20ArticlePublication%20%7B%20breaking%20live%20serviceChannel%20%7B%20urn%20%7D%20%7D%20%7D%20summary%20startDate%20teaserImage%20%7B%20default%20%7B%20url%20%7D%20%7D%20head%20%7B%20type%3A%20__typename%20...%20on%20MediaComponent%20%7B%20resource%20%7B%20type%3A%20__typename%20...%20on%20LiveMedia%20%7B%20urn%20mediaType%20%7D%20...%20on%20Clip%20%7B%20urn%20mediaType%20durationInMilliseconds%20%7D%20...%20on%20ClipBundle%20%7B%20items(limit%3A%201)%20%7B%20__typename%20urn%20durationInMilliseconds%20%7D%20%7D%20%7D%20%7D%20...%20on%20ImageCollectionComponent%20%7B%20images%20%7B%20default%3A%20image(key%3A%20%22default%22)%20%7B%20type%3A%20__typename%20%7D%20%7D%20%7D%20...%20on%20RatingComponent%20%7B%20rating%20%7D%20%7D%20contributions(limit%3A%201)%20%7B%20agent%20%7B%20...%20on%20Person%20%7B%20name%20%7D%20%7D%20role%20%7D%20site%20%7B%20url%20urn%20title%20presentation%20%7B%20colors%20teaserImage%20%7B%20default%3A%20image(key%3A%20%22default%22)%20%7B%20url%20%7D%20%7D%20%7D%20%7D%20%7D%20fragment%20RecipeResultFields%20on%20Recipe%20%7B%20title%20url%20image%20%7B%20url%20%7D%20startDate%20%7D%20fragment%20UnknownSearchResultFields%20on%20UnknownSearchResult%20%7B%20title%20url%20label%20image%20%7B%20url%20width%20height%20%7D%20%7D%20fragment%20MusicArtistResultFields%20on%20MusicArtist%20%7B%20url%20name%20image%20%7B%20url%20width%20height%20%7D%20%7D%20query%20SearchPageDRDK(%24query%3A%20String!%20%24limit%3A%20Int!%20%24offset%3A%20Int!%20%24sort%3A%20SearchSort)%20%7B%20drdk%3A%20search(query%3A%20%24query%20logQuery%3A%20%24query%20limit%3A%20%24limit%20offset%3A%20%24offset%20products%3A%20%5B%22drdk%22%5D%20sort%3A%20%24sort)%20%7B%20totalCount%20results%3A%20nodes%20%7B%20type%3A%20__typename%20...%20on%20Article%20%7B%20...ArticleResultFields%20%7D%20...%20on%20Recipe%20%7B%20...RecipeResultFields%20%7D%20...%20on%20MusicArtist%20%7B%20...MusicArtistResultFields%20%7D%20...%20on%20UnknownSearchResult%20%7B%20...UnknownSearchResultFields%20%7D%20%7D%20spellCheck%20%7D%20%7D&variables=%7B%22query%22%3A%22c20%22%2C%22sort%22%3A%22Relevance%22%2C%22limit%22%3A10%2C%22offset%22%3A480%7D'\n",
    "headers = {'name':'Asta Thit Kettel', 'from':'ucph','email':'dnp@ku.dk'}\n",
    "response49 = requests.get(url49, headers)\n",
    "results49 = response49.json()\n",
    "result_articles49 = [{'urlPathId': article['urlPathId'], 'title': article['title']} for article in results49['data']['drdk']['results']]\n",
    "data49 = pd.DataFrame(result_articles49)"
   ]
  },
  {
   "cell_type": "code",
   "execution_count": 148,
   "id": "1f7e8d61-cf23-48e4-b692-2f77ba713790",
   "metadata": {},
   "outputs": [],
   "source": [
    "url50 = f'https://www.dr.dk/tjenester/steffi/graphql?query=fragment%20ArticleResultFields%20on%20Article%20%7B%20type%3A%20__typename%20urn%20urlPathId%20title%20format%20publications%20%7B%20...on%20ArticlePublication%20%7B%20breaking%20live%20serviceChannel%20%7B%20urn%20%7D%20%7D%20%7D%20summary%20startDate%20teaserImage%20%7B%20default%20%7B%20url%20%7D%20%7D%20head%20%7B%20type%3A%20__typename%20...%20on%20MediaComponent%20%7B%20resource%20%7B%20type%3A%20__typename%20...%20on%20LiveMedia%20%7B%20urn%20mediaType%20%7D%20...%20on%20Clip%20%7B%20urn%20mediaType%20durationInMilliseconds%20%7D%20...%20on%20ClipBundle%20%7B%20items(limit%3A%201)%20%7B%20__typename%20urn%20durationInMilliseconds%20%7D%20%7D%20%7D%20%7D%20...%20on%20ImageCollectionComponent%20%7B%20images%20%7B%20default%3A%20image(key%3A%20%22default%22)%20%7B%20type%3A%20__typename%20%7D%20%7D%20%7D%20...%20on%20RatingComponent%20%7B%20rating%20%7D%20%7D%20contributions(limit%3A%201)%20%7B%20agent%20%7B%20...%20on%20Person%20%7B%20name%20%7D%20%7D%20role%20%7D%20site%20%7B%20url%20urn%20title%20presentation%20%7B%20colors%20teaserImage%20%7B%20default%3A%20image(key%3A%20%22default%22)%20%7B%20url%20%7D%20%7D%20%7D%20%7D%20%7D%20fragment%20RecipeResultFields%20on%20Recipe%20%7B%20title%20url%20image%20%7B%20url%20%7D%20startDate%20%7D%20fragment%20UnknownSearchResultFields%20on%20UnknownSearchResult%20%7B%20title%20url%20label%20image%20%7B%20url%20width%20height%20%7D%20%7D%20fragment%20MusicArtistResultFields%20on%20MusicArtist%20%7B%20url%20name%20image%20%7B%20url%20width%20height%20%7D%20%7D%20query%20SearchPageDRDK(%24query%3A%20String!%20%24limit%3A%20Int!%20%24offset%3A%20Int!%20%24sort%3A%20SearchSort)%20%7B%20drdk%3A%20search(query%3A%20%24query%20logQuery%3A%20%24query%20limit%3A%20%24limit%20offset%3A%20%24offset%20products%3A%20%5B%22drdk%22%5D%20sort%3A%20%24sort)%20%7B%20totalCount%20results%3A%20nodes%20%7B%20type%3A%20__typename%20...%20on%20Article%20%7B%20...ArticleResultFields%20%7D%20...%20on%20Recipe%20%7B%20...RecipeResultFields%20%7D%20...%20on%20MusicArtist%20%7B%20...MusicArtistResultFields%20%7D%20...%20on%20UnknownSearchResult%20%7B%20...UnknownSearchResultFields%20%7D%20%7D%20spellCheck%20%7D%20%7D&variables=%7B%22query%22%3A%22c20%22%2C%22sort%22%3A%22Relevance%22%2C%22limit%22%3A10%2C%22offset%22%3A490%7D'\n",
    "headers = {'name':'Asta Thit Kettel', 'from':'ucph','email':'dnp@ku.dk'}\n",
    "response50 = requests.get(url50, headers)\n",
    "results50 = response50.json()\n",
    "result_articles50 = [{'urlPathId': article['urlPathId'], 'title': article['title']} for article in results50['data']['drdk']['results']]\n",
    "data50 = pd.DataFrame(result_articles50)"
   ]
  },
  {
   "cell_type": "code",
   "execution_count": 149,
   "id": "84ffec98-cd6d-4f81-a601-d5e3fc7f9366",
   "metadata": {},
   "outputs": [],
   "source": [
    "url51 = f'https://www.dr.dk/tjenester/steffi/graphql?query=fragment%20ArticleResultFields%20on%20Article%20%7B%20type%3A%20__typename%20urn%20urlPathId%20title%20format%20publications%20%7B%20...on%20ArticlePublication%20%7B%20breaking%20live%20serviceChannel%20%7B%20urn%20%7D%20%7D%20%7D%20summary%20startDate%20teaserImage%20%7B%20default%20%7B%20url%20%7D%20%7D%20head%20%7B%20type%3A%20__typename%20...%20on%20MediaComponent%20%7B%20resource%20%7B%20type%3A%20__typename%20...%20on%20LiveMedia%20%7B%20urn%20mediaType%20%7D%20...%20on%20Clip%20%7B%20urn%20mediaType%20durationInMilliseconds%20%7D%20...%20on%20ClipBundle%20%7B%20items(limit%3A%201)%20%7B%20__typename%20urn%20durationInMilliseconds%20%7D%20%7D%20%7D%20%7D%20...%20on%20ImageCollectionComponent%20%7B%20images%20%7B%20default%3A%20image(key%3A%20%22default%22)%20%7B%20type%3A%20__typename%20%7D%20%7D%20%7D%20...%20on%20RatingComponent%20%7B%20rating%20%7D%20%7D%20contributions(limit%3A%201)%20%7B%20agent%20%7B%20...%20on%20Person%20%7B%20name%20%7D%20%7D%20role%20%7D%20site%20%7B%20url%20urn%20title%20presentation%20%7B%20colors%20teaserImage%20%7B%20default%3A%20image(key%3A%20%22default%22)%20%7B%20url%20%7D%20%7D%20%7D%20%7D%20%7D%20fragment%20RecipeResultFields%20on%20Recipe%20%7B%20title%20url%20image%20%7B%20url%20%7D%20startDate%20%7D%20fragment%20UnknownSearchResultFields%20on%20UnknownSearchResult%20%7B%20title%20url%20label%20image%20%7B%20url%20width%20height%20%7D%20%7D%20fragment%20MusicArtistResultFields%20on%20MusicArtist%20%7B%20url%20name%20image%20%7B%20url%20width%20height%20%7D%20%7D%20query%20SearchPageDRDK(%24query%3A%20String!%20%24limit%3A%20Int!%20%24offset%3A%20Int!%20%24sort%3A%20SearchSort)%20%7B%20drdk%3A%20search(query%3A%20%24query%20logQuery%3A%20%24query%20limit%3A%20%24limit%20offset%3A%20%24offset%20products%3A%20%5B%22drdk%22%5D%20sort%3A%20%24sort)%20%7B%20totalCount%20results%3A%20nodes%20%7B%20type%3A%20__typename%20...%20on%20Article%20%7B%20...ArticleResultFields%20%7D%20...%20on%20Recipe%20%7B%20...RecipeResultFields%20%7D%20...%20on%20MusicArtist%20%7B%20...MusicArtistResultFields%20%7D%20...%20on%20UnknownSearchResult%20%7B%20...UnknownSearchResultFields%20%7D%20%7D%20spellCheck%20%7D%20%7D&variables=%7B%22query%22%3A%22c20%22%2C%22sort%22%3A%22Relevance%22%2C%22limit%22%3A10%2C%22offset%22%3A500%7D'\n",
    "headers = {'name':'Asta Thit Kettel', 'from':'ucph','email':'dnp@ku.dk'}\n",
    "response51 = requests.get(url51, headers)\n",
    "results51 = response51.json()\n",
    "result_articles51 = [{'urlPathId': article['urlPathId'], 'title': article['title']} for article in results51['data']['drdk']['results']]\n",
    "data51 = pd.DataFrame(result_articles51)"
   ]
  },
  {
   "cell_type": "code",
   "execution_count": 150,
   "id": "7a0da2f1-ad37-4917-8f47-7d184415dfef",
   "metadata": {},
   "outputs": [],
   "source": [
    "url52 = f'https://www.dr.dk/tjenester/steffi/graphql?query=fragment%20ArticleResultFields%20on%20Article%20%7B%20type%3A%20__typename%20urn%20urlPathId%20title%20format%20publications%20%7B%20...on%20ArticlePublication%20%7B%20breaking%20live%20serviceChannel%20%7B%20urn%20%7D%20%7D%20%7D%20summary%20startDate%20teaserImage%20%7B%20default%20%7B%20url%20%7D%20%7D%20head%20%7B%20type%3A%20__typename%20...%20on%20MediaComponent%20%7B%20resource%20%7B%20type%3A%20__typename%20...%20on%20LiveMedia%20%7B%20urn%20mediaType%20%7D%20...%20on%20Clip%20%7B%20urn%20mediaType%20durationInMilliseconds%20%7D%20...%20on%20ClipBundle%20%7B%20items(limit%3A%201)%20%7B%20__typename%20urn%20durationInMilliseconds%20%7D%20%7D%20%7D%20%7D%20...%20on%20ImageCollectionComponent%20%7B%20images%20%7B%20default%3A%20image(key%3A%20%22default%22)%20%7B%20type%3A%20__typename%20%7D%20%7D%20%7D%20...%20on%20RatingComponent%20%7B%20rating%20%7D%20%7D%20contributions(limit%3A%201)%20%7B%20agent%20%7B%20...%20on%20Person%20%7B%20name%20%7D%20%7D%20role%20%7D%20site%20%7B%20url%20urn%20title%20presentation%20%7B%20colors%20teaserImage%20%7B%20default%3A%20image(key%3A%20%22default%22)%20%7B%20url%20%7D%20%7D%20%7D%20%7D%20%7D%20fragment%20RecipeResultFields%20on%20Recipe%20%7B%20title%20url%20image%20%7B%20url%20%7D%20startDate%20%7D%20fragment%20UnknownSearchResultFields%20on%20UnknownSearchResult%20%7B%20title%20url%20label%20image%20%7B%20url%20width%20height%20%7D%20%7D%20fragment%20MusicArtistResultFields%20on%20MusicArtist%20%7B%20url%20name%20image%20%7B%20url%20width%20height%20%7D%20%7D%20query%20SearchPageDRDK(%24query%3A%20String!%20%24limit%3A%20Int!%20%24offset%3A%20Int!%20%24sort%3A%20SearchSort)%20%7B%20drdk%3A%20search(query%3A%20%24query%20logQuery%3A%20%24query%20limit%3A%20%24limit%20offset%3A%20%24offset%20products%3A%20%5B%22drdk%22%5D%20sort%3A%20%24sort)%20%7B%20totalCount%20results%3A%20nodes%20%7B%20type%3A%20__typename%20...%20on%20Article%20%7B%20...ArticleResultFields%20%7D%20...%20on%20Recipe%20%7B%20...RecipeResultFields%20%7D%20...%20on%20MusicArtist%20%7B%20...MusicArtistResultFields%20%7D%20...%20on%20UnknownSearchResult%20%7B%20...UnknownSearchResultFields%20%7D%20%7D%20spellCheck%20%7D%20%7D&variables=%7B%22query%22%3A%22c20%22%2C%22sort%22%3A%22Relevance%22%2C%22limit%22%3A10%2C%22offset%22%3A510%7D'\n",
    "headers = {'name':'Asta Thit Kettel', 'from':'ucph','email':'dnp@ku.dk'}\n",
    "response52 = requests.get(url52, headers)\n",
    "results52 = response52.json()\n",
    "result_articles52 = [{'urlPathId': article['urlPathId'], 'title': article['title']} for article in results52['data']['drdk']['results']]\n",
    "data52 = pd.DataFrame(result_articles52)"
   ]
  },
  {
   "cell_type": "code",
   "execution_count": 151,
   "id": "54bea864-7884-4a90-9671-4f733c6de0dc",
   "metadata": {},
   "outputs": [],
   "source": [
    "url53 = f'https://www.dr.dk/tjenester/steffi/graphql?query=fragment%20ArticleResultFields%20on%20Article%20%7B%20type%3A%20__typename%20urn%20urlPathId%20title%20format%20publications%20%7B%20...on%20ArticlePublication%20%7B%20breaking%20live%20serviceChannel%20%7B%20urn%20%7D%20%7D%20%7D%20summary%20startDate%20teaserImage%20%7B%20default%20%7B%20url%20%7D%20%7D%20head%20%7B%20type%3A%20__typename%20...%20on%20MediaComponent%20%7B%20resource%20%7B%20type%3A%20__typename%20...%20on%20LiveMedia%20%7B%20urn%20mediaType%20%7D%20...%20on%20Clip%20%7B%20urn%20mediaType%20durationInMilliseconds%20%7D%20...%20on%20ClipBundle%20%7B%20items(limit%3A%201)%20%7B%20__typename%20urn%20durationInMilliseconds%20%7D%20%7D%20%7D%20%7D%20...%20on%20ImageCollectionComponent%20%7B%20images%20%7B%20default%3A%20image(key%3A%20%22default%22)%20%7B%20type%3A%20__typename%20%7D%20%7D%20%7D%20...%20on%20RatingComponent%20%7B%20rating%20%7D%20%7D%20contributions(limit%3A%201)%20%7B%20agent%20%7B%20...%20on%20Person%20%7B%20name%20%7D%20%7D%20role%20%7D%20site%20%7B%20url%20urn%20title%20presentation%20%7B%20colors%20teaserImage%20%7B%20default%3A%20image(key%3A%20%22default%22)%20%7B%20url%20%7D%20%7D%20%7D%20%7D%20%7D%20fragment%20RecipeResultFields%20on%20Recipe%20%7B%20title%20url%20image%20%7B%20url%20%7D%20startDate%20%7D%20fragment%20UnknownSearchResultFields%20on%20UnknownSearchResult%20%7B%20title%20url%20label%20image%20%7B%20url%20width%20height%20%7D%20%7D%20fragment%20MusicArtistResultFields%20on%20MusicArtist%20%7B%20url%20name%20image%20%7B%20url%20width%20height%20%7D%20%7D%20query%20SearchPageDRDK(%24query%3A%20String!%20%24limit%3A%20Int!%20%24offset%3A%20Int!%20%24sort%3A%20SearchSort)%20%7B%20drdk%3A%20search(query%3A%20%24query%20logQuery%3A%20%24query%20limit%3A%20%24limit%20offset%3A%20%24offset%20products%3A%20%5B%22drdk%22%5D%20sort%3A%20%24sort)%20%7B%20totalCount%20results%3A%20nodes%20%7B%20type%3A%20__typename%20...%20on%20Article%20%7B%20...ArticleResultFields%20%7D%20...%20on%20Recipe%20%7B%20...RecipeResultFields%20%7D%20...%20on%20MusicArtist%20%7B%20...MusicArtistResultFields%20%7D%20...%20on%20UnknownSearchResult%20%7B%20...UnknownSearchResultFields%20%7D%20%7D%20spellCheck%20%7D%20%7D&variables=%7B%22query%22%3A%22c20%22%2C%22sort%22%3A%22Relevance%22%2C%22limit%22%3A10%2C%22offset%22%3A520%7D'\n",
    "headers = {'name':'Asta Thit Kettel', 'from':'ucph','email':'dnp@ku.dk'}\n",
    "response53 = requests.get(url53, headers)\n",
    "results53 = response53.json()\n",
    "result_articles53 = [{'urlPathId': article['urlPathId'], 'title': article['title']} for article in results53['data']['drdk']['results']]\n",
    "data53 = pd.DataFrame(result_articles53)"
   ]
  },
  {
   "cell_type": "code",
   "execution_count": 153,
   "id": "6e7cd8ba-c7ff-44aa-a317-7f6a6eed87f2",
   "metadata": {},
   "outputs": [],
   "source": [
    "url54 = f'https://www.dr.dk/tjenester/steffi/graphql?query=fragment%20ArticleResultFields%20on%20Article%20%7B%20type%3A%20__typename%20urn%20urlPathId%20title%20format%20publications%20%7B%20...on%20ArticlePublication%20%7B%20breaking%20live%20serviceChannel%20%7B%20urn%20%7D%20%7D%20%7D%20summary%20startDate%20teaserImage%20%7B%20default%20%7B%20url%20%7D%20%7D%20head%20%7B%20type%3A%20__typename%20...%20on%20MediaComponent%20%7B%20resource%20%7B%20type%3A%20__typename%20...%20on%20LiveMedia%20%7B%20urn%20mediaType%20%7D%20...%20on%20Clip%20%7B%20urn%20mediaType%20durationInMilliseconds%20%7D%20...%20on%20ClipBundle%20%7B%20items(limit%3A%201)%20%7B%20__typename%20urn%20durationInMilliseconds%20%7D%20%7D%20%7D%20%7D%20...%20on%20ImageCollectionComponent%20%7B%20images%20%7B%20default%3A%20image(key%3A%20%22default%22)%20%7B%20type%3A%20__typename%20%7D%20%7D%20%7D%20...%20on%20RatingComponent%20%7B%20rating%20%7D%20%7D%20contributions(limit%3A%201)%20%7B%20agent%20%7B%20...%20on%20Person%20%7B%20name%20%7D%20%7D%20role%20%7D%20site%20%7B%20url%20urn%20title%20presentation%20%7B%20colors%20teaserImage%20%7B%20default%3A%20image(key%3A%20%22default%22)%20%7B%20url%20%7D%20%7D%20%7D%20%7D%20%7D%20fragment%20RecipeResultFields%20on%20Recipe%20%7B%20title%20url%20image%20%7B%20url%20%7D%20startDate%20%7D%20fragment%20UnknownSearchResultFields%20on%20UnknownSearchResult%20%7B%20title%20url%20label%20image%20%7B%20url%20width%20height%20%7D%20%7D%20fragment%20MusicArtistResultFields%20on%20MusicArtist%20%7B%20url%20name%20image%20%7B%20url%20width%20height%20%7D%20%7D%20query%20SearchPageDRDK(%24query%3A%20String!%20%24limit%3A%20Int!%20%24offset%3A%20Int!%20%24sort%3A%20SearchSort)%20%7B%20drdk%3A%20search(query%3A%20%24query%20logQuery%3A%20%24query%20limit%3A%20%24limit%20offset%3A%20%24offset%20products%3A%20%5B%22drdk%22%5D%20sort%3A%20%24sort)%20%7B%20totalCount%20results%3A%20nodes%20%7B%20type%3A%20__typename%20...%20on%20Article%20%7B%20...ArticleResultFields%20%7D%20...%20on%20Recipe%20%7B%20...RecipeResultFields%20%7D%20...%20on%20MusicArtist%20%7B%20...MusicArtistResultFields%20%7D%20...%20on%20UnknownSearchResult%20%7B%20...UnknownSearchResultFields%20%7D%20%7D%20spellCheck%20%7D%20%7D&variables=%7B%22query%22%3A%22c20%22%2C%22sort%22%3A%22Relevance%22%2C%22limit%22%3A10%2C%22offset%22%3A530%7D'\n",
    "headers = {'name':'Asta Thit Kettel', 'from':'ucph','email':'dnp@ku.dk'}\n",
    "response54 = requests.get(url54, headers)\n",
    "results54 = response54.json()\n",
    "result_articles54 = [{'urlPathId': article['urlPathId'], 'title': article['title']} for article in results54['data']['drdk']['results']]\n",
    "data54 = pd.DataFrame(result_articles54)"
   ]
  },
  {
   "cell_type": "code",
   "execution_count": 154,
   "id": "9748c908-0930-4b9d-871d-091d73882370",
   "metadata": {},
   "outputs": [],
   "source": [
    "url55 = f'https://www.dr.dk/tjenester/steffi/graphql?query=fragment%20ArticleResultFields%20on%20Article%20%7B%20type%3A%20__typename%20urn%20urlPathId%20title%20format%20publications%20%7B%20...on%20ArticlePublication%20%7B%20breaking%20live%20serviceChannel%20%7B%20urn%20%7D%20%7D%20%7D%20summary%20startDate%20teaserImage%20%7B%20default%20%7B%20url%20%7D%20%7D%20head%20%7B%20type%3A%20__typename%20...%20on%20MediaComponent%20%7B%20resource%20%7B%20type%3A%20__typename%20...%20on%20LiveMedia%20%7B%20urn%20mediaType%20%7D%20...%20on%20Clip%20%7B%20urn%20mediaType%20durationInMilliseconds%20%7D%20...%20on%20ClipBundle%20%7B%20items(limit%3A%201)%20%7B%20__typename%20urn%20durationInMilliseconds%20%7D%20%7D%20%7D%20%7D%20...%20on%20ImageCollectionComponent%20%7B%20images%20%7B%20default%3A%20image(key%3A%20%22default%22)%20%7B%20type%3A%20__typename%20%7D%20%7D%20%7D%20...%20on%20RatingComponent%20%7B%20rating%20%7D%20%7D%20contributions(limit%3A%201)%20%7B%20agent%20%7B%20...%20on%20Person%20%7B%20name%20%7D%20%7D%20role%20%7D%20site%20%7B%20url%20urn%20title%20presentation%20%7B%20colors%20teaserImage%20%7B%20default%3A%20image(key%3A%20%22default%22)%20%7B%20url%20%7D%20%7D%20%7D%20%7D%20%7D%20fragment%20RecipeResultFields%20on%20Recipe%20%7B%20title%20url%20image%20%7B%20url%20%7D%20startDate%20%7D%20fragment%20UnknownSearchResultFields%20on%20UnknownSearchResult%20%7B%20title%20url%20label%20image%20%7B%20url%20width%20height%20%7D%20%7D%20fragment%20MusicArtistResultFields%20on%20MusicArtist%20%7B%20url%20name%20image%20%7B%20url%20width%20height%20%7D%20%7D%20query%20SearchPageDRDK(%24query%3A%20String!%20%24limit%3A%20Int!%20%24offset%3A%20Int!%20%24sort%3A%20SearchSort)%20%7B%20drdk%3A%20search(query%3A%20%24query%20logQuery%3A%20%24query%20limit%3A%20%24limit%20offset%3A%20%24offset%20products%3A%20%5B%22drdk%22%5D%20sort%3A%20%24sort)%20%7B%20totalCount%20results%3A%20nodes%20%7B%20type%3A%20__typename%20...%20on%20Article%20%7B%20...ArticleResultFields%20%7D%20...%20on%20Recipe%20%7B%20...RecipeResultFields%20%7D%20...%20on%20MusicArtist%20%7B%20...MusicArtistResultFields%20%7D%20...%20on%20UnknownSearchResult%20%7B%20...UnknownSearchResultFields%20%7D%20%7D%20spellCheck%20%7D%20%7D&variables=%7B%22query%22%3A%22c20%22%2C%22sort%22%3A%22Relevance%22%2C%22limit%22%3A10%2C%22offset%22%3A540%7D'\n",
    "headers = {'name':'Asta Thit Kettel', 'from':'ucph','email':'dnp@ku.dk'}\n",
    "response55 = requests.get(url55, headers)\n",
    "results55 = response55.json()\n",
    "result_articles55 = [{'urlPathId': article['urlPathId'], 'title': article['title']} for article in results55['data']['drdk']['results']]\n",
    "data55 = pd.DataFrame(result_articles55)"
   ]
  },
  {
   "cell_type": "code",
   "execution_count": 155,
   "id": "b22a460b-ea86-4ee2-a419-ef540d51a915",
   "metadata": {},
   "outputs": [],
   "source": [
    "url56 = f'https://www.dr.dk/tjenester/steffi/graphql?query=fragment%20ArticleResultFields%20on%20Article%20%7B%20type%3A%20__typename%20urn%20urlPathId%20title%20format%20publications%20%7B%20...on%20ArticlePublication%20%7B%20breaking%20live%20serviceChannel%20%7B%20urn%20%7D%20%7D%20%7D%20summary%20startDate%20teaserImage%20%7B%20default%20%7B%20url%20%7D%20%7D%20head%20%7B%20type%3A%20__typename%20...%20on%20MediaComponent%20%7B%20resource%20%7B%20type%3A%20__typename%20...%20on%20LiveMedia%20%7B%20urn%20mediaType%20%7D%20...%20on%20Clip%20%7B%20urn%20mediaType%20durationInMilliseconds%20%7D%20...%20on%20ClipBundle%20%7B%20items(limit%3A%201)%20%7B%20__typename%20urn%20durationInMilliseconds%20%7D%20%7D%20%7D%20%7D%20...%20on%20ImageCollectionComponent%20%7B%20images%20%7B%20default%3A%20image(key%3A%20%22default%22)%20%7B%20type%3A%20__typename%20%7D%20%7D%20%7D%20...%20on%20RatingComponent%20%7B%20rating%20%7D%20%7D%20contributions(limit%3A%201)%20%7B%20agent%20%7B%20...%20on%20Person%20%7B%20name%20%7D%20%7D%20role%20%7D%20site%20%7B%20url%20urn%20title%20presentation%20%7B%20colors%20teaserImage%20%7B%20default%3A%20image(key%3A%20%22default%22)%20%7B%20url%20%7D%20%7D%20%7D%20%7D%20%7D%20fragment%20RecipeResultFields%20on%20Recipe%20%7B%20title%20url%20image%20%7B%20url%20%7D%20startDate%20%7D%20fragment%20UnknownSearchResultFields%20on%20UnknownSearchResult%20%7B%20title%20url%20label%20image%20%7B%20url%20width%20height%20%7D%20%7D%20fragment%20MusicArtistResultFields%20on%20MusicArtist%20%7B%20url%20name%20image%20%7B%20url%20width%20height%20%7D%20%7D%20query%20SearchPageDRDK(%24query%3A%20String!%20%24limit%3A%20Int!%20%24offset%3A%20Int!%20%24sort%3A%20SearchSort)%20%7B%20drdk%3A%20search(query%3A%20%24query%20logQuery%3A%20%24query%20limit%3A%20%24limit%20offset%3A%20%24offset%20products%3A%20%5B%22drdk%22%5D%20sort%3A%20%24sort)%20%7B%20totalCount%20results%3A%20nodes%20%7B%20type%3A%20__typename%20...%20on%20Article%20%7B%20...ArticleResultFields%20%7D%20...%20on%20Recipe%20%7B%20...RecipeResultFields%20%7D%20...%20on%20MusicArtist%20%7B%20...MusicArtistResultFields%20%7D%20...%20on%20UnknownSearchResult%20%7B%20...UnknownSearchResultFields%20%7D%20%7D%20spellCheck%20%7D%20%7D&variables=%7B%22query%22%3A%22c20%22%2C%22sort%22%3A%22Relevance%22%2C%22limit%22%3A10%2C%22offset%22%3A550%7D'\n",
    "headers = {'name':'Asta Thit Kettel', 'from':'ucph','email':'dnp@ku.dk'}\n",
    "response56 = requests.get(url56, headers)\n",
    "results56 = response56.json()\n",
    "result_articles56 = [{'urlPathId': article['urlPathId'], 'title': article['title']} for article in results56['data']['drdk']['results']]\n",
    "data56 = pd.DataFrame(result_articles56)"
   ]
  },
  {
   "cell_type": "code",
   "execution_count": 156,
   "id": "cdcac4ec-4f13-4d70-9497-065152b41c92",
   "metadata": {},
   "outputs": [],
   "source": [
    "url57 = f'https://www.dr.dk/tjenester/steffi/graphql?query=fragment%20ArticleResultFields%20on%20Article%20%7B%20type%3A%20__typename%20urn%20urlPathId%20title%20format%20publications%20%7B%20...on%20ArticlePublication%20%7B%20breaking%20live%20serviceChannel%20%7B%20urn%20%7D%20%7D%20%7D%20summary%20startDate%20teaserImage%20%7B%20default%20%7B%20url%20%7D%20%7D%20head%20%7B%20type%3A%20__typename%20...%20on%20MediaComponent%20%7B%20resource%20%7B%20type%3A%20__typename%20...%20on%20LiveMedia%20%7B%20urn%20mediaType%20%7D%20...%20on%20Clip%20%7B%20urn%20mediaType%20durationInMilliseconds%20%7D%20...%20on%20ClipBundle%20%7B%20items(limit%3A%201)%20%7B%20__typename%20urn%20durationInMilliseconds%20%7D%20%7D%20%7D%20%7D%20...%20on%20ImageCollectionComponent%20%7B%20images%20%7B%20default%3A%20image(key%3A%20%22default%22)%20%7B%20type%3A%20__typename%20%7D%20%7D%20%7D%20...%20on%20RatingComponent%20%7B%20rating%20%7D%20%7D%20contributions(limit%3A%201)%20%7B%20agent%20%7B%20...%20on%20Person%20%7B%20name%20%7D%20%7D%20role%20%7D%20site%20%7B%20url%20urn%20title%20presentation%20%7B%20colors%20teaserImage%20%7B%20default%3A%20image(key%3A%20%22default%22)%20%7B%20url%20%7D%20%7D%20%7D%20%7D%20%7D%20fragment%20RecipeResultFields%20on%20Recipe%20%7B%20title%20url%20image%20%7B%20url%20%7D%20startDate%20%7D%20fragment%20UnknownSearchResultFields%20on%20UnknownSearchResult%20%7B%20title%20url%20label%20image%20%7B%20url%20width%20height%20%7D%20%7D%20fragment%20MusicArtistResultFields%20on%20MusicArtist%20%7B%20url%20name%20image%20%7B%20url%20width%20height%20%7D%20%7D%20query%20SearchPageDRDK(%24query%3A%20String!%20%24limit%3A%20Int!%20%24offset%3A%20Int!%20%24sort%3A%20SearchSort)%20%7B%20drdk%3A%20search(query%3A%20%24query%20logQuery%3A%20%24query%20limit%3A%20%24limit%20offset%3A%20%24offset%20products%3A%20%5B%22drdk%22%5D%20sort%3A%20%24sort)%20%7B%20totalCount%20results%3A%20nodes%20%7B%20type%3A%20__typename%20...%20on%20Article%20%7B%20...ArticleResultFields%20%7D%20...%20on%20Recipe%20%7B%20...RecipeResultFields%20%7D%20...%20on%20MusicArtist%20%7B%20...MusicArtistResultFields%20%7D%20...%20on%20UnknownSearchResult%20%7B%20...UnknownSearchResultFields%20%7D%20%7D%20spellCheck%20%7D%20%7D&variables=%7B%22query%22%3A%22c20%22%2C%22sort%22%3A%22Relevance%22%2C%22limit%22%3A10%2C%22offset%22%3A560%7D'\n",
    "headers = {'name':'Asta Thit Kettel', 'from':'ucph','email':'dnp@ku.dk'}\n",
    "response57 = requests.get(url57, headers)\n",
    "results57 = response57.json()\n",
    "result_articles57 = [{'urlPathId': article['urlPathId'], 'title': article['title']} for article in results57['data']['drdk']['results']]\n",
    "data57 = pd.DataFrame(result_articles57)"
   ]
  },
  {
   "cell_type": "code",
   "execution_count": 157,
   "id": "ff3d0d72-ad30-45b7-af19-b47c6702bbf1",
   "metadata": {},
   "outputs": [],
   "source": [
    "url58 = f'https://www.dr.dk/tjenester/steffi/graphql?query=fragment%20ArticleResultFields%20on%20Article%20%7B%20type%3A%20__typename%20urn%20urlPathId%20title%20format%20publications%20%7B%20...on%20ArticlePublication%20%7B%20breaking%20live%20serviceChannel%20%7B%20urn%20%7D%20%7D%20%7D%20summary%20startDate%20teaserImage%20%7B%20default%20%7B%20url%20%7D%20%7D%20head%20%7B%20type%3A%20__typename%20...%20on%20MediaComponent%20%7B%20resource%20%7B%20type%3A%20__typename%20...%20on%20LiveMedia%20%7B%20urn%20mediaType%20%7D%20...%20on%20Clip%20%7B%20urn%20mediaType%20durationInMilliseconds%20%7D%20...%20on%20ClipBundle%20%7B%20items(limit%3A%201)%20%7B%20__typename%20urn%20durationInMilliseconds%20%7D%20%7D%20%7D%20%7D%20...%20on%20ImageCollectionComponent%20%7B%20images%20%7B%20default%3A%20image(key%3A%20%22default%22)%20%7B%20type%3A%20__typename%20%7D%20%7D%20%7D%20...%20on%20RatingComponent%20%7B%20rating%20%7D%20%7D%20contributions(limit%3A%201)%20%7B%20agent%20%7B%20...%20on%20Person%20%7B%20name%20%7D%20%7D%20role%20%7D%20site%20%7B%20url%20urn%20title%20presentation%20%7B%20colors%20teaserImage%20%7B%20default%3A%20image(key%3A%20%22default%22)%20%7B%20url%20%7D%20%7D%20%7D%20%7D%20%7D%20fragment%20RecipeResultFields%20on%20Recipe%20%7B%20title%20url%20image%20%7B%20url%20%7D%20startDate%20%7D%20fragment%20UnknownSearchResultFields%20on%20UnknownSearchResult%20%7B%20title%20url%20label%20image%20%7B%20url%20width%20height%20%7D%20%7D%20fragment%20MusicArtistResultFields%20on%20MusicArtist%20%7B%20url%20name%20image%20%7B%20url%20width%20height%20%7D%20%7D%20query%20SearchPageDRDK(%24query%3A%20String!%20%24limit%3A%20Int!%20%24offset%3A%20Int!%20%24sort%3A%20SearchSort)%20%7B%20drdk%3A%20search(query%3A%20%24query%20logQuery%3A%20%24query%20limit%3A%20%24limit%20offset%3A%20%24offset%20products%3A%20%5B%22drdk%22%5D%20sort%3A%20%24sort)%20%7B%20totalCount%20results%3A%20nodes%20%7B%20type%3A%20__typename%20...%20on%20Article%20%7B%20...ArticleResultFields%20%7D%20...%20on%20Recipe%20%7B%20...RecipeResultFields%20%7D%20...%20on%20MusicArtist%20%7B%20...MusicArtistResultFields%20%7D%20...%20on%20UnknownSearchResult%20%7B%20...UnknownSearchResultFields%20%7D%20%7D%20spellCheck%20%7D%20%7D&variables=%7B%22query%22%3A%22c20%22%2C%22sort%22%3A%22Relevance%22%2C%22limit%22%3A10%2C%22offset%22%3A570%7D'\n",
    "headers = {'name':'Asta Thit Kettel', 'from':'ucph','email':'dnp@ku.dk'}\n",
    "response58 = requests.get(url58, headers)\n",
    "results58 = response58.json()\n",
    "result_articles58 = [{'urlPathId': article['urlPathId'], 'title': article['title']} for article in results58['data']['drdk']['results']]\n",
    "data58 = pd.DataFrame(result_articles58)"
   ]
  },
  {
   "cell_type": "code",
   "execution_count": 158,
   "id": "8d421323-3c98-40c2-b690-7d0cf4dcf469",
   "metadata": {},
   "outputs": [],
   "source": [
    "url59 = f'https://www.dr.dk/tjenester/steffi/graphql?query=fragment%20ArticleResultFields%20on%20Article%20%7B%20type%3A%20__typename%20urn%20urlPathId%20title%20format%20publications%20%7B%20...on%20ArticlePublication%20%7B%20breaking%20live%20serviceChannel%20%7B%20urn%20%7D%20%7D%20%7D%20summary%20startDate%20teaserImage%20%7B%20default%20%7B%20url%20%7D%20%7D%20head%20%7B%20type%3A%20__typename%20...%20on%20MediaComponent%20%7B%20resource%20%7B%20type%3A%20__typename%20...%20on%20LiveMedia%20%7B%20urn%20mediaType%20%7D%20...%20on%20Clip%20%7B%20urn%20mediaType%20durationInMilliseconds%20%7D%20...%20on%20ClipBundle%20%7B%20items(limit%3A%201)%20%7B%20__typename%20urn%20durationInMilliseconds%20%7D%20%7D%20%7D%20%7D%20...%20on%20ImageCollectionComponent%20%7B%20images%20%7B%20default%3A%20image(key%3A%20%22default%22)%20%7B%20type%3A%20__typename%20%7D%20%7D%20%7D%20...%20on%20RatingComponent%20%7B%20rating%20%7D%20%7D%20contributions(limit%3A%201)%20%7B%20agent%20%7B%20...%20on%20Person%20%7B%20name%20%7D%20%7D%20role%20%7D%20site%20%7B%20url%20urn%20title%20presentation%20%7B%20colors%20teaserImage%20%7B%20default%3A%20image(key%3A%20%22default%22)%20%7B%20url%20%7D%20%7D%20%7D%20%7D%20%7D%20fragment%20RecipeResultFields%20on%20Recipe%20%7B%20title%20url%20image%20%7B%20url%20%7D%20startDate%20%7D%20fragment%20UnknownSearchResultFields%20on%20UnknownSearchResult%20%7B%20title%20url%20label%20image%20%7B%20url%20width%20height%20%7D%20%7D%20fragment%20MusicArtistResultFields%20on%20MusicArtist%20%7B%20url%20name%20image%20%7B%20url%20width%20height%20%7D%20%7D%20query%20SearchPageDRDK(%24query%3A%20String!%20%24limit%3A%20Int!%20%24offset%3A%20Int!%20%24sort%3A%20SearchSort)%20%7B%20drdk%3A%20search(query%3A%20%24query%20logQuery%3A%20%24query%20limit%3A%20%24limit%20offset%3A%20%24offset%20products%3A%20%5B%22drdk%22%5D%20sort%3A%20%24sort)%20%7B%20totalCount%20results%3A%20nodes%20%7B%20type%3A%20__typename%20...%20on%20Article%20%7B%20...ArticleResultFields%20%7D%20...%20on%20Recipe%20%7B%20...RecipeResultFields%20%7D%20...%20on%20MusicArtist%20%7B%20...MusicArtistResultFields%20%7D%20...%20on%20UnknownSearchResult%20%7B%20...UnknownSearchResultFields%20%7D%20%7D%20spellCheck%20%7D%20%7D&variables=%7B%22query%22%3A%22c20%22%2C%22sort%22%3A%22Relevance%22%2C%22limit%22%3A10%2C%22offset%22%3A580%7D'\n",
    "headers = {'name':'Asta Thit Kettel', 'from':'ucph','email':'dnp@ku.dk'}\n",
    "response59 = requests.get(url59, headers)\n",
    "results59 = response59.json()\n",
    "result_articles59 = [{'urlPathId': article['urlPathId'], 'title': article['title']} for article in results59['data']['drdk']['results']]\n",
    "data59 = pd.DataFrame(result_articles59)"
   ]
  },
  {
   "cell_type": "code",
   "execution_count": 159,
   "id": "d693cabb-041d-4700-97ad-1ac43f11c7c2",
   "metadata": {},
   "outputs": [],
   "source": [
    "url60 = f'https://www.dr.dk/tjenester/steffi/graphql?query=fragment%20ArticleResultFields%20on%20Article%20%7B%20type%3A%20__typename%20urn%20urlPathId%20title%20format%20publications%20%7B%20...on%20ArticlePublication%20%7B%20breaking%20live%20serviceChannel%20%7B%20urn%20%7D%20%7D%20%7D%20summary%20startDate%20teaserImage%20%7B%20default%20%7B%20url%20%7D%20%7D%20head%20%7B%20type%3A%20__typename%20...%20on%20MediaComponent%20%7B%20resource%20%7B%20type%3A%20__typename%20...%20on%20LiveMedia%20%7B%20urn%20mediaType%20%7D%20...%20on%20Clip%20%7B%20urn%20mediaType%20durationInMilliseconds%20%7D%20...%20on%20ClipBundle%20%7B%20items(limit%3A%201)%20%7B%20__typename%20urn%20durationInMilliseconds%20%7D%20%7D%20%7D%20%7D%20...%20on%20ImageCollectionComponent%20%7B%20images%20%7B%20default%3A%20image(key%3A%20%22default%22)%20%7B%20type%3A%20__typename%20%7D%20%7D%20%7D%20...%20on%20RatingComponent%20%7B%20rating%20%7D%20%7D%20contributions(limit%3A%201)%20%7B%20agent%20%7B%20...%20on%20Person%20%7B%20name%20%7D%20%7D%20role%20%7D%20site%20%7B%20url%20urn%20title%20presentation%20%7B%20colors%20teaserImage%20%7B%20default%3A%20image(key%3A%20%22default%22)%20%7B%20url%20%7D%20%7D%20%7D%20%7D%20%7D%20fragment%20RecipeResultFields%20on%20Recipe%20%7B%20title%20url%20image%20%7B%20url%20%7D%20startDate%20%7D%20fragment%20UnknownSearchResultFields%20on%20UnknownSearchResult%20%7B%20title%20url%20label%20image%20%7B%20url%20width%20height%20%7D%20%7D%20fragment%20MusicArtistResultFields%20on%20MusicArtist%20%7B%20url%20name%20image%20%7B%20url%20width%20height%20%7D%20%7D%20query%20SearchPageDRDK(%24query%3A%20String!%20%24limit%3A%20Int!%20%24offset%3A%20Int!%20%24sort%3A%20SearchSort)%20%7B%20drdk%3A%20search(query%3A%20%24query%20logQuery%3A%20%24query%20limit%3A%20%24limit%20offset%3A%20%24offset%20products%3A%20%5B%22drdk%22%5D%20sort%3A%20%24sort)%20%7B%20totalCount%20results%3A%20nodes%20%7B%20type%3A%20__typename%20...%20on%20Article%20%7B%20...ArticleResultFields%20%7D%20...%20on%20Recipe%20%7B%20...RecipeResultFields%20%7D%20...%20on%20MusicArtist%20%7B%20...MusicArtistResultFields%20%7D%20...%20on%20UnknownSearchResult%20%7B%20...UnknownSearchResultFields%20%7D%20%7D%20spellCheck%20%7D%20%7D&variables=%7B%22query%22%3A%22c20%22%2C%22sort%22%3A%22Relevance%22%2C%22limit%22%3A10%2C%22offset%22%3A590%7D'\n",
    "headers = {'name':'Asta Thit Kettel', 'from':'ucph','email':'dnp@ku.dk'}\n",
    "response60 = requests.get(url60, headers)\n",
    "results60 = response60.json()\n",
    "result_articles60 = [{'urlPathId': article['urlPathId'], 'title': article['title']} for article in results60['data']['drdk']['results']]\n",
    "data60 = pd.DataFrame(result_articles60)"
   ]
  },
  {
   "cell_type": "code",
   "execution_count": 161,
   "id": "4e875cb8-10a9-49a8-bd61-8c25a78966f9",
   "metadata": {},
   "outputs": [],
   "source": [
    "url61 = f'https://www.dr.dk/tjenester/steffi/graphql?query=fragment%20ArticleResultFields%20on%20Article%20%7B%20type%3A%20__typename%20urn%20urlPathId%20title%20format%20publications%20%7B%20...on%20ArticlePublication%20%7B%20breaking%20live%20serviceChannel%20%7B%20urn%20%7D%20%7D%20%7D%20summary%20startDate%20teaserImage%20%7B%20default%20%7B%20url%20%7D%20%7D%20head%20%7B%20type%3A%20__typename%20...%20on%20MediaComponent%20%7B%20resource%20%7B%20type%3A%20__typename%20...%20on%20LiveMedia%20%7B%20urn%20mediaType%20%7D%20...%20on%20Clip%20%7B%20urn%20mediaType%20durationInMilliseconds%20%7D%20...%20on%20ClipBundle%20%7B%20items(limit%3A%201)%20%7B%20__typename%20urn%20durationInMilliseconds%20%7D%20%7D%20%7D%20%7D%20...%20on%20ImageCollectionComponent%20%7B%20images%20%7B%20default%3A%20image(key%3A%20%22default%22)%20%7B%20type%3A%20__typename%20%7D%20%7D%20%7D%20...%20on%20RatingComponent%20%7B%20rating%20%7D%20%7D%20contributions(limit%3A%201)%20%7B%20agent%20%7B%20...%20on%20Person%20%7B%20name%20%7D%20%7D%20role%20%7D%20site%20%7B%20url%20urn%20title%20presentation%20%7B%20colors%20teaserImage%20%7B%20default%3A%20image(key%3A%20%22default%22)%20%7B%20url%20%7D%20%7D%20%7D%20%7D%20%7D%20fragment%20RecipeResultFields%20on%20Recipe%20%7B%20title%20url%20image%20%7B%20url%20%7D%20startDate%20%7D%20fragment%20UnknownSearchResultFields%20on%20UnknownSearchResult%20%7B%20title%20url%20label%20image%20%7B%20url%20width%20height%20%7D%20%7D%20fragment%20MusicArtistResultFields%20on%20MusicArtist%20%7B%20url%20name%20image%20%7B%20url%20width%20height%20%7D%20%7D%20query%20SearchPageDRDK(%24query%3A%20String!%20%24limit%3A%20Int!%20%24offset%3A%20Int!%20%24sort%3A%20SearchSort)%20%7B%20drdk%3A%20search(query%3A%20%24query%20logQuery%3A%20%24query%20limit%3A%20%24limit%20offset%3A%20%24offset%20products%3A%20%5B%22drdk%22%5D%20sort%3A%20%24sort)%20%7B%20totalCount%20results%3A%20nodes%20%7B%20type%3A%20__typename%20...%20on%20Article%20%7B%20...ArticleResultFields%20%7D%20...%20on%20Recipe%20%7B%20...RecipeResultFields%20%7D%20...%20on%20MusicArtist%20%7B%20...MusicArtistResultFields%20%7D%20...%20on%20UnknownSearchResult%20%7B%20...UnknownSearchResultFields%20%7D%20%7D%20spellCheck%20%7D%20%7D&variables=%7B%22query%22%3A%22c20%22%2C%22sort%22%3A%22Relevance%22%2C%22limit%22%3A10%2C%22offset%22%3A600%7D'\n",
    "headers = {'name':'Asta Thit Kettel', 'from':'ucph','email':'dnp@ku.dk'}\n",
    "response61 = requests.get(url61, headers)\n",
    "results61 = response61.json()\n",
    "result_articles61 = [{'urlPathId': article['urlPathId'], 'title': article['title']} for article in results61['data']['drdk']['results']]\n",
    "data61 = pd.DataFrame(result_articles61)"
   ]
  },
  {
   "cell_type": "code",
   "execution_count": 162,
   "id": "807c82cc-140c-457a-b66a-e942f5831529",
   "metadata": {},
   "outputs": [],
   "source": [
    "url62 = f'https://www.dr.dk/tjenester/steffi/graphql?query=fragment%20ArticleResultFields%20on%20Article%20%7B%20type%3A%20__typename%20urn%20urlPathId%20title%20format%20publications%20%7B%20...on%20ArticlePublication%20%7B%20breaking%20live%20serviceChannel%20%7B%20urn%20%7D%20%7D%20%7D%20summary%20startDate%20teaserImage%20%7B%20default%20%7B%20url%20%7D%20%7D%20head%20%7B%20type%3A%20__typename%20...%20on%20MediaComponent%20%7B%20resource%20%7B%20type%3A%20__typename%20...%20on%20LiveMedia%20%7B%20urn%20mediaType%20%7D%20...%20on%20Clip%20%7B%20urn%20mediaType%20durationInMilliseconds%20%7D%20...%20on%20ClipBundle%20%7B%20items(limit%3A%201)%20%7B%20__typename%20urn%20durationInMilliseconds%20%7D%20%7D%20%7D%20%7D%20...%20on%20ImageCollectionComponent%20%7B%20images%20%7B%20default%3A%20image(key%3A%20%22default%22)%20%7B%20type%3A%20__typename%20%7D%20%7D%20%7D%20...%20on%20RatingComponent%20%7B%20rating%20%7D%20%7D%20contributions(limit%3A%201)%20%7B%20agent%20%7B%20...%20on%20Person%20%7B%20name%20%7D%20%7D%20role%20%7D%20site%20%7B%20url%20urn%20title%20presentation%20%7B%20colors%20teaserImage%20%7B%20default%3A%20image(key%3A%20%22default%22)%20%7B%20url%20%7D%20%7D%20%7D%20%7D%20%7D%20fragment%20RecipeResultFields%20on%20Recipe%20%7B%20title%20url%20image%20%7B%20url%20%7D%20startDate%20%7D%20fragment%20UnknownSearchResultFields%20on%20UnknownSearchResult%20%7B%20title%20url%20label%20image%20%7B%20url%20width%20height%20%7D%20%7D%20fragment%20MusicArtistResultFields%20on%20MusicArtist%20%7B%20url%20name%20image%20%7B%20url%20width%20height%20%7D%20%7D%20query%20SearchPageDRDK(%24query%3A%20String!%20%24limit%3A%20Int!%20%24offset%3A%20Int!%20%24sort%3A%20SearchSort)%20%7B%20drdk%3A%20search(query%3A%20%24query%20logQuery%3A%20%24query%20limit%3A%20%24limit%20offset%3A%20%24offset%20products%3A%20%5B%22drdk%22%5D%20sort%3A%20%24sort)%20%7B%20totalCount%20results%3A%20nodes%20%7B%20type%3A%20__typename%20...%20on%20Article%20%7B%20...ArticleResultFields%20%7D%20...%20on%20Recipe%20%7B%20...RecipeResultFields%20%7D%20...%20on%20MusicArtist%20%7B%20...MusicArtistResultFields%20%7D%20...%20on%20UnknownSearchResult%20%7B%20...UnknownSearchResultFields%20%7D%20%7D%20spellCheck%20%7D%20%7D&variables=%7B%22query%22%3A%22c20%22%2C%22sort%22%3A%22Relevance%22%2C%22limit%22%3A10%2C%22offset%22%3A610%7D'\n",
    "headers = {'name':'Asta Thit Kettel', 'from':'ucph','email':'dnp@ku.dk'}\n",
    "response62 = requests.get(url62, headers)\n",
    "results62 = response62.json()\n",
    "result_articles62 = [{'urlPathId': article['urlPathId'], 'title': article['title']} for article in results62['data']['drdk']['results']]\n",
    "data62 = pd.DataFrame(result_articles62)"
   ]
  },
  {
   "cell_type": "code",
   "execution_count": 163,
   "id": "cc1a5379-6c5f-414a-b2df-1613b1bb025d",
   "metadata": {},
   "outputs": [],
   "source": [
    "url63 = f'https://www.dr.dk/tjenester/steffi/graphql?query=fragment%20ArticleResultFields%20on%20Article%20%7B%20type%3A%20__typename%20urn%20urlPathId%20title%20format%20publications%20%7B%20...on%20ArticlePublication%20%7B%20breaking%20live%20serviceChannel%20%7B%20urn%20%7D%20%7D%20%7D%20summary%20startDate%20teaserImage%20%7B%20default%20%7B%20url%20%7D%20%7D%20head%20%7B%20type%3A%20__typename%20...%20on%20MediaComponent%20%7B%20resource%20%7B%20type%3A%20__typename%20...%20on%20LiveMedia%20%7B%20urn%20mediaType%20%7D%20...%20on%20Clip%20%7B%20urn%20mediaType%20durationInMilliseconds%20%7D%20...%20on%20ClipBundle%20%7B%20items(limit%3A%201)%20%7B%20__typename%20urn%20durationInMilliseconds%20%7D%20%7D%20%7D%20%7D%20...%20on%20ImageCollectionComponent%20%7B%20images%20%7B%20default%3A%20image(key%3A%20%22default%22)%20%7B%20type%3A%20__typename%20%7D%20%7D%20%7D%20...%20on%20RatingComponent%20%7B%20rating%20%7D%20%7D%20contributions(limit%3A%201)%20%7B%20agent%20%7B%20...%20on%20Person%20%7B%20name%20%7D%20%7D%20role%20%7D%20site%20%7B%20url%20urn%20title%20presentation%20%7B%20colors%20teaserImage%20%7B%20default%3A%20image(key%3A%20%22default%22)%20%7B%20url%20%7D%20%7D%20%7D%20%7D%20%7D%20fragment%20RecipeResultFields%20on%20Recipe%20%7B%20title%20url%20image%20%7B%20url%20%7D%20startDate%20%7D%20fragment%20UnknownSearchResultFields%20on%20UnknownSearchResult%20%7B%20title%20url%20label%20image%20%7B%20url%20width%20height%20%7D%20%7D%20fragment%20MusicArtistResultFields%20on%20MusicArtist%20%7B%20url%20name%20image%20%7B%20url%20width%20height%20%7D%20%7D%20query%20SearchPageDRDK(%24query%3A%20String!%20%24limit%3A%20Int!%20%24offset%3A%20Int!%20%24sort%3A%20SearchSort)%20%7B%20drdk%3A%20search(query%3A%20%24query%20logQuery%3A%20%24query%20limit%3A%20%24limit%20offset%3A%20%24offset%20products%3A%20%5B%22drdk%22%5D%20sort%3A%20%24sort)%20%7B%20totalCount%20results%3A%20nodes%20%7B%20type%3A%20__typename%20...%20on%20Article%20%7B%20...ArticleResultFields%20%7D%20...%20on%20Recipe%20%7B%20...RecipeResultFields%20%7D%20...%20on%20MusicArtist%20%7B%20...MusicArtistResultFields%20%7D%20...%20on%20UnknownSearchResult%20%7B%20...UnknownSearchResultFields%20%7D%20%7D%20spellCheck%20%7D%20%7D&variables=%7B%22query%22%3A%22c20%22%2C%22sort%22%3A%22Relevance%22%2C%22limit%22%3A10%2C%22offset%22%3A620%7D'\n",
    "headers = {'name':'Asta Thit Kettel', 'from':'ucph','email':'dnp@ku.dk'}\n",
    "response63 = requests.get(url63, headers)\n",
    "results63 = response63.json()\n",
    "result_articles63 = [{'urlPathId': article['urlPathId'], 'title': article['title']} for article in results63['data']['drdk']['results']]\n",
    "data63 = pd.DataFrame(result_articles63)"
   ]
  },
  {
   "cell_type": "code",
   "execution_count": 164,
   "id": "c8b4b988-ece4-440b-8a0a-12a962928267",
   "metadata": {},
   "outputs": [],
   "source": [
    "url64 = f'https://www.dr.dk/tjenester/steffi/graphql?query=fragment%20ArticleResultFields%20on%20Article%20%7B%20type%3A%20__typename%20urn%20urlPathId%20title%20format%20publications%20%7B%20...on%20ArticlePublication%20%7B%20breaking%20live%20serviceChannel%20%7B%20urn%20%7D%20%7D%20%7D%20summary%20startDate%20teaserImage%20%7B%20default%20%7B%20url%20%7D%20%7D%20head%20%7B%20type%3A%20__typename%20...%20on%20MediaComponent%20%7B%20resource%20%7B%20type%3A%20__typename%20...%20on%20LiveMedia%20%7B%20urn%20mediaType%20%7D%20...%20on%20Clip%20%7B%20urn%20mediaType%20durationInMilliseconds%20%7D%20...%20on%20ClipBundle%20%7B%20items(limit%3A%201)%20%7B%20__typename%20urn%20durationInMilliseconds%20%7D%20%7D%20%7D%20%7D%20...%20on%20ImageCollectionComponent%20%7B%20images%20%7B%20default%3A%20image(key%3A%20%22default%22)%20%7B%20type%3A%20__typename%20%7D%20%7D%20%7D%20...%20on%20RatingComponent%20%7B%20rating%20%7D%20%7D%20contributions(limit%3A%201)%20%7B%20agent%20%7B%20...%20on%20Person%20%7B%20name%20%7D%20%7D%20role%20%7D%20site%20%7B%20url%20urn%20title%20presentation%20%7B%20colors%20teaserImage%20%7B%20default%3A%20image(key%3A%20%22default%22)%20%7B%20url%20%7D%20%7D%20%7D%20%7D%20%7D%20fragment%20RecipeResultFields%20on%20Recipe%20%7B%20title%20url%20image%20%7B%20url%20%7D%20startDate%20%7D%20fragment%20UnknownSearchResultFields%20on%20UnknownSearchResult%20%7B%20title%20url%20label%20image%20%7B%20url%20width%20height%20%7D%20%7D%20fragment%20MusicArtistResultFields%20on%20MusicArtist%20%7B%20url%20name%20image%20%7B%20url%20width%20height%20%7D%20%7D%20query%20SearchPageDRDK(%24query%3A%20String!%20%24limit%3A%20Int!%20%24offset%3A%20Int!%20%24sort%3A%20SearchSort)%20%7B%20drdk%3A%20search(query%3A%20%24query%20logQuery%3A%20%24query%20limit%3A%20%24limit%20offset%3A%20%24offset%20products%3A%20%5B%22drdk%22%5D%20sort%3A%20%24sort)%20%7B%20totalCount%20results%3A%20nodes%20%7B%20type%3A%20__typename%20...%20on%20Article%20%7B%20...ArticleResultFields%20%7D%20...%20on%20Recipe%20%7B%20...RecipeResultFields%20%7D%20...%20on%20MusicArtist%20%7B%20...MusicArtistResultFields%20%7D%20...%20on%20UnknownSearchResult%20%7B%20...UnknownSearchResultFields%20%7D%20%7D%20spellCheck%20%7D%20%7D&variables=%7B%22query%22%3A%22c20%22%2C%22sort%22%3A%22Relevance%22%2C%22limit%22%3A10%2C%22offset%22%3A630%7D'\n",
    "headers = {'name':'Asta Thit Kettel', 'from':'ucph','email':'dnp@ku.dk'}\n",
    "response64 = requests.get(url64, headers)\n",
    "results64 = response64.json()\n",
    "result_articles64 = [{'urlPathId': article['urlPathId'], 'title': article['title']} for article in results64['data']['drdk']['results']]\n",
    "data64 = pd.DataFrame(result_articles64)"
   ]
  },
  {
   "cell_type": "code",
   "execution_count": 165,
   "id": "f17bb32e-9f9e-45fa-b481-f2d2e5c00045",
   "metadata": {},
   "outputs": [],
   "source": [
    "url65 = f'https://www.dr.dk/tjenester/steffi/graphql?query=fragment%20ArticleResultFields%20on%20Article%20%7B%20type%3A%20__typename%20urn%20urlPathId%20title%20format%20publications%20%7B%20...on%20ArticlePublication%20%7B%20breaking%20live%20serviceChannel%20%7B%20urn%20%7D%20%7D%20%7D%20summary%20startDate%20teaserImage%20%7B%20default%20%7B%20url%20%7D%20%7D%20head%20%7B%20type%3A%20__typename%20...%20on%20MediaComponent%20%7B%20resource%20%7B%20type%3A%20__typename%20...%20on%20LiveMedia%20%7B%20urn%20mediaType%20%7D%20...%20on%20Clip%20%7B%20urn%20mediaType%20durationInMilliseconds%20%7D%20...%20on%20ClipBundle%20%7B%20items(limit%3A%201)%20%7B%20__typename%20urn%20durationInMilliseconds%20%7D%20%7D%20%7D%20%7D%20...%20on%20ImageCollectionComponent%20%7B%20images%20%7B%20default%3A%20image(key%3A%20%22default%22)%20%7B%20type%3A%20__typename%20%7D%20%7D%20%7D%20...%20on%20RatingComponent%20%7B%20rating%20%7D%20%7D%20contributions(limit%3A%201)%20%7B%20agent%20%7B%20...%20on%20Person%20%7B%20name%20%7D%20%7D%20role%20%7D%20site%20%7B%20url%20urn%20title%20presentation%20%7B%20colors%20teaserImage%20%7B%20default%3A%20image(key%3A%20%22default%22)%20%7B%20url%20%7D%20%7D%20%7D%20%7D%20%7D%20fragment%20RecipeResultFields%20on%20Recipe%20%7B%20title%20url%20image%20%7B%20url%20%7D%20startDate%20%7D%20fragment%20UnknownSearchResultFields%20on%20UnknownSearchResult%20%7B%20title%20url%20label%20image%20%7B%20url%20width%20height%20%7D%20%7D%20fragment%20MusicArtistResultFields%20on%20MusicArtist%20%7B%20url%20name%20image%20%7B%20url%20width%20height%20%7D%20%7D%20query%20SearchPageDRDK(%24query%3A%20String!%20%24limit%3A%20Int!%20%24offset%3A%20Int!%20%24sort%3A%20SearchSort)%20%7B%20drdk%3A%20search(query%3A%20%24query%20logQuery%3A%20%24query%20limit%3A%20%24limit%20offset%3A%20%24offset%20products%3A%20%5B%22drdk%22%5D%20sort%3A%20%24sort)%20%7B%20totalCount%20results%3A%20nodes%20%7B%20type%3A%20__typename%20...%20on%20Article%20%7B%20...ArticleResultFields%20%7D%20...%20on%20Recipe%20%7B%20...RecipeResultFields%20%7D%20...%20on%20MusicArtist%20%7B%20...MusicArtistResultFields%20%7D%20...%20on%20UnknownSearchResult%20%7B%20...UnknownSearchResultFields%20%7D%20%7D%20spellCheck%20%7D%20%7D&variables=%7B%22query%22%3A%22c20%22%2C%22sort%22%3A%22Relevance%22%2C%22limit%22%3A10%2C%22offset%22%3A640%7D'\n",
    "headers = {'name':'Asta Thit Kettel', 'from':'ucph','email':'dnp@ku.dk'}\n",
    "response65 = requests.get(url65, headers)\n",
    "results65 = response65.json()\n",
    "result_articles65 = [{'urlPathId': article['urlPathId'], 'title': article['title']} for article in results65['data']['drdk']['results']]\n",
    "data65 = pd.DataFrame(result_articles65)"
   ]
  },
  {
   "cell_type": "code",
   "execution_count": 166,
   "id": "a94a3cda-f4bb-45ff-9b09-d299bc28d612",
   "metadata": {},
   "outputs": [],
   "source": [
    "url66 = f'https://www.dr.dk/tjenester/steffi/graphql?query=fragment%20ArticleResultFields%20on%20Article%20%7B%20type%3A%20__typename%20urn%20urlPathId%20title%20format%20publications%20%7B%20...on%20ArticlePublication%20%7B%20breaking%20live%20serviceChannel%20%7B%20urn%20%7D%20%7D%20%7D%20summary%20startDate%20teaserImage%20%7B%20default%20%7B%20url%20%7D%20%7D%20head%20%7B%20type%3A%20__typename%20...%20on%20MediaComponent%20%7B%20resource%20%7B%20type%3A%20__typename%20...%20on%20LiveMedia%20%7B%20urn%20mediaType%20%7D%20...%20on%20Clip%20%7B%20urn%20mediaType%20durationInMilliseconds%20%7D%20...%20on%20ClipBundle%20%7B%20items(limit%3A%201)%20%7B%20__typename%20urn%20durationInMilliseconds%20%7D%20%7D%20%7D%20%7D%20...%20on%20ImageCollectionComponent%20%7B%20images%20%7B%20default%3A%20image(key%3A%20%22default%22)%20%7B%20type%3A%20__typename%20%7D%20%7D%20%7D%20...%20on%20RatingComponent%20%7B%20rating%20%7D%20%7D%20contributions(limit%3A%201)%20%7B%20agent%20%7B%20...%20on%20Person%20%7B%20name%20%7D%20%7D%20role%20%7D%20site%20%7B%20url%20urn%20title%20presentation%20%7B%20colors%20teaserImage%20%7B%20default%3A%20image(key%3A%20%22default%22)%20%7B%20url%20%7D%20%7D%20%7D%20%7D%20%7D%20fragment%20RecipeResultFields%20on%20Recipe%20%7B%20title%20url%20image%20%7B%20url%20%7D%20startDate%20%7D%20fragment%20UnknownSearchResultFields%20on%20UnknownSearchResult%20%7B%20title%20url%20label%20image%20%7B%20url%20width%20height%20%7D%20%7D%20fragment%20MusicArtistResultFields%20on%20MusicArtist%20%7B%20url%20name%20image%20%7B%20url%20width%20height%20%7D%20%7D%20query%20SearchPageDRDK(%24query%3A%20String!%20%24limit%3A%20Int!%20%24offset%3A%20Int!%20%24sort%3A%20SearchSort)%20%7B%20drdk%3A%20search(query%3A%20%24query%20logQuery%3A%20%24query%20limit%3A%20%24limit%20offset%3A%20%24offset%20products%3A%20%5B%22drdk%22%5D%20sort%3A%20%24sort)%20%7B%20totalCount%20results%3A%20nodes%20%7B%20type%3A%20__typename%20...%20on%20Article%20%7B%20...ArticleResultFields%20%7D%20...%20on%20Recipe%20%7B%20...RecipeResultFields%20%7D%20...%20on%20MusicArtist%20%7B%20...MusicArtistResultFields%20%7D%20...%20on%20UnknownSearchResult%20%7B%20...UnknownSearchResultFields%20%7D%20%7D%20spellCheck%20%7D%20%7D&variables=%7B%22query%22%3A%22c20%22%2C%22sort%22%3A%22Relevance%22%2C%22limit%22%3A10%2C%22offset%22%3A650%7D'\n",
    "headers = {'name':'Asta Thit Kettel', 'from':'ucph','email':'dnp@ku.dk'}\n",
    "response66 = requests.get(url66, headers)\n",
    "results66 = response66.json()\n",
    "result_articles66 = [{'urlPathId': article['urlPathId'], 'title': article['title']} for article in results66['data']['drdk']['results']]\n",
    "data66 = pd.DataFrame(result_articles66)"
   ]
  },
  {
   "cell_type": "code",
   "execution_count": 167,
   "id": "2634a51f-3850-46a4-9908-8d910a7a09b8",
   "metadata": {},
   "outputs": [],
   "source": [
    "url67 = f'https://www.dr.dk/tjenester/steffi/graphql?query=fragment%20ArticleResultFields%20on%20Article%20%7B%20type%3A%20__typename%20urn%20urlPathId%20title%20format%20publications%20%7B%20...on%20ArticlePublication%20%7B%20breaking%20live%20serviceChannel%20%7B%20urn%20%7D%20%7D%20%7D%20summary%20startDate%20teaserImage%20%7B%20default%20%7B%20url%20%7D%20%7D%20head%20%7B%20type%3A%20__typename%20...%20on%20MediaComponent%20%7B%20resource%20%7B%20type%3A%20__typename%20...%20on%20LiveMedia%20%7B%20urn%20mediaType%20%7D%20...%20on%20Clip%20%7B%20urn%20mediaType%20durationInMilliseconds%20%7D%20...%20on%20ClipBundle%20%7B%20items(limit%3A%201)%20%7B%20__typename%20urn%20durationInMilliseconds%20%7D%20%7D%20%7D%20%7D%20...%20on%20ImageCollectionComponent%20%7B%20images%20%7B%20default%3A%20image(key%3A%20%22default%22)%20%7B%20type%3A%20__typename%20%7D%20%7D%20%7D%20...%20on%20RatingComponent%20%7B%20rating%20%7D%20%7D%20contributions(limit%3A%201)%20%7B%20agent%20%7B%20...%20on%20Person%20%7B%20name%20%7D%20%7D%20role%20%7D%20site%20%7B%20url%20urn%20title%20presentation%20%7B%20colors%20teaserImage%20%7B%20default%3A%20image(key%3A%20%22default%22)%20%7B%20url%20%7D%20%7D%20%7D%20%7D%20%7D%20fragment%20RecipeResultFields%20on%20Recipe%20%7B%20title%20url%20image%20%7B%20url%20%7D%20startDate%20%7D%20fragment%20UnknownSearchResultFields%20on%20UnknownSearchResult%20%7B%20title%20url%20label%20image%20%7B%20url%20width%20height%20%7D%20%7D%20fragment%20MusicArtistResultFields%20on%20MusicArtist%20%7B%20url%20name%20image%20%7B%20url%20width%20height%20%7D%20%7D%20query%20SearchPageDRDK(%24query%3A%20String!%20%24limit%3A%20Int!%20%24offset%3A%20Int!%20%24sort%3A%20SearchSort)%20%7B%20drdk%3A%20search(query%3A%20%24query%20logQuery%3A%20%24query%20limit%3A%20%24limit%20offset%3A%20%24offset%20products%3A%20%5B%22drdk%22%5D%20sort%3A%20%24sort)%20%7B%20totalCount%20results%3A%20nodes%20%7B%20type%3A%20__typename%20...%20on%20Article%20%7B%20...ArticleResultFields%20%7D%20...%20on%20Recipe%20%7B%20...RecipeResultFields%20%7D%20...%20on%20MusicArtist%20%7B%20...MusicArtistResultFields%20%7D%20...%20on%20UnknownSearchResult%20%7B%20...UnknownSearchResultFields%20%7D%20%7D%20spellCheck%20%7D%20%7D&variables=%7B%22query%22%3A%22c20%22%2C%22sort%22%3A%22Relevance%22%2C%22limit%22%3A10%2C%22offset%22%3A660%7D'\n",
    "headers = {'name':'Asta Thit Kettel', 'from':'ucph','email':'dnp@ku.dk'}\n",
    "response67 = requests.get(url67, headers)\n",
    "results67 = response67.json()\n",
    "result_articles67 = [{'urlPathId': article['urlPathId'], 'title': article['title']} for article in results67['data']['drdk']['results']]\n",
    "data67 = pd.DataFrame(result_articles67)"
   ]
  },
  {
   "cell_type": "code",
   "execution_count": 168,
   "id": "5af065d0-e88b-43fa-b228-ebf59b5233ee",
   "metadata": {},
   "outputs": [],
   "source": [
    "url68 = f'https://www.dr.dk/tjenester/steffi/graphql?query=fragment%20ArticleResultFields%20on%20Article%20%7B%20type%3A%20__typename%20urn%20urlPathId%20title%20format%20publications%20%7B%20...on%20ArticlePublication%20%7B%20breaking%20live%20serviceChannel%20%7B%20urn%20%7D%20%7D%20%7D%20summary%20startDate%20teaserImage%20%7B%20default%20%7B%20url%20%7D%20%7D%20head%20%7B%20type%3A%20__typename%20...%20on%20MediaComponent%20%7B%20resource%20%7B%20type%3A%20__typename%20...%20on%20LiveMedia%20%7B%20urn%20mediaType%20%7D%20...%20on%20Clip%20%7B%20urn%20mediaType%20durationInMilliseconds%20%7D%20...%20on%20ClipBundle%20%7B%20items(limit%3A%201)%20%7B%20__typename%20urn%20durationInMilliseconds%20%7D%20%7D%20%7D%20%7D%20...%20on%20ImageCollectionComponent%20%7B%20images%20%7B%20default%3A%20image(key%3A%20%22default%22)%20%7B%20type%3A%20__typename%20%7D%20%7D%20%7D%20...%20on%20RatingComponent%20%7B%20rating%20%7D%20%7D%20contributions(limit%3A%201)%20%7B%20agent%20%7B%20...%20on%20Person%20%7B%20name%20%7D%20%7D%20role%20%7D%20site%20%7B%20url%20urn%20title%20presentation%20%7B%20colors%20teaserImage%20%7B%20default%3A%20image(key%3A%20%22default%22)%20%7B%20url%20%7D%20%7D%20%7D%20%7D%20%7D%20fragment%20RecipeResultFields%20on%20Recipe%20%7B%20title%20url%20image%20%7B%20url%20%7D%20startDate%20%7D%20fragment%20UnknownSearchResultFields%20on%20UnknownSearchResult%20%7B%20title%20url%20label%20image%20%7B%20url%20width%20height%20%7D%20%7D%20fragment%20MusicArtistResultFields%20on%20MusicArtist%20%7B%20url%20name%20image%20%7B%20url%20width%20height%20%7D%20%7D%20query%20SearchPageDRDK(%24query%3A%20String!%20%24limit%3A%20Int!%20%24offset%3A%20Int!%20%24sort%3A%20SearchSort)%20%7B%20drdk%3A%20search(query%3A%20%24query%20logQuery%3A%20%24query%20limit%3A%20%24limit%20offset%3A%20%24offset%20products%3A%20%5B%22drdk%22%5D%20sort%3A%20%24sort)%20%7B%20totalCount%20results%3A%20nodes%20%7B%20type%3A%20__typename%20...%20on%20Article%20%7B%20...ArticleResultFields%20%7D%20...%20on%20Recipe%20%7B%20...RecipeResultFields%20%7D%20...%20on%20MusicArtist%20%7B%20...MusicArtistResultFields%20%7D%20...%20on%20UnknownSearchResult%20%7B%20...UnknownSearchResultFields%20%7D%20%7D%20spellCheck%20%7D%20%7D&variables=%7B%22query%22%3A%22c20%22%2C%22sort%22%3A%22Relevance%22%2C%22limit%22%3A10%2C%22offset%22%3A670%7D'\n",
    "headers = {'name':'Asta Thit Kettel', 'from':'ucph','email':'dnp@ku.dk'}\n",
    "response68 = requests.get(url68, headers)\n",
    "results68 = response68.json()\n",
    "result_articles68 = [{'urlPathId': article['urlPathId'], 'title': article['title']} for article in results68['data']['drdk']['results']]\n",
    "data68 = pd.DataFrame(result_articles68)"
   ]
  },
  {
   "cell_type": "code",
   "execution_count": 169,
   "id": "a441663c-191a-4985-9f26-19855f87d6ec",
   "metadata": {},
   "outputs": [],
   "source": [
    "url69 = f'https://www.dr.dk/tjenester/steffi/graphql?query=fragment%20ArticleResultFields%20on%20Article%20%7B%20type%3A%20__typename%20urn%20urlPathId%20title%20format%20publications%20%7B%20...on%20ArticlePublication%20%7B%20breaking%20live%20serviceChannel%20%7B%20urn%20%7D%20%7D%20%7D%20summary%20startDate%20teaserImage%20%7B%20default%20%7B%20url%20%7D%20%7D%20head%20%7B%20type%3A%20__typename%20...%20on%20MediaComponent%20%7B%20resource%20%7B%20type%3A%20__typename%20...%20on%20LiveMedia%20%7B%20urn%20mediaType%20%7D%20...%20on%20Clip%20%7B%20urn%20mediaType%20durationInMilliseconds%20%7D%20...%20on%20ClipBundle%20%7B%20items(limit%3A%201)%20%7B%20__typename%20urn%20durationInMilliseconds%20%7D%20%7D%20%7D%20%7D%20...%20on%20ImageCollectionComponent%20%7B%20images%20%7B%20default%3A%20image(key%3A%20%22default%22)%20%7B%20type%3A%20__typename%20%7D%20%7D%20%7D%20...%20on%20RatingComponent%20%7B%20rating%20%7D%20%7D%20contributions(limit%3A%201)%20%7B%20agent%20%7B%20...%20on%20Person%20%7B%20name%20%7D%20%7D%20role%20%7D%20site%20%7B%20url%20urn%20title%20presentation%20%7B%20colors%20teaserImage%20%7B%20default%3A%20image(key%3A%20%22default%22)%20%7B%20url%20%7D%20%7D%20%7D%20%7D%20%7D%20fragment%20RecipeResultFields%20on%20Recipe%20%7B%20title%20url%20image%20%7B%20url%20%7D%20startDate%20%7D%20fragment%20UnknownSearchResultFields%20on%20UnknownSearchResult%20%7B%20title%20url%20label%20image%20%7B%20url%20width%20height%20%7D%20%7D%20fragment%20MusicArtistResultFields%20on%20MusicArtist%20%7B%20url%20name%20image%20%7B%20url%20width%20height%20%7D%20%7D%20query%20SearchPageDRDK(%24query%3A%20String!%20%24limit%3A%20Int!%20%24offset%3A%20Int!%20%24sort%3A%20SearchSort)%20%7B%20drdk%3A%20search(query%3A%20%24query%20logQuery%3A%20%24query%20limit%3A%20%24limit%20offset%3A%20%24offset%20products%3A%20%5B%22drdk%22%5D%20sort%3A%20%24sort)%20%7B%20totalCount%20results%3A%20nodes%20%7B%20type%3A%20__typename%20...%20on%20Article%20%7B%20...ArticleResultFields%20%7D%20...%20on%20Recipe%20%7B%20...RecipeResultFields%20%7D%20...%20on%20MusicArtist%20%7B%20...MusicArtistResultFields%20%7D%20...%20on%20UnknownSearchResult%20%7B%20...UnknownSearchResultFields%20%7D%20%7D%20spellCheck%20%7D%20%7D&variables=%7B%22query%22%3A%22c20%22%2C%22sort%22%3A%22Relevance%22%2C%22limit%22%3A10%2C%22offset%22%3A680%7D'\n",
    "headers = {'name':'Asta Thit Kettel', 'from':'ucph','email':'dnp@ku.dk'}\n",
    "response69 = requests.get(url69, headers)\n",
    "results69 = response69.json()\n",
    "result_articles69 = [{'urlPathId': article['urlPathId'], 'title': article['title']} for article in results69['data']['drdk']['results']]\n",
    "data69 = pd.DataFrame(result_articles69)"
   ]
  },
  {
   "cell_type": "code",
   "execution_count": 170,
   "id": "d408e659-2e5d-4874-9eb5-7c2e391f48dd",
   "metadata": {},
   "outputs": [],
   "source": [
    "url70 = f'https://www.dr.dk/tjenester/steffi/graphql?query=fragment%20ArticleResultFields%20on%20Article%20%7B%20type%3A%20__typename%20urn%20urlPathId%20title%20format%20publications%20%7B%20...on%20ArticlePublication%20%7B%20breaking%20live%20serviceChannel%20%7B%20urn%20%7D%20%7D%20%7D%20summary%20startDate%20teaserImage%20%7B%20default%20%7B%20url%20%7D%20%7D%20head%20%7B%20type%3A%20__typename%20...%20on%20MediaComponent%20%7B%20resource%20%7B%20type%3A%20__typename%20...%20on%20LiveMedia%20%7B%20urn%20mediaType%20%7D%20...%20on%20Clip%20%7B%20urn%20mediaType%20durationInMilliseconds%20%7D%20...%20on%20ClipBundle%20%7B%20items(limit%3A%201)%20%7B%20__typename%20urn%20durationInMilliseconds%20%7D%20%7D%20%7D%20%7D%20...%20on%20ImageCollectionComponent%20%7B%20images%20%7B%20default%3A%20image(key%3A%20%22default%22)%20%7B%20type%3A%20__typename%20%7D%20%7D%20%7D%20...%20on%20RatingComponent%20%7B%20rating%20%7D%20%7D%20contributions(limit%3A%201)%20%7B%20agent%20%7B%20...%20on%20Person%20%7B%20name%20%7D%20%7D%20role%20%7D%20site%20%7B%20url%20urn%20title%20presentation%20%7B%20colors%20teaserImage%20%7B%20default%3A%20image(key%3A%20%22default%22)%20%7B%20url%20%7D%20%7D%20%7D%20%7D%20%7D%20fragment%20RecipeResultFields%20on%20Recipe%20%7B%20title%20url%20image%20%7B%20url%20%7D%20startDate%20%7D%20fragment%20UnknownSearchResultFields%20on%20UnknownSearchResult%20%7B%20title%20url%20label%20image%20%7B%20url%20width%20height%20%7D%20%7D%20fragment%20MusicArtistResultFields%20on%20MusicArtist%20%7B%20url%20name%20image%20%7B%20url%20width%20height%20%7D%20%7D%20query%20SearchPageDRDK(%24query%3A%20String!%20%24limit%3A%20Int!%20%24offset%3A%20Int!%20%24sort%3A%20SearchSort)%20%7B%20drdk%3A%20search(query%3A%20%24query%20logQuery%3A%20%24query%20limit%3A%20%24limit%20offset%3A%20%24offset%20products%3A%20%5B%22drdk%22%5D%20sort%3A%20%24sort)%20%7B%20totalCount%20results%3A%20nodes%20%7B%20type%3A%20__typename%20...%20on%20Article%20%7B%20...ArticleResultFields%20%7D%20...%20on%20Recipe%20%7B%20...RecipeResultFields%20%7D%20...%20on%20MusicArtist%20%7B%20...MusicArtistResultFields%20%7D%20...%20on%20UnknownSearchResult%20%7B%20...UnknownSearchResultFields%20%7D%20%7D%20spellCheck%20%7D%20%7D&variables=%7B%22query%22%3A%22c20%22%2C%22sort%22%3A%22Relevance%22%2C%22limit%22%3A10%2C%22offset%22%3A690%7D'\n",
    "headers = {'name':'Asta Thit Kettel', 'from':'ucph','email':'dnp@ku.dk'}\n",
    "response70 = requests.get(url70, headers)\n",
    "results70 = response70.json()\n",
    "result_articles70 = [{'urlPathId': article['urlPathId'], 'title': article['title']} for article in results70['data']['drdk']['results']]\n",
    "data70 = pd.DataFrame(result_articles70)"
   ]
  },
  {
   "cell_type": "code",
   "execution_count": 175,
   "id": "51c4eb12-433d-457c-bf8a-1336bf19aec7",
   "metadata": {},
   "outputs": [],
   "source": [
    "# Merging all the dataframes into one\n",
    "dataframes = []\n",
    "for i in range(1,71):\n",
    "    dataframes.append(eval(f\"data{i}\"))\n",
    "\n",
    "\n",
    "mergedC20 = pd.concat(dataframes, ignore_index=True)\n",
    "\n",
    "mergedC20.to_csv(\"/Users/astakettel/Desktop/ISDS/GitHub/isds2024-egne/DR_article_urlsC20.csv\", index=False)"
   ]
  },
  {
   "cell_type": "markdown",
   "id": "0bb2cd73-b464-490f-a469-d31082dc2634",
   "metadata": {},
   "source": [
    "## 2. Text extraction - C20"
   ]
  },
  {
   "cell_type": "code",
   "execution_count": 2,
   "id": "05e966f6-0963-4679-8eee-a184ab9b0e6d",
   "metadata": {},
   "outputs": [],
   "source": [
    "dataC20_1 = pd.read_csv('DR_article_urlsC20.csv')"
   ]
  },
  {
   "cell_type": "code",
   "execution_count": 3,
   "id": "8a6f8f8f-0459-419c-861c-33f6b012871b",
   "metadata": {},
   "outputs": [],
   "source": [
    "all_urlsC20 = 'https://www.dr.dk' + dataC20_1['urlPathId']"
   ]
  },
  {
   "cell_type": "code",
   "execution_count": null,
   "id": "309b3001-0401-4635-8104-0439dd0d7926",
   "metadata": {},
   "outputs": [],
   "source": [
    "# Assuming all_urlsC20 is your list containing the URLs\n",
    "article_texts = []\n",
    "urls_processed = []\n",
    "article_dates = []  # List to store article dates\n",
    "\n",
    "# Loop through each URL in the list\n",
    "for index, url in tqdm(enumerate(all_urlsC20), total=len(all_urlsC20), desc=\"Scraping articles\"):\n",
    "    try:\n",
    "        # Sleep for a while to avoid overwhelming the server\n",
    "        time.sleep(5)  # Sleep for 5 seconds, adjust if needed\n",
    "\n",
    "        # Send a GET request to the URL\n",
    "        response = requests.get(url)\n",
    "        response.raise_for_status()  # Ensure the request was successful\n",
    "\n",
    "        # Parse the HTML content\n",
    "        soup = BeautifulSoup(response.text, 'html.parser')\n",
    "\n",
    "        # Extracting the content within the article__content-container div\n",
    "        article_text = \"\"\n",
    "\n",
    "        # Find the div with class 'dre-article-body'\n",
    "        content_div = soup.find('div', class_='dre-article-body')\n",
    "\n",
    "        if content_div:\n",
    "            # Iterate through all paragraphs or other elements within the content container\n",
    "            paragraphs = content_div.find_all('div', class_='dre-speech')\n",
    "            for paragraph in paragraphs:\n",
    "                article_text += paragraph.get_text(separator=\" \", strip=True) + \" \"\n",
    "\n",
    "        # Find the time tag with class 'dre-byline__date' and get the datetime attribute\n",
    "        date_tag = soup.find('time', class_='dre-byline__date')\n",
    "        article_date = None\n",
    "        if date_tag and date_tag.has_attr('datetime'):\n",
    "            article_date = date_tag['datetime']\n",
    "\n",
    "        # Append the extracted article text and date to their respective lists\n",
    "        article_texts.append(article_text.strip())\n",
    "        article_dates.append(article_date)\n",
    "        urls_processed.append(url)\n",
    "\n",
    "    except requests.RequestException as e:\n",
    "        # Append None to article_texts, article_dates, and the current URL to urls_processed for consistency\n",
    "        article_texts.append(None)\n",
    "        article_dates.append(None)\n",
    "        urls_processed.append(url)"
   ]
  },
  {
   "cell_type": "code",
   "execution_count": null,
   "id": "819bb798-54a5-446c-a19c-68df9b08bcbd",
   "metadata": {},
   "outputs": [],
   "source": [
    "# Create a DataFrame with the URLs and corresponding article texts\n",
    "dataC20_2 = pd.DataFrame({\n",
    "    'url': urls_processed,\n",
    "    'article_text': article_texts, \n",
    "    'date': article_dates\n",
    "})\n",
    "\n",
    "# Display the DataFrame with article texts\n",
    "dataC20_2"
   ]
  },
  {
   "cell_type": "code",
   "execution_count": 8,
   "id": "1fe83c4f-addd-425c-ad45-2a16ac2af348",
   "metadata": {},
   "outputs": [],
   "source": [
    "dataC20_2.to_csv('/Users/astakettel/Desktop/ISDS/GitHub/ISDS-sentiment-analysis/Webscraping/DR_C20_full_data.csv', index=False)"
   ]
  },
  {
   "cell_type": "markdown",
   "id": "b360bc5b-96b0-4462-a2e1-9b700d7e1240",
   "metadata": {},
   "source": [
    "## Merging C20 and C25"
   ]
  },
  {
   "cell_type": "code",
   "execution_count": 4,
   "id": "681cec69-5565-41b8-9726-a9993c9f7d1f",
   "metadata": {},
   "outputs": [],
   "source": [
    "C20 = pd.read_csv('/Users/astakettel/Desktop/ISDS/GitHub/ISDS-sentiment-analysis/Webscraping/DR_C20_full_data.csv')\n",
    "C25 = pd.read_csv('/Users/astakettel/Desktop/ISDS/GitHub/ISDS-sentiment-analysis/Webscraping/DR_C25_full_data.csv')"
   ]
  },
  {
   "cell_type": "code",
   "execution_count": 8,
   "id": "43c1d8b9-ab4f-446b-bcbf-d1e5203c4309",
   "metadata": {},
   "outputs": [],
   "source": [
    "C25 = C25.rename(columns={'dates': 'date'})\n"
   ]
  },
  {
   "cell_type": "code",
   "execution_count": 9,
   "id": "1686a586-371b-4e59-8791-a3e7b0090cf1",
   "metadata": {},
   "outputs": [],
   "source": [
    "data_full = pd.concat([C20, C25], ignore_index=True)"
   ]
  },
  {
   "cell_type": "code",
   "execution_count": 10,
   "id": "0ede166a-950f-4b87-9bd3-d7e6bbb1dce7",
   "metadata": {},
   "outputs": [],
   "source": [
    "data_full.to_csv('/Users/astakettel/Desktop/ISDS/GitHub/ISDS-sentiment-analysis/Webscraping/DR_full_data.csv', index=False)"
   ]
  },
  {
   "cell_type": "markdown",
   "id": "3802270e-f3d9-4241-b997-13df518ba755",
   "metadata": {},
   "source": [
    "# BERLINGSKE "
   ]
  },
  {
   "cell_type": "markdown",
   "id": "2fce30fd-43f4-4524-bcea-889c84d0b9db",
   "metadata": {},
   "source": [
    "## 1. Getting urls - C20 "
   ]
  },
  {
   "cell_type": "markdown",
   "id": "f305e8de-17dd-4bcc-b0f3-781368132d4d",
   "metadata": {},
   "source": [
    "## 2. Text extraction - C20"
   ]
  },
  {
   "cell_type": "markdown",
   "id": "7d815232-e99c-40ce-815f-e3a2e9916dc7",
   "metadata": {},
   "source": [
    "## 1. Getting urls - C25"
   ]
  },
  {
   "cell_type": "markdown",
   "id": "4e91406e-6c68-468a-9f07-575510343bb7",
   "metadata": {},
   "source": [
    "## 2. Text extraction"
   ]
  }
 ],
 "metadata": {
  "kernelspec": {
   "display_name": "Python 3 (ipykernel)",
   "language": "python",
   "name": "python3"
  },
  "language_info": {
   "codemirror_mode": {
    "name": "ipython",
    "version": 3
   },
   "file_extension": ".py",
   "mimetype": "text/x-python",
   "name": "python",
   "nbconvert_exporter": "python",
   "pygments_lexer": "ipython3",
   "version": "3.12.4"
  }
 },
 "nbformat": 4,
 "nbformat_minor": 5
}
