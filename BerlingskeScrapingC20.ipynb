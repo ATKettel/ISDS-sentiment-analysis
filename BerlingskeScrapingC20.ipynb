{
 "cells": [
  {
   "cell_type": "markdown",
   "id": "4345b01c-cbc5-4df9-9221-6648eb9a7ec7",
   "metadata": {},
   "source": [
    "## Packages"
   ]
  },
  {
   "cell_type": "code",
   "execution_count": 2,
   "id": "4ea250ba-9a33-420d-8c78-c421534961f2",
   "metadata": {},
   "outputs": [],
   "source": [
    "from selenium import webdriver\n",
    "from selenium.webdriver.common.by import By\n",
    "from selenium.common.exceptions import WebDriverException\n",
    "import time\n",
    "from bs4 import BeautifulSoup\n",
    "import csv\n",
    "from selenium.webdriver.chrome.options import Options\n",
    "import requests\n",
    "import time\n",
    "import tqdm\n",
    "import pandas as pd\n",
    "import os\n",
    "import json\n",
    "from selenium.webdriver.common.by import By\n",
    "from selenium.webdriver.support.ui import WebDriverWait\n",
    "from selenium.webdriver.support import expected_conditions as EC\n",
    "import time\n",
    "from tqdm import tqdm\n",
    "from selenium import webdriver\n",
    "from selenium.webdriver.chrome.service import Service\n",
    "from webdriver_manager.chrome import ChromeDriverManager\n",
    "from selenium.webdriver.chrome.options import Options\n",
    "from bs4 import BeautifulSoup\n",
    "import pandas as pd\n",
    "import pprint"
   ]
  },
  {
   "cell_type": "markdown",
   "id": "3a80f466-3e61-4ddb-b1cd-7614a9678435",
   "metadata": {},
   "source": [
    "# Outomated browsing"
   ]
  },
  {
   "cell_type": "markdown",
   "id": "97a34fda-9f12-4ea9-ac1f-acbf989b36af",
   "metadata": {},
   "source": [
    "### Set up, login and search for C20"
   ]
  },
  {
   "cell_type": "code",
   "execution_count": 18,
   "id": "5d1993ff-3831-4de5-9877-dedc5455b1e9",
   "metadata": {},
   "outputs": [],
   "source": [
    "# SETUP\n",
    "\n",
    "options = Options()\n",
    "options.add_argument('--disable-dev-shm-usage')  # Overcome limited resource problems\n",
    "options.add_argument('--no-sandbox')  # Bypass OS security model\n",
    "options.add_argument('--disable-gpu')  # Applicable to windows os only\n",
    "options.add_argument('start-maximized')  # Open Browser in maximized mode\n",
    "options.add_argument('--headless')  # Run in headless mode (no GUI)\n",
    "\n",
    "# Start webdriver (Chrome i dette eksempel)\n",
    "driver = webdriver.Chrome()\n",
    "\n",
    "# Dine login oplysninger\n",
    "login = \"jvgronlund@yahoo.com\"\n",
    "password = \"rebklemmer72\""
   ]
  },
  {
   "cell_type": "code",
   "execution_count": 20,
   "id": "72d426f9-c703-4287-a6a1-816913c0a31a",
   "metadata": {},
   "outputs": [
    {
     "name": "stdout",
     "output_type": "stream",
     "text": [
      "Ingen cookie-popup fundet, fortsætter uden.\n"
     ]
    }
   ],
   "source": [
    "# Go to login site\n",
    "driver.get('https://www.berlingske.dk/login')\n",
    "\n",
    "# Decline cookies\n",
    "try:\n",
    "    accept_cookies_button = driver.find_element(By.CSS_SELECTOR, 'button[id=\"CybotCookiebotDialogBodyLevelButtonLevelOptinAllowAll\"]')\n",
    "    accept_cookies_button.click()\n",
    "    time.sleep(2)\n",
    "except Exception as e:\n",
    "    print(\"Ingen cookie-popup fundet, fortsætter uden.\")\n",
    "\n",
    "# Find login-felterne og indtast login-oplysninger\n",
    "email_field = driver.find_element(By.ID, 'email')\n",
    "password_field = driver.find_element(By.ID, 'current-password')\n",
    "\n",
    "email_field.send_keys(login)\n",
    "password_field.send_keys(password)\n",
    "\n",
    "# Find and click login button\n",
    "login_button = driver.find_element(By.CSS_SELECTOR, 'button[type=\"submit\"]')\n",
    "login_button.click()\n",
    "time.sleep(5)"
   ]
  },
  {
   "cell_type": "code",
   "execution_count": 5,
   "id": "17f3e802-4652-457a-bd8d-a4052f9e67f2",
   "metadata": {},
   "outputs": [],
   "source": [
    "# Go to search results for C20\n",
    "driver.get('https://www.berlingske.dk/search?query=c20')\n",
    "\n",
    "# Wait for page to load\n",
    "time.sleep(5)"
   ]
  },
  {
   "cell_type": "markdown",
   "id": "1717d9de-4555-4a63-92f5-387348df3d0e",
   "metadata": {},
   "source": [
    "### Clicking \"show more\" untill all results are loaded"
   ]
  },
  {
   "cell_type": "code",
   "execution_count": 16,
   "id": "79ecb97d-b774-4c92-82dd-fcd5abd78046",
   "metadata": {},
   "outputs": [
    {
     "name": "stderr",
     "output_type": "stream",
     "text": [
      "Progress:   0%|                                     | 0/1000 [00:00<?, ?click/s]"
     ]
    },
    {
     "name": "stdout",
     "output_type": "stream",
     "text": [
      "No more results to load or an error occurred: HTTPConnectionPool(host='localhost', port=60041): Max retries exceeded with url: /session/d7d992da77042959384300d5c6d4a81d/element (Caused by NewConnectionError('<urllib3.connection.HTTPConnection object at 0x165f47680>: Failed to establish a new connection: [Errno 61] Connection refused'))\n",
      "Total links scraped: 0\n"
     ]
    },
    {
     "name": "stderr",
     "output_type": "stream",
     "text": [
      "\n"
     ]
    }
   ],
   "source": [
    "# Set up variables\n",
    "links = []\n",
    "num_clicks = 0\n",
    "max_clicks = 1000  # Set your desired max number of clicks\n",
    "\n",
    "# Progress bar setup with tqdm\n",
    "with tqdm(total=max_clicks, desc=\"Progress\", unit=\"click\") as pbar:\n",
    "    while num_clicks < max_clicks:\n",
    "        try:\n",
    "            # Find and click the \"Show More\" button\n",
    "            vis_mere = driver.find_element(By.CSS_SELECTOR, '.search-results__load-more')\n",
    "            vis_mere.click()\n",
    "\n",
    "            # Wait for content to load after clicking the button\n",
    "            time.sleep(3)  # Adjust as needed for the loading time\n",
    "\n",
    "            # Increment the number of clicks\n",
    "            num_clicks += 1\n",
    "\n",
    "            # Update the progress bar\n",
    "            pbar.update(1)\n",
    "\n",
    "            # Get the updated page source after clicking\n",
    "            page_source = driver.page_source\n",
    "            soup = BeautifulSoup(page_source, 'html.parser')\n",
    "\n",
    "            # Find all article elements on the page\n",
    "            articles = soup.find_all('div', class_='teaser teaser--border-bottom teaser--search d-flex flex-row w-100')\n",
    "\n",
    "            # Save links to all articles on the current page\n",
    "            for article in articles:\n",
    "                link = article.find('a', class_='teaser__title-link')['href']\n",
    "                full_link = 'https://www.berlingske.dk' + link\n",
    "                if full_link not in links:  # Avoid duplicates\n",
    "                    links.append(full_link)\n",
    "\n",
    "        except Exception as e:\n",
    "            print(\"No more results to load or an error occurred:\", e)\n",
    "            break\n",
    "\n",
    "# Close the browser after scraping\n",
    "driver.quit()\n",
    "\n",
    "print(f\"Total links scraped: {len(links)}\")\n"
   ]
  },
  {
   "cell_type": "markdown",
   "id": "f74790f6-5867-4ae5-90ff-1993052e2a67",
   "metadata": {},
   "source": [
    "# Testing text extraction:"
   ]
  },
  {
   "cell_type": "code",
   "execution_count": 26,
   "id": "1a069f76-f8d8-4e98-975a-4a49ed0f35fa",
   "metadata": {},
   "outputs": [],
   "source": [
    "# Convert list to a pandas DataFrame\n",
    "links_df = pd.DataFrame(links, columns=['urls'])\n",
    "\n",
    "# Save DataFrame to CSV\n",
    "links_df.to_csv('Berlingske_article_links.csv', index=False)"
   ]
  },
  {
   "cell_type": "code",
   "execution_count": 9,
   "id": "22bc5699-5c7f-4424-ae95-202034d8ac91",
   "metadata": {},
   "outputs": [],
   "source": [
    "test_links = links[1300:1305]"
   ]
  },
  {
   "cell_type": "code",
   "execution_count": 10,
   "id": "b2677e14-c3fd-4778-ac14-8a9135cfecf6",
   "metadata": {},
   "outputs": [
    {
     "data": {
      "text/plain": [
       "['https://www.berlingske.dk/business/amerikanske-aktier-dykker-efter-trumps-soen-fremlaegger-e-mails',\n",
       " 'https://www.berlingske.dk/business/renten-rykker-tilbage-til-udgangspunktet',\n",
       " 'https://www.berlingske.dk/oekonomi/regnskab-foerte-tryg-frem-paa-boersen-maersk-igen-i-c20-top',\n",
       " 'https://www.berlingske.dk/oekonomi/snapchats-aktier-dykker-efter-nedjustering-fra-analytiker',\n",
       " 'https://www.berlingske.dk/oekonomi/pepsi-i-kursfald-trods-overraskelse-indeks-peger-ned']"
      ]
     },
     "execution_count": 10,
     "metadata": {},
     "output_type": "execute_result"
    }
   ],
   "source": [
    "test_links"
   ]
  },
  {
   "cell_type": "code",
   "execution_count": 21,
   "id": "2f3274b3-dede-4daf-acbc-3f1c4c013eaf",
   "metadata": {},
   "outputs": [
    {
     "name": "stdout",
     "output_type": "stream",
     "text": [
      "Scraped article from https://www.berlingske.dk/business/amerikanske-aktier-dykker-efter-trumps-soen-fremlaegger-e-mails\n",
      "Scraped article from https://www.berlingske.dk/business/renten-rykker-tilbage-til-udgangspunktet\n",
      "Scraped article from https://www.berlingske.dk/oekonomi/regnskab-foerte-tryg-frem-paa-boersen-maersk-igen-i-c20-top\n",
      "Scraped article from https://www.berlingske.dk/oekonomi/snapchats-aktier-dykker-efter-nedjustering-fra-analytiker\n",
      "Scraped article from https://www.berlingske.dk/oekonomi/pepsi-i-kursfald-trods-overraskelse-indeks-peger-ned\n"
     ]
    }
   ],
   "source": [
    "from selenium import webdriver\n",
    "from selenium.webdriver.common.by import By\n",
    "from selenium.webdriver.chrome.service import Service\n",
    "from webdriver_manager.chrome import ChromeDriverManager\n",
    "import time\n",
    "\n",
    "# List of article URLs\n",
    "urls = test_links\n",
    "\n",
    "# Initialize an empty dictionary to store the scraped data\n",
    "scraped_articles = {}\n",
    "\n",
    "# Loop through each URL and extract the article text\n",
    "for url in urls:\n",
    "    try:\n",
    "        # Open the webpage\n",
    "        driver.get(url)\n",
    "\n",
    "        # Wait for the page to load (adjust if needed)\n",
    "        time.sleep(5)\n",
    "\n",
    "        # Extract the main article text by targeting the correct HTML tag and class\n",
    "        article_body = driver.find_element(By.ID, \"articleBody\")\n",
    "        paragraphs = article_body.find_elements(By.TAG_NAME, \"p\")\n",
    "\n",
    "        # Combine the text from all paragraphs\n",
    "        article_text = \"\\n\".join([paragraph.text for paragraph in paragraphs])\n",
    "\n",
    "        # Store the article text using the URL as the key\n",
    "        scraped_articles[url] = article_text\n",
    "        print(f\"Scraped article from {url}\")\n",
    "    except Exception as e:\n",
    "        print(f\"Failed to scrape {url}: {e}\")\n",
    "\n",
    "# Close the WebDriver\n",
    "driver.quit()\n"
   ]
  },
  {
   "cell_type": "code",
   "execution_count": 25,
   "id": "2fe7def0-b5a1-4913-895e-4e63d2556ebc",
   "metadata": {},
   "outputs": [
    {
     "data": {
      "text/plain": [
       "{'https://www.berlingske.dk/business/amerikanske-aktier-dykker-efter-trumps-soen-fremlaegger-e-mails': 'De amerikanske aktier falder, efter USA\\'s præsident Donald Trumps søn Donald Trump Jr. har fremlagt en e-mail-korrespondance med briten Rob Goldstone, der satte et møde op mellem Donald Trumps søn og en russisk advokat.\\nE-mail-korrespondancen viser umiddelbart, at Donald Trumps kampagnehold var i kontakt med Rusland, og at kampagnen var vidende om, at Rusland ville hjælpe Donald Trump til at vinde.\\n»Dette her er åbenlyst på et meget højt niveau og ekstremt fortrolig information, men er den del af Rusland og dets regerings støtte til Mr. Trump,« skriver Rob Goldstone i en mail, hvor han er ved at sætte et møde op mellem Donald Trump Jr. og en russisk advokat.\\n\\nDonald Trump Jr. har ifølge sig selv lagt e-mailene frem for at give \"total transparens\" i forhold til omstændighederne for mødet. Selve mødet blev afsløret tidligere på ugen i amerikanske medier.\\nEfter nyheden falder det brede S&P500-indeks og det toneangivende Dow Jones-indeks med 0,4 procent efter at være åbnet nogenlunde uændret.\\nE-mail-korrespondancen føder ind i den omstridte sag i USA, hvor præsident Donald Trump og hans stab er anklaget for at have fået hjælpe af Rusland i præsidentvalgkampen sidste år.\\n\\nDer kører for nuværende en stribe undersøgelser i den amerikanske Kongres om sagen, og der er udpeget en særlig undersøgelsesleder, der er uafhængig af Kongressen.\\nMarkederne reagerer på, at en større risiko for, at Donald Trump bliver afsat, giver risiko for, at hans meget erhvervsvenlige skatteprogram og investeringsprogram ikke bliver gennemført.\\n\\n',\n",
       " 'https://www.berlingske.dk/business/renten-rykker-tilbage-til-udgangspunktet': 'Renten på det toneangivende danske statspapir kunne lukke på stort set samme niveau som mandag.\\nRenten var ellers steget med 3 basispoint tidligt på dagen, men i takt med at aktiemarkederne i Europa bevægede sig fra grønt til rødt territorium, steg obligationskursen med faldende rente til følge.\\nDen tiårige statsobligation med udløb i 2027 lukkede med en rente på 0,72 pct., sådan som det også var tilfældet mandag.\\n\\nInvestorerne havde så godt som ingen nøgletal at forholde sig til tirsdag. Og det var derfor også ventet, at investorerne ville holde sig på sidelinjen frem til onsdag, hvor der blandt andet kommer data for de japanske producentpriser, britisk arbejdsløshed samt eurozonens industriproduktion.\\nDen største opmærksomhed vil dog efter alt at dømme tilfalde onsdagens redegørelse fra den amerikanske centralbanks topchef, Janet Yellen, i Repræsentanternes Hus og det pengepolitiske udvalgs syn på den økonomiske udvikling i verdens største økonomi.\\nSenere onsdag bliver centralbankens økonomiske barometer, kaldet Beige Book, offentliggjort. Heri fremgår de 12 regionale Federal Reserve-bankers syn på den lokale økonomiske udvikling.\\n\\n\\n',\n",
       " 'https://www.berlingske.dk/oekonomi/regnskab-foerte-tryg-frem-paa-boersen-maersk-igen-i-c20-top': 'A.P. Møller-Mærsk indtog nok en gang toppen blandt de danske eliteaktier tirsdag, og ligesom mandag var det ændrede syn på aktiens potentiale, der var årsag til stigningen. Uden for C20 var der spotlys på Tryg, der som det første selskab kunne fremlægge tal for andet kvartal 2017.\\nSamtidig tog C20 Cap-indekset en dukkert på 0,3 pct. til 1156,57, efter at stemningen vendte fra positiv til negativ tidligere på dagen.\\nDet skete, da olieprisen blev sendt kraftigt ned, men sidst på dagen var der dog lidt bedring at spore - både til C20 Cap og prisen på en tønde olie.\\n\\nA.P. Møller-Mærsks B-aktie steg med 1,7 pct. til 13.940 kr. Konglomeratet fik løftet kursmålet til 15.200 kr. fra 14.000 kr. hos Nordea, der venter sorte tal hos Maersk Line igen, og som samtidig ikke regner med, at hackerangrebet for nylig vil få nogen markant økonomisk effekt.\\nHSBC var også ude at pille ved kursmålet, som blev sat op til 15.500 kr. fra 14.100 kr. Begge fastholder en købsanbefaling.\\n\\nUden for C20 afleverede Tryg et regnskab for andet kvartal, som investorerne tog godt imod. Forsikringsselskabets aktie endte dagen med en stigning på 3,6 pct. til 145,60 kr.\\nBåde bundlinjen og det forsikringstekniske resultat endte bedre end ventet i markedet, påpeger aktieanalytiker Mikkel Emil Jensen fra Sydbank.\\nToplinjen - bruttopræmieindtægterne - var dog blot på 4441 mio. kr. mod analytikernes forventning om 4470 mio. kr. ifølge estimater indsamlet af Ritzau Estimates.\\n- Det bedre end ventede forsikringsresultat er så også drevet af, at der er noget lavere skader, end man havde forventet, på trods af den lavere toplinje. Derfor lander det forsikringstekniske resultat bedre end ventet, siger Mikkel Emil Jensen.\\n\\nBlandt de øvrige selskaber herhjemme var der også analysenyt til transportkoncernen DSV, der fik løftet kursmålet af Nordea til 450 kr. fra 430 kr., mens anbefalingen fortsat er \"køb\", fremgår det af data fra Bloomberg News. Aktien steg akkurat - med 0,05 pct. til 396,50 kr.\\nIngeniørkoncernen FLSmidth fik ifølge netmediet Worldcement en ordre på en cementfabrik til Maghna Cement Mills i Bangladesh.\\nOrdren har en estimeret værdi på 200 mio. kr., skriver Alm. Brand Markets i en kommentar. FLS-aktien landede dog 0,4 pct. lavere i 410,40 kr. efter at være steget tidligere på dagen.\\n\\nDong Energy oplyste efter mandagens børslukning, at energiselskabet har indgået et samarbejde med amerikanske Dominion Energy i delstaten Virginia. Til at begynde med skal der blot opføres to havvindmøller, men håbet er, at der er langt flere på vej, da det samlede projekt er på 2000 MW.\\nDong-aktien steg 0,6 pct. til 294,70 kr.\\nI bunden af indekset var Chr. Hansen under teknisk pres, da ingredienskoncernen udbetalte et udbytte på 5,64 kr. per aktie. Aktien faldt 2,5 pct. til 478,70 kr. Det svarer til et fald på 12.40 kr. i forhold til mandagens lukkekurs.\\nEndelig ser allergikoncernen ALK-Abelló mulighed for et eksporteventyr i Japan i kølvandet af den underskrevne frihandelsaftale mellem EU og Japan samt den japanske premierministers, Shinzo Abes, besøg i Danmark. ALK-Abelló-aktien steg 0,5 pct. til 968 kr.',\n",
       " 'https://www.berlingske.dk/oekonomi/snapchats-aktier-dykker-efter-nedjustering-fra-analytiker': 'Amerikanske teknologiaktier har længe været pressede, og tirsdag falder Snapchats ejer, Snap INC, fra start på børsen. Dermed falder aktien til under det niveau, den blev børsnoteret til i foråret.\\nFaldet kommer samtidigt med, at investeringshuset Morgan Stanley har nedjusteret sit syn aktien. Morgan Stanley anbefaler ikke længere et køb og har rundbarberet sit kursmål fra 28 dollar per aktie til 16 dollar, viser en analyse fra finanshuset.\\n»Vi har taget fejl omkring Snap INC\\'s evne til at innovere og forbedre sin evne til at reklamere i år. Instagram er blevet mere aggressive, når det kommer til at konkurrere om Snaps reklameindtægter,« skriver Morgan Stanley.\\n\\nSnapchats ejer, Snap INC, blev børsnoteret i foråret til 17 dollar per aktie. Det svarede til en markedsværdi på 24 milliarder dollar.\\nMen siden da har selskabets platform, der lader brugere sende tidsbegrænsede beskeder i form af billeder og video, fået stiv konkurrence. Ikke bare har Instagram startet sine \"stories\", men også Facebooks messenger har kopieret Snapchats grundlæggende koncept.\\nSnapchat skuffede sine investorer allerede i sit første regnskab som børsnoteret. Her steg antallet af daglige brugere med fåmælte 5 pct. til 166 millioner.\\nVed børsåbningen i USA tirsdag falder Snap INC\\'s aktier med 5,3 procent til 16,10 dollar. Snap toppede kort efter sin børsintroduktion i 27,10 dollar per aktie.\\n\\n',\n",
       " 'https://www.berlingske.dk/oekonomi/pepsi-i-kursfald-trods-overraskelse-indeks-peger-ned': 'Pepsi har så småt skudt gang i den amerikanske regnskabssæson, og det med fald i aktien til følge efter et regnskab, der ellers overraskede positivt på indtjeningen.\\nGenerelt er stemningen dog lidt mat, og alle tre toneangivende aktieindeks ligger med fald i den tidlige handel.\\nS&P 500 og Nasdaq falder begge 0,2 pct. Dow Jones-indekset ligger lige omkring uændret, men dog med et mikroskopisk fald.\\nTirsdagens handel er blandt andet præget af et fald i olieprisen, da flere finanshuse har mistet troen på en genrejsning for prisen på en tønde olie som følge af overproduktion. De fleste investorer venter samtidig på nyt fra den amerikanske centralbank, Federal Reserve, hvorfra chefen, Janet Yellen, går på talerstolen onsdag.\\n\\nRegnskabet fra læskedrik- og fødevarekoncernen Pepsico kom inden åbningen og markerer indgangen til den amerikanske regnskabssæson, som for alvor bliver sat i gang fredag med regnskaber fra de tre store banker JPMorgan, Wells Fargo og Citigroup.\\nPepsico overraskede positivt med et overskud per aktie på 1,50 dollar i andet kvartal mod de ventede 1,40 dollar ifølge Bloomberg News.\\nPepsico, der laver alt fra humus til chips til sodavand, havde held med at øge priserne på sine produkter i kvartalet og kunne derfor notere sig fremgang, selv om volumen i salget var flad.\\nPepsico-aktien daler 1,5 pct. i den tidlige handel.\\n\\nVideochattjenesten Snap faldt mandag 1,1 pct. til under emissionskursen på 17 dollar, efter at der er opstået tvivl om, hvorvidt virksomheden kan vokse så hurtigt som først antaget. Og faldet fortsætter tirsdag, hvor aktien ligger 5,1 pct. lavere i 16,12 dollar.\\nFinanshuset Morgan Stanley har blandt andet været ude at sige, at Snap har været for sløve til at forbedre sig, og samtidig er Instagram en større trussel end ventet.\\nDet ser heller ikke for lyst ud for Blue Apron, der sælger måltidskasser på nettet. Selskabet har fået gevaldige kursklø siden sin børsnotering 28. juni. Aktien blev udbudt til 10 dollar per aktie, men tirsdag går det ned ad bakke med 6,6 pct. til en kurs på 7,60 dollar.\\n\\n\\n'}"
      ]
     },
     "execution_count": 25,
     "metadata": {},
     "output_type": "execute_result"
    }
   ],
   "source": [
    "scraped_articles"
   ]
  }
 ],
 "metadata": {
  "kernelspec": {
   "display_name": "Python 3 (ipykernel)",
   "language": "python",
   "name": "python3"
  },
  "language_info": {
   "codemirror_mode": {
    "name": "ipython",
    "version": 3
   },
   "file_extension": ".py",
   "mimetype": "text/x-python",
   "name": "python",
   "nbconvert_exporter": "python",
   "pygments_lexer": "ipython3",
   "version": "3.12.4"
  }
 },
 "nbformat": 4,
 "nbformat_minor": 5
}
