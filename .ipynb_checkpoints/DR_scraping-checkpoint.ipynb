{
 "cells": [
  {
   "cell_type": "code",
   "execution_count": 1,
   "id": "0e636f96-4183-4952-af50-c3a1dec65992",
   "metadata": {},
   "outputs": [],
   "source": [
    "import requests\n",
    "import time\n",
    "import tqdm\n",
    "import pandas as pd\n",
    "import os\n",
    "import json\n",
    "from selenium.webdriver.common.by import By\n",
    "from selenium.webdriver.support.ui import WebDriverWait\n",
    "from selenium.webdriver.support import expected_conditions as EC\n",
    "import time\n",
    "from tqdm import tqdm\n",
    "from selenium import webdriver\n",
    "from selenium.webdriver.chrome.service import Service\n",
    "from webdriver_manager.chrome import ChromeDriverManager\n",
    "from selenium.webdriver.chrome.options import Options\n",
    "from bs4 import BeautifulSoup\n",
    "import pandas as pd\n",
    "import pprint"
   ]
  },
  {
   "cell_type": "markdown",
   "id": "e37d492c-c866-4285-8827-bde1c9ed98a5",
   "metadata": {
    "jp-MarkdownHeadingCollapsed": true
   },
   "source": [
    "# SCRAPING FOR ARTICLE URLS - C25"
   ]
  },
  {
   "cell_type": "code",
   "execution_count": 53,
   "id": "cfb13145-ece0-4b97-8efc-59b9a406e517",
   "metadata": {},
   "outputs": [],
   "source": [
    "url1 = f'https://www.dr.dk/tjenester/steffi/graphql?query=fragment%20ArticleResultFields%20on%20Article%20%7B%20type%3A%20__typename%20urn%20urlPathId%20title%20format%20publications%20%7B%20...on%20ArticlePublication%20%7B%20breaking%20live%20serviceChannel%20%7B%20urn%20%7D%20%7D%20%7D%20summary%20startDate%20teaserImage%20%7B%20default%20%7B%20url%20%7D%20%7D%20head%20%7B%20type%3A%20__typename%20...%20on%20MediaComponent%20%7B%20resource%20%7B%20type%3A%20__typename%20...%20on%20LiveMedia%20%7B%20urn%20mediaType%20%7D%20...%20on%20Clip%20%7B%20urn%20mediaType%20durationInMilliseconds%20%7D%20...%20on%20ClipBundle%20%7B%20items(limit%3A%201)%20%7B%20__typename%20urn%20durationInMilliseconds%20%7D%20%7D%20%7D%20%7D%20...%20on%20ImageCollectionComponent%20%7B%20images%20%7B%20default%3A%20image(key%3A%20%22default%22)%20%7B%20type%3A%20__typename%20%7D%20%7D%20%7D%20...%20on%20RatingComponent%20%7B%20rating%20%7D%20%7D%20contributions(limit%3A%201)%20%7B%20agent%20%7B%20...%20on%20Person%20%7B%20name%20%7D%20%7D%20role%20%7D%20site%20%7B%20url%20urn%20title%20presentation%20%7B%20colors%20teaserImage%20%7B%20default%3A%20image(key%3A%20%22default%22)%20%7B%20url%20%7D%20%7D%20%7D%20%7D%20%7D%20fragment%20RecipeResultFields%20on%20Recipe%20%7B%20title%20url%20image%20%7B%20url%20%7D%20startDate%20%7D%20fragment%20UnknownSearchResultFields%20on%20UnknownSearchResult%20%7B%20title%20url%20label%20image%20%7B%20url%20width%20height%20%7D%20%7D%20fragment%20MusicArtistResultFields%20on%20MusicArtist%20%7B%20url%20name%20image%20%7B%20url%20width%20height%20%7D%20%7D%20query%20SearchPageDRDK(%24query%3A%20String!%20%24limit%3A%20Int!%20%24offset%3A%20Int!%20%24sort%3A%20SearchSort)%20%7B%20drdk%3A%20search(query%3A%20%24query%20logQuery%3A%20%24query%20limit%3A%20%24limit%20offset%3A%20%24offset%20products%3A%20%5B%22drdk%22%5D%20sort%3A%20%24sort)%20%7B%20totalCount%20results%3A%20nodes%20%7B%20type%3A%20__typename%20...%20on%20Article%20%7B%20...ArticleResultFields%20%7D%20...%20on%20Recipe%20%7B%20...RecipeResultFields%20%7D%20...%20on%20MusicArtist%20%7B%20...MusicArtistResultFields%20%7D%20...%20on%20UnknownSearchResult%20%7B%20...UnknownSearchResultFields%20%7D%20%7D%20spellCheck%20%7D%20%7D&variables=%7B%22query%22%3A%22C25%22%2C%22sort%22%3A%22Relevance%22%2C%22limit%22%3A20%2C%22offset%22%3A0%7D'\n",
    "headers = {'name':'Asta Thit Kettel', 'from':'ucph','email':'dnp@ku.dk'}\n",
    "response1 = requests.get(url1, headers)\n",
    "results1 = response1.json()\n",
    "result_articles1 = [{'urlPathId': article['urlPathId'], 'title': article['title']} for article in results1['data']['drdk']['results']]\n",
    "data1 = pd.DataFrame(result_articles1)"
   ]
  },
  {
   "cell_type": "code",
   "execution_count": 54,
   "id": "57e804dc-8b06-464f-b9a4-afe1ac944fc3",
   "metadata": {},
   "outputs": [],
   "source": [
    "url2 = f'https://www.dr.dk/tjenester/steffi/graphql?query=fragment%20ArticleResultFields%20on%20Article%20%7B%20type%3A%20__typename%20urn%20urlPathId%20title%20format%20publications%20%7B%20...on%20ArticlePublication%20%7B%20breaking%20live%20serviceChannel%20%7B%20urn%20%7D%20%7D%20%7D%20summary%20startDate%20teaserImage%20%7B%20default%20%7B%20url%20%7D%20%7D%20head%20%7B%20type%3A%20__typename%20...%20on%20MediaComponent%20%7B%20resource%20%7B%20type%3A%20__typename%20...%20on%20LiveMedia%20%7B%20urn%20mediaType%20%7D%20...%20on%20Clip%20%7B%20urn%20mediaType%20durationInMilliseconds%20%7D%20...%20on%20ClipBundle%20%7B%20items(limit%3A%201)%20%7B%20__typename%20urn%20durationInMilliseconds%20%7D%20%7D%20%7D%20%7D%20...%20on%20ImageCollectionComponent%20%7B%20images%20%7B%20default%3A%20image(key%3A%20%22default%22)%20%7B%20type%3A%20__typename%20%7D%20%7D%20%7D%20...%20on%20RatingComponent%20%7B%20rating%20%7D%20%7D%20contributions(limit%3A%201)%20%7B%20agent%20%7B%20...%20on%20Person%20%7B%20name%20%7D%20%7D%20role%20%7D%20site%20%7B%20url%20urn%20title%20presentation%20%7B%20colors%20teaserImage%20%7B%20default%3A%20image(key%3A%20%22default%22)%20%7B%20url%20%7D%20%7D%20%7D%20%7D%20%7D%20fragment%20RecipeResultFields%20on%20Recipe%20%7B%20title%20url%20image%20%7B%20url%20%7D%20startDate%20%7D%20fragment%20UnknownSearchResultFields%20on%20UnknownSearchResult%20%7B%20title%20url%20label%20image%20%7B%20url%20width%20height%20%7D%20%7D%20fragment%20MusicArtistResultFields%20on%20MusicArtist%20%7B%20url%20name%20image%20%7B%20url%20width%20height%20%7D%20%7D%20query%20SearchPageDRDK(%24query%3A%20String!%20%24limit%3A%20Int!%20%24offset%3A%20Int!%20%24sort%3A%20SearchSort)%20%7B%20drdk%3A%20search(query%3A%20%24query%20logQuery%3A%20%24query%20limit%3A%20%24limit%20offset%3A%20%24offset%20products%3A%20%5B%22drdk%22%5D%20sort%3A%20%24sort)%20%7B%20totalCount%20results%3A%20nodes%20%7B%20type%3A%20__typename%20...%20on%20Article%20%7B%20...ArticleResultFields%20%7D%20...%20on%20Recipe%20%7B%20...RecipeResultFields%20%7D%20...%20on%20MusicArtist%20%7B%20...MusicArtistResultFields%20%7D%20...%20on%20UnknownSearchResult%20%7B%20...UnknownSearchResultFields%20%7D%20%7D%20spellCheck%20%7D%20%7D&variables=%7B%22query%22%3A%22C25%22%2C%22sort%22%3A%22Relevance%22%2C%22limit%22%3A10%2C%22offset%22%3A20%7D'\n",
    "headers = {'name':'Asta Thit Kettel', 'from':'ucph','email':'dnp@ku.dk'}\n",
    "response2 = requests.get(url2, headers)\n",
    "results2 = response2.json()\n",
    "result_articles2 = [{'urlPathId': article['urlPathId'], 'title': article['title']} for article in results2['data']['drdk']['results']]\n",
    "data2 = pd.DataFrame(result_articles2)"
   ]
  },
  {
   "cell_type": "code",
   "execution_count": null,
   "id": "01767f37-1f7a-4162-92fd-ad11538f80e1",
   "metadata": {},
   "outputs": [],
   "source": [
    "import requests\n",
    "import pandas as pd\n",
    "\n",
    "url3 = 'https://www.dr.dk/tjenester/steffi/graphql?query=fragment%20ArticleResultFields%20on%20Article%20%7B%20type%3A%20__typename%20urn%20urlPathId%20title%20format%20publications%20%7B%20...on%20ArticlePublication%20%7B%20breaking%20live%20serviceChannel%20%7B%20urn%20%7D%20%7D%20%7D%20summary%20startDate%20teaserImage%20%7B%20default%20%7B%20url%20%7D%20%7D%20head%20%7B%20type%3A%20__typename%20...%20on%20MediaComponent%20%7B%20resource%20%7B%20type%3A%20__typename%20...%20on%20LiveMedia%20%7B%20urn%20mediaType%20%7D%20...%20on%20Clip%20%7B%20urn%20mediaType%20durationInMilliseconds%20%7D%20...%20on%20ClipBundle%20%7B%20items(limit%3A%201)%20%7B%20__typename%20urn%20durationInMilliseconds%20%7D%20%7D%20%7D%20%7D%20...%20on%20ImageCollectionComponent%20%7B%20images%20%7B%20default%3A%20image(key%3A%20%22default%22)%20%7B%20type%3A%20__typename%20%7D%20%7D%20%7D%20...%20on%20RatingComponent%20%7B%20rating%20%7D%20%7D%20contributions(limit%3A%201)%20%7B%20agent%20%7B%20...%20on%20Person%20%7B%20name%20%7D%20%7D%20role%20%7D%20site%20%7B%20url%20urn%20title%20presentation%20%7B%20colors%20teaserImage%20%7B%20default%3A%20image(key%3A%20%22default%22)%20%7B%20url%20%7D%20%7D%20%7D%20%7D%20%7D%20fragment%20RecipeResultFields%20on%20Recipe%20%7B%20title%20url%20image%20%7B%20url%20%7D%20startDate%20%7D%20fragment%20UnknownSearchResultFields%20on%20UnknownSearchResult%20%7B%20title%20url%20label%20image%20%7B%20url%20width%20height%20%7D%20%7D%20fragment%20MusicArtistResultFields%20on%20MusicArtist%20%7B%20url%20name%20image%20%7B%20url%20width%20height%20%7D%20%7D%20query%20SearchPageDRDK(%24query%3A%20String!%20%24limit%3A%20Int!%20%24offset%3A%20Int!%20%24sort%3A%20SearchSort)%20%7B%20drdk%3A%20search(query%3A%20%24query%20logQuery%3A%20%24query%20limit%3A%20%24limit%20offset%3A%20%24offset%20products%3A%20%5B%22drdk%22%5D%20sort%3A%20%24sort)%20%7B%20totalCount%20results%3A%20nodes%20%7B%20type%3A%20__typename%20...%20on%20Article%20%7B%20...ArticleResultFields%20%7D%20...%20on%20Recipe%20%7B%20...RecipeResultFields%20%7D%20...%20on%20MusicArtist%20%7B%20...MusicArtistResultFields%20%7D%20...%20on%20UnknownSearchResult%20%7B%20...UnknownSearchResultFields%20%7D%20%7D%20spellCheck%20%7D%20%7D&variables=%7B%22query%22%3A%22C25%22%2C%22sort%22%3A%22Relevance%22%2C%22limit%22%3A10%2C%22offset%22%3A40%7D'\n",
    "headers = {'name': 'Asta Thit Kettel', 'from': 'ucph', 'email': 'dnp@ku.dk'}\n",
    "\n",
    "# Make the request\n",
    "response3 = requests.get(url3, headers=headers)\n",
    "\n",
    "# Check the response status\n",
    "if response3.status_code != 200:\n",
    "    print(f\"Error: Received status code {response3.status_code}\")\n",
    "else:\n",
    "    # Print raw response text\n",
    "    print(response3.text)\n",
    "    \n",
    "    # Try to parse the response as JSON\n",
    "    try:\n",
    "        results3 = response3.json()\n",
    "        result_articles3 = [{'urlPathId': article['urlPathId'], 'title': article['title']} for article in results3['data']['drdk']['results']]\n",
    "        data3 = pd.DataFrame(result_articles3)\n",
    "        print(data3)\n",
    "    except ValueError as e:\n",
    "        print(f\"Failed to parse JSON: {e}\")\n"
   ]
  },
  {
   "cell_type": "code",
   "execution_count": null,
   "id": "8e75fd69-4630-4731-9f5c-0b0d40b2eddf",
   "metadata": {},
   "outputs": [],
   "source": [
    "import requests\n",
    "import pandas as pd\n",
    "\n",
    "url4 = 'https://www.dr.dk/tjenester/steffi/graphql?query=fragment%20ArticleResultFields%20on%20Article%20%7B%20type%3A%20__typename%20urn%20urlPathId%20title%20format%20publications%20%7B%20...on%20ArticlePublication%20%7B%20breaking%20live%20serviceChannel%20%7B%20urn%20%7D%20%7D%20%7D%20summary%20startDate%20teaserImage%20%7B%20default%20%7B%20url%20%7D%20%7D%20head%20%7B%20type%3A%20__typename%20...%20on%20MediaComponent%20%7B%20resource%20%7B%20type%3A%20__typename%20...%20on%20LiveMedia%20%7B%20urn%20mediaType%20%7D%20...%20on%20Clip%20%7B%20urn%20mediaType%20durationInMilliseconds%20%7D%20...%20on%20ClipBundle%20%7B%20items(limit%3A%201)%20%7B%20__typename%20urn%20durationInMilliseconds%20%7D%20%7D%20%7D%20%7D%20...%20on%20ImageCollectionComponent%20%7B%20images%20%7B%20default%3A%20image(key%3A%20%22default%22)%20%7B%20type%3A%20__typename%20%7D%20%7D%20%7D%20...%20on%20RatingComponent%20%7B%20rating%20%7D%20%7D%20contributions(limit%3A%201)%20%7B%20agent%20%7B%20...%20on%20Person%20%7B%20name%20%7D%20%7D%20role%20%7D%20site%20%7B%20url%20urn%20title%20presentation%20%7B%20colors%20teaserImage%20%7B%20default%3A%20image(key%3A%20%22default%22)%20%7B%20url%20%7D%20%7D%20%7D%20%7D%20%7D%20fragment%20RecipeResultFields%20on%20Recipe%20%7B%20title%20url%20image%20%7B%20url%20%7D%20startDate%20%7D%20fragment%20UnknownSearchResultFields%20on%20UnknownSearchResult%20%7B%20title%20url%20label%20image%20%7B%20url%20width%20height%20%7D%20%7D%20fragment%20MusicArtistResultFields%20on%20MusicArtist%20%7B%20url%20name%20image%20%7B%20url%20width%20height%20%7D%20%7D%20query%20SearchPageDRDK(%24query%3A%20String!%20%24limit%3A%20Int!%20%24offset%3A%20Int!%20%24sort%3A%20SearchSort)%20%7B%20drdk%3A%20search(query%3A%20%24query%20logQuery%3A%20%24query%20limit%3A%20%24limit%20offset%3A%20%24offset%20products%3A%20%5B%22drdk%22%5D%20sort%3A%20%24sort)%20%7B%20totalCount%20results%3A%20nodes%20%7B%20type%3A%20__typename%20...%20on%20Article%20%7B%20...ArticleResultFields%20%7D%20...%20on%20Recipe%20%7B%20...RecipeResultFields%20%7D%20...%20on%20MusicArtist%20%7B%20...MusicArtistResultFields%20%7D%20...%20on%20UnknownSearchResult%20%7B%20...UnknownSearchResultFields%20%7D%20%7D%20spellCheck%20%7D%20%7D&variables=%7B%22query%22%3A%22C25%22%2C%22sort%22%3A%22Relevance%22%2C%22limit%22%3A10%2C%22offset%22%3A40%7D'\n",
    "headers = {'name': 'Asta Thit Kettel', 'from': 'ucph', 'email': 'dnp@ku.dk'}\n",
    "\n",
    "# Make the request\n",
    "response4 = requests.get(url4, headers=headers)\n",
    "\n",
    "# Check the response status\n",
    "if response4.status_code != 200:\n",
    "    print(f\"Error: Received status code {response4.status_code}\")\n",
    "else:\n",
    "    # Print raw response text\n",
    "    print(response4.text)\n",
    "    \n",
    "    # Try to parse the response as JSON\n",
    "    try:\n",
    "        results4 = response4.json()\n",
    "        result_articles4 = [{'urlPathId': article['urlPathId'], 'title': article['title']} for article in results4['data']['drdk']['results']]\n",
    "        data4 = pd.DataFrame(result_articles4)\n",
    "        print(data4)\n",
    "    except ValueError as e:\n",
    "        print(f\"Failed to parse JSON: {e}\")"
   ]
  },
  {
   "cell_type": "code",
   "execution_count": null,
   "id": "51ce1877-d5c1-4ef9-8d63-97bd9236e799",
   "metadata": {},
   "outputs": [],
   "source": [
    "url5 = f''\n",
    "headers = {'name':'Asta Thit Kettel', 'from':'ucph','email':'dnp@ku.dk'}\n",
    "response5 = requests.get(url, headers)\n",
    "results5 = respons5.json()\n",
    "result_articles5 = [{'urlPathId': article['urlPathId'], 'title': article['title']} for article in results5['data']['drdk']['results']]\n",
    "data5 = pd.DataFrame(result_articles)"
   ]
  },
  {
   "cell_type": "code",
   "execution_count": null,
   "id": "e0d95720-c3dc-426c-9599-94c769bc81ef",
   "metadata": {},
   "outputs": [],
   "source": [
    "import requests\n",
    "import pandas as pd\n",
    "\n",
    "url5 = 'https://www.dr.dk/tjenester/steffi/graphql?query=fragment%20ArticleResultFields%20on%20Article%20%7B%20type%3A%20__typename%20urn%20urlPathId%20title%20format%20publications%20%7B%20...on%20ArticlePublication%20%7B%20breaking%20live%20serviceChannel%20%7B%20urn%20%7D%20%7D%20%7D%20summary%20startDate%20teaserImage%20%7B%20default%20%7B%20url%20%7D%20%7D%20head%20%7B%20type%3A%20__typename%20...%20on%20MediaComponent%20%7B%20resource%20%7B%20type%3A%20__typename%20...%20on%20LiveMedia%20%7B%20urn%20mediaType%20%7D%20...%20on%20Clip%20%7B%20urn%20mediaType%20durationInMilliseconds%20%7D%20...%20on%20ClipBundle%20%7B%20items(limit%3A%201)%20%7B%20__typename%20urn%20durationInMilliseconds%20%7D%20%7D%20%7D%20%7D%20...%20on%20ImageCollectionComponent%20%7B%20images%20%7B%20default%3A%20image(key%3A%20%22default%22)%20%7B%20type%3A%20__typename%20%7D%20%7D%20%7D%20...%20on%20RatingComponent%20%7B%20rating%20%7D%20%7D%20contributions(limit%3A%201)%20%7B%20agent%20%7B%20...%20on%20Person%20%7B%20name%20%7D%20%7D%20role%20%7D%20site%20%7B%20url%20urn%20title%20presentation%20%7B%20colors%20teaserImage%20%7B%20default%3A%20image(key%3A%20%22default%22)%20%7B%20url%20%7D%20%7D%20%7D%20%7D%20%7D%20fragment%20RecipeResultFields%20on%20Recipe%20%7B%20title%20url%20image%20%7B%20url%20%7D%20startDate%20%7D%20fragment%20UnknownSearchResultFields%20on%20UnknownSearchResult%20%7B%20title%20url%20label%20image%20%7B%20url%20width%20height%20%7D%20%7D%20fragment%20MusicArtistResultFields%20on%20MusicArtist%20%7B%20url%20name%20image%20%7B%20url%20width%20height%20%7D%20%7D%20query%20SearchPageDRDK(%24query%3A%20String!%20%24limit%3A%20Int!%20%24offset%3A%20Int!%20%24sort%3A%20SearchSort)%20%7B%20drdk%3A%20search(query%3A%20%24query%20logQuery%3A%20%24query%20limit%3A%20%24limit%20offset%3A%20%24offset%20products%3A%20%5B%22drdk%22%5D%20sort%3A%20%24sort)%20%7B%20totalCount%20results%3A%20nodes%20%7B%20type%3A%20__typename%20...%20on%20Article%20%7B%20...ArticleResultFields%20%7D%20...%20on%20Recipe%20%7B%20...RecipeResultFields%20%7D%20...%20on%20MusicArtist%20%7B%20...MusicArtistResultFields%20%7D%20...%20on%20UnknownSearchResult%20%7B%20...UnknownSearchResultFields%20%7D%20%7D%20spellCheck%20%7D%20%7D&variables=%7B%22query%22%3A%22C25%22%2C%22sort%22%3A%22Relevance%22%2C%22limit%22%3A10%2C%22offset%22%3A50%7D'\n",
    "headers = {'name': 'Asta Thit Kettel', 'from': 'ucph', 'email': 'dnp@ku.dk'}\n",
    "\n",
    "# Make the request\n",
    "response5 = requests.get(url5, headers=headers)\n",
    "\n",
    "# Check the response status\n",
    "if response5.status_code != 200:\n",
    "    print(f\"Error: Received status code {response5.status_code}\")\n",
    "else:\n",
    "    # Print raw response text\n",
    "    print(response5.text)\n",
    "    \n",
    "    # Try to parse the response as JSON\n",
    "    try:\n",
    "        results5 = response5.json()\n",
    "        result_articles5 = [{'urlPathId': article['urlPathId'], 'title': article['title']} for article in results5['data']['drdk']['results']]\n",
    "        data5 = pd.DataFrame(result_articles5)\n",
    "        print(data5)\n",
    "    except ValueError as e:\n",
    "        print(f\"Failed to parse JSON: {e}\")"
   ]
  },
  {
   "cell_type": "markdown",
   "id": "7779cfde-9627-44b7-80bf-493f3bda0f9b",
   "metadata": {},
   "source": [
    "## Merging and saving"
   ]
  },
  {
   "cell_type": "code",
   "execution_count": 69,
   "id": "2733cbcf-c397-49aa-8cb2-cfc0c9a973e1",
   "metadata": {},
   "outputs": [],
   "source": [
    "# Merging all the dataframes into one\n",
    "dataframes = []\n",
    "for i in range(1, 6):\n",
    "    dataframes.append(eval(f\"data{i}\"))\n",
    "\n",
    "\n",
    "merged_dataframe = pd.concat(dataframes, ignore_index=True)\n",
    "\n",
    "merged_dataframe.to_csv(\"/Users/astakettel/Desktop/ISDS/GitHub/isds2024-egne/DR_article_urls.csv\", index=False)"
   ]
  },
  {
   "cell_type": "markdown",
   "id": "b7f2a1bf-0f12-4be5-838f-3f68d48a4693",
   "metadata": {},
   "source": []
  },
  {
   "cell_type": "markdown",
   "id": "0fa9d9a4-0c66-4b9d-acd4-e5e8cd723228",
   "metadata": {},
   "source": [
    "# TEXT EXTRACTION - C25"
   ]
  },
  {
   "cell_type": "markdown",
   "id": "6c8bdf54-91a9-4282-8d22-c32376fe9876",
   "metadata": {},
   "source": [
    "## Importing the csv file and extracting article body"
   ]
  },
  {
   "cell_type": "code",
   "execution_count": 3,
   "id": "87384988-96e5-47e7-82d9-4532b15c7657",
   "metadata": {},
   "outputs": [],
   "source": [
    "data1 = pd.read_csv('DR_article_urls.csv')"
   ]
  },
  {
   "cell_type": "code",
   "execution_count": 4,
   "id": "9018cd6c-195e-4aca-a135-cf512738c5ee",
   "metadata": {},
   "outputs": [],
   "source": [
    "all_urls = 'https://www.dr.dk' + data1['urlPathId']"
   ]
  },
  {
   "cell_type": "markdown",
   "id": "18ede2bf-824f-4b88-b975-5da9735793b2",
   "metadata": {},
   "source": [
    "Der er nogen af artiklerne som er i en anden format en en \"almindelig\" artikel. Det er dem som hedder noget med /seneste/. Derfor deler jeg nu datasættet op i to da de kræver to forskellige tilgange:"
   ]
  },
  {
   "cell_type": "code",
   "execution_count": 5,
   "id": "d3781d44-f427-43c8-bc91-56b81c7a30e4",
   "metadata": {},
   "outputs": [],
   "source": [
    "# Separate the URLs into two lists\n",
    "urls_seneste = [url for url in all_urls \n",
    "                if '/seneste/' in url]\n",
    "\n",
    "urls_other = [url for url in all_urls \n",
    "              if '/seneste/' not in url]"
   ]
  },
  {
   "cell_type": "markdown",
   "id": "ccf46c0a-017c-44db-bad1-cf8a277a73b6",
   "metadata": {},
   "source": [
    "## Extracting texts from urls_other"
   ]
  },
  {
   "cell_type": "code",
   "execution_count": 8,
   "id": "de51bbe3-cb33-4f3e-90df-9a3a81e21091",
   "metadata": {},
   "outputs": [
    {
     "name": "stderr",
     "output_type": "stream",
     "text": [
      "Scraping articles: 100%|████████████████████████| 38/38 [03:57<00:00,  6.24s/it]\n"
     ]
    }
   ],
   "source": [
    "# Assuming urls_other is your list containing the URLs\n",
    "article_texts = []\n",
    "urls_processed = []\n",
    "article_dates = []  # List to store article dates\n",
    "\n",
    "# Loop through each URL in the list\n",
    "for index, url in tqdm(enumerate(urls_other), total=len(urls_other), desc=\"Scraping articles\"):\n",
    "    try:\n",
    "        # Sleep for a while to avoid overwhelming the server\n",
    "        time.sleep(5)  # Sleep for 5 seconds, adjust if needed\n",
    "\n",
    "        # Send a GET request to the URL\n",
    "        response = requests.get(url)\n",
    "        response.raise_for_status()  # Ensure the request was successful\n",
    "\n",
    "        # Parse the HTML content\n",
    "        soup = BeautifulSoup(response.text, 'html.parser')\n",
    "\n",
    "        # Extracting the content within the article__content-container div\n",
    "        article_text = \"\"\n",
    "\n",
    "        # Find the div with class 'dre-article-body'\n",
    "        content_div = soup.find('div', class_='dre-article-body')\n",
    "\n",
    "        if content_div:\n",
    "            # Iterate through all paragraphs or other elements within the content container\n",
    "            paragraphs = content_div.find_all('div', class_='dre-speech')\n",
    "            for paragraph in paragraphs:\n",
    "                article_text += paragraph.get_text(separator=\" \", strip=True) + \" \"\n",
    "\n",
    "        # Find the time tag with class 'dre-byline__date' and get the datetime attribute\n",
    "        date_tag = soup.find('time', class_='dre-byline__date')\n",
    "        article_date = None\n",
    "        if date_tag and date_tag.has_attr('datetime'):\n",
    "            article_date = date_tag['datetime']\n",
    "\n",
    "        # Append the extracted article text and date to their respective lists\n",
    "        article_texts.append(article_text.strip())\n",
    "        article_dates.append(article_date)\n",
    "        urls_processed.append(url)\n",
    "\n",
    "    except requests.RequestException as e:\n",
    "        # Append None to article_texts, article_dates, and the current URL to urls_processed for consistency\n",
    "        article_texts.append(None)\n",
    "        article_dates.append(None)\n",
    "        urls_processed.append(url)"
   ]
  },
  {
   "cell_type": "code",
   "execution_count": null,
   "id": "27a74199-e525-4cf8-8489-59dcfc337443",
   "metadata": {},
   "outputs": [],
   "source": [
    "# Create a DataFrame with the URLs and corresponding article texts\n",
    "df1 = pd.DataFrame({\n",
    "    'url': urls_processed,\n",
    "    'article_text': article_texts,\n",
    "    'date': article_dates\n",
    "})\n",
    "\n",
    "# Display the DataFrame with article texts\n",
    "df1"
   ]
  },
  {
   "cell_type": "markdown",
   "id": "be7e5c2b-9b9b-4ee2-a93b-2820b0d5c594",
   "metadata": {},
   "source": [
    "## Extracting texts from urls_seneste"
   ]
  },
  {
   "cell_type": "code",
   "execution_count": 15,
   "id": "682d97a1-4ef9-406b-828e-569d2b27c18f",
   "metadata": {},
   "outputs": [
    {
     "name": "stderr",
     "output_type": "stream",
     "text": [
      "Scraping articles: 100%|████████████████████████| 17/17 [01:58<00:00,  6.96s/it]\n"
     ]
    }
   ],
   "source": [
    "# Assuming urls_seneste is your list containing the URLs\n",
    "article_texts_sen = []\n",
    "urls_processed_sen = []\n",
    "article_dates_sen = []  # List to store article dates\n",
    "\n",
    "# Loop through each URL in the list\n",
    "for index, url in tqdm(enumerate(urls_seneste), total=len(urls_seneste), desc=\"Scraping articles\"):\n",
    "    try:\n",
    "        # Sleep for a while to avoid overwhelming the server\n",
    "        time.sleep(5)  # Sleep for 5 seconds, adjust if needed\n",
    "\n",
    "        # Send a GET request to the URL\n",
    "        response = requests.get(url)\n",
    "        response.raise_for_status()  # Ensure the request was successful\n",
    "\n",
    "        # Parse the HTML content\n",
    "        soup = BeautifulSoup(response.text, 'html.parser')\n",
    "\n",
    "        # Extracting the content within the article\n",
    "        article_text_sen = \"\"\n",
    "        article_date_sen = None\n",
    "\n",
    "        # Find the article tag with class 'hydra-latest-news-page-short-news-article'\n",
    "        article_tag = soup.find('article', class_='hydra-latest-news-page-short-news-article')\n",
    "\n",
    "        if article_tag:\n",
    "            # Find all paragraph tags within the article body\n",
    "            paragraphs_sen = article_tag.find_all('p', class_='hydra-latest-news-page-short-news-article__paragraph')\n",
    "\n",
    "            for paragraph in paragraphs_sen:\n",
    "                # Accumulate the text from each paragraph\n",
    "                article_text_sen += paragraph.get_text(separator=\" \", strip=True) + \" \"\n",
    "\n",
    "            # Extract the date/time from the meta tag with itemprop='datePublished'\n",
    "            meta_tag = article_tag.find('meta', itemprop='datePublished')\n",
    "            if meta_tag and meta_tag.has_attr('content'):\n",
    "                article_date_sen = meta_tag['content']  # Get the date from the content attribute\n",
    "\n",
    "        # Append the extracted article text and date to their respective lists if found\n",
    "        article_texts_sen.append(article_text_sen.strip())\n",
    "        article_dates_sen.append(article_date_sen)\n",
    "        urls_processed_sen.append(url)\n",
    "\n",
    "    except requests.RequestException as e:\n",
    "        # Append None to article_texts, article_dates, and the current URL to urls_processed for consistency\n",
    "        article_texts_sen.append(None)\n",
    "        article_dates_sen.append(None)\n",
    "        urls_processed_sen.append(url)\n"
   ]
  },
  {
   "cell_type": "code",
   "execution_count": null,
   "id": "c821ef5b-960e-4685-8687-e63fd7b4ca56",
   "metadata": {},
   "outputs": [],
   "source": [
    "# Create a DataFrame with the URLs and corresponding article texts\n",
    "df2 = pd.DataFrame({\n",
    "    'url': urls_processed_sen,\n",
    "    'article_text': article_texts_sen,\n",
    "    'date': article_dates_sen\n",
    "})\n",
    "\n",
    "# Display the DataFrame with article texts\n",
    "df2"
   ]
  },
  {
   "cell_type": "code",
   "execution_count": null,
   "id": "2b5fea8e-f23f-4466-bea5-d8143faf28cd",
   "metadata": {},
   "outputs": [],
   "source": []
  },
  {
   "attachments": {},
   "cell_type": "markdown",
   "id": "156ed2d0-f40f-464c-a762-ab981ad49635",
   "metadata": {},
   "source": [
    "## Merging urls_seneste and urls_other\n",
    "\n"
   ]
  },
  {
   "cell_type": "code",
   "execution_count": null,
   "id": "f32d4e1e-0a1e-4401-8b40-fbcafad201e7",
   "metadata": {},
   "outputs": [],
   "source": [
    "df_combined = pd.concat([df1, df2], axis=0, ignore_index=True)\n",
    "\n",
    "# Saving as csv: \n",
    "df_combined.to_csv('DR_C25_full_data.csv', index=False)"
   ]
  },
  {
   "cell_type": "markdown",
   "id": "3473f35d-8811-4230-bc8c-5cbed1558ace",
   "metadata": {
    "jp-MarkdownHeadingCollapsed": true
   },
   "source": [
    "# SCRAPING FOR ARTICLE URLS - C20"
   ]
  },
  {
   "cell_type": "code",
   "execution_count": 95,
   "id": "b717c90d-e08f-4bd2-aae6-ee14c3d13a8a",
   "metadata": {},
   "outputs": [],
   "source": [
    "url1 = f'https://www.dr.dk/tjenester/steffi/graphql?query=fragment%20ArticleResultFields%20on%20Article%20%7B%20type%3A%20__typename%20urn%20urlPathId%20title%20format%20publications%20%7B%20...on%20ArticlePublication%20%7B%20breaking%20live%20serviceChannel%20%7B%20urn%20%7D%20%7D%20%7D%20summary%20startDate%20teaserImage%20%7B%20default%20%7B%20url%20%7D%20%7D%20head%20%7B%20type%3A%20__typename%20...%20on%20MediaComponent%20%7B%20resource%20%7B%20type%3A%20__typename%20...%20on%20LiveMedia%20%7B%20urn%20mediaType%20%7D%20...%20on%20Clip%20%7B%20urn%20mediaType%20durationInMilliseconds%20%7D%20...%20on%20ClipBundle%20%7B%20items(limit%3A%201)%20%7B%20__typename%20urn%20durationInMilliseconds%20%7D%20%7D%20%7D%20%7D%20...%20on%20ImageCollectionComponent%20%7B%20images%20%7B%20default%3A%20image(key%3A%20%22default%22)%20%7B%20type%3A%20__typename%20%7D%20%7D%20%7D%20...%20on%20RatingComponent%20%7B%20rating%20%7D%20%7D%20contributions(limit%3A%201)%20%7B%20agent%20%7B%20...%20on%20Person%20%7B%20name%20%7D%20%7D%20role%20%7D%20site%20%7B%20url%20urn%20title%20presentation%20%7B%20colors%20teaserImage%20%7B%20default%3A%20image(key%3A%20%22default%22)%20%7B%20url%20%7D%20%7D%20%7D%20%7D%20%7D%20fragment%20RecipeResultFields%20on%20Recipe%20%7B%20title%20url%20image%20%7B%20url%20%7D%20startDate%20%7D%20fragment%20UnknownSearchResultFields%20on%20UnknownSearchResult%20%7B%20title%20url%20label%20image%20%7B%20url%20width%20height%20%7D%20%7D%20fragment%20MusicArtistResultFields%20on%20MusicArtist%20%7B%20url%20name%20image%20%7B%20url%20width%20height%20%7D%20%7D%20query%20SearchPageDRDK(%24query%3A%20String!%20%24limit%3A%20Int!%20%24offset%3A%20Int!%20%24sort%3A%20SearchSort)%20%7B%20drdk%3A%20search(query%3A%20%24query%20logQuery%3A%20%24query%20limit%3A%20%24limit%20offset%3A%20%24offset%20products%3A%20%5B%22drdk%22%5D%20sort%3A%20%24sort)%20%7B%20totalCount%20results%3A%20nodes%20%7B%20type%3A%20__typename%20...%20on%20Article%20%7B%20...ArticleResultFields%20%7D%20...%20on%20Recipe%20%7B%20...RecipeResultFields%20%7D%20...%20on%20MusicArtist%20%7B%20...MusicArtistResultFields%20%7D%20...%20on%20UnknownSearchResult%20%7B%20...UnknownSearchResultFields%20%7D%20%7D%20spellCheck%20%7D%20%7D&variables=%7B%22query%22%3A%22c20%22%2C%22sort%22%3A%22Relevance%22%2C%22limit%22%3A20%2C%22offset%22%3A0%7D'\n",
    "headers = {'name':'Asta Thit Kettel', 'from':'ucph','email':'dnp@ku.dk'}\n",
    "response1 = requests.get(url1, headers)\n",
    "results1 = response1.json()\n",
    "result_articles1 = [{'urlPathId': article['urlPathId'], 'title': article['title']} for article in results1['data']['drdk']['results']]\n",
    "data1 = pd.DataFrame(result_articles1)"
   ]
  },
  {
   "cell_type": "code",
   "execution_count": 97,
   "id": "c396e367-1f60-4d35-ae7d-99e003861787",
   "metadata": {},
   "outputs": [],
   "source": [
    "url2 = f'https://www.dr.dk/tjenester/steffi/graphql?query=fragment%20ArticleResultFields%20on%20Article%20%7B%20type%3A%20__typename%20urn%20urlPathId%20title%20format%20publications%20%7B%20...on%20ArticlePublication%20%7B%20breaking%20live%20serviceChannel%20%7B%20urn%20%7D%20%7D%20%7D%20summary%20startDate%20teaserImage%20%7B%20default%20%7B%20url%20%7D%20%7D%20head%20%7B%20type%3A%20__typename%20...%20on%20MediaComponent%20%7B%20resource%20%7B%20type%3A%20__typename%20...%20on%20LiveMedia%20%7B%20urn%20mediaType%20%7D%20...%20on%20Clip%20%7B%20urn%20mediaType%20durationInMilliseconds%20%7D%20...%20on%20ClipBundle%20%7B%20items(limit%3A%201)%20%7B%20__typename%20urn%20durationInMilliseconds%20%7D%20%7D%20%7D%20%7D%20...%20on%20ImageCollectionComponent%20%7B%20images%20%7B%20default%3A%20image(key%3A%20%22default%22)%20%7B%20type%3A%20__typename%20%7D%20%7D%20%7D%20...%20on%20RatingComponent%20%7B%20rating%20%7D%20%7D%20contributions(limit%3A%201)%20%7B%20agent%20%7B%20...%20on%20Person%20%7B%20name%20%7D%20%7D%20role%20%7D%20site%20%7B%20url%20urn%20title%20presentation%20%7B%20colors%20teaserImage%20%7B%20default%3A%20image(key%3A%20%22default%22)%20%7B%20url%20%7D%20%7D%20%7D%20%7D%20%7D%20fragment%20RecipeResultFields%20on%20Recipe%20%7B%20title%20url%20image%20%7B%20url%20%7D%20startDate%20%7D%20fragment%20UnknownSearchResultFields%20on%20UnknownSearchResult%20%7B%20title%20url%20label%20image%20%7B%20url%20width%20height%20%7D%20%7D%20fragment%20MusicArtistResultFields%20on%20MusicArtist%20%7B%20url%20name%20image%20%7B%20url%20width%20height%20%7D%20%7D%20query%20SearchPageDRDK(%24query%3A%20String!%20%24limit%3A%20Int!%20%24offset%3A%20Int!%20%24sort%3A%20SearchSort)%20%7B%20drdk%3A%20search(query%3A%20%24query%20logQuery%3A%20%24query%20limit%3A%20%24limit%20offset%3A%20%24offset%20products%3A%20%5B%22drdk%22%5D%20sort%3A%20%24sort)%20%7B%20totalCount%20results%3A%20nodes%20%7B%20type%3A%20__typename%20...%20on%20Article%20%7B%20...ArticleResultFields%20%7D%20...%20on%20Recipe%20%7B%20...RecipeResultFields%20%7D%20...%20on%20MusicArtist%20%7B%20...MusicArtistResultFields%20%7D%20...%20on%20UnknownSearchResult%20%7B%20...UnknownSearchResultFields%20%7D%20%7D%20spellCheck%20%7D%20%7D&variables=%7B%22query%22%3A%22c20%22%2C%22sort%22%3A%22Relevance%22%2C%22limit%22%3A10%2C%22offset%22%3A20%7D'\n",
    "headers = {'name':'Asta Thit Kettel', 'from':'ucph','email':'dnp@ku.dk'}\n",
    "response2 = requests.get(url2, headers)\n",
    "results2 = response2.json()\n",
    "result_articles2 = [{'urlPathId': article['urlPathId'], 'title': article['title']} for article in results2['data']['drdk']['results']]\n",
    "data2 = pd.DataFrame(result_articles2)"
   ]
  },
  {
   "cell_type": "code",
   "execution_count": 98,
   "id": "827c96cd-186b-4102-8268-143882e2eb64",
   "metadata": {},
   "outputs": [],
   "source": [
    "url3 = f'https://www.dr.dk/tjenester/steffi/graphql?query=fragment%20ArticleResultFields%20on%20Article%20%7B%20type%3A%20__typename%20urn%20urlPathId%20title%20format%20publications%20%7B%20...on%20ArticlePublication%20%7B%20breaking%20live%20serviceChannel%20%7B%20urn%20%7D%20%7D%20%7D%20summary%20startDate%20teaserImage%20%7B%20default%20%7B%20url%20%7D%20%7D%20head%20%7B%20type%3A%20__typename%20...%20on%20MediaComponent%20%7B%20resource%20%7B%20type%3A%20__typename%20...%20on%20LiveMedia%20%7B%20urn%20mediaType%20%7D%20...%20on%20Clip%20%7B%20urn%20mediaType%20durationInMilliseconds%20%7D%20...%20on%20ClipBundle%20%7B%20items(limit%3A%201)%20%7B%20__typename%20urn%20durationInMilliseconds%20%7D%20%7D%20%7D%20%7D%20...%20on%20ImageCollectionComponent%20%7B%20images%20%7B%20default%3A%20image(key%3A%20%22default%22)%20%7B%20type%3A%20__typename%20%7D%20%7D%20%7D%20...%20on%20RatingComponent%20%7B%20rating%20%7D%20%7D%20contributions(limit%3A%201)%20%7B%20agent%20%7B%20...%20on%20Person%20%7B%20name%20%7D%20%7D%20role%20%7D%20site%20%7B%20url%20urn%20title%20presentation%20%7B%20colors%20teaserImage%20%7B%20default%3A%20image(key%3A%20%22default%22)%20%7B%20url%20%7D%20%7D%20%7D%20%7D%20%7D%20fragment%20RecipeResultFields%20on%20Recipe%20%7B%20title%20url%20image%20%7B%20url%20%7D%20startDate%20%7D%20fragment%20UnknownSearchResultFields%20on%20UnknownSearchResult%20%7B%20title%20url%20label%20image%20%7B%20url%20width%20height%20%7D%20%7D%20fragment%20MusicArtistResultFields%20on%20MusicArtist%20%7B%20url%20name%20image%20%7B%20url%20width%20height%20%7D%20%7D%20query%20SearchPageDRDK(%24query%3A%20String!%20%24limit%3A%20Int!%20%24offset%3A%20Int!%20%24sort%3A%20SearchSort)%20%7B%20drdk%3A%20search(query%3A%20%24query%20logQuery%3A%20%24query%20limit%3A%20%24limit%20offset%3A%20%24offset%20products%3A%20%5B%22drdk%22%5D%20sort%3A%20%24sort)%20%7B%20totalCount%20results%3A%20nodes%20%7B%20type%3A%20__typename%20...%20on%20Article%20%7B%20...ArticleResultFields%20%7D%20...%20on%20Recipe%20%7B%20...RecipeResultFields%20%7D%20...%20on%20MusicArtist%20%7B%20...MusicArtistResultFields%20%7D%20...%20on%20UnknownSearchResult%20%7B%20...UnknownSearchResultFields%20%7D%20%7D%20spellCheck%20%7D%20%7D&variables=%7B%22query%22%3A%22c20%22%2C%22sort%22%3A%22Relevance%22%2C%22limit%22%3A10%2C%22offset%22%3A30%7D'\n",
    "headers = {'name':'Asta Thit Kettel', 'from':'ucph','email':'dnp@ku.dk'}\n",
    "response3 = requests.get(url3, headers)\n",
    "results3 = response3.json()\n",
    "result_articles3 = [{'urlPathId': article['urlPathId'], 'title': article['title']} for article in results3['data']['drdk']['results']]\n",
    "data3 = pd.DataFrame(result_articles3)"
   ]
  },
  {
   "cell_type": "code",
   "execution_count": 99,
   "id": "aa407216-7f2d-4f62-8567-c543163e37b4",
   "metadata": {},
   "outputs": [],
   "source": [
    "url4 = f'https://www.dr.dk/tjenester/steffi/graphql?query=fragment%20ArticleResultFields%20on%20Article%20%7B%20type%3A%20__typename%20urn%20urlPathId%20title%20format%20publications%20%7B%20...on%20ArticlePublication%20%7B%20breaking%20live%20serviceChannel%20%7B%20urn%20%7D%20%7D%20%7D%20summary%20startDate%20teaserImage%20%7B%20default%20%7B%20url%20%7D%20%7D%20head%20%7B%20type%3A%20__typename%20...%20on%20MediaComponent%20%7B%20resource%20%7B%20type%3A%20__typename%20...%20on%20LiveMedia%20%7B%20urn%20mediaType%20%7D%20...%20on%20Clip%20%7B%20urn%20mediaType%20durationInMilliseconds%20%7D%20...%20on%20ClipBundle%20%7B%20items(limit%3A%201)%20%7B%20__typename%20urn%20durationInMilliseconds%20%7D%20%7D%20%7D%20%7D%20...%20on%20ImageCollectionComponent%20%7B%20images%20%7B%20default%3A%20image(key%3A%20%22default%22)%20%7B%20type%3A%20__typename%20%7D%20%7D%20%7D%20...%20on%20RatingComponent%20%7B%20rating%20%7D%20%7D%20contributions(limit%3A%201)%20%7B%20agent%20%7B%20...%20on%20Person%20%7B%20name%20%7D%20%7D%20role%20%7D%20site%20%7B%20url%20urn%20title%20presentation%20%7B%20colors%20teaserImage%20%7B%20default%3A%20image(key%3A%20%22default%22)%20%7B%20url%20%7D%20%7D%20%7D%20%7D%20%7D%20fragment%20RecipeResultFields%20on%20Recipe%20%7B%20title%20url%20image%20%7B%20url%20%7D%20startDate%20%7D%20fragment%20UnknownSearchResultFields%20on%20UnknownSearchResult%20%7B%20title%20url%20label%20image%20%7B%20url%20width%20height%20%7D%20%7D%20fragment%20MusicArtistResultFields%20on%20MusicArtist%20%7B%20url%20name%20image%20%7B%20url%20width%20height%20%7D%20%7D%20query%20SearchPageDRDK(%24query%3A%20String!%20%24limit%3A%20Int!%20%24offset%3A%20Int!%20%24sort%3A%20SearchSort)%20%7B%20drdk%3A%20search(query%3A%20%24query%20logQuery%3A%20%24query%20limit%3A%20%24limit%20offset%3A%20%24offset%20products%3A%20%5B%22drdk%22%5D%20sort%3A%20%24sort)%20%7B%20totalCount%20results%3A%20nodes%20%7B%20type%3A%20__typename%20...%20on%20Article%20%7B%20...ArticleResultFields%20%7D%20...%20on%20Recipe%20%7B%20...RecipeResultFields%20%7D%20...%20on%20MusicArtist%20%7B%20...MusicArtistResultFields%20%7D%20...%20on%20UnknownSearchResult%20%7B%20...UnknownSearchResultFields%20%7D%20%7D%20spellCheck%20%7D%20%7D&variables=%7B%22query%22%3A%22c20%22%2C%22sort%22%3A%22Relevance%22%2C%22limit%22%3A10%2C%22offset%22%3A40%7D'\n",
    "headers = {'name':'Asta Thit Kettel', 'from':'ucph','email':'dnp@ku.dk'}\n",
    "response4 = requests.get(url4, headers)\n",
    "results4 = response1.json()\n",
    "result_articles4 = [{'urlPathId': article['urlPathId'], 'title': article['title']} for article in results4['data']['drdk']['results']]\n",
    "data4 = pd.DataFrame(result_articles4)"
   ]
  },
  {
   "cell_type": "code",
   "execution_count": 100,
   "id": "d3030609-d586-4474-a989-1b23f76d704e",
   "metadata": {},
   "outputs": [],
   "source": [
    "url5 = f'https://www.dr.dk/tjenester/steffi/graphql?query=fragment%20ArticleResultFields%20on%20Article%20%7B%20type%3A%20__typename%20urn%20urlPathId%20title%20format%20publications%20%7B%20...on%20ArticlePublication%20%7B%20breaking%20live%20serviceChannel%20%7B%20urn%20%7D%20%7D%20%7D%20summary%20startDate%20teaserImage%20%7B%20default%20%7B%20url%20%7D%20%7D%20head%20%7B%20type%3A%20__typename%20...%20on%20MediaComponent%20%7B%20resource%20%7B%20type%3A%20__typename%20...%20on%20LiveMedia%20%7B%20urn%20mediaType%20%7D%20...%20on%20Clip%20%7B%20urn%20mediaType%20durationInMilliseconds%20%7D%20...%20on%20ClipBundle%20%7B%20items(limit%3A%201)%20%7B%20__typename%20urn%20durationInMilliseconds%20%7D%20%7D%20%7D%20%7D%20...%20on%20ImageCollectionComponent%20%7B%20images%20%7B%20default%3A%20image(key%3A%20%22default%22)%20%7B%20type%3A%20__typename%20%7D%20%7D%20%7D%20...%20on%20RatingComponent%20%7B%20rating%20%7D%20%7D%20contributions(limit%3A%201)%20%7B%20agent%20%7B%20...%20on%20Person%20%7B%20name%20%7D%20%7D%20role%20%7D%20site%20%7B%20url%20urn%20title%20presentation%20%7B%20colors%20teaserImage%20%7B%20default%3A%20image(key%3A%20%22default%22)%20%7B%20url%20%7D%20%7D%20%7D%20%7D%20%7D%20fragment%20RecipeResultFields%20on%20Recipe%20%7B%20title%20url%20image%20%7B%20url%20%7D%20startDate%20%7D%20fragment%20UnknownSearchResultFields%20on%20UnknownSearchResult%20%7B%20title%20url%20label%20image%20%7B%20url%20width%20height%20%7D%20%7D%20fragment%20MusicArtistResultFields%20on%20MusicArtist%20%7B%20url%20name%20image%20%7B%20url%20width%20height%20%7D%20%7D%20query%20SearchPageDRDK(%24query%3A%20String!%20%24limit%3A%20Int!%20%24offset%3A%20Int!%20%24sort%3A%20SearchSort)%20%7B%20drdk%3A%20search(query%3A%20%24query%20logQuery%3A%20%24query%20limit%3A%20%24limit%20offset%3A%20%24offset%20products%3A%20%5B%22drdk%22%5D%20sort%3A%20%24sort)%20%7B%20totalCount%20results%3A%20nodes%20%7B%20type%3A%20__typename%20...%20on%20Article%20%7B%20...ArticleResultFields%20%7D%20...%20on%20Recipe%20%7B%20...RecipeResultFields%20%7D%20...%20on%20MusicArtist%20%7B%20...MusicArtistResultFields%20%7D%20...%20on%20UnknownSearchResult%20%7B%20...UnknownSearchResultFields%20%7D%20%7D%20spellCheck%20%7D%20%7D&variables=%7B%22query%22%3A%22c20%22%2C%22sort%22%3A%22Relevance%22%2C%22limit%22%3A10%2C%22offset%22%3A50%7D'\n",
    "headers = {'name':'Asta Thit Kettel', 'from':'ucph','email':'dnp@ku.dk'}\n",
    "response5 = requests.get(url5, headers)\n",
    "results5 = response1.json()\n",
    "result_articles5 = [{'urlPathId': article['urlPathId'], 'title': article['title']} for article in results5['data']['drdk']['results']]\n",
    "data5 = pd.DataFrame(result_articles1)"
   ]
  },
  {
   "cell_type": "code",
   "execution_count": 101,
   "id": "b83c6c5b-e261-47d1-bbbe-4cbf2c8e8efe",
   "metadata": {},
   "outputs": [],
   "source": [
    "url6 = f'https://www.dr.dk/tjenester/steffi/graphql?query=fragment%20ArticleResultFields%20on%20Article%20%7B%20type%3A%20__typename%20urn%20urlPathId%20title%20format%20publications%20%7B%20...on%20ArticlePublication%20%7B%20breaking%20live%20serviceChannel%20%7B%20urn%20%7D%20%7D%20%7D%20summary%20startDate%20teaserImage%20%7B%20default%20%7B%20url%20%7D%20%7D%20head%20%7B%20type%3A%20__typename%20...%20on%20MediaComponent%20%7B%20resource%20%7B%20type%3A%20__typename%20...%20on%20LiveMedia%20%7B%20urn%20mediaType%20%7D%20...%20on%20Clip%20%7B%20urn%20mediaType%20durationInMilliseconds%20%7D%20...%20on%20ClipBundle%20%7B%20items(limit%3A%201)%20%7B%20__typename%20urn%20durationInMilliseconds%20%7D%20%7D%20%7D%20%7D%20...%20on%20ImageCollectionComponent%20%7B%20images%20%7B%20default%3A%20image(key%3A%20%22default%22)%20%7B%20type%3A%20__typename%20%7D%20%7D%20%7D%20...%20on%20RatingComponent%20%7B%20rating%20%7D%20%7D%20contributions(limit%3A%201)%20%7B%20agent%20%7B%20...%20on%20Person%20%7B%20name%20%7D%20%7D%20role%20%7D%20site%20%7B%20url%20urn%20title%20presentation%20%7B%20colors%20teaserImage%20%7B%20default%3A%20image(key%3A%20%22default%22)%20%7B%20url%20%7D%20%7D%20%7D%20%7D%20%7D%20fragment%20RecipeResultFields%20on%20Recipe%20%7B%20title%20url%20image%20%7B%20url%20%7D%20startDate%20%7D%20fragment%20UnknownSearchResultFields%20on%20UnknownSearchResult%20%7B%20title%20url%20label%20image%20%7B%20url%20width%20height%20%7D%20%7D%20fragment%20MusicArtistResultFields%20on%20MusicArtist%20%7B%20url%20name%20image%20%7B%20url%20width%20height%20%7D%20%7D%20query%20SearchPageDRDK(%24query%3A%20String!%20%24limit%3A%20Int!%20%24offset%3A%20Int!%20%24sort%3A%20SearchSort)%20%7B%20drdk%3A%20search(query%3A%20%24query%20logQuery%3A%20%24query%20limit%3A%20%24limit%20offset%3A%20%24offset%20products%3A%20%5B%22drdk%22%5D%20sort%3A%20%24sort)%20%7B%20totalCount%20results%3A%20nodes%20%7B%20type%3A%20__typename%20...%20on%20Article%20%7B%20...ArticleResultFields%20%7D%20...%20on%20Recipe%20%7B%20...RecipeResultFields%20%7D%20...%20on%20MusicArtist%20%7B%20...MusicArtistResultFields%20%7D%20...%20on%20UnknownSearchResult%20%7B%20...UnknownSearchResultFields%20%7D%20%7D%20spellCheck%20%7D%20%7D&variables=%7B%22query%22%3A%22c20%22%2C%22sort%22%3A%22Relevance%22%2C%22limit%22%3A10%2C%22offset%22%3A60%7D'\n",
    "headers = {'name':'Asta Thit Kettel', 'from':'ucph','email':'dnp@ku.dk'}\n",
    "response6 = requests.get(url6, headers)\n",
    "results6 = response1.json()\n",
    "result_articles6 = [{'urlPathId': article['urlPathId'], 'title': article['title']} for article in results6['data']['drdk']['results']]\n",
    "data6 = pd.DataFrame(result_articles6)"
   ]
  },
  {
   "cell_type": "code",
   "execution_count": 102,
   "id": "3d27fb53-cb57-4b26-ba78-a91ca2a1d91c",
   "metadata": {},
   "outputs": [],
   "source": [
    "url7 = f'https://www.dr.dk/tjenester/steffi/graphql?query=fragment%20ArticleResultFields%20on%20Article%20%7B%20type%3A%20__typename%20urn%20urlPathId%20title%20format%20publications%20%7B%20...on%20ArticlePublication%20%7B%20breaking%20live%20serviceChannel%20%7B%20urn%20%7D%20%7D%20%7D%20summary%20startDate%20teaserImage%20%7B%20default%20%7B%20url%20%7D%20%7D%20head%20%7B%20type%3A%20__typename%20...%20on%20MediaComponent%20%7B%20resource%20%7B%20type%3A%20__typename%20...%20on%20LiveMedia%20%7B%20urn%20mediaType%20%7D%20...%20on%20Clip%20%7B%20urn%20mediaType%20durationInMilliseconds%20%7D%20...%20on%20ClipBundle%20%7B%20items(limit%3A%201)%20%7B%20__typename%20urn%20durationInMilliseconds%20%7D%20%7D%20%7D%20%7D%20...%20on%20ImageCollectionComponent%20%7B%20images%20%7B%20default%3A%20image(key%3A%20%22default%22)%20%7B%20type%3A%20__typename%20%7D%20%7D%20%7D%20...%20on%20RatingComponent%20%7B%20rating%20%7D%20%7D%20contributions(limit%3A%201)%20%7B%20agent%20%7B%20...%20on%20Person%20%7B%20name%20%7D%20%7D%20role%20%7D%20site%20%7B%20url%20urn%20title%20presentation%20%7B%20colors%20teaserImage%20%7B%20default%3A%20image(key%3A%20%22default%22)%20%7B%20url%20%7D%20%7D%20%7D%20%7D%20%7D%20fragment%20RecipeResultFields%20on%20Recipe%20%7B%20title%20url%20image%20%7B%20url%20%7D%20startDate%20%7D%20fragment%20UnknownSearchResultFields%20on%20UnknownSearchResult%20%7B%20title%20url%20label%20image%20%7B%20url%20width%20height%20%7D%20%7D%20fragment%20MusicArtistResultFields%20on%20MusicArtist%20%7B%20url%20name%20image%20%7B%20url%20width%20height%20%7D%20%7D%20query%20SearchPageDRDK(%24query%3A%20String!%20%24limit%3A%20Int!%20%24offset%3A%20Int!%20%24sort%3A%20SearchSort)%20%7B%20drdk%3A%20search(query%3A%20%24query%20logQuery%3A%20%24query%20limit%3A%20%24limit%20offset%3A%20%24offset%20products%3A%20%5B%22drdk%22%5D%20sort%3A%20%24sort)%20%7B%20totalCount%20results%3A%20nodes%20%7B%20type%3A%20__typename%20...%20on%20Article%20%7B%20...ArticleResultFields%20%7D%20...%20on%20Recipe%20%7B%20...RecipeResultFields%20%7D%20...%20on%20MusicArtist%20%7B%20...MusicArtistResultFields%20%7D%20...%20on%20UnknownSearchResult%20%7B%20...UnknownSearchResultFields%20%7D%20%7D%20spellCheck%20%7D%20%7D&variables=%7B%22query%22%3A%22c20%22%2C%22sort%22%3A%22Relevance%22%2C%22limit%22%3A10%2C%22offset%22%3A70%7D'\n",
    "headers = {'name':'Asta Thit Kettel', 'from':'ucph','email':'dnp@ku.dk'}\n",
    "response7 = requests.get(url7, headers)\n",
    "results7 = response7.json()\n",
    "result_articles7 = [{'urlPathId': article['urlPathId'], 'title': article['title']} for article in results7['data']['drdk']['results']]\n",
    "data7 = pd.DataFrame(result_articles7)"
   ]
  },
  {
   "cell_type": "code",
   "execution_count": 103,
   "id": "5c48dfdf-387f-4f70-a224-967e52ef5f3d",
   "metadata": {},
   "outputs": [],
   "source": [
    "url8 = f'https://www.dr.dk/tjenester/steffi/graphql?query=fragment%20ArticleResultFields%20on%20Article%20%7B%20type%3A%20__typename%20urn%20urlPathId%20title%20format%20publications%20%7B%20...on%20ArticlePublication%20%7B%20breaking%20live%20serviceChannel%20%7B%20urn%20%7D%20%7D%20%7D%20summary%20startDate%20teaserImage%20%7B%20default%20%7B%20url%20%7D%20%7D%20head%20%7B%20type%3A%20__typename%20...%20on%20MediaComponent%20%7B%20resource%20%7B%20type%3A%20__typename%20...%20on%20LiveMedia%20%7B%20urn%20mediaType%20%7D%20...%20on%20Clip%20%7B%20urn%20mediaType%20durationInMilliseconds%20%7D%20...%20on%20ClipBundle%20%7B%20items(limit%3A%201)%20%7B%20__typename%20urn%20durationInMilliseconds%20%7D%20%7D%20%7D%20%7D%20...%20on%20ImageCollectionComponent%20%7B%20images%20%7B%20default%3A%20image(key%3A%20%22default%22)%20%7B%20type%3A%20__typename%20%7D%20%7D%20%7D%20...%20on%20RatingComponent%20%7B%20rating%20%7D%20%7D%20contributions(limit%3A%201)%20%7B%20agent%20%7B%20...%20on%20Person%20%7B%20name%20%7D%20%7D%20role%20%7D%20site%20%7B%20url%20urn%20title%20presentation%20%7B%20colors%20teaserImage%20%7B%20default%3A%20image(key%3A%20%22default%22)%20%7B%20url%20%7D%20%7D%20%7D%20%7D%20%7D%20fragment%20RecipeResultFields%20on%20Recipe%20%7B%20title%20url%20image%20%7B%20url%20%7D%20startDate%20%7D%20fragment%20UnknownSearchResultFields%20on%20UnknownSearchResult%20%7B%20title%20url%20label%20image%20%7B%20url%20width%20height%20%7D%20%7D%20fragment%20MusicArtistResultFields%20on%20MusicArtist%20%7B%20url%20name%20image%20%7B%20url%20width%20height%20%7D%20%7D%20query%20SearchPageDRDK(%24query%3A%20String!%20%24limit%3A%20Int!%20%24offset%3A%20Int!%20%24sort%3A%20SearchSort)%20%7B%20drdk%3A%20search(query%3A%20%24query%20logQuery%3A%20%24query%20limit%3A%20%24limit%20offset%3A%20%24offset%20products%3A%20%5B%22drdk%22%5D%20sort%3A%20%24sort)%20%7B%20totalCount%20results%3A%20nodes%20%7B%20type%3A%20__typename%20...%20on%20Article%20%7B%20...ArticleResultFields%20%7D%20...%20on%20Recipe%20%7B%20...RecipeResultFields%20%7D%20...%20on%20MusicArtist%20%7B%20...MusicArtistResultFields%20%7D%20...%20on%20UnknownSearchResult%20%7B%20...UnknownSearchResultFields%20%7D%20%7D%20spellCheck%20%7D%20%7D&variables=%7B%22query%22%3A%22c20%22%2C%22sort%22%3A%22Relevance%22%2C%22limit%22%3A10%2C%22offset%22%3A80%7D'\n",
    "headers = {'name':'Asta Thit Kettel', 'from':'ucph','email':'dnp@ku.dk'}\n",
    "response8 = requests.get(url8, headers)\n",
    "results8 = response8.json()\n",
    "result_articles8 = [{'urlPathId': article['urlPathId'], 'title': article['title']} for article in results8['data']['drdk']['results']]\n",
    "data8 = pd.DataFrame(result_articles8)"
   ]
  },
  {
   "cell_type": "code",
   "execution_count": 104,
   "id": "577d44b8-cf09-484a-a538-d38d0f60f3db",
   "metadata": {},
   "outputs": [],
   "source": [
    "url9 = f'https://www.dr.dk/tjenester/steffi/graphql?query=fragment%20ArticleResultFields%20on%20Article%20%7B%20type%3A%20__typename%20urn%20urlPathId%20title%20format%20publications%20%7B%20...on%20ArticlePublication%20%7B%20breaking%20live%20serviceChannel%20%7B%20urn%20%7D%20%7D%20%7D%20summary%20startDate%20teaserImage%20%7B%20default%20%7B%20url%20%7D%20%7D%20head%20%7B%20type%3A%20__typename%20...%20on%20MediaComponent%20%7B%20resource%20%7B%20type%3A%20__typename%20...%20on%20LiveMedia%20%7B%20urn%20mediaType%20%7D%20...%20on%20Clip%20%7B%20urn%20mediaType%20durationInMilliseconds%20%7D%20...%20on%20ClipBundle%20%7B%20items(limit%3A%201)%20%7B%20__typename%20urn%20durationInMilliseconds%20%7D%20%7D%20%7D%20%7D%20...%20on%20ImageCollectionComponent%20%7B%20images%20%7B%20default%3A%20image(key%3A%20%22default%22)%20%7B%20type%3A%20__typename%20%7D%20%7D%20%7D%20...%20on%20RatingComponent%20%7B%20rating%20%7D%20%7D%20contributions(limit%3A%201)%20%7B%20agent%20%7B%20...%20on%20Person%20%7B%20name%20%7D%20%7D%20role%20%7D%20site%20%7B%20url%20urn%20title%20presentation%20%7B%20colors%20teaserImage%20%7B%20default%3A%20image(key%3A%20%22default%22)%20%7B%20url%20%7D%20%7D%20%7D%20%7D%20%7D%20fragment%20RecipeResultFields%20on%20Recipe%20%7B%20title%20url%20image%20%7B%20url%20%7D%20startDate%20%7D%20fragment%20UnknownSearchResultFields%20on%20UnknownSearchResult%20%7B%20title%20url%20label%20image%20%7B%20url%20width%20height%20%7D%20%7D%20fragment%20MusicArtistResultFields%20on%20MusicArtist%20%7B%20url%20name%20image%20%7B%20url%20width%20height%20%7D%20%7D%20query%20SearchPageDRDK(%24query%3A%20String!%20%24limit%3A%20Int!%20%24offset%3A%20Int!%20%24sort%3A%20SearchSort)%20%7B%20drdk%3A%20search(query%3A%20%24query%20logQuery%3A%20%24query%20limit%3A%20%24limit%20offset%3A%20%24offset%20products%3A%20%5B%22drdk%22%5D%20sort%3A%20%24sort)%20%7B%20totalCount%20results%3A%20nodes%20%7B%20type%3A%20__typename%20...%20on%20Article%20%7B%20...ArticleResultFields%20%7D%20...%20on%20Recipe%20%7B%20...RecipeResultFields%20%7D%20...%20on%20MusicArtist%20%7B%20...MusicArtistResultFields%20%7D%20...%20on%20UnknownSearchResult%20%7B%20...UnknownSearchResultFields%20%7D%20%7D%20spellCheck%20%7D%20%7D&variables=%7B%22query%22%3A%22c20%22%2C%22sort%22%3A%22Relevance%22%2C%22limit%22%3A10%2C%22offset%22%3A90%7D'\n",
    "headers = {'name':'Asta Thit Kettel', 'from':'ucph','email':'dnp@ku.dk'}\n",
    "response9 = requests.get(url9, headers)\n",
    "results9 = response9.json()\n",
    "result_articles9 = [{'urlPathId': article['urlPathId'], 'title': article['title']} for article in results9['data']['drdk']['results']]\n",
    "data9 = pd.DataFrame(result_articles9)"
   ]
  },
  {
   "cell_type": "code",
   "execution_count": 105,
   "id": "20b356cb-1d3a-4ae3-b29a-22cc41c0954a",
   "metadata": {},
   "outputs": [],
   "source": [
    "url10 = f'https://www.dr.dk/tjenester/steffi/graphql?query=fragment%20ArticleResultFields%20on%20Article%20%7B%20type%3A%20__typename%20urn%20urlPathId%20title%20format%20publications%20%7B%20...on%20ArticlePublication%20%7B%20breaking%20live%20serviceChannel%20%7B%20urn%20%7D%20%7D%20%7D%20summary%20startDate%20teaserImage%20%7B%20default%20%7B%20url%20%7D%20%7D%20head%20%7B%20type%3A%20__typename%20...%20on%20MediaComponent%20%7B%20resource%20%7B%20type%3A%20__typename%20...%20on%20LiveMedia%20%7B%20urn%20mediaType%20%7D%20...%20on%20Clip%20%7B%20urn%20mediaType%20durationInMilliseconds%20%7D%20...%20on%20ClipBundle%20%7B%20items(limit%3A%201)%20%7B%20__typename%20urn%20durationInMilliseconds%20%7D%20%7D%20%7D%20%7D%20...%20on%20ImageCollectionComponent%20%7B%20images%20%7B%20default%3A%20image(key%3A%20%22default%22)%20%7B%20type%3A%20__typename%20%7D%20%7D%20%7D%20...%20on%20RatingComponent%20%7B%20rating%20%7D%20%7D%20contributions(limit%3A%201)%20%7B%20agent%20%7B%20...%20on%20Person%20%7B%20name%20%7D%20%7D%20role%20%7D%20site%20%7B%20url%20urn%20title%20presentation%20%7B%20colors%20teaserImage%20%7B%20default%3A%20image(key%3A%20%22default%22)%20%7B%20url%20%7D%20%7D%20%7D%20%7D%20%7D%20fragment%20RecipeResultFields%20on%20Recipe%20%7B%20title%20url%20image%20%7B%20url%20%7D%20startDate%20%7D%20fragment%20UnknownSearchResultFields%20on%20UnknownSearchResult%20%7B%20title%20url%20label%20image%20%7B%20url%20width%20height%20%7D%20%7D%20fragment%20MusicArtistResultFields%20on%20MusicArtist%20%7B%20url%20name%20image%20%7B%20url%20width%20height%20%7D%20%7D%20query%20SearchPageDRDK(%24query%3A%20String!%20%24limit%3A%20Int!%20%24offset%3A%20Int!%20%24sort%3A%20SearchSort)%20%7B%20drdk%3A%20search(query%3A%20%24query%20logQuery%3A%20%24query%20limit%3A%20%24limit%20offset%3A%20%24offset%20products%3A%20%5B%22drdk%22%5D%20sort%3A%20%24sort)%20%7B%20totalCount%20results%3A%20nodes%20%7B%20type%3A%20__typename%20...%20on%20Article%20%7B%20...ArticleResultFields%20%7D%20...%20on%20Recipe%20%7B%20...RecipeResultFields%20%7D%20...%20on%20MusicArtist%20%7B%20...MusicArtistResultFields%20%7D%20...%20on%20UnknownSearchResult%20%7B%20...UnknownSearchResultFields%20%7D%20%7D%20spellCheck%20%7D%20%7D&variables=%7B%22query%22%3A%22c20%22%2C%22sort%22%3A%22Relevance%22%2C%22limit%22%3A10%2C%22offset%22%3A100%7D'\n",
    "headers = {'name':'Asta Thit Kettel', 'from':'ucph','email':'dnp@ku.dk'}\n",
    "response10 = requests.get(url10, headers)\n",
    "results10 = response10.json()\n",
    "result_articles10 = [{'urlPathId': article['urlPathId'], 'title': article['title']} for article in results10['data']['drdk']['results']]\n",
    "data10 = pd.DataFrame(result_articles10)"
   ]
  },
  {
   "cell_type": "code",
   "execution_count": 106,
   "id": "2d3f58e8-80e6-4c6a-8df3-e58d072fab63",
   "metadata": {},
   "outputs": [],
   "source": [
    "url11 = f'https://www.dr.dk/tjenester/steffi/graphql?query=fragment%20ArticleResultFields%20on%20Article%20%7B%20type%3A%20__typename%20urn%20urlPathId%20title%20format%20publications%20%7B%20...on%20ArticlePublication%20%7B%20breaking%20live%20serviceChannel%20%7B%20urn%20%7D%20%7D%20%7D%20summary%20startDate%20teaserImage%20%7B%20default%20%7B%20url%20%7D%20%7D%20head%20%7B%20type%3A%20__typename%20...%20on%20MediaComponent%20%7B%20resource%20%7B%20type%3A%20__typename%20...%20on%20LiveMedia%20%7B%20urn%20mediaType%20%7D%20...%20on%20Clip%20%7B%20urn%20mediaType%20durationInMilliseconds%20%7D%20...%20on%20ClipBundle%20%7B%20items(limit%3A%201)%20%7B%20__typename%20urn%20durationInMilliseconds%20%7D%20%7D%20%7D%20%7D%20...%20on%20ImageCollectionComponent%20%7B%20images%20%7B%20default%3A%20image(key%3A%20%22default%22)%20%7B%20type%3A%20__typename%20%7D%20%7D%20%7D%20...%20on%20RatingComponent%20%7B%20rating%20%7D%20%7D%20contributions(limit%3A%201)%20%7B%20agent%20%7B%20...%20on%20Person%20%7B%20name%20%7D%20%7D%20role%20%7D%20site%20%7B%20url%20urn%20title%20presentation%20%7B%20colors%20teaserImage%20%7B%20default%3A%20image(key%3A%20%22default%22)%20%7B%20url%20%7D%20%7D%20%7D%20%7D%20%7D%20fragment%20RecipeResultFields%20on%20Recipe%20%7B%20title%20url%20image%20%7B%20url%20%7D%20startDate%20%7D%20fragment%20UnknownSearchResultFields%20on%20UnknownSearchResult%20%7B%20title%20url%20label%20image%20%7B%20url%20width%20height%20%7D%20%7D%20fragment%20MusicArtistResultFields%20on%20MusicArtist%20%7B%20url%20name%20image%20%7B%20url%20width%20height%20%7D%20%7D%20query%20SearchPageDRDK(%24query%3A%20String!%20%24limit%3A%20Int!%20%24offset%3A%20Int!%20%24sort%3A%20SearchSort)%20%7B%20drdk%3A%20search(query%3A%20%24query%20logQuery%3A%20%24query%20limit%3A%20%24limit%20offset%3A%20%24offset%20products%3A%20%5B%22drdk%22%5D%20sort%3A%20%24sort)%20%7B%20totalCount%20results%3A%20nodes%20%7B%20type%3A%20__typename%20...%20on%20Article%20%7B%20...ArticleResultFields%20%7D%20...%20on%20Recipe%20%7B%20...RecipeResultFields%20%7D%20...%20on%20MusicArtist%20%7B%20...MusicArtistResultFields%20%7D%20...%20on%20UnknownSearchResult%20%7B%20...UnknownSearchResultFields%20%7D%20%7D%20spellCheck%20%7D%20%7D&variables=%7B%22query%22%3A%22c20%22%2C%22sort%22%3A%22Relevance%22%2C%22limit%22%3A10%2C%22offset%22%3A110%7D'\n",
    "headers = {'name':'Asta Thit Kettel', 'from':'ucph','email':'dnp@ku.dk'}\n",
    "response11 = requests.get(url11, headers)\n",
    "results11 = response11.json()\n",
    "result_articles11 = [{'urlPathId': article['urlPathId'], 'title': article['title']} for article in results11['data']['drdk']['results']]\n",
    "data11 = pd.DataFrame(result_articles11)"
   ]
  },
  {
   "cell_type": "code",
   "execution_count": 107,
   "id": "c7ec34ea-433a-4c24-a55b-44cbeb8cfbd2",
   "metadata": {},
   "outputs": [],
   "source": [
    "url12 = f'https://www.dr.dk/tjenester/steffi/graphql?query=fragment%20ArticleResultFields%20on%20Article%20%7B%20type%3A%20__typename%20urn%20urlPathId%20title%20format%20publications%20%7B%20...on%20ArticlePublication%20%7B%20breaking%20live%20serviceChannel%20%7B%20urn%20%7D%20%7D%20%7D%20summary%20startDate%20teaserImage%20%7B%20default%20%7B%20url%20%7D%20%7D%20head%20%7B%20type%3A%20__typename%20...%20on%20MediaComponent%20%7B%20resource%20%7B%20type%3A%20__typename%20...%20on%20LiveMedia%20%7B%20urn%20mediaType%20%7D%20...%20on%20Clip%20%7B%20urn%20mediaType%20durationInMilliseconds%20%7D%20...%20on%20ClipBundle%20%7B%20items(limit%3A%201)%20%7B%20__typename%20urn%20durationInMilliseconds%20%7D%20%7D%20%7D%20%7D%20...%20on%20ImageCollectionComponent%20%7B%20images%20%7B%20default%3A%20image(key%3A%20%22default%22)%20%7B%20type%3A%20__typename%20%7D%20%7D%20%7D%20...%20on%20RatingComponent%20%7B%20rating%20%7D%20%7D%20contributions(limit%3A%201)%20%7B%20agent%20%7B%20...%20on%20Person%20%7B%20name%20%7D%20%7D%20role%20%7D%20site%20%7B%20url%20urn%20title%20presentation%20%7B%20colors%20teaserImage%20%7B%20default%3A%20image(key%3A%20%22default%22)%20%7B%20url%20%7D%20%7D%20%7D%20%7D%20%7D%20fragment%20RecipeResultFields%20on%20Recipe%20%7B%20title%20url%20image%20%7B%20url%20%7D%20startDate%20%7D%20fragment%20UnknownSearchResultFields%20on%20UnknownSearchResult%20%7B%20title%20url%20label%20image%20%7B%20url%20width%20height%20%7D%20%7D%20fragment%20MusicArtistResultFields%20on%20MusicArtist%20%7B%20url%20name%20image%20%7B%20url%20width%20height%20%7D%20%7D%20query%20SearchPageDRDK(%24query%3A%20String!%20%24limit%3A%20Int!%20%24offset%3A%20Int!%20%24sort%3A%20SearchSort)%20%7B%20drdk%3A%20search(query%3A%20%24query%20logQuery%3A%20%24query%20limit%3A%20%24limit%20offset%3A%20%24offset%20products%3A%20%5B%22drdk%22%5D%20sort%3A%20%24sort)%20%7B%20totalCount%20results%3A%20nodes%20%7B%20type%3A%20__typename%20...%20on%20Article%20%7B%20...ArticleResultFields%20%7D%20...%20on%20Recipe%20%7B%20...RecipeResultFields%20%7D%20...%20on%20MusicArtist%20%7B%20...MusicArtistResultFields%20%7D%20...%20on%20UnknownSearchResult%20%7B%20...UnknownSearchResultFields%20%7D%20%7D%20spellCheck%20%7D%20%7D&variables=%7B%22query%22%3A%22c20%22%2C%22sort%22%3A%22Relevance%22%2C%22limit%22%3A10%2C%22offset%22%3A120%7D'\n",
    "headers = {'name':'Asta Thit Kettel', 'from':'ucph','email':'dnp@ku.dk'}\n",
    "response12 = requests.get(url12, headers)\n",
    "results12 = response12.json()\n",
    "result_articles12 = [{'urlPathId': article['urlPathId'], 'title': article['title']} for article in results12['data']['drdk']['results']]\n",
    "data12 = pd.DataFrame(result_articles12)"
   ]
  },
  {
   "cell_type": "code",
   "execution_count": 108,
   "id": "d24f570d-2987-44d5-a05c-42e3bb9ef703",
   "metadata": {},
   "outputs": [],
   "source": [
    "url13 = f'https://www.dr.dk/tjenester/steffi/graphql?query=fragment%20ArticleResultFields%20on%20Article%20%7B%20type%3A%20__typename%20urn%20urlPathId%20title%20format%20publications%20%7B%20...on%20ArticlePublication%20%7B%20breaking%20live%20serviceChannel%20%7B%20urn%20%7D%20%7D%20%7D%20summary%20startDate%20teaserImage%20%7B%20default%20%7B%20url%20%7D%20%7D%20head%20%7B%20type%3A%20__typename%20...%20on%20MediaComponent%20%7B%20resource%20%7B%20type%3A%20__typename%20...%20on%20LiveMedia%20%7B%20urn%20mediaType%20%7D%20...%20on%20Clip%20%7B%20urn%20mediaType%20durationInMilliseconds%20%7D%20...%20on%20ClipBundle%20%7B%20items(limit%3A%201)%20%7B%20__typename%20urn%20durationInMilliseconds%20%7D%20%7D%20%7D%20%7D%20...%20on%20ImageCollectionComponent%20%7B%20images%20%7B%20default%3A%20image(key%3A%20%22default%22)%20%7B%20type%3A%20__typename%20%7D%20%7D%20%7D%20...%20on%20RatingComponent%20%7B%20rating%20%7D%20%7D%20contributions(limit%3A%201)%20%7B%20agent%20%7B%20...%20on%20Person%20%7B%20name%20%7D%20%7D%20role%20%7D%20site%20%7B%20url%20urn%20title%20presentation%20%7B%20colors%20teaserImage%20%7B%20default%3A%20image(key%3A%20%22default%22)%20%7B%20url%20%7D%20%7D%20%7D%20%7D%20%7D%20fragment%20RecipeResultFields%20on%20Recipe%20%7B%20title%20url%20image%20%7B%20url%20%7D%20startDate%20%7D%20fragment%20UnknownSearchResultFields%20on%20UnknownSearchResult%20%7B%20title%20url%20label%20image%20%7B%20url%20width%20height%20%7D%20%7D%20fragment%20MusicArtistResultFields%20on%20MusicArtist%20%7B%20url%20name%20image%20%7B%20url%20width%20height%20%7D%20%7D%20query%20SearchPageDRDK(%24query%3A%20String!%20%24limit%3A%20Int!%20%24offset%3A%20Int!%20%24sort%3A%20SearchSort)%20%7B%20drdk%3A%20search(query%3A%20%24query%20logQuery%3A%20%24query%20limit%3A%20%24limit%20offset%3A%20%24offset%20products%3A%20%5B%22drdk%22%5D%20sort%3A%20%24sort)%20%7B%20totalCount%20results%3A%20nodes%20%7B%20type%3A%20__typename%20...%20on%20Article%20%7B%20...ArticleResultFields%20%7D%20...%20on%20Recipe%20%7B%20...RecipeResultFields%20%7D%20...%20on%20MusicArtist%20%7B%20...MusicArtistResultFields%20%7D%20...%20on%20UnknownSearchResult%20%7B%20...UnknownSearchResultFields%20%7D%20%7D%20spellCheck%20%7D%20%7D&variables=%7B%22query%22%3A%22c20%22%2C%22sort%22%3A%22Relevance%22%2C%22limit%22%3A10%2C%22offset%22%3A130%7D'\n",
    "headers = {'name':'Asta Thit Kettel', 'from':'ucph','email':'dnp@ku.dk'}\n",
    "response13 = requests.get(url13, headers)\n",
    "results13 = response13.json()\n",
    "result_articles13 = [{'urlPathId': article['urlPathId'], 'title': article['title']} for article in results13['data']['drdk']['results']]\n",
    "data13 = pd.DataFrame(result_articles13)"
   ]
  },
  {
   "cell_type": "code",
   "execution_count": 111,
   "id": "bcbfade3-c3fc-4e71-af46-948b920b794e",
   "metadata": {},
   "outputs": [],
   "source": [
    "url14 = f'https://www.dr.dk/tjenester/steffi/graphql?query=fragment%20ArticleResultFields%20on%20Article%20%7B%20type%3A%20__typename%20urn%20urlPathId%20title%20format%20publications%20%7B%20...on%20ArticlePublication%20%7B%20breaking%20live%20serviceChannel%20%7B%20urn%20%7D%20%7D%20%7D%20summary%20startDate%20teaserImage%20%7B%20default%20%7B%20url%20%7D%20%7D%20head%20%7B%20type%3A%20__typename%20...%20on%20MediaComponent%20%7B%20resource%20%7B%20type%3A%20__typename%20...%20on%20LiveMedia%20%7B%20urn%20mediaType%20%7D%20...%20on%20Clip%20%7B%20urn%20mediaType%20durationInMilliseconds%20%7D%20...%20on%20ClipBundle%20%7B%20items(limit%3A%201)%20%7B%20__typename%20urn%20durationInMilliseconds%20%7D%20%7D%20%7D%20%7D%20...%20on%20ImageCollectionComponent%20%7B%20images%20%7B%20default%3A%20image(key%3A%20%22default%22)%20%7B%20type%3A%20__typename%20%7D%20%7D%20%7D%20...%20on%20RatingComponent%20%7B%20rating%20%7D%20%7D%20contributions(limit%3A%201)%20%7B%20agent%20%7B%20...%20on%20Person%20%7B%20name%20%7D%20%7D%20role%20%7D%20site%20%7B%20url%20urn%20title%20presentation%20%7B%20colors%20teaserImage%20%7B%20default%3A%20image(key%3A%20%22default%22)%20%7B%20url%20%7D%20%7D%20%7D%20%7D%20%7D%20fragment%20RecipeResultFields%20on%20Recipe%20%7B%20title%20url%20image%20%7B%20url%20%7D%20startDate%20%7D%20fragment%20UnknownSearchResultFields%20on%20UnknownSearchResult%20%7B%20title%20url%20label%20image%20%7B%20url%20width%20height%20%7D%20%7D%20fragment%20MusicArtistResultFields%20on%20MusicArtist%20%7B%20url%20name%20image%20%7B%20url%20width%20height%20%7D%20%7D%20query%20SearchPageDRDK(%24query%3A%20String!%20%24limit%3A%20Int!%20%24offset%3A%20Int!%20%24sort%3A%20SearchSort)%20%7B%20drdk%3A%20search(query%3A%20%24query%20logQuery%3A%20%24query%20limit%3A%20%24limit%20offset%3A%20%24offset%20products%3A%20%5B%22drdk%22%5D%20sort%3A%20%24sort)%20%7B%20totalCount%20results%3A%20nodes%20%7B%20type%3A%20__typename%20...%20on%20Article%20%7B%20...ArticleResultFields%20%7D%20...%20on%20Recipe%20%7B%20...RecipeResultFields%20%7D%20...%20on%20MusicArtist%20%7B%20...MusicArtistResultFields%20%7D%20...%20on%20UnknownSearchResult%20%7B%20...UnknownSearchResultFields%20%7D%20%7D%20spellCheck%20%7D%20%7D&variables=%7B%22query%22%3A%22c20%22%2C%22sort%22%3A%22Relevance%22%2C%22limit%22%3A10%2C%22offset%22%3A140%7D'\n",
    "headers = {'name':'Asta Thit Kettel', 'from':'ucph','email':'dnp@ku.dk'}\n",
    "response14 = requests.get(url14, headers)\n",
    "results14 = response14.json()\n",
    "result_articles14 = [{'urlPathId': article['urlPathId'], 'title': article['title']} for article in results14['data']['drdk']['results']]\n",
    "data14 = pd.DataFrame(result_articles14)"
   ]
  },
  {
   "cell_type": "code",
   "execution_count": 112,
   "id": "7862158a-55b0-40dd-a796-408cb35d3815",
   "metadata": {},
   "outputs": [],
   "source": [
    "url15 = f'https://www.dr.dk/tjenester/steffi/graphql?query=fragment%20ArticleResultFields%20on%20Article%20%7B%20type%3A%20__typename%20urn%20urlPathId%20title%20format%20publications%20%7B%20...on%20ArticlePublication%20%7B%20breaking%20live%20serviceChannel%20%7B%20urn%20%7D%20%7D%20%7D%20summary%20startDate%20teaserImage%20%7B%20default%20%7B%20url%20%7D%20%7D%20head%20%7B%20type%3A%20__typename%20...%20on%20MediaComponent%20%7B%20resource%20%7B%20type%3A%20__typename%20...%20on%20LiveMedia%20%7B%20urn%20mediaType%20%7D%20...%20on%20Clip%20%7B%20urn%20mediaType%20durationInMilliseconds%20%7D%20...%20on%20ClipBundle%20%7B%20items(limit%3A%201)%20%7B%20__typename%20urn%20durationInMilliseconds%20%7D%20%7D%20%7D%20%7D%20...%20on%20ImageCollectionComponent%20%7B%20images%20%7B%20default%3A%20image(key%3A%20%22default%22)%20%7B%20type%3A%20__typename%20%7D%20%7D%20%7D%20...%20on%20RatingComponent%20%7B%20rating%20%7D%20%7D%20contributions(limit%3A%201)%20%7B%20agent%20%7B%20...%20on%20Person%20%7B%20name%20%7D%20%7D%20role%20%7D%20site%20%7B%20url%20urn%20title%20presentation%20%7B%20colors%20teaserImage%20%7B%20default%3A%20image(key%3A%20%22default%22)%20%7B%20url%20%7D%20%7D%20%7D%20%7D%20%7D%20fragment%20RecipeResultFields%20on%20Recipe%20%7B%20title%20url%20image%20%7B%20url%20%7D%20startDate%20%7D%20fragment%20UnknownSearchResultFields%20on%20UnknownSearchResult%20%7B%20title%20url%20label%20image%20%7B%20url%20width%20height%20%7D%20%7D%20fragment%20MusicArtistResultFields%20on%20MusicArtist%20%7B%20url%20name%20image%20%7B%20url%20width%20height%20%7D%20%7D%20query%20SearchPageDRDK(%24query%3A%20String!%20%24limit%3A%20Int!%20%24offset%3A%20Int!%20%24sort%3A%20SearchSort)%20%7B%20drdk%3A%20search(query%3A%20%24query%20logQuery%3A%20%24query%20limit%3A%20%24limit%20offset%3A%20%24offset%20products%3A%20%5B%22drdk%22%5D%20sort%3A%20%24sort)%20%7B%20totalCount%20results%3A%20nodes%20%7B%20type%3A%20__typename%20...%20on%20Article%20%7B%20...ArticleResultFields%20%7D%20...%20on%20Recipe%20%7B%20...RecipeResultFields%20%7D%20...%20on%20MusicArtist%20%7B%20...MusicArtistResultFields%20%7D%20...%20on%20UnknownSearchResult%20%7B%20...UnknownSearchResultFields%20%7D%20%7D%20spellCheck%20%7D%20%7D&variables=%7B%22query%22%3A%22c20%22%2C%22sort%22%3A%22Relevance%22%2C%22limit%22%3A10%2C%22offset%22%3A150%7D'\n",
    "headers = {'name':'Asta Thit Kettel', 'from':'ucph','email':'dnp@ku.dk'}\n",
    "response15 = requests.get(url15, headers)\n",
    "results15 = response15.json()\n",
    "result_articles15 = [{'urlPathId': article['urlPathId'], 'title': article['title']} for article in results15['data']['drdk']['results']]\n",
    "data15 = pd.DataFrame(result_articles15)"
   ]
  },
  {
   "cell_type": "code",
   "execution_count": 113,
   "id": "0660720c-cb82-48d6-8e47-ea99dd060ff1",
   "metadata": {},
   "outputs": [],
   "source": [
    "url16 = f'https://www.dr.dk/tjenester/steffi/graphql?query=fragment%20ArticleResultFields%20on%20Article%20%7B%20type%3A%20__typename%20urn%20urlPathId%20title%20format%20publications%20%7B%20...on%20ArticlePublication%20%7B%20breaking%20live%20serviceChannel%20%7B%20urn%20%7D%20%7D%20%7D%20summary%20startDate%20teaserImage%20%7B%20default%20%7B%20url%20%7D%20%7D%20head%20%7B%20type%3A%20__typename%20...%20on%20MediaComponent%20%7B%20resource%20%7B%20type%3A%20__typename%20...%20on%20LiveMedia%20%7B%20urn%20mediaType%20%7D%20...%20on%20Clip%20%7B%20urn%20mediaType%20durationInMilliseconds%20%7D%20...%20on%20ClipBundle%20%7B%20items(limit%3A%201)%20%7B%20__typename%20urn%20durationInMilliseconds%20%7D%20%7D%20%7D%20%7D%20...%20on%20ImageCollectionComponent%20%7B%20images%20%7B%20default%3A%20image(key%3A%20%22default%22)%20%7B%20type%3A%20__typename%20%7D%20%7D%20%7D%20...%20on%20RatingComponent%20%7B%20rating%20%7D%20%7D%20contributions(limit%3A%201)%20%7B%20agent%20%7B%20...%20on%20Person%20%7B%20name%20%7D%20%7D%20role%20%7D%20site%20%7B%20url%20urn%20title%20presentation%20%7B%20colors%20teaserImage%20%7B%20default%3A%20image(key%3A%20%22default%22)%20%7B%20url%20%7D%20%7D%20%7D%20%7D%20%7D%20fragment%20RecipeResultFields%20on%20Recipe%20%7B%20title%20url%20image%20%7B%20url%20%7D%20startDate%20%7D%20fragment%20UnknownSearchResultFields%20on%20UnknownSearchResult%20%7B%20title%20url%20label%20image%20%7B%20url%20width%20height%20%7D%20%7D%20fragment%20MusicArtistResultFields%20on%20MusicArtist%20%7B%20url%20name%20image%20%7B%20url%20width%20height%20%7D%20%7D%20query%20SearchPageDRDK(%24query%3A%20String!%20%24limit%3A%20Int!%20%24offset%3A%20Int!%20%24sort%3A%20SearchSort)%20%7B%20drdk%3A%20search(query%3A%20%24query%20logQuery%3A%20%24query%20limit%3A%20%24limit%20offset%3A%20%24offset%20products%3A%20%5B%22drdk%22%5D%20sort%3A%20%24sort)%20%7B%20totalCount%20results%3A%20nodes%20%7B%20type%3A%20__typename%20...%20on%20Article%20%7B%20...ArticleResultFields%20%7D%20...%20on%20Recipe%20%7B%20...RecipeResultFields%20%7D%20...%20on%20MusicArtist%20%7B%20...MusicArtistResultFields%20%7D%20...%20on%20UnknownSearchResult%20%7B%20...UnknownSearchResultFields%20%7D%20%7D%20spellCheck%20%7D%20%7D&variables=%7B%22query%22%3A%22c20%22%2C%22sort%22%3A%22Relevance%22%2C%22limit%22%3A10%2C%22offset%22%3A160%7D'\n",
    "headers = {'name':'Asta Thit Kettel', 'from':'ucph','email':'dnp@ku.dk'}\n",
    "response16 = requests.get(url16, headers)\n",
    "results16 = response16.json()\n",
    "result_articles16 = [{'urlPathId': article['urlPathId'], 'title': article['title']} for article in results16['data']['drdk']['results']]\n",
    "data16 = pd.DataFrame(result_articles16)"
   ]
  },
  {
   "cell_type": "code",
   "execution_count": 114,
   "id": "084404b9-346c-4380-af0d-f63e0a1b637a",
   "metadata": {},
   "outputs": [],
   "source": [
    "url17 = f'https://www.dr.dk/tjenester/steffi/graphql?query=fragment%20ArticleResultFields%20on%20Article%20%7B%20type%3A%20__typename%20urn%20urlPathId%20title%20format%20publications%20%7B%20...on%20ArticlePublication%20%7B%20breaking%20live%20serviceChannel%20%7B%20urn%20%7D%20%7D%20%7D%20summary%20startDate%20teaserImage%20%7B%20default%20%7B%20url%20%7D%20%7D%20head%20%7B%20type%3A%20__typename%20...%20on%20MediaComponent%20%7B%20resource%20%7B%20type%3A%20__typename%20...%20on%20LiveMedia%20%7B%20urn%20mediaType%20%7D%20...%20on%20Clip%20%7B%20urn%20mediaType%20durationInMilliseconds%20%7D%20...%20on%20ClipBundle%20%7B%20items(limit%3A%201)%20%7B%20__typename%20urn%20durationInMilliseconds%20%7D%20%7D%20%7D%20%7D%20...%20on%20ImageCollectionComponent%20%7B%20images%20%7B%20default%3A%20image(key%3A%20%22default%22)%20%7B%20type%3A%20__typename%20%7D%20%7D%20%7D%20...%20on%20RatingComponent%20%7B%20rating%20%7D%20%7D%20contributions(limit%3A%201)%20%7B%20agent%20%7B%20...%20on%20Person%20%7B%20name%20%7D%20%7D%20role%20%7D%20site%20%7B%20url%20urn%20title%20presentation%20%7B%20colors%20teaserImage%20%7B%20default%3A%20image(key%3A%20%22default%22)%20%7B%20url%20%7D%20%7D%20%7D%20%7D%20%7D%20fragment%20RecipeResultFields%20on%20Recipe%20%7B%20title%20url%20image%20%7B%20url%20%7D%20startDate%20%7D%20fragment%20UnknownSearchResultFields%20on%20UnknownSearchResult%20%7B%20title%20url%20label%20image%20%7B%20url%20width%20height%20%7D%20%7D%20fragment%20MusicArtistResultFields%20on%20MusicArtist%20%7B%20url%20name%20image%20%7B%20url%20width%20height%20%7D%20%7D%20query%20SearchPageDRDK(%24query%3A%20String!%20%24limit%3A%20Int!%20%24offset%3A%20Int!%20%24sort%3A%20SearchSort)%20%7B%20drdk%3A%20search(query%3A%20%24query%20logQuery%3A%20%24query%20limit%3A%20%24limit%20offset%3A%20%24offset%20products%3A%20%5B%22drdk%22%5D%20sort%3A%20%24sort)%20%7B%20totalCount%20results%3A%20nodes%20%7B%20type%3A%20__typename%20...%20on%20Article%20%7B%20...ArticleResultFields%20%7D%20...%20on%20Recipe%20%7B%20...RecipeResultFields%20%7D%20...%20on%20MusicArtist%20%7B%20...MusicArtistResultFields%20%7D%20...%20on%20UnknownSearchResult%20%7B%20...UnknownSearchResultFields%20%7D%20%7D%20spellCheck%20%7D%20%7D&variables=%7B%22query%22%3A%22c20%22%2C%22sort%22%3A%22Relevance%22%2C%22limit%22%3A10%2C%22offset%22%3A170%7D'\n",
    "headers = {'name':'Asta Thit Kettel', 'from':'ucph','email':'dnp@ku.dk'}\n",
    "response17 = requests.get(url17, headers)\n",
    "results17 = response17.json()\n",
    "result_articles17 = [{'urlPathId': article['urlPathId'], 'title': article['title']} for article in results17['data']['drdk']['results']]\n",
    "data17 = pd.DataFrame(result_articles17)"
   ]
  },
  {
   "cell_type": "code",
   "execution_count": 115,
   "id": "d70d6517-e1c2-4d8e-8bb9-b8ef7f9999ea",
   "metadata": {},
   "outputs": [],
   "source": [
    "url18 = f'https://www.dr.dk/tjenester/steffi/graphql?query=fragment%20ArticleResultFields%20on%20Article%20%7B%20type%3A%20__typename%20urn%20urlPathId%20title%20format%20publications%20%7B%20...on%20ArticlePublication%20%7B%20breaking%20live%20serviceChannel%20%7B%20urn%20%7D%20%7D%20%7D%20summary%20startDate%20teaserImage%20%7B%20default%20%7B%20url%20%7D%20%7D%20head%20%7B%20type%3A%20__typename%20...%20on%20MediaComponent%20%7B%20resource%20%7B%20type%3A%20__typename%20...%20on%20LiveMedia%20%7B%20urn%20mediaType%20%7D%20...%20on%20Clip%20%7B%20urn%20mediaType%20durationInMilliseconds%20%7D%20...%20on%20ClipBundle%20%7B%20items(limit%3A%201)%20%7B%20__typename%20urn%20durationInMilliseconds%20%7D%20%7D%20%7D%20%7D%20...%20on%20ImageCollectionComponent%20%7B%20images%20%7B%20default%3A%20image(key%3A%20%22default%22)%20%7B%20type%3A%20__typename%20%7D%20%7D%20%7D%20...%20on%20RatingComponent%20%7B%20rating%20%7D%20%7D%20contributions(limit%3A%201)%20%7B%20agent%20%7B%20...%20on%20Person%20%7B%20name%20%7D%20%7D%20role%20%7D%20site%20%7B%20url%20urn%20title%20presentation%20%7B%20colors%20teaserImage%20%7B%20default%3A%20image(key%3A%20%22default%22)%20%7B%20url%20%7D%20%7D%20%7D%20%7D%20%7D%20fragment%20RecipeResultFields%20on%20Recipe%20%7B%20title%20url%20image%20%7B%20url%20%7D%20startDate%20%7D%20fragment%20UnknownSearchResultFields%20on%20UnknownSearchResult%20%7B%20title%20url%20label%20image%20%7B%20url%20width%20height%20%7D%20%7D%20fragment%20MusicArtistResultFields%20on%20MusicArtist%20%7B%20url%20name%20image%20%7B%20url%20width%20height%20%7D%20%7D%20query%20SearchPageDRDK(%24query%3A%20String!%20%24limit%3A%20Int!%20%24offset%3A%20Int!%20%24sort%3A%20SearchSort)%20%7B%20drdk%3A%20search(query%3A%20%24query%20logQuery%3A%20%24query%20limit%3A%20%24limit%20offset%3A%20%24offset%20products%3A%20%5B%22drdk%22%5D%20sort%3A%20%24sort)%20%7B%20totalCount%20results%3A%20nodes%20%7B%20type%3A%20__typename%20...%20on%20Article%20%7B%20...ArticleResultFields%20%7D%20...%20on%20Recipe%20%7B%20...RecipeResultFields%20%7D%20...%20on%20MusicArtist%20%7B%20...MusicArtistResultFields%20%7D%20...%20on%20UnknownSearchResult%20%7B%20...UnknownSearchResultFields%20%7D%20%7D%20spellCheck%20%7D%20%7D&variables=%7B%22query%22%3A%22c20%22%2C%22sort%22%3A%22Relevance%22%2C%22limit%22%3A10%2C%22offset%22%3A180%7D'\n",
    "headers = {'name':'Asta Thit Kettel', 'from':'ucph','email':'dnp@ku.dk'}\n",
    "response18 = requests.get(url18, headers)\n",
    "results18 = response18.json()\n",
    "result_articles18 = [{'urlPathId': article['urlPathId'], 'title': article['title']} for article in results18['data']['drdk']['results']]\n",
    "data18 = pd.DataFrame(result_articles18)"
   ]
  },
  {
   "cell_type": "code",
   "execution_count": 116,
   "id": "a21a3f0d-8d1e-46ee-8fa8-e07975fc27fc",
   "metadata": {},
   "outputs": [],
   "source": [
    "url19 = f'https://www.dr.dk/tjenester/steffi/graphql?query=fragment%20ArticleResultFields%20on%20Article%20%7B%20type%3A%20__typename%20urn%20urlPathId%20title%20format%20publications%20%7B%20...on%20ArticlePublication%20%7B%20breaking%20live%20serviceChannel%20%7B%20urn%20%7D%20%7D%20%7D%20summary%20startDate%20teaserImage%20%7B%20default%20%7B%20url%20%7D%20%7D%20head%20%7B%20type%3A%20__typename%20...%20on%20MediaComponent%20%7B%20resource%20%7B%20type%3A%20__typename%20...%20on%20LiveMedia%20%7B%20urn%20mediaType%20%7D%20...%20on%20Clip%20%7B%20urn%20mediaType%20durationInMilliseconds%20%7D%20...%20on%20ClipBundle%20%7B%20items(limit%3A%201)%20%7B%20__typename%20urn%20durationInMilliseconds%20%7D%20%7D%20%7D%20%7D%20...%20on%20ImageCollectionComponent%20%7B%20images%20%7B%20default%3A%20image(key%3A%20%22default%22)%20%7B%20type%3A%20__typename%20%7D%20%7D%20%7D%20...%20on%20RatingComponent%20%7B%20rating%20%7D%20%7D%20contributions(limit%3A%201)%20%7B%20agent%20%7B%20...%20on%20Person%20%7B%20name%20%7D%20%7D%20role%20%7D%20site%20%7B%20url%20urn%20title%20presentation%20%7B%20colors%20teaserImage%20%7B%20default%3A%20image(key%3A%20%22default%22)%20%7B%20url%20%7D%20%7D%20%7D%20%7D%20%7D%20fragment%20RecipeResultFields%20on%20Recipe%20%7B%20title%20url%20image%20%7B%20url%20%7D%20startDate%20%7D%20fragment%20UnknownSearchResultFields%20on%20UnknownSearchResult%20%7B%20title%20url%20label%20image%20%7B%20url%20width%20height%20%7D%20%7D%20fragment%20MusicArtistResultFields%20on%20MusicArtist%20%7B%20url%20name%20image%20%7B%20url%20width%20height%20%7D%20%7D%20query%20SearchPageDRDK(%24query%3A%20String!%20%24limit%3A%20Int!%20%24offset%3A%20Int!%20%24sort%3A%20SearchSort)%20%7B%20drdk%3A%20search(query%3A%20%24query%20logQuery%3A%20%24query%20limit%3A%20%24limit%20offset%3A%20%24offset%20products%3A%20%5B%22drdk%22%5D%20sort%3A%20%24sort)%20%7B%20totalCount%20results%3A%20nodes%20%7B%20type%3A%20__typename%20...%20on%20Article%20%7B%20...ArticleResultFields%20%7D%20...%20on%20Recipe%20%7B%20...RecipeResultFields%20%7D%20...%20on%20MusicArtist%20%7B%20...MusicArtistResultFields%20%7D%20...%20on%20UnknownSearchResult%20%7B%20...UnknownSearchResultFields%20%7D%20%7D%20spellCheck%20%7D%20%7D&variables=%7B%22query%22%3A%22c20%22%2C%22sort%22%3A%22Relevance%22%2C%22limit%22%3A10%2C%22offset%22%3A190%7D'\n",
    "headers = {'name':'Asta Thit Kettel', 'from':'ucph','email':'dnp@ku.dk'}\n",
    "response19 = requests.get(url19, headers)\n",
    "results19 = response19.json()\n",
    "result_articles19 = [{'urlPathId': article['urlPathId'], 'title': article['title']} for article in results19['data']['drdk']['results']]\n",
    "data19 = pd.DataFrame(result_articles19)"
   ]
  },
  {
   "cell_type": "code",
   "execution_count": 117,
   "id": "d8a8232e-885c-441c-afb5-babf17b7fe94",
   "metadata": {},
   "outputs": [],
   "source": [
    "url20 = f'https://www.dr.dk/tjenester/steffi/graphql?query=fragment%20ArticleResultFields%20on%20Article%20%7B%20type%3A%20__typename%20urn%20urlPathId%20title%20format%20publications%20%7B%20...on%20ArticlePublication%20%7B%20breaking%20live%20serviceChannel%20%7B%20urn%20%7D%20%7D%20%7D%20summary%20startDate%20teaserImage%20%7B%20default%20%7B%20url%20%7D%20%7D%20head%20%7B%20type%3A%20__typename%20...%20on%20MediaComponent%20%7B%20resource%20%7B%20type%3A%20__typename%20...%20on%20LiveMedia%20%7B%20urn%20mediaType%20%7D%20...%20on%20Clip%20%7B%20urn%20mediaType%20durationInMilliseconds%20%7D%20...%20on%20ClipBundle%20%7B%20items(limit%3A%201)%20%7B%20__typename%20urn%20durationInMilliseconds%20%7D%20%7D%20%7D%20%7D%20...%20on%20ImageCollectionComponent%20%7B%20images%20%7B%20default%3A%20image(key%3A%20%22default%22)%20%7B%20type%3A%20__typename%20%7D%20%7D%20%7D%20...%20on%20RatingComponent%20%7B%20rating%20%7D%20%7D%20contributions(limit%3A%201)%20%7B%20agent%20%7B%20...%20on%20Person%20%7B%20name%20%7D%20%7D%20role%20%7D%20site%20%7B%20url%20urn%20title%20presentation%20%7B%20colors%20teaserImage%20%7B%20default%3A%20image(key%3A%20%22default%22)%20%7B%20url%20%7D%20%7D%20%7D%20%7D%20%7D%20fragment%20RecipeResultFields%20on%20Recipe%20%7B%20title%20url%20image%20%7B%20url%20%7D%20startDate%20%7D%20fragment%20UnknownSearchResultFields%20on%20UnknownSearchResult%20%7B%20title%20url%20label%20image%20%7B%20url%20width%20height%20%7D%20%7D%20fragment%20MusicArtistResultFields%20on%20MusicArtist%20%7B%20url%20name%20image%20%7B%20url%20width%20height%20%7D%20%7D%20query%20SearchPageDRDK(%24query%3A%20String!%20%24limit%3A%20Int!%20%24offset%3A%20Int!%20%24sort%3A%20SearchSort)%20%7B%20drdk%3A%20search(query%3A%20%24query%20logQuery%3A%20%24query%20limit%3A%20%24limit%20offset%3A%20%24offset%20products%3A%20%5B%22drdk%22%5D%20sort%3A%20%24sort)%20%7B%20totalCount%20results%3A%20nodes%20%7B%20type%3A%20__typename%20...%20on%20Article%20%7B%20...ArticleResultFields%20%7D%20...%20on%20Recipe%20%7B%20...RecipeResultFields%20%7D%20...%20on%20MusicArtist%20%7B%20...MusicArtistResultFields%20%7D%20...%20on%20UnknownSearchResult%20%7B%20...UnknownSearchResultFields%20%7D%20%7D%20spellCheck%20%7D%20%7D&variables=%7B%22query%22%3A%22c20%22%2C%22sort%22%3A%22Relevance%22%2C%22limit%22%3A10%2C%22offset%22%3A200%7D'\n",
    "headers = {'name':'Asta Thit Kettel', 'from':'ucph','email':'dnp@ku.dk'}\n",
    "response20 = requests.get(url20, headers)\n",
    "results20 = response20.json()\n",
    "result_articles20 = [{'urlPathId': article['urlPathId'], 'title': article['title']} for article in results20['data']['drdk']['results']]\n",
    "data20 = pd.DataFrame(result_articles20)"
   ]
  },
  {
   "cell_type": "code",
   "execution_count": 118,
   "id": "cab19af0-de56-46ec-aa19-5d2f04cc2dcf",
   "metadata": {},
   "outputs": [],
   "source": [
    "url21 = f'https://www.dr.dk/tjenester/steffi/graphql?query=fragment%20ArticleResultFields%20on%20Article%20%7B%20type%3A%20__typename%20urn%20urlPathId%20title%20format%20publications%20%7B%20...on%20ArticlePublication%20%7B%20breaking%20live%20serviceChannel%20%7B%20urn%20%7D%20%7D%20%7D%20summary%20startDate%20teaserImage%20%7B%20default%20%7B%20url%20%7D%20%7D%20head%20%7B%20type%3A%20__typename%20...%20on%20MediaComponent%20%7B%20resource%20%7B%20type%3A%20__typename%20...%20on%20LiveMedia%20%7B%20urn%20mediaType%20%7D%20...%20on%20Clip%20%7B%20urn%20mediaType%20durationInMilliseconds%20%7D%20...%20on%20ClipBundle%20%7B%20items(limit%3A%201)%20%7B%20__typename%20urn%20durationInMilliseconds%20%7D%20%7D%20%7D%20%7D%20...%20on%20ImageCollectionComponent%20%7B%20images%20%7B%20default%3A%20image(key%3A%20%22default%22)%20%7B%20type%3A%20__typename%20%7D%20%7D%20%7D%20...%20on%20RatingComponent%20%7B%20rating%20%7D%20%7D%20contributions(limit%3A%201)%20%7B%20agent%20%7B%20...%20on%20Person%20%7B%20name%20%7D%20%7D%20role%20%7D%20site%20%7B%20url%20urn%20title%20presentation%20%7B%20colors%20teaserImage%20%7B%20default%3A%20image(key%3A%20%22default%22)%20%7B%20url%20%7D%20%7D%20%7D%20%7D%20%7D%20fragment%20RecipeResultFields%20on%20Recipe%20%7B%20title%20url%20image%20%7B%20url%20%7D%20startDate%20%7D%20fragment%20UnknownSearchResultFields%20on%20UnknownSearchResult%20%7B%20title%20url%20label%20image%20%7B%20url%20width%20height%20%7D%20%7D%20fragment%20MusicArtistResultFields%20on%20MusicArtist%20%7B%20url%20name%20image%20%7B%20url%20width%20height%20%7D%20%7D%20query%20SearchPageDRDK(%24query%3A%20String!%20%24limit%3A%20Int!%20%24offset%3A%20Int!%20%24sort%3A%20SearchSort)%20%7B%20drdk%3A%20search(query%3A%20%24query%20logQuery%3A%20%24query%20limit%3A%20%24limit%20offset%3A%20%24offset%20products%3A%20%5B%22drdk%22%5D%20sort%3A%20%24sort)%20%7B%20totalCount%20results%3A%20nodes%20%7B%20type%3A%20__typename%20...%20on%20Article%20%7B%20...ArticleResultFields%20%7D%20...%20on%20Recipe%20%7B%20...RecipeResultFields%20%7D%20...%20on%20MusicArtist%20%7B%20...MusicArtistResultFields%20%7D%20...%20on%20UnknownSearchResult%20%7B%20...UnknownSearchResultFields%20%7D%20%7D%20spellCheck%20%7D%20%7D&variables=%7B%22query%22%3A%22c20%22%2C%22sort%22%3A%22Relevance%22%2C%22limit%22%3A10%2C%22offset%22%3A210%7D'\n",
    "headers = {'name':'Asta Thit Kettel', 'from':'ucph','email':'dnp@ku.dk'}\n",
    "response21 = requests.get(url21, headers)\n",
    "results21 = response21.json()\n",
    "result_articles21 = [{'urlPathId': article['urlPathId'], 'title': article['title']} for article in results21['data']['drdk']['results']]\n",
    "data21 = pd.DataFrame(result_articles21)"
   ]
  },
  {
   "cell_type": "code",
   "execution_count": 119,
   "id": "71919c45-bb40-4ad0-8481-cfa1c6854c37",
   "metadata": {},
   "outputs": [],
   "source": [
    "url22 = f'https://www.dr.dk/tjenester/steffi/graphql?query=fragment%20ArticleResultFields%20on%20Article%20%7B%20type%3A%20__typename%20urn%20urlPathId%20title%20format%20publications%20%7B%20...on%20ArticlePublication%20%7B%20breaking%20live%20serviceChannel%20%7B%20urn%20%7D%20%7D%20%7D%20summary%20startDate%20teaserImage%20%7B%20default%20%7B%20url%20%7D%20%7D%20head%20%7B%20type%3A%20__typename%20...%20on%20MediaComponent%20%7B%20resource%20%7B%20type%3A%20__typename%20...%20on%20LiveMedia%20%7B%20urn%20mediaType%20%7D%20...%20on%20Clip%20%7B%20urn%20mediaType%20durationInMilliseconds%20%7D%20...%20on%20ClipBundle%20%7B%20items(limit%3A%201)%20%7B%20__typename%20urn%20durationInMilliseconds%20%7D%20%7D%20%7D%20%7D%20...%20on%20ImageCollectionComponent%20%7B%20images%20%7B%20default%3A%20image(key%3A%20%22default%22)%20%7B%20type%3A%20__typename%20%7D%20%7D%20%7D%20...%20on%20RatingComponent%20%7B%20rating%20%7D%20%7D%20contributions(limit%3A%201)%20%7B%20agent%20%7B%20...%20on%20Person%20%7B%20name%20%7D%20%7D%20role%20%7D%20site%20%7B%20url%20urn%20title%20presentation%20%7B%20colors%20teaserImage%20%7B%20default%3A%20image(key%3A%20%22default%22)%20%7B%20url%20%7D%20%7D%20%7D%20%7D%20%7D%20fragment%20RecipeResultFields%20on%20Recipe%20%7B%20title%20url%20image%20%7B%20url%20%7D%20startDate%20%7D%20fragment%20UnknownSearchResultFields%20on%20UnknownSearchResult%20%7B%20title%20url%20label%20image%20%7B%20url%20width%20height%20%7D%20%7D%20fragment%20MusicArtistResultFields%20on%20MusicArtist%20%7B%20url%20name%20image%20%7B%20url%20width%20height%20%7D%20%7D%20query%20SearchPageDRDK(%24query%3A%20String!%20%24limit%3A%20Int!%20%24offset%3A%20Int!%20%24sort%3A%20SearchSort)%20%7B%20drdk%3A%20search(query%3A%20%24query%20logQuery%3A%20%24query%20limit%3A%20%24limit%20offset%3A%20%24offset%20products%3A%20%5B%22drdk%22%5D%20sort%3A%20%24sort)%20%7B%20totalCount%20results%3A%20nodes%20%7B%20type%3A%20__typename%20...%20on%20Article%20%7B%20...ArticleResultFields%20%7D%20...%20on%20Recipe%20%7B%20...RecipeResultFields%20%7D%20...%20on%20MusicArtist%20%7B%20...MusicArtistResultFields%20%7D%20...%20on%20UnknownSearchResult%20%7B%20...UnknownSearchResultFields%20%7D%20%7D%20spellCheck%20%7D%20%7D&variables=%7B%22query%22%3A%22c20%22%2C%22sort%22%3A%22Relevance%22%2C%22limit%22%3A10%2C%22offset%22%3A220%7D'\n",
    "headers = {'name':'Asta Thit Kettel', 'from':'ucph','email':'dnp@ku.dk'}\n",
    "response22 = requests.get(url22, headers)\n",
    "results22 = response22.json()\n",
    "result_articles22 = [{'urlPathId': article['urlPathId'], 'title': article['title']} for article in results22['data']['drdk']['results']]\n",
    "data22 = pd.DataFrame(result_articles22)"
   ]
  },
  {
   "cell_type": "code",
   "execution_count": 120,
   "id": "9e007052-95ea-43bc-b18a-3b060139cfbd",
   "metadata": {},
   "outputs": [],
   "source": [
    "url23 = f'https://www.dr.dk/tjenester/steffi/graphql?query=fragment%20ArticleResultFields%20on%20Article%20%7B%20type%3A%20__typename%20urn%20urlPathId%20title%20format%20publications%20%7B%20...on%20ArticlePublication%20%7B%20breaking%20live%20serviceChannel%20%7B%20urn%20%7D%20%7D%20%7D%20summary%20startDate%20teaserImage%20%7B%20default%20%7B%20url%20%7D%20%7D%20head%20%7B%20type%3A%20__typename%20...%20on%20MediaComponent%20%7B%20resource%20%7B%20type%3A%20__typename%20...%20on%20LiveMedia%20%7B%20urn%20mediaType%20%7D%20...%20on%20Clip%20%7B%20urn%20mediaType%20durationInMilliseconds%20%7D%20...%20on%20ClipBundle%20%7B%20items(limit%3A%201)%20%7B%20__typename%20urn%20durationInMilliseconds%20%7D%20%7D%20%7D%20%7D%20...%20on%20ImageCollectionComponent%20%7B%20images%20%7B%20default%3A%20image(key%3A%20%22default%22)%20%7B%20type%3A%20__typename%20%7D%20%7D%20%7D%20...%20on%20RatingComponent%20%7B%20rating%20%7D%20%7D%20contributions(limit%3A%201)%20%7B%20agent%20%7B%20...%20on%20Person%20%7B%20name%20%7D%20%7D%20role%20%7D%20site%20%7B%20url%20urn%20title%20presentation%20%7B%20colors%20teaserImage%20%7B%20default%3A%20image(key%3A%20%22default%22)%20%7B%20url%20%7D%20%7D%20%7D%20%7D%20%7D%20fragment%20RecipeResultFields%20on%20Recipe%20%7B%20title%20url%20image%20%7B%20url%20%7D%20startDate%20%7D%20fragment%20UnknownSearchResultFields%20on%20UnknownSearchResult%20%7B%20title%20url%20label%20image%20%7B%20url%20width%20height%20%7D%20%7D%20fragment%20MusicArtistResultFields%20on%20MusicArtist%20%7B%20url%20name%20image%20%7B%20url%20width%20height%20%7D%20%7D%20query%20SearchPageDRDK(%24query%3A%20String!%20%24limit%3A%20Int!%20%24offset%3A%20Int!%20%24sort%3A%20SearchSort)%20%7B%20drdk%3A%20search(query%3A%20%24query%20logQuery%3A%20%24query%20limit%3A%20%24limit%20offset%3A%20%24offset%20products%3A%20%5B%22drdk%22%5D%20sort%3A%20%24sort)%20%7B%20totalCount%20results%3A%20nodes%20%7B%20type%3A%20__typename%20...%20on%20Article%20%7B%20...ArticleResultFields%20%7D%20...%20on%20Recipe%20%7B%20...RecipeResultFields%20%7D%20...%20on%20MusicArtist%20%7B%20...MusicArtistResultFields%20%7D%20...%20on%20UnknownSearchResult%20%7B%20...UnknownSearchResultFields%20%7D%20%7D%20spellCheck%20%7D%20%7D&variables=%7B%22query%22%3A%22c20%22%2C%22sort%22%3A%22Relevance%22%2C%22limit%22%3A10%2C%22offset%22%3A230%7D'\n",
    "headers = {'name':'Asta Thit Kettel', 'from':'ucph','email':'dnp@ku.dk'}\n",
    "response23 = requests.get(url23, headers)\n",
    "results23 = response23.json()\n",
    "result_articles23 = [{'urlPathId': article['urlPathId'], 'title': article['title']} for article in results23['data']['drdk']['results']]\n",
    "data23 = pd.DataFrame(result_articles23)"
   ]
  },
  {
   "cell_type": "code",
   "execution_count": 121,
   "id": "2e5e6232-3283-4df3-b3da-a0761c5062bf",
   "metadata": {},
   "outputs": [],
   "source": [
    "url24 = f'https://www.dr.dk/tjenester/steffi/graphql?query=fragment%20ArticleResultFields%20on%20Article%20%7B%20type%3A%20__typename%20urn%20urlPathId%20title%20format%20publications%20%7B%20...on%20ArticlePublication%20%7B%20breaking%20live%20serviceChannel%20%7B%20urn%20%7D%20%7D%20%7D%20summary%20startDate%20teaserImage%20%7B%20default%20%7B%20url%20%7D%20%7D%20head%20%7B%20type%3A%20__typename%20...%20on%20MediaComponent%20%7B%20resource%20%7B%20type%3A%20__typename%20...%20on%20LiveMedia%20%7B%20urn%20mediaType%20%7D%20...%20on%20Clip%20%7B%20urn%20mediaType%20durationInMilliseconds%20%7D%20...%20on%20ClipBundle%20%7B%20items(limit%3A%201)%20%7B%20__typename%20urn%20durationInMilliseconds%20%7D%20%7D%20%7D%20%7D%20...%20on%20ImageCollectionComponent%20%7B%20images%20%7B%20default%3A%20image(key%3A%20%22default%22)%20%7B%20type%3A%20__typename%20%7D%20%7D%20%7D%20...%20on%20RatingComponent%20%7B%20rating%20%7D%20%7D%20contributions(limit%3A%201)%20%7B%20agent%20%7B%20...%20on%20Person%20%7B%20name%20%7D%20%7D%20role%20%7D%20site%20%7B%20url%20urn%20title%20presentation%20%7B%20colors%20teaserImage%20%7B%20default%3A%20image(key%3A%20%22default%22)%20%7B%20url%20%7D%20%7D%20%7D%20%7D%20%7D%20fragment%20RecipeResultFields%20on%20Recipe%20%7B%20title%20url%20image%20%7B%20url%20%7D%20startDate%20%7D%20fragment%20UnknownSearchResultFields%20on%20UnknownSearchResult%20%7B%20title%20url%20label%20image%20%7B%20url%20width%20height%20%7D%20%7D%20fragment%20MusicArtistResultFields%20on%20MusicArtist%20%7B%20url%20name%20image%20%7B%20url%20width%20height%20%7D%20%7D%20query%20SearchPageDRDK(%24query%3A%20String!%20%24limit%3A%20Int!%20%24offset%3A%20Int!%20%24sort%3A%20SearchSort)%20%7B%20drdk%3A%20search(query%3A%20%24query%20logQuery%3A%20%24query%20limit%3A%20%24limit%20offset%3A%20%24offset%20products%3A%20%5B%22drdk%22%5D%20sort%3A%20%24sort)%20%7B%20totalCount%20results%3A%20nodes%20%7B%20type%3A%20__typename%20...%20on%20Article%20%7B%20...ArticleResultFields%20%7D%20...%20on%20Recipe%20%7B%20...RecipeResultFields%20%7D%20...%20on%20MusicArtist%20%7B%20...MusicArtistResultFields%20%7D%20...%20on%20UnknownSearchResult%20%7B%20...UnknownSearchResultFields%20%7D%20%7D%20spellCheck%20%7D%20%7D&variables=%7B%22query%22%3A%22c20%22%2C%22sort%22%3A%22Relevance%22%2C%22limit%22%3A10%2C%22offset%22%3A240%7D'\n",
    "headers = {'name':'Asta Thit Kettel', 'from':'ucph','email':'dnp@ku.dk'}\n",
    "response24 = requests.get(url24, headers)\n",
    "results24 = response24.json()\n",
    "result_articles24 = [{'urlPathId': article['urlPathId'], 'title': article['title']} for article in results24['data']['drdk']['results']]\n",
    "data24 = pd.DataFrame(result_articles24)"
   ]
  },
  {
   "cell_type": "code",
   "execution_count": 122,
   "id": "9ff97369-3c53-4acc-be34-ebf6ef600d35",
   "metadata": {},
   "outputs": [],
   "source": [
    "url25 = f'https://www.dr.dk/tjenester/steffi/graphql?query=fragment%20ArticleResultFields%20on%20Article%20%7B%20type%3A%20__typename%20urn%20urlPathId%20title%20format%20publications%20%7B%20...on%20ArticlePublication%20%7B%20breaking%20live%20serviceChannel%20%7B%20urn%20%7D%20%7D%20%7D%20summary%20startDate%20teaserImage%20%7B%20default%20%7B%20url%20%7D%20%7D%20head%20%7B%20type%3A%20__typename%20...%20on%20MediaComponent%20%7B%20resource%20%7B%20type%3A%20__typename%20...%20on%20LiveMedia%20%7B%20urn%20mediaType%20%7D%20...%20on%20Clip%20%7B%20urn%20mediaType%20durationInMilliseconds%20%7D%20...%20on%20ClipBundle%20%7B%20items(limit%3A%201)%20%7B%20__typename%20urn%20durationInMilliseconds%20%7D%20%7D%20%7D%20%7D%20...%20on%20ImageCollectionComponent%20%7B%20images%20%7B%20default%3A%20image(key%3A%20%22default%22)%20%7B%20type%3A%20__typename%20%7D%20%7D%20%7D%20...%20on%20RatingComponent%20%7B%20rating%20%7D%20%7D%20contributions(limit%3A%201)%20%7B%20agent%20%7B%20...%20on%20Person%20%7B%20name%20%7D%20%7D%20role%20%7D%20site%20%7B%20url%20urn%20title%20presentation%20%7B%20colors%20teaserImage%20%7B%20default%3A%20image(key%3A%20%22default%22)%20%7B%20url%20%7D%20%7D%20%7D%20%7D%20%7D%20fragment%20RecipeResultFields%20on%20Recipe%20%7B%20title%20url%20image%20%7B%20url%20%7D%20startDate%20%7D%20fragment%20UnknownSearchResultFields%20on%20UnknownSearchResult%20%7B%20title%20url%20label%20image%20%7B%20url%20width%20height%20%7D%20%7D%20fragment%20MusicArtistResultFields%20on%20MusicArtist%20%7B%20url%20name%20image%20%7B%20url%20width%20height%20%7D%20%7D%20query%20SearchPageDRDK(%24query%3A%20String!%20%24limit%3A%20Int!%20%24offset%3A%20Int!%20%24sort%3A%20SearchSort)%20%7B%20drdk%3A%20search(query%3A%20%24query%20logQuery%3A%20%24query%20limit%3A%20%24limit%20offset%3A%20%24offset%20products%3A%20%5B%22drdk%22%5D%20sort%3A%20%24sort)%20%7B%20totalCount%20results%3A%20nodes%20%7B%20type%3A%20__typename%20...%20on%20Article%20%7B%20...ArticleResultFields%20%7D%20...%20on%20Recipe%20%7B%20...RecipeResultFields%20%7D%20...%20on%20MusicArtist%20%7B%20...MusicArtistResultFields%20%7D%20...%20on%20UnknownSearchResult%20%7B%20...UnknownSearchResultFields%20%7D%20%7D%20spellCheck%20%7D%20%7D&variables=%7B%22query%22%3A%22c20%22%2C%22sort%22%3A%22Relevance%22%2C%22limit%22%3A10%2C%22offset%22%3A250%7D'\n",
    "headers = {'name':'Asta Thit Kettel', 'from':'ucph','email':'dnp@ku.dk'}\n",
    "response25 = requests.get(url25, headers)\n",
    "results25 = response25.json()\n",
    "result_articles25 = [{'urlPathId': article['urlPathId'], 'title': article['title']} for article in results25['data']['drdk']['results']]\n",
    "data25 = pd.DataFrame(result_articles25)"
   ]
  },
  {
   "cell_type": "code",
   "execution_count": 123,
   "id": "9f060253-198f-4b59-a28b-067a69cb8585",
   "metadata": {},
   "outputs": [],
   "source": [
    "url26 = f'https://www.dr.dk/tjenester/steffi/graphql?query=fragment%20ArticleResultFields%20on%20Article%20%7B%20type%3A%20__typename%20urn%20urlPathId%20title%20format%20publications%20%7B%20...on%20ArticlePublication%20%7B%20breaking%20live%20serviceChannel%20%7B%20urn%20%7D%20%7D%20%7D%20summary%20startDate%20teaserImage%20%7B%20default%20%7B%20url%20%7D%20%7D%20head%20%7B%20type%3A%20__typename%20...%20on%20MediaComponent%20%7B%20resource%20%7B%20type%3A%20__typename%20...%20on%20LiveMedia%20%7B%20urn%20mediaType%20%7D%20...%20on%20Clip%20%7B%20urn%20mediaType%20durationInMilliseconds%20%7D%20...%20on%20ClipBundle%20%7B%20items(limit%3A%201)%20%7B%20__typename%20urn%20durationInMilliseconds%20%7D%20%7D%20%7D%20%7D%20...%20on%20ImageCollectionComponent%20%7B%20images%20%7B%20default%3A%20image(key%3A%20%22default%22)%20%7B%20type%3A%20__typename%20%7D%20%7D%20%7D%20...%20on%20RatingComponent%20%7B%20rating%20%7D%20%7D%20contributions(limit%3A%201)%20%7B%20agent%20%7B%20...%20on%20Person%20%7B%20name%20%7D%20%7D%20role%20%7D%20site%20%7B%20url%20urn%20title%20presentation%20%7B%20colors%20teaserImage%20%7B%20default%3A%20image(key%3A%20%22default%22)%20%7B%20url%20%7D%20%7D%20%7D%20%7D%20%7D%20fragment%20RecipeResultFields%20on%20Recipe%20%7B%20title%20url%20image%20%7B%20url%20%7D%20startDate%20%7D%20fragment%20UnknownSearchResultFields%20on%20UnknownSearchResult%20%7B%20title%20url%20label%20image%20%7B%20url%20width%20height%20%7D%20%7D%20fragment%20MusicArtistResultFields%20on%20MusicArtist%20%7B%20url%20name%20image%20%7B%20url%20width%20height%20%7D%20%7D%20query%20SearchPageDRDK(%24query%3A%20String!%20%24limit%3A%20Int!%20%24offset%3A%20Int!%20%24sort%3A%20SearchSort)%20%7B%20drdk%3A%20search(query%3A%20%24query%20logQuery%3A%20%24query%20limit%3A%20%24limit%20offset%3A%20%24offset%20products%3A%20%5B%22drdk%22%5D%20sort%3A%20%24sort)%20%7B%20totalCount%20results%3A%20nodes%20%7B%20type%3A%20__typename%20...%20on%20Article%20%7B%20...ArticleResultFields%20%7D%20...%20on%20Recipe%20%7B%20...RecipeResultFields%20%7D%20...%20on%20MusicArtist%20%7B%20...MusicArtistResultFields%20%7D%20...%20on%20UnknownSearchResult%20%7B%20...UnknownSearchResultFields%20%7D%20%7D%20spellCheck%20%7D%20%7D&variables=%7B%22query%22%3A%22c20%22%2C%22sort%22%3A%22Relevance%22%2C%22limit%22%3A10%2C%22offset%22%3A260%7D'\n",
    "headers = {'name':'Asta Thit Kettel', 'from':'ucph','email':'dnp@ku.dk'}\n",
    "response26 = requests.get(url26, headers)\n",
    "results26 = response26.json()\n",
    "result_articles26 = [{'urlPathId': article['urlPathId'], 'title': article['title']} for article in results26['data']['drdk']['results']]\n",
    "data26 = pd.DataFrame(result_articles26)"
   ]
  },
  {
   "cell_type": "code",
   "execution_count": 124,
   "id": "f9453b72-773e-4603-9cab-bd625b8279ab",
   "metadata": {},
   "outputs": [],
   "source": [
    "url27 = f'https://www.dr.dk/tjenester/steffi/graphql?query=fragment%20ArticleResultFields%20on%20Article%20%7B%20type%3A%20__typename%20urn%20urlPathId%20title%20format%20publications%20%7B%20...on%20ArticlePublication%20%7B%20breaking%20live%20serviceChannel%20%7B%20urn%20%7D%20%7D%20%7D%20summary%20startDate%20teaserImage%20%7B%20default%20%7B%20url%20%7D%20%7D%20head%20%7B%20type%3A%20__typename%20...%20on%20MediaComponent%20%7B%20resource%20%7B%20type%3A%20__typename%20...%20on%20LiveMedia%20%7B%20urn%20mediaType%20%7D%20...%20on%20Clip%20%7B%20urn%20mediaType%20durationInMilliseconds%20%7D%20...%20on%20ClipBundle%20%7B%20items(limit%3A%201)%20%7B%20__typename%20urn%20durationInMilliseconds%20%7D%20%7D%20%7D%20%7D%20...%20on%20ImageCollectionComponent%20%7B%20images%20%7B%20default%3A%20image(key%3A%20%22default%22)%20%7B%20type%3A%20__typename%20%7D%20%7D%20%7D%20...%20on%20RatingComponent%20%7B%20rating%20%7D%20%7D%20contributions(limit%3A%201)%20%7B%20agent%20%7B%20...%20on%20Person%20%7B%20name%20%7D%20%7D%20role%20%7D%20site%20%7B%20url%20urn%20title%20presentation%20%7B%20colors%20teaserImage%20%7B%20default%3A%20image(key%3A%20%22default%22)%20%7B%20url%20%7D%20%7D%20%7D%20%7D%20%7D%20fragment%20RecipeResultFields%20on%20Recipe%20%7B%20title%20url%20image%20%7B%20url%20%7D%20startDate%20%7D%20fragment%20UnknownSearchResultFields%20on%20UnknownSearchResult%20%7B%20title%20url%20label%20image%20%7B%20url%20width%20height%20%7D%20%7D%20fragment%20MusicArtistResultFields%20on%20MusicArtist%20%7B%20url%20name%20image%20%7B%20url%20width%20height%20%7D%20%7D%20query%20SearchPageDRDK(%24query%3A%20String!%20%24limit%3A%20Int!%20%24offset%3A%20Int!%20%24sort%3A%20SearchSort)%20%7B%20drdk%3A%20search(query%3A%20%24query%20logQuery%3A%20%24query%20limit%3A%20%24limit%20offset%3A%20%24offset%20products%3A%20%5B%22drdk%22%5D%20sort%3A%20%24sort)%20%7B%20totalCount%20results%3A%20nodes%20%7B%20type%3A%20__typename%20...%20on%20Article%20%7B%20...ArticleResultFields%20%7D%20...%20on%20Recipe%20%7B%20...RecipeResultFields%20%7D%20...%20on%20MusicArtist%20%7B%20...MusicArtistResultFields%20%7D%20...%20on%20UnknownSearchResult%20%7B%20...UnknownSearchResultFields%20%7D%20%7D%20spellCheck%20%7D%20%7D&variables=%7B%22query%22%3A%22c20%22%2C%22sort%22%3A%22Relevance%22%2C%22limit%22%3A10%2C%22offset%22%3A270%7D'\n",
    "headers = {'name':'Asta Thit Kettel', 'from':'ucph','email':'dnp@ku.dk'}\n",
    "response27 = requests.get(url27, headers)\n",
    "results27 = response27.json()\n",
    "result_articles27 = [{'urlPathId': article['urlPathId'], 'title': article['title']} for article in results27['data']['drdk']['results']]\n",
    "data27 = pd.DataFrame(result_articles27)"
   ]
  },
  {
   "cell_type": "code",
   "execution_count": 125,
   "id": "89382011-7945-4a05-bb29-9df91c0d5d2b",
   "metadata": {},
   "outputs": [],
   "source": [
    "url28 = f'https://www.dr.dk/tjenester/steffi/graphql?query=fragment%20ArticleResultFields%20on%20Article%20%7B%20type%3A%20__typename%20urn%20urlPathId%20title%20format%20publications%20%7B%20...on%20ArticlePublication%20%7B%20breaking%20live%20serviceChannel%20%7B%20urn%20%7D%20%7D%20%7D%20summary%20startDate%20teaserImage%20%7B%20default%20%7B%20url%20%7D%20%7D%20head%20%7B%20type%3A%20__typename%20...%20on%20MediaComponent%20%7B%20resource%20%7B%20type%3A%20__typename%20...%20on%20LiveMedia%20%7B%20urn%20mediaType%20%7D%20...%20on%20Clip%20%7B%20urn%20mediaType%20durationInMilliseconds%20%7D%20...%20on%20ClipBundle%20%7B%20items(limit%3A%201)%20%7B%20__typename%20urn%20durationInMilliseconds%20%7D%20%7D%20%7D%20%7D%20...%20on%20ImageCollectionComponent%20%7B%20images%20%7B%20default%3A%20image(key%3A%20%22default%22)%20%7B%20type%3A%20__typename%20%7D%20%7D%20%7D%20...%20on%20RatingComponent%20%7B%20rating%20%7D%20%7D%20contributions(limit%3A%201)%20%7B%20agent%20%7B%20...%20on%20Person%20%7B%20name%20%7D%20%7D%20role%20%7D%20site%20%7B%20url%20urn%20title%20presentation%20%7B%20colors%20teaserImage%20%7B%20default%3A%20image(key%3A%20%22default%22)%20%7B%20url%20%7D%20%7D%20%7D%20%7D%20%7D%20fragment%20RecipeResultFields%20on%20Recipe%20%7B%20title%20url%20image%20%7B%20url%20%7D%20startDate%20%7D%20fragment%20UnknownSearchResultFields%20on%20UnknownSearchResult%20%7B%20title%20url%20label%20image%20%7B%20url%20width%20height%20%7D%20%7D%20fragment%20MusicArtistResultFields%20on%20MusicArtist%20%7B%20url%20name%20image%20%7B%20url%20width%20height%20%7D%20%7D%20query%20SearchPageDRDK(%24query%3A%20String!%20%24limit%3A%20Int!%20%24offset%3A%20Int!%20%24sort%3A%20SearchSort)%20%7B%20drdk%3A%20search(query%3A%20%24query%20logQuery%3A%20%24query%20limit%3A%20%24limit%20offset%3A%20%24offset%20products%3A%20%5B%22drdk%22%5D%20sort%3A%20%24sort)%20%7B%20totalCount%20results%3A%20nodes%20%7B%20type%3A%20__typename%20...%20on%20Article%20%7B%20...ArticleResultFields%20%7D%20...%20on%20Recipe%20%7B%20...RecipeResultFields%20%7D%20...%20on%20MusicArtist%20%7B%20...MusicArtistResultFields%20%7D%20...%20on%20UnknownSearchResult%20%7B%20...UnknownSearchResultFields%20%7D%20%7D%20spellCheck%20%7D%20%7D&variables=%7B%22query%22%3A%22c20%22%2C%22sort%22%3A%22Relevance%22%2C%22limit%22%3A10%2C%22offset%22%3A280%7D'\n",
    "headers = {'name':'Asta Thit Kettel', 'from':'ucph','email':'dnp@ku.dk'}\n",
    "response28 = requests.get(url28, headers)\n",
    "results28 = response28.json()\n",
    "result_articles28 = [{'urlPathId': article['urlPathId'], 'title': article['title']} for article in results28['data']['drdk']['results']]\n",
    "data28 = pd.DataFrame(result_articles28)"
   ]
  },
  {
   "cell_type": "code",
   "execution_count": 126,
   "id": "86ac920b-3584-4f39-918f-df4e03ef0b3e",
   "metadata": {},
   "outputs": [],
   "source": [
    "url29 = f'https://www.dr.dk/tjenester/steffi/graphql?query=fragment%20ArticleResultFields%20on%20Article%20%7B%20type%3A%20__typename%20urn%20urlPathId%20title%20format%20publications%20%7B%20...on%20ArticlePublication%20%7B%20breaking%20live%20serviceChannel%20%7B%20urn%20%7D%20%7D%20%7D%20summary%20startDate%20teaserImage%20%7B%20default%20%7B%20url%20%7D%20%7D%20head%20%7B%20type%3A%20__typename%20...%20on%20MediaComponent%20%7B%20resource%20%7B%20type%3A%20__typename%20...%20on%20LiveMedia%20%7B%20urn%20mediaType%20%7D%20...%20on%20Clip%20%7B%20urn%20mediaType%20durationInMilliseconds%20%7D%20...%20on%20ClipBundle%20%7B%20items(limit%3A%201)%20%7B%20__typename%20urn%20durationInMilliseconds%20%7D%20%7D%20%7D%20%7D%20...%20on%20ImageCollectionComponent%20%7B%20images%20%7B%20default%3A%20image(key%3A%20%22default%22)%20%7B%20type%3A%20__typename%20%7D%20%7D%20%7D%20...%20on%20RatingComponent%20%7B%20rating%20%7D%20%7D%20contributions(limit%3A%201)%20%7B%20agent%20%7B%20...%20on%20Person%20%7B%20name%20%7D%20%7D%20role%20%7D%20site%20%7B%20url%20urn%20title%20presentation%20%7B%20colors%20teaserImage%20%7B%20default%3A%20image(key%3A%20%22default%22)%20%7B%20url%20%7D%20%7D%20%7D%20%7D%20%7D%20fragment%20RecipeResultFields%20on%20Recipe%20%7B%20title%20url%20image%20%7B%20url%20%7D%20startDate%20%7D%20fragment%20UnknownSearchResultFields%20on%20UnknownSearchResult%20%7B%20title%20url%20label%20image%20%7B%20url%20width%20height%20%7D%20%7D%20fragment%20MusicArtistResultFields%20on%20MusicArtist%20%7B%20url%20name%20image%20%7B%20url%20width%20height%20%7D%20%7D%20query%20SearchPageDRDK(%24query%3A%20String!%20%24limit%3A%20Int!%20%24offset%3A%20Int!%20%24sort%3A%20SearchSort)%20%7B%20drdk%3A%20search(query%3A%20%24query%20logQuery%3A%20%24query%20limit%3A%20%24limit%20offset%3A%20%24offset%20products%3A%20%5B%22drdk%22%5D%20sort%3A%20%24sort)%20%7B%20totalCount%20results%3A%20nodes%20%7B%20type%3A%20__typename%20...%20on%20Article%20%7B%20...ArticleResultFields%20%7D%20...%20on%20Recipe%20%7B%20...RecipeResultFields%20%7D%20...%20on%20MusicArtist%20%7B%20...MusicArtistResultFields%20%7D%20...%20on%20UnknownSearchResult%20%7B%20...UnknownSearchResultFields%20%7D%20%7D%20spellCheck%20%7D%20%7D&variables=%7B%22query%22%3A%22c20%22%2C%22sort%22%3A%22Relevance%22%2C%22limit%22%3A10%2C%22offset%22%3A290%7D'\n",
    "headers = {'name':'Asta Thit Kettel', 'from':'ucph','email':'dnp@ku.dk'}\n",
    "response29 = requests.get(url29, headers)\n",
    "results29 = response29.json()\n",
    "result_articles29 = [{'urlPathId': article['urlPathId'], 'title': article['title']} for article in results29['data']['drdk']['results']]\n",
    "data29 = pd.DataFrame(result_articles29)"
   ]
  },
  {
   "cell_type": "code",
   "execution_count": 127,
   "id": "595e15d2-41ef-4f22-9f61-4f4264be9642",
   "metadata": {},
   "outputs": [],
   "source": [
    "url30 = f'https://www.dr.dk/tjenester/steffi/graphql?query=fragment%20ArticleResultFields%20on%20Article%20%7B%20type%3A%20__typename%20urn%20urlPathId%20title%20format%20publications%20%7B%20...on%20ArticlePublication%20%7B%20breaking%20live%20serviceChannel%20%7B%20urn%20%7D%20%7D%20%7D%20summary%20startDate%20teaserImage%20%7B%20default%20%7B%20url%20%7D%20%7D%20head%20%7B%20type%3A%20__typename%20...%20on%20MediaComponent%20%7B%20resource%20%7B%20type%3A%20__typename%20...%20on%20LiveMedia%20%7B%20urn%20mediaType%20%7D%20...%20on%20Clip%20%7B%20urn%20mediaType%20durationInMilliseconds%20%7D%20...%20on%20ClipBundle%20%7B%20items(limit%3A%201)%20%7B%20__typename%20urn%20durationInMilliseconds%20%7D%20%7D%20%7D%20%7D%20...%20on%20ImageCollectionComponent%20%7B%20images%20%7B%20default%3A%20image(key%3A%20%22default%22)%20%7B%20type%3A%20__typename%20%7D%20%7D%20%7D%20...%20on%20RatingComponent%20%7B%20rating%20%7D%20%7D%20contributions(limit%3A%201)%20%7B%20agent%20%7B%20...%20on%20Person%20%7B%20name%20%7D%20%7D%20role%20%7D%20site%20%7B%20url%20urn%20title%20presentation%20%7B%20colors%20teaserImage%20%7B%20default%3A%20image(key%3A%20%22default%22)%20%7B%20url%20%7D%20%7D%20%7D%20%7D%20%7D%20fragment%20RecipeResultFields%20on%20Recipe%20%7B%20title%20url%20image%20%7B%20url%20%7D%20startDate%20%7D%20fragment%20UnknownSearchResultFields%20on%20UnknownSearchResult%20%7B%20title%20url%20label%20image%20%7B%20url%20width%20height%20%7D%20%7D%20fragment%20MusicArtistResultFields%20on%20MusicArtist%20%7B%20url%20name%20image%20%7B%20url%20width%20height%20%7D%20%7D%20query%20SearchPageDRDK(%24query%3A%20String!%20%24limit%3A%20Int!%20%24offset%3A%20Int!%20%24sort%3A%20SearchSort)%20%7B%20drdk%3A%20search(query%3A%20%24query%20logQuery%3A%20%24query%20limit%3A%20%24limit%20offset%3A%20%24offset%20products%3A%20%5B%22drdk%22%5D%20sort%3A%20%24sort)%20%7B%20totalCount%20results%3A%20nodes%20%7B%20type%3A%20__typename%20...%20on%20Article%20%7B%20...ArticleResultFields%20%7D%20...%20on%20Recipe%20%7B%20...RecipeResultFields%20%7D%20...%20on%20MusicArtist%20%7B%20...MusicArtistResultFields%20%7D%20...%20on%20UnknownSearchResult%20%7B%20...UnknownSearchResultFields%20%7D%20%7D%20spellCheck%20%7D%20%7D&variables=%7B%22query%22%3A%22c20%22%2C%22sort%22%3A%22Relevance%22%2C%22limit%22%3A10%2C%22offset%22%3A300%7D'\n",
    "headers = {'name':'Asta Thit Kettel', 'from':'ucph','email':'dnp@ku.dk'}\n",
    "response30 = requests.get(url30, headers)\n",
    "results30 = response30.json()\n",
    "result_articles30 = [{'urlPathId': article['urlPathId'], 'title': article['title']} for article in results30['data']['drdk']['results']]\n",
    "data30 = pd.DataFrame(result_articles30)\n"
   ]
  },
  {
   "cell_type": "code",
   "execution_count": 128,
   "id": "b0c34b95-88a9-4fb4-abce-4366e139ba9a",
   "metadata": {},
   "outputs": [],
   "source": [
    "url31 = f'https://www.dr.dk/tjenester/steffi/graphql?query=fragment%20ArticleResultFields%20on%20Article%20%7B%20type%3A%20__typename%20urn%20urlPathId%20title%20format%20publications%20%7B%20...on%20ArticlePublication%20%7B%20breaking%20live%20serviceChannel%20%7B%20urn%20%7D%20%7D%20%7D%20summary%20startDate%20teaserImage%20%7B%20default%20%7B%20url%20%7D%20%7D%20head%20%7B%20type%3A%20__typename%20...%20on%20MediaComponent%20%7B%20resource%20%7B%20type%3A%20__typename%20...%20on%20LiveMedia%20%7B%20urn%20mediaType%20%7D%20...%20on%20Clip%20%7B%20urn%20mediaType%20durationInMilliseconds%20%7D%20...%20on%20ClipBundle%20%7B%20items(limit%3A%201)%20%7B%20__typename%20urn%20durationInMilliseconds%20%7D%20%7D%20%7D%20%7D%20...%20on%20ImageCollectionComponent%20%7B%20images%20%7B%20default%3A%20image(key%3A%20%22default%22)%20%7B%20type%3A%20__typename%20%7D%20%7D%20%7D%20...%20on%20RatingComponent%20%7B%20rating%20%7D%20%7D%20contributions(limit%3A%201)%20%7B%20agent%20%7B%20...%20on%20Person%20%7B%20name%20%7D%20%7D%20role%20%7D%20site%20%7B%20url%20urn%20title%20presentation%20%7B%20colors%20teaserImage%20%7B%20default%3A%20image(key%3A%20%22default%22)%20%7B%20url%20%7D%20%7D%20%7D%20%7D%20%7D%20fragment%20RecipeResultFields%20on%20Recipe%20%7B%20title%20url%20image%20%7B%20url%20%7D%20startDate%20%7D%20fragment%20UnknownSearchResultFields%20on%20UnknownSearchResult%20%7B%20title%20url%20label%20image%20%7B%20url%20width%20height%20%7D%20%7D%20fragment%20MusicArtistResultFields%20on%20MusicArtist%20%7B%20url%20name%20image%20%7B%20url%20width%20height%20%7D%20%7D%20query%20SearchPageDRDK(%24query%3A%20String!%20%24limit%3A%20Int!%20%24offset%3A%20Int!%20%24sort%3A%20SearchSort)%20%7B%20drdk%3A%20search(query%3A%20%24query%20logQuery%3A%20%24query%20limit%3A%20%24limit%20offset%3A%20%24offset%20products%3A%20%5B%22drdk%22%5D%20sort%3A%20%24sort)%20%7B%20totalCount%20results%3A%20nodes%20%7B%20type%3A%20__typename%20...%20on%20Article%20%7B%20...ArticleResultFields%20%7D%20...%20on%20Recipe%20%7B%20...RecipeResultFields%20%7D%20...%20on%20MusicArtist%20%7B%20...MusicArtistResultFields%20%7D%20...%20on%20UnknownSearchResult%20%7B%20...UnknownSearchResultFields%20%7D%20%7D%20spellCheck%20%7D%20%7D&variables=%7B%22query%22%3A%22c20%22%2C%22sort%22%3A%22Relevance%22%2C%22limit%22%3A10%2C%22offset%22%3A310%7D'\n",
    "headers = {'name':'Asta Thit Kettel', 'from':'ucph','email':'dnp@ku.dk'}\n",
    "response31 = requests.get(url31, headers)\n",
    "results31 = response31.json()\n",
    "result_articles31 = [{'urlPathId': article['urlPathId'], 'title': article['title']} for article in results31['data']['drdk']['results']]\n",
    "data31 = pd.DataFrame(result_articles31)\n"
   ]
  },
  {
   "cell_type": "code",
   "execution_count": 129,
   "id": "a37e1790-050a-485b-a6b9-4c9aa343c3c2",
   "metadata": {},
   "outputs": [],
   "source": [
    "url32 = f'https://www.dr.dk/tjenester/steffi/graphql?query=fragment%20ArticleResultFields%20on%20Article%20%7B%20type%3A%20__typename%20urn%20urlPathId%20title%20format%20publications%20%7B%20...on%20ArticlePublication%20%7B%20breaking%20live%20serviceChannel%20%7B%20urn%20%7D%20%7D%20%7D%20summary%20startDate%20teaserImage%20%7B%20default%20%7B%20url%20%7D%20%7D%20head%20%7B%20type%3A%20__typename%20...%20on%20MediaComponent%20%7B%20resource%20%7B%20type%3A%20__typename%20...%20on%20LiveMedia%20%7B%20urn%20mediaType%20%7D%20...%20on%20Clip%20%7B%20urn%20mediaType%20durationInMilliseconds%20%7D%20...%20on%20ClipBundle%20%7B%20items(limit%3A%201)%20%7B%20__typename%20urn%20durationInMilliseconds%20%7D%20%7D%20%7D%20%7D%20...%20on%20ImageCollectionComponent%20%7B%20images%20%7B%20default%3A%20image(key%3A%20%22default%22)%20%7B%20type%3A%20__typename%20%7D%20%7D%20%7D%20...%20on%20RatingComponent%20%7B%20rating%20%7D%20%7D%20contributions(limit%3A%201)%20%7B%20agent%20%7B%20...%20on%20Person%20%7B%20name%20%7D%20%7D%20role%20%7D%20site%20%7B%20url%20urn%20title%20presentation%20%7B%20colors%20teaserImage%20%7B%20default%3A%20image(key%3A%20%22default%22)%20%7B%20url%20%7D%20%7D%20%7D%20%7D%20%7D%20fragment%20RecipeResultFields%20on%20Recipe%20%7B%20title%20url%20image%20%7B%20url%20%7D%20startDate%20%7D%20fragment%20UnknownSearchResultFields%20on%20UnknownSearchResult%20%7B%20title%20url%20label%20image%20%7B%20url%20width%20height%20%7D%20%7D%20fragment%20MusicArtistResultFields%20on%20MusicArtist%20%7B%20url%20name%20image%20%7B%20url%20width%20height%20%7D%20%7D%20query%20SearchPageDRDK(%24query%3A%20String!%20%24limit%3A%20Int!%20%24offset%3A%20Int!%20%24sort%3A%20SearchSort)%20%7B%20drdk%3A%20search(query%3A%20%24query%20logQuery%3A%20%24query%20limit%3A%20%24limit%20offset%3A%20%24offset%20products%3A%20%5B%22drdk%22%5D%20sort%3A%20%24sort)%20%7B%20totalCount%20results%3A%20nodes%20%7B%20type%3A%20__typename%20...%20on%20Article%20%7B%20...ArticleResultFields%20%7D%20...%20on%20Recipe%20%7B%20...RecipeResultFields%20%7D%20...%20on%20MusicArtist%20%7B%20...MusicArtistResultFields%20%7D%20...%20on%20UnknownSearchResult%20%7B%20...UnknownSearchResultFields%20%7D%20%7D%20spellCheck%20%7D%20%7D&variables=%7B%22query%22%3A%22c20%22%2C%22sort%22%3A%22Relevance%22%2C%22limit%22%3A10%2C%22offset%22%3A320%7D'\n",
    "headers = {'name':'Asta Thit Kettel', 'from':'ucph','email':'dnp@ku.dk'}\n",
    "response32 = requests.get(url32, headers)\n",
    "results32 = response32.json()\n",
    "result_articles32 = [{'urlPathId': article['urlPathId'], 'title': article['title']} for article in results32['data']['drdk']['results']]\n",
    "data32 = pd.DataFrame(result_articles32)"
   ]
  },
  {
   "cell_type": "code",
   "execution_count": 130,
   "id": "7b2227ad-019d-4aba-9fec-22e1e009bd76",
   "metadata": {},
   "outputs": [],
   "source": [
    "url33 = f'https://www.dr.dk/tjenester/steffi/graphql?query=fragment%20ArticleResultFields%20on%20Article%20%7B%20type%3A%20__typename%20urn%20urlPathId%20title%20format%20publications%20%7B%20...on%20ArticlePublication%20%7B%20breaking%20live%20serviceChannel%20%7B%20urn%20%7D%20%7D%20%7D%20summary%20startDate%20teaserImage%20%7B%20default%20%7B%20url%20%7D%20%7D%20head%20%7B%20type%3A%20__typename%20...%20on%20MediaComponent%20%7B%20resource%20%7B%20type%3A%20__typename%20...%20on%20LiveMedia%20%7B%20urn%20mediaType%20%7D%20...%20on%20Clip%20%7B%20urn%20mediaType%20durationInMilliseconds%20%7D%20...%20on%20ClipBundle%20%7B%20items(limit%3A%201)%20%7B%20__typename%20urn%20durationInMilliseconds%20%7D%20%7D%20%7D%20%7D%20...%20on%20ImageCollectionComponent%20%7B%20images%20%7B%20default%3A%20image(key%3A%20%22default%22)%20%7B%20type%3A%20__typename%20%7D%20%7D%20%7D%20...%20on%20RatingComponent%20%7B%20rating%20%7D%20%7D%20contributions(limit%3A%201)%20%7B%20agent%20%7B%20...%20on%20Person%20%7B%20name%20%7D%20%7D%20role%20%7D%20site%20%7B%20url%20urn%20title%20presentation%20%7B%20colors%20teaserImage%20%7B%20default%3A%20image(key%3A%20%22default%22)%20%7B%20url%20%7D%20%7D%20%7D%20%7D%20%7D%20fragment%20RecipeResultFields%20on%20Recipe%20%7B%20title%20url%20image%20%7B%20url%20%7D%20startDate%20%7D%20fragment%20UnknownSearchResultFields%20on%20UnknownSearchResult%20%7B%20title%20url%20label%20image%20%7B%20url%20width%20height%20%7D%20%7D%20fragment%20MusicArtistResultFields%20on%20MusicArtist%20%7B%20url%20name%20image%20%7B%20url%20width%20height%20%7D%20%7D%20query%20SearchPageDRDK(%24query%3A%20String!%20%24limit%3A%20Int!%20%24offset%3A%20Int!%20%24sort%3A%20SearchSort)%20%7B%20drdk%3A%20search(query%3A%20%24query%20logQuery%3A%20%24query%20limit%3A%20%24limit%20offset%3A%20%24offset%20products%3A%20%5B%22drdk%22%5D%20sort%3A%20%24sort)%20%7B%20totalCount%20results%3A%20nodes%20%7B%20type%3A%20__typename%20...%20on%20Article%20%7B%20...ArticleResultFields%20%7D%20...%20on%20Recipe%20%7B%20...RecipeResultFields%20%7D%20...%20on%20MusicArtist%20%7B%20...MusicArtistResultFields%20%7D%20...%20on%20UnknownSearchResult%20%7B%20...UnknownSearchResultFields%20%7D%20%7D%20spellCheck%20%7D%20%7D&variables=%7B%22query%22%3A%22c20%22%2C%22sort%22%3A%22Relevance%22%2C%22limit%22%3A10%2C%22offset%22%3A330%7D'\n",
    "headers = {'name':'Asta Thit Kettel', 'from':'ucph','email':'dnp@ku.dk'}\n",
    "response33 = requests.get(url33, headers)\n",
    "results33 = response33.json()\n",
    "result_articles33 = [{'urlPathId': article['urlPathId'], 'title': article['title']} for article in results33['data']['drdk']['results']]\n",
    "data33 = pd.DataFrame(result_articles33)"
   ]
  },
  {
   "cell_type": "code",
   "execution_count": 131,
   "id": "3d60d896-0089-4cff-bdb2-fbfcc9071dc0",
   "metadata": {},
   "outputs": [],
   "source": [
    "url34 = f'https://www.dr.dk/tjenester/steffi/graphql?query=fragment%20ArticleResultFields%20on%20Article%20%7B%20type%3A%20__typename%20urn%20urlPathId%20title%20format%20publications%20%7B%20...on%20ArticlePublication%20%7B%20breaking%20live%20serviceChannel%20%7B%20urn%20%7D%20%7D%20%7D%20summary%20startDate%20teaserImage%20%7B%20default%20%7B%20url%20%7D%20%7D%20head%20%7B%20type%3A%20__typename%20...%20on%20MediaComponent%20%7B%20resource%20%7B%20type%3A%20__typename%20...%20on%20LiveMedia%20%7B%20urn%20mediaType%20%7D%20...%20on%20Clip%20%7B%20urn%20mediaType%20durationInMilliseconds%20%7D%20...%20on%20ClipBundle%20%7B%20items(limit%3A%201)%20%7B%20__typename%20urn%20durationInMilliseconds%20%7D%20%7D%20%7D%20%7D%20...%20on%20ImageCollectionComponent%20%7B%20images%20%7B%20default%3A%20image(key%3A%20%22default%22)%20%7B%20type%3A%20__typename%20%7D%20%7D%20%7D%20...%20on%20RatingComponent%20%7B%20rating%20%7D%20%7D%20contributions(limit%3A%201)%20%7B%20agent%20%7B%20...%20on%20Person%20%7B%20name%20%7D%20%7D%20role%20%7D%20site%20%7B%20url%20urn%20title%20presentation%20%7B%20colors%20teaserImage%20%7B%20default%3A%20image(key%3A%20%22default%22)%20%7B%20url%20%7D%20%7D%20%7D%20%7D%20%7D%20fragment%20RecipeResultFields%20on%20Recipe%20%7B%20title%20url%20image%20%7B%20url%20%7D%20startDate%20%7D%20fragment%20UnknownSearchResultFields%20on%20UnknownSearchResult%20%7B%20title%20url%20label%20image%20%7B%20url%20width%20height%20%7D%20%7D%20fragment%20MusicArtistResultFields%20on%20MusicArtist%20%7B%20url%20name%20image%20%7B%20url%20width%20height%20%7D%20%7D%20query%20SearchPageDRDK(%24query%3A%20String!%20%24limit%3A%20Int!%20%24offset%3A%20Int!%20%24sort%3A%20SearchSort)%20%7B%20drdk%3A%20search(query%3A%20%24query%20logQuery%3A%20%24query%20limit%3A%20%24limit%20offset%3A%20%24offset%20products%3A%20%5B%22drdk%22%5D%20sort%3A%20%24sort)%20%7B%20totalCount%20results%3A%20nodes%20%7B%20type%3A%20__typename%20...%20on%20Article%20%7B%20...ArticleResultFields%20%7D%20...%20on%20Recipe%20%7B%20...RecipeResultFields%20%7D%20...%20on%20MusicArtist%20%7B%20...MusicArtistResultFields%20%7D%20...%20on%20UnknownSearchResult%20%7B%20...UnknownSearchResultFields%20%7D%20%7D%20spellCheck%20%7D%20%7D&variables=%7B%22query%22%3A%22c20%22%2C%22sort%22%3A%22Relevance%22%2C%22limit%22%3A10%2C%22offset%22%3A340%7D'\n",
    "headers = {'name':'Asta Thit Kettel', 'from':'ucph','email':'dnp@ku.dk'}\n",
    "response34 = requests.get(url34, headers)\n",
    "results34 = response34.json()\n",
    "result_articles34 = [{'urlPathId': article['urlPathId'], 'title': article['title']} for article in results34['data']['drdk']['results']]\n",
    "data34 = pd.DataFrame(result_articles34)"
   ]
  },
  {
   "cell_type": "code",
   "execution_count": 132,
   "id": "6deaa84f-61ec-4bbd-ae30-9e95a7748460",
   "metadata": {},
   "outputs": [],
   "source": [
    "url35 = f'https://www.dr.dk/tjenester/steffi/graphql?query=fragment%20ArticleResultFields%20on%20Article%20%7B%20type%3A%20__typename%20urn%20urlPathId%20title%20format%20publications%20%7B%20...on%20ArticlePublication%20%7B%20breaking%20live%20serviceChannel%20%7B%20urn%20%7D%20%7D%20%7D%20summary%20startDate%20teaserImage%20%7B%20default%20%7B%20url%20%7D%20%7D%20head%20%7B%20type%3A%20__typename%20...%20on%20MediaComponent%20%7B%20resource%20%7B%20type%3A%20__typename%20...%20on%20LiveMedia%20%7B%20urn%20mediaType%20%7D%20...%20on%20Clip%20%7B%20urn%20mediaType%20durationInMilliseconds%20%7D%20...%20on%20ClipBundle%20%7B%20items(limit%3A%201)%20%7B%20__typename%20urn%20durationInMilliseconds%20%7D%20%7D%20%7D%20%7D%20...%20on%20ImageCollectionComponent%20%7B%20images%20%7B%20default%3A%20image(key%3A%20%22default%22)%20%7B%20type%3A%20__typename%20%7D%20%7D%20%7D%20...%20on%20RatingComponent%20%7B%20rating%20%7D%20%7D%20contributions(limit%3A%201)%20%7B%20agent%20%7B%20...%20on%20Person%20%7B%20name%20%7D%20%7D%20role%20%7D%20site%20%7B%20url%20urn%20title%20presentation%20%7B%20colors%20teaserImage%20%7B%20default%3A%20image(key%3A%20%22default%22)%20%7B%20url%20%7D%20%7D%20%7D%20%7D%20%7D%20fragment%20RecipeResultFields%20on%20Recipe%20%7B%20title%20url%20image%20%7B%20url%20%7D%20startDate%20%7D%20fragment%20UnknownSearchResultFields%20on%20UnknownSearchResult%20%7B%20title%20url%20label%20image%20%7B%20url%20width%20height%20%7D%20%7D%20fragment%20MusicArtistResultFields%20on%20MusicArtist%20%7B%20url%20name%20image%20%7B%20url%20width%20height%20%7D%20%7D%20query%20SearchPageDRDK(%24query%3A%20String!%20%24limit%3A%20Int!%20%24offset%3A%20Int!%20%24sort%3A%20SearchSort)%20%7B%20drdk%3A%20search(query%3A%20%24query%20logQuery%3A%20%24query%20limit%3A%20%24limit%20offset%3A%20%24offset%20products%3A%20%5B%22drdk%22%5D%20sort%3A%20%24sort)%20%7B%20totalCount%20results%3A%20nodes%20%7B%20type%3A%20__typename%20...%20on%20Article%20%7B%20...ArticleResultFields%20%7D%20...%20on%20Recipe%20%7B%20...RecipeResultFields%20%7D%20...%20on%20MusicArtist%20%7B%20...MusicArtistResultFields%20%7D%20...%20on%20UnknownSearchResult%20%7B%20...UnknownSearchResultFields%20%7D%20%7D%20spellCheck%20%7D%20%7D&variables=%7B%22query%22%3A%22c20%22%2C%22sort%22%3A%22Relevance%22%2C%22limit%22%3A10%2C%22offset%22%3A350%7D'\n",
    "headers = {'name':'Asta Thit Kettel', 'from':'ucph','email':'dnp@ku.dk'}\n",
    "response35 = requests.get(url35, headers)\n",
    "results35 = response35.json()\n",
    "result_articles35 = [{'urlPathId': article['urlPathId'], 'title': article['title']} for article in results35['data']['drdk']['results']]\n",
    "data35 = pd.DataFrame(result_articles35)"
   ]
  },
  {
   "cell_type": "code",
   "execution_count": 133,
   "id": "5af65e35-baad-4cd8-aa7d-dff568355b8c",
   "metadata": {},
   "outputs": [],
   "source": [
    "url36 = f'https://www.dr.dk/tjenester/steffi/graphql?query=fragment%20ArticleResultFields%20on%20Article%20%7B%20type%3A%20__typename%20urn%20urlPathId%20title%20format%20publications%20%7B%20...on%20ArticlePublication%20%7B%20breaking%20live%20serviceChannel%20%7B%20urn%20%7D%20%7D%20%7D%20summary%20startDate%20teaserImage%20%7B%20default%20%7B%20url%20%7D%20%7D%20head%20%7B%20type%3A%20__typename%20...%20on%20MediaComponent%20%7B%20resource%20%7B%20type%3A%20__typename%20...%20on%20LiveMedia%20%7B%20urn%20mediaType%20%7D%20...%20on%20Clip%20%7B%20urn%20mediaType%20durationInMilliseconds%20%7D%20...%20on%20ClipBundle%20%7B%20items(limit%3A%201)%20%7B%20__typename%20urn%20durationInMilliseconds%20%7D%20%7D%20%7D%20%7D%20...%20on%20ImageCollectionComponent%20%7B%20images%20%7B%20default%3A%20image(key%3A%20%22default%22)%20%7B%20type%3A%20__typename%20%7D%20%7D%20%7D%20...%20on%20RatingComponent%20%7B%20rating%20%7D%20%7D%20contributions(limit%3A%201)%20%7B%20agent%20%7B%20...%20on%20Person%20%7B%20name%20%7D%20%7D%20role%20%7D%20site%20%7B%20url%20urn%20title%20presentation%20%7B%20colors%20teaserImage%20%7B%20default%3A%20image(key%3A%20%22default%22)%20%7B%20url%20%7D%20%7D%20%7D%20%7D%20%7D%20fragment%20RecipeResultFields%20on%20Recipe%20%7B%20title%20url%20image%20%7B%20url%20%7D%20startDate%20%7D%20fragment%20UnknownSearchResultFields%20on%20UnknownSearchResult%20%7B%20title%20url%20label%20image%20%7B%20url%20width%20height%20%7D%20%7D%20fragment%20MusicArtistResultFields%20on%20MusicArtist%20%7B%20url%20name%20image%20%7B%20url%20width%20height%20%7D%20%7D%20query%20SearchPageDRDK(%24query%3A%20String!%20%24limit%3A%20Int!%20%24offset%3A%20Int!%20%24sort%3A%20SearchSort)%20%7B%20drdk%3A%20search(query%3A%20%24query%20logQuery%3A%20%24query%20limit%3A%20%24limit%20offset%3A%20%24offset%20products%3A%20%5B%22drdk%22%5D%20sort%3A%20%24sort)%20%7B%20totalCount%20results%3A%20nodes%20%7B%20type%3A%20__typename%20...%20on%20Article%20%7B%20...ArticleResultFields%20%7D%20...%20on%20Recipe%20%7B%20...RecipeResultFields%20%7D%20...%20on%20MusicArtist%20%7B%20...MusicArtistResultFields%20%7D%20...%20on%20UnknownSearchResult%20%7B%20...UnknownSearchResultFields%20%7D%20%7D%20spellCheck%20%7D%20%7D&variables=%7B%22query%22%3A%22c20%22%2C%22sort%22%3A%22Relevance%22%2C%22limit%22%3A10%2C%22offset%22%3A360%7D'\n",
    "headers = {'name':'Asta Thit Kettel', 'from':'ucph','email':'dnp@ku.dk'}\n",
    "response36 = requests.get(url36, headers)\n",
    "results36 = response36.json()\n",
    "result_articles36 = [{'urlPathId': article['urlPathId'], 'title': article['title']} for article in results36['data']['drdk']['results']]\n",
    "data36 = pd.DataFrame(result_articles36)"
   ]
  },
  {
   "cell_type": "code",
   "execution_count": 134,
   "id": "170d001b-4770-4e64-ad0f-dce5b4b3e40d",
   "metadata": {},
   "outputs": [],
   "source": [
    "url37 = f'https://www.dr.dk/tjenester/steffi/graphql?query=fragment%20ArticleResultFields%20on%20Article%20%7B%20type%3A%20__typename%20urn%20urlPathId%20title%20format%20publications%20%7B%20...on%20ArticlePublication%20%7B%20breaking%20live%20serviceChannel%20%7B%20urn%20%7D%20%7D%20%7D%20summary%20startDate%20teaserImage%20%7B%20default%20%7B%20url%20%7D%20%7D%20head%20%7B%20type%3A%20__typename%20...%20on%20MediaComponent%20%7B%20resource%20%7B%20type%3A%20__typename%20...%20on%20LiveMedia%20%7B%20urn%20mediaType%20%7D%20...%20on%20Clip%20%7B%20urn%20mediaType%20durationInMilliseconds%20%7D%20...%20on%20ClipBundle%20%7B%20items(limit%3A%201)%20%7B%20__typename%20urn%20durationInMilliseconds%20%7D%20%7D%20%7D%20%7D%20...%20on%20ImageCollectionComponent%20%7B%20images%20%7B%20default%3A%20image(key%3A%20%22default%22)%20%7B%20type%3A%20__typename%20%7D%20%7D%20%7D%20...%20on%20RatingComponent%20%7B%20rating%20%7D%20%7D%20contributions(limit%3A%201)%20%7B%20agent%20%7B%20...%20on%20Person%20%7B%20name%20%7D%20%7D%20role%20%7D%20site%20%7B%20url%20urn%20title%20presentation%20%7B%20colors%20teaserImage%20%7B%20default%3A%20image(key%3A%20%22default%22)%20%7B%20url%20%7D%20%7D%20%7D%20%7D%20%7D%20fragment%20RecipeResultFields%20on%20Recipe%20%7B%20title%20url%20image%20%7B%20url%20%7D%20startDate%20%7D%20fragment%20UnknownSearchResultFields%20on%20UnknownSearchResult%20%7B%20title%20url%20label%20image%20%7B%20url%20width%20height%20%7D%20%7D%20fragment%20MusicArtistResultFields%20on%20MusicArtist%20%7B%20url%20name%20image%20%7B%20url%20width%20height%20%7D%20%7D%20query%20SearchPageDRDK(%24query%3A%20String!%20%24limit%3A%20Int!%20%24offset%3A%20Int!%20%24sort%3A%20SearchSort)%20%7B%20drdk%3A%20search(query%3A%20%24query%20logQuery%3A%20%24query%20limit%3A%20%24limit%20offset%3A%20%24offset%20products%3A%20%5B%22drdk%22%5D%20sort%3A%20%24sort)%20%7B%20totalCount%20results%3A%20nodes%20%7B%20type%3A%20__typename%20...%20on%20Article%20%7B%20...ArticleResultFields%20%7D%20...%20on%20Recipe%20%7B%20...RecipeResultFields%20%7D%20...%20on%20MusicArtist%20%7B%20...MusicArtistResultFields%20%7D%20...%20on%20UnknownSearchResult%20%7B%20...UnknownSearchResultFields%20%7D%20%7D%20spellCheck%20%7D%20%7D&variables=%7B%22query%22%3A%22c20%22%2C%22sort%22%3A%22Relevance%22%2C%22limit%22%3A10%2C%22offset%22%3A370%7D'\n",
    "headers = {'name':'Asta Thit Kettel', 'from':'ucph','email':'dnp@ku.dk'}\n",
    "response37 = requests.get(url37, headers)\n",
    "results37 = response37.json()\n",
    "result_articles37 = [{'urlPathId': article['urlPathId'], 'title': article['title']} for article in results37['data']['drdk']['results']]\n",
    "data37 = pd.DataFrame(result_articles37)"
   ]
  },
  {
   "cell_type": "code",
   "execution_count": 135,
   "id": "75ab62d6-4b6f-42f6-98e7-7f6670bad9c5",
   "metadata": {},
   "outputs": [],
   "source": [
    "url38 = f'https://www.dr.dk/tjenester/steffi/graphql?query=fragment%20ArticleResultFields%20on%20Article%20%7B%20type%3A%20__typename%20urn%20urlPathId%20title%20format%20publications%20%7B%20...on%20ArticlePublication%20%7B%20breaking%20live%20serviceChannel%20%7B%20urn%20%7D%20%7D%20%7D%20summary%20startDate%20teaserImage%20%7B%20default%20%7B%20url%20%7D%20%7D%20head%20%7B%20type%3A%20__typename%20...%20on%20MediaComponent%20%7B%20resource%20%7B%20type%3A%20__typename%20...%20on%20LiveMedia%20%7B%20urn%20mediaType%20%7D%20...%20on%20Clip%20%7B%20urn%20mediaType%20durationInMilliseconds%20%7D%20...%20on%20ClipBundle%20%7B%20items(limit%3A%201)%20%7B%20__typename%20urn%20durationInMilliseconds%20%7D%20%7D%20%7D%20%7D%20...%20on%20ImageCollectionComponent%20%7B%20images%20%7B%20default%3A%20image(key%3A%20%22default%22)%20%7B%20type%3A%20__typename%20%7D%20%7D%20%7D%20...%20on%20RatingComponent%20%7B%20rating%20%7D%20%7D%20contributions(limit%3A%201)%20%7B%20agent%20%7B%20...%20on%20Person%20%7B%20name%20%7D%20%7D%20role%20%7D%20site%20%7B%20url%20urn%20title%20presentation%20%7B%20colors%20teaserImage%20%7B%20default%3A%20image(key%3A%20%22default%22)%20%7B%20url%20%7D%20%7D%20%7D%20%7D%20%7D%20fragment%20RecipeResultFields%20on%20Recipe%20%7B%20title%20url%20image%20%7B%20url%20%7D%20startDate%20%7D%20fragment%20UnknownSearchResultFields%20on%20UnknownSearchResult%20%7B%20title%20url%20label%20image%20%7B%20url%20width%20height%20%7D%20%7D%20fragment%20MusicArtistResultFields%20on%20MusicArtist%20%7B%20url%20name%20image%20%7B%20url%20width%20height%20%7D%20%7D%20query%20SearchPageDRDK(%24query%3A%20String!%20%24limit%3A%20Int!%20%24offset%3A%20Int!%20%24sort%3A%20SearchSort)%20%7B%20drdk%3A%20search(query%3A%20%24query%20logQuery%3A%20%24query%20limit%3A%20%24limit%20offset%3A%20%24offset%20products%3A%20%5B%22drdk%22%5D%20sort%3A%20%24sort)%20%7B%20totalCount%20results%3A%20nodes%20%7B%20type%3A%20__typename%20...%20on%20Article%20%7B%20...ArticleResultFields%20%7D%20...%20on%20Recipe%20%7B%20...RecipeResultFields%20%7D%20...%20on%20MusicArtist%20%7B%20...MusicArtistResultFields%20%7D%20...%20on%20UnknownSearchResult%20%7B%20...UnknownSearchResultFields%20%7D%20%7D%20spellCheck%20%7D%20%7D&variables=%7B%22query%22%3A%22c20%22%2C%22sort%22%3A%22Relevance%22%2C%22limit%22%3A10%2C%22offset%22%3A380%7D'\n",
    "headers = {'name':'Asta Thit Kettel', 'from':'ucph','email':'dnp@ku.dk'}\n",
    "response38 = requests.get(url38, headers)\n",
    "results38 = response38.json()\n",
    "result_articles38 = [{'urlPathId': article['urlPathId'], 'title': article['title']} for article in results38['data']['drdk']['results']]\n",
    "data38 = pd.DataFrame(result_articles38)\n"
   ]
  },
  {
   "cell_type": "code",
   "execution_count": 136,
   "id": "4ace58df-61c3-4fda-be12-3166ac1b3c7a",
   "metadata": {},
   "outputs": [],
   "source": [
    "url39 = f'https://www.dr.dk/tjenester/steffi/graphql?query=fragment%20ArticleResultFields%20on%20Article%20%7B%20type%3A%20__typename%20urn%20urlPathId%20title%20format%20publications%20%7B%20...on%20ArticlePublication%20%7B%20breaking%20live%20serviceChannel%20%7B%20urn%20%7D%20%7D%20%7D%20summary%20startDate%20teaserImage%20%7B%20default%20%7B%20url%20%7D%20%7D%20head%20%7B%20type%3A%20__typename%20...%20on%20MediaComponent%20%7B%20resource%20%7B%20type%3A%20__typename%20...%20on%20LiveMedia%20%7B%20urn%20mediaType%20%7D%20...%20on%20Clip%20%7B%20urn%20mediaType%20durationInMilliseconds%20%7D%20...%20on%20ClipBundle%20%7B%20items(limit%3A%201)%20%7B%20__typename%20urn%20durationInMilliseconds%20%7D%20%7D%20%7D%20%7D%20...%20on%20ImageCollectionComponent%20%7B%20images%20%7B%20default%3A%20image(key%3A%20%22default%22)%20%7B%20type%3A%20__typename%20%7D%20%7D%20%7D%20...%20on%20RatingComponent%20%7B%20rating%20%7D%20%7D%20contributions(limit%3A%201)%20%7B%20agent%20%7B%20...%20on%20Person%20%7B%20name%20%7D%20%7D%20role%20%7D%20site%20%7B%20url%20urn%20title%20presentation%20%7B%20colors%20teaserImage%20%7B%20default%3A%20image(key%3A%20%22default%22)%20%7B%20url%20%7D%20%7D%20%7D%20%7D%20%7D%20fragment%20RecipeResultFields%20on%20Recipe%20%7B%20title%20url%20image%20%7B%20url%20%7D%20startDate%20%7D%20fragment%20UnknownSearchResultFields%20on%20UnknownSearchResult%20%7B%20title%20url%20label%20image%20%7B%20url%20width%20height%20%7D%20%7D%20fragment%20MusicArtistResultFields%20on%20MusicArtist%20%7B%20url%20name%20image%20%7B%20url%20width%20height%20%7D%20%7D%20query%20SearchPageDRDK(%24query%3A%20String!%20%24limit%3A%20Int!%20%24offset%3A%20Int!%20%24sort%3A%20SearchSort)%20%7B%20drdk%3A%20search(query%3A%20%24query%20logQuery%3A%20%24query%20limit%3A%20%24limit%20offset%3A%20%24offset%20products%3A%20%5B%22drdk%22%5D%20sort%3A%20%24sort)%20%7B%20totalCount%20results%3A%20nodes%20%7B%20type%3A%20__typename%20...%20on%20Article%20%7B%20...ArticleResultFields%20%7D%20...%20on%20Recipe%20%7B%20...RecipeResultFields%20%7D%20...%20on%20MusicArtist%20%7B%20...MusicArtistResultFields%20%7D%20...%20on%20UnknownSearchResult%20%7B%20...UnknownSearchResultFields%20%7D%20%7D%20spellCheck%20%7D%20%7D&variables=%7B%22query%22%3A%22c20%22%2C%22sort%22%3A%22Relevance%22%2C%22limit%22%3A10%2C%22offset%22%3A390%7D'\n",
    "headers = {'name':'Asta Thit Kettel', 'from':'ucph','email':'dnp@ku.dk'}\n",
    "response39 = requests.get(url39, headers)\n",
    "results39 = response39.json()\n",
    "result_articles39 = [{'urlPathId': article['urlPathId'], 'title': article['title']} for article in results39['data']['drdk']['results']]\n",
    "data39 = pd.DataFrame(result_articles39)"
   ]
  },
  {
   "cell_type": "code",
   "execution_count": 137,
   "id": "8e57a6f5-ae5c-43d1-bae3-269ba3b780f2",
   "metadata": {},
   "outputs": [],
   "source": [
    "url40 = f'https://www.dr.dk/tjenester/steffi/graphql?query=fragment%20ArticleResultFields%20on%20Article%20%7B%20type%3A%20__typename%20urn%20urlPathId%20title%20format%20publications%20%7B%20...on%20ArticlePublication%20%7B%20breaking%20live%20serviceChannel%20%7B%20urn%20%7D%20%7D%20%7D%20summary%20startDate%20teaserImage%20%7B%20default%20%7B%20url%20%7D%20%7D%20head%20%7B%20type%3A%20__typename%20...%20on%20MediaComponent%20%7B%20resource%20%7B%20type%3A%20__typename%20...%20on%20LiveMedia%20%7B%20urn%20mediaType%20%7D%20...%20on%20Clip%20%7B%20urn%20mediaType%20durationInMilliseconds%20%7D%20...%20on%20ClipBundle%20%7B%20items(limit%3A%201)%20%7B%20__typename%20urn%20durationInMilliseconds%20%7D%20%7D%20%7D%20%7D%20...%20on%20ImageCollectionComponent%20%7B%20images%20%7B%20default%3A%20image(key%3A%20%22default%22)%20%7B%20type%3A%20__typename%20%7D%20%7D%20%7D%20...%20on%20RatingComponent%20%7B%20rating%20%7D%20%7D%20contributions(limit%3A%201)%20%7B%20agent%20%7B%20...%20on%20Person%20%7B%20name%20%7D%20%7D%20role%20%7D%20site%20%7B%20url%20urn%20title%20presentation%20%7B%20colors%20teaserImage%20%7B%20default%3A%20image(key%3A%20%22default%22)%20%7B%20url%20%7D%20%7D%20%7D%20%7D%20%7D%20fragment%20RecipeResultFields%20on%20Recipe%20%7B%20title%20url%20image%20%7B%20url%20%7D%20startDate%20%7D%20fragment%20UnknownSearchResultFields%20on%20UnknownSearchResult%20%7B%20title%20url%20label%20image%20%7B%20url%20width%20height%20%7D%20%7D%20fragment%20MusicArtistResultFields%20on%20MusicArtist%20%7B%20url%20name%20image%20%7B%20url%20width%20height%20%7D%20%7D%20query%20SearchPageDRDK(%24query%3A%20String!%20%24limit%3A%20Int!%20%24offset%3A%20Int!%20%24sort%3A%20SearchSort)%20%7B%20drdk%3A%20search(query%3A%20%24query%20logQuery%3A%20%24query%20limit%3A%20%24limit%20offset%3A%20%24offset%20products%3A%20%5B%22drdk%22%5D%20sort%3A%20%24sort)%20%7B%20totalCount%20results%3A%20nodes%20%7B%20type%3A%20__typename%20...%20on%20Article%20%7B%20...ArticleResultFields%20%7D%20...%20on%20Recipe%20%7B%20...RecipeResultFields%20%7D%20...%20on%20MusicArtist%20%7B%20...MusicArtistResultFields%20%7D%20...%20on%20UnknownSearchResult%20%7B%20...UnknownSearchResultFields%20%7D%20%7D%20spellCheck%20%7D%20%7D&variables=%7B%22query%22%3A%22c20%22%2C%22sort%22%3A%22Relevance%22%2C%22limit%22%3A10%2C%22offset%22%3A400%7D'\n",
    "headers = {'name':'Asta Thit Kettel', 'from':'ucph','email':'dnp@ku.dk'}\n",
    "response40 = requests.get(url40, headers)\n",
    "results40 = response40.json()\n",
    "result_articles40 = [{'urlPathId': article['urlPathId'], 'title': article['title']} for article in results40['data']['drdk']['results']]\n",
    "data40 = pd.DataFrame(result_articles40)"
   ]
  },
  {
   "cell_type": "code",
   "execution_count": 174,
   "id": "92d19e1c-cd43-4f24-80e0-db4a8a1695ca",
   "metadata": {},
   "outputs": [],
   "source": [
    "url41 = f'https://www.dr.dk/tjenester/steffi/graphql?query=fragment%20ArticleResultFields%20on%20Article%20%7B%20type%3A%20__typename%20urn%20urlPathId%20title%20format%20publications%20%7B%20...on%20ArticlePublication%20%7B%20breaking%20live%20serviceChannel%20%7B%20urn%20%7D%20%7D%20%7D%20summary%20startDate%20teaserImage%20%7B%20default%20%7B%20url%20%7D%20%7D%20head%20%7B%20type%3A%20__typename%20...%20on%20MediaComponent%20%7B%20resource%20%7B%20type%3A%20__typename%20...%20on%20LiveMedia%20%7B%20urn%20mediaType%20%7D%20...%20on%20Clip%20%7B%20urn%20mediaType%20durationInMilliseconds%20%7D%20...%20on%20ClipBundle%20%7B%20items(limit%3A%201)%20%7B%20__typename%20urn%20durationInMilliseconds%20%7D%20%7D%20%7D%20%7D%20...%20on%20ImageCollectionComponent%20%7B%20images%20%7B%20default%3A%20image(key%3A%20%22default%22)%20%7B%20type%3A%20__typename%20%7D%20%7D%20%7D%20...%20on%20RatingComponent%20%7B%20rating%20%7D%20%7D%20contributions(limit%3A%201)%20%7B%20agent%20%7B%20...%20on%20Person%20%7B%20name%20%7D%20%7D%20role%20%7D%20site%20%7B%20url%20urn%20title%20presentation%20%7B%20colors%20teaserImage%20%7B%20default%3A%20image(key%3A%20%22default%22)%20%7B%20url%20%7D%20%7D%20%7D%20%7D%20%7D%20fragment%20RecipeResultFields%20on%20Recipe%20%7B%20title%20url%20image%20%7B%20url%20%7D%20startDate%20%7D%20fragment%20UnknownSearchResultFields%20on%20UnknownSearchResult%20%7B%20title%20url%20label%20image%20%7B%20url%20width%20height%20%7D%20%7D%20fragment%20MusicArtistResultFields%20on%20MusicArtist%20%7B%20url%20name%20image%20%7B%20url%20width%20height%20%7D%20%7D%20query%20SearchPageDRDK(%24query%3A%20String!%20%24limit%3A%20Int!%20%24offset%3A%20Int!%20%24sort%3A%20SearchSort)%20%7B%20drdk%3A%20search(query%3A%20%24query%20logQuery%3A%20%24query%20limit%3A%20%24limit%20offset%3A%20%24offset%20products%3A%20%5B%22drdk%22%5D%20sort%3A%20%24sort)%20%7B%20totalCount%20results%3A%20nodes%20%7B%20type%3A%20__typename%20...%20on%20Article%20%7B%20...ArticleResultFields%20%7D%20...%20on%20Recipe%20%7B%20...RecipeResultFields%20%7D%20...%20on%20MusicArtist%20%7B%20...MusicArtistResultFields%20%7D%20...%20on%20UnknownSearchResult%20%7B%20...UnknownSearchResultFields%20%7D%20%7D%20spellCheck%20%7D%20%7D&variables=%7B%22query%22%3A%22c20%22%2C%22sort%22%3A%22Relevance%22%2C%22limit%22%3A10%2C%22offset%22%3A700%7D'\n",
    "headers = {'name':'Asta Thit Kettel', 'from':'ucph','email':'dnp@ku.dk'}\n",
    "response41 = requests.get(url41, headers)\n",
    "results41 = response41.json()\n",
    "result_articles41 = [{'urlPathId': article['urlPathId'], 'title': article['title']} for article in results41['data']['drdk']['results']]\n",
    "data41 = pd.DataFrame(result_articles41)\n"
   ]
  },
  {
   "cell_type": "code",
   "execution_count": 139,
   "id": "a0cb011b-6efb-4b4a-a4da-f685018faafd",
   "metadata": {},
   "outputs": [],
   "source": [
    "url42 = f'https://www.dr.dk/tjenester/steffi/graphql?query=fragment%20ArticleResultFields%20on%20Article%20%7B%20type%3A%20__typename%20urn%20urlPathId%20title%20format%20publications%20%7B%20...on%20ArticlePublication%20%7B%20breaking%20live%20serviceChannel%20%7B%20urn%20%7D%20%7D%20%7D%20summary%20startDate%20teaserImage%20%7B%20default%20%7B%20url%20%7D%20%7D%20head%20%7B%20type%3A%20__typename%20...%20on%20MediaComponent%20%7B%20resource%20%7B%20type%3A%20__typename%20...%20on%20LiveMedia%20%7B%20urn%20mediaType%20%7D%20...%20on%20Clip%20%7B%20urn%20mediaType%20durationInMilliseconds%20%7D%20...%20on%20ClipBundle%20%7B%20items(limit%3A%201)%20%7B%20__typename%20urn%20durationInMilliseconds%20%7D%20%7D%20%7D%20%7D%20...%20on%20ImageCollectionComponent%20%7B%20images%20%7B%20default%3A%20image(key%3A%20%22default%22)%20%7B%20type%3A%20__typename%20%7D%20%7D%20%7D%20...%20on%20RatingComponent%20%7B%20rating%20%7D%20%7D%20contributions(limit%3A%201)%20%7B%20agent%20%7B%20...%20on%20Person%20%7B%20name%20%7D%20%7D%20role%20%7D%20site%20%7B%20url%20urn%20title%20presentation%20%7B%20colors%20teaserImage%20%7B%20default%3A%20image(key%3A%20%22default%22)%20%7B%20url%20%7D%20%7D%20%7D%20%7D%20%7D%20fragment%20RecipeResultFields%20on%20Recipe%20%7B%20title%20url%20image%20%7B%20url%20%7D%20startDate%20%7D%20fragment%20UnknownSearchResultFields%20on%20UnknownSearchResult%20%7B%20title%20url%20label%20image%20%7B%20url%20width%20height%20%7D%20%7D%20fragment%20MusicArtistResultFields%20on%20MusicArtist%20%7B%20url%20name%20image%20%7B%20url%20width%20height%20%7D%20%7D%20query%20SearchPageDRDK(%24query%3A%20String!%20%24limit%3A%20Int!%20%24offset%3A%20Int!%20%24sort%3A%20SearchSort)%20%7B%20drdk%3A%20search(query%3A%20%24query%20logQuery%3A%20%24query%20limit%3A%20%24limit%20offset%3A%20%24offset%20products%3A%20%5B%22drdk%22%5D%20sort%3A%20%24sort)%20%7B%20totalCount%20results%3A%20nodes%20%7B%20type%3A%20__typename%20...%20on%20Article%20%7B%20...ArticleResultFields%20%7D%20...%20on%20Recipe%20%7B%20...RecipeResultFields%20%7D%20...%20on%20MusicArtist%20%7B%20...MusicArtistResultFields%20%7D%20...%20on%20UnknownSearchResult%20%7B%20...UnknownSearchResultFields%20%7D%20%7D%20spellCheck%20%7D%20%7D&variables=%7B%22query%22%3A%22c20%22%2C%22sort%22%3A%22Relevance%22%2C%22limit%22%3A10%2C%22offset%22%3A410%7D'\n",
    "headers = {'name':'Asta Thit Kettel', 'from':'ucph','email':'dnp@ku.dk'}\n",
    "response42 = requests.get(url42, headers)\n",
    "results42 = response42.json()\n",
    "result_articles42 = [{'urlPathId': article['urlPathId'], 'title': article['title']} for article in results42['data']['drdk']['results']]\n",
    "data42 = pd.DataFrame(result_articles42)"
   ]
  },
  {
   "cell_type": "code",
   "execution_count": 140,
   "id": "a76ea57d-001b-4734-8886-93c04c106c29",
   "metadata": {},
   "outputs": [],
   "source": [
    "url43 = f'https://www.dr.dk/tjenester/steffi/graphql?query=fragment%20ArticleResultFields%20on%20Article%20%7B%20type%3A%20__typename%20urn%20urlPathId%20title%20format%20publications%20%7B%20...on%20ArticlePublication%20%7B%20breaking%20live%20serviceChannel%20%7B%20urn%20%7D%20%7D%20%7D%20summary%20startDate%20teaserImage%20%7B%20default%20%7B%20url%20%7D%20%7D%20head%20%7B%20type%3A%20__typename%20...%20on%20MediaComponent%20%7B%20resource%20%7B%20type%3A%20__typename%20...%20on%20LiveMedia%20%7B%20urn%20mediaType%20%7D%20...%20on%20Clip%20%7B%20urn%20mediaType%20durationInMilliseconds%20%7D%20...%20on%20ClipBundle%20%7B%20items(limit%3A%201)%20%7B%20__typename%20urn%20durationInMilliseconds%20%7D%20%7D%20%7D%20%7D%20...%20on%20ImageCollectionComponent%20%7B%20images%20%7B%20default%3A%20image(key%3A%20%22default%22)%20%7B%20type%3A%20__typename%20%7D%20%7D%20%7D%20...%20on%20RatingComponent%20%7B%20rating%20%7D%20%7D%20contributions(limit%3A%201)%20%7B%20agent%20%7B%20...%20on%20Person%20%7B%20name%20%7D%20%7D%20role%20%7D%20site%20%7B%20url%20urn%20title%20presentation%20%7B%20colors%20teaserImage%20%7B%20default%3A%20image(key%3A%20%22default%22)%20%7B%20url%20%7D%20%7D%20%7D%20%7D%20%7D%20fragment%20RecipeResultFields%20on%20Recipe%20%7B%20title%20url%20image%20%7B%20url%20%7D%20startDate%20%7D%20fragment%20UnknownSearchResultFields%20on%20UnknownSearchResult%20%7B%20title%20url%20label%20image%20%7B%20url%20width%20height%20%7D%20%7D%20fragment%20MusicArtistResultFields%20on%20MusicArtist%20%7B%20url%20name%20image%20%7B%20url%20width%20height%20%7D%20%7D%20query%20SearchPageDRDK(%24query%3A%20String!%20%24limit%3A%20Int!%20%24offset%3A%20Int!%20%24sort%3A%20SearchSort)%20%7B%20drdk%3A%20search(query%3A%20%24query%20logQuery%3A%20%24query%20limit%3A%20%24limit%20offset%3A%20%24offset%20products%3A%20%5B%22drdk%22%5D%20sort%3A%20%24sort)%20%7B%20totalCount%20results%3A%20nodes%20%7B%20type%3A%20__typename%20...%20on%20Article%20%7B%20...ArticleResultFields%20%7D%20...%20on%20Recipe%20%7B%20...RecipeResultFields%20%7D%20...%20on%20MusicArtist%20%7B%20...MusicArtistResultFields%20%7D%20...%20on%20UnknownSearchResult%20%7B%20...UnknownSearchResultFields%20%7D%20%7D%20spellCheck%20%7D%20%7D&variables=%7B%22query%22%3A%22c20%22%2C%22sort%22%3A%22Relevance%22%2C%22limit%22%3A10%2C%22offset%22%3A420%7D'\n",
    "headers = {'name':'Asta Thit Kettel', 'from':'ucph','email':'dnp@ku.dk'}\n",
    "response43 = requests.get(url43, headers)\n",
    "results43 = response43.json()\n",
    "result_articles43 = [{'urlPathId': article['urlPathId'], 'title': article['title']} for article in results43['data']['drdk']['results']]\n",
    "data43 = pd.DataFrame(result_articles43)"
   ]
  },
  {
   "cell_type": "code",
   "execution_count": 141,
   "id": "03985720-c53e-420a-b926-a6fa2f6088de",
   "metadata": {},
   "outputs": [],
   "source": [
    "url44 = f'https://www.dr.dk/tjenester/steffi/graphql?query=fragment%20ArticleResultFields%20on%20Article%20%7B%20type%3A%20__typename%20urn%20urlPathId%20title%20format%20publications%20%7B%20...on%20ArticlePublication%20%7B%20breaking%20live%20serviceChannel%20%7B%20urn%20%7D%20%7D%20%7D%20summary%20startDate%20teaserImage%20%7B%20default%20%7B%20url%20%7D%20%7D%20head%20%7B%20type%3A%20__typename%20...%20on%20MediaComponent%20%7B%20resource%20%7B%20type%3A%20__typename%20...%20on%20LiveMedia%20%7B%20urn%20mediaType%20%7D%20...%20on%20Clip%20%7B%20urn%20mediaType%20durationInMilliseconds%20%7D%20...%20on%20ClipBundle%20%7B%20items(limit%3A%201)%20%7B%20__typename%20urn%20durationInMilliseconds%20%7D%20%7D%20%7D%20%7D%20...%20on%20ImageCollectionComponent%20%7B%20images%20%7B%20default%3A%20image(key%3A%20%22default%22)%20%7B%20type%3A%20__typename%20%7D%20%7D%20%7D%20...%20on%20RatingComponent%20%7B%20rating%20%7D%20%7D%20contributions(limit%3A%201)%20%7B%20agent%20%7B%20...%20on%20Person%20%7B%20name%20%7D%20%7D%20role%20%7D%20site%20%7B%20url%20urn%20title%20presentation%20%7B%20colors%20teaserImage%20%7B%20default%3A%20image(key%3A%20%22default%22)%20%7B%20url%20%7D%20%7D%20%7D%20%7D%20%7D%20fragment%20RecipeResultFields%20on%20Recipe%20%7B%20title%20url%20image%20%7B%20url%20%7D%20startDate%20%7D%20fragment%20UnknownSearchResultFields%20on%20UnknownSearchResult%20%7B%20title%20url%20label%20image%20%7B%20url%20width%20height%20%7D%20%7D%20fragment%20MusicArtistResultFields%20on%20MusicArtist%20%7B%20url%20name%20image%20%7B%20url%20width%20height%20%7D%20%7D%20query%20SearchPageDRDK(%24query%3A%20String!%20%24limit%3A%20Int!%20%24offset%3A%20Int!%20%24sort%3A%20SearchSort)%20%7B%20drdk%3A%20search(query%3A%20%24query%20logQuery%3A%20%24query%20limit%3A%20%24limit%20offset%3A%20%24offset%20products%3A%20%5B%22drdk%22%5D%20sort%3A%20%24sort)%20%7B%20totalCount%20results%3A%20nodes%20%7B%20type%3A%20__typename%20...%20on%20Article%20%7B%20...ArticleResultFields%20%7D%20...%20on%20Recipe%20%7B%20...RecipeResultFields%20%7D%20...%20on%20MusicArtist%20%7B%20...MusicArtistResultFields%20%7D%20...%20on%20UnknownSearchResult%20%7B%20...UnknownSearchResultFields%20%7D%20%7D%20spellCheck%20%7D%20%7D&variables=%7B%22query%22%3A%22c20%22%2C%22sort%22%3A%22Relevance%22%2C%22limit%22%3A10%2C%22offset%22%3A430%7D'\n",
    "headers = {'name':'Asta Thit Kettel', 'from':'ucph','email':'dnp@ku.dk'}\n",
    "response44 = requests.get(url44, headers)\n",
    "results44 = response44.json()\n",
    "result_articles44 = [{'urlPathId': article['urlPathId'], 'title': article['title']} for article in results44['data']['drdk']['results']]\n",
    "data44 = pd.DataFrame(result_articles44)"
   ]
  },
  {
   "cell_type": "code",
   "execution_count": 142,
   "id": "2e8df0c0-b692-40b3-97ab-6525bcbdd606",
   "metadata": {},
   "outputs": [],
   "source": [
    "url45 = f'https://www.dr.dk/tjenester/steffi/graphql?query=fragment%20ArticleResultFields%20on%20Article%20%7B%20type%3A%20__typename%20urn%20urlPathId%20title%20format%20publications%20%7B%20...on%20ArticlePublication%20%7B%20breaking%20live%20serviceChannel%20%7B%20urn%20%7D%20%7D%20%7D%20summary%20startDate%20teaserImage%20%7B%20default%20%7B%20url%20%7D%20%7D%20head%20%7B%20type%3A%20__typename%20...%20on%20MediaComponent%20%7B%20resource%20%7B%20type%3A%20__typename%20...%20on%20LiveMedia%20%7B%20urn%20mediaType%20%7D%20...%20on%20Clip%20%7B%20urn%20mediaType%20durationInMilliseconds%20%7D%20...%20on%20ClipBundle%20%7B%20items(limit%3A%201)%20%7B%20__typename%20urn%20durationInMilliseconds%20%7D%20%7D%20%7D%20%7D%20...%20on%20ImageCollectionComponent%20%7B%20images%20%7B%20default%3A%20image(key%3A%20%22default%22)%20%7B%20type%3A%20__typename%20%7D%20%7D%20%7D%20...%20on%20RatingComponent%20%7B%20rating%20%7D%20%7D%20contributions(limit%3A%201)%20%7B%20agent%20%7B%20...%20on%20Person%20%7B%20name%20%7D%20%7D%20role%20%7D%20site%20%7B%20url%20urn%20title%20presentation%20%7B%20colors%20teaserImage%20%7B%20default%3A%20image(key%3A%20%22default%22)%20%7B%20url%20%7D%20%7D%20%7D%20%7D%20%7D%20fragment%20RecipeResultFields%20on%20Recipe%20%7B%20title%20url%20image%20%7B%20url%20%7D%20startDate%20%7D%20fragment%20UnknownSearchResultFields%20on%20UnknownSearchResult%20%7B%20title%20url%20label%20image%20%7B%20url%20width%20height%20%7D%20%7D%20fragment%20MusicArtistResultFields%20on%20MusicArtist%20%7B%20url%20name%20image%20%7B%20url%20width%20height%20%7D%20%7D%20query%20SearchPageDRDK(%24query%3A%20String!%20%24limit%3A%20Int!%20%24offset%3A%20Int!%20%24sort%3A%20SearchSort)%20%7B%20drdk%3A%20search(query%3A%20%24query%20logQuery%3A%20%24query%20limit%3A%20%24limit%20offset%3A%20%24offset%20products%3A%20%5B%22drdk%22%5D%20sort%3A%20%24sort)%20%7B%20totalCount%20results%3A%20nodes%20%7B%20type%3A%20__typename%20...%20on%20Article%20%7B%20...ArticleResultFields%20%7D%20...%20on%20Recipe%20%7B%20...RecipeResultFields%20%7D%20...%20on%20MusicArtist%20%7B%20...MusicArtistResultFields%20%7D%20...%20on%20UnknownSearchResult%20%7B%20...UnknownSearchResultFields%20%7D%20%7D%20spellCheck%20%7D%20%7D&variables=%7B%22query%22%3A%22c20%22%2C%22sort%22%3A%22Relevance%22%2C%22limit%22%3A10%2C%22offset%22%3A440%7D'\n",
    "headers = {'name':'Asta Thit Kettel', 'from':'ucph','email':'dnp@ku.dk'}\n",
    "response45 = requests.get(url45, headers)\n",
    "results45 = response45.json()\n",
    "result_articles45 = [{'urlPathId': article['urlPathId'], 'title': article['title']} for article in results45['data']['drdk']['results']]\n",
    "data45 = pd.DataFrame(result_articles45)"
   ]
  },
  {
   "cell_type": "code",
   "execution_count": 144,
   "id": "a96cd152-3c9d-414c-baef-042fcee62546",
   "metadata": {},
   "outputs": [],
   "source": [
    "url46 = f'https://www.dr.dk/tjenester/steffi/graphql?query=fragment%20ArticleResultFields%20on%20Article%20%7B%20type%3A%20__typename%20urn%20urlPathId%20title%20format%20publications%20%7B%20...on%20ArticlePublication%20%7B%20breaking%20live%20serviceChannel%20%7B%20urn%20%7D%20%7D%20%7D%20summary%20startDate%20teaserImage%20%7B%20default%20%7B%20url%20%7D%20%7D%20head%20%7B%20type%3A%20__typename%20...%20on%20MediaComponent%20%7B%20resource%20%7B%20type%3A%20__typename%20...%20on%20LiveMedia%20%7B%20urn%20mediaType%20%7D%20...%20on%20Clip%20%7B%20urn%20mediaType%20durationInMilliseconds%20%7D%20...%20on%20ClipBundle%20%7B%20items(limit%3A%201)%20%7B%20__typename%20urn%20durationInMilliseconds%20%7D%20%7D%20%7D%20%7D%20...%20on%20ImageCollectionComponent%20%7B%20images%20%7B%20default%3A%20image(key%3A%20%22default%22)%20%7B%20type%3A%20__typename%20%7D%20%7D%20%7D%20...%20on%20RatingComponent%20%7B%20rating%20%7D%20%7D%20contributions(limit%3A%201)%20%7B%20agent%20%7B%20...%20on%20Person%20%7B%20name%20%7D%20%7D%20role%20%7D%20site%20%7B%20url%20urn%20title%20presentation%20%7B%20colors%20teaserImage%20%7B%20default%3A%20image(key%3A%20%22default%22)%20%7B%20url%20%7D%20%7D%20%7D%20%7D%20%7D%20fragment%20RecipeResultFields%20on%20Recipe%20%7B%20title%20url%20image%20%7B%20url%20%7D%20startDate%20%7D%20fragment%20UnknownSearchResultFields%20on%20UnknownSearchResult%20%7B%20title%20url%20label%20image%20%7B%20url%20width%20height%20%7D%20%7D%20fragment%20MusicArtistResultFields%20on%20MusicArtist%20%7B%20url%20name%20image%20%7B%20url%20width%20height%20%7D%20%7D%20query%20SearchPageDRDK(%24query%3A%20String!%20%24limit%3A%20Int!%20%24offset%3A%20Int!%20%24sort%3A%20SearchSort)%20%7B%20drdk%3A%20search(query%3A%20%24query%20logQuery%3A%20%24query%20limit%3A%20%24limit%20offset%3A%20%24offset%20products%3A%20%5B%22drdk%22%5D%20sort%3A%20%24sort)%20%7B%20totalCount%20results%3A%20nodes%20%7B%20type%3A%20__typename%20...%20on%20Article%20%7B%20...ArticleResultFields%20%7D%20...%20on%20Recipe%20%7B%20...RecipeResultFields%20%7D%20...%20on%20MusicArtist%20%7B%20...MusicArtistResultFields%20%7D%20...%20on%20UnknownSearchResult%20%7B%20...UnknownSearchResultFields%20%7D%20%7D%20spellCheck%20%7D%20%7D&variables=%7B%22query%22%3A%22c20%22%2C%22sort%22%3A%22Relevance%22%2C%22limit%22%3A10%2C%22offset%22%3A450%7D'\n",
    "headers = {'name':'Asta Thit Kettel', 'from':'ucph','email':'dnp@ku.dk'}\n",
    "response46 = requests.get(url46, headers)\n",
    "results46 = response46.json()\n",
    "result_articles46 = [{'urlPathId': article['urlPathId'], 'title': article['title']} for article in results46['data']['drdk']['results']]\n",
    "data46 = pd.DataFrame(result_articles46)"
   ]
  },
  {
   "cell_type": "code",
   "execution_count": 145,
   "id": "9a58244b-e531-4da9-8a0e-e199f6069157",
   "metadata": {},
   "outputs": [],
   "source": [
    "url47 = f'https://www.dr.dk/tjenester/steffi/graphql?query=fragment%20ArticleResultFields%20on%20Article%20%7B%20type%3A%20__typename%20urn%20urlPathId%20title%20format%20publications%20%7B%20...on%20ArticlePublication%20%7B%20breaking%20live%20serviceChannel%20%7B%20urn%20%7D%20%7D%20%7D%20summary%20startDate%20teaserImage%20%7B%20default%20%7B%20url%20%7D%20%7D%20head%20%7B%20type%3A%20__typename%20...%20on%20MediaComponent%20%7B%20resource%20%7B%20type%3A%20__typename%20...%20on%20LiveMedia%20%7B%20urn%20mediaType%20%7D%20...%20on%20Clip%20%7B%20urn%20mediaType%20durationInMilliseconds%20%7D%20...%20on%20ClipBundle%20%7B%20items(limit%3A%201)%20%7B%20__typename%20urn%20durationInMilliseconds%20%7D%20%7D%20%7D%20%7D%20...%20on%20ImageCollectionComponent%20%7B%20images%20%7B%20default%3A%20image(key%3A%20%22default%22)%20%7B%20type%3A%20__typename%20%7D%20%7D%20%7D%20...%20on%20RatingComponent%20%7B%20rating%20%7D%20%7D%20contributions(limit%3A%201)%20%7B%20agent%20%7B%20...%20on%20Person%20%7B%20name%20%7D%20%7D%20role%20%7D%20site%20%7B%20url%20urn%20title%20presentation%20%7B%20colors%20teaserImage%20%7B%20default%3A%20image(key%3A%20%22default%22)%20%7B%20url%20%7D%20%7D%20%7D%20%7D%20%7D%20fragment%20RecipeResultFields%20on%20Recipe%20%7B%20title%20url%20image%20%7B%20url%20%7D%20startDate%20%7D%20fragment%20UnknownSearchResultFields%20on%20UnknownSearchResult%20%7B%20title%20url%20label%20image%20%7B%20url%20width%20height%20%7D%20%7D%20fragment%20MusicArtistResultFields%20on%20MusicArtist%20%7B%20url%20name%20image%20%7B%20url%20width%20height%20%7D%20%7D%20query%20SearchPageDRDK(%24query%3A%20String!%20%24limit%3A%20Int!%20%24offset%3A%20Int!%20%24sort%3A%20SearchSort)%20%7B%20drdk%3A%20search(query%3A%20%24query%20logQuery%3A%20%24query%20limit%3A%20%24limit%20offset%3A%20%24offset%20products%3A%20%5B%22drdk%22%5D%20sort%3A%20%24sort)%20%7B%20totalCount%20results%3A%20nodes%20%7B%20type%3A%20__typename%20...%20on%20Article%20%7B%20...ArticleResultFields%20%7D%20...%20on%20Recipe%20%7B%20...RecipeResultFields%20%7D%20...%20on%20MusicArtist%20%7B%20...MusicArtistResultFields%20%7D%20...%20on%20UnknownSearchResult%20%7B%20...UnknownSearchResultFields%20%7D%20%7D%20spellCheck%20%7D%20%7D&variables=%7B%22query%22%3A%22c20%22%2C%22sort%22%3A%22Relevance%22%2C%22limit%22%3A10%2C%22offset%22%3A460%7D'\n",
    "headers = {'name':'Asta Thit Kettel', 'from':'ucph','email':'dnp@ku.dk'}\n",
    "response47 = requests.get(url47, headers)\n",
    "results47 = response47.json()\n",
    "result_articles47 = [{'urlPathId': article['urlPathId'], 'title': article['title']} for article in results47['data']['drdk']['results']]\n",
    "data47 = pd.DataFrame(result_articles47)"
   ]
  },
  {
   "cell_type": "code",
   "execution_count": 146,
   "id": "78e3cf91-a3a3-47fd-b4a5-eae734073c75",
   "metadata": {},
   "outputs": [],
   "source": [
    "url48 = f'https://www.dr.dk/tjenester/steffi/graphql?query=fragment%20ArticleResultFields%20on%20Article%20%7B%20type%3A%20__typename%20urn%20urlPathId%20title%20format%20publications%20%7B%20...on%20ArticlePublication%20%7B%20breaking%20live%20serviceChannel%20%7B%20urn%20%7D%20%7D%20%7D%20summary%20startDate%20teaserImage%20%7B%20default%20%7B%20url%20%7D%20%7D%20head%20%7B%20type%3A%20__typename%20...%20on%20MediaComponent%20%7B%20resource%20%7B%20type%3A%20__typename%20...%20on%20LiveMedia%20%7B%20urn%20mediaType%20%7D%20...%20on%20Clip%20%7B%20urn%20mediaType%20durationInMilliseconds%20%7D%20...%20on%20ClipBundle%20%7B%20items(limit%3A%201)%20%7B%20__typename%20urn%20durationInMilliseconds%20%7D%20%7D%20%7D%20%7D%20...%20on%20ImageCollectionComponent%20%7B%20images%20%7B%20default%3A%20image(key%3A%20%22default%22)%20%7B%20type%3A%20__typename%20%7D%20%7D%20%7D%20...%20on%20RatingComponent%20%7B%20rating%20%7D%20%7D%20contributions(limit%3A%201)%20%7B%20agent%20%7B%20...%20on%20Person%20%7B%20name%20%7D%20%7D%20role%20%7D%20site%20%7B%20url%20urn%20title%20presentation%20%7B%20colors%20teaserImage%20%7B%20default%3A%20image(key%3A%20%22default%22)%20%7B%20url%20%7D%20%7D%20%7D%20%7D%20%7D%20fragment%20RecipeResultFields%20on%20Recipe%20%7B%20title%20url%20image%20%7B%20url%20%7D%20startDate%20%7D%20fragment%20UnknownSearchResultFields%20on%20UnknownSearchResult%20%7B%20title%20url%20label%20image%20%7B%20url%20width%20height%20%7D%20%7D%20fragment%20MusicArtistResultFields%20on%20MusicArtist%20%7B%20url%20name%20image%20%7B%20url%20width%20height%20%7D%20%7D%20query%20SearchPageDRDK(%24query%3A%20String!%20%24limit%3A%20Int!%20%24offset%3A%20Int!%20%24sort%3A%20SearchSort)%20%7B%20drdk%3A%20search(query%3A%20%24query%20logQuery%3A%20%24query%20limit%3A%20%24limit%20offset%3A%20%24offset%20products%3A%20%5B%22drdk%22%5D%20sort%3A%20%24sort)%20%7B%20totalCount%20results%3A%20nodes%20%7B%20type%3A%20__typename%20...%20on%20Article%20%7B%20...ArticleResultFields%20%7D%20...%20on%20Recipe%20%7B%20...RecipeResultFields%20%7D%20...%20on%20MusicArtist%20%7B%20...MusicArtistResultFields%20%7D%20...%20on%20UnknownSearchResult%20%7B%20...UnknownSearchResultFields%20%7D%20%7D%20spellCheck%20%7D%20%7D&variables=%7B%22query%22%3A%22c20%22%2C%22sort%22%3A%22Relevance%22%2C%22limit%22%3A10%2C%22offset%22%3A470%7D'\n",
    "headers = {'name':'Asta Thit Kettel', 'from':'ucph','email':'dnp@ku.dk'}\n",
    "response48 = requests.get(url48, headers)\n",
    "results48 = response48.json()\n",
    "result_articles48 = [{'urlPathId': article['urlPathId'], 'title': article['title']} for article in results48['data']['drdk']['results']]\n",
    "data48 = pd.DataFrame(result_articles48)"
   ]
  },
  {
   "cell_type": "code",
   "execution_count": 147,
   "id": "e11deaee-967d-47f6-9d9d-2a61b6247419",
   "metadata": {},
   "outputs": [],
   "source": [
    "url49 = f'https://www.dr.dk/tjenester/steffi/graphql?query=fragment%20ArticleResultFields%20on%20Article%20%7B%20type%3A%20__typename%20urn%20urlPathId%20title%20format%20publications%20%7B%20...on%20ArticlePublication%20%7B%20breaking%20live%20serviceChannel%20%7B%20urn%20%7D%20%7D%20%7D%20summary%20startDate%20teaserImage%20%7B%20default%20%7B%20url%20%7D%20%7D%20head%20%7B%20type%3A%20__typename%20...%20on%20MediaComponent%20%7B%20resource%20%7B%20type%3A%20__typename%20...%20on%20LiveMedia%20%7B%20urn%20mediaType%20%7D%20...%20on%20Clip%20%7B%20urn%20mediaType%20durationInMilliseconds%20%7D%20...%20on%20ClipBundle%20%7B%20items(limit%3A%201)%20%7B%20__typename%20urn%20durationInMilliseconds%20%7D%20%7D%20%7D%20%7D%20...%20on%20ImageCollectionComponent%20%7B%20images%20%7B%20default%3A%20image(key%3A%20%22default%22)%20%7B%20type%3A%20__typename%20%7D%20%7D%20%7D%20...%20on%20RatingComponent%20%7B%20rating%20%7D%20%7D%20contributions(limit%3A%201)%20%7B%20agent%20%7B%20...%20on%20Person%20%7B%20name%20%7D%20%7D%20role%20%7D%20site%20%7B%20url%20urn%20title%20presentation%20%7B%20colors%20teaserImage%20%7B%20default%3A%20image(key%3A%20%22default%22)%20%7B%20url%20%7D%20%7D%20%7D%20%7D%20%7D%20fragment%20RecipeResultFields%20on%20Recipe%20%7B%20title%20url%20image%20%7B%20url%20%7D%20startDate%20%7D%20fragment%20UnknownSearchResultFields%20on%20UnknownSearchResult%20%7B%20title%20url%20label%20image%20%7B%20url%20width%20height%20%7D%20%7D%20fragment%20MusicArtistResultFields%20on%20MusicArtist%20%7B%20url%20name%20image%20%7B%20url%20width%20height%20%7D%20%7D%20query%20SearchPageDRDK(%24query%3A%20String!%20%24limit%3A%20Int!%20%24offset%3A%20Int!%20%24sort%3A%20SearchSort)%20%7B%20drdk%3A%20search(query%3A%20%24query%20logQuery%3A%20%24query%20limit%3A%20%24limit%20offset%3A%20%24offset%20products%3A%20%5B%22drdk%22%5D%20sort%3A%20%24sort)%20%7B%20totalCount%20results%3A%20nodes%20%7B%20type%3A%20__typename%20...%20on%20Article%20%7B%20...ArticleResultFields%20%7D%20...%20on%20Recipe%20%7B%20...RecipeResultFields%20%7D%20...%20on%20MusicArtist%20%7B%20...MusicArtistResultFields%20%7D%20...%20on%20UnknownSearchResult%20%7B%20...UnknownSearchResultFields%20%7D%20%7D%20spellCheck%20%7D%20%7D&variables=%7B%22query%22%3A%22c20%22%2C%22sort%22%3A%22Relevance%22%2C%22limit%22%3A10%2C%22offset%22%3A480%7D'\n",
    "headers = {'name':'Asta Thit Kettel', 'from':'ucph','email':'dnp@ku.dk'}\n",
    "response49 = requests.get(url49, headers)\n",
    "results49 = response49.json()\n",
    "result_articles49 = [{'urlPathId': article['urlPathId'], 'title': article['title']} for article in results49['data']['drdk']['results']]\n",
    "data49 = pd.DataFrame(result_articles49)"
   ]
  },
  {
   "cell_type": "code",
   "execution_count": 148,
   "id": "9ac443e8-077f-4594-978b-55e46af702f3",
   "metadata": {},
   "outputs": [],
   "source": [
    "url50 = f'https://www.dr.dk/tjenester/steffi/graphql?query=fragment%20ArticleResultFields%20on%20Article%20%7B%20type%3A%20__typename%20urn%20urlPathId%20title%20format%20publications%20%7B%20...on%20ArticlePublication%20%7B%20breaking%20live%20serviceChannel%20%7B%20urn%20%7D%20%7D%20%7D%20summary%20startDate%20teaserImage%20%7B%20default%20%7B%20url%20%7D%20%7D%20head%20%7B%20type%3A%20__typename%20...%20on%20MediaComponent%20%7B%20resource%20%7B%20type%3A%20__typename%20...%20on%20LiveMedia%20%7B%20urn%20mediaType%20%7D%20...%20on%20Clip%20%7B%20urn%20mediaType%20durationInMilliseconds%20%7D%20...%20on%20ClipBundle%20%7B%20items(limit%3A%201)%20%7B%20__typename%20urn%20durationInMilliseconds%20%7D%20%7D%20%7D%20%7D%20...%20on%20ImageCollectionComponent%20%7B%20images%20%7B%20default%3A%20image(key%3A%20%22default%22)%20%7B%20type%3A%20__typename%20%7D%20%7D%20%7D%20...%20on%20RatingComponent%20%7B%20rating%20%7D%20%7D%20contributions(limit%3A%201)%20%7B%20agent%20%7B%20...%20on%20Person%20%7B%20name%20%7D%20%7D%20role%20%7D%20site%20%7B%20url%20urn%20title%20presentation%20%7B%20colors%20teaserImage%20%7B%20default%3A%20image(key%3A%20%22default%22)%20%7B%20url%20%7D%20%7D%20%7D%20%7D%20%7D%20fragment%20RecipeResultFields%20on%20Recipe%20%7B%20title%20url%20image%20%7B%20url%20%7D%20startDate%20%7D%20fragment%20UnknownSearchResultFields%20on%20UnknownSearchResult%20%7B%20title%20url%20label%20image%20%7B%20url%20width%20height%20%7D%20%7D%20fragment%20MusicArtistResultFields%20on%20MusicArtist%20%7B%20url%20name%20image%20%7B%20url%20width%20height%20%7D%20%7D%20query%20SearchPageDRDK(%24query%3A%20String!%20%24limit%3A%20Int!%20%24offset%3A%20Int!%20%24sort%3A%20SearchSort)%20%7B%20drdk%3A%20search(query%3A%20%24query%20logQuery%3A%20%24query%20limit%3A%20%24limit%20offset%3A%20%24offset%20products%3A%20%5B%22drdk%22%5D%20sort%3A%20%24sort)%20%7B%20totalCount%20results%3A%20nodes%20%7B%20type%3A%20__typename%20...%20on%20Article%20%7B%20...ArticleResultFields%20%7D%20...%20on%20Recipe%20%7B%20...RecipeResultFields%20%7D%20...%20on%20MusicArtist%20%7B%20...MusicArtistResultFields%20%7D%20...%20on%20UnknownSearchResult%20%7B%20...UnknownSearchResultFields%20%7D%20%7D%20spellCheck%20%7D%20%7D&variables=%7B%22query%22%3A%22c20%22%2C%22sort%22%3A%22Relevance%22%2C%22limit%22%3A10%2C%22offset%22%3A490%7D'\n",
    "headers = {'name':'Asta Thit Kettel', 'from':'ucph','email':'dnp@ku.dk'}\n",
    "response50 = requests.get(url50, headers)\n",
    "results50 = response50.json()\n",
    "result_articles50 = [{'urlPathId': article['urlPathId'], 'title': article['title']} for article in results50['data']['drdk']['results']]\n",
    "data50 = pd.DataFrame(result_articles50)"
   ]
  },
  {
   "cell_type": "code",
   "execution_count": 149,
   "id": "090fe04a-ce23-4bdf-8f24-3c736d6b131a",
   "metadata": {},
   "outputs": [],
   "source": [
    "url51 = f'https://www.dr.dk/tjenester/steffi/graphql?query=fragment%20ArticleResultFields%20on%20Article%20%7B%20type%3A%20__typename%20urn%20urlPathId%20title%20format%20publications%20%7B%20...on%20ArticlePublication%20%7B%20breaking%20live%20serviceChannel%20%7B%20urn%20%7D%20%7D%20%7D%20summary%20startDate%20teaserImage%20%7B%20default%20%7B%20url%20%7D%20%7D%20head%20%7B%20type%3A%20__typename%20...%20on%20MediaComponent%20%7B%20resource%20%7B%20type%3A%20__typename%20...%20on%20LiveMedia%20%7B%20urn%20mediaType%20%7D%20...%20on%20Clip%20%7B%20urn%20mediaType%20durationInMilliseconds%20%7D%20...%20on%20ClipBundle%20%7B%20items(limit%3A%201)%20%7B%20__typename%20urn%20durationInMilliseconds%20%7D%20%7D%20%7D%20%7D%20...%20on%20ImageCollectionComponent%20%7B%20images%20%7B%20default%3A%20image(key%3A%20%22default%22)%20%7B%20type%3A%20__typename%20%7D%20%7D%20%7D%20...%20on%20RatingComponent%20%7B%20rating%20%7D%20%7D%20contributions(limit%3A%201)%20%7B%20agent%20%7B%20...%20on%20Person%20%7B%20name%20%7D%20%7D%20role%20%7D%20site%20%7B%20url%20urn%20title%20presentation%20%7B%20colors%20teaserImage%20%7B%20default%3A%20image(key%3A%20%22default%22)%20%7B%20url%20%7D%20%7D%20%7D%20%7D%20%7D%20fragment%20RecipeResultFields%20on%20Recipe%20%7B%20title%20url%20image%20%7B%20url%20%7D%20startDate%20%7D%20fragment%20UnknownSearchResultFields%20on%20UnknownSearchResult%20%7B%20title%20url%20label%20image%20%7B%20url%20width%20height%20%7D%20%7D%20fragment%20MusicArtistResultFields%20on%20MusicArtist%20%7B%20url%20name%20image%20%7B%20url%20width%20height%20%7D%20%7D%20query%20SearchPageDRDK(%24query%3A%20String!%20%24limit%3A%20Int!%20%24offset%3A%20Int!%20%24sort%3A%20SearchSort)%20%7B%20drdk%3A%20search(query%3A%20%24query%20logQuery%3A%20%24query%20limit%3A%20%24limit%20offset%3A%20%24offset%20products%3A%20%5B%22drdk%22%5D%20sort%3A%20%24sort)%20%7B%20totalCount%20results%3A%20nodes%20%7B%20type%3A%20__typename%20...%20on%20Article%20%7B%20...ArticleResultFields%20%7D%20...%20on%20Recipe%20%7B%20...RecipeResultFields%20%7D%20...%20on%20MusicArtist%20%7B%20...MusicArtistResultFields%20%7D%20...%20on%20UnknownSearchResult%20%7B%20...UnknownSearchResultFields%20%7D%20%7D%20spellCheck%20%7D%20%7D&variables=%7B%22query%22%3A%22c20%22%2C%22sort%22%3A%22Relevance%22%2C%22limit%22%3A10%2C%22offset%22%3A500%7D'\n",
    "headers = {'name':'Asta Thit Kettel', 'from':'ucph','email':'dnp@ku.dk'}\n",
    "response51 = requests.get(url51, headers)\n",
    "results51 = response51.json()\n",
    "result_articles51 = [{'urlPathId': article['urlPathId'], 'title': article['title']} for article in results51['data']['drdk']['results']]\n",
    "data51 = pd.DataFrame(result_articles51)"
   ]
  },
  {
   "cell_type": "code",
   "execution_count": 150,
   "id": "4a49e34e-0834-4ebb-aea2-41305c7ca624",
   "metadata": {},
   "outputs": [],
   "source": [
    "url52 = f'https://www.dr.dk/tjenester/steffi/graphql?query=fragment%20ArticleResultFields%20on%20Article%20%7B%20type%3A%20__typename%20urn%20urlPathId%20title%20format%20publications%20%7B%20...on%20ArticlePublication%20%7B%20breaking%20live%20serviceChannel%20%7B%20urn%20%7D%20%7D%20%7D%20summary%20startDate%20teaserImage%20%7B%20default%20%7B%20url%20%7D%20%7D%20head%20%7B%20type%3A%20__typename%20...%20on%20MediaComponent%20%7B%20resource%20%7B%20type%3A%20__typename%20...%20on%20LiveMedia%20%7B%20urn%20mediaType%20%7D%20...%20on%20Clip%20%7B%20urn%20mediaType%20durationInMilliseconds%20%7D%20...%20on%20ClipBundle%20%7B%20items(limit%3A%201)%20%7B%20__typename%20urn%20durationInMilliseconds%20%7D%20%7D%20%7D%20%7D%20...%20on%20ImageCollectionComponent%20%7B%20images%20%7B%20default%3A%20image(key%3A%20%22default%22)%20%7B%20type%3A%20__typename%20%7D%20%7D%20%7D%20...%20on%20RatingComponent%20%7B%20rating%20%7D%20%7D%20contributions(limit%3A%201)%20%7B%20agent%20%7B%20...%20on%20Person%20%7B%20name%20%7D%20%7D%20role%20%7D%20site%20%7B%20url%20urn%20title%20presentation%20%7B%20colors%20teaserImage%20%7B%20default%3A%20image(key%3A%20%22default%22)%20%7B%20url%20%7D%20%7D%20%7D%20%7D%20%7D%20fragment%20RecipeResultFields%20on%20Recipe%20%7B%20title%20url%20image%20%7B%20url%20%7D%20startDate%20%7D%20fragment%20UnknownSearchResultFields%20on%20UnknownSearchResult%20%7B%20title%20url%20label%20image%20%7B%20url%20width%20height%20%7D%20%7D%20fragment%20MusicArtistResultFields%20on%20MusicArtist%20%7B%20url%20name%20image%20%7B%20url%20width%20height%20%7D%20%7D%20query%20SearchPageDRDK(%24query%3A%20String!%20%24limit%3A%20Int!%20%24offset%3A%20Int!%20%24sort%3A%20SearchSort)%20%7B%20drdk%3A%20search(query%3A%20%24query%20logQuery%3A%20%24query%20limit%3A%20%24limit%20offset%3A%20%24offset%20products%3A%20%5B%22drdk%22%5D%20sort%3A%20%24sort)%20%7B%20totalCount%20results%3A%20nodes%20%7B%20type%3A%20__typename%20...%20on%20Article%20%7B%20...ArticleResultFields%20%7D%20...%20on%20Recipe%20%7B%20...RecipeResultFields%20%7D%20...%20on%20MusicArtist%20%7B%20...MusicArtistResultFields%20%7D%20...%20on%20UnknownSearchResult%20%7B%20...UnknownSearchResultFields%20%7D%20%7D%20spellCheck%20%7D%20%7D&variables=%7B%22query%22%3A%22c20%22%2C%22sort%22%3A%22Relevance%22%2C%22limit%22%3A10%2C%22offset%22%3A510%7D'\n",
    "headers = {'name':'Asta Thit Kettel', 'from':'ucph','email':'dnp@ku.dk'}\n",
    "response52 = requests.get(url52, headers)\n",
    "results52 = response52.json()\n",
    "result_articles52 = [{'urlPathId': article['urlPathId'], 'title': article['title']} for article in results52['data']['drdk']['results']]\n",
    "data52 = pd.DataFrame(result_articles52)"
   ]
  },
  {
   "cell_type": "code",
   "execution_count": 151,
   "id": "8c053a61-0170-4031-9434-55226b8e0693",
   "metadata": {},
   "outputs": [],
   "source": [
    "url53 = f'https://www.dr.dk/tjenester/steffi/graphql?query=fragment%20ArticleResultFields%20on%20Article%20%7B%20type%3A%20__typename%20urn%20urlPathId%20title%20format%20publications%20%7B%20...on%20ArticlePublication%20%7B%20breaking%20live%20serviceChannel%20%7B%20urn%20%7D%20%7D%20%7D%20summary%20startDate%20teaserImage%20%7B%20default%20%7B%20url%20%7D%20%7D%20head%20%7B%20type%3A%20__typename%20...%20on%20MediaComponent%20%7B%20resource%20%7B%20type%3A%20__typename%20...%20on%20LiveMedia%20%7B%20urn%20mediaType%20%7D%20...%20on%20Clip%20%7B%20urn%20mediaType%20durationInMilliseconds%20%7D%20...%20on%20ClipBundle%20%7B%20items(limit%3A%201)%20%7B%20__typename%20urn%20durationInMilliseconds%20%7D%20%7D%20%7D%20%7D%20...%20on%20ImageCollectionComponent%20%7B%20images%20%7B%20default%3A%20image(key%3A%20%22default%22)%20%7B%20type%3A%20__typename%20%7D%20%7D%20%7D%20...%20on%20RatingComponent%20%7B%20rating%20%7D%20%7D%20contributions(limit%3A%201)%20%7B%20agent%20%7B%20...%20on%20Person%20%7B%20name%20%7D%20%7D%20role%20%7D%20site%20%7B%20url%20urn%20title%20presentation%20%7B%20colors%20teaserImage%20%7B%20default%3A%20image(key%3A%20%22default%22)%20%7B%20url%20%7D%20%7D%20%7D%20%7D%20%7D%20fragment%20RecipeResultFields%20on%20Recipe%20%7B%20title%20url%20image%20%7B%20url%20%7D%20startDate%20%7D%20fragment%20UnknownSearchResultFields%20on%20UnknownSearchResult%20%7B%20title%20url%20label%20image%20%7B%20url%20width%20height%20%7D%20%7D%20fragment%20MusicArtistResultFields%20on%20MusicArtist%20%7B%20url%20name%20image%20%7B%20url%20width%20height%20%7D%20%7D%20query%20SearchPageDRDK(%24query%3A%20String!%20%24limit%3A%20Int!%20%24offset%3A%20Int!%20%24sort%3A%20SearchSort)%20%7B%20drdk%3A%20search(query%3A%20%24query%20logQuery%3A%20%24query%20limit%3A%20%24limit%20offset%3A%20%24offset%20products%3A%20%5B%22drdk%22%5D%20sort%3A%20%24sort)%20%7B%20totalCount%20results%3A%20nodes%20%7B%20type%3A%20__typename%20...%20on%20Article%20%7B%20...ArticleResultFields%20%7D%20...%20on%20Recipe%20%7B%20...RecipeResultFields%20%7D%20...%20on%20MusicArtist%20%7B%20...MusicArtistResultFields%20%7D%20...%20on%20UnknownSearchResult%20%7B%20...UnknownSearchResultFields%20%7D%20%7D%20spellCheck%20%7D%20%7D&variables=%7B%22query%22%3A%22c20%22%2C%22sort%22%3A%22Relevance%22%2C%22limit%22%3A10%2C%22offset%22%3A520%7D'\n",
    "headers = {'name':'Asta Thit Kettel', 'from':'ucph','email':'dnp@ku.dk'}\n",
    "response53 = requests.get(url53, headers)\n",
    "results53 = response53.json()\n",
    "result_articles53 = [{'urlPathId': article['urlPathId'], 'title': article['title']} for article in results53['data']['drdk']['results']]\n",
    "data53 = pd.DataFrame(result_articles53)"
   ]
  },
  {
   "cell_type": "code",
   "execution_count": 153,
   "id": "d6bad64b-c777-4327-8527-a064fae40f70",
   "metadata": {},
   "outputs": [],
   "source": [
    "url54 = f'https://www.dr.dk/tjenester/steffi/graphql?query=fragment%20ArticleResultFields%20on%20Article%20%7B%20type%3A%20__typename%20urn%20urlPathId%20title%20format%20publications%20%7B%20...on%20ArticlePublication%20%7B%20breaking%20live%20serviceChannel%20%7B%20urn%20%7D%20%7D%20%7D%20summary%20startDate%20teaserImage%20%7B%20default%20%7B%20url%20%7D%20%7D%20head%20%7B%20type%3A%20__typename%20...%20on%20MediaComponent%20%7B%20resource%20%7B%20type%3A%20__typename%20...%20on%20LiveMedia%20%7B%20urn%20mediaType%20%7D%20...%20on%20Clip%20%7B%20urn%20mediaType%20durationInMilliseconds%20%7D%20...%20on%20ClipBundle%20%7B%20items(limit%3A%201)%20%7B%20__typename%20urn%20durationInMilliseconds%20%7D%20%7D%20%7D%20%7D%20...%20on%20ImageCollectionComponent%20%7B%20images%20%7B%20default%3A%20image(key%3A%20%22default%22)%20%7B%20type%3A%20__typename%20%7D%20%7D%20%7D%20...%20on%20RatingComponent%20%7B%20rating%20%7D%20%7D%20contributions(limit%3A%201)%20%7B%20agent%20%7B%20...%20on%20Person%20%7B%20name%20%7D%20%7D%20role%20%7D%20site%20%7B%20url%20urn%20title%20presentation%20%7B%20colors%20teaserImage%20%7B%20default%3A%20image(key%3A%20%22default%22)%20%7B%20url%20%7D%20%7D%20%7D%20%7D%20%7D%20fragment%20RecipeResultFields%20on%20Recipe%20%7B%20title%20url%20image%20%7B%20url%20%7D%20startDate%20%7D%20fragment%20UnknownSearchResultFields%20on%20UnknownSearchResult%20%7B%20title%20url%20label%20image%20%7B%20url%20width%20height%20%7D%20%7D%20fragment%20MusicArtistResultFields%20on%20MusicArtist%20%7B%20url%20name%20image%20%7B%20url%20width%20height%20%7D%20%7D%20query%20SearchPageDRDK(%24query%3A%20String!%20%24limit%3A%20Int!%20%24offset%3A%20Int!%20%24sort%3A%20SearchSort)%20%7B%20drdk%3A%20search(query%3A%20%24query%20logQuery%3A%20%24query%20limit%3A%20%24limit%20offset%3A%20%24offset%20products%3A%20%5B%22drdk%22%5D%20sort%3A%20%24sort)%20%7B%20totalCount%20results%3A%20nodes%20%7B%20type%3A%20__typename%20...%20on%20Article%20%7B%20...ArticleResultFields%20%7D%20...%20on%20Recipe%20%7B%20...RecipeResultFields%20%7D%20...%20on%20MusicArtist%20%7B%20...MusicArtistResultFields%20%7D%20...%20on%20UnknownSearchResult%20%7B%20...UnknownSearchResultFields%20%7D%20%7D%20spellCheck%20%7D%20%7D&variables=%7B%22query%22%3A%22c20%22%2C%22sort%22%3A%22Relevance%22%2C%22limit%22%3A10%2C%22offset%22%3A530%7D'\n",
    "headers = {'name':'Asta Thit Kettel', 'from':'ucph','email':'dnp@ku.dk'}\n",
    "response54 = requests.get(url54, headers)\n",
    "results54 = response54.json()\n",
    "result_articles54 = [{'urlPathId': article['urlPathId'], 'title': article['title']} for article in results54['data']['drdk']['results']]\n",
    "data54 = pd.DataFrame(result_articles54)"
   ]
  },
  {
   "cell_type": "code",
   "execution_count": 154,
   "id": "3c71c219-4bd6-43ee-b8fd-02b1c8764e41",
   "metadata": {},
   "outputs": [],
   "source": [
    "url55 = f'https://www.dr.dk/tjenester/steffi/graphql?query=fragment%20ArticleResultFields%20on%20Article%20%7B%20type%3A%20__typename%20urn%20urlPathId%20title%20format%20publications%20%7B%20...on%20ArticlePublication%20%7B%20breaking%20live%20serviceChannel%20%7B%20urn%20%7D%20%7D%20%7D%20summary%20startDate%20teaserImage%20%7B%20default%20%7B%20url%20%7D%20%7D%20head%20%7B%20type%3A%20__typename%20...%20on%20MediaComponent%20%7B%20resource%20%7B%20type%3A%20__typename%20...%20on%20LiveMedia%20%7B%20urn%20mediaType%20%7D%20...%20on%20Clip%20%7B%20urn%20mediaType%20durationInMilliseconds%20%7D%20...%20on%20ClipBundle%20%7B%20items(limit%3A%201)%20%7B%20__typename%20urn%20durationInMilliseconds%20%7D%20%7D%20%7D%20%7D%20...%20on%20ImageCollectionComponent%20%7B%20images%20%7B%20default%3A%20image(key%3A%20%22default%22)%20%7B%20type%3A%20__typename%20%7D%20%7D%20%7D%20...%20on%20RatingComponent%20%7B%20rating%20%7D%20%7D%20contributions(limit%3A%201)%20%7B%20agent%20%7B%20...%20on%20Person%20%7B%20name%20%7D%20%7D%20role%20%7D%20site%20%7B%20url%20urn%20title%20presentation%20%7B%20colors%20teaserImage%20%7B%20default%3A%20image(key%3A%20%22default%22)%20%7B%20url%20%7D%20%7D%20%7D%20%7D%20%7D%20fragment%20RecipeResultFields%20on%20Recipe%20%7B%20title%20url%20image%20%7B%20url%20%7D%20startDate%20%7D%20fragment%20UnknownSearchResultFields%20on%20UnknownSearchResult%20%7B%20title%20url%20label%20image%20%7B%20url%20width%20height%20%7D%20%7D%20fragment%20MusicArtistResultFields%20on%20MusicArtist%20%7B%20url%20name%20image%20%7B%20url%20width%20height%20%7D%20%7D%20query%20SearchPageDRDK(%24query%3A%20String!%20%24limit%3A%20Int!%20%24offset%3A%20Int!%20%24sort%3A%20SearchSort)%20%7B%20drdk%3A%20search(query%3A%20%24query%20logQuery%3A%20%24query%20limit%3A%20%24limit%20offset%3A%20%24offset%20products%3A%20%5B%22drdk%22%5D%20sort%3A%20%24sort)%20%7B%20totalCount%20results%3A%20nodes%20%7B%20type%3A%20__typename%20...%20on%20Article%20%7B%20...ArticleResultFields%20%7D%20...%20on%20Recipe%20%7B%20...RecipeResultFields%20%7D%20...%20on%20MusicArtist%20%7B%20...MusicArtistResultFields%20%7D%20...%20on%20UnknownSearchResult%20%7B%20...UnknownSearchResultFields%20%7D%20%7D%20spellCheck%20%7D%20%7D&variables=%7B%22query%22%3A%22c20%22%2C%22sort%22%3A%22Relevance%22%2C%22limit%22%3A10%2C%22offset%22%3A540%7D'\n",
    "headers = {'name':'Asta Thit Kettel', 'from':'ucph','email':'dnp@ku.dk'}\n",
    "response55 = requests.get(url55, headers)\n",
    "results55 = response55.json()\n",
    "result_articles55 = [{'urlPathId': article['urlPathId'], 'title': article['title']} for article in results55['data']['drdk']['results']]\n",
    "data55 = pd.DataFrame(result_articles55)"
   ]
  },
  {
   "cell_type": "code",
   "execution_count": 155,
   "id": "fd0ee2a6-743f-4ca4-83db-1d2050130deb",
   "metadata": {},
   "outputs": [],
   "source": [
    "url56 = f'https://www.dr.dk/tjenester/steffi/graphql?query=fragment%20ArticleResultFields%20on%20Article%20%7B%20type%3A%20__typename%20urn%20urlPathId%20title%20format%20publications%20%7B%20...on%20ArticlePublication%20%7B%20breaking%20live%20serviceChannel%20%7B%20urn%20%7D%20%7D%20%7D%20summary%20startDate%20teaserImage%20%7B%20default%20%7B%20url%20%7D%20%7D%20head%20%7B%20type%3A%20__typename%20...%20on%20MediaComponent%20%7B%20resource%20%7B%20type%3A%20__typename%20...%20on%20LiveMedia%20%7B%20urn%20mediaType%20%7D%20...%20on%20Clip%20%7B%20urn%20mediaType%20durationInMilliseconds%20%7D%20...%20on%20ClipBundle%20%7B%20items(limit%3A%201)%20%7B%20__typename%20urn%20durationInMilliseconds%20%7D%20%7D%20%7D%20%7D%20...%20on%20ImageCollectionComponent%20%7B%20images%20%7B%20default%3A%20image(key%3A%20%22default%22)%20%7B%20type%3A%20__typename%20%7D%20%7D%20%7D%20...%20on%20RatingComponent%20%7B%20rating%20%7D%20%7D%20contributions(limit%3A%201)%20%7B%20agent%20%7B%20...%20on%20Person%20%7B%20name%20%7D%20%7D%20role%20%7D%20site%20%7B%20url%20urn%20title%20presentation%20%7B%20colors%20teaserImage%20%7B%20default%3A%20image(key%3A%20%22default%22)%20%7B%20url%20%7D%20%7D%20%7D%20%7D%20%7D%20fragment%20RecipeResultFields%20on%20Recipe%20%7B%20title%20url%20image%20%7B%20url%20%7D%20startDate%20%7D%20fragment%20UnknownSearchResultFields%20on%20UnknownSearchResult%20%7B%20title%20url%20label%20image%20%7B%20url%20width%20height%20%7D%20%7D%20fragment%20MusicArtistResultFields%20on%20MusicArtist%20%7B%20url%20name%20image%20%7B%20url%20width%20height%20%7D%20%7D%20query%20SearchPageDRDK(%24query%3A%20String!%20%24limit%3A%20Int!%20%24offset%3A%20Int!%20%24sort%3A%20SearchSort)%20%7B%20drdk%3A%20search(query%3A%20%24query%20logQuery%3A%20%24query%20limit%3A%20%24limit%20offset%3A%20%24offset%20products%3A%20%5B%22drdk%22%5D%20sort%3A%20%24sort)%20%7B%20totalCount%20results%3A%20nodes%20%7B%20type%3A%20__typename%20...%20on%20Article%20%7B%20...ArticleResultFields%20%7D%20...%20on%20Recipe%20%7B%20...RecipeResultFields%20%7D%20...%20on%20MusicArtist%20%7B%20...MusicArtistResultFields%20%7D%20...%20on%20UnknownSearchResult%20%7B%20...UnknownSearchResultFields%20%7D%20%7D%20spellCheck%20%7D%20%7D&variables=%7B%22query%22%3A%22c20%22%2C%22sort%22%3A%22Relevance%22%2C%22limit%22%3A10%2C%22offset%22%3A550%7D'\n",
    "headers = {'name':'Asta Thit Kettel', 'from':'ucph','email':'dnp@ku.dk'}\n",
    "response56 = requests.get(url56, headers)\n",
    "results56 = response56.json()\n",
    "result_articles56 = [{'urlPathId': article['urlPathId'], 'title': article['title']} for article in results56['data']['drdk']['results']]\n",
    "data56 = pd.DataFrame(result_articles56)"
   ]
  },
  {
   "cell_type": "code",
   "execution_count": 156,
   "id": "c56f2923-7d9a-4d41-b36f-d3f9cdb9b307",
   "metadata": {},
   "outputs": [],
   "source": [
    "url57 = f'https://www.dr.dk/tjenester/steffi/graphql?query=fragment%20ArticleResultFields%20on%20Article%20%7B%20type%3A%20__typename%20urn%20urlPathId%20title%20format%20publications%20%7B%20...on%20ArticlePublication%20%7B%20breaking%20live%20serviceChannel%20%7B%20urn%20%7D%20%7D%20%7D%20summary%20startDate%20teaserImage%20%7B%20default%20%7B%20url%20%7D%20%7D%20head%20%7B%20type%3A%20__typename%20...%20on%20MediaComponent%20%7B%20resource%20%7B%20type%3A%20__typename%20...%20on%20LiveMedia%20%7B%20urn%20mediaType%20%7D%20...%20on%20Clip%20%7B%20urn%20mediaType%20durationInMilliseconds%20%7D%20...%20on%20ClipBundle%20%7B%20items(limit%3A%201)%20%7B%20__typename%20urn%20durationInMilliseconds%20%7D%20%7D%20%7D%20%7D%20...%20on%20ImageCollectionComponent%20%7B%20images%20%7B%20default%3A%20image(key%3A%20%22default%22)%20%7B%20type%3A%20__typename%20%7D%20%7D%20%7D%20...%20on%20RatingComponent%20%7B%20rating%20%7D%20%7D%20contributions(limit%3A%201)%20%7B%20agent%20%7B%20...%20on%20Person%20%7B%20name%20%7D%20%7D%20role%20%7D%20site%20%7B%20url%20urn%20title%20presentation%20%7B%20colors%20teaserImage%20%7B%20default%3A%20image(key%3A%20%22default%22)%20%7B%20url%20%7D%20%7D%20%7D%20%7D%20%7D%20fragment%20RecipeResultFields%20on%20Recipe%20%7B%20title%20url%20image%20%7B%20url%20%7D%20startDate%20%7D%20fragment%20UnknownSearchResultFields%20on%20UnknownSearchResult%20%7B%20title%20url%20label%20image%20%7B%20url%20width%20height%20%7D%20%7D%20fragment%20MusicArtistResultFields%20on%20MusicArtist%20%7B%20url%20name%20image%20%7B%20url%20width%20height%20%7D%20%7D%20query%20SearchPageDRDK(%24query%3A%20String!%20%24limit%3A%20Int!%20%24offset%3A%20Int!%20%24sort%3A%20SearchSort)%20%7B%20drdk%3A%20search(query%3A%20%24query%20logQuery%3A%20%24query%20limit%3A%20%24limit%20offset%3A%20%24offset%20products%3A%20%5B%22drdk%22%5D%20sort%3A%20%24sort)%20%7B%20totalCount%20results%3A%20nodes%20%7B%20type%3A%20__typename%20...%20on%20Article%20%7B%20...ArticleResultFields%20%7D%20...%20on%20Recipe%20%7B%20...RecipeResultFields%20%7D%20...%20on%20MusicArtist%20%7B%20...MusicArtistResultFields%20%7D%20...%20on%20UnknownSearchResult%20%7B%20...UnknownSearchResultFields%20%7D%20%7D%20spellCheck%20%7D%20%7D&variables=%7B%22query%22%3A%22c20%22%2C%22sort%22%3A%22Relevance%22%2C%22limit%22%3A10%2C%22offset%22%3A560%7D'\n",
    "headers = {'name':'Asta Thit Kettel', 'from':'ucph','email':'dnp@ku.dk'}\n",
    "response57 = requests.get(url57, headers)\n",
    "results57 = response57.json()\n",
    "result_articles57 = [{'urlPathId': article['urlPathId'], 'title': article['title']} for article in results57['data']['drdk']['results']]\n",
    "data57 = pd.DataFrame(result_articles57)"
   ]
  },
  {
   "cell_type": "code",
   "execution_count": 157,
   "id": "9ae520ca-265c-46de-96eb-f3adc43e303c",
   "metadata": {},
   "outputs": [],
   "source": [
    "url58 = f'https://www.dr.dk/tjenester/steffi/graphql?query=fragment%20ArticleResultFields%20on%20Article%20%7B%20type%3A%20__typename%20urn%20urlPathId%20title%20format%20publications%20%7B%20...on%20ArticlePublication%20%7B%20breaking%20live%20serviceChannel%20%7B%20urn%20%7D%20%7D%20%7D%20summary%20startDate%20teaserImage%20%7B%20default%20%7B%20url%20%7D%20%7D%20head%20%7B%20type%3A%20__typename%20...%20on%20MediaComponent%20%7B%20resource%20%7B%20type%3A%20__typename%20...%20on%20LiveMedia%20%7B%20urn%20mediaType%20%7D%20...%20on%20Clip%20%7B%20urn%20mediaType%20durationInMilliseconds%20%7D%20...%20on%20ClipBundle%20%7B%20items(limit%3A%201)%20%7B%20__typename%20urn%20durationInMilliseconds%20%7D%20%7D%20%7D%20%7D%20...%20on%20ImageCollectionComponent%20%7B%20images%20%7B%20default%3A%20image(key%3A%20%22default%22)%20%7B%20type%3A%20__typename%20%7D%20%7D%20%7D%20...%20on%20RatingComponent%20%7B%20rating%20%7D%20%7D%20contributions(limit%3A%201)%20%7B%20agent%20%7B%20...%20on%20Person%20%7B%20name%20%7D%20%7D%20role%20%7D%20site%20%7B%20url%20urn%20title%20presentation%20%7B%20colors%20teaserImage%20%7B%20default%3A%20image(key%3A%20%22default%22)%20%7B%20url%20%7D%20%7D%20%7D%20%7D%20%7D%20fragment%20RecipeResultFields%20on%20Recipe%20%7B%20title%20url%20image%20%7B%20url%20%7D%20startDate%20%7D%20fragment%20UnknownSearchResultFields%20on%20UnknownSearchResult%20%7B%20title%20url%20label%20image%20%7B%20url%20width%20height%20%7D%20%7D%20fragment%20MusicArtistResultFields%20on%20MusicArtist%20%7B%20url%20name%20image%20%7B%20url%20width%20height%20%7D%20%7D%20query%20SearchPageDRDK(%24query%3A%20String!%20%24limit%3A%20Int!%20%24offset%3A%20Int!%20%24sort%3A%20SearchSort)%20%7B%20drdk%3A%20search(query%3A%20%24query%20logQuery%3A%20%24query%20limit%3A%20%24limit%20offset%3A%20%24offset%20products%3A%20%5B%22drdk%22%5D%20sort%3A%20%24sort)%20%7B%20totalCount%20results%3A%20nodes%20%7B%20type%3A%20__typename%20...%20on%20Article%20%7B%20...ArticleResultFields%20%7D%20...%20on%20Recipe%20%7B%20...RecipeResultFields%20%7D%20...%20on%20MusicArtist%20%7B%20...MusicArtistResultFields%20%7D%20...%20on%20UnknownSearchResult%20%7B%20...UnknownSearchResultFields%20%7D%20%7D%20spellCheck%20%7D%20%7D&variables=%7B%22query%22%3A%22c20%22%2C%22sort%22%3A%22Relevance%22%2C%22limit%22%3A10%2C%22offset%22%3A570%7D'\n",
    "headers = {'name':'Asta Thit Kettel', 'from':'ucph','email':'dnp@ku.dk'}\n",
    "response58 = requests.get(url58, headers)\n",
    "results58 = response58.json()\n",
    "result_articles58 = [{'urlPathId': article['urlPathId'], 'title': article['title']} for article in results58['data']['drdk']['results']]\n",
    "data58 = pd.DataFrame(result_articles58)"
   ]
  },
  {
   "cell_type": "code",
   "execution_count": 158,
   "id": "5292a271-de2b-450f-84dd-fdae94d5fdd4",
   "metadata": {},
   "outputs": [],
   "source": [
    "url59 = f'https://www.dr.dk/tjenester/steffi/graphql?query=fragment%20ArticleResultFields%20on%20Article%20%7B%20type%3A%20__typename%20urn%20urlPathId%20title%20format%20publications%20%7B%20...on%20ArticlePublication%20%7B%20breaking%20live%20serviceChannel%20%7B%20urn%20%7D%20%7D%20%7D%20summary%20startDate%20teaserImage%20%7B%20default%20%7B%20url%20%7D%20%7D%20head%20%7B%20type%3A%20__typename%20...%20on%20MediaComponent%20%7B%20resource%20%7B%20type%3A%20__typename%20...%20on%20LiveMedia%20%7B%20urn%20mediaType%20%7D%20...%20on%20Clip%20%7B%20urn%20mediaType%20durationInMilliseconds%20%7D%20...%20on%20ClipBundle%20%7B%20items(limit%3A%201)%20%7B%20__typename%20urn%20durationInMilliseconds%20%7D%20%7D%20%7D%20%7D%20...%20on%20ImageCollectionComponent%20%7B%20images%20%7B%20default%3A%20image(key%3A%20%22default%22)%20%7B%20type%3A%20__typename%20%7D%20%7D%20%7D%20...%20on%20RatingComponent%20%7B%20rating%20%7D%20%7D%20contributions(limit%3A%201)%20%7B%20agent%20%7B%20...%20on%20Person%20%7B%20name%20%7D%20%7D%20role%20%7D%20site%20%7B%20url%20urn%20title%20presentation%20%7B%20colors%20teaserImage%20%7B%20default%3A%20image(key%3A%20%22default%22)%20%7B%20url%20%7D%20%7D%20%7D%20%7D%20%7D%20fragment%20RecipeResultFields%20on%20Recipe%20%7B%20title%20url%20image%20%7B%20url%20%7D%20startDate%20%7D%20fragment%20UnknownSearchResultFields%20on%20UnknownSearchResult%20%7B%20title%20url%20label%20image%20%7B%20url%20width%20height%20%7D%20%7D%20fragment%20MusicArtistResultFields%20on%20MusicArtist%20%7B%20url%20name%20image%20%7B%20url%20width%20height%20%7D%20%7D%20query%20SearchPageDRDK(%24query%3A%20String!%20%24limit%3A%20Int!%20%24offset%3A%20Int!%20%24sort%3A%20SearchSort)%20%7B%20drdk%3A%20search(query%3A%20%24query%20logQuery%3A%20%24query%20limit%3A%20%24limit%20offset%3A%20%24offset%20products%3A%20%5B%22drdk%22%5D%20sort%3A%20%24sort)%20%7B%20totalCount%20results%3A%20nodes%20%7B%20type%3A%20__typename%20...%20on%20Article%20%7B%20...ArticleResultFields%20%7D%20...%20on%20Recipe%20%7B%20...RecipeResultFields%20%7D%20...%20on%20MusicArtist%20%7B%20...MusicArtistResultFields%20%7D%20...%20on%20UnknownSearchResult%20%7B%20...UnknownSearchResultFields%20%7D%20%7D%20spellCheck%20%7D%20%7D&variables=%7B%22query%22%3A%22c20%22%2C%22sort%22%3A%22Relevance%22%2C%22limit%22%3A10%2C%22offset%22%3A580%7D'\n",
    "headers = {'name':'Asta Thit Kettel', 'from':'ucph','email':'dnp@ku.dk'}\n",
    "response59 = requests.get(url59, headers)\n",
    "results59 = response59.json()\n",
    "result_articles59 = [{'urlPathId': article['urlPathId'], 'title': article['title']} for article in results59['data']['drdk']['results']]\n",
    "data59 = pd.DataFrame(result_articles59)"
   ]
  },
  {
   "cell_type": "code",
   "execution_count": 159,
   "id": "4a9c0cf7-090f-42fe-9eac-0102bae14ded",
   "metadata": {},
   "outputs": [],
   "source": [
    "url60 = f'https://www.dr.dk/tjenester/steffi/graphql?query=fragment%20ArticleResultFields%20on%20Article%20%7B%20type%3A%20__typename%20urn%20urlPathId%20title%20format%20publications%20%7B%20...on%20ArticlePublication%20%7B%20breaking%20live%20serviceChannel%20%7B%20urn%20%7D%20%7D%20%7D%20summary%20startDate%20teaserImage%20%7B%20default%20%7B%20url%20%7D%20%7D%20head%20%7B%20type%3A%20__typename%20...%20on%20MediaComponent%20%7B%20resource%20%7B%20type%3A%20__typename%20...%20on%20LiveMedia%20%7B%20urn%20mediaType%20%7D%20...%20on%20Clip%20%7B%20urn%20mediaType%20durationInMilliseconds%20%7D%20...%20on%20ClipBundle%20%7B%20items(limit%3A%201)%20%7B%20__typename%20urn%20durationInMilliseconds%20%7D%20%7D%20%7D%20%7D%20...%20on%20ImageCollectionComponent%20%7B%20images%20%7B%20default%3A%20image(key%3A%20%22default%22)%20%7B%20type%3A%20__typename%20%7D%20%7D%20%7D%20...%20on%20RatingComponent%20%7B%20rating%20%7D%20%7D%20contributions(limit%3A%201)%20%7B%20agent%20%7B%20...%20on%20Person%20%7B%20name%20%7D%20%7D%20role%20%7D%20site%20%7B%20url%20urn%20title%20presentation%20%7B%20colors%20teaserImage%20%7B%20default%3A%20image(key%3A%20%22default%22)%20%7B%20url%20%7D%20%7D%20%7D%20%7D%20%7D%20fragment%20RecipeResultFields%20on%20Recipe%20%7B%20title%20url%20image%20%7B%20url%20%7D%20startDate%20%7D%20fragment%20UnknownSearchResultFields%20on%20UnknownSearchResult%20%7B%20title%20url%20label%20image%20%7B%20url%20width%20height%20%7D%20%7D%20fragment%20MusicArtistResultFields%20on%20MusicArtist%20%7B%20url%20name%20image%20%7B%20url%20width%20height%20%7D%20%7D%20query%20SearchPageDRDK(%24query%3A%20String!%20%24limit%3A%20Int!%20%24offset%3A%20Int!%20%24sort%3A%20SearchSort)%20%7B%20drdk%3A%20search(query%3A%20%24query%20logQuery%3A%20%24query%20limit%3A%20%24limit%20offset%3A%20%24offset%20products%3A%20%5B%22drdk%22%5D%20sort%3A%20%24sort)%20%7B%20totalCount%20results%3A%20nodes%20%7B%20type%3A%20__typename%20...%20on%20Article%20%7B%20...ArticleResultFields%20%7D%20...%20on%20Recipe%20%7B%20...RecipeResultFields%20%7D%20...%20on%20MusicArtist%20%7B%20...MusicArtistResultFields%20%7D%20...%20on%20UnknownSearchResult%20%7B%20...UnknownSearchResultFields%20%7D%20%7D%20spellCheck%20%7D%20%7D&variables=%7B%22query%22%3A%22c20%22%2C%22sort%22%3A%22Relevance%22%2C%22limit%22%3A10%2C%22offset%22%3A590%7D'\n",
    "headers = {'name':'Asta Thit Kettel', 'from':'ucph','email':'dnp@ku.dk'}\n",
    "response60 = requests.get(url60, headers)\n",
    "results60 = response60.json()\n",
    "result_articles60 = [{'urlPathId': article['urlPathId'], 'title': article['title']} for article in results60['data']['drdk']['results']]\n",
    "data60 = pd.DataFrame(result_articles60)"
   ]
  },
  {
   "cell_type": "code",
   "execution_count": 161,
   "id": "60e09528-cadd-4245-ae9c-13e5ea1093b1",
   "metadata": {},
   "outputs": [],
   "source": [
    "url61 = f'https://www.dr.dk/tjenester/steffi/graphql?query=fragment%20ArticleResultFields%20on%20Article%20%7B%20type%3A%20__typename%20urn%20urlPathId%20title%20format%20publications%20%7B%20...on%20ArticlePublication%20%7B%20breaking%20live%20serviceChannel%20%7B%20urn%20%7D%20%7D%20%7D%20summary%20startDate%20teaserImage%20%7B%20default%20%7B%20url%20%7D%20%7D%20head%20%7B%20type%3A%20__typename%20...%20on%20MediaComponent%20%7B%20resource%20%7B%20type%3A%20__typename%20...%20on%20LiveMedia%20%7B%20urn%20mediaType%20%7D%20...%20on%20Clip%20%7B%20urn%20mediaType%20durationInMilliseconds%20%7D%20...%20on%20ClipBundle%20%7B%20items(limit%3A%201)%20%7B%20__typename%20urn%20durationInMilliseconds%20%7D%20%7D%20%7D%20%7D%20...%20on%20ImageCollectionComponent%20%7B%20images%20%7B%20default%3A%20image(key%3A%20%22default%22)%20%7B%20type%3A%20__typename%20%7D%20%7D%20%7D%20...%20on%20RatingComponent%20%7B%20rating%20%7D%20%7D%20contributions(limit%3A%201)%20%7B%20agent%20%7B%20...%20on%20Person%20%7B%20name%20%7D%20%7D%20role%20%7D%20site%20%7B%20url%20urn%20title%20presentation%20%7B%20colors%20teaserImage%20%7B%20default%3A%20image(key%3A%20%22default%22)%20%7B%20url%20%7D%20%7D%20%7D%20%7D%20%7D%20fragment%20RecipeResultFields%20on%20Recipe%20%7B%20title%20url%20image%20%7B%20url%20%7D%20startDate%20%7D%20fragment%20UnknownSearchResultFields%20on%20UnknownSearchResult%20%7B%20title%20url%20label%20image%20%7B%20url%20width%20height%20%7D%20%7D%20fragment%20MusicArtistResultFields%20on%20MusicArtist%20%7B%20url%20name%20image%20%7B%20url%20width%20height%20%7D%20%7D%20query%20SearchPageDRDK(%24query%3A%20String!%20%24limit%3A%20Int!%20%24offset%3A%20Int!%20%24sort%3A%20SearchSort)%20%7B%20drdk%3A%20search(query%3A%20%24query%20logQuery%3A%20%24query%20limit%3A%20%24limit%20offset%3A%20%24offset%20products%3A%20%5B%22drdk%22%5D%20sort%3A%20%24sort)%20%7B%20totalCount%20results%3A%20nodes%20%7B%20type%3A%20__typename%20...%20on%20Article%20%7B%20...ArticleResultFields%20%7D%20...%20on%20Recipe%20%7B%20...RecipeResultFields%20%7D%20...%20on%20MusicArtist%20%7B%20...MusicArtistResultFields%20%7D%20...%20on%20UnknownSearchResult%20%7B%20...UnknownSearchResultFields%20%7D%20%7D%20spellCheck%20%7D%20%7D&variables=%7B%22query%22%3A%22c20%22%2C%22sort%22%3A%22Relevance%22%2C%22limit%22%3A10%2C%22offset%22%3A600%7D'\n",
    "headers = {'name':'Asta Thit Kettel', 'from':'ucph','email':'dnp@ku.dk'}\n",
    "response61 = requests.get(url61, headers)\n",
    "results61 = response61.json()\n",
    "result_articles61 = [{'urlPathId': article['urlPathId'], 'title': article['title']} for article in results61['data']['drdk']['results']]\n",
    "data61 = pd.DataFrame(result_articles61)"
   ]
  },
  {
   "cell_type": "code",
   "execution_count": 162,
   "id": "c5416d38-ecc2-4ab3-bb68-ceab23f95d2e",
   "metadata": {},
   "outputs": [],
   "source": [
    "url62 = f'https://www.dr.dk/tjenester/steffi/graphql?query=fragment%20ArticleResultFields%20on%20Article%20%7B%20type%3A%20__typename%20urn%20urlPathId%20title%20format%20publications%20%7B%20...on%20ArticlePublication%20%7B%20breaking%20live%20serviceChannel%20%7B%20urn%20%7D%20%7D%20%7D%20summary%20startDate%20teaserImage%20%7B%20default%20%7B%20url%20%7D%20%7D%20head%20%7B%20type%3A%20__typename%20...%20on%20MediaComponent%20%7B%20resource%20%7B%20type%3A%20__typename%20...%20on%20LiveMedia%20%7B%20urn%20mediaType%20%7D%20...%20on%20Clip%20%7B%20urn%20mediaType%20durationInMilliseconds%20%7D%20...%20on%20ClipBundle%20%7B%20items(limit%3A%201)%20%7B%20__typename%20urn%20durationInMilliseconds%20%7D%20%7D%20%7D%20%7D%20...%20on%20ImageCollectionComponent%20%7B%20images%20%7B%20default%3A%20image(key%3A%20%22default%22)%20%7B%20type%3A%20__typename%20%7D%20%7D%20%7D%20...%20on%20RatingComponent%20%7B%20rating%20%7D%20%7D%20contributions(limit%3A%201)%20%7B%20agent%20%7B%20...%20on%20Person%20%7B%20name%20%7D%20%7D%20role%20%7D%20site%20%7B%20url%20urn%20title%20presentation%20%7B%20colors%20teaserImage%20%7B%20default%3A%20image(key%3A%20%22default%22)%20%7B%20url%20%7D%20%7D%20%7D%20%7D%20%7D%20fragment%20RecipeResultFields%20on%20Recipe%20%7B%20title%20url%20image%20%7B%20url%20%7D%20startDate%20%7D%20fragment%20UnknownSearchResultFields%20on%20UnknownSearchResult%20%7B%20title%20url%20label%20image%20%7B%20url%20width%20height%20%7D%20%7D%20fragment%20MusicArtistResultFields%20on%20MusicArtist%20%7B%20url%20name%20image%20%7B%20url%20width%20height%20%7D%20%7D%20query%20SearchPageDRDK(%24query%3A%20String!%20%24limit%3A%20Int!%20%24offset%3A%20Int!%20%24sort%3A%20SearchSort)%20%7B%20drdk%3A%20search(query%3A%20%24query%20logQuery%3A%20%24query%20limit%3A%20%24limit%20offset%3A%20%24offset%20products%3A%20%5B%22drdk%22%5D%20sort%3A%20%24sort)%20%7B%20totalCount%20results%3A%20nodes%20%7B%20type%3A%20__typename%20...%20on%20Article%20%7B%20...ArticleResultFields%20%7D%20...%20on%20Recipe%20%7B%20...RecipeResultFields%20%7D%20...%20on%20MusicArtist%20%7B%20...MusicArtistResultFields%20%7D%20...%20on%20UnknownSearchResult%20%7B%20...UnknownSearchResultFields%20%7D%20%7D%20spellCheck%20%7D%20%7D&variables=%7B%22query%22%3A%22c20%22%2C%22sort%22%3A%22Relevance%22%2C%22limit%22%3A10%2C%22offset%22%3A610%7D'\n",
    "headers = {'name':'Asta Thit Kettel', 'from':'ucph','email':'dnp@ku.dk'}\n",
    "response62 = requests.get(url62, headers)\n",
    "results62 = response62.json()\n",
    "result_articles62 = [{'urlPathId': article['urlPathId'], 'title': article['title']} for article in results62['data']['drdk']['results']]\n",
    "data62 = pd.DataFrame(result_articles62)"
   ]
  },
  {
   "cell_type": "code",
   "execution_count": 163,
   "id": "0cb55ec2-4716-4d1b-b0de-fc4faa0a6d82",
   "metadata": {},
   "outputs": [],
   "source": [
    "url63 = f'https://www.dr.dk/tjenester/steffi/graphql?query=fragment%20ArticleResultFields%20on%20Article%20%7B%20type%3A%20__typename%20urn%20urlPathId%20title%20format%20publications%20%7B%20...on%20ArticlePublication%20%7B%20breaking%20live%20serviceChannel%20%7B%20urn%20%7D%20%7D%20%7D%20summary%20startDate%20teaserImage%20%7B%20default%20%7B%20url%20%7D%20%7D%20head%20%7B%20type%3A%20__typename%20...%20on%20MediaComponent%20%7B%20resource%20%7B%20type%3A%20__typename%20...%20on%20LiveMedia%20%7B%20urn%20mediaType%20%7D%20...%20on%20Clip%20%7B%20urn%20mediaType%20durationInMilliseconds%20%7D%20...%20on%20ClipBundle%20%7B%20items(limit%3A%201)%20%7B%20__typename%20urn%20durationInMilliseconds%20%7D%20%7D%20%7D%20%7D%20...%20on%20ImageCollectionComponent%20%7B%20images%20%7B%20default%3A%20image(key%3A%20%22default%22)%20%7B%20type%3A%20__typename%20%7D%20%7D%20%7D%20...%20on%20RatingComponent%20%7B%20rating%20%7D%20%7D%20contributions(limit%3A%201)%20%7B%20agent%20%7B%20...%20on%20Person%20%7B%20name%20%7D%20%7D%20role%20%7D%20site%20%7B%20url%20urn%20title%20presentation%20%7B%20colors%20teaserImage%20%7B%20default%3A%20image(key%3A%20%22default%22)%20%7B%20url%20%7D%20%7D%20%7D%20%7D%20%7D%20fragment%20RecipeResultFields%20on%20Recipe%20%7B%20title%20url%20image%20%7B%20url%20%7D%20startDate%20%7D%20fragment%20UnknownSearchResultFields%20on%20UnknownSearchResult%20%7B%20title%20url%20label%20image%20%7B%20url%20width%20height%20%7D%20%7D%20fragment%20MusicArtistResultFields%20on%20MusicArtist%20%7B%20url%20name%20image%20%7B%20url%20width%20height%20%7D%20%7D%20query%20SearchPageDRDK(%24query%3A%20String!%20%24limit%3A%20Int!%20%24offset%3A%20Int!%20%24sort%3A%20SearchSort)%20%7B%20drdk%3A%20search(query%3A%20%24query%20logQuery%3A%20%24query%20limit%3A%20%24limit%20offset%3A%20%24offset%20products%3A%20%5B%22drdk%22%5D%20sort%3A%20%24sort)%20%7B%20totalCount%20results%3A%20nodes%20%7B%20type%3A%20__typename%20...%20on%20Article%20%7B%20...ArticleResultFields%20%7D%20...%20on%20Recipe%20%7B%20...RecipeResultFields%20%7D%20...%20on%20MusicArtist%20%7B%20...MusicArtistResultFields%20%7D%20...%20on%20UnknownSearchResult%20%7B%20...UnknownSearchResultFields%20%7D%20%7D%20spellCheck%20%7D%20%7D&variables=%7B%22query%22%3A%22c20%22%2C%22sort%22%3A%22Relevance%22%2C%22limit%22%3A10%2C%22offset%22%3A620%7D'\n",
    "headers = {'name':'Asta Thit Kettel', 'from':'ucph','email':'dnp@ku.dk'}\n",
    "response63 = requests.get(url63, headers)\n",
    "results63 = response63.json()\n",
    "result_articles63 = [{'urlPathId': article['urlPathId'], 'title': article['title']} for article in results63['data']['drdk']['results']]\n",
    "data63 = pd.DataFrame(result_articles63)"
   ]
  },
  {
   "cell_type": "code",
   "execution_count": 164,
   "id": "3a6c4bae-6805-4af5-b486-3e4142aeaaa6",
   "metadata": {},
   "outputs": [],
   "source": [
    "url64 = f'https://www.dr.dk/tjenester/steffi/graphql?query=fragment%20ArticleResultFields%20on%20Article%20%7B%20type%3A%20__typename%20urn%20urlPathId%20title%20format%20publications%20%7B%20...on%20ArticlePublication%20%7B%20breaking%20live%20serviceChannel%20%7B%20urn%20%7D%20%7D%20%7D%20summary%20startDate%20teaserImage%20%7B%20default%20%7B%20url%20%7D%20%7D%20head%20%7B%20type%3A%20__typename%20...%20on%20MediaComponent%20%7B%20resource%20%7B%20type%3A%20__typename%20...%20on%20LiveMedia%20%7B%20urn%20mediaType%20%7D%20...%20on%20Clip%20%7B%20urn%20mediaType%20durationInMilliseconds%20%7D%20...%20on%20ClipBundle%20%7B%20items(limit%3A%201)%20%7B%20__typename%20urn%20durationInMilliseconds%20%7D%20%7D%20%7D%20%7D%20...%20on%20ImageCollectionComponent%20%7B%20images%20%7B%20default%3A%20image(key%3A%20%22default%22)%20%7B%20type%3A%20__typename%20%7D%20%7D%20%7D%20...%20on%20RatingComponent%20%7B%20rating%20%7D%20%7D%20contributions(limit%3A%201)%20%7B%20agent%20%7B%20...%20on%20Person%20%7B%20name%20%7D%20%7D%20role%20%7D%20site%20%7B%20url%20urn%20title%20presentation%20%7B%20colors%20teaserImage%20%7B%20default%3A%20image(key%3A%20%22default%22)%20%7B%20url%20%7D%20%7D%20%7D%20%7D%20%7D%20fragment%20RecipeResultFields%20on%20Recipe%20%7B%20title%20url%20image%20%7B%20url%20%7D%20startDate%20%7D%20fragment%20UnknownSearchResultFields%20on%20UnknownSearchResult%20%7B%20title%20url%20label%20image%20%7B%20url%20width%20height%20%7D%20%7D%20fragment%20MusicArtistResultFields%20on%20MusicArtist%20%7B%20url%20name%20image%20%7B%20url%20width%20height%20%7D%20%7D%20query%20SearchPageDRDK(%24query%3A%20String!%20%24limit%3A%20Int!%20%24offset%3A%20Int!%20%24sort%3A%20SearchSort)%20%7B%20drdk%3A%20search(query%3A%20%24query%20logQuery%3A%20%24query%20limit%3A%20%24limit%20offset%3A%20%24offset%20products%3A%20%5B%22drdk%22%5D%20sort%3A%20%24sort)%20%7B%20totalCount%20results%3A%20nodes%20%7B%20type%3A%20__typename%20...%20on%20Article%20%7B%20...ArticleResultFields%20%7D%20...%20on%20Recipe%20%7B%20...RecipeResultFields%20%7D%20...%20on%20MusicArtist%20%7B%20...MusicArtistResultFields%20%7D%20...%20on%20UnknownSearchResult%20%7B%20...UnknownSearchResultFields%20%7D%20%7D%20spellCheck%20%7D%20%7D&variables=%7B%22query%22%3A%22c20%22%2C%22sort%22%3A%22Relevance%22%2C%22limit%22%3A10%2C%22offset%22%3A630%7D'\n",
    "headers = {'name':'Asta Thit Kettel', 'from':'ucph','email':'dnp@ku.dk'}\n",
    "response64 = requests.get(url64, headers)\n",
    "results64 = response64.json()\n",
    "result_articles64 = [{'urlPathId': article['urlPathId'], 'title': article['title']} for article in results64['data']['drdk']['results']]\n",
    "data64 = pd.DataFrame(result_articles64)"
   ]
  },
  {
   "cell_type": "code",
   "execution_count": 165,
   "id": "f7e2afdc-f9e2-4744-ba12-e9642b5336d1",
   "metadata": {},
   "outputs": [],
   "source": [
    "url65 = f'https://www.dr.dk/tjenester/steffi/graphql?query=fragment%20ArticleResultFields%20on%20Article%20%7B%20type%3A%20__typename%20urn%20urlPathId%20title%20format%20publications%20%7B%20...on%20ArticlePublication%20%7B%20breaking%20live%20serviceChannel%20%7B%20urn%20%7D%20%7D%20%7D%20summary%20startDate%20teaserImage%20%7B%20default%20%7B%20url%20%7D%20%7D%20head%20%7B%20type%3A%20__typename%20...%20on%20MediaComponent%20%7B%20resource%20%7B%20type%3A%20__typename%20...%20on%20LiveMedia%20%7B%20urn%20mediaType%20%7D%20...%20on%20Clip%20%7B%20urn%20mediaType%20durationInMilliseconds%20%7D%20...%20on%20ClipBundle%20%7B%20items(limit%3A%201)%20%7B%20__typename%20urn%20durationInMilliseconds%20%7D%20%7D%20%7D%20%7D%20...%20on%20ImageCollectionComponent%20%7B%20images%20%7B%20default%3A%20image(key%3A%20%22default%22)%20%7B%20type%3A%20__typename%20%7D%20%7D%20%7D%20...%20on%20RatingComponent%20%7B%20rating%20%7D%20%7D%20contributions(limit%3A%201)%20%7B%20agent%20%7B%20...%20on%20Person%20%7B%20name%20%7D%20%7D%20role%20%7D%20site%20%7B%20url%20urn%20title%20presentation%20%7B%20colors%20teaserImage%20%7B%20default%3A%20image(key%3A%20%22default%22)%20%7B%20url%20%7D%20%7D%20%7D%20%7D%20%7D%20fragment%20RecipeResultFields%20on%20Recipe%20%7B%20title%20url%20image%20%7B%20url%20%7D%20startDate%20%7D%20fragment%20UnknownSearchResultFields%20on%20UnknownSearchResult%20%7B%20title%20url%20label%20image%20%7B%20url%20width%20height%20%7D%20%7D%20fragment%20MusicArtistResultFields%20on%20MusicArtist%20%7B%20url%20name%20image%20%7B%20url%20width%20height%20%7D%20%7D%20query%20SearchPageDRDK(%24query%3A%20String!%20%24limit%3A%20Int!%20%24offset%3A%20Int!%20%24sort%3A%20SearchSort)%20%7B%20drdk%3A%20search(query%3A%20%24query%20logQuery%3A%20%24query%20limit%3A%20%24limit%20offset%3A%20%24offset%20products%3A%20%5B%22drdk%22%5D%20sort%3A%20%24sort)%20%7B%20totalCount%20results%3A%20nodes%20%7B%20type%3A%20__typename%20...%20on%20Article%20%7B%20...ArticleResultFields%20%7D%20...%20on%20Recipe%20%7B%20...RecipeResultFields%20%7D%20...%20on%20MusicArtist%20%7B%20...MusicArtistResultFields%20%7D%20...%20on%20UnknownSearchResult%20%7B%20...UnknownSearchResultFields%20%7D%20%7D%20spellCheck%20%7D%20%7D&variables=%7B%22query%22%3A%22c20%22%2C%22sort%22%3A%22Relevance%22%2C%22limit%22%3A10%2C%22offset%22%3A640%7D'\n",
    "headers = {'name':'Asta Thit Kettel', 'from':'ucph','email':'dnp@ku.dk'}\n",
    "response65 = requests.get(url65, headers)\n",
    "results65 = response65.json()\n",
    "result_articles65 = [{'urlPathId': article['urlPathId'], 'title': article['title']} for article in results65['data']['drdk']['results']]\n",
    "data65 = pd.DataFrame(result_articles65)"
   ]
  },
  {
   "cell_type": "code",
   "execution_count": 166,
   "id": "b9a3964e-32f3-45a2-8599-6452781e0fe8",
   "metadata": {},
   "outputs": [],
   "source": [
    "url66 = f'https://www.dr.dk/tjenester/steffi/graphql?query=fragment%20ArticleResultFields%20on%20Article%20%7B%20type%3A%20__typename%20urn%20urlPathId%20title%20format%20publications%20%7B%20...on%20ArticlePublication%20%7B%20breaking%20live%20serviceChannel%20%7B%20urn%20%7D%20%7D%20%7D%20summary%20startDate%20teaserImage%20%7B%20default%20%7B%20url%20%7D%20%7D%20head%20%7B%20type%3A%20__typename%20...%20on%20MediaComponent%20%7B%20resource%20%7B%20type%3A%20__typename%20...%20on%20LiveMedia%20%7B%20urn%20mediaType%20%7D%20...%20on%20Clip%20%7B%20urn%20mediaType%20durationInMilliseconds%20%7D%20...%20on%20ClipBundle%20%7B%20items(limit%3A%201)%20%7B%20__typename%20urn%20durationInMilliseconds%20%7D%20%7D%20%7D%20%7D%20...%20on%20ImageCollectionComponent%20%7B%20images%20%7B%20default%3A%20image(key%3A%20%22default%22)%20%7B%20type%3A%20__typename%20%7D%20%7D%20%7D%20...%20on%20RatingComponent%20%7B%20rating%20%7D%20%7D%20contributions(limit%3A%201)%20%7B%20agent%20%7B%20...%20on%20Person%20%7B%20name%20%7D%20%7D%20role%20%7D%20site%20%7B%20url%20urn%20title%20presentation%20%7B%20colors%20teaserImage%20%7B%20default%3A%20image(key%3A%20%22default%22)%20%7B%20url%20%7D%20%7D%20%7D%20%7D%20%7D%20fragment%20RecipeResultFields%20on%20Recipe%20%7B%20title%20url%20image%20%7B%20url%20%7D%20startDate%20%7D%20fragment%20UnknownSearchResultFields%20on%20UnknownSearchResult%20%7B%20title%20url%20label%20image%20%7B%20url%20width%20height%20%7D%20%7D%20fragment%20MusicArtistResultFields%20on%20MusicArtist%20%7B%20url%20name%20image%20%7B%20url%20width%20height%20%7D%20%7D%20query%20SearchPageDRDK(%24query%3A%20String!%20%24limit%3A%20Int!%20%24offset%3A%20Int!%20%24sort%3A%20SearchSort)%20%7B%20drdk%3A%20search(query%3A%20%24query%20logQuery%3A%20%24query%20limit%3A%20%24limit%20offset%3A%20%24offset%20products%3A%20%5B%22drdk%22%5D%20sort%3A%20%24sort)%20%7B%20totalCount%20results%3A%20nodes%20%7B%20type%3A%20__typename%20...%20on%20Article%20%7B%20...ArticleResultFields%20%7D%20...%20on%20Recipe%20%7B%20...RecipeResultFields%20%7D%20...%20on%20MusicArtist%20%7B%20...MusicArtistResultFields%20%7D%20...%20on%20UnknownSearchResult%20%7B%20...UnknownSearchResultFields%20%7D%20%7D%20spellCheck%20%7D%20%7D&variables=%7B%22query%22%3A%22c20%22%2C%22sort%22%3A%22Relevance%22%2C%22limit%22%3A10%2C%22offset%22%3A650%7D'\n",
    "headers = {'name':'Asta Thit Kettel', 'from':'ucph','email':'dnp@ku.dk'}\n",
    "response66 = requests.get(url66, headers)\n",
    "results66 = response66.json()\n",
    "result_articles66 = [{'urlPathId': article['urlPathId'], 'title': article['title']} for article in results66['data']['drdk']['results']]\n",
    "data66 = pd.DataFrame(result_articles66)"
   ]
  },
  {
   "cell_type": "code",
   "execution_count": 167,
   "id": "f7efe878-4f03-4c41-ba09-e212df9a259d",
   "metadata": {},
   "outputs": [],
   "source": [
    "url67 = f'https://www.dr.dk/tjenester/steffi/graphql?query=fragment%20ArticleResultFields%20on%20Article%20%7B%20type%3A%20__typename%20urn%20urlPathId%20title%20format%20publications%20%7B%20...on%20ArticlePublication%20%7B%20breaking%20live%20serviceChannel%20%7B%20urn%20%7D%20%7D%20%7D%20summary%20startDate%20teaserImage%20%7B%20default%20%7B%20url%20%7D%20%7D%20head%20%7B%20type%3A%20__typename%20...%20on%20MediaComponent%20%7B%20resource%20%7B%20type%3A%20__typename%20...%20on%20LiveMedia%20%7B%20urn%20mediaType%20%7D%20...%20on%20Clip%20%7B%20urn%20mediaType%20durationInMilliseconds%20%7D%20...%20on%20ClipBundle%20%7B%20items(limit%3A%201)%20%7B%20__typename%20urn%20durationInMilliseconds%20%7D%20%7D%20%7D%20%7D%20...%20on%20ImageCollectionComponent%20%7B%20images%20%7B%20default%3A%20image(key%3A%20%22default%22)%20%7B%20type%3A%20__typename%20%7D%20%7D%20%7D%20...%20on%20RatingComponent%20%7B%20rating%20%7D%20%7D%20contributions(limit%3A%201)%20%7B%20agent%20%7B%20...%20on%20Person%20%7B%20name%20%7D%20%7D%20role%20%7D%20site%20%7B%20url%20urn%20title%20presentation%20%7B%20colors%20teaserImage%20%7B%20default%3A%20image(key%3A%20%22default%22)%20%7B%20url%20%7D%20%7D%20%7D%20%7D%20%7D%20fragment%20RecipeResultFields%20on%20Recipe%20%7B%20title%20url%20image%20%7B%20url%20%7D%20startDate%20%7D%20fragment%20UnknownSearchResultFields%20on%20UnknownSearchResult%20%7B%20title%20url%20label%20image%20%7B%20url%20width%20height%20%7D%20%7D%20fragment%20MusicArtistResultFields%20on%20MusicArtist%20%7B%20url%20name%20image%20%7B%20url%20width%20height%20%7D%20%7D%20query%20SearchPageDRDK(%24query%3A%20String!%20%24limit%3A%20Int!%20%24offset%3A%20Int!%20%24sort%3A%20SearchSort)%20%7B%20drdk%3A%20search(query%3A%20%24query%20logQuery%3A%20%24query%20limit%3A%20%24limit%20offset%3A%20%24offset%20products%3A%20%5B%22drdk%22%5D%20sort%3A%20%24sort)%20%7B%20totalCount%20results%3A%20nodes%20%7B%20type%3A%20__typename%20...%20on%20Article%20%7B%20...ArticleResultFields%20%7D%20...%20on%20Recipe%20%7B%20...RecipeResultFields%20%7D%20...%20on%20MusicArtist%20%7B%20...MusicArtistResultFields%20%7D%20...%20on%20UnknownSearchResult%20%7B%20...UnknownSearchResultFields%20%7D%20%7D%20spellCheck%20%7D%20%7D&variables=%7B%22query%22%3A%22c20%22%2C%22sort%22%3A%22Relevance%22%2C%22limit%22%3A10%2C%22offset%22%3A660%7D'\n",
    "headers = {'name':'Asta Thit Kettel', 'from':'ucph','email':'dnp@ku.dk'}\n",
    "response67 = requests.get(url67, headers)\n",
    "results67 = response67.json()\n",
    "result_articles67 = [{'urlPathId': article['urlPathId'], 'title': article['title']} for article in results67['data']['drdk']['results']]\n",
    "data67 = pd.DataFrame(result_articles67)"
   ]
  },
  {
   "cell_type": "code",
   "execution_count": 168,
   "id": "7e20c0c3-1644-40f4-8663-e4d8de1b6cb2",
   "metadata": {},
   "outputs": [],
   "source": [
    "url68 = f'https://www.dr.dk/tjenester/steffi/graphql?query=fragment%20ArticleResultFields%20on%20Article%20%7B%20type%3A%20__typename%20urn%20urlPathId%20title%20format%20publications%20%7B%20...on%20ArticlePublication%20%7B%20breaking%20live%20serviceChannel%20%7B%20urn%20%7D%20%7D%20%7D%20summary%20startDate%20teaserImage%20%7B%20default%20%7B%20url%20%7D%20%7D%20head%20%7B%20type%3A%20__typename%20...%20on%20MediaComponent%20%7B%20resource%20%7B%20type%3A%20__typename%20...%20on%20LiveMedia%20%7B%20urn%20mediaType%20%7D%20...%20on%20Clip%20%7B%20urn%20mediaType%20durationInMilliseconds%20%7D%20...%20on%20ClipBundle%20%7B%20items(limit%3A%201)%20%7B%20__typename%20urn%20durationInMilliseconds%20%7D%20%7D%20%7D%20%7D%20...%20on%20ImageCollectionComponent%20%7B%20images%20%7B%20default%3A%20image(key%3A%20%22default%22)%20%7B%20type%3A%20__typename%20%7D%20%7D%20%7D%20...%20on%20RatingComponent%20%7B%20rating%20%7D%20%7D%20contributions(limit%3A%201)%20%7B%20agent%20%7B%20...%20on%20Person%20%7B%20name%20%7D%20%7D%20role%20%7D%20site%20%7B%20url%20urn%20title%20presentation%20%7B%20colors%20teaserImage%20%7B%20default%3A%20image(key%3A%20%22default%22)%20%7B%20url%20%7D%20%7D%20%7D%20%7D%20%7D%20fragment%20RecipeResultFields%20on%20Recipe%20%7B%20title%20url%20image%20%7B%20url%20%7D%20startDate%20%7D%20fragment%20UnknownSearchResultFields%20on%20UnknownSearchResult%20%7B%20title%20url%20label%20image%20%7B%20url%20width%20height%20%7D%20%7D%20fragment%20MusicArtistResultFields%20on%20MusicArtist%20%7B%20url%20name%20image%20%7B%20url%20width%20height%20%7D%20%7D%20query%20SearchPageDRDK(%24query%3A%20String!%20%24limit%3A%20Int!%20%24offset%3A%20Int!%20%24sort%3A%20SearchSort)%20%7B%20drdk%3A%20search(query%3A%20%24query%20logQuery%3A%20%24query%20limit%3A%20%24limit%20offset%3A%20%24offset%20products%3A%20%5B%22drdk%22%5D%20sort%3A%20%24sort)%20%7B%20totalCount%20results%3A%20nodes%20%7B%20type%3A%20__typename%20...%20on%20Article%20%7B%20...ArticleResultFields%20%7D%20...%20on%20Recipe%20%7B%20...RecipeResultFields%20%7D%20...%20on%20MusicArtist%20%7B%20...MusicArtistResultFields%20%7D%20...%20on%20UnknownSearchResult%20%7B%20...UnknownSearchResultFields%20%7D%20%7D%20spellCheck%20%7D%20%7D&variables=%7B%22query%22%3A%22c20%22%2C%22sort%22%3A%22Relevance%22%2C%22limit%22%3A10%2C%22offset%22%3A670%7D'\n",
    "headers = {'name':'Asta Thit Kettel', 'from':'ucph','email':'dnp@ku.dk'}\n",
    "response68 = requests.get(url68, headers)\n",
    "results68 = response68.json()\n",
    "result_articles68 = [{'urlPathId': article['urlPathId'], 'title': article['title']} for article in results68['data']['drdk']['results']]\n",
    "data68 = pd.DataFrame(result_articles68)"
   ]
  },
  {
   "cell_type": "code",
   "execution_count": 169,
   "id": "f58ffa77-1a18-459a-ac99-d29a4c2ad1cb",
   "metadata": {},
   "outputs": [],
   "source": [
    "url69 = f'https://www.dr.dk/tjenester/steffi/graphql?query=fragment%20ArticleResultFields%20on%20Article%20%7B%20type%3A%20__typename%20urn%20urlPathId%20title%20format%20publications%20%7B%20...on%20ArticlePublication%20%7B%20breaking%20live%20serviceChannel%20%7B%20urn%20%7D%20%7D%20%7D%20summary%20startDate%20teaserImage%20%7B%20default%20%7B%20url%20%7D%20%7D%20head%20%7B%20type%3A%20__typename%20...%20on%20MediaComponent%20%7B%20resource%20%7B%20type%3A%20__typename%20...%20on%20LiveMedia%20%7B%20urn%20mediaType%20%7D%20...%20on%20Clip%20%7B%20urn%20mediaType%20durationInMilliseconds%20%7D%20...%20on%20ClipBundle%20%7B%20items(limit%3A%201)%20%7B%20__typename%20urn%20durationInMilliseconds%20%7D%20%7D%20%7D%20%7D%20...%20on%20ImageCollectionComponent%20%7B%20images%20%7B%20default%3A%20image(key%3A%20%22default%22)%20%7B%20type%3A%20__typename%20%7D%20%7D%20%7D%20...%20on%20RatingComponent%20%7B%20rating%20%7D%20%7D%20contributions(limit%3A%201)%20%7B%20agent%20%7B%20...%20on%20Person%20%7B%20name%20%7D%20%7D%20role%20%7D%20site%20%7B%20url%20urn%20title%20presentation%20%7B%20colors%20teaserImage%20%7B%20default%3A%20image(key%3A%20%22default%22)%20%7B%20url%20%7D%20%7D%20%7D%20%7D%20%7D%20fragment%20RecipeResultFields%20on%20Recipe%20%7B%20title%20url%20image%20%7B%20url%20%7D%20startDate%20%7D%20fragment%20UnknownSearchResultFields%20on%20UnknownSearchResult%20%7B%20title%20url%20label%20image%20%7B%20url%20width%20height%20%7D%20%7D%20fragment%20MusicArtistResultFields%20on%20MusicArtist%20%7B%20url%20name%20image%20%7B%20url%20width%20height%20%7D%20%7D%20query%20SearchPageDRDK(%24query%3A%20String!%20%24limit%3A%20Int!%20%24offset%3A%20Int!%20%24sort%3A%20SearchSort)%20%7B%20drdk%3A%20search(query%3A%20%24query%20logQuery%3A%20%24query%20limit%3A%20%24limit%20offset%3A%20%24offset%20products%3A%20%5B%22drdk%22%5D%20sort%3A%20%24sort)%20%7B%20totalCount%20results%3A%20nodes%20%7B%20type%3A%20__typename%20...%20on%20Article%20%7B%20...ArticleResultFields%20%7D%20...%20on%20Recipe%20%7B%20...RecipeResultFields%20%7D%20...%20on%20MusicArtist%20%7B%20...MusicArtistResultFields%20%7D%20...%20on%20UnknownSearchResult%20%7B%20...UnknownSearchResultFields%20%7D%20%7D%20spellCheck%20%7D%20%7D&variables=%7B%22query%22%3A%22c20%22%2C%22sort%22%3A%22Relevance%22%2C%22limit%22%3A10%2C%22offset%22%3A680%7D'\n",
    "headers = {'name':'Asta Thit Kettel', 'from':'ucph','email':'dnp@ku.dk'}\n",
    "response69 = requests.get(url69, headers)\n",
    "results69 = response69.json()\n",
    "result_articles69 = [{'urlPathId': article['urlPathId'], 'title': article['title']} for article in results69['data']['drdk']['results']]\n",
    "data69 = pd.DataFrame(result_articles69)"
   ]
  },
  {
   "cell_type": "code",
   "execution_count": 170,
   "id": "66ecdc12-444c-4718-b640-0d6ff6ce9b79",
   "metadata": {},
   "outputs": [],
   "source": [
    "url70 = f'https://www.dr.dk/tjenester/steffi/graphql?query=fragment%20ArticleResultFields%20on%20Article%20%7B%20type%3A%20__typename%20urn%20urlPathId%20title%20format%20publications%20%7B%20...on%20ArticlePublication%20%7B%20breaking%20live%20serviceChannel%20%7B%20urn%20%7D%20%7D%20%7D%20summary%20startDate%20teaserImage%20%7B%20default%20%7B%20url%20%7D%20%7D%20head%20%7B%20type%3A%20__typename%20...%20on%20MediaComponent%20%7B%20resource%20%7B%20type%3A%20__typename%20...%20on%20LiveMedia%20%7B%20urn%20mediaType%20%7D%20...%20on%20Clip%20%7B%20urn%20mediaType%20durationInMilliseconds%20%7D%20...%20on%20ClipBundle%20%7B%20items(limit%3A%201)%20%7B%20__typename%20urn%20durationInMilliseconds%20%7D%20%7D%20%7D%20%7D%20...%20on%20ImageCollectionComponent%20%7B%20images%20%7B%20default%3A%20image(key%3A%20%22default%22)%20%7B%20type%3A%20__typename%20%7D%20%7D%20%7D%20...%20on%20RatingComponent%20%7B%20rating%20%7D%20%7D%20contributions(limit%3A%201)%20%7B%20agent%20%7B%20...%20on%20Person%20%7B%20name%20%7D%20%7D%20role%20%7D%20site%20%7B%20url%20urn%20title%20presentation%20%7B%20colors%20teaserImage%20%7B%20default%3A%20image(key%3A%20%22default%22)%20%7B%20url%20%7D%20%7D%20%7D%20%7D%20%7D%20fragment%20RecipeResultFields%20on%20Recipe%20%7B%20title%20url%20image%20%7B%20url%20%7D%20startDate%20%7D%20fragment%20UnknownSearchResultFields%20on%20UnknownSearchResult%20%7B%20title%20url%20label%20image%20%7B%20url%20width%20height%20%7D%20%7D%20fragment%20MusicArtistResultFields%20on%20MusicArtist%20%7B%20url%20name%20image%20%7B%20url%20width%20height%20%7D%20%7D%20query%20SearchPageDRDK(%24query%3A%20String!%20%24limit%3A%20Int!%20%24offset%3A%20Int!%20%24sort%3A%20SearchSort)%20%7B%20drdk%3A%20search(query%3A%20%24query%20logQuery%3A%20%24query%20limit%3A%20%24limit%20offset%3A%20%24offset%20products%3A%20%5B%22drdk%22%5D%20sort%3A%20%24sort)%20%7B%20totalCount%20results%3A%20nodes%20%7B%20type%3A%20__typename%20...%20on%20Article%20%7B%20...ArticleResultFields%20%7D%20...%20on%20Recipe%20%7B%20...RecipeResultFields%20%7D%20...%20on%20MusicArtist%20%7B%20...MusicArtistResultFields%20%7D%20...%20on%20UnknownSearchResult%20%7B%20...UnknownSearchResultFields%20%7D%20%7D%20spellCheck%20%7D%20%7D&variables=%7B%22query%22%3A%22c20%22%2C%22sort%22%3A%22Relevance%22%2C%22limit%22%3A10%2C%22offset%22%3A690%7D'\n",
    "headers = {'name':'Asta Thit Kettel', 'from':'ucph','email':'dnp@ku.dk'}\n",
    "response70 = requests.get(url70, headers)\n",
    "results70 = response70.json()\n",
    "result_articles70 = [{'urlPathId': article['urlPathId'], 'title': article['title']} for article in results70['data']['drdk']['results']]\n",
    "data70 = pd.DataFrame(result_articles70)"
   ]
  },
  {
   "cell_type": "markdown",
   "id": "1e0cf457-806f-4c91-a449-bf8c46eb09a8",
   "metadata": {},
   "source": [
    "## Merging all the dataframes into one"
   ]
  },
  {
   "cell_type": "code",
   "execution_count": 175,
   "id": "e0729312-1386-4393-9e79-08d54decc9df",
   "metadata": {},
   "outputs": [],
   "source": [
    "# Merging all the dataframes into one\n",
    "dataframes = []\n",
    "for i in range(1,71):\n",
    "    dataframes.append(eval(f\"data{i}\"))\n",
    "\n",
    "\n",
    "mergedC20 = pd.concat(dataframes, ignore_index=True)\n",
    "\n",
    "mergedC20.to_csv(\"/Users/astakettel/Desktop/ISDS/GitHub/isds2024-egne/DR_article_urlsC20.csv\", index=False)"
   ]
  },
  {
   "cell_type": "markdown",
   "id": "1077db4e-5f2b-4d7e-9fc4-f6307a1292ee",
   "metadata": {},
   "source": [
    "# TEXT EXTRACTION - C20"
   ]
  },
  {
   "cell_type": "markdown",
   "id": "3206c337-0d0c-4c3d-aabe-e9900010c634",
   "metadata": {},
   "source": [
    "## Importing the csv file and extracting article body"
   ]
  },
  {
   "cell_type": "code",
   "execution_count": 2,
   "id": "2cd7eff9-f6d8-408c-a5a9-b91b31a5fdde",
   "metadata": {},
   "outputs": [],
   "source": [
    "dataC20_1 = pd.read_csv('DR_article_urlsC20.csv')"
   ]
  },
  {
   "cell_type": "code",
   "execution_count": 3,
   "id": "4f66f94b-39f6-4741-a6e0-b3398d28bfab",
   "metadata": {},
   "outputs": [],
   "source": [
    "all_urlsC20 = 'https://www.dr.dk' + dataC20_1['urlPathId']"
   ]
  },
  {
   "cell_type": "markdown",
   "id": "6e2b9c56-e71b-4333-b988-6830884cde4c",
   "metadata": {},
   "source": [
    "## Extracting texts from article urls"
   ]
  },
  {
   "cell_type": "markdown",
   "id": "8206ee21-93d8-45b8-86d3-9576bc20a6b6",
   "metadata": {},
   "source": [
    "In these there are only 1 type of article so we can just use 1 text actraction code"
   ]
  },
  {
   "cell_type": "code",
   "execution_count": null,
   "id": "9d5ecef2-e5de-4874-a997-bfbbd938ada9",
   "metadata": {},
   "outputs": [
    {
     "name": "stderr",
     "output_type": "stream",
     "text": [
      "Scraping articles:  11%|██▎                  | 81/736 [08:47<1:09:05,  6.33s/it]"
     ]
    }
   ],
   "source": [
    "# Assuming all_urlsC20 is your list containing the URLs\n",
    "article_texts = []\n",
    "urls_processed = []\n",
    "article_dates = []  # List to store article dates\n",
    "\n",
    "# Loop through each URL in the list\n",
    "for index, url in tqdm(enumerate(all_urlsC20), total=len(all_urlsC20), desc=\"Scraping articles\"):\n",
    "    try:\n",
    "        # Sleep for a while to avoid overwhelming the server\n",
    "        time.sleep(5)  # Sleep for 5 seconds, adjust if needed\n",
    "\n",
    "        # Send a GET request to the URL\n",
    "        response = requests.get(url)\n",
    "        response.raise_for_status()  # Ensure the request was successful\n",
    "\n",
    "        # Parse the HTML content\n",
    "        soup = BeautifulSoup(response.text, 'html.parser')\n",
    "\n",
    "        # Extracting the content within the article__content-container div\n",
    "        article_text = \"\"\n",
    "\n",
    "        # Find the div with class 'dre-article-body'\n",
    "        content_div = soup.find('div', class_='dre-article-body')\n",
    "\n",
    "        if content_div:\n",
    "            # Iterate through all paragraphs or other elements within the content container\n",
    "            paragraphs = content_div.find_all('div', class_='dre-speech')\n",
    "            for paragraph in paragraphs:\n",
    "                article_text += paragraph.get_text(separator=\" \", strip=True) + \" \"\n",
    "\n",
    "        # Find the time tag with class 'dre-byline__date' and get the datetime attribute\n",
    "        date_tag = soup.find('time', class_='dre-byline__date')\n",
    "        article_date = None\n",
    "        if date_tag and date_tag.has_attr('datetime'):\n",
    "            article_date = date_tag['datetime']\n",
    "\n",
    "        # Append the extracted article text and date to their respective lists\n",
    "        article_texts.append(article_text.strip())\n",
    "        article_dates.append(article_date)\n",
    "        urls_processed.append(url)\n",
    "\n",
    "    except requests.RequestException as e:\n",
    "        # Append None to article_texts, article_dates, and the current URL to urls_processed for consistency\n",
    "        article_texts.append(None)\n",
    "        article_dates.append(None)\n",
    "        urls_processed.append(url)"
   ]
  },
  {
   "cell_type": "code",
   "execution_count": 208,
   "id": "4f717e52-aca8-475f-817c-151b2579cd94",
   "metadata": {},
   "outputs": [
    {
     "data": {
      "text/html": [
       "<div>\n",
       "<style scoped>\n",
       "    .dataframe tbody tr th:only-of-type {\n",
       "        vertical-align: middle;\n",
       "    }\n",
       "\n",
       "    .dataframe tbody tr th {\n",
       "        vertical-align: top;\n",
       "    }\n",
       "\n",
       "    .dataframe thead th {\n",
       "        text-align: right;\n",
       "    }\n",
       "</style>\n",
       "<table border=\"1\" class=\"dataframe\">\n",
       "  <thead>\n",
       "    <tr style=\"text-align: right;\">\n",
       "      <th></th>\n",
       "      <th>url</th>\n",
       "      <th>article_text</th>\n",
       "    </tr>\n",
       "  </thead>\n",
       "  <tbody>\n",
       "    <tr>\n",
       "      <th>0</th>\n",
       "      <td>https://www.dr.dk/nyheder/penge/c20-faldt-15-p...</td>\n",
       "      <td>C20 dykkede 1,5 procent til 411,3 med Novo Nor...</td>\n",
       "    </tr>\n",
       "    <tr>\n",
       "      <th>1</th>\n",
       "      <td>https://www.dr.dk/nyheder/penge/c20-aabner-pos...</td>\n",
       "      <td>A.P. Møller - Mærsk åbnede 2,1 procent højere ...</td>\n",
       "    </tr>\n",
       "    <tr>\n",
       "      <th>2</th>\n",
       "      <td>https://www.dr.dk/nyheder/penge/c20-faldt</td>\n",
       "      <td>C20 indekset endte 0,6 procent lavere Indekset...</td>\n",
       "    </tr>\n",
       "    <tr>\n",
       "      <th>3</th>\n",
       "      <td>https://www.dr.dk/nyheder/penge/tung-morgen-c20</td>\n",
       "      <td>Faldet i A.P. Møller-Mærsk fortsatte her til m...</td>\n",
       "    </tr>\n",
       "    <tr>\n",
       "      <th>4</th>\n",
       "      <td>https://www.dr.dk/nyheder/penge/danske-bank-tr...</td>\n",
       "      <td>Dagen bød på kraftig fremgang for det danske e...</td>\n",
       "    </tr>\n",
       "    <tr>\n",
       "      <th>...</th>\n",
       "      <td>...</td>\n",
       "      <td>...</td>\n",
       "    </tr>\n",
       "    <tr>\n",
       "      <th>731</th>\n",
       "      <td>https://www.dr.dk/nyheder/penge/c20-aabning-st...</td>\n",
       "      <td>OMXC20 startede langsomt da A.P. Møller-Mærsk ...</td>\n",
       "    </tr>\n",
       "    <tr>\n",
       "      <th>732</th>\n",
       "      <td>https://www.dr.dk/nyheder/penge/endelig-lidt-b...</td>\n",
       "      <td>Det danske OMXC20 indeks fik i modsætning til ...</td>\n",
       "    </tr>\n",
       "    <tr>\n",
       "      <th>733</th>\n",
       "      <td>https://www.dr.dk/nyheder/penge/dsv-lyser-op-p...</td>\n",
       "      <td>Carlsberg trak ned efter aktienedjustering fra...</td>\n",
       "    </tr>\n",
       "    <tr>\n",
       "      <th>734</th>\n",
       "      <td>https://www.dr.dk/nyheder/penge/vestas-trodsed...</td>\n",
       "      <td>Danske aktier trak ned tirsdag, da de tunge dr...</td>\n",
       "    </tr>\n",
       "    <tr>\n",
       "      <th>735</th>\n",
       "      <td>https://www.dr.dk/nyheder/penge/novo-traekker-...</td>\n",
       "      <td>Med A.P. Møller-Mærsk og Vestas i spidsen lagd...</td>\n",
       "    </tr>\n",
       "  </tbody>\n",
       "</table>\n",
       "<p>736 rows × 2 columns</p>\n",
       "</div>"
      ],
      "text/plain": [
       "                                                   url  \\\n",
       "0    https://www.dr.dk/nyheder/penge/c20-faldt-15-p...   \n",
       "1    https://www.dr.dk/nyheder/penge/c20-aabner-pos...   \n",
       "2            https://www.dr.dk/nyheder/penge/c20-faldt   \n",
       "3      https://www.dr.dk/nyheder/penge/tung-morgen-c20   \n",
       "4    https://www.dr.dk/nyheder/penge/danske-bank-tr...   \n",
       "..                                                 ...   \n",
       "731  https://www.dr.dk/nyheder/penge/c20-aabning-st...   \n",
       "732  https://www.dr.dk/nyheder/penge/endelig-lidt-b...   \n",
       "733  https://www.dr.dk/nyheder/penge/dsv-lyser-op-p...   \n",
       "734  https://www.dr.dk/nyheder/penge/vestas-trodsed...   \n",
       "735  https://www.dr.dk/nyheder/penge/novo-traekker-...   \n",
       "\n",
       "                                          article_text  \n",
       "0    C20 dykkede 1,5 procent til 411,3 med Novo Nor...  \n",
       "1    A.P. Møller - Mærsk åbnede 2,1 procent højere ...  \n",
       "2    C20 indekset endte 0,6 procent lavere Indekset...  \n",
       "3    Faldet i A.P. Møller-Mærsk fortsatte her til m...  \n",
       "4    Dagen bød på kraftig fremgang for det danske e...  \n",
       "..                                                 ...  \n",
       "731  OMXC20 startede langsomt da A.P. Møller-Mærsk ...  \n",
       "732  Det danske OMXC20 indeks fik i modsætning til ...  \n",
       "733  Carlsberg trak ned efter aktienedjustering fra...  \n",
       "734  Danske aktier trak ned tirsdag, da de tunge dr...  \n",
       "735  Med A.P. Møller-Mærsk og Vestas i spidsen lagd...  \n",
       "\n",
       "[736 rows x 2 columns]"
      ]
     },
     "execution_count": 208,
     "metadata": {},
     "output_type": "execute_result"
    }
   ],
   "source": [
    "# Create a DataFrame with the URLs and corresponding article texts\n",
    "dataC20_2 = pd.DataFrame({\n",
    "    'url': urls_processed,\n",
    "    'article_text': article_texts, \n",
    "    'date': article_dates\n",
    "})\n",
    "\n",
    "# Display the DataFrame with article texts\n",
    "dataC20_2"
   ]
  },
  {
   "cell_type": "markdown",
   "id": "377f15d9-9bf0-4a49-9c7f-8b6d1d5ea3d7",
   "metadata": {},
   "source": [
    "## Saving as csv"
   ]
  },
  {
   "cell_type": "code",
   "execution_count": 211,
   "id": "72b9c2aa-d030-4458-aaa9-2bd7b2a39d5a",
   "metadata": {},
   "outputs": [],
   "source": [
    "dataC20_2.to_csv('/Users/astakettel/Desktop/ISDS/GitHub/EXAM2024-sentiment-analysis/Webscraping/DR_C20_full_data.csv', index=False)"
   ]
  },
  {
   "cell_type": "markdown",
   "id": "77841d31-b3f7-4fd1-aad9-a6c9df659853",
   "metadata": {},
   "source": [
    "# Merging the two dataframes into 1 and saving them:"
   ]
  },
  {
   "cell_type": "code",
   "execution_count": 213,
   "id": "dd54a3a7-0322-49c3-806e-ef1df9239d06",
   "metadata": {},
   "outputs": [],
   "source": [
    "C20 = pd.read_csv('/Users/astakettel/Desktop/ISDS/GitHub/EXAM2024-sentiment-analysis/Webscraping/DR_C20_full_data.csv')\n",
    "C25 = pd.read_csv('/Users/astakettel/Desktop/ISDS/GitHub/EXAM2024-sentiment-analysis/Webscraping/DR_C25_full_data.csv')"
   ]
  },
  {
   "cell_type": "code",
   "execution_count": 216,
   "id": "579c5641-5c24-4c10-b13e-1052060e0e31",
   "metadata": {},
   "outputs": [],
   "source": [
    "data_full = pd.concat([C20, C25], ignore_index=True)"
   ]
  },
  {
   "cell_type": "code",
   "execution_count": 218,
   "id": "7f90be2d-a662-40c0-afef-c6b2709409c2",
   "metadata": {},
   "outputs": [],
   "source": [
    "data_full.to_csv('/Users/astakettel/Desktop/ISDS/GitHub/isds2024-egne/Webscraping/DR_full_data.csv', index=False)"
   ]
  }
 ],
 "metadata": {
  "kernelspec": {
   "display_name": "Python 3 (ipykernel)",
   "language": "python",
   "name": "python3"
  },
  "language_info": {
   "codemirror_mode": {
    "name": "ipython",
    "version": 3
   },
   "file_extension": ".py",
   "mimetype": "text/x-python",
   "name": "python",
   "nbconvert_exporter": "python",
   "pygments_lexer": "ipython3",
   "version": "3.12.4"
  }
 },
 "nbformat": 4,
 "nbformat_minor": 5
}
